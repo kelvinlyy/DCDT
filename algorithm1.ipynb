{
 "cells": [
  {
   "cell_type": "code",
   "execution_count": 1,
   "metadata": {},
   "outputs": [],
   "source": [
    "import tensorflow as tf\n",
    "import numpy as np\n",
    "import random\n",
    "from math import pi"
   ]
  },
  {
   "cell_type": "code",
   "execution_count": 12,
   "metadata": {},
   "outputs": [
    {
     "name": "stdout",
     "output_type": "stream",
     "text": [
      "232.62938395368872\n"
     ]
    }
   ],
   "source": [
    "s = np.random.standard_cauchy(1000)\n",
    "print(max(s))"
   ]
  },
  {
   "cell_type": "code",
   "execution_count": 2,
   "metadata": {},
   "outputs": [
    {
     "name": "stdout",
     "output_type": "stream",
     "text": [
      "WARNING:tensorflow:No training configuration found in the save file, so the model was *not* compiled. Compile it manually.\n"
     ]
    }
   ],
   "source": [
    "# load model\n",
    "model = tf.keras.models.load_model('./alexnet-cifar10_origin.h5')"
   ]
  },
  {
   "cell_type": "code",
   "execution_count": 5,
   "metadata": {},
   "outputs": [],
   "source": [
    "# load datasets\n",
    "(x_train, y_train), (x_test, y_test) = tf.keras.datasets.cifar10.load_data()"
   ]
  },
  {
   "cell_type": "code",
   "execution_count": 9,
   "metadata": {},
   "outputs": [],
   "source": [
    "# level: {\"input\", \"weight\", \"input_weight\"}\n",
    "# return: Population[2]\n",
    "#     [0]: processed input\n",
    "#     [1]: processed weight\n",
    "def initPopulation(x, theta, n, level, mutate_scale):\n",
    "    # input level\n",
    "    if level == \"input\":\n",
    "        processed_x = x + np.random.standard_cauchy(x.shape) * mutate_scale\n",
    "        return [processed_x, theta]\n",
    "        \n",
    "    # weight level\n",
    "    elif level == \"weight\":\n",
    "        processed_theta = theta + np.random.standard_cauchy(theta.shape) * mutate_scale\n",
    "        return [x, processed_theta]\n",
    "        \n",
    "    # input and weight level\n",
    "    elif level == \"input_weight\":\n",
    "        processed_x = x + np.random.standard_cauchy(x.shape) * mutate_scale\n",
    "        processed_theta = theta + np.random.standard_cauchy(theta.shape) * mutate_scale\n",
    "        return [processed_x, processed_theta]\n",
    "    else:\n",
    "        raise Exception(\"'level' parameters out of scope: {'input', 'weight', 'input_weight'}\")"
   ]
  },
  {
   "cell_type": "code",
   "execution_count": null,
   "metadata": {},
   "outputs": [],
   "source": [
    "# return: layers[n]\n",
    "def computeLayers(phi, x, theta):\n",
    "    layers = None\n",
    "    return layers"
   ]
  },
  {
   "cell_type": "code",
   "execution_count": null,
   "metadata": {},
   "outputs": [],
   "source": [
    "def computeAverage(layer):\n",
    "    average_x = None\n",
    "    return average_x"
   ]
  },
  {
   "cell_type": "code",
   "execution_count": 8,
   "metadata": {},
   "outputs": [],
   "source": [
    "# Population: \n",
    "#     [0]: inputs\n",
    "#     [1]: weights\n",
    "def computeFitness(P, phi, fitness_func):\n",
    "    x = P[0]\n",
    "    theta = P[1]\n",
    "    if fitness_func == \"nan\":\n",
    "        layers = computeLayers(phi, x, theta)\n",
    "        for l in layers:\n",
    "            \n",
    "    "
   ]
  },
  {
   "cell_type": "code",
   "execution_count": 10,
   "metadata": {},
   "outputs": [],
   "source": [
    "def selectParents(P):\n",
    "    return None"
   ]
  },
  {
   "cell_type": "code",
   "execution_count": 11,
   "metadata": {},
   "outputs": [],
   "source": [
    "def crossover(x1, x2, r1):\n",
    "    return None"
   ]
  },
  {
   "cell_type": "code",
   "execution_count": 12,
   "metadata": {},
   "outputs": [],
   "source": [
    "def checkFailed(P):\n",
    "    return None"
   ]
  },
  {
   "cell_type": "code",
   "execution_count": 14,
   "metadata": {},
   "outputs": [],
   "source": [
    "def mutate(x):\n",
    "    return None"
   ]
  },
  {
   "cell_type": "code",
   "execution_count": 23,
   "metadata": {},
   "outputs": [],
   "source": [
    "def select(P, m, Fit):\n",
    "    return None"
   ]
  },
  {
   "cell_type": "code",
   "execution_count": 24,
   "metadata": {},
   "outputs": [],
   "source": [
    "# configure parameters\n",
    "f = None     # A DNN\n",
    "theta = None # Weights of the DNN\n",
    "x = None     # input to the DNN\n",
    "phi = None   # the targeted DL frameworks\n",
    "r1 = None    # Crossover rate\n",
    "r2 = None    # Mutation rate\n",
    "maxIter = 10    # Maximum iterations\n",
    "n = None     # Size of population\n",
    "m = None     # Number of selected parents\n",
    "\n",
    "\n",
    "# Algorithm starts\n",
    "def algo_1():\n",
    "    iteration = 0\n",
    "    F = {}      # A set of failed test casses\n",
    "    P = initPopulation(x, theta, n)\n",
    "\n",
    "    while iteration < maxIter:\n",
    "        iteration += 1\n",
    "        Fit = computeFitness(P, phi)\n",
    "        P_prime = select(P, m, Fit)\n",
    "        P_2prime = P_prime\n",
    "        while len(P_2prime) < n:\n",
    "            x1, x2 = selectParents(P_prime)\n",
    "            x_prime = crossover(x1, x2, r1)\n",
    "            r = random.uniform(0, 1)     # = U(0, 1)\n",
    "            if r < r2:\n",
    "                x_2prime = mutate(x_prime)\n",
    "                P_2prime = P_2prime.union(x_2prime)\n",
    "        X = checkFailed(P_2prime)\n",
    "        if X != {}:\n",
    "            F = F.union(X)\n",
    "\n",
    "            return F\n"
   ]
  },
  {
   "cell_type": "code",
   "execution_count": 25,
   "metadata": {},
   "outputs": [
    {
     "ename": "TypeError",
     "evalue": "object of type 'NoneType' has no len()",
     "output_type": "error",
     "traceback": [
      "\u001b[1;31m---------------------------------------------------------------------------\u001b[0m",
      "\u001b[1;31mTypeError\u001b[0m                                 Traceback (most recent call last)",
      "\u001b[1;32m<ipython-input-25-d756548177ba>\u001b[0m in \u001b[0;36m<module>\u001b[1;34m\u001b[0m\n\u001b[1;32m----> 1\u001b[1;33m \u001b[0malgo_1\u001b[0m\u001b[1;33m(\u001b[0m\u001b[1;33m)\u001b[0m\u001b[1;33m\u001b[0m\u001b[1;33m\u001b[0m\u001b[0m\n\u001b[0m",
      "\u001b[1;32m<ipython-input-24-6dc10e55e077>\u001b[0m in \u001b[0;36malgo_1\u001b[1;34m()\u001b[0m\n\u001b[0;32m     22\u001b[0m         \u001b[0mP_prime\u001b[0m \u001b[1;33m=\u001b[0m \u001b[0mselect\u001b[0m\u001b[1;33m(\u001b[0m\u001b[0mP\u001b[0m\u001b[1;33m,\u001b[0m \u001b[0mm\u001b[0m\u001b[1;33m,\u001b[0m \u001b[0mFit\u001b[0m\u001b[1;33m)\u001b[0m\u001b[1;33m\u001b[0m\u001b[1;33m\u001b[0m\u001b[0m\n\u001b[0;32m     23\u001b[0m         \u001b[0mP_2prime\u001b[0m \u001b[1;33m=\u001b[0m \u001b[0mP_prime\u001b[0m\u001b[1;33m\u001b[0m\u001b[1;33m\u001b[0m\u001b[0m\n\u001b[1;32m---> 24\u001b[1;33m         \u001b[1;32mwhile\u001b[0m \u001b[0mlen\u001b[0m\u001b[1;33m(\u001b[0m\u001b[0mP_2prime\u001b[0m\u001b[1;33m)\u001b[0m \u001b[1;33m<\u001b[0m \u001b[0mn\u001b[0m\u001b[1;33m:\u001b[0m\u001b[1;33m\u001b[0m\u001b[1;33m\u001b[0m\u001b[0m\n\u001b[0m\u001b[0;32m     25\u001b[0m             \u001b[0mx1\u001b[0m\u001b[1;33m,\u001b[0m \u001b[0mx2\u001b[0m \u001b[1;33m=\u001b[0m \u001b[0mselectParents\u001b[0m\u001b[1;33m(\u001b[0m\u001b[0mP_prime\u001b[0m\u001b[1;33m)\u001b[0m\u001b[1;33m\u001b[0m\u001b[1;33m\u001b[0m\u001b[0m\n\u001b[0;32m     26\u001b[0m             \u001b[0mx_prime\u001b[0m \u001b[1;33m=\u001b[0m \u001b[0mcrossover\u001b[0m\u001b[1;33m(\u001b[0m\u001b[0mx1\u001b[0m\u001b[1;33m,\u001b[0m \u001b[0mx2\u001b[0m\u001b[1;33m,\u001b[0m \u001b[0mr1\u001b[0m\u001b[1;33m)\u001b[0m\u001b[1;33m\u001b[0m\u001b[1;33m\u001b[0m\u001b[0m\n",
      "\u001b[1;31mTypeError\u001b[0m: object of type 'NoneType' has no len()"
     ]
    }
   ],
   "source": [
    "algo_1()"
   ]
  },
  {
   "cell_type": "code",
   "execution_count": null,
   "metadata": {},
   "outputs": [],
   "source": []
  }
 ],
 "metadata": {
  "kernelspec": {
   "display_name": "Python 3",
   "language": "python",
   "name": "python3"
  },
  "language_info": {
   "codemirror_mode": {
    "name": "ipython",
    "version": 3
   },
   "file_extension": ".py",
   "mimetype": "text/x-python",
   "name": "python",
   "nbconvert_exporter": "python",
   "pygments_lexer": "ipython3",
   "version": "3.8.3"
  }
 },
 "nbformat": 4,
 "nbformat_minor": 4
}
