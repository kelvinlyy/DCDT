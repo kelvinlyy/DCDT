{
 "cells": [
  {
   "cell_type": "markdown",
   "id": "e5b3cc38",
   "metadata": {},
   "source": [
    "# Differential Coverage-Directed DL Framework Testing Demo\n",
    "\n",
    "## FYP21-22 SC3\n",
    "\n",
    "\n",
    "## System Overview\n",
    "\n",
    "1. Coverage GA\n",
    "\n",
    "1. Detection GA\n",
    "\n",
    "1. Localization\n",
    "    1. Inconsistency Localization\n",
    "    1. NaN Inconsistency Localization"
   ]
  },
  {
   "cell_type": "markdown",
   "id": "933b4dab",
   "metadata": {},
   "source": [
    "## 1. Coverage GA"
   ]
  },
  {
   "cell_type": "code",
   "execution_count": 7,
   "id": "3d6b81e8",
   "metadata": {},
   "outputs": [],
   "source": [
    "import matplotlib.pyplot as plt\n",
    "import os\n",
    "os.environ['KERAS_BACKEND'] = 'tensorflow'\n",
    "os.environ['CUDA_VISIBLE_DEVICES'] = ''\n",
    "import keras\n",
    "from coverage_GA.COV_GA import Cov_GA, cov_ga_main\n",
    "import numpy as np"
   ]
  },
  {
   "cell_type": "code",
   "execution_count": 2,
   "id": "db22c8d8",
   "metadata": {},
   "outputs": [],
   "source": [
    "a = ['Conv2D', 'Flatten', 'Dense']\n",
    "sl = [[0,0,0,0], [], [0]]\n",
    "\n",
    "(x_train, y_train), (x_test, y_test) = keras.datasets.cifar10.load_data()\n",
    "x = x_test[0]"
   ]
  },
  {
   "cell_type": "code",
   "execution_count": 3,
   "id": "24ac16fb",
   "metadata": {},
   "outputs": [],
   "source": [
    "ga = Cov_GA(a, sl, x)\n",
    "ga.initPopulation(5)"
   ]
  },
  {
   "cell_type": "code",
   "execution_count": 4,
   "id": "575a2f17",
   "metadata": {},
   "outputs": [
    {
     "name": "stdout",
     "output_type": "stream",
     "text": [
      "Continuing from the previous populations...\n",
      "Average fitness value: 3900.0\n",
      "Time taken: 96.04044389724731\n",
      "\n",
      "Average fitness value: 4149.4\n",
      "Time taken: 97.49125742912292\n",
      "\n",
      "Average fitness value: 4427.8\n",
      "Time taken: 101.14002990722656\n",
      "\n",
      "WARNING:tensorflow:Large dropout rate: 0.6 (>0.5). In TensorFlow 2.x, dropout() uses dropout rate instead of keep_prob. Please ensure that this is intended.\n",
      "WARNING:tensorflow:Large dropout rate: 0.6 (>0.5). In TensorFlow 2.x, dropout() uses dropout rate instead of keep_prob. Please ensure that this is intended.\n",
      "Average fitness value: 3857.8\n",
      "Time taken: 79.34137034416199\n",
      "\n",
      "WARNING:tensorflow:Large dropout rate: 0.6 (>0.5). In TensorFlow 2.x, dropout() uses dropout rate instead of keep_prob. Please ensure that this is intended.\n",
      "WARNING:tensorflow:Large dropout rate: 0.6 (>0.5). In TensorFlow 2.x, dropout() uses dropout rate instead of keep_prob. Please ensure that this is intended.\n",
      "WARNING:tensorflow:Large dropout rate: 0.6 (>0.5). In TensorFlow 2.x, dropout() uses dropout rate instead of keep_prob. Please ensure that this is intended.\n",
      "Average fitness value: 5229.2\n",
      "Time taken: 104.91035866737366\n",
      "\n",
      "Average fitness value: 4570.4\n",
      "Time taken: 85.846999168396\n",
      "\n",
      "Average fitness value: 5763.2\n",
      "Time taken: 113.80778861045837\n",
      "\n",
      "Average fitness value: 5882.8\n",
      "Time taken: 106.62946724891663\n",
      "\n",
      "Average fitness value: 4787.6\n",
      "Time taken: 108.51917600631714\n",
      "\n",
      "Average fitness value: 3583.2\n",
      "Time taken: 85.07545328140259\n",
      "\n",
      "\n",
      "Total time taken: 978.8074171543121\n"
     ]
    },
    {
     "data": {
      "text/plain": [
       "<coverage_GA.COV_GA.Cov_GA at 0x7f2e901d55c0>"
      ]
     },
     "execution_count": 4,
     "metadata": {},
     "output_type": "execute_result"
    }
   ],
   "source": [
    "cov_ga_main(a, sl, x, m=2, r=0.3, n=5, maxIter=10, ga=ga)"
   ]
  },
  {
   "cell_type": "code",
   "execution_count": 5,
   "id": "36323ebf",
   "metadata": {},
   "outputs": [
    {
     "data": {
      "text/plain": [
       "[[3958, 3867, 3888, 3888, 3899],\n",
       " [3886, 3958, 4259, 4151, 4493],\n",
       " [4246, 4429, 4377, 4528, 4559],\n",
       " [4515, 4546, 4496, 5732, 0],\n",
       " [4546, 5616, 5674, 5610, 4700],\n",
       " [5606, 5651, 5859, 0, 5736],\n",
       " [5723, 5846, 5807, 5603, 5837],\n",
       " [5837, 5846, 5884, 5864, 5983],\n",
       " [5884, 5983, 0, 6047, 6024],\n",
       " [6024, 6034, 0, 5858, 0]]"
      ]
     },
     "execution_count": 5,
     "metadata": {},
     "output_type": "execute_result"
    }
   ],
   "source": [
    "ga.fit_hist"
   ]
  },
  {
   "cell_type": "code",
   "execution_count": 9,
   "id": "f5d40bb0",
   "metadata": {},
   "outputs": [
    {
     "data": {
      "text/plain": [
       "[<matplotlib.lines.Line2D at 0x7f2c191fd978>]"
      ]
     },
     "execution_count": 9,
     "metadata": {},
     "output_type": "execute_result"
    },
    {
     "data": {
      "image/png": "[encoded data removed]",
      "text/plain": [
       "<Figure size 432x288 with 1 Axes>"
      ]
     },
     "metadata": {
      "needs_background": "light"
     },
     "output_type": "display_data"
    }
   ],
   "source": [
    "plt.plot(np.max(np.nan_to_num(ga.fit_hist, -1), axis=1))"
   ]
  },
  {
   "cell_type": "markdown",
   "id": "ac934dd8",
   "metadata": {},
   "source": [
    "## 2. Detection GA"
   ]
  },
  {
   "cell_type": "code",
   "execution_count": 1,
   "id": "2678b628",
   "metadata": {},
   "outputs": [
    {
     "name": "stderr",
     "output_type": "stream",
     "text": [
      "Using TensorFlow backend.\n"
     ]
    }
   ],
   "source": [
    "import os\n",
    "import cv2\n",
    "import redis\n",
    "import numpy as np\n",
    "import tensorflow as tf\n",
    "from detection_GA.GA_keras import GA, ga_main"
   ]
  },
  {
   "cell_type": "code",
   "execution_count": 2,
   "id": "acd332ba",
   "metadata": {},
   "outputs": [
    {
     "name": "stdout",
     "output_type": "stream",
     "text": [
      "Configured\n"
     ]
    }
   ],
   "source": [
    "import configRedis\n",
    "configRedis.config()"
   ]
  },
  {
   "cell_type": "code",
   "execution_count": 3,
   "id": "2fffdabc",
   "metadata": {},
   "outputs": [
    {
     "name": "stderr",
     "output_type": "stream",
     "text": [
      "/data/yylaiai/anaconda3/envs/audee_test/lib/python3.6/site-packages/keras/engine/saving.py:341: UserWarning: No training configuration found in save file: the model was *not* compiled. Compile it manually.\n",
      "  warnings.warn('No training configuration found in save file: '\n",
      "/data/yylaiai/anaconda3/envs/audee_test/lib/python3.6/site-packages/ipykernel_launcher.py:5: UserWarning: Update your `Model` call to the Keras 2 API: `Model(inputs=Tensor(\"co..., outputs=Tensor(\"so...)`\n",
      "  \"\"\"\n"
     ]
    }
   ],
   "source": [
    "# load model\n",
    "\n",
    "model = keras.models.load_model('external_models/alexnet-cifar10_origin.h5')\n",
    "new_output = keras.layers.Softmax()(keras.layers.Dense(10, name=\"dense_3\")(model.layers[-2].output)) # without specifying activation \n",
    "new_model = keras.models.Model(input=model.input, output=new_output)\n",
    "new_model.layers[-2].set_weights(model.layers[-1].get_weights())\n",
    "model = new_model\n",
    "\n",
    "# model = keras.applications.ResNet50()\n",
    "# new_output = keras.layers.Softmax()(keras.layers.Dense(1000)(model.layers[-2].output)) # without specifying activation \n",
    "# new_model = keras.models.Model(input=model.input, output=new_output)\n",
    "# new_model.layers[-2].set_weights(model.layers[-1].get_weights())\n",
    "# model = new_model\n",
    "\n",
    "# model = keras.applications.MobileNetV2()\n",
    "# new_output = keras.layers.Softmax()(keras.layers.Dense(1000)(model.layers[-2].output)) # without specifying activation \n",
    "# new_model = keras.models.Model(input=model.input, output=new_output)\n",
    "# new_model.layers[-2].set_weights(model.layers[-1].get_weights())\n",
    "# model = new_model\n",
    "\n",
    "# model = keras.applications.VGG16()\n",
    "# new_output = keras.layers.Softmax()(keras.layers.Dense(1000)(model.layers[-2].output)) # without specifying activation \n",
    "# new_model = keras.models.Model(input=model.input, output=new_output)\n",
    "# new_model.layers[-2].set_weights(model.layers[-1].get_weights())\n",
    "# model = new_model"
   ]
  },
  {
   "cell_type": "code",
   "execution_count": 4,
   "id": "080f12eb",
   "metadata": {},
   "outputs": [
    {
     "name": "stdout",
     "output_type": "stream",
     "text": [
      "(10000, 224, 224, 3)\n"
     ]
    }
   ],
   "source": [
    "# load inputs\n",
    "(x_train, y_train), (x_test, y_test) = tf.keras.datasets.cifar10.load_data()\n",
    "\n",
    "# expand cifar10 images from 32x32 to 224x224\n",
    "x_test_224 = np.array([cv2.resize(i, (224, 224)) for i in x_test])\n",
    "print(x_test_224.shape)"
   ]
  },
  {
   "cell_type": "code",
   "execution_count": 5,
   "id": "ef6a7fdd",
   "metadata": {},
   "outputs": [],
   "source": [
    "mut_level = 'i+w'\n",
    "model = model\n",
    "x = x_test[0]/255\n",
    "input_scale = 255 # image scale\n",
    "init_noise = 0 # scale of Cauchy noise added in initialization\n",
    "r1 = 0.5 # crossover rate\n",
    "r2 = 0.3 # mutation rate\n",
    "r3 = 0.1 # mutation scale (larger scale can trigger NaN inconsistency easier, smaller scale can increase layer distance easier)\n",
    "m = 3 # top m chromosomes selected\n",
    "n = 6 # population size\n",
    "layer_idx = -2 # index of layer used in calculation of fitness values\n",
    "db_flag = 2\n",
    "maxIter = 5\n",
    "dynamicWeightMutDecay = np.inf\n",
    "\n",
    "r = redis.Redis(db=db_flag)\n",
    "r.flushdb()\n",
    "\n",
    "fit = ['inc', ['tensorflow', 'theano']]"
   ]
  },
  {
   "cell_type": "code",
   "execution_count": 6,
   "id": "e1aaa4d2",
   "metadata": {},
   "outputs": [
    {
     "data": {
      "text/plain": [
       "[[3072, 3072, 0.1],\n",
       " [3072, 5760, 0.1],\n",
       " [5760, 5760, 0.1],\n",
       " [5760, 6144, 0],\n",
       " [6144, 620800, 0.1],\n",
       " [620800, 620800, 0.1],\n",
       " [620800, 621824, 0],\n",
       " [621824, 1506944, 0.1],\n",
       " [1506944, 2834432, 0.1],\n",
       " [2834432, 3719424, 0.1],\n",
       " [3719424, 3719424, 0.1],\n",
       " [3719424, 3720448, 0],\n",
       " [3720448, 3720448, 0.1],\n",
       " [3720448, 4773120, 0.1],\n",
       " [4773120, 4773120, 0.1],\n",
       " [4773120, 21554432, 0.1],\n",
       " [21554432, 21554432, 0.1],\n",
       " [21554432, 21595402, 0.1],\n",
       " [21595402, 21595402, 0.1]]"
      ]
     },
     "execution_count": 6,
     "metadata": {},
     "output_type": "execute_result"
    }
   ],
   "source": [
    "ga_inc = GA(fit, mut_level, model, x, input_scale, db_flag)\n",
    "ga_inc.initPopulation(init_noise, n)\n",
    "ga_inc.initDynamicWeightMutation(r3)"
   ]
  },
  {
   "cell_type": "code",
   "execution_count": 7,
   "id": "f384e4dd",
   "metadata": {
    "scrolled": true
   },
   "outputs": [
    {
     "name": "stdout",
     "output_type": "stream",
     "text": [
      "Continuing from the previous populations...\n",
      "\n",
      "Running at iteration 1:\n",
      "Average fitness value: 170.12336425781248\n",
      "Time taken: 102.31689882278442\n",
      "\n",
      "Running at iteration 2:\n",
      "Average fitness value: 3.63286621339577e+19\n",
      "Time taken: 101.36361455917358\n",
      "\n",
      "Running at iteration 3:\n",
      "Average fitness value: 2.2774815910001333e+21\n",
      "Time taken: 98.87646913528442\n",
      "\n",
      "Running at iteration 4:\n",
      "Average fitness value: 1.976032871780307e+22\n",
      "Time taken: 98.28308248519897\n",
      "\n",
      "Running at iteration 5:\n",
      "Average fitness value: 3.76303026569268e+23\n",
      "Time taken: 101.69381880760193\n",
      "\n",
      "Running at iteration 6:\n",
      "Average fitness value: 1.4042025912103168e+24\n",
      "Time taken: 102.27084541320801\n",
      "\n",
      "Running at iteration 7:\n",
      "Average fitness value: 1.5678057863383035e+25\n",
      "Time taken: 99.83339619636536\n",
      "\n",
      "Running at iteration 8:\n",
      "Average fitness value: 4.926622299376932e+25\n",
      "Time taken: 102.26488828659058\n",
      "\n",
      "Running at iteration 9:\n",
      "Average fitness value: 8.180348670274019e+25\n",
      "Time taken: 104.95323753356934\n",
      "\n",
      "Running at iteration 10:\n",
      "Average fitness value: 3.408564540622528e+26\n",
      "Time taken: 92.85399222373962\n",
      "\n",
      "\n",
      "Total time taken: 1004.7156031131744\n"
     ]
    }
   ],
   "source": [
    "ga_inc = ga_main(fit, mut_level, model, x, input_scale, init_noise, r1, r2, r3, m, n, layer_idx, db_flag, maxIter, dynamicWeightMutDecay, ga_inc)"
   ]
  },
  {
   "cell_type": "code",
   "execution_count": 9,
   "id": "398a95dd",
   "metadata": {},
   "outputs": [
    {
     "data": {
      "text/plain": [
       "[<matplotlib.lines.Line2D at 0x7fe23c333710>]"
      ]
     },
     "execution_count": 9,
     "metadata": {},
     "output_type": "execute_result"
    },
    {
     "data": {
      "image/png": "[encoded data removed]",
      "text/plain": [
       "<Figure size 432x288 with 1 Axes>"
      ]
     },
     "metadata": {
      "needs_background": "light"
     },
     "output_type": "display_data"
    }
   ],
   "source": [
    "plt.plot(np.max(np.nan_to_num(ga_inc.fit_hist, -1), axis=1))"
   ]
  },
  {
   "cell_type": "code",
   "execution_count": 10,
   "id": "312b89fb",
   "metadata": {},
   "outputs": [
    {
     "data": {
      "text/plain": [
       "array([9.74862389e+25, 9.98086914e+25, 1.45713606e+26, 3.65732910e+26,\n",
       "       2.64055283e+26, 1.07234199e+27])"
      ]
     },
     "execution_count": 10,
     "metadata": {},
     "output_type": "execute_result"
    }
   ],
   "source": [
    "ga_inc.fit_hist[-1]"
   ]
  },
  {
   "cell_type": "code",
   "execution_count": 31,
   "id": "96aefd65",
   "metadata": {},
   "outputs": [],
   "source": [
    "mut_level = 'i+w'\n",
    "model = model\n",
    "x = x_test[0]/255\n",
    "input_scale = 255 # image scale\n",
    "init_noise = 0 # scale of Cauchy noise added in initialization\n",
    "r1 = 0.5 # crossover rate\n",
    "r2 = 0.3 # mutation rate\n",
    "r3 = 20 # mutation scale (larger scale can trigger NaN inconsistency easier, smaller scale can increase layer distance easier)\n",
    "m = 3 # top m chromosomes selected\n",
    "n = 6 # population size\n",
    "layer_idx = -2 # index of layer used in calculation of fitness values\n",
    "db_flag = 2\n",
    "maxIter = 10\n",
    "dynamicWeightMutDecay = np.inf\n",
    "\n",
    "r = redis.Redis(db=db_flag)\n",
    "r.flushdb()\n",
    "\n",
    "fit = ['inc', ['tensorflow', 'theano']]"
   ]
  },
  {
   "cell_type": "code",
   "execution_count": 32,
   "id": "4d66496a",
   "metadata": {},
   "outputs": [
    {
     "data": {
      "text/plain": [
       "[[3072, 3072, 20],\n",
       " [3072, 5760, 20],\n",
       " [5760, 5760, 20],\n",
       " [5760, 6144, 0],\n",
       " [6144, 620800, 20],\n",
       " [620800, 620800, 20],\n",
       " [620800, 621824, 0],\n",
       " [621824, 1506944, 20],\n",
       " [1506944, 2834432, 20],\n",
       " [2834432, 3719424, 20],\n",
       " [3719424, 3719424, 20],\n",
       " [3719424, 3720448, 0],\n",
       " [3720448, 3720448, 20],\n",
       " [3720448, 4773120, 20],\n",
       " [4773120, 4773120, 20],\n",
       " [4773120, 21554432, 20],\n",
       " [21554432, 21554432, 20],\n",
       " [21554432, 21595402, 20],\n",
       " [21595402, 21595402, 20]]"
      ]
     },
     "execution_count": 32,
     "metadata": {},
     "output_type": "execute_result"
    }
   ],
   "source": [
    "ga_nan = GA(fit, mut_level, model, x, input_scale, db_flag)\n",
    "ga_nan.initPopulation(init_noise, n)\n",
    "ga_nan.initDynamicWeightMutation(r3)"
   ]
  },
  {
   "cell_type": "code",
   "execution_count": 33,
   "id": "de1520e4",
   "metadata": {
    "scrolled": true
   },
   "outputs": [
    {
     "name": "stdout",
     "output_type": "stream",
     "text": [
      "Continuing from the previous populations...\n",
      "\n",
      "Running at iteration 1:\n",
      "Average fitness value: 170.12336425781248\n",
      "Time taken: 104.15072274208069\n",
      "\n",
      "Running at iteration 2:\n",
      "Average fitness value: nan\n",
      "Time taken: 98.91877341270447\n",
      "\n",
      "Running at iteration 3:\n",
      "Average fitness value: nan\n",
      "Time taken: 104.75501346588135\n",
      "\n",
      "Running at iteration 4:\n",
      "Average fitness value: nan\n",
      "Time taken: 104.70004725456238\n",
      "\n",
      "Running at iteration 5:\n",
      "Average fitness value: nan\n",
      "Time taken: 105.17480039596558\n",
      "\n",
      "Running at iteration 6:\n",
      "Average fitness value: nan\n",
      "Time taken: 99.77638792991638\n",
      "\n",
      "Running at iteration 7:\n",
      "Average fitness value: nan\n",
      "Time taken: 97.55729293823242\n",
      "\n",
      "Running at iteration 8:\n",
      "Average fitness value: nan\n",
      "Time taken: 105.62516832351685\n",
      "\n",
      "Running at iteration 9:\n",
      "Average fitness value: nan\n",
      "Time taken: 106.11227130889893\n",
      "\n",
      "Running at iteration 10:\n",
      "Average fitness value: nan\n",
      "Time taken: 95.303701877594\n",
      "\n",
      "\n",
      "Total time taken: 1022.0787642002106\n"
     ]
    }
   ],
   "source": [
    "ga_nan = ga_main(fit, mut_level, model, x, input_scale, init_noise, r1, r2, r3, m, n, layer_idx, db_flag, maxIter, dynamicWeightMutDecay, ga_nan)"
   ]
  },
  {
   "cell_type": "code",
   "execution_count": 35,
   "id": "704687c4",
   "metadata": {},
   "outputs": [
    {
     "data": {
      "text/plain": [
       "[[[['nan', 'tensorflow', [17, 18]], ['nan', 'theano', [17, 18]]],\n",
       "  array([ 6.19607843e-01,  4.39215686e-01,  1.92156863e-01, ...,\n",
       "         -3.41296792e-02, -5.36657404e+01, -1.82542689e-02])],\n",
       " [[['nan', 'tensorflow', [17, 18]], ['nan', 'theano', [17, 18]]],\n",
       "  array([ 0.61960784,  0.43921569,  1.        , ..., -0.03412968,\n",
       "         -0.02668719, -0.01825427])],\n",
       " [[['nan', 'tensorflow', [17, 18]], ['nan', 'theano', [17, 18]]],\n",
       "  array([ 6.19607843e-01,  4.39215686e-01,  1.00000000e+00, ...,\n",
       "         -3.41296792e-02,  1.83795551e+01, -1.82542689e-02])],\n",
       " [[['nan', 'tensorflow', [17, 18]], ['nan', 'theano', [17, 18]]],\n",
       "  array([ 6.19607843e-01,  4.39215686e-01,  1.92156863e-01, ...,\n",
       "         -3.41296792e-02, -5.36657404e+01, -1.82542689e-02])],\n",
       " [[['nan', 'tensorflow', [17, 18]], ['nan', 'theano', [17, 18]]],\n",
       "  array([ 6.19607843e-01,  4.39215686e-01,  1.00000000e+00, ...,\n",
       "         -3.41296792e-02,  1.83795551e+01, -1.82542689e-02])],\n",
       " [[['nan', 'tensorflow', [17, 18]], ['nan', 'theano', [17, 18]]],\n",
       "  array([ 6.19607843e-01,  4.39215686e-01,  0.00000000e+00, ...,\n",
       "         -3.41296792e-02, -5.36657404e+01, -1.82542689e-02])],\n",
       " [[['nan', 'tensorflow', [17, 18]], ['nan', 'theano', [17, 18]]],\n",
       "  array([ 6.19607843e-01,  1.00000000e+00,  0.00000000e+00, ...,\n",
       "          1.51228273e+00,  1.83795551e+01, -1.82542689e-02])],\n",
       " [[['nan', 'tensorflow', [17, 18]], ['nan', 'theano', [17, 18]]],\n",
       "  array([ 6.19607843e-01,  0.00000000e+00,  1.92156863e-01, ...,\n",
       "         -3.41296792e-02,  3.73097303e+01,  2.94679653e+02])],\n",
       " [[['nan', 'tensorflow', [17, 18]], ['nan', 'theano', [17, 18]]],\n",
       "  array([ 6.19607843e-01,  4.39215686e-01,  0.00000000e+00, ...,\n",
       "         -3.41296792e-02, -5.36657404e+01, -1.82542689e-02])],\n",
       " [[['nan', 'tensorflow', [17, 18]], ['nan', 'theano', [17, 18]]],\n",
       "  array([ 6.19607843e-01,  0.00000000e+00,  1.92156863e-01, ...,\n",
       "         -3.41296792e-02,  3.73097303e+01,  2.94679653e+02])],\n",
       " [[['nan', 'tensorflow', [17, 18]], ['nan', 'theano', [15, 16, 17, 18]]],\n",
       "  array([ 6.19607843e-01,  4.39215686e-01,  0.00000000e+00, ...,\n",
       "         -3.41296792e-02,  3.73097303e+01,  2.94679653e+02])],\n",
       " [[['nan', 'tensorflow', [17, 18]], ['nan', 'theano', [15, 16, 17, 18]]],\n",
       "  array([ 6.19607843e-01,  0.00000000e+00,  1.00000000e+00, ...,\n",
       "         -3.41296792e-02,  3.73097303e+01, -1.82542689e-02])],\n",
       " [[['nan', 'tensorflow', [17, 18]], ['nan', 'theano', [15, 16, 17, 18]]],\n",
       "  array([ 6.19607843e-01,  4.39215686e-01,  1.92156863e-01, ...,\n",
       "         -3.41296792e-02,  3.73097303e+01, -1.82542689e-02])],\n",
       " [[['nan', 'tensorflow', [17, 18]], ['nan', 'theano', [15, 16, 17, 18]]],\n",
       "  array([ 6.19607843e-01,  4.39215686e-01,  0.00000000e+00, ...,\n",
       "         -3.41296792e-02,  3.73097303e+01,  2.94679653e+02])],\n",
       " [[['nan', 'tensorflow', [17, 18]], ['nan', 'theano', [15, 16, 17, 18]]],\n",
       "  array([ 6.19607843e-01,  4.39215686e-01,  1.92156863e-01, ...,\n",
       "         -3.41296792e-02,  3.73097303e+01, -1.82542689e-02])],\n",
       " [[['nan', 'tensorflow', [17, 18]], ['nan', 'theano', [17, 18]]],\n",
       "  array([ 0.61960784,  0.43921569,  0.19215686, ..., -0.03412968,\n",
       "         -0.02668719, -0.01825427])],\n",
       " [[['nan', 'tensorflow', [15, 16, 17, 18]],\n",
       "   ['nan', 'theano', [15, 16, 17, 18]]],\n",
       "  array([ 6.19607843e-01,  0.00000000e+00,  1.92156863e-01, ...,\n",
       "         -3.41296792e-02,  3.73097303e+01, -1.82542689e-02])],\n",
       " [[['nan', 'tensorflow', [17, 18]], ['nan', 'theano', [15, 16, 17, 18]]],\n",
       "  array([ 0.61960784,  0.43921569,  1.        , ..., -0.03412968,\n",
       "         -0.02668719, -0.01825427])],\n",
       " [[['nan', 'tensorflow', [17, 18]], ['nan', 'theano', [17, 18]]],\n",
       "  array([ 0.61960784,  0.43921569,  0.19215686, ..., -0.03412968,\n",
       "         -0.02668719, -0.01825427])],\n",
       " [[['nan', 'tensorflow', [17, 18]], ['nan', 'theano', [15, 16, 17, 18]]],\n",
       "  array([ 0.61960784,  0.43921569,  1.        , ..., -0.03412968,\n",
       "         -0.02668719, -0.01825427])],\n",
       " [[['nan', 'tensorflow', [17, 18]], ['nan', 'theano', [15, 16, 17, 18]]],\n",
       "  array([ 0.61960784,  0.43921569,  0.19215686, ..., -0.03412968,\n",
       "         -0.02668719, -0.01825427])],\n",
       " [[['nan', 'tensorflow', [15, 16, 17, 18]],\n",
       "   ['nan', 'theano', [15, 16, 17, 18]]],\n",
       "  array([ 0.        ,  0.43921569,  1.        , ..., -0.03412968,\n",
       "         -0.02668719, -0.01825427])],\n",
       " [[['nan', 'tensorflow', [17, 18]], ['nan', 'theano', [17, 18]]],\n",
       "  array([ 0.        ,  0.43921569,  0.        , ..., -0.03412968,\n",
       "         -0.02668719, -0.01825427])],\n",
       " [[['nan', 'tensorflow', [17, 18]], ['nan', 'theano', [15, 16, 17, 18]]],\n",
       "  array([ 0.61960784,  0.43921569,  0.19215686, ..., -0.03412968,\n",
       "         -0.02668719, -0.01825427])],\n",
       " [[['nan', 'tensorflow', [17, 18]], ['nan', 'theano', [17, 18]]],\n",
       "  array([ 0.        ,  0.43921569,  0.        , ..., -0.03412968,\n",
       "         -0.02668719, -0.01825427])],\n",
       " [[['nan', 'tensorflow', [15, 16, 17, 18]],\n",
       "   ['nan', 'theano', [15, 16, 17, 18]]],\n",
       "  array([ 0.61960784,  0.43921569,  0.        , ..., -0.03412968,\n",
       "         -0.02668719, -0.01825427])],\n",
       " [[['nan', 'tensorflow', [17, 18]], ['nan', 'theano', [15, 16, 17, 18]]],\n",
       "  array([ 0.        ,  0.43921569,  0.        , ..., -0.03412968,\n",
       "         -0.02668719, -0.01825427])],\n",
       " [[['nan', 'tensorflow', [17, 18]], ['nan', 'theano', [15, 16, 17, 18]]],\n",
       "  array([ 0.61960784,  1.        ,  0.19215686, ..., -0.03412968,\n",
       "         -0.02668719, -0.01825427])],\n",
       " [[['nan', 'tensorflow', [15, 16, 17, 18]],\n",
       "   ['nan', 'theano', [15, 16, 17, 18]]],\n",
       "  array([ 0.61960784,  0.43921569,  0.        , ..., -0.03412968,\n",
       "         -0.02668719, -0.01825427])],\n",
       " [[['nan', 'tensorflow', [17, 18]], ['nan', 'theano', [15, 16, 17, 18]]],\n",
       "  array([ 0.61960784,  1.        ,  0.19215686, ..., -0.03412968,\n",
       "         -0.02668719, -0.01825427])],\n",
       " [[['nan', 'tensorflow', [17, 18]], ['nan', 'theano', [15, 16, 17, 18]]],\n",
       "  array([ 1.        ,  0.43921569,  0.        , ..., -0.03412968,\n",
       "         -0.02668719, -0.01825427])],\n",
       " [[['nan', 'tensorflow', [18]], ['nan', 'theano', [15, 16, 17, 18]]],\n",
       "  array([ 0.        ,  0.43921569,  0.        , ..., -0.03412968,\n",
       "         -0.02668719, -0.01825427])],\n",
       " [[['nan', 'tensorflow', [17, 18]], ['nan', 'theano', [17, 18]]],\n",
       "  array([ 0.61960784,  0.43921569,  0.        , ..., -0.03412968,\n",
       "         -0.02668719, -0.01825427])],\n",
       " [[['nan', 'tensorflow', [17, 18]], ['nan', 'theano', [15, 16, 17, 18]]],\n",
       "  array([ 1.        ,  0.43921569,  0.        , ..., -0.03412968,\n",
       "         -0.02668719, -0.01825427])],\n",
       " [[['nan', 'tensorflow', [17, 18]], ['nan', 'theano', [17, 18]]],\n",
       "  array([ 0.61960784,  0.43921569,  0.        , ..., -0.03412968,\n",
       "         -0.02668719, -0.01825427])],\n",
       " [[['nan', 'tensorflow', [18]], ['nan', 'theano', [18]]],\n",
       "  array([ 0.        ,  0.        ,  0.19215686, ..., -0.03412968,\n",
       "         -0.02668719, -0.01825427])],\n",
       " [[['nan', 'tensorflow', [17, 18]], ['nan', 'theano', [15, 16, 17, 18]]],\n",
       "  array([ 0.        ,  0.43921569,  0.7210153 , ..., -0.03412968,\n",
       "         -0.02668719, -0.01825427])]]"
      ]
     },
     "execution_count": 35,
     "metadata": {},
     "output_type": "execute_result"
    }
   ],
   "source": [
    "ga_nan.F"
   ]
  },
  {
   "cell_type": "code",
   "execution_count": null,
   "id": "ab722124",
   "metadata": {},
   "outputs": [],
   "source": []
  },
  {
   "cell_type": "markdown",
   "id": "55cc1ebb",
   "metadata": {},
   "source": [
    "## Localization"
   ]
  },
  {
   "cell_type": "code",
   "execution_count": 13,
   "id": "ba0a8a1d",
   "metadata": {},
   "outputs": [],
   "source": [
    "# extract model and input from detection GA\n",
    "def formatP(ga, idx):\n",
    "    formatted_c = ga.formatPopulations(ga.P)[idx]\n",
    "    if ga.mut_level == 'i':\n",
    "        x = formatted_c\n",
    "    elif ga.mut_level == 'w':\n",
    "        x = ga.input\n",
    "        ga.model.set_weights(formatted_c)\n",
    "    elif ga.mut_level == 'i+w':\n",
    "        x = formatted_c[0]\n",
    "        ga.model.set_weights(formatted_c[1])\n",
    "\n",
    "    return x, ga.model"
   ]
  },
  {
   "cell_type": "code",
   "execution_count": 15,
   "id": "6aa621bb",
   "metadata": {},
   "outputs": [],
   "source": [
    "from localization.inc_localization import IncLocalizer\n",
    "from localization.nan_localization import NanLocalizer"
   ]
  },
  {
   "cell_type": "markdown",
   "id": "7688cc1d",
   "metadata": {},
   "source": [
    "### Inconsistency Localization"
   ]
  },
  {
   "cell_type": "code",
   "execution_count": 20,
   "id": "5ef8e543",
   "metadata": {},
   "outputs": [],
   "source": [
    "import importlib\n",
    "import localization.inc_localization\n",
    "importlib.reload(localization.inc_localization)\n",
    "\n",
    "from localization.inc_localization import IncLocalizer"
   ]
  },
  {
   "cell_type": "code",
   "execution_count": 21,
   "id": "96dd77ae",
   "metadata": {},
   "outputs": [],
   "source": [
    "from localization.model_configs import get_configs\n",
    "\n",
    "inc_x, inc_model = formatP(ga_inc, 5)\n",
    "frameworks = ['tensorflow', 'theano']\n",
    "model_config = get_configs(inc_model)\n",
    "model_name = 'alexnet'\n",
    "\n",
    "incL = IncLocalizer(inc_model, frameworks, inc_x, model_name, model_config, db_flag)"
   ]
  },
  {
   "cell_type": "code",
   "execution_count": 38,
   "id": "9b2cbb41",
   "metadata": {},
   "outputs": [
    {
     "name": "stdout",
     "output_type": "stream",
     "text": [
      "Distance of layer between TF and TH:\n",
      "\n",
      "0     InputLayer                     0.0\n",
      "1     Conv2D                         0.025303180019060772\n",
      "2     MaxPooling2D                   0.021129305164019268\n",
      "3     BatchNormalization             0.014197592933972677\n",
      "4     Conv2D                         0.004810093902051449\n",
      "5     MaxPooling2D                   0.0055399201810359955\n",
      "6     BatchNormalization             0.005648587312963273\n",
      "7     Conv2D                         0.001654188252157635\n",
      "8     Conv2D                         0.001463281335654082\n",
      "9     Conv2D                         0.0003547866363078356\n",
      "10    MaxPooling2D                   0.0010434419382363558\n",
      "11    BatchNormalization             0.0013569925213232636\n",
      "12    Flatten                        0.0013569925213232636\n",
      "13    Dense                          0.0015525349881500006\n",
      "14    Dropout                        0.0015525349881500006\n",
      "15    Dense                          0.00014380089123733342\n",
      "16    Dropout                        0.00014380089123733342\n",
      "17    Dense                          nan\n",
      "18    Softmax                        nan\n",
      "\n",
      "---------------------------------------------------------------\n",
      "\n",
      "Rate of change of inconsistencies between layers:\n",
      "\n",
      "1     Conv2D                         253031.80019060773\n",
      "2     MaxPooling2D                   -0.16495390526039924\n",
      "3     BatchNormalization             -0.43889911018343625\n",
      "4     Conv2D                         -0.809898404537753\n",
      "5     MaxPooling2D                   -0.7810552554110479\n",
      "6     BatchNormalization             -0.7767606686284086\n",
      "7     Conv2D                         -0.934621588548541\n",
      "8     Conv2D                         -0.9421663383343295\n",
      "9     Conv2D                         -0.9859746785380985\n",
      "10    MaxPooling2D                   -0.958758629812014\n",
      "11    BatchNormalization             -0.9463669326545422\n",
      "12    Flatten                        -0.9463669326545422\n",
      "13    Dense                          -0.9386389832867355\n",
      "14    Dropout                        -0.9386389832867355\n",
      "15    Dense                          -0.9943129550347254\n",
      "16    Dropout                        -0.9943129550347254\n",
      "17    Dense                          nan\n",
      "18    Softmax                        nan\n"
     ]
    }
   ],
   "source": [
    "# manually analyze rate of change of inconsistencies between layers\n",
    "\n",
    "layers_dist = incL.compute_all_layers_dist()\n",
    "\n",
    "print('Distance of layer between TF and TH:\\n')\n",
    "for i in range(len(model.layers)):\n",
    "    print('{:<5} {:<30} {}'.format(i, model.layers[i].__class__.__name__, layers_dist[i]))\n",
    "\n",
    "print()\n",
    "print('---------------------------------------------------------------')\n",
    "print()\n",
    "\n",
    "print('Rate of change of inconsistencies between layers:\\n')\n",
    "for i in range(1,len(model.layers)):\n",
    "    print('{:<5} {:<30} {}'.format(i, model.layers[i].__class__.__name__, incL.compute_dists_change(i)))"
   ]
  },
  {
   "cell_type": "code",
   "execution_count": 23,
   "id": "20112f1f",
   "metadata": {},
   "outputs": [
    {
     "name": "stdout",
     "output_type": "stream",
     "text": [
      "Distance of layer between TF and TH:\n",
      "\n",
      "0     InputLayer                     0.0\n",
      "1     Conv2D                         0.004019102081656456\n",
      "2     MaxPooling2D                   0.0029788166284561157\n",
      "3     BatchNormalization             0.003173970617353916\n",
      "4     Conv2D                         0.002450015861541033\n",
      "5     MaxPooling2D                   0.0013138349685404035\n",
      "6     BatchNormalization             0.00153858649233977\n",
      "7     Conv2D                         0.0019705957836574977\n",
      "8     Conv2D                         0.0006761581257537559\n",
      "9     Conv2D                         0.00017674024113350443\n",
      "10    MaxPooling2D                   0.0005101709393784404\n",
      "11    BatchNormalization             7.358996663242579e-05\n",
      "12    Flatten                        7.358996663242579e-05\n",
      "13    Dense                          1.1955818990827538e-05\n",
      "14    Dropout                        1.1955818990827538e-05\n",
      "15    Dense                          1.7807902622735128e-05\n",
      "16    Dropout                        1.7807902622735128e-05\n",
      "17    Dense                          0.018568551540374754\n",
      "18    Softmax                        0.0\n"
     ]
    }
   ],
   "source": [
    "print('Distance of layer between TF and TH:\\n')\n",
    "for i in range(len(model.layers)):\n",
    "    print('{:<5} {:<30} {}'.format(i, model.layers[i].__class__.__name__, layers_dist[i]))"
   ]
  },
  {
   "cell_type": "code",
   "execution_count": 24,
   "id": "b8f3be04",
   "metadata": {
    "scrolled": true
   },
   "outputs": [
    {
     "name": "stdout",
     "output_type": "stream",
     "text": [
      "Change rate between layers:\n",
      "\n",
      "1     Conv2D                         40191.02081656456\n",
      "2     MaxPooling2D                   -0.258828850121316\n",
      "3     BatchNormalization             -0.21027344411461665\n",
      "4     Conv2D                         -0.39039744412869803\n",
      "5     MaxPooling2D                   -0.6730856170339948\n",
      "6     BatchNormalization             -0.6171661784904273\n",
      "7     Conv2D                         -0.509679845994381\n",
      "8     Conv2D                         -0.8317431888184517\n",
      "9     Conv2D                         -0.9560011570603529\n",
      "10    MaxPooling2D                   -0.8730417309178592\n",
      "11    BatchNormalization             -0.981665523371232\n",
      "12    Flatten                        -0.981665523371232\n",
      "13    Dense                          -0.9970004446788455\n",
      "14    Dropout                        -0.9970004446788455\n",
      "15    Dense                          -0.9955444134783701\n",
      "16    Dropout                        -0.9955444134783701\n",
      "17    Dense                          3.61998455492488\n",
      "18    Softmax                        -0.9999946145793203\n"
     ]
    }
   ],
   "source": [
    "print('Rate of change of inconsistencies between layers:\\n')\n",
    "for i in range(1,len(model.layers)):\n",
    "    print('{:<5} {:<30} {}'.format(i, model.layers[i].__class__.__name__, incL.compute_dists_change(i)))"
   ]
  },
  {
   "cell_type": "code",
   "execution_count": 25,
   "id": "4f9c6544",
   "metadata": {},
   "outputs": [
    {
     "name": "stdout",
     "output_type": "stream",
     "text": [
      "Localizing layer 17: Dense...\n",
      "\n",
      "Parameter \"units\" is set to be \"300\"\n",
      "Maximizing inconsistency of the input...\n",
      "New rate of change of 17: 7.448445541877155e+21\n",
      "\n",
      "Time taken: 166.50839904800523\n",
      "\n",
      "\n"
     ]
    },
    {
     "data": {
      "text/plain": [
       "([],\n",
       " [],\n",
       " [('Parameter \"a\": 10 -> a_prime',\n",
       "   <keras.engine.sequential.Sequential at 0x7fe23c221a90>,\n",
       "   <keras.engine.sequential.Sequential at 0x7fe23c2214a8>)])"
      ]
     },
     "execution_count": 25,
     "metadata": {},
     "output_type": "execute_result"
    }
   ],
   "source": [
    "t1 = 3\n",
    "t2 = 0.1\n",
    "\n",
    "\n",
    "'''\n",
    "X: localized inconsistent parameters and layer index\n",
    "Y: parameters and layer index which cause NaN or crash\n",
    "M: inconsistent models for replication\n",
    "'''\n",
    "X, Y, M = incL.main(t1, t2)"
   ]
  },
  {
   "cell_type": "markdown",
   "id": "6151377c",
   "metadata": {},
   "source": [
    "### NaN Inconsistency Localization"
   ]
  },
  {
   "cell_type": "code",
   "execution_count": 42,
   "id": "674c18f4",
   "metadata": {},
   "outputs": [],
   "source": [
    "nanL = NanLocalizer(ga_nan, 'alexnet', 2)"
   ]
  },
  {
   "cell_type": "code",
   "execution_count": 43,
   "id": "a4c98e63",
   "metadata": {},
   "outputs": [
    {
     "data": {
      "text/plain": [
       "([],\n",
       " [[10, 'theano', 16],\n",
       "  [10, 'theano', 15],\n",
       "  [11, 'theano', 16],\n",
       "  [11, 'theano', 15],\n",
       "  [12, 'theano', 16],\n",
       "  [12, 'theano', 15],\n",
       "  [13, 'theano', 16],\n",
       "  [13, 'theano', 15],\n",
       "  [14, 'theano', 16],\n",
       "  [14, 'theano', 15],\n",
       "  [17, 'theano', 16],\n",
       "  [17, 'theano', 15],\n",
       "  [19, 'theano', 16],\n",
       "  [19, 'theano', 15],\n",
       "  [20, 'theano', 16],\n",
       "  [20, 'theano', 15],\n",
       "  [23, 'theano', 16],\n",
       "  [23, 'theano', 15],\n",
       "  [26, 'theano', 16],\n",
       "  [26, 'theano', 15],\n",
       "  [27, 'theano', 16],\n",
       "  [27, 'theano', 15],\n",
       "  [29, 'theano', 16],\n",
       "  [29, 'theano', 15],\n",
       "  [30, 'theano', 16],\n",
       "  [30, 'theano', 15],\n",
       "  [31, 'theano', 16],\n",
       "  [31, 'theano', 17],\n",
       "  [31, 'theano', 15],\n",
       "  [33, 'theano', 16],\n",
       "  [33, 'theano', 15],\n",
       "  [36, 'theano', 16],\n",
       "  [36, 'theano', 15]])"
      ]
     },
     "execution_count": 43,
     "metadata": {},
     "output_type": "execute_result"
    }
   ],
   "source": [
    "L, _ = nanL.localiseNan()\n",
    "L"
   ]
  },
  {
   "cell_type": "code",
   "execution_count": null,
   "id": "e5192735",
   "metadata": {},
   "outputs": [],
   "source": []
  }
 ],
 "metadata": {
  "kernelspec": {
   "display_name": "fyp",
   "language": "python",
   "name": "fyp"
  },
  "language_info": {
   "codemirror_mode": {
    "name": "ipython",
    "version": 3
   },
   "file_extension": ".py",
   "mimetype": "text/x-python",
   "name": "python",
   "nbconvert_exporter": "python",
   "pygments_lexer": "ipython3",
   "version": "3.6.13"
  }
 },
 "nbformat": 4,
 "nbformat_minor": 5
}
