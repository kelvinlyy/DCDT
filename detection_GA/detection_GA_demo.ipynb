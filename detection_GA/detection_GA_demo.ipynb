{
 "cells": [
  {
   "cell_type": "code",
   "execution_count": 1,
   "id": "778b2961",
   "metadata": {},
   "outputs": [
    {
     "name": "stderr",
     "output_type": "stream",
     "text": [
      "Using TensorFlow backend.\n"
     ]
    }
   ],
   "source": [
    "import os\n",
    "import cv2\n",
    "import redis\n",
    "import keras\n",
    "import numpy as np\n",
    "import tensorflow as tf\n",
    "import matplotlib.pyplot as plt\n",
    "from GA_keras import GA, ga_main"
   ]
  },
  {
   "cell_type": "code",
   "execution_count": 2,
   "id": "f24ef2b6",
   "metadata": {},
   "outputs": [
    {
     "name": "stdout",
     "output_type": "stream",
     "text": [
      "Configured\n"
     ]
    }
   ],
   "source": [
    "# open redis server and config the maximum memory available\n",
    "import importlib\n",
    "spec = importlib.util.spec_from_file_location(\"configRedis\", \"../configRedis.py\")   \n",
    "\n",
    "configRedis = importlib.util.module_from_spec(spec)       \n",
    "spec.loader.exec_module(configRedis)\n",
    "configRedis.config()"
   ]
  },
  {
   "cell_type": "code",
   "execution_count": 3,
   "id": "f42b86c8",
   "metadata": {
    "scrolled": true
   },
   "outputs": [
    {
     "name": "stderr",
     "output_type": "stream",
     "text": [
      "/data/yylaiai/anaconda3/envs/audee_test/lib/python3.6/site-packages/keras/engine/saving.py:341: UserWarning: No training configuration found in save file: the model was *not* compiled. Compile it manually.\n",
      "  warnings.warn('No training configuration found in save file: '\n",
      "/data/yylaiai/anaconda3/envs/audee_test/lib/python3.6/site-packages/ipykernel_launcher.py:5: UserWarning: Update your `Model` call to the Keras 2 API: `Model(inputs=Tensor(\"co..., outputs=Tensor(\"so...)`\n",
      "  \"\"\"\n"
     ]
    }
   ],
   "source": [
    "# load model\n",
    "\n",
    "model = keras.models.load_model('../external_models/alexnet-cifar10_origin.h5')\n",
    "new_output = keras.layers.Softmax()(keras.layers.Dense(10, name=\"dense_3\")(model.layers[-2].output)) # without specifying activation \n",
    "new_model = keras.models.Model(input=model.input, output=new_output)\n",
    "new_model.layers[-2].set_weights(model.layers[-1].get_weights())\n",
    "model = new_model\n",
    "\n",
    "# model = keras.applications.ResNet50()\n",
    "# new_output = keras.layers.Softmax()(keras.layers.Dense(1000)(model.layers[-2].output)) # without specifying activation \n",
    "# new_model = keras.models.Model(input=model.input, output=new_output)\n",
    "# new_model.layers[-2].set_weights(model.layers[-1].get_weights())\n",
    "# model = new_model\n",
    "\n",
    "# model = keras.applications.MobileNetV2()\n",
    "# new_output = keras.layers.Softmax()(keras.layers.Dense(1000)(model.layers[-2].output)) # without specifying activation \n",
    "# new_model = keras.models.Model(input=model.input, output=new_output)\n",
    "# new_model.layers[-2].set_weights(model.layers[-1].get_weights())\n",
    "# model = new_model\n",
    "\n",
    "# model = keras.applications.VGG16()\n",
    "# new_output = keras.layers.Softmax()(keras.layers.Dense(1000)(model.layers[-2].output)) # without specifying activation \n",
    "# new_model = keras.models.Model(input=model.input, output=new_output)\n",
    "# new_model.layers[-2].set_weights(model.layers[-1].get_weights())\n",
    "# model = new_model"
   ]
  },
  {
   "cell_type": "code",
   "execution_count": 4,
   "id": "6baec83a",
   "metadata": {},
   "outputs": [
    {
     "name": "stdout",
     "output_type": "stream",
     "text": [
      "(10000, 224, 224, 3)\n"
     ]
    }
   ],
   "source": [
    "# load inputs\n",
    "(x_train, y_train), (x_test, y_test) = tf.keras.datasets.cifar10.load_data()\n",
    "\n",
    "# expand cifar10 images from 32x32 to 224x224\n",
    "x_test_224 = np.array([cv2.resize(i, (224, 224)) for i in x_test])\n",
    "print(x_test_224.shape)"
   ]
  },
  {
   "cell_type": "markdown",
   "id": "4fd74f46",
   "metadata": {},
   "source": [
    "### Mutate for triggering NaN inconsistency"
   ]
  },
  {
   "cell_type": "code",
   "execution_count": 5,
   "id": "46326159",
   "metadata": {
    "scrolled": true
   },
   "outputs": [],
   "source": [
    "mut_level = 'i+w'\n",
    "model = model\n",
    "x = x_test[0]/255\n",
    "input_scale = 255 # image scale\n",
    "init_noise = 0 # scale of Cauchy noise added in initialization\n",
    "r1 = 0.5 # crossover rate\n",
    "r2 = 0.3 # mutation rate\n",
    "r3 = 10 # mutation scale (larger scale can trigger NaN inconsistency easier, smaller scale can increase layer distance easier)\n",
    "m = 3 # top m chromosomes selected\n",
    "n = 6 # population size\n",
    "layer_idx = -2 # index of layer used in calculation of fitness values\n",
    "db_flag = 2\n",
    "maxIter = 10\n",
    "dynamicWeightMutDecay = np.inf\n",
    "\n",
    "r = redis.Redis(db=db_flag)\n",
    "r.flushdb()\n",
    "\n",
    "fit = ['inc', ['tensorflow', 'theano']]"
   ]
  },
  {
   "cell_type": "code",
   "execution_count": 6,
   "id": "1cec9034",
   "metadata": {
    "scrolled": true
   },
   "outputs": [
    {
     "data": {
      "text/plain": [
       "[[3072, 3072, 10],\n",
       " [3072, 5760, 10],\n",
       " [5760, 5760, 10],\n",
       " [5760, 6144, 0],\n",
       " [6144, 620800, 10],\n",
       " [620800, 620800, 10],\n",
       " [620800, 621824, 0],\n",
       " [621824, 1506944, 10],\n",
       " [1506944, 2834432, 10],\n",
       " [2834432, 3719424, 10],\n",
       " [3719424, 3719424, 10],\n",
       " [3719424, 3720448, 0],\n",
       " [3720448, 3720448, 10],\n",
       " [3720448, 4773120, 10],\n",
       " [4773120, 4773120, 10],\n",
       " [4773120, 21554432, 10],\n",
       " [21554432, 21554432, 10],\n",
       " [21554432, 21595402, 10],\n",
       " [21595402, 21595402, 10]]"
      ]
     },
     "execution_count": 6,
     "metadata": {},
     "output_type": "execute_result"
    }
   ],
   "source": [
    "ga = GA(fit, mut_level, model, x, input_scale, db_flag)\n",
    "ga.initPopulation(init_noise, n)\n",
    "ga.initDynamicWeightMutation(r3)"
   ]
  },
  {
   "cell_type": "code",
   "execution_count": 7,
   "id": "437d752b",
   "metadata": {
    "scrolled": true
   },
   "outputs": [
    {
     "name": "stdout",
     "output_type": "stream",
     "text": [
      "Continuing from the previous populations...\n",
      "\n",
      "Running at iteration 1:\n",
      "Average fitness value: 170.12336425781248\n",
      "Time taken: 107.96673655509949\n",
      "\n",
      "Running at iteration 2:\n",
      "Average fitness value: 6.515937737118013e+34\n",
      "Time taken: 108.51707410812378\n",
      "\n",
      "Running at iteration 3:\n",
      "Average fitness value: nan\n",
      "Time taken: 108.40019679069519\n",
      "\n",
      "Running at iteration 4:\n",
      "Average fitness value: nan\n",
      "Time taken: 106.58743739128113\n",
      "\n",
      "Running at iteration 5:\n",
      "Average fitness value: nan\n",
      "Time taken: 101.56756043434143\n",
      "\n",
      "Running at iteration 6:\n",
      "Average fitness value: nan\n",
      "Time taken: 110.11721754074097\n",
      "\n",
      "Running at iteration 7:\n",
      "Average fitness value: nan\n",
      "Time taken: 100.45758867263794\n",
      "\n",
      "Running at iteration 8:\n",
      "Average fitness value: nan\n",
      "Time taken: 98.10911345481873\n",
      "\n",
      "Running at iteration 9:\n",
      "Average fitness value: nan\n",
      "Time taken: 106.62056636810303\n",
      "\n",
      "Running at iteration 10:\n",
      "Average fitness value: nan\n",
      "Time taken: 99.49222826957703\n",
      "\n",
      "\n",
      "Total time taken: 1047.8414690494537\n"
     ]
    }
   ],
   "source": [
    "ga = ga_main(fit, mut_level, model, x, input_scale, init_noise, r1, r2, r3, m, n, layer_idx, db_flag, maxIter, dynamicWeightMutDecay, ga)"
   ]
  },
  {
   "cell_type": "code",
   "execution_count": 8,
   "id": "bc306023",
   "metadata": {
    "scrolled": true
   },
   "outputs": [
    {
     "data": {
      "text/plain": [
       "[[[['nan', 'tensorflow', [18]], ['nan', 'theano', [18]]],\n",
       "  array([ 0.61960784,  0.        ,  0.19215686, ..., -0.03412968,\n",
       "          2.39847667, -0.01825427])],\n",
       " [[['nan', 'tensorflow', [18]], ['nan', 'theano', [18]]],\n",
       "  array([ 0.61960784,  0.        ,  0.19215686, ..., -0.03412968,\n",
       "         -0.02668719, -0.01825427])],\n",
       " [[['nan', 'tensorflow', [18]], ['nan', 'theano', [18]]],\n",
       "  array([ 0.        ,  0.        ,  0.19215686, ..., -0.03412968,\n",
       "         -0.02668719, -0.01825427])],\n",
       " [[['nan', 'tensorflow', [18]], ['nan', 'theano', [18]]],\n",
       "  array([ 0.61960784,  0.        ,  0.19215686, ..., -0.03412968,\n",
       "          2.39847667, -0.01825427])],\n",
       " [[['nan', 'tensorflow', [18]], ['nan', 'theano', [18]]],\n",
       "  array([ 0.        ,  0.        ,  0.19215686, ..., -0.03412968,\n",
       "         -0.02668719, -0.01825427])],\n",
       " [[['nan', 'tensorflow', [17, 18]], ['nan', 'theano', [17, 18]]],\n",
       "  array([ 0.        ,  0.43921569,  0.19215686, ..., -0.03412968,\n",
       "          0.85966283, 12.10317541])],\n",
       " [[['nan', 'tensorflow', [17, 18]], ['nan', 'theano', [17, 18]]],\n",
       "  array([ 1.        ,  0.43921569,  0.19215686, ..., -0.03412968,\n",
       "         11.59991295, -0.01825427])],\n",
       " [[['nan', 'tensorflow', [17, 18]], ['nan', 'theano', [17, 18]]],\n",
       "  array([ 6.19607843e-01,  0.00000000e+00,  1.92156863e-01, ...,\n",
       "         -1.73477861e+02,  2.39847667e+00, -1.82542689e-02])],\n",
       " [[['nan', 'tensorflow', [17, 18]], ['nan', 'theano', [17, 18]]],\n",
       "  array([ 0.        ,  0.43921569,  0.19215686, ..., -0.03412968,\n",
       "          0.85966283, 12.10317541])],\n",
       " [[['nan', 'tensorflow', [17, 18]], ['nan', 'theano', [17, 18]]],\n",
       "  array([ 6.19607843e-01,  0.00000000e+00,  1.92156863e-01, ...,\n",
       "         -1.73477861e+02,  2.39847667e+00, -1.82542689e-02])],\n",
       " [[['nan', 'tensorflow', [17, 18]], ['nan', 'theano', [17, 18]]],\n",
       "  array([ 0.00000000e+00,  4.39215686e-01,  1.92156863e-01, ...,\n",
       "         -1.73477861e+02,  2.39847667e+00, -1.82542689e-02])],\n",
       " [[['nan', 'tensorflow', [17, 18]], ['nan', 'theano', [17, 18]]],\n",
       "  array([ 0.        ,  0.43921569,  0.19215686, ..., -8.28577515,\n",
       "         -0.02668719, 12.10317541])],\n",
       " [[['nan', 'tensorflow', [17, 18]], ['nan', 'theano', [17, 18]]],\n",
       "  array([   0.        ,    0.        ,    0.19215686, ..., -173.47786123,\n",
       "          -10.74347885,   -4.58322929])],\n",
       " [[['nan', 'tensorflow', [17, 18]], ['nan', 'theano', [17, 18]]],\n",
       "  array([ 0.00000000e+00,  4.39215686e-01,  1.92156863e-01, ...,\n",
       "         -1.73477861e+02,  2.39847667e+00, -1.82542689e-02])],\n",
       " [[['nan', 'tensorflow', [17, 18]], ['nan', 'theano', [17, 18]]],\n",
       "  array([   0.        ,    0.        ,    0.19215686, ..., -173.47786123,\n",
       "          -10.74347885,   -4.58322929])],\n",
       " [[['nan', 'tensorflow', [17, 18]], ['nan', 'theano', [17, 18]]],\n",
       "  array([ 0.00000000e+00,  1.00000000e+00,  1.92156863e-01, ...,\n",
       "         -1.73477861e+02, -2.66871899e-02, -1.82542689e-02])],\n",
       " [[['nan', 'tensorflow', [17, 18]], ['nan', 'theano', [15, 16, 17, 18]]],\n",
       "  array([ 0.00000000e+00,  0.00000000e+00,  0.00000000e+00, ...,\n",
       "         -1.73477861e+02,  2.39847667e+00, -1.82542689e-02])],\n",
       " [[['nan', 'tensorflow', [17, 18]], ['nan', 'theano', [15, 16, 17, 18]]],\n",
       "  array([ 0.        ,  0.        ,  1.        , ..., -0.03412968,\n",
       "          2.39847667, -0.01825427])],\n",
       " [[['nan', 'tensorflow', [17, 18]], ['nan', 'theano', [17, 18]]],\n",
       "  array([ 0.00000000e+00,  1.00000000e+00,  1.92156863e-01, ...,\n",
       "         -1.73477861e+02, -2.66871899e-02, -1.82542689e-02])],\n",
       " [[['nan', 'tensorflow', [17, 18]], ['nan', 'theano', [15, 16, 17, 18]]],\n",
       "  array([ 0.        ,  0.        ,  1.        , ..., -0.03412968,\n",
       "          2.39847667, -0.01825427])],\n",
       " [[['nan', 'tensorflow', [17, 18]], ['nan', 'theano', [17, 18]]],\n",
       "  array([ 0.        ,  1.        ,  0.19215686, ..., -0.03412968,\n",
       "         -0.02668719, -0.01825427])],\n",
       " [[['nan', 'tensorflow', [17, 18]], ['nan', 'theano', [17, 18]]],\n",
       "  array([ 0.        ,  0.        ,  0.19215686, ..., -0.03412968,\n",
       "         -0.02668719, -0.01825427])],\n",
       " [[['nan', 'tensorflow', [17, 18]], ['nan', 'theano', [15, 16, 17, 18]]],\n",
       "  array([ 0.00000000e+00,  1.00000000e+00,  1.92156863e-01, ...,\n",
       "         -1.73477861e+02, -2.66871899e-02, -1.82542689e-02])],\n",
       " [[['nan', 'tensorflow', [17, 18]], ['nan', 'theano', [17, 18]]],\n",
       "  array([ 0.        ,  1.        ,  0.19215686, ..., -0.03412968,\n",
       "         -0.02668719, -0.01825427])],\n",
       " [[['nan', 'tensorflow', [17, 18]], ['nan', 'theano', [15, 16, 17, 18]]],\n",
       "  array([ 0.00000000e+00,  1.00000000e+00,  1.92156863e-01, ...,\n",
       "         -1.73477861e+02, -2.66871899e-02, -1.82542689e-02])],\n",
       " [[['nan', 'tensorflow', [17, 18]], ['nan', 'theano', [17, 18]]],\n",
       "  array([ 0.        ,  1.        ,  0.        , ..., -0.03412968,\n",
       "         -0.02668719, -0.01825427])],\n",
       " [[['nan', 'tensorflow', [17, 18]], ['nan', 'theano', [17, 18]]],\n",
       "  array([ 6.19607843e-01,  1.00000000e+00,  0.00000000e+00, ...,\n",
       "         -1.73477861e+02, -2.66871899e-02, -1.82542689e-02])],\n",
       " [[['nan', 'tensorflow', [17, 18]], ['nan', 'theano', [15, 16, 17, 18]]],\n",
       "  array([ 0.00000000e+00,  1.00000000e+00,  0.00000000e+00, ...,\n",
       "         -1.73477861e+02, -2.66871899e-02, -1.82542689e-02])],\n",
       " [[['nan', 'tensorflow', [17, 18]], ['nan', 'theano', [17, 18]]],\n",
       "  array([ 0.        ,  1.        ,  0.        , ..., -0.03412968,\n",
       "         -0.02668719, -0.01825427])],\n",
       " [[['nan', 'tensorflow', [17, 18]], ['nan', 'theano', [15, 16, 17, 18]]],\n",
       "  array([ 0.00000000e+00,  1.00000000e+00,  0.00000000e+00, ...,\n",
       "         -1.73477861e+02, -2.66871899e-02, -1.82542689e-02])],\n",
       " [[['nan', 'tensorflow', [17, 18]], ['nan', 'theano', [15, 16, 17, 18]]],\n",
       "  array([ 0.        ,  0.43921569,  0.19215686, ..., -0.03412968,\n",
       "         -0.02668719, -0.01825427])],\n",
       " [[['nan', 'tensorflow', [17, 18]], ['nan', 'theano', [15, 16, 17, 18]]],\n",
       "  array([ 0.        ,  0.43921569,  0.        , ..., -0.03412968,\n",
       "         -0.02668719, -0.01825427])],\n",
       " [[['nan', 'tensorflow', [17, 18]], ['nan', 'theano', [15, 16, 17, 18]]],\n",
       "  array([ 0.        ,  1.        ,  0.        , ..., -0.03412968,\n",
       "         -0.02668719, -0.01825427])]]"
      ]
     },
     "execution_count": 8,
     "metadata": {},
     "output_type": "execute_result"
    }
   ],
   "source": [
    "ga.F"
   ]
  },
  {
   "cell_type": "markdown",
   "id": "51723b8f",
   "metadata": {},
   "source": [
    "### Mutate for triggering high inconsistency fitness values"
   ]
  },
  {
   "cell_type": "code",
   "execution_count": 9,
   "id": "0a018ecd",
   "metadata": {
    "scrolled": true
   },
   "outputs": [],
   "source": [
    "mut_level = 'i+w'\n",
    "model = model\n",
    "x = x_test[0]/255\n",
    "input_scale = 255 # image scale\n",
    "init_noise = 0 # scale of Cauchy noise added in initialization\n",
    "r1 = 0.5 # crossover rate\n",
    "r2 = 0.3 # mutation rate\n",
    "r3 = 0.1 # mutation scale (larger scale can trigger NaN inconsistency easier, smaller scale can increase layer distance easier)\n",
    "m = 3 # top m chromosomes selected\n",
    "n = 6 # population size\n",
    "layer_idx = -2 # index of layer used in calculation of fitness values\n",
    "db_flag = 2\n",
    "maxIter = 10\n",
    "dynamicWeightMutDecay = np.inf\n",
    "\n",
    "r = redis.Redis(db=db_flag)\n",
    "r.flushdb()\n",
    "\n",
    "fit = ['inc', ['tensorflow', 'theano']]"
   ]
  },
  {
   "cell_type": "code",
   "execution_count": 10,
   "id": "e2d6f810",
   "metadata": {
    "scrolled": true
   },
   "outputs": [
    {
     "data": {
      "text/plain": [
       "[[3072, 3072, 0.1],\n",
       " [3072, 5760, 0.1],\n",
       " [5760, 5760, 0.1],\n",
       " [5760, 6144, 0],\n",
       " [6144, 620800, 0.1],\n",
       " [620800, 620800, 0.1],\n",
       " [620800, 621824, 0],\n",
       " [621824, 1506944, 0.1],\n",
       " [1506944, 2834432, 0.1],\n",
       " [2834432, 3719424, 0.1],\n",
       " [3719424, 3719424, 0.1],\n",
       " [3719424, 3720448, 0],\n",
       " [3720448, 3720448, 0.1],\n",
       " [3720448, 4773120, 0.1],\n",
       " [4773120, 4773120, 0.1],\n",
       " [4773120, 21554432, 0.1],\n",
       " [21554432, 21554432, 0.1],\n",
       " [21554432, 21595402, 0.1],\n",
       " [21595402, 21595402, 0.1]]"
      ]
     },
     "execution_count": 10,
     "metadata": {},
     "output_type": "execute_result"
    }
   ],
   "source": [
    "ga = GA(fit, mut_level, model, x, input_scale, db_flag)\n",
    "ga.initPopulation(init_noise, n)\n",
    "ga.initDynamicWeightMutation(r3)"
   ]
  },
  {
   "cell_type": "code",
   "execution_count": 11,
   "id": "5292dd09",
   "metadata": {
    "scrolled": true
   },
   "outputs": [
    {
     "name": "stdout",
     "output_type": "stream",
     "text": [
      "Continuing from the previous populations...\n",
      "\n",
      "Running at iteration 1:\n",
      "Average fitness value: 170.12336425781248\n",
      "Time taken: 111.24147939682007\n",
      "\n",
      "Running at iteration 2:\n",
      "Average fitness value: 1.2951781779161647e+20\n",
      "Time taken: 108.80623149871826\n",
      "\n",
      "Running at iteration 3:\n",
      "Average fitness value: 2.03188195792413e+22\n",
      "Time taken: 98.05892086029053\n",
      "\n",
      "Running at iteration 4:\n",
      "Average fitness value: 1.4882024092031808e+23\n",
      "Time taken: 98.13507127761841\n",
      "\n",
      "Running at iteration 5:\n",
      "Average fitness value: 2.652214981454588e+24\n",
      "Time taken: 103.15475583076477\n",
      "\n",
      "Running at iteration 6:\n",
      "Average fitness value: 5.853570136079195e+24\n",
      "Time taken: 108.68852400779724\n",
      "\n",
      "Running at iteration 7:\n",
      "Average fitness value: 1.193670777317413e+25\n",
      "Time taken: 95.33150029182434\n",
      "\n",
      "Running at iteration 8:\n",
      "Average fitness value: 6.253587250973694e+25\n",
      "Time taken: 99.20888686180115\n",
      "\n",
      "Running at iteration 9:\n",
      "Average fitness value: 3.471651083337956e+26\n",
      "Time taken: 104.00782585144043\n",
      "\n",
      "Running at iteration 10:\n",
      "Average fitness value: 7.116756028055115e+26\n",
      "Time taken: 95.76396155357361\n",
      "\n",
      "\n",
      "Total time taken: 1022.402871131897\n"
     ]
    }
   ],
   "source": [
    "ga = ga_main(fit, mut_level, model, x, input_scale, init_noise, r1, r2, r3, m, n, layer_idx, db_flag, maxIter, dynamicWeightMutDecay, ga)"
   ]
  },
  {
   "cell_type": "code",
   "execution_count": 12,
   "id": "cc1dd619",
   "metadata": {
    "scrolled": false
   },
   "outputs": [
    {
     "data": {
      "text/plain": [
       "[<matplotlib.lines.Line2D at 0x7faa701c6b00>]"
      ]
     },
     "execution_count": 12,
     "metadata": {},
     "output_type": "execute_result"
    },
    {
     "data": {
      "image/png": "[encoded data removed]",
      "text/plain": [
       "<Figure size 432x288 with 1 Axes>"
      ]
     },
     "metadata": {
      "needs_background": "light"
     },
     "output_type": "display_data"
    }
   ],
   "source": [
    "plt.plot(np.max(np.nan_to_num(ga.fit_hist, -1), axis=1))"
   ]
  },
  {
   "cell_type": "code",
   "execution_count": 13,
   "id": "d4d4dd64",
   "metadata": {},
   "outputs": [
    {
     "data": {
      "text/plain": [
       "[array([170.12336426, 170.12336426, 170.12336426, 170.12336426,\n",
       "        170.12336426, 170.12336426]),\n",
       " array([1.70123364e+02, 1.70123364e+02, 1.70123364e+02, 7.39243699e+20,\n",
       "        1.57587583e+19, 2.21044498e+19]),\n",
       " array([1.57587583e+19, 2.21044498e+19, 7.39243699e+20, 9.75700896e+21,\n",
       "        1.06673169e+23, 4.70563291e+21]),\n",
       " array([4.70563291e+21, 9.75700896e+21, 1.06673169e+23, 6.91570511e+23,\n",
       "        5.94300627e+22, 2.07850616e+22]),\n",
       " array([5.94300627e+22, 1.06673169e+23, 6.91570511e+23, 1.08502181e+25,\n",
       "        4.10038286e+24, 1.05015224e+23]),\n",
       " array([6.91570511e+23, 4.10038286e+24, 1.08502181e+25, 1.39699932e+25,\n",
       "        2.28955845e+24, 3.21969771e+24]),\n",
       " array([4.10038286e+24, 1.08502181e+25, 1.39699932e+25, 1.54988658e+25,\n",
       "        1.82773292e+25, 8.92345749e+24]),\n",
       " array([1.39699932e+25, 1.82773292e+25, 1.54988658e+25, 2.31647424e+26,\n",
       "        4.83165459e+25, 4.75050773e+25]),\n",
       " array([4.75050773e+25, 4.83165385e+25, 2.31647424e+26, 1.04033505e+26,\n",
       "        1.47198182e+27, 1.79506285e+26]),\n",
       " array([1.79506285e+26, 1.47198182e+27, 2.31647424e+26, 8.59042883e+25,\n",
       "        2.21060256e+27, 9.04112411e+25])]"
      ]
     },
     "execution_count": 13,
     "metadata": {},
     "output_type": "execute_result"
    }
   ],
   "source": [
    "ga.fit_hist"
   ]
  },
  {
   "cell_type": "code",
   "execution_count": null,
   "id": "8bc78dd6",
   "metadata": {},
   "outputs": [],
   "source": []
  }
 ],
 "metadata": {
  "kernelspec": {
   "display_name": "audee_test",
   "language": "python",
   "name": "audee_test"
  },
  "language_info": {
   "codemirror_mode": {
    "name": "ipython",
    "version": 3
   },
   "file_extension": ".py",
   "mimetype": "text/x-python",
   "name": "python",
   "nbconvert_exporter": "python",
   "pygments_lexer": "ipython3",
   "version": "3.6.13"
  }
 },
 "nbformat": 4,
 "nbformat_minor": 5
}
