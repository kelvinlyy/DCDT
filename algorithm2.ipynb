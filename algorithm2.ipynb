{
 "cells": [
  {
   "cell_type": "code",
   "execution_count": null,
   "id": "b28f48c5",
   "metadata": {},
   "outputs": [],
   "source": [
    "import tensorflow as tf\n",
    "import numpy as np\n",
    "import random\n",
    "from math import pi"
   ]
  },
  {
   "cell_type": "code",
   "execution_count": null,
   "id": "dff6d71c",
   "metadata": {},
   "outputs": [],
   "source": [
    "# configure parameters\n",
    "f = None     # A DNN\n",
    "x = None     # An input\n",
    "phi1 = None  # DL Framework 1\n",
    "phi2 = None  # DL Framework 2\n",
    "t1 = None    # A larger threshold\n",
    "t2 = None    # A smaller threshold\n",
    "\n",
    "def algo_2():\n",
    "    X = {}\n",
    "    Y = {}\n",
    "    do {\n",
    "        B = ??  # formula\n",
    "        L = B.layers[0]\n",
    "        aL = L.get_weights()\n",
    "        P = {}\n",
    "        for a in aL:\n",
    "            L_prime, a_prime = replace(L, a)  # guided by the summarized API configuration\n",
    "            f_prime = L_prime                 # not sure construct a dummy DNN 𝑓' that only contains the new layer 𝐿'\n",
    "            y = checkCrash_NaN(f_prime)\n",
    "            if y!={}:\n",
    "                Y = Y.union(L_pirme, a_prime) # not sure\n",
    "            else:\n",
    "                # x_max: the input that generates the maximum layer distance\n",
    "                x_max = detectInconsistency(f_prime) # Algorithm 1\n",
    "                if ?? > t2 : ## formula\n",
    "                    P = P.union(a)\n",
    "                X = X.union(L, P) ## not sure , inconsistency-triggering parameters 𝑃 are identified\n",
    "                f = fixDNN(f, X, L)\n",
    "    } while (B!={})\n",
    "    return X,Y\n"
   ]
  },
  {
   "cell_type": "code",
   "execution_count": null,
   "id": "06219d8e",
   "metadata": {},
   "outputs": [],
   "source": [
    "def replace(L, a):"
   ]
  },
  {
   "cell_type": "code",
   "execution_count": null,
   "id": "656157b0",
   "metadata": {},
   "outputs": [],
   "source": [
    "def checkCrash_NaN(f):"
   ]
  },
  {
   "cell_type": "code",
   "execution_count": null,
   "id": "a942ad89",
   "metadata": {},
   "outputs": [],
   "source": [
    "def fixDNN(f, X, L):"
   ]
  }
 ],
 "metadata": {
  "kernelspec": {
   "display_name": "Python 3",
   "language": "python",
   "name": "python3"
  },
  "language_info": {
   "codemirror_mode": {
    "name": "ipython",
    "version": 3
   },
   "file_extension": ".py",
   "mimetype": "text/x-python",
   "name": "python",
   "nbconvert_exporter": "python",
   "pygments_lexer": "ipython3",
   "version": "3.8.8"
  }
 },
 "nbformat": 4,
 "nbformat_minor": 5
}
