{
 "cells": [
  {
   "cell_type": "code",
   "execution_count": 1,
   "metadata": {
    "scrolled": false
   },
   "outputs": [],
   "source": [
    "import numpy as np\n",
    "import random\n",
    "import os\n",
    "from multiprocessing import Process\n",
    "import redis\n",
    "import pickle\n",
    "import dill\n",
    "import subprocess\n",
    "import keras\n",
    "import time\n",
    "import cv2\n",
    "import matplotlib.pyplot as plt\n",
    "from onnx_pytorch import code_gen\n",
    "import torch\n",
    "import onnx\n",
    "import tf2onnx\n",
    "\n",
    "import tensorflow as tf"
   ]
  },
  {
   "cell_type": "code",
   "execution_count": 2,
   "metadata": {
    "scrolled": false
   },
   "outputs": [],
   "source": [
    "model = tf.keras.applications.resnet50.ResNet50()"
   ]
  },
  {
   "cell_type": "code",
   "execution_count": 3,
   "metadata": {
    "scrolled": false
   },
   "outputs": [
    {
     "name": "stdout",
     "output_type": "stream",
     "text": [
      "(10000, 32, 32, 3)\n",
      "(10000, 224, 224, 3)\n"
     ]
    }
   ],
   "source": [
    "# load datasets\n",
    "(x_train, y_train), (x_test, y_test) = tf.keras.datasets.cifar10.load_data()\n",
    "print(x_test.shape)\n",
    "\n",
    "# expand cifar10 images from 32x32 to 224x224\n",
    "x_test_224 = np.array([cv2.resize(i, (224, 224)) for i in x_test])\n",
    "print(x_test_224.shape)"
   ]
  },
  {
   "cell_type": "code",
   "execution_count": 4,
   "metadata": {
    "scrolled": false
   },
   "outputs": [],
   "source": [
    "class GA:\n",
    "    '''\n",
    "    arguments e.g.:\n",
    "    fit: [\"inc\", [\"tensorflow\", \"theano\"]]\n",
    "    model: model\n",
    "    dataset: x_test\n",
    "    input_shape: x_test[0].shape\n",
    "    init_input_mut: 0.1\n",
    "    init_weight_mut: 0\n",
    "    r1: 0.5\n",
    "    r2: 0.1\n",
    "    m: 5\n",
    "    n: 1000\n",
    "    db_flag: 0\n",
    "    '''\n",
    "    def __init__(self, fit, model, dataset, input_shape, init_input_mut, init_weight_mut, r1, r2, m, n, db_flag):\n",
    "        self.fit_func, self.phi = fit # a tuple: (fitness function, list of DL framework(s) to be used)\n",
    "        \n",
    "        self.model = tf.keras.models.clone_model(model)\n",
    "        self.model.set_weights(model.get_weights())\n",
    "        \n",
    "        self.dataset = np.copy(dataset)\n",
    "        \n",
    "        self.input_shape = input_shape\n",
    "        self.init_input_mut = init_input_mut\n",
    "        self.init_weight_mut = init_weight_mut\n",
    "        self.r1 = r1\n",
    "        self.r2 = r2\n",
    "        self.m = m\n",
    "        self.n = n\n",
    "        self.db_flag = db_flag\n",
    "        self.redis_server = redis.Redis(db=db_flag)\n",
    "        if not self.redis_server.ping():\n",
    "            raise Exception(\"Redis server not set up\")\n",
    "        \n",
    "    def initPopulation(self):\n",
    "        # randomly choose n inputs from the dataset if n < len(dataset)\n",
    "        if len(self.dataset) > self.n:\n",
    "            selected_x = self.dataset[np.random.choice(len(self.dataset), size=self.n, replace=False)]\n",
    "        else:\n",
    "            selected_x = self.dataset\n",
    "            \n",
    "        # get model weights\n",
    "        original_weights = np.array(self.model.get_weights(), dtype=object)\n",
    "            \n",
    "        # initialize object variables\n",
    "        self.mutated_inputs = selected_x\n",
    "        self.mutated_weights = original_weights\n",
    "\n",
    "        # input level\n",
    "        if self.init_input_mut != 0 and self.init_input_mut != None:\n",
    "            self.mutated_inputs = (np.clip((selected_x/255 + np.random.standard_cauchy(selected_x.shape) * self.init_input_mut),0,1) * 255).astype(int)\n",
    "            \n",
    "        # weight level\n",
    "        # set the model weights of the GA object to the mutated weights\n",
    "        if self.init_weight_mut != 0 and self.init_weight_mut != None:\n",
    "            self.mutated_weights = []\n",
    "            for layer_weight in original_weights:\n",
    "                self.mutated_weights.append(layer_weight + np.random.standard_cauchy(layer_weight.shape) * self.init_weight_mut)\n",
    "            self.model.set_weights(self.mutated_weights)\n",
    "                \n",
    "        return [self.mutated_inputs, self.mutated_weights]\n",
    "\n",
    "    def prepareFitness(self):\n",
    "        if self.fit_func == \"inc\":\n",
    "            self.FFunc = InconsistencyFFunc(self.redis_server, self.db_flag, self.phi, self.model, self.mutated_inputs)\n",
    "        elif self.fit_func == \"nan\":\n",
    "            backend = \"torch\"\n",
    "            self.FFunc = NanFFunc(self.redis_server, self.db_flag, self.phi, self.model, self.mutated_inputs)\n",
    "        self.FFunc.prepare()\n",
    "\n",
    "    def computeFitness(self, layer_idx):\n",
    "        self.fitness_values = np.squeeze(self.FFunc.compute(layer_idx))\n",
    "        return self.fitness_values\n",
    "        \n",
    "    def getTopK_Fit(self, k):\n",
    "        topK_idx = np.argpartition(self.fitness_values, -k)[-k:]\n",
    "        return [self.mutated_inputs[topK_idx], self.fitness_values[topK_idx]]\n",
    "        \n",
    "    # select m candidates for parents of next-generation inputs\n",
    "    def select(self):\n",
    "        selected_index = np.argpartition(self.fitness_values, -self.m)[-self.m:]\n",
    "        self.selected_x = self.mutated_inputs[selected_index]\n",
    "        return self.selected_x\n",
    "    \n",
    "    # select 2 parents from the candidates\n",
    "    def selectParents(self):\n",
    "        self.x1, self.x2 = random.sample(list(self.selected_x), 2)\n",
    "        return self.x1, self.x2\n",
    "    \n",
    "    # return a flatten list of a crossover product of the selected parents\n",
    "    def crossover(self):\n",
    "        x1_flatten = self.x1.flatten()\n",
    "        x2_flatten = self.x2.flatten()\n",
    "\n",
    "        x1_factor = np.random.choice(2, size=x1_flatten.shape, p=[1-self.r1, self.r1])\n",
    "        x2_factor = 1 - x1_factor\n",
    "        \n",
    "        self.x_prime = x1_flatten * x1_factor + x2_flatten * x2_factor\n",
    "\n",
    "        return self.x_prime\n",
    "    \n",
    "    # mutate the crossover product and reshape it as the shape of the input instance\n",
    "    def mutate(self):\n",
    "        self.x_2prime=(np.clip((self.x_prime/255 + np.random.standard_cauchy(self.x_prime.shape) * self.r2),0,1) * 255).astype(int)\n",
    "        self.x_2prime = self.x_2prime.reshape(self.input_shape)\n",
    "        return self.x_2prime\n",
    "    \n",
    "    def update_inputs(self):\n",
    "        self.redis_server.mset({\"inputs\": pickle.dumps(self.mutated_inputs)})\n",
    "    \n",
    "    # check if the new DNN model can predict the mutated inputs without triggering error\n",
    "    def checkFailed(self):\n",
    "        try:\n",
    "            if self.fit_func == \"inc\":\n",
    "                print()\n",
    "                return []\n",
    "\n",
    "            elif self.fit_func == \"nan\":\n",
    "                predictions = self.model.predict(self.mutated_inputs)\n",
    "                if np.isnan(predictions).any(): # if there is any nan in the predictions\n",
    "                    return self.mutated_inputs\n",
    "                \n",
    "                return []\n",
    "        except Exception as e:\n",
    "            return [e]\n",
    "\n",
    "            "
   ]
  },
  {
   "cell_type": "code",
   "execution_count": 5,
   "metadata": {
    "scrolled": false
   },
   "outputs": [],
   "source": [
    "def get_prediction_process(model_framework, db_flag, layer_idx):\n",
    "#     cmd = f\"/data/yylaiai/anaconda3/envs/fyp_v3/bin/python get_prediction_{model_framework}.py {db_flag} {layer_idx}\"\n",
    "    cmd = f\"python get_prediction_{model_framework}.py {db_flag} {layer_idx}\"\n",
    "\n",
    "    return Process(target=lambda: os.system(cmd))\n",
    "\n",
    "def get_prediction_cmd(model_framework, db_flag, layer_idx):\n",
    "#     cmd = f\"/data/yylaiai/anaconda3/envs/fyp_v3/bin/python get_prediction_{model_framework}.py {db_flag} {layer_idx}\"\n",
    "    cmd = f\"python get_prediction_{model_framework}.py {db_flag} {layer_idx}\"\n",
    "\n",
    "    return cmd\n",
    "\n",
    "def export_model(model_framework, model, model_name, dummy_input, onnx_path):\n",
    "    if model_framework == \"tensorflow\":\n",
    "        model.save(model_name)\n",
    "        model_path = model_name\n",
    "        os.system(f\"python -m tf2onnx.convert --saved-model {model_path} --output {onnx_path}\")\n",
    "        \n",
    "    elif model_framework == \"torch\":\n",
    "        torch.onnx.export(model, dummy_input.to('cuda'), onnx_path)\n",
    "        \n",
    "    else:\n",
    "        raise Exception(f\"Model export from {model_framework} is not yet implemented\")\n",
    "        \n",
    "def import_onnx(target_framework, onnx_path):\n",
    "    if target_framework == 'torch':\n",
    "        output_dir = 'torch_model'\n",
    "        if not os.path.isdir(output_dir):\n",
    "            os.mkdir(output_dir)\n",
    "        code_gen.gen(onnx_path, output_dir)\n",
    "    \n",
    "    else:\n",
    "        raise Exception(f\"ONNX model import to {model_framework} is not yet implemented\")\n",
    "        \n",
    "        return None\n",
    "\n",
    "def load_model(model_framework, model_path):\n",
    "    if model_framework == \"torch\":\n",
    "        from torch_model.model import Model\n",
    "        \n",
    "        model = Model()\n",
    "        model.eval()\n",
    "       \n",
    "    return model\n",
    "\n",
    "class InconsistencyFFunc:\n",
    "    def __init__(self, redis_server, db_flag, backends, model, inputs):\n",
    "        self.redis_server = redis_server\n",
    "        self.db_flag = db_flag\n",
    "        self.backend_1, self.backend_2 = backends\n",
    "        self.model_1 = model\n",
    "        self.inputs = inputs\n",
    "        \n",
    "        self.model_1_name = 'model_tensorflow'\n",
    "        self.onnx_path = self.model_1_name + '.onnx'\n",
    "\n",
    "    def prepare(self):\n",
    "        # export model to onnx\n",
    "        export_model(self.backend_1, self.model_1, self.model_1_name, self.inputs, self.onnx_path)\n",
    "\n",
    "        # import onnx model to second DL framework\n",
    "        self.model_2_path = import_onnx(self.backend_2, self.onnx_path)\n",
    "        self.model_2 = load_model(self.backend_2, self.model_2_path)\n",
    "        \n",
    "        # store model and inputs\n",
    "        if self.backend_1 == \"torch\":\n",
    "            with self.redis_server.pipeline() as pipe:\n",
    "                pipe.mset({f'model_{self.backend_1}': pickle.dumps(self.model_1.to('cpu'))})\n",
    "                pipe.mset({f'model_{self.backend_2}': pickle.dumps(self.model_2)})\n",
    "                pipe.mset({\"inputs\": pickle.dumps(self.inputs.cpu().numpy())}) # convert tensor to numpy before saving to redis\n",
    "                pipe.execute()\n",
    "        else:\n",
    "            with self.redis_server.pipeline() as pipe:\n",
    "                pipe.mset({f'model_{self.backend_1}': pickle.dumps(self.model_1)})\n",
    "                pipe.mset({f'model_{self.backend_2}': pickle.dumps(self.model_2)})\n",
    "                pipe.mset({\"inputs\": pickle.dumps(self.inputs)})\n",
    "                pipe.execute()\n",
    "    \n",
    "    def compute(self, layer_idx):\n",
    "        # run subprocess to get predictions\n",
    "        p1 = get_prediction_process(self.backend_1, self.db_flag, layer_idx)\n",
    "        p2 = get_prediction_process(self.backend_2, self.db_flag, layer_idx)\n",
    "        p1.start()\n",
    "        p2.start()\n",
    "        p1.join()\n",
    "        p2.join()\n",
    "        \n",
    "        # load predictions\n",
    "        with self.redis_server.pipeline() as pipe:\n",
    "            pipe.hget(\"predictions\", self.backend_1)\n",
    "            pipe.hget(\"predictions\", self.backend_2)\n",
    "            predictions = pipe.execute()\n",
    "        \n",
    "        self.predictions_1 = pickle.loads(predictions[0])\n",
    "        self.predictions_2 = pickle.loads(predictions[1])\n",
    "        \n",
    "        # compute fitness\n",
    "        predictions_diff = np.abs(self.predictions_2 - self.predictions_1)\n",
    "        self.fitness_values = np.sum(predictions_diff, axis=1) / len(predictions_diff[0])\n",
    "        \n",
    "        return self.fitness_values\n",
    "\n",
    "class NanFFunc:\n",
    "    def __init__(self, redis_server, db_flag, backend, model, inputs):\n",
    "        self.redis_server = redis_server\n",
    "        self.db_flag = db_flag\n",
    "        self.backend = backend[0]\n",
    "        self.model = model\n",
    "        self.inputs = inputs\n",
    "\n",
    "        self.model_name = 'model_tensorflow'\n",
    "        self.onnx_path = self.model_name + '.onnx'\n",
    "\n",
    "    def prepare(self):\n",
    "        if self.backend == \"tensorflow\":\n",
    "            pass\n",
    "            \n",
    "        elif self.backend == \"torch\":\n",
    "            # export model to onnx\n",
    "            export_model(\"tensorflow\", self.model, self.model_name, self.inputs, self.onnx_path)\n",
    "\n",
    "            # import onnx model to second DL framework\n",
    "            self.model_path = import_onnx(self.backend, self.onnx_path)\n",
    "            self.model = load_model(self.backend, self.model_path)\n",
    "            \n",
    "        else:\n",
    "            raise Exception(f\"ONNX model import to {model_framework} is not yet implemented\")\n",
    "\n",
    "            \n",
    "        # store model and inputs\n",
    "        with self.redis_server.pipeline() as pipe:\n",
    "            pipe.mset({f\"model_{self.backend}\": pickle.dumps(self.model)})\n",
    "            pipe.mset({\"inputs\": pickle.dumps(self.inputs)})\n",
    "            pipe.execute()\n",
    "    \n",
    "    def compute(self, layer_idx):\n",
    "        os.system(get_prediction_cmd(self.backend, self.db_flag, layer_idx))\n",
    "\n",
    "        # load predictions\n",
    "        self.predictions = pickle.loads(self.redis_server.hget(\"predictions\", self.backend))\n",
    "\n",
    "        # normalize neurons\n",
    "        normalized_outputs = self.predictions#/(np.amax(self.predictions) - np.amin(self.predictions))\n",
    "        \n",
    "        # compute fitness\n",
    "        self.fitness_values = np.amax(normalized_outputs, axis=1) - np.amin(normalized_outputs, axis=1)\n",
    "        \n",
    "        return self.fitness_values"
   ]
  },
  {
   "cell_type": "code",
   "execution_count": 6,
   "metadata": {
    "scrolled": false
   },
   "outputs": [],
   "source": [
    "def ga_main(ga, r2, m, n, k, layer_idx, maxIter):\n",
    "    F = []\n",
    "    fits = []\n",
    "    start_time = time.time()\n",
    "    for i in range(maxIter):\n",
    "        print(\"Running at iteration {}:\".format(i+1))\n",
    "        iter_start_time = time.time()\n",
    "        Fit = ga.computeFitness(layer_idx)\n",
    "        top_k_fitness = ga.getTopK_Fit(k)\n",
    "        fits.append(top_k_fitness)\n",
    "        P_prime = ga.select()\n",
    "        test_cases = []\n",
    "        test_cases.extend(P_prime)\n",
    "        while len(test_cases) < ga.n:\n",
    "            x1, x2 = ga.selectParents()\n",
    "            x_prime = ga.crossover()\n",
    "            r = random.uniform(0,1)\n",
    "            if r < ga.r2:\n",
    "                x_2prime = ga.mutate()\n",
    "                test_cases.append(x_2prime)\n",
    "\n",
    "        ga.mutated_inputs = np.array(test_cases)\n",
    "        ga.update_inputs()\n",
    "        X = ga.checkFailed()\n",
    "        if X != []:\n",
    "            F.extend(X)\n",
    "        iter_end_time = time.time()\n",
    "        \n",
    "        print(\"top {} fitness scores: \".format(k), top_k_fitness[1])\n",
    "        print(\"Taken time: {}\".format(iter_end_time-iter_start_time))\n",
    "        print()\n",
    "    \n",
    "    end_time = time.time()\n",
    "    print(\"Total taken time: {}\".format(end_time-start_time))\n",
    "\n",
    "    return F, fits"
   ]
  },
  {
   "cell_type": "code",
   "execution_count": 7,
   "metadata": {
    "scrolled": false
   },
   "outputs": [],
   "source": [
    "fit_grad = lambda L: [np.mean(i[1]) for i in L]"
   ]
  },
  {
   "cell_type": "code",
   "execution_count": 8,
   "metadata": {
    "scrolled": false
   },
   "outputs": [
    {
     "data": {
      "text/plain": [
       "<Popen: returncode: None args: ['/data/yylaiai/redis/redis-stable/src/redis-...>"
      ]
     },
     "execution_count": 8,
     "metadata": {},
     "output_type": "execute_result"
    },
    {
     "name": "stdout",
     "output_type": "stream",
     "text": [
      "20687:C 12 Jan 2022 17:14:00.251 # oO0OoO0OoO0Oo Redis is starting oO0OoO0OoO0Oo\n",
      "20687:C 12 Jan 2022 17:14:00.251 # Redis version=6.2.6, bits=64, commit=00000000, modified=0, pid=20687, just started\n",
      "20687:C 12 Jan 2022 17:14:00.251 # Warning: no config file specified, using the default config. In order to specify a config file use /data/yylaiai/redis/redis-stable/src/redis-server /path/to/redis.conf\n",
      "20687:M 12 Jan 2022 17:14:00.253 # You requested maxclients of 10000 requiring at least 10032 max file descriptors.\n",
      "20687:M 12 Jan 2022 17:14:00.253 # Server can't set maximum open files to 10032 because of OS error: Operation not permitted.\n",
      "20687:M 12 Jan 2022 17:14:00.253 # Current maximum open files is 4096. maxclients has been reduced to 4064 to compensate for low ulimit. If you need higher maxclients increase 'ulimit -n'.\n",
      "20687:M 12 Jan 2022 17:14:00.253 * monotonic clock: POSIX clock_gettime\n",
      "20687:M 12 Jan 2022 17:14:00.255 * Running mode=standalone, port=6379.\n",
      "20687:M 12 Jan 2022 17:14:00.255 # WARNING: The TCP backlog setting of 511 cannot be enforced because /proc/sys/net/core/somaxconn is set to the lower value of 128.\n",
      "20687:M 12 Jan 2022 17:14:00.255 # Server initialized\n",
      "20687:M 12 Jan 2022 17:14:00.255 # WARNING overcommit_memory is set to 0! Background save may fail under low memory condition. To fix this issue add 'vm.overcommit_memory = 1' to /etc/sysctl.conf and then reboot or run the command 'sysctl vm.overcommit_memory=1' for this to take effect.\n",
      "20687:M 12 Jan 2022 17:14:00.256 * Ready to accept connections\n"
     ]
    }
   ],
   "source": [
    "redis_server_path = '/data/yylaiai/redis/redis-stable/src/redis-server'\n",
    "subprocess.Popen([redis_server_path])"
   ]
  },
  {
   "cell_type": "markdown",
   "metadata": {},
   "source": [
    "### Testing for Nan fitness function for tensorflow"
   ]
  },
  {
   "cell_type": "code",
   "execution_count": 10,
   "metadata": {
    "scrolled": false
   },
   "outputs": [
    {
     "data": {
      "text/plain": [
       "True"
      ]
     },
     "execution_count": 10,
     "metadata": {},
     "output_type": "execute_result"
    }
   ],
   "source": [
    "# parameters\n",
    "fit = [\"nan\", [\"tensorflow\"]]\n",
    "model = model\n",
    "dataset = x_test_224\n",
    "input_shape = x_test_224[0].shape\n",
    "init_input_mut = 0.1\n",
    "init_weight_mut = 0\n",
    "r1 = 0.5\n",
    "r2 = 0.1\n",
    "m = 5\n",
    "n = 100\n",
    "k = 10\n",
    "maxIter = 10\n",
    "db_flag = 1\n",
    "layer_idx = -1\n",
    "\n",
    "r = redis.Redis(db=db_flag)\n",
    "r.flushdb()"
   ]
  },
  {
   "cell_type": "code",
   "execution_count": 11,
   "metadata": {
    "scrolled": true
   },
   "outputs": [
    {
     "name": "stdout",
     "output_type": "stream",
     "text": [
      "WARNING:tensorflow:Compiled the loaded model, but the compiled metrics have yet to be built. `model.compile_metrics` will be empty until you train or evaluate the model.\n",
      "INFO:tensorflow:Assets written to: ram://4caaf7c6-491a-468d-9d5e-1dafc44fdb01/assets\n"
     ]
    },
    {
     "name": "stderr",
     "output_type": "stream",
     "text": [
      "/data/yylaiai/anaconda3/envs/fyp_v3/lib/python3.9/site-packages/keras/engine/functional.py:1410: CustomMaskWarning: Custom mask layers require a config and must override get_config. When loading, the custom mask layer must be passed to the custom_objects argument.\n",
      "  layer_config = serialize_layer_fn(layer)\n",
      "/data/yylaiai/anaconda3/envs/fyp_v3/lib/python3.9/site-packages/keras/saving/saved_model/layer_serialization.py:112: CustomMaskWarning: Custom mask layers require a config and must override get_config. When loading, the custom mask layer must be passed to the custom_objects argument.\n",
      "  return generic_utils.serialize_keras_object(obj)\n"
     ]
    },
    {
     "name": "stdout",
     "output_type": "stream",
     "text": [
      "Running at iteration 1:\n"
     ]
    },
    {
     "name": "stderr",
     "output_type": "stream",
     "text": [
      "WARNING:tensorflow:No training configuration found in save file, so the model was *not* compiled. Compile it manually.\n"
     ]
    },
    {
     "name": "stdout",
     "output_type": "stream",
     "text": [
      "top 10 fitness scores:  [0.6307482  0.6450412  0.66268176 0.70080656 0.7521301  0.7815855\n",
      " 0.71269125 0.76267976 0.80948865 0.8220059 ]\n",
      "Taken time: 35.75840139389038\n",
      "\n",
      "Running at iteration 2:\n"
     ]
    },
    {
     "name": "stderr",
     "output_type": "stream",
     "text": [
      "WARNING:tensorflow:No training configuration found in save file, so the model was *not* compiled. Compile it manually.\n"
     ]
    },
    {
     "name": "stdout",
     "output_type": "stream",
     "text": [
      "top 10 fitness scores:  [0.9395012  0.94292045 0.94407517 0.94590807 0.9524619  0.96745354\n",
      " 0.97846186 0.9686447  0.9697824  0.95903814]\n",
      "Taken time: 34.33396768569946\n",
      "\n",
      "Running at iteration 3:\n"
     ]
    },
    {
     "name": "stderr",
     "output_type": "stream",
     "text": [
      "WARNING:tensorflow:No training configuration found in save file, so the model was *not* compiled. Compile it manually.\n"
     ]
    },
    {
     "name": "stdout",
     "output_type": "stream",
     "text": [
      "top 10 fitness scores:  [0.95903814 0.9597215  0.9630295  0.97284317 0.9699166  0.96745354\n",
      " 0.9686447  0.9697824  0.97846186 0.96724796]\n",
      "Taken time: 33.80535173416138\n",
      "\n",
      "Running at iteration 4:\n"
     ]
    },
    {
     "name": "stderr",
     "output_type": "stream",
     "text": [
      "WARNING:tensorflow:No training configuration found in save file, so the model was *not* compiled. Compile it manually.\n"
     ]
    },
    {
     "name": "stdout",
     "output_type": "stream",
     "text": [
      "top 10 fitness scores:  [0.95829636 0.96266687 0.96480286 0.96673876 0.96752775 0.97284317\n",
      " 0.97846186 0.9699166  0.9697824  0.9686447 ]\n",
      "Taken time: 34.528120279312134\n",
      "\n",
      "Running at iteration 5:\n"
     ]
    },
    {
     "name": "stderr",
     "output_type": "stream",
     "text": [
      "WARNING:tensorflow:No training configuration found in save file, so the model was *not* compiled. Compile it manually.\n"
     ]
    },
    {
     "name": "stdout",
     "output_type": "stream",
     "text": [
      "top 10 fitness scores:  [0.9613408  0.962002   0.96309483 0.96626204 0.9697824  0.9679748\n",
      " 0.97284317 0.9699166  0.97846186 0.9686447 ]\n",
      "Taken time: 32.90704941749573\n",
      "\n",
      "Running at iteration 6:\n"
     ]
    },
    {
     "name": "stderr",
     "output_type": "stream",
     "text": [
      "WARNING:tensorflow:No training configuration found in save file, so the model was *not* compiled. Compile it manually.\n"
     ]
    },
    {
     "name": "stdout",
     "output_type": "stream",
     "text": [
      "top 10 fitness scores:  [0.95322263 0.95400524 0.96287453 0.9677864  0.9667617  0.9686447\n",
      " 0.97284317 0.97846186 0.9699166  0.9697824 ]\n",
      "Taken time: 31.65530800819397\n",
      "\n",
      "Running at iteration 7:\n"
     ]
    },
    {
     "name": "stderr",
     "output_type": "stream",
     "text": [
      "WARNING:tensorflow:No training configuration found in save file, so the model was *not* compiled. Compile it manually.\n"
     ]
    },
    {
     "name": "stdout",
     "output_type": "stream",
     "text": [
      "top 10 fitness scores:  [0.9493612  0.9531097  0.97284317 0.97403777 0.9534663  0.9697824\n",
      " 0.95844144 0.9699166  0.97846186 0.9686447 ]\n",
      "Taken time: 34.32946038246155\n",
      "\n",
      "Running at iteration 8:\n"
     ]
    },
    {
     "name": "stderr",
     "output_type": "stream",
     "text": [
      "WARNING:tensorflow:No training configuration found in save file, so the model was *not* compiled. Compile it manually.\n"
     ]
    },
    {
     "name": "stdout",
     "output_type": "stream",
     "text": [
      "top 10 fitness scores:  [0.9615281  0.961643   0.9697824  0.9719436  0.97054064 0.97284317\n",
      " 0.97867376 0.97846186 0.9699166  0.97403777]\n",
      "Taken time: 30.52747869491577\n",
      "\n",
      "Running at iteration 9:\n"
     ]
    },
    {
     "name": "stderr",
     "output_type": "stream",
     "text": [
      "WARNING:tensorflow:No training configuration found in save file, so the model was *not* compiled. Compile it manually.\n"
     ]
    },
    {
     "name": "stdout",
     "output_type": "stream",
     "text": [
      "top 10 fitness scores:  [0.9547553  0.96025795 0.9719436  0.9628857  0.96500266 0.97284317\n",
      " 0.9632293  0.97403777 0.97846186 0.97867376]\n",
      "Taken time: 32.36617660522461\n",
      "\n",
      "Running at iteration 10:\n"
     ]
    },
    {
     "name": "stderr",
     "output_type": "stream",
     "text": [
      "WARNING:tensorflow:No training configuration found in save file, so the model was *not* compiled. Compile it manually.\n"
     ]
    },
    {
     "name": "stdout",
     "output_type": "stream",
     "text": [
      "top 10 fitness scores:  [0.95277375 0.96258414 0.96874636 0.9719436  0.97284317 0.97225606\n",
      " 0.97867376 0.97846186 0.97403777 0.97371644]\n",
      "Taken time: 32.70083022117615\n",
      "\n",
      "Total taken time: 332.9262537956238\n",
      "F: []\n"
     ]
    },
    {
     "data": {
      "image/png": "[encoded data removed]",
      "text/plain": [
       "<Figure size 432x288 with 1 Axes>"
      ]
     },
     "metadata": {
      "needs_background": "light"
     },
     "output_type": "display_data"
    }
   ],
   "source": [
    "ga = GA(fit, model, dataset, input_shape, init_input_mut, init_weight_mut, r1, r2, m, n, db_flag)\n",
    "x, theta = ga.initPopulation()\n",
    "ga.prepareFitness()\n",
    "\n",
    "F, fits = ga_main(ga, r2, m, n, k, layer_idx, 10)\n",
    "\n",
    "plt.plot(fit_grad(fits))\n",
    "print(\"F: {}\".format(F))"
   ]
  },
  {
   "cell_type": "markdown",
   "metadata": {},
   "source": [
    "### Testing for Nan fitness function for pytorch"
   ]
  },
  {
   "cell_type": "code",
   "execution_count": 12,
   "metadata": {
    "scrolled": false
   },
   "outputs": [
    {
     "data": {
      "text/plain": [
       "True"
      ]
     },
     "execution_count": 12,
     "metadata": {},
     "output_type": "execute_result"
    }
   ],
   "source": [
    "# parameters\n",
    "fit = [\"nan\", [\"torch\"]]\n",
    "model = model\n",
    "dataset = x_test_224\n",
    "input_shape = x_test_224[0].shape\n",
    "init_input_mut = 0.1\n",
    "init_weight_mut = 0\n",
    "r1 = 0.5\n",
    "r2 = 0.1\n",
    "m = 5\n",
    "n = 100\n",
    "k = 10\n",
    "maxIter = 10\n",
    "db_flag = 1\n",
    "layer_idx = -1\n",
    "\n",
    "r = redis.Redis(db=db_flag)\n",
    "r.flushdb()"
   ]
  },
  {
   "cell_type": "code",
   "execution_count": 13,
   "metadata": {
    "scrolled": true
   },
   "outputs": [
    {
     "name": "stdout",
     "output_type": "stream",
     "text": [
      "WARNING:tensorflow:Compiled the loaded model, but the compiled metrics have yet to be built. `model.compile_metrics` will be empty until you train or evaluate the model.\n",
      "INFO:tensorflow:Assets written to: model_tensorflow/assets\n"
     ]
    },
    {
     "name": "stderr",
     "output_type": "stream",
     "text": [
      "/data/yylaiai/anaconda3/envs/fyp_v3/lib/python3.9/site-packages/keras/engine/functional.py:1410: CustomMaskWarning: Custom mask layers require a config and must override get_config. When loading, the custom mask layer must be passed to the custom_objects argument.\n",
      "  layer_config = serialize_layer_fn(layer)\n",
      "/data/yylaiai/anaconda3/envs/fyp_v3/lib/python3.9/site-packages/keras/saving/saved_model/layer_serialization.py:112: CustomMaskWarning: Custom mask layers require a config and must override get_config. When loading, the custom mask layer must be passed to the custom_objects argument.\n",
      "  return generic_utils.serialize_keras_object(obj)\n",
      "/data/yylaiai/anaconda3/envs/fyp_v3/lib/python3.9/runpy.py:127: RuntimeWarning: 'tf2onnx.convert' found in sys.modules after import of package 'tf2onnx', but prior to execution of 'tf2onnx.convert'; this may result in unpredictable behaviour\n",
      "  warn(RuntimeWarning(msg))\n",
      "2022-01-12 17:21:16,918 - WARNING - '--tag' not specified for saved_model. Using --tag serve\n",
      "2022-01-12 17:21:24,049 - INFO - Signatures found in model: [serving_default].\n",
      "2022-01-12 17:21:24,049 - WARNING - '--signature_def' not specified, using first signature: serving_default\n",
      "2022-01-12 17:21:24,051 - INFO - Output names: ['predictions']\n",
      "WARNING:tensorflow:From /data/yylaiai/anaconda3/envs/fyp_v3/lib/python3.9/site-packages/tf2onnx/tf_loader.py:706: extract_sub_graph (from tensorflow.python.framework.graph_util_impl) is deprecated and will be removed in a future version.\n",
      "Instructions for updating:\n",
      "Use `tf.compat.v1.graph_util.extract_sub_graph`\n",
      "2022-01-12 17:21:28,103 - WARNING - From /data/yylaiai/anaconda3/envs/fyp_v3/lib/python3.9/site-packages/tf2onnx/tf_loader.py:706: extract_sub_graph (from tensorflow.python.framework.graph_util_impl) is deprecated and will be removed in a future version.\n",
      "Instructions for updating:\n",
      "Use `tf.compat.v1.graph_util.extract_sub_graph`\n",
      "2022-01-12 17:21:29,886 - INFO - Using tensorflow=2.7.0, onnx=1.10.2, tf2onnx=1.10.0/5cd3b5\n",
      "2022-01-12 17:21:29,886 - INFO - Using opset <onnx, 9>\n",
      "2022-01-12 17:21:36,418 - INFO - Computed 0 values for constant folding\n",
      "2022-01-12 17:21:40,984 - INFO - Optimizing ONNX model\n",
      "2022-01-12 17:21:43,327 - INFO - After optimization: Add -1 (18->17), BatchNormalization -53 (53->0), Const -162 (270->108), GlobalAveragePool +1 (0->1), Identity -57 (57->0), ReduceMean -1 (1->0), Squeeze +1 (0->1), Transpose -213 (214->1)\n",
      "2022-01-12 17:21:44,337 - INFO - \n",
      "2022-01-12 17:21:44,337 - INFO - Successfully converted TensorFlow model model_tensorflow to ONNX\n",
      "2022-01-12 17:21:44,337 - INFO - Model inputs: ['input_1']\n",
      "2022-01-12 17:21:44,337 - INFO - Model outputs: ['predictions']\n",
      "2022-01-12 17:21:44,337 - INFO - ONNX model is saved at model_tensorflow.onnx\n",
      "WARNING:root:Cannot get default value for perm of Transpose.\n",
      "WARNING:root:Cannot get default value for dilations of Conv.\n",
      "WARNING:root:Cannot get default value for kernel_shape of Conv.\n",
      "WARNING:root:Cannot get default value for pads of Conv.\n",
      "WARNING:root:Cannot get default value for strides of Conv.\n",
      "WARNING:root:Cannot get default value for dilations of MaxPool.\n",
      "WARNING:root:Cannot get default value for kernel_shape of MaxPool.\n",
      "WARNING:root:Cannot get default value for pads of MaxPool.\n",
      "WARNING:root:Cannot get default value for strides of MaxPool.\n"
     ]
    },
    {
     "name": "stdout",
     "output_type": "stream",
     "text": [
      "# Autogenerated by onnx-pytorch.\n",
      "\n",
      "import glob\n",
      "import os\n",
      "import math\n",
      "\n",
      "import numpy as np\n",
      "import torch\n",
      "import torch.nn as nn\n",
      "import torch.nn.functional as F\n",
      "import torchvision\n",
      "\n",
      "\n",
      "class Model(nn.Module):\n",
      "  def __init__(self):\n",
      "    super(Model, self).__init__()\n",
      "    self._vars = nn.ParameterDict()\n",
      "    self._regularizer_params = []\n",
      "    for b in glob.glob(\n",
      "        os.path.join(os.path.dirname(__file__), \"variables\", \"*.npy\")):\n",
      "      v = torch.from_numpy(np.load(b))\n",
      "      requires_grad = v.dtype.is_floating_point or v.dtype.is_complex\n",
      "      self._vars[os.path.basename(b)[:-4]] = nn.Parameter(v, requires_grad=requires_grad)\n",
      "    self.n_Conv__434 = nn.Conv2d(**{'groups': 1, 'dilation': [1, 1], 'out_channels': 64, 'padding': [3, 3], 'kernel_size': (7, 7), 'stride': [2, 2], 'in_channels': 3, 'bias': True})\n",
      "    self.n_Conv__434.weight.data = self._vars[\"Conv__434_weights_fused_bn\"]\n",
      "    self.n_Conv__434.bias.data = self._vars[\"Conv__434_bias_fused_bn\"]\n",
      "    self.n_StatefulPartitionedCall_resnet50_pool1_pool_MaxPool = nn.MaxPool2d(**{'dilation': 1, 'kernel_size': [3, 3], 'ceil_mode': False, 'stride': [2, 2], 'return_indices': False})\n",
      "    self.n_StatefulPartitionedCall_resnet50_conv2_block1_1_conv_Conv2D = nn.Conv2d(**{'groups': 1, 'dilation': [1, 1], 'out_channels': 64, 'padding': 0, 'kernel_size': (1, 1), 'stride': [1, 1], 'in_channels': 64, 'bias': True})\n",
      "    self.n_StatefulPartitionedCall_resnet50_conv2_block1_1_conv_Conv2D.weight.data = self._vars[\"StatefulPartitionedCall_resnet50_conv2_block1_1_conv_Conv2D_weights_fused_bn\"]\n",
      "    self.n_StatefulPartitionedCall_resnet50_conv2_block1_1_conv_Conv2D.bias.data = self._vars[\"StatefulPartitionedCall_resnet50_conv2_block1_1_conv_Conv2D_bias_fused_bn\"]\n",
      "    self.n_StatefulPartitionedCall_resnet50_conv2_block1_2_conv_Conv2D = nn.Conv2d(**{'groups': 1, 'dilation': [1, 1], 'out_channels': 64, 'padding': [1, 1], 'kernel_size': (3, 3), 'stride': [1, 1], 'in_channels': 64, 'bias': True})\n",
      "    self.n_StatefulPartitionedCall_resnet50_conv2_block1_2_conv_Conv2D.weight.data = self._vars[\"StatefulPartitionedCall_resnet50_conv2_block1_2_conv_Conv2D_weights_fused_bn\"]\n",
      "    self.n_StatefulPartitionedCall_resnet50_conv2_block1_2_conv_Conv2D.bias.data = self._vars[\"StatefulPartitionedCall_resnet50_conv2_block1_2_conv_Conv2D_bias_fused_bn\"]\n",
      "    self.n_StatefulPartitionedCall_resnet50_conv2_block1_3_conv_Conv2D = nn.Conv2d(**{'groups': 1, 'dilation': [1, 1], 'out_channels': 256, 'padding': 0, 'kernel_size': (1, 1), 'stride': [1, 1], 'in_channels': 64, 'bias': True})\n",
      "    self.n_StatefulPartitionedCall_resnet50_conv2_block1_3_conv_Conv2D.weight.data = self._vars[\"StatefulPartitionedCall_resnet50_conv2_block1_3_conv_Conv2D_weights_fused_bn\"]\n",
      "    self.n_StatefulPartitionedCall_resnet50_conv2_block1_3_conv_Conv2D.bias.data = self._vars[\"StatefulPartitionedCall_resnet50_conv2_block1_3_conv_Conv2D_bias_fused_bn\"]\n",
      "    self.n_StatefulPartitionedCall_resnet50_conv2_block1_0_conv_Conv2D = nn.Conv2d(**{'groups': 1, 'dilation': [1, 1], 'out_channels': 256, 'padding': 0, 'kernel_size': (1, 1), 'stride': [1, 1], 'in_channels': 64, 'bias': True})\n",
      "    self.n_StatefulPartitionedCall_resnet50_conv2_block1_0_conv_Conv2D.weight.data = self._vars[\"StatefulPartitionedCall_resnet50_conv2_block1_0_conv_Conv2D_weights_fused_bn\"]\n",
      "    self.n_StatefulPartitionedCall_resnet50_conv2_block1_0_conv_Conv2D.bias.data = self._vars[\"StatefulPartitionedCall_resnet50_conv2_block1_0_conv_Conv2D_bias_fused_bn\"]\n",
      "    self.n_StatefulPartitionedCall_resnet50_conv2_block2_1_conv_Conv2D = nn.Conv2d(**{'groups': 1, 'dilation': [1, 1], 'out_channels': 64, 'padding': 0, 'kernel_size': (1, 1), 'stride': [1, 1], 'in_channels': 256, 'bias': True})\n",
      "    self.n_StatefulPartitionedCall_resnet50_conv2_block2_1_conv_Conv2D.weight.data = self._vars[\"StatefulPartitionedCall_resnet50_conv2_block2_1_conv_Conv2D_weights_fused_bn\"]\n",
      "    self.n_StatefulPartitionedCall_resnet50_conv2_block2_1_conv_Conv2D.bias.data = self._vars[\"StatefulPartitionedCall_resnet50_conv2_block2_1_conv_Conv2D_bias_fused_bn\"]\n",
      "    self.n_StatefulPartitionedCall_resnet50_conv2_block2_2_conv_Conv2D = nn.Conv2d(**{'groups': 1, 'dilation': [1, 1], 'out_channels': 64, 'padding': [1, 1], 'kernel_size': (3, 3), 'stride': [1, 1], 'in_channels': 64, 'bias': True})\n",
      "    self.n_StatefulPartitionedCall_resnet50_conv2_block2_2_conv_Conv2D.weight.data = self._vars[\"StatefulPartitionedCall_resnet50_conv2_block2_2_conv_Conv2D_weights_fused_bn\"]\n",
      "    self.n_StatefulPartitionedCall_resnet50_conv2_block2_2_conv_Conv2D.bias.data = self._vars[\"StatefulPartitionedCall_resnet50_conv2_block2_2_conv_Conv2D_bias_fused_bn\"]\n",
      "    self.n_StatefulPartitionedCall_resnet50_conv2_block2_3_conv_Conv2D = nn.Conv2d(**{'groups': 1, 'dilation': [1, 1], 'out_channels': 256, 'padding': 0, 'kernel_size': (1, 1), 'stride': [1, 1], 'in_channels': 64, 'bias': True})\n",
      "    self.n_StatefulPartitionedCall_resnet50_conv2_block2_3_conv_Conv2D.weight.data = self._vars[\"StatefulPartitionedCall_resnet50_conv2_block2_3_conv_Conv2D_weights_fused_bn\"]\n",
      "    self.n_StatefulPartitionedCall_resnet50_conv2_block2_3_conv_Conv2D.bias.data = self._vars[\"StatefulPartitionedCall_resnet50_conv2_block2_3_conv_Conv2D_bias_fused_bn\"]\n",
      "    self.n_StatefulPartitionedCall_resnet50_conv2_block3_1_conv_Conv2D = nn.Conv2d(**{'groups': 1, 'dilation': [1, 1], 'out_channels': 64, 'padding': 0, 'kernel_size': (1, 1), 'stride': [1, 1], 'in_channels': 256, 'bias': True})\n",
      "    self.n_StatefulPartitionedCall_resnet50_conv2_block3_1_conv_Conv2D.weight.data = self._vars[\"StatefulPartitionedCall_resnet50_conv2_block3_1_conv_Conv2D_weights_fused_bn\"]\n",
      "    self.n_StatefulPartitionedCall_resnet50_conv2_block3_1_conv_Conv2D.bias.data = self._vars[\"StatefulPartitionedCall_resnet50_conv2_block3_1_conv_Conv2D_bias_fused_bn\"]\n",
      "    self.n_StatefulPartitionedCall_resnet50_conv2_block3_2_conv_Conv2D = nn.Conv2d(**{'groups': 1, 'dilation': [1, 1], 'out_channels': 64, 'padding': [1, 1], 'kernel_size': (3, 3), 'stride': [1, 1], 'in_channels': 64, 'bias': True})\n",
      "    self.n_StatefulPartitionedCall_resnet50_conv2_block3_2_conv_Conv2D.weight.data = self._vars[\"StatefulPartitionedCall_resnet50_conv2_block3_2_conv_Conv2D_weights_fused_bn\"]\n",
      "    self.n_StatefulPartitionedCall_resnet50_conv2_block3_2_conv_Conv2D.bias.data = self._vars[\"StatefulPartitionedCall_resnet50_conv2_block3_2_conv_Conv2D_bias_fused_bn\"]\n",
      "    self.n_StatefulPartitionedCall_resnet50_conv2_block3_3_conv_Conv2D = nn.Conv2d(**{'groups': 1, 'dilation': [1, 1], 'out_channels': 256, 'padding': 0, 'kernel_size': (1, 1), 'stride': [1, 1], 'in_channels': 64, 'bias': True})\n",
      "    self.n_StatefulPartitionedCall_resnet50_conv2_block3_3_conv_Conv2D.weight.data = self._vars[\"StatefulPartitionedCall_resnet50_conv2_block3_3_conv_Conv2D_weights_fused_bn\"]\n",
      "    self.n_StatefulPartitionedCall_resnet50_conv2_block3_3_conv_Conv2D.bias.data = self._vars[\"StatefulPartitionedCall_resnet50_conv2_block3_3_conv_Conv2D_bias_fused_bn\"]\n",
      "    self.n_StatefulPartitionedCall_resnet50_conv3_block1_1_conv_Conv2D = nn.Conv2d(**{'groups': 1, 'dilation': [1, 1], 'out_channels': 128, 'padding': 0, 'kernel_size': (1, 1), 'stride': [2, 2], 'in_channels': 256, 'bias': True})\n",
      "    self.n_StatefulPartitionedCall_resnet50_conv3_block1_1_conv_Conv2D.weight.data = self._vars[\"StatefulPartitionedCall_resnet50_conv3_block1_1_conv_Conv2D_weights_fused_bn\"]\n",
      "    self.n_StatefulPartitionedCall_resnet50_conv3_block1_1_conv_Conv2D.bias.data = self._vars[\"StatefulPartitionedCall_resnet50_conv3_block1_1_conv_Conv2D_bias_fused_bn\"]\n",
      "    self.n_StatefulPartitionedCall_resnet50_conv3_block1_2_conv_Conv2D = nn.Conv2d(**{'groups': 1, 'dilation': [1, 1], 'out_channels': 128, 'padding': [1, 1], 'kernel_size': (3, 3), 'stride': [1, 1], 'in_channels': 128, 'bias': True})\n",
      "    self.n_StatefulPartitionedCall_resnet50_conv3_block1_2_conv_Conv2D.weight.data = self._vars[\"StatefulPartitionedCall_resnet50_conv3_block1_2_conv_Conv2D_weights_fused_bn\"]\n",
      "    self.n_StatefulPartitionedCall_resnet50_conv3_block1_2_conv_Conv2D.bias.data = self._vars[\"StatefulPartitionedCall_resnet50_conv3_block1_2_conv_Conv2D_bias_fused_bn\"]\n",
      "    self.n_StatefulPartitionedCall_resnet50_conv3_block1_3_conv_Conv2D = nn.Conv2d(**{'groups': 1, 'dilation': [1, 1], 'out_channels': 512, 'padding': 0, 'kernel_size': (1, 1), 'stride': [1, 1], 'in_channels': 128, 'bias': True})\n",
      "    self.n_StatefulPartitionedCall_resnet50_conv3_block1_3_conv_Conv2D.weight.data = self._vars[\"StatefulPartitionedCall_resnet50_conv3_block1_3_conv_Conv2D_weights_fused_bn\"]\n",
      "    self.n_StatefulPartitionedCall_resnet50_conv3_block1_3_conv_Conv2D.bias.data = self._vars[\"StatefulPartitionedCall_resnet50_conv3_block1_3_conv_Conv2D_bias_fused_bn\"]\n",
      "    self.n_StatefulPartitionedCall_resnet50_conv3_block1_0_conv_Conv2D = nn.Conv2d(**{'groups': 1, 'dilation': [1, 1], 'out_channels': 512, 'padding': 0, 'kernel_size': (1, 1), 'stride': [2, 2], 'in_channels': 256, 'bias': True})\n",
      "    self.n_StatefulPartitionedCall_resnet50_conv3_block1_0_conv_Conv2D.weight.data = self._vars[\"StatefulPartitionedCall_resnet50_conv3_block1_0_conv_Conv2D_weights_fused_bn\"]\n",
      "    self.n_StatefulPartitionedCall_resnet50_conv3_block1_0_conv_Conv2D.bias.data = self._vars[\"StatefulPartitionedCall_resnet50_conv3_block1_0_conv_Conv2D_bias_fused_bn\"]\n",
      "    self.n_StatefulPartitionedCall_resnet50_conv3_block2_1_conv_Conv2D = nn.Conv2d(**{'groups': 1, 'dilation': [1, 1], 'out_channels': 128, 'padding': 0, 'kernel_size': (1, 1), 'stride': [1, 1], 'in_channels': 512, 'bias': True})\n",
      "    self.n_StatefulPartitionedCall_resnet50_conv3_block2_1_conv_Conv2D.weight.data = self._vars[\"StatefulPartitionedCall_resnet50_conv3_block2_1_conv_Conv2D_weights_fused_bn\"]\n",
      "    self.n_StatefulPartitionedCall_resnet50_conv3_block2_1_conv_Conv2D.bias.data = self._vars[\"StatefulPartitionedCall_resnet50_conv3_block2_1_conv_Conv2D_bias_fused_bn\"]\n",
      "    self.n_StatefulPartitionedCall_resnet50_conv3_block2_2_conv_Conv2D = nn.Conv2d(**{'groups': 1, 'dilation': [1, 1], 'out_channels': 128, 'padding': [1, 1], 'kernel_size': (3, 3), 'stride': [1, 1], 'in_channels': 128, 'bias': True})\n",
      "    self.n_StatefulPartitionedCall_resnet50_conv3_block2_2_conv_Conv2D.weight.data = self._vars[\"StatefulPartitionedCall_resnet50_conv3_block2_2_conv_Conv2D_weights_fused_bn\"]\n",
      "    self.n_StatefulPartitionedCall_resnet50_conv3_block2_2_conv_Conv2D.bias.data = self._vars[\"StatefulPartitionedCall_resnet50_conv3_block2_2_conv_Conv2D_bias_fused_bn\"]\n",
      "    self.n_StatefulPartitionedCall_resnet50_conv3_block2_3_conv_Conv2D = nn.Conv2d(**{'groups': 1, 'dilation': [1, 1], 'out_channels': 512, 'padding': 0, 'kernel_size': (1, 1), 'stride': [1, 1], 'in_channels': 128, 'bias': True})\n",
      "    self.n_StatefulPartitionedCall_resnet50_conv3_block2_3_conv_Conv2D.weight.data = self._vars[\"StatefulPartitionedCall_resnet50_conv3_block2_3_conv_Conv2D_weights_fused_bn\"]\n",
      "    self.n_StatefulPartitionedCall_resnet50_conv3_block2_3_conv_Conv2D.bias.data = self._vars[\"StatefulPartitionedCall_resnet50_conv3_block2_3_conv_Conv2D_bias_fused_bn\"]\n",
      "    self.n_StatefulPartitionedCall_resnet50_conv3_block3_1_conv_Conv2D = nn.Conv2d(**{'groups': 1, 'dilation': [1, 1], 'out_channels': 128, 'padding': 0, 'kernel_size': (1, 1), 'stride': [1, 1], 'in_channels': 512, 'bias': True})\n",
      "    self.n_StatefulPartitionedCall_resnet50_conv3_block3_1_conv_Conv2D.weight.data = self._vars[\"StatefulPartitionedCall_resnet50_conv3_block3_1_conv_Conv2D_weights_fused_bn\"]\n",
      "    self.n_StatefulPartitionedCall_resnet50_conv3_block3_1_conv_Conv2D.bias.data = self._vars[\"StatefulPartitionedCall_resnet50_conv3_block3_1_conv_Conv2D_bias_fused_bn\"]\n",
      "    self.n_StatefulPartitionedCall_resnet50_conv3_block3_2_conv_Conv2D = nn.Conv2d(**{'groups': 1, 'dilation': [1, 1], 'out_channels': 128, 'padding': [1, 1], 'kernel_size': (3, 3), 'stride': [1, 1], 'in_channels': 128, 'bias': True})\n",
      "    self.n_StatefulPartitionedCall_resnet50_conv3_block3_2_conv_Conv2D.weight.data = self._vars[\"StatefulPartitionedCall_resnet50_conv3_block3_2_conv_Conv2D_weights_fused_bn\"]\n",
      "    self.n_StatefulPartitionedCall_resnet50_conv3_block3_2_conv_Conv2D.bias.data = self._vars[\"StatefulPartitionedCall_resnet50_conv3_block3_2_conv_Conv2D_bias_fused_bn\"]\n",
      "    self.n_StatefulPartitionedCall_resnet50_conv3_block3_3_conv_Conv2D = nn.Conv2d(**{'groups': 1, 'dilation': [1, 1], 'out_channels': 512, 'padding': 0, 'kernel_size': (1, 1), 'stride': [1, 1], 'in_channels': 128, 'bias': True})\n",
      "    self.n_StatefulPartitionedCall_resnet50_conv3_block3_3_conv_Conv2D.weight.data = self._vars[\"StatefulPartitionedCall_resnet50_conv3_block3_3_conv_Conv2D_weights_fused_bn\"]\n",
      "    self.n_StatefulPartitionedCall_resnet50_conv3_block3_3_conv_Conv2D.bias.data = self._vars[\"StatefulPartitionedCall_resnet50_conv3_block3_3_conv_Conv2D_bias_fused_bn\"]\n",
      "    self.n_StatefulPartitionedCall_resnet50_conv3_block4_1_conv_Conv2D = nn.Conv2d(**{'groups': 1, 'dilation': [1, 1], 'out_channels': 128, 'padding': 0, 'kernel_size': (1, 1), 'stride': [1, 1], 'in_channels': 512, 'bias': True})\n",
      "    self.n_StatefulPartitionedCall_resnet50_conv3_block4_1_conv_Conv2D.weight.data = self._vars[\"StatefulPartitionedCall_resnet50_conv3_block4_1_conv_Conv2D_weights_fused_bn\"]\n",
      "    self.n_StatefulPartitionedCall_resnet50_conv3_block4_1_conv_Conv2D.bias.data = self._vars[\"StatefulPartitionedCall_resnet50_conv3_block4_1_conv_Conv2D_bias_fused_bn\"]\n",
      "    self.n_StatefulPartitionedCall_resnet50_conv3_block4_2_conv_Conv2D = nn.Conv2d(**{'groups': 1, 'dilation': [1, 1], 'out_channels': 128, 'padding': [1, 1], 'kernel_size': (3, 3), 'stride': [1, 1], 'in_channels': 128, 'bias': True})\n",
      "    self.n_StatefulPartitionedCall_resnet50_conv3_block4_2_conv_Conv2D.weight.data = self._vars[\"StatefulPartitionedCall_resnet50_conv3_block4_2_conv_Conv2D_weights_fused_bn\"]\n",
      "    self.n_StatefulPartitionedCall_resnet50_conv3_block4_2_conv_Conv2D.bias.data = self._vars[\"StatefulPartitionedCall_resnet50_conv3_block4_2_conv_Conv2D_bias_fused_bn\"]\n",
      "    self.n_StatefulPartitionedCall_resnet50_conv3_block4_3_conv_Conv2D = nn.Conv2d(**{'groups': 1, 'dilation': [1, 1], 'out_channels': 512, 'padding': 0, 'kernel_size': (1, 1), 'stride': [1, 1], 'in_channels': 128, 'bias': True})\n",
      "    self.n_StatefulPartitionedCall_resnet50_conv3_block4_3_conv_Conv2D.weight.data = self._vars[\"StatefulPartitionedCall_resnet50_conv3_block4_3_conv_Conv2D_weights_fused_bn\"]\n",
      "    self.n_StatefulPartitionedCall_resnet50_conv3_block4_3_conv_Conv2D.bias.data = self._vars[\"StatefulPartitionedCall_resnet50_conv3_block4_3_conv_Conv2D_bias_fused_bn\"]\n",
      "    self.n_StatefulPartitionedCall_resnet50_conv4_block1_1_conv_Conv2D = nn.Conv2d(**{'groups': 1, 'dilation': [1, 1], 'out_channels': 256, 'padding': 0, 'kernel_size': (1, 1), 'stride': [2, 2], 'in_channels': 512, 'bias': True})\n",
      "    self.n_StatefulPartitionedCall_resnet50_conv4_block1_1_conv_Conv2D.weight.data = self._vars[\"StatefulPartitionedCall_resnet50_conv4_block1_1_conv_Conv2D_weights_fused_bn\"]\n",
      "    self.n_StatefulPartitionedCall_resnet50_conv4_block1_1_conv_Conv2D.bias.data = self._vars[\"StatefulPartitionedCall_resnet50_conv4_block1_1_conv_Conv2D_bias_fused_bn\"]\n",
      "    self.n_StatefulPartitionedCall_resnet50_conv4_block1_2_conv_Conv2D = nn.Conv2d(**{'groups': 1, 'dilation': [1, 1], 'out_channels': 256, 'padding': [1, 1], 'kernel_size': (3, 3), 'stride': [1, 1], 'in_channels': 256, 'bias': True})\n",
      "    self.n_StatefulPartitionedCall_resnet50_conv4_block1_2_conv_Conv2D.weight.data = self._vars[\"StatefulPartitionedCall_resnet50_conv4_block1_2_conv_Conv2D_weights_fused_bn\"]\n",
      "    self.n_StatefulPartitionedCall_resnet50_conv4_block1_2_conv_Conv2D.bias.data = self._vars[\"StatefulPartitionedCall_resnet50_conv4_block1_2_conv_Conv2D_bias_fused_bn\"]\n",
      "    self.n_StatefulPartitionedCall_resnet50_conv4_block1_3_conv_Conv2D = nn.Conv2d(**{'groups': 1, 'dilation': [1, 1], 'out_channels': 1024, 'padding': 0, 'kernel_size': (1, 1), 'stride': [1, 1], 'in_channels': 256, 'bias': True})\n",
      "    self.n_StatefulPartitionedCall_resnet50_conv4_block1_3_conv_Conv2D.weight.data = self._vars[\"StatefulPartitionedCall_resnet50_conv4_block1_3_conv_Conv2D_weights_fused_bn\"]\n",
      "    self.n_StatefulPartitionedCall_resnet50_conv4_block1_3_conv_Conv2D.bias.data = self._vars[\"StatefulPartitionedCall_resnet50_conv4_block1_3_conv_Conv2D_bias_fused_bn\"]\n",
      "    self.n_StatefulPartitionedCall_resnet50_conv4_block1_0_conv_Conv2D = nn.Conv2d(**{'groups': 1, 'dilation': [1, 1], 'out_channels': 1024, 'padding': 0, 'kernel_size': (1, 1), 'stride': [2, 2], 'in_channels': 512, 'bias': True})\n",
      "    self.n_StatefulPartitionedCall_resnet50_conv4_block1_0_conv_Conv2D.weight.data = self._vars[\"StatefulPartitionedCall_resnet50_conv4_block1_0_conv_Conv2D_weights_fused_bn\"]\n",
      "    self.n_StatefulPartitionedCall_resnet50_conv4_block1_0_conv_Conv2D.bias.data = self._vars[\"StatefulPartitionedCall_resnet50_conv4_block1_0_conv_Conv2D_bias_fused_bn\"]\n",
      "    self.n_StatefulPartitionedCall_resnet50_conv4_block2_1_conv_Conv2D = nn.Conv2d(**{'groups': 1, 'dilation': [1, 1], 'out_channels': 256, 'padding': 0, 'kernel_size': (1, 1), 'stride': [1, 1], 'in_channels': 1024, 'bias': True})\n",
      "    self.n_StatefulPartitionedCall_resnet50_conv4_block2_1_conv_Conv2D.weight.data = self._vars[\"StatefulPartitionedCall_resnet50_conv4_block2_1_conv_Conv2D_weights_fused_bn\"]\n",
      "    self.n_StatefulPartitionedCall_resnet50_conv4_block2_1_conv_Conv2D.bias.data = self._vars[\"StatefulPartitionedCall_resnet50_conv4_block2_1_conv_Conv2D_bias_fused_bn\"]\n",
      "    self.n_StatefulPartitionedCall_resnet50_conv4_block2_2_conv_Conv2D = nn.Conv2d(**{'groups': 1, 'dilation': [1, 1], 'out_channels': 256, 'padding': [1, 1], 'kernel_size': (3, 3), 'stride': [1, 1], 'in_channels': 256, 'bias': True})\n",
      "    self.n_StatefulPartitionedCall_resnet50_conv4_block2_2_conv_Conv2D.weight.data = self._vars[\"StatefulPartitionedCall_resnet50_conv4_block2_2_conv_Conv2D_weights_fused_bn\"]\n",
      "    self.n_StatefulPartitionedCall_resnet50_conv4_block2_2_conv_Conv2D.bias.data = self._vars[\"StatefulPartitionedCall_resnet50_conv4_block2_2_conv_Conv2D_bias_fused_bn\"]\n",
      "    self.n_StatefulPartitionedCall_resnet50_conv4_block2_3_conv_Conv2D = nn.Conv2d(**{'groups': 1, 'dilation': [1, 1], 'out_channels': 1024, 'padding': 0, 'kernel_size': (1, 1), 'stride': [1, 1], 'in_channels': 256, 'bias': True})\n",
      "    self.n_StatefulPartitionedCall_resnet50_conv4_block2_3_conv_Conv2D.weight.data = self._vars[\"StatefulPartitionedCall_resnet50_conv4_block2_3_conv_Conv2D_weights_fused_bn\"]\n",
      "    self.n_StatefulPartitionedCall_resnet50_conv4_block2_3_conv_Conv2D.bias.data = self._vars[\"StatefulPartitionedCall_resnet50_conv4_block2_3_conv_Conv2D_bias_fused_bn\"]\n",
      "    self.n_StatefulPartitionedCall_resnet50_conv4_block3_1_conv_Conv2D = nn.Conv2d(**{'groups': 1, 'dilation': [1, 1], 'out_channels': 256, 'padding': 0, 'kernel_size': (1, 1), 'stride': [1, 1], 'in_channels': 1024, 'bias': True})\n",
      "    self.n_StatefulPartitionedCall_resnet50_conv4_block3_1_conv_Conv2D.weight.data = self._vars[\"StatefulPartitionedCall_resnet50_conv4_block3_1_conv_Conv2D_weights_fused_bn\"]\n",
      "    self.n_StatefulPartitionedCall_resnet50_conv4_block3_1_conv_Conv2D.bias.data = self._vars[\"StatefulPartitionedCall_resnet50_conv4_block3_1_conv_Conv2D_bias_fused_bn\"]\n",
      "    self.n_StatefulPartitionedCall_resnet50_conv4_block3_2_conv_Conv2D = nn.Conv2d(**{'groups': 1, 'dilation': [1, 1], 'out_channels': 256, 'padding': [1, 1], 'kernel_size': (3, 3), 'stride': [1, 1], 'in_channels': 256, 'bias': True})\n",
      "    self.n_StatefulPartitionedCall_resnet50_conv4_block3_2_conv_Conv2D.weight.data = self._vars[\"StatefulPartitionedCall_resnet50_conv4_block3_2_conv_Conv2D_weights_fused_bn\"]\n",
      "    self.n_StatefulPartitionedCall_resnet50_conv4_block3_2_conv_Conv2D.bias.data = self._vars[\"StatefulPartitionedCall_resnet50_conv4_block3_2_conv_Conv2D_bias_fused_bn\"]\n",
      "    self.n_StatefulPartitionedCall_resnet50_conv4_block3_3_conv_Conv2D = nn.Conv2d(**{'groups': 1, 'dilation': [1, 1], 'out_channels': 1024, 'padding': 0, 'kernel_size': (1, 1), 'stride': [1, 1], 'in_channels': 256, 'bias': True})\n",
      "    self.n_StatefulPartitionedCall_resnet50_conv4_block3_3_conv_Conv2D.weight.data = self._vars[\"StatefulPartitionedCall_resnet50_conv4_block3_3_conv_Conv2D_weights_fused_bn\"]\n",
      "    self.n_StatefulPartitionedCall_resnet50_conv4_block3_3_conv_Conv2D.bias.data = self._vars[\"StatefulPartitionedCall_resnet50_conv4_block3_3_conv_Conv2D_bias_fused_bn\"]\n",
      "    self.n_StatefulPartitionedCall_resnet50_conv4_block4_1_conv_Conv2D = nn.Conv2d(**{'groups': 1, 'dilation': [1, 1], 'out_channels': 256, 'padding': 0, 'kernel_size': (1, 1), 'stride': [1, 1], 'in_channels': 1024, 'bias': True})\n",
      "    self.n_StatefulPartitionedCall_resnet50_conv4_block4_1_conv_Conv2D.weight.data = self._vars[\"StatefulPartitionedCall_resnet50_conv4_block4_1_conv_Conv2D_weights_fused_bn\"]\n",
      "    self.n_StatefulPartitionedCall_resnet50_conv4_block4_1_conv_Conv2D.bias.data = self._vars[\"StatefulPartitionedCall_resnet50_conv4_block4_1_conv_Conv2D_bias_fused_bn\"]\n",
      "    self.n_StatefulPartitionedCall_resnet50_conv4_block4_2_conv_Conv2D = nn.Conv2d(**{'groups': 1, 'dilation': [1, 1], 'out_channels': 256, 'padding': [1, 1], 'kernel_size': (3, 3), 'stride': [1, 1], 'in_channels': 256, 'bias': True})\n",
      "    self.n_StatefulPartitionedCall_resnet50_conv4_block4_2_conv_Conv2D.weight.data = self._vars[\"StatefulPartitionedCall_resnet50_conv4_block4_2_conv_Conv2D_weights_fused_bn\"]\n",
      "    self.n_StatefulPartitionedCall_resnet50_conv4_block4_2_conv_Conv2D.bias.data = self._vars[\"StatefulPartitionedCall_resnet50_conv4_block4_2_conv_Conv2D_bias_fused_bn\"]\n",
      "    self.n_StatefulPartitionedCall_resnet50_conv4_block4_3_conv_Conv2D = nn.Conv2d(**{'groups': 1, 'dilation': [1, 1], 'out_channels': 1024, 'padding': 0, 'kernel_size': (1, 1), 'stride': [1, 1], 'in_channels': 256, 'bias': True})\n",
      "    self.n_StatefulPartitionedCall_resnet50_conv4_block4_3_conv_Conv2D.weight.data = self._vars[\"StatefulPartitionedCall_resnet50_conv4_block4_3_conv_Conv2D_weights_fused_bn\"]\n",
      "    self.n_StatefulPartitionedCall_resnet50_conv4_block4_3_conv_Conv2D.bias.data = self._vars[\"StatefulPartitionedCall_resnet50_conv4_block4_3_conv_Conv2D_bias_fused_bn\"]\n",
      "    self.n_StatefulPartitionedCall_resnet50_conv4_block5_1_conv_Conv2D = nn.Conv2d(**{'groups': 1, 'dilation': [1, 1], 'out_channels': 256, 'padding': 0, 'kernel_size': (1, 1), 'stride': [1, 1], 'in_channels': 1024, 'bias': True})\n",
      "    self.n_StatefulPartitionedCall_resnet50_conv4_block5_1_conv_Conv2D.weight.data = self._vars[\"StatefulPartitionedCall_resnet50_conv4_block5_1_conv_Conv2D_weights_fused_bn\"]\n",
      "    self.n_StatefulPartitionedCall_resnet50_conv4_block5_1_conv_Conv2D.bias.data = self._vars[\"StatefulPartitionedCall_resnet50_conv4_block5_1_conv_Conv2D_bias_fused_bn\"]\n",
      "    self.n_StatefulPartitionedCall_resnet50_conv4_block5_2_conv_Conv2D = nn.Conv2d(**{'groups': 1, 'dilation': [1, 1], 'out_channels': 256, 'padding': [1, 1], 'kernel_size': (3, 3), 'stride': [1, 1], 'in_channels': 256, 'bias': True})\n",
      "    self.n_StatefulPartitionedCall_resnet50_conv4_block5_2_conv_Conv2D.weight.data = self._vars[\"StatefulPartitionedCall_resnet50_conv4_block5_2_conv_Conv2D_weights_fused_bn\"]\n",
      "    self.n_StatefulPartitionedCall_resnet50_conv4_block5_2_conv_Conv2D.bias.data = self._vars[\"StatefulPartitionedCall_resnet50_conv4_block5_2_conv_Conv2D_bias_fused_bn\"]\n",
      "    self.n_StatefulPartitionedCall_resnet50_conv4_block5_3_conv_Conv2D = nn.Conv2d(**{'groups': 1, 'dilation': [1, 1], 'out_channels': 1024, 'padding': 0, 'kernel_size': (1, 1), 'stride': [1, 1], 'in_channels': 256, 'bias': True})\n",
      "    self.n_StatefulPartitionedCall_resnet50_conv4_block5_3_conv_Conv2D.weight.data = self._vars[\"StatefulPartitionedCall_resnet50_conv4_block5_3_conv_Conv2D_weights_fused_bn\"]\n",
      "    self.n_StatefulPartitionedCall_resnet50_conv4_block5_3_conv_Conv2D.bias.data = self._vars[\"StatefulPartitionedCall_resnet50_conv4_block5_3_conv_Conv2D_bias_fused_bn\"]\n",
      "    self.n_StatefulPartitionedCall_resnet50_conv4_block6_1_conv_Conv2D = nn.Conv2d(**{'groups': 1, 'dilation': [1, 1], 'out_channels': 256, 'padding': 0, 'kernel_size': (1, 1), 'stride': [1, 1], 'in_channels': 1024, 'bias': True})\n",
      "    self.n_StatefulPartitionedCall_resnet50_conv4_block6_1_conv_Conv2D.weight.data = self._vars[\"StatefulPartitionedCall_resnet50_conv4_block6_1_conv_Conv2D_weights_fused_bn\"]\n",
      "    self.n_StatefulPartitionedCall_resnet50_conv4_block6_1_conv_Conv2D.bias.data = self._vars[\"StatefulPartitionedCall_resnet50_conv4_block6_1_conv_Conv2D_bias_fused_bn\"]\n",
      "    self.n_StatefulPartitionedCall_resnet50_conv4_block6_2_conv_Conv2D = nn.Conv2d(**{'groups': 1, 'dilation': [1, 1], 'out_channels': 256, 'padding': [1, 1], 'kernel_size': (3, 3), 'stride': [1, 1], 'in_channels': 256, 'bias': True})\n",
      "    self.n_StatefulPartitionedCall_resnet50_conv4_block6_2_conv_Conv2D.weight.data = self._vars[\"StatefulPartitionedCall_resnet50_conv4_block6_2_conv_Conv2D_weights_fused_bn\"]\n",
      "    self.n_StatefulPartitionedCall_resnet50_conv4_block6_2_conv_Conv2D.bias.data = self._vars[\"StatefulPartitionedCall_resnet50_conv4_block6_2_conv_Conv2D_bias_fused_bn\"]\n",
      "    self.n_StatefulPartitionedCall_resnet50_conv4_block6_3_conv_Conv2D = nn.Conv2d(**{'groups': 1, 'dilation': [1, 1], 'out_channels': 1024, 'padding': 0, 'kernel_size': (1, 1), 'stride': [1, 1], 'in_channels': 256, 'bias': True})\n",
      "    self.n_StatefulPartitionedCall_resnet50_conv4_block6_3_conv_Conv2D.weight.data = self._vars[\"StatefulPartitionedCall_resnet50_conv4_block6_3_conv_Conv2D_weights_fused_bn\"]\n",
      "    self.n_StatefulPartitionedCall_resnet50_conv4_block6_3_conv_Conv2D.bias.data = self._vars[\"StatefulPartitionedCall_resnet50_conv4_block6_3_conv_Conv2D_bias_fused_bn\"]\n",
      "    self.n_StatefulPartitionedCall_resnet50_conv5_block1_1_conv_Conv2D = nn.Conv2d(**{'groups': 1, 'dilation': [1, 1], 'out_channels': 512, 'padding': 0, 'kernel_size': (1, 1), 'stride': [2, 2], 'in_channels': 1024, 'bias': True})\n",
      "    self.n_StatefulPartitionedCall_resnet50_conv5_block1_1_conv_Conv2D.weight.data = self._vars[\"StatefulPartitionedCall_resnet50_conv5_block1_1_conv_Conv2D_weights_fused_bn\"]\n",
      "    self.n_StatefulPartitionedCall_resnet50_conv5_block1_1_conv_Conv2D.bias.data = self._vars[\"StatefulPartitionedCall_resnet50_conv5_block1_1_conv_Conv2D_bias_fused_bn\"]\n",
      "    self.n_StatefulPartitionedCall_resnet50_conv5_block1_2_conv_Conv2D = nn.Conv2d(**{'groups': 1, 'dilation': [1, 1], 'out_channels': 512, 'padding': [1, 1], 'kernel_size': (3, 3), 'stride': [1, 1], 'in_channels': 512, 'bias': True})\n",
      "    self.n_StatefulPartitionedCall_resnet50_conv5_block1_2_conv_Conv2D.weight.data = self._vars[\"StatefulPartitionedCall_resnet50_conv5_block1_2_conv_Conv2D_weights_fused_bn\"]\n",
      "    self.n_StatefulPartitionedCall_resnet50_conv5_block1_2_conv_Conv2D.bias.data = self._vars[\"StatefulPartitionedCall_resnet50_conv5_block1_2_conv_Conv2D_bias_fused_bn\"]\n",
      "    self.n_StatefulPartitionedCall_resnet50_conv5_block1_3_conv_Conv2D = nn.Conv2d(**{'groups': 1, 'dilation': [1, 1], 'out_channels': 2048, 'padding': 0, 'kernel_size': (1, 1), 'stride': [1, 1], 'in_channels': 512, 'bias': True})\n",
      "    self.n_StatefulPartitionedCall_resnet50_conv5_block1_3_conv_Conv2D.weight.data = self._vars[\"StatefulPartitionedCall_resnet50_conv5_block1_3_conv_Conv2D_weights_fused_bn\"]\n",
      "    self.n_StatefulPartitionedCall_resnet50_conv5_block1_3_conv_Conv2D.bias.data = self._vars[\"StatefulPartitionedCall_resnet50_conv5_block1_3_conv_Conv2D_bias_fused_bn\"]\n",
      "    self.n_StatefulPartitionedCall_resnet50_conv5_block1_0_conv_Conv2D = nn.Conv2d(**{'groups': 1, 'dilation': [1, 1], 'out_channels': 2048, 'padding': 0, 'kernel_size': (1, 1), 'stride': [2, 2], 'in_channels': 1024, 'bias': True})\n",
      "    self.n_StatefulPartitionedCall_resnet50_conv5_block1_0_conv_Conv2D.weight.data = self._vars[\"StatefulPartitionedCall_resnet50_conv5_block1_0_conv_Conv2D_weights_fused_bn\"]\n",
      "    self.n_StatefulPartitionedCall_resnet50_conv5_block1_0_conv_Conv2D.bias.data = self._vars[\"StatefulPartitionedCall_resnet50_conv5_block1_0_conv_Conv2D_bias_fused_bn\"]\n",
      "    self.n_StatefulPartitionedCall_resnet50_conv5_block2_1_conv_Conv2D = nn.Conv2d(**{'groups': 1, 'dilation': [1, 1], 'out_channels': 512, 'padding': 0, 'kernel_size': (1, 1), 'stride': [1, 1], 'in_channels': 2048, 'bias': True})\n",
      "    self.n_StatefulPartitionedCall_resnet50_conv5_block2_1_conv_Conv2D.weight.data = self._vars[\"StatefulPartitionedCall_resnet50_conv5_block2_1_conv_Conv2D_weights_fused_bn\"]\n",
      "    self.n_StatefulPartitionedCall_resnet50_conv5_block2_1_conv_Conv2D.bias.data = self._vars[\"StatefulPartitionedCall_resnet50_conv5_block2_1_conv_Conv2D_bias_fused_bn\"]\n",
      "    self.n_StatefulPartitionedCall_resnet50_conv5_block2_2_conv_Conv2D = nn.Conv2d(**{'groups': 1, 'dilation': [1, 1], 'out_channels': 512, 'padding': [1, 1], 'kernel_size': (3, 3), 'stride': [1, 1], 'in_channels': 512, 'bias': True})\n",
      "    self.n_StatefulPartitionedCall_resnet50_conv5_block2_2_conv_Conv2D.weight.data = self._vars[\"StatefulPartitionedCall_resnet50_conv5_block2_2_conv_Conv2D_weights_fused_bn\"]\n",
      "    self.n_StatefulPartitionedCall_resnet50_conv5_block2_2_conv_Conv2D.bias.data = self._vars[\"StatefulPartitionedCall_resnet50_conv5_block2_2_conv_Conv2D_bias_fused_bn\"]\n",
      "    self.n_StatefulPartitionedCall_resnet50_conv5_block2_3_conv_Conv2D = nn.Conv2d(**{'groups': 1, 'dilation': [1, 1], 'out_channels': 2048, 'padding': 0, 'kernel_size': (1, 1), 'stride': [1, 1], 'in_channels': 512, 'bias': True})\n",
      "    self.n_StatefulPartitionedCall_resnet50_conv5_block2_3_conv_Conv2D.weight.data = self._vars[\"StatefulPartitionedCall_resnet50_conv5_block2_3_conv_Conv2D_weights_fused_bn\"]\n",
      "    self.n_StatefulPartitionedCall_resnet50_conv5_block2_3_conv_Conv2D.bias.data = self._vars[\"StatefulPartitionedCall_resnet50_conv5_block2_3_conv_Conv2D_bias_fused_bn\"]\n",
      "    self.n_StatefulPartitionedCall_resnet50_conv5_block3_1_conv_Conv2D = nn.Conv2d(**{'groups': 1, 'dilation': [1, 1], 'out_channels': 512, 'padding': 0, 'kernel_size': (1, 1), 'stride': [1, 1], 'in_channels': 2048, 'bias': True})\n",
      "    self.n_StatefulPartitionedCall_resnet50_conv5_block3_1_conv_Conv2D.weight.data = self._vars[\"StatefulPartitionedCall_resnet50_conv5_block3_1_conv_Conv2D_weights_fused_bn\"]\n",
      "    self.n_StatefulPartitionedCall_resnet50_conv5_block3_1_conv_Conv2D.bias.data = self._vars[\"StatefulPartitionedCall_resnet50_conv5_block3_1_conv_Conv2D_bias_fused_bn\"]\n",
      "    self.n_StatefulPartitionedCall_resnet50_conv5_block3_2_conv_Conv2D = nn.Conv2d(**{'groups': 1, 'dilation': [1, 1], 'out_channels': 512, 'padding': [1, 1], 'kernel_size': (3, 3), 'stride': [1, 1], 'in_channels': 512, 'bias': True})\n",
      "    self.n_StatefulPartitionedCall_resnet50_conv5_block3_2_conv_Conv2D.weight.data = self._vars[\"StatefulPartitionedCall_resnet50_conv5_block3_2_conv_Conv2D_weights_fused_bn\"]\n",
      "    self.n_StatefulPartitionedCall_resnet50_conv5_block3_2_conv_Conv2D.bias.data = self._vars[\"StatefulPartitionedCall_resnet50_conv5_block3_2_conv_Conv2D_bias_fused_bn\"]\n",
      "    self.n_StatefulPartitionedCall_resnet50_conv5_block3_3_conv_Conv2D = nn.Conv2d(**{'groups': 1, 'dilation': [1, 1], 'out_channels': 2048, 'padding': 0, 'kernel_size': (1, 1), 'stride': [1, 1], 'in_channels': 512, 'bias': True})\n",
      "    self.n_StatefulPartitionedCall_resnet50_conv5_block3_3_conv_Conv2D.weight.data = self._vars[\"StatefulPartitionedCall_resnet50_conv5_block3_3_conv_Conv2D_weights_fused_bn\"]\n",
      "    self.n_StatefulPartitionedCall_resnet50_conv5_block3_3_conv_Conv2D.bias.data = self._vars[\"StatefulPartitionedCall_resnet50_conv5_block3_3_conv_Conv2D_bias_fused_bn\"]\n",
      "\n",
      "  def forward(self, *inputs):\n",
      "    input_1, = inputs\n",
      "    StatefulPartitionedCall_resnet50_conv1_conv_Conv2D__6_0 = input_1.permute(*[0, 3, 1, 2])\n",
      "    StatefulPartitionedCall_resnet50_conv1_bn_FusedBatchNormV3_0 = self.n_Conv__434(StatefulPartitionedCall_resnet50_conv1_conv_Conv2D__6_0)\n",
      "    StatefulPartitionedCall_resnet50_conv1_relu_Relu_0 = F.relu(StatefulPartitionedCall_resnet50_conv1_bn_FusedBatchNormV3_0)\n",
      "    StatefulPartitionedCall_resnet50_pool1_pad_Pad_0 = F.pad(StatefulPartitionedCall_resnet50_conv1_relu_Relu_0, [1, 1, 1, 1], \"constant\", 0.0)\n",
      "    StatefulPartitionedCall_resnet50_pool1_pool_MaxPool_0 = self.n_StatefulPartitionedCall_resnet50_pool1_pool_MaxPool(StatefulPartitionedCall_resnet50_pool1_pad_Pad_0)\n",
      "    StatefulPartitionedCall_resnet50_conv2_block1_1_bn_FusedBatchNormV3_0 = self.n_StatefulPartitionedCall_resnet50_conv2_block1_1_conv_Conv2D(StatefulPartitionedCall_resnet50_pool1_pool_MaxPool_0)\n",
      "    StatefulPartitionedCall_resnet50_conv2_block1_1_relu_Relu_0 = F.relu(StatefulPartitionedCall_resnet50_conv2_block1_1_bn_FusedBatchNormV3_0)\n",
      "    StatefulPartitionedCall_resnet50_conv2_block1_2_bn_FusedBatchNormV3_0 = self.n_StatefulPartitionedCall_resnet50_conv2_block1_2_conv_Conv2D(StatefulPartitionedCall_resnet50_conv2_block1_1_relu_Relu_0)\n",
      "    StatefulPartitionedCall_resnet50_conv2_block1_2_relu_Relu_0 = F.relu(StatefulPartitionedCall_resnet50_conv2_block1_2_bn_FusedBatchNormV3_0)\n",
      "    StatefulPartitionedCall_resnet50_conv2_block1_3_bn_FusedBatchNormV3_0 = self.n_StatefulPartitionedCall_resnet50_conv2_block1_3_conv_Conv2D(StatefulPartitionedCall_resnet50_conv2_block1_2_relu_Relu_0)\n",
      "    StatefulPartitionedCall_resnet50_conv2_block1_0_bn_FusedBatchNormV3_0 = self.n_StatefulPartitionedCall_resnet50_conv2_block1_0_conv_Conv2D(StatefulPartitionedCall_resnet50_pool1_pool_MaxPool_0)\n",
      "    StatefulPartitionedCall_resnet50_conv2_block1_add_add_0 = torch.add(StatefulPartitionedCall_resnet50_conv2_block1_0_bn_FusedBatchNormV3_0, StatefulPartitionedCall_resnet50_conv2_block1_3_bn_FusedBatchNormV3_0)\n",
      "    StatefulPartitionedCall_resnet50_conv2_block1_out_Relu_0 = F.relu(StatefulPartitionedCall_resnet50_conv2_block1_add_add_0)\n",
      "    StatefulPartitionedCall_resnet50_conv2_block2_1_bn_FusedBatchNormV3_0 = self.n_StatefulPartitionedCall_resnet50_conv2_block2_1_conv_Conv2D(StatefulPartitionedCall_resnet50_conv2_block1_out_Relu_0)\n",
      "    StatefulPartitionedCall_resnet50_conv2_block2_1_relu_Relu_0 = F.relu(StatefulPartitionedCall_resnet50_conv2_block2_1_bn_FusedBatchNormV3_0)\n",
      "    StatefulPartitionedCall_resnet50_conv2_block2_2_bn_FusedBatchNormV3_0 = self.n_StatefulPartitionedCall_resnet50_conv2_block2_2_conv_Conv2D(StatefulPartitionedCall_resnet50_conv2_block2_1_relu_Relu_0)\n",
      "    StatefulPartitionedCall_resnet50_conv2_block2_2_relu_Relu_0 = F.relu(StatefulPartitionedCall_resnet50_conv2_block2_2_bn_FusedBatchNormV3_0)\n",
      "    StatefulPartitionedCall_resnet50_conv2_block2_3_bn_FusedBatchNormV3_0 = self.n_StatefulPartitionedCall_resnet50_conv2_block2_3_conv_Conv2D(StatefulPartitionedCall_resnet50_conv2_block2_2_relu_Relu_0)\n",
      "    StatefulPartitionedCall_resnet50_conv2_block2_add_add_0 = torch.add(StatefulPartitionedCall_resnet50_conv2_block1_out_Relu_0, StatefulPartitionedCall_resnet50_conv2_block2_3_bn_FusedBatchNormV3_0)\n",
      "    StatefulPartitionedCall_resnet50_conv2_block2_out_Relu_0 = F.relu(StatefulPartitionedCall_resnet50_conv2_block2_add_add_0)\n",
      "    StatefulPartitionedCall_resnet50_conv2_block3_1_bn_FusedBatchNormV3_0 = self.n_StatefulPartitionedCall_resnet50_conv2_block3_1_conv_Conv2D(StatefulPartitionedCall_resnet50_conv2_block2_out_Relu_0)\n",
      "    StatefulPartitionedCall_resnet50_conv2_block3_1_relu_Relu_0 = F.relu(StatefulPartitionedCall_resnet50_conv2_block3_1_bn_FusedBatchNormV3_0)\n",
      "    StatefulPartitionedCall_resnet50_conv2_block3_2_bn_FusedBatchNormV3_0 = self.n_StatefulPartitionedCall_resnet50_conv2_block3_2_conv_Conv2D(StatefulPartitionedCall_resnet50_conv2_block3_1_relu_Relu_0)\n",
      "    StatefulPartitionedCall_resnet50_conv2_block3_2_relu_Relu_0 = F.relu(StatefulPartitionedCall_resnet50_conv2_block3_2_bn_FusedBatchNormV3_0)\n",
      "    StatefulPartitionedCall_resnet50_conv2_block3_3_bn_FusedBatchNormV3_0 = self.n_StatefulPartitionedCall_resnet50_conv2_block3_3_conv_Conv2D(StatefulPartitionedCall_resnet50_conv2_block3_2_relu_Relu_0)\n",
      "    StatefulPartitionedCall_resnet50_conv2_block3_add_add_0 = torch.add(StatefulPartitionedCall_resnet50_conv2_block2_out_Relu_0, StatefulPartitionedCall_resnet50_conv2_block3_3_bn_FusedBatchNormV3_0)\n",
      "    StatefulPartitionedCall_resnet50_conv2_block3_out_Relu_0 = F.relu(StatefulPartitionedCall_resnet50_conv2_block3_add_add_0)\n",
      "    StatefulPartitionedCall_resnet50_conv3_block1_1_bn_FusedBatchNormV3_0 = self.n_StatefulPartitionedCall_resnet50_conv3_block1_1_conv_Conv2D(StatefulPartitionedCall_resnet50_conv2_block3_out_Relu_0)\n",
      "    StatefulPartitionedCall_resnet50_conv3_block1_1_relu_Relu_0 = F.relu(StatefulPartitionedCall_resnet50_conv3_block1_1_bn_FusedBatchNormV3_0)\n",
      "    StatefulPartitionedCall_resnet50_conv3_block1_2_bn_FusedBatchNormV3_0 = self.n_StatefulPartitionedCall_resnet50_conv3_block1_2_conv_Conv2D(StatefulPartitionedCall_resnet50_conv3_block1_1_relu_Relu_0)\n",
      "    StatefulPartitionedCall_resnet50_conv3_block1_2_relu_Relu_0 = F.relu(StatefulPartitionedCall_resnet50_conv3_block1_2_bn_FusedBatchNormV3_0)\n",
      "    StatefulPartitionedCall_resnet50_conv3_block1_3_bn_FusedBatchNormV3_0 = self.n_StatefulPartitionedCall_resnet50_conv3_block1_3_conv_Conv2D(StatefulPartitionedCall_resnet50_conv3_block1_2_relu_Relu_0)\n",
      "    StatefulPartitionedCall_resnet50_conv3_block1_0_bn_FusedBatchNormV3_0 = self.n_StatefulPartitionedCall_resnet50_conv3_block1_0_conv_Conv2D(StatefulPartitionedCall_resnet50_conv2_block3_out_Relu_0)\n",
      "    StatefulPartitionedCall_resnet50_conv3_block1_add_add_0 = torch.add(StatefulPartitionedCall_resnet50_conv3_block1_0_bn_FusedBatchNormV3_0, StatefulPartitionedCall_resnet50_conv3_block1_3_bn_FusedBatchNormV3_0)\n",
      "    StatefulPartitionedCall_resnet50_conv3_block1_out_Relu_0 = F.relu(StatefulPartitionedCall_resnet50_conv3_block1_add_add_0)\n",
      "    StatefulPartitionedCall_resnet50_conv3_block2_1_bn_FusedBatchNormV3_0 = self.n_StatefulPartitionedCall_resnet50_conv3_block2_1_conv_Conv2D(StatefulPartitionedCall_resnet50_conv3_block1_out_Relu_0)\n",
      "    StatefulPartitionedCall_resnet50_conv3_block2_1_relu_Relu_0 = F.relu(StatefulPartitionedCall_resnet50_conv3_block2_1_bn_FusedBatchNormV3_0)\n",
      "    StatefulPartitionedCall_resnet50_conv3_block2_2_bn_FusedBatchNormV3_0 = self.n_StatefulPartitionedCall_resnet50_conv3_block2_2_conv_Conv2D(StatefulPartitionedCall_resnet50_conv3_block2_1_relu_Relu_0)\n",
      "    StatefulPartitionedCall_resnet50_conv3_block2_2_relu_Relu_0 = F.relu(StatefulPartitionedCall_resnet50_conv3_block2_2_bn_FusedBatchNormV3_0)\n",
      "    StatefulPartitionedCall_resnet50_conv3_block2_3_bn_FusedBatchNormV3_0 = self.n_StatefulPartitionedCall_resnet50_conv3_block2_3_conv_Conv2D(StatefulPartitionedCall_resnet50_conv3_block2_2_relu_Relu_0)\n",
      "    StatefulPartitionedCall_resnet50_conv3_block2_add_add_0 = torch.add(StatefulPartitionedCall_resnet50_conv3_block1_out_Relu_0, StatefulPartitionedCall_resnet50_conv3_block2_3_bn_FusedBatchNormV3_0)\n",
      "    StatefulPartitionedCall_resnet50_conv3_block2_out_Relu_0 = F.relu(StatefulPartitionedCall_resnet50_conv3_block2_add_add_0)\n",
      "    StatefulPartitionedCall_resnet50_conv3_block3_1_bn_FusedBatchNormV3_0 = self.n_StatefulPartitionedCall_resnet50_conv3_block3_1_conv_Conv2D(StatefulPartitionedCall_resnet50_conv3_block2_out_Relu_0)\n",
      "    StatefulPartitionedCall_resnet50_conv3_block3_1_relu_Relu_0 = F.relu(StatefulPartitionedCall_resnet50_conv3_block3_1_bn_FusedBatchNormV3_0)\n",
      "    StatefulPartitionedCall_resnet50_conv3_block3_2_bn_FusedBatchNormV3_0 = self.n_StatefulPartitionedCall_resnet50_conv3_block3_2_conv_Conv2D(StatefulPartitionedCall_resnet50_conv3_block3_1_relu_Relu_0)\n",
      "    StatefulPartitionedCall_resnet50_conv3_block3_2_relu_Relu_0 = F.relu(StatefulPartitionedCall_resnet50_conv3_block3_2_bn_FusedBatchNormV3_0)\n",
      "    StatefulPartitionedCall_resnet50_conv3_block3_3_bn_FusedBatchNormV3_0 = self.n_StatefulPartitionedCall_resnet50_conv3_block3_3_conv_Conv2D(StatefulPartitionedCall_resnet50_conv3_block3_2_relu_Relu_0)\n",
      "    StatefulPartitionedCall_resnet50_conv3_block3_add_add_0 = torch.add(StatefulPartitionedCall_resnet50_conv3_block2_out_Relu_0, StatefulPartitionedCall_resnet50_conv3_block3_3_bn_FusedBatchNormV3_0)\n",
      "    StatefulPartitionedCall_resnet50_conv3_block3_out_Relu_0 = F.relu(StatefulPartitionedCall_resnet50_conv3_block3_add_add_0)\n",
      "    StatefulPartitionedCall_resnet50_conv3_block4_1_bn_FusedBatchNormV3_0 = self.n_StatefulPartitionedCall_resnet50_conv3_block4_1_conv_Conv2D(StatefulPartitionedCall_resnet50_conv3_block3_out_Relu_0)\n",
      "    StatefulPartitionedCall_resnet50_conv3_block4_1_relu_Relu_0 = F.relu(StatefulPartitionedCall_resnet50_conv3_block4_1_bn_FusedBatchNormV3_0)\n",
      "    StatefulPartitionedCall_resnet50_conv3_block4_2_bn_FusedBatchNormV3_0 = self.n_StatefulPartitionedCall_resnet50_conv3_block4_2_conv_Conv2D(StatefulPartitionedCall_resnet50_conv3_block4_1_relu_Relu_0)\n",
      "    StatefulPartitionedCall_resnet50_conv3_block4_2_relu_Relu_0 = F.relu(StatefulPartitionedCall_resnet50_conv3_block4_2_bn_FusedBatchNormV3_0)\n",
      "    StatefulPartitionedCall_resnet50_conv3_block4_3_bn_FusedBatchNormV3_0 = self.n_StatefulPartitionedCall_resnet50_conv3_block4_3_conv_Conv2D(StatefulPartitionedCall_resnet50_conv3_block4_2_relu_Relu_0)\n",
      "    StatefulPartitionedCall_resnet50_conv3_block4_add_add_0 = torch.add(StatefulPartitionedCall_resnet50_conv3_block3_out_Relu_0, StatefulPartitionedCall_resnet50_conv3_block4_3_bn_FusedBatchNormV3_0)\n",
      "    StatefulPartitionedCall_resnet50_conv3_block4_out_Relu_0 = F.relu(StatefulPartitionedCall_resnet50_conv3_block4_add_add_0)\n",
      "    StatefulPartitionedCall_resnet50_conv4_block1_1_bn_FusedBatchNormV3_0 = self.n_StatefulPartitionedCall_resnet50_conv4_block1_1_conv_Conv2D(StatefulPartitionedCall_resnet50_conv3_block4_out_Relu_0)\n",
      "    StatefulPartitionedCall_resnet50_conv4_block1_1_relu_Relu_0 = F.relu(StatefulPartitionedCall_resnet50_conv4_block1_1_bn_FusedBatchNormV3_0)\n",
      "    StatefulPartitionedCall_resnet50_conv4_block1_2_bn_FusedBatchNormV3_0 = self.n_StatefulPartitionedCall_resnet50_conv4_block1_2_conv_Conv2D(StatefulPartitionedCall_resnet50_conv4_block1_1_relu_Relu_0)\n",
      "    StatefulPartitionedCall_resnet50_conv4_block1_2_relu_Relu_0 = F.relu(StatefulPartitionedCall_resnet50_conv4_block1_2_bn_FusedBatchNormV3_0)\n",
      "    StatefulPartitionedCall_resnet50_conv4_block1_3_bn_FusedBatchNormV3_0 = self.n_StatefulPartitionedCall_resnet50_conv4_block1_3_conv_Conv2D(StatefulPartitionedCall_resnet50_conv4_block1_2_relu_Relu_0)\n",
      "    StatefulPartitionedCall_resnet50_conv4_block1_0_bn_FusedBatchNormV3_0 = self.n_StatefulPartitionedCall_resnet50_conv4_block1_0_conv_Conv2D(StatefulPartitionedCall_resnet50_conv3_block4_out_Relu_0)\n",
      "    StatefulPartitionedCall_resnet50_conv4_block1_add_add_0 = torch.add(StatefulPartitionedCall_resnet50_conv4_block1_0_bn_FusedBatchNormV3_0, StatefulPartitionedCall_resnet50_conv4_block1_3_bn_FusedBatchNormV3_0)\n",
      "    StatefulPartitionedCall_resnet50_conv4_block1_out_Relu_0 = F.relu(StatefulPartitionedCall_resnet50_conv4_block1_add_add_0)\n",
      "    StatefulPartitionedCall_resnet50_conv4_block2_1_bn_FusedBatchNormV3_0 = self.n_StatefulPartitionedCall_resnet50_conv4_block2_1_conv_Conv2D(StatefulPartitionedCall_resnet50_conv4_block1_out_Relu_0)\n",
      "    StatefulPartitionedCall_resnet50_conv4_block2_1_relu_Relu_0 = F.relu(StatefulPartitionedCall_resnet50_conv4_block2_1_bn_FusedBatchNormV3_0)\n",
      "    StatefulPartitionedCall_resnet50_conv4_block2_2_bn_FusedBatchNormV3_0 = self.n_StatefulPartitionedCall_resnet50_conv4_block2_2_conv_Conv2D(StatefulPartitionedCall_resnet50_conv4_block2_1_relu_Relu_0)\n",
      "    StatefulPartitionedCall_resnet50_conv4_block2_2_relu_Relu_0 = F.relu(StatefulPartitionedCall_resnet50_conv4_block2_2_bn_FusedBatchNormV3_0)\n",
      "    StatefulPartitionedCall_resnet50_conv4_block2_3_bn_FusedBatchNormV3_0 = self.n_StatefulPartitionedCall_resnet50_conv4_block2_3_conv_Conv2D(StatefulPartitionedCall_resnet50_conv4_block2_2_relu_Relu_0)\n",
      "    StatefulPartitionedCall_resnet50_conv4_block2_add_add_0 = torch.add(StatefulPartitionedCall_resnet50_conv4_block1_out_Relu_0, StatefulPartitionedCall_resnet50_conv4_block2_3_bn_FusedBatchNormV3_0)\n",
      "    StatefulPartitionedCall_resnet50_conv4_block2_out_Relu_0 = F.relu(StatefulPartitionedCall_resnet50_conv4_block2_add_add_0)\n",
      "    StatefulPartitionedCall_resnet50_conv4_block3_1_bn_FusedBatchNormV3_0 = self.n_StatefulPartitionedCall_resnet50_conv4_block3_1_conv_Conv2D(StatefulPartitionedCall_resnet50_conv4_block2_out_Relu_0)\n",
      "    StatefulPartitionedCall_resnet50_conv4_block3_1_relu_Relu_0 = F.relu(StatefulPartitionedCall_resnet50_conv4_block3_1_bn_FusedBatchNormV3_0)\n",
      "    StatefulPartitionedCall_resnet50_conv4_block3_2_bn_FusedBatchNormV3_0 = self.n_StatefulPartitionedCall_resnet50_conv4_block3_2_conv_Conv2D(StatefulPartitionedCall_resnet50_conv4_block3_1_relu_Relu_0)\n",
      "    StatefulPartitionedCall_resnet50_conv4_block3_2_relu_Relu_0 = F.relu(StatefulPartitionedCall_resnet50_conv4_block3_2_bn_FusedBatchNormV3_0)\n",
      "    StatefulPartitionedCall_resnet50_conv4_block3_3_bn_FusedBatchNormV3_0 = self.n_StatefulPartitionedCall_resnet50_conv4_block3_3_conv_Conv2D(StatefulPartitionedCall_resnet50_conv4_block3_2_relu_Relu_0)\n",
      "    StatefulPartitionedCall_resnet50_conv4_block3_add_add_0 = torch.add(StatefulPartitionedCall_resnet50_conv4_block2_out_Relu_0, StatefulPartitionedCall_resnet50_conv4_block3_3_bn_FusedBatchNormV3_0)\n",
      "    StatefulPartitionedCall_resnet50_conv4_block3_out_Relu_0 = F.relu(StatefulPartitionedCall_resnet50_conv4_block3_add_add_0)\n",
      "    StatefulPartitionedCall_resnet50_conv4_block4_1_bn_FusedBatchNormV3_0 = self.n_StatefulPartitionedCall_resnet50_conv4_block4_1_conv_Conv2D(StatefulPartitionedCall_resnet50_conv4_block3_out_Relu_0)\n",
      "    StatefulPartitionedCall_resnet50_conv4_block4_1_relu_Relu_0 = F.relu(StatefulPartitionedCall_resnet50_conv4_block4_1_bn_FusedBatchNormV3_0)\n",
      "    StatefulPartitionedCall_resnet50_conv4_block4_2_bn_FusedBatchNormV3_0 = self.n_StatefulPartitionedCall_resnet50_conv4_block4_2_conv_Conv2D(StatefulPartitionedCall_resnet50_conv4_block4_1_relu_Relu_0)\n",
      "    StatefulPartitionedCall_resnet50_conv4_block4_2_relu_Relu_0 = F.relu(StatefulPartitionedCall_resnet50_conv4_block4_2_bn_FusedBatchNormV3_0)\n",
      "    StatefulPartitionedCall_resnet50_conv4_block4_3_bn_FusedBatchNormV3_0 = self.n_StatefulPartitionedCall_resnet50_conv4_block4_3_conv_Conv2D(StatefulPartitionedCall_resnet50_conv4_block4_2_relu_Relu_0)\n",
      "    StatefulPartitionedCall_resnet50_conv4_block4_add_add_0 = torch.add(StatefulPartitionedCall_resnet50_conv4_block3_out_Relu_0, StatefulPartitionedCall_resnet50_conv4_block4_3_bn_FusedBatchNormV3_0)\n",
      "    StatefulPartitionedCall_resnet50_conv4_block4_out_Relu_0 = F.relu(StatefulPartitionedCall_resnet50_conv4_block4_add_add_0)\n",
      "    StatefulPartitionedCall_resnet50_conv4_block5_1_bn_FusedBatchNormV3_0 = self.n_StatefulPartitionedCall_resnet50_conv4_block5_1_conv_Conv2D(StatefulPartitionedCall_resnet50_conv4_block4_out_Relu_0)\n",
      "    StatefulPartitionedCall_resnet50_conv4_block5_1_relu_Relu_0 = F.relu(StatefulPartitionedCall_resnet50_conv4_block5_1_bn_FusedBatchNormV3_0)\n",
      "    StatefulPartitionedCall_resnet50_conv4_block5_2_bn_FusedBatchNormV3_0 = self.n_StatefulPartitionedCall_resnet50_conv4_block5_2_conv_Conv2D(StatefulPartitionedCall_resnet50_conv4_block5_1_relu_Relu_0)\n",
      "    StatefulPartitionedCall_resnet50_conv4_block5_2_relu_Relu_0 = F.relu(StatefulPartitionedCall_resnet50_conv4_block5_2_bn_FusedBatchNormV3_0)\n",
      "    StatefulPartitionedCall_resnet50_conv4_block5_3_bn_FusedBatchNormV3_0 = self.n_StatefulPartitionedCall_resnet50_conv4_block5_3_conv_Conv2D(StatefulPartitionedCall_resnet50_conv4_block5_2_relu_Relu_0)\n",
      "    StatefulPartitionedCall_resnet50_conv4_block5_add_add_0 = torch.add(StatefulPartitionedCall_resnet50_conv4_block4_out_Relu_0, StatefulPartitionedCall_resnet50_conv4_block5_3_bn_FusedBatchNormV3_0)\n",
      "    StatefulPartitionedCall_resnet50_conv4_block5_out_Relu_0 = F.relu(StatefulPartitionedCall_resnet50_conv4_block5_add_add_0)\n",
      "    StatefulPartitionedCall_resnet50_conv4_block6_1_bn_FusedBatchNormV3_0 = self.n_StatefulPartitionedCall_resnet50_conv4_block6_1_conv_Conv2D(StatefulPartitionedCall_resnet50_conv4_block5_out_Relu_0)\n",
      "    StatefulPartitionedCall_resnet50_conv4_block6_1_relu_Relu_0 = F.relu(StatefulPartitionedCall_resnet50_conv4_block6_1_bn_FusedBatchNormV3_0)\n",
      "    StatefulPartitionedCall_resnet50_conv4_block6_2_bn_FusedBatchNormV3_0 = self.n_StatefulPartitionedCall_resnet50_conv4_block6_2_conv_Conv2D(StatefulPartitionedCall_resnet50_conv4_block6_1_relu_Relu_0)\n",
      "    StatefulPartitionedCall_resnet50_conv4_block6_2_relu_Relu_0 = F.relu(StatefulPartitionedCall_resnet50_conv4_block6_2_bn_FusedBatchNormV3_0)\n",
      "    StatefulPartitionedCall_resnet50_conv4_block6_3_bn_FusedBatchNormV3_0 = self.n_StatefulPartitionedCall_resnet50_conv4_block6_3_conv_Conv2D(StatefulPartitionedCall_resnet50_conv4_block6_2_relu_Relu_0)\n",
      "    StatefulPartitionedCall_resnet50_conv4_block6_add_add_0 = torch.add(StatefulPartitionedCall_resnet50_conv4_block5_out_Relu_0, StatefulPartitionedCall_resnet50_conv4_block6_3_bn_FusedBatchNormV3_0)\n",
      "    StatefulPartitionedCall_resnet50_conv4_block6_out_Relu_0 = F.relu(StatefulPartitionedCall_resnet50_conv4_block6_add_add_0)\n",
      "    StatefulPartitionedCall_resnet50_conv5_block1_1_bn_FusedBatchNormV3_0 = self.n_StatefulPartitionedCall_resnet50_conv5_block1_1_conv_Conv2D(StatefulPartitionedCall_resnet50_conv4_block6_out_Relu_0)\n",
      "    StatefulPartitionedCall_resnet50_conv5_block1_1_relu_Relu_0 = F.relu(StatefulPartitionedCall_resnet50_conv5_block1_1_bn_FusedBatchNormV3_0)\n",
      "    StatefulPartitionedCall_resnet50_conv5_block1_2_bn_FusedBatchNormV3_0 = self.n_StatefulPartitionedCall_resnet50_conv5_block1_2_conv_Conv2D(StatefulPartitionedCall_resnet50_conv5_block1_1_relu_Relu_0)\n",
      "    StatefulPartitionedCall_resnet50_conv5_block1_2_relu_Relu_0 = F.relu(StatefulPartitionedCall_resnet50_conv5_block1_2_bn_FusedBatchNormV3_0)\n",
      "    StatefulPartitionedCall_resnet50_conv5_block1_3_bn_FusedBatchNormV3_0 = self.n_StatefulPartitionedCall_resnet50_conv5_block1_3_conv_Conv2D(StatefulPartitionedCall_resnet50_conv5_block1_2_relu_Relu_0)\n",
      "    StatefulPartitionedCall_resnet50_conv5_block1_0_bn_FusedBatchNormV3_0 = self.n_StatefulPartitionedCall_resnet50_conv5_block1_0_conv_Conv2D(StatefulPartitionedCall_resnet50_conv4_block6_out_Relu_0)\n",
      "    StatefulPartitionedCall_resnet50_conv5_block1_add_add_0 = torch.add(StatefulPartitionedCall_resnet50_conv5_block1_0_bn_FusedBatchNormV3_0, StatefulPartitionedCall_resnet50_conv5_block1_3_bn_FusedBatchNormV3_0)\n",
      "    StatefulPartitionedCall_resnet50_conv5_block1_out_Relu_0 = F.relu(StatefulPartitionedCall_resnet50_conv5_block1_add_add_0)\n",
      "    StatefulPartitionedCall_resnet50_conv5_block2_1_bn_FusedBatchNormV3_0 = self.n_StatefulPartitionedCall_resnet50_conv5_block2_1_conv_Conv2D(StatefulPartitionedCall_resnet50_conv5_block1_out_Relu_0)\n",
      "    StatefulPartitionedCall_resnet50_conv5_block2_1_relu_Relu_0 = F.relu(StatefulPartitionedCall_resnet50_conv5_block2_1_bn_FusedBatchNormV3_0)\n",
      "    StatefulPartitionedCall_resnet50_conv5_block2_2_bn_FusedBatchNormV3_0 = self.n_StatefulPartitionedCall_resnet50_conv5_block2_2_conv_Conv2D(StatefulPartitionedCall_resnet50_conv5_block2_1_relu_Relu_0)\n",
      "    StatefulPartitionedCall_resnet50_conv5_block2_2_relu_Relu_0 = F.relu(StatefulPartitionedCall_resnet50_conv5_block2_2_bn_FusedBatchNormV3_0)\n",
      "    StatefulPartitionedCall_resnet50_conv5_block2_3_bn_FusedBatchNormV3_0 = self.n_StatefulPartitionedCall_resnet50_conv5_block2_3_conv_Conv2D(StatefulPartitionedCall_resnet50_conv5_block2_2_relu_Relu_0)\n",
      "    StatefulPartitionedCall_resnet50_conv5_block2_add_add_0 = torch.add(StatefulPartitionedCall_resnet50_conv5_block1_out_Relu_0, StatefulPartitionedCall_resnet50_conv5_block2_3_bn_FusedBatchNormV3_0)\n",
      "    StatefulPartitionedCall_resnet50_conv5_block2_out_Relu_0 = F.relu(StatefulPartitionedCall_resnet50_conv5_block2_add_add_0)\n",
      "    StatefulPartitionedCall_resnet50_conv5_block3_1_bn_FusedBatchNormV3_0 = self.n_StatefulPartitionedCall_resnet50_conv5_block3_1_conv_Conv2D(StatefulPartitionedCall_resnet50_conv5_block2_out_Relu_0)\n",
      "    StatefulPartitionedCall_resnet50_conv5_block3_1_relu_Relu_0 = F.relu(StatefulPartitionedCall_resnet50_conv5_block3_1_bn_FusedBatchNormV3_0)\n",
      "    StatefulPartitionedCall_resnet50_conv5_block3_2_bn_FusedBatchNormV3_0 = self.n_StatefulPartitionedCall_resnet50_conv5_block3_2_conv_Conv2D(StatefulPartitionedCall_resnet50_conv5_block3_1_relu_Relu_0)\n",
      "    StatefulPartitionedCall_resnet50_conv5_block3_2_relu_Relu_0 = F.relu(StatefulPartitionedCall_resnet50_conv5_block3_2_bn_FusedBatchNormV3_0)\n",
      "    StatefulPartitionedCall_resnet50_conv5_block3_3_bn_FusedBatchNormV3_0 = self.n_StatefulPartitionedCall_resnet50_conv5_block3_3_conv_Conv2D(StatefulPartitionedCall_resnet50_conv5_block3_2_relu_Relu_0)\n",
      "    StatefulPartitionedCall_resnet50_conv5_block3_add_add_0 = torch.add(StatefulPartitionedCall_resnet50_conv5_block2_out_Relu_0, StatefulPartitionedCall_resnet50_conv5_block3_3_bn_FusedBatchNormV3_0)\n",
      "    StatefulPartitionedCall_resnet50_conv5_block3_out_Relu_0 = F.relu(StatefulPartitionedCall_resnet50_conv5_block3_add_add_0)\n",
      "    StatefulPartitionedCall_resnet50_avg_pool_Mean_0 = F.avg_pool2d(StatefulPartitionedCall_resnet50_conv5_block3_out_Relu_0, **{'kernel_size': StatefulPartitionedCall_resnet50_conv5_block3_out_Relu_0.shape[-2:]})\n",
      "    StatefulPartitionedCall_resnet50_avg_pool_Mean_Squeeze__612_0 = torch.squeeze(StatefulPartitionedCall_resnet50_avg_pool_Mean_0, 3)\n",
      "    StatefulPartitionedCall_resnet50_avg_pool_Mean_Squeeze__612_0 = torch.squeeze(StatefulPartitionedCall_resnet50_avg_pool_Mean_Squeeze__612_0, 2)\n",
      "    StatefulPartitionedCall_resnet50_predictions_MatMul_0 = torch.matmul(StatefulPartitionedCall_resnet50_avg_pool_Mean_Squeeze__612_0, self._vars[\"StatefulPartitionedCall_resnet50_predictions_MatMul_ReadVariableOp_0\"])\n",
      "    StatefulPartitionedCall_resnet50_predictions_BiasAdd_0 = torch.add(StatefulPartitionedCall_resnet50_predictions_MatMul_0, self._vars[\"StatefulPartitionedCall_resnet50_predictions_BiasAdd_ReadVariableOp_0\"])\n",
      "    predictions = F.softmax(StatefulPartitionedCall_resnet50_predictions_BiasAdd_0, **{'dim': 1})\n",
      "    return predictions\n",
      "\n",
      "  def compatible_auto_pad(self, input, kernel_spatial_shape, nn_mod, auto_pad=None, **kwargs):\n",
      "    input_spatial_shape = input.shape[2:]\n",
      "    d = len(input_spatial_shape)\n",
      "    strides = nn_mod.stride\n",
      "    dilations = nn_mod.dilation\n",
      "    output_spatial_shape = [math.ceil(float(l) / float(r)) for l, r in zip(input.shape[2:], strides)]\n",
      "    pt_padding = [0] * 2 * d\n",
      "    pad_shape = [0] * d\n",
      "    for i in range(d):\n",
      "      pad_shape[i] = (output_spatial_shape[i] - 1) * strides[i] + ((kernel_spatial_shape[i] - 1) * dilations[i] + 1) - input_spatial_shape[i]\n",
      "      mean = pad_shape[i] // 2\n",
      "      if auto_pad == b\"SAME_UPPER\":\n",
      "        l, r = pad_shape[i] - mean, mean\n",
      "      else:\n",
      "        l, r = mean, pad_shape[i] - mean\n",
      "      pt_padding.insert(0, r)\n",
      "      pt_padding.insert(0, l)\n",
      "    return F.pad(input, pt_padding)\n",
      "\n",
      "@torch.no_grad()\n",
      "def test_run_model(inputs=[torch.from_numpy(np.random.randn(*[1, 224, 224, 3]).astype(np.float32))]):\n",
      "  model = Model()\n",
      "  model.eval()\n",
      "  rs = model(*inputs)\n",
      "  print(rs)\n",
      "  return rs\n",
      "\n"
     ]
    },
    {
     "name": "stdout",
     "output_type": "stream",
     "text": [
      "Running at iteration 1:\n",
      "top 10 fitness scores:  [0.61984666 0.63807335 0.77153742 0.85685139 0.8692138  0.77013581\n",
      " 0.66438334 0.89267112 0.98459454 0.84033567]\n",
      "Taken time: 29.81822371482849\n",
      "\n",
      "Running at iteration 2:\n",
      "top 10 fitness scores:  [0.99315154 0.99332961 0.99390224 0.99661277 0.99429594 0.99733512\n",
      " 0.99883674 0.99364875 0.998691   0.99669557]\n",
      "Taken time: 27.25233244895935\n",
      "\n",
      "Running at iteration 3:\n",
      "top 10 fitness scores:  [0.99739632 0.99745727 0.99760265 0.99775792 0.99774495 0.99783729\n",
      " 0.99852321 0.998691   0.99883674 0.99901914]\n",
      "Taken time: 26.681356191635132\n",
      "\n",
      "Running at iteration 4:\n",
      "top 10 fitness scores:  [0.99663219 0.99722142 0.99722822 0.99736966 0.99783729 0.99883674\n",
      " 0.998691   0.99901914 0.99806849 0.99852321]\n",
      "Taken time: 27.452410459518433\n",
      "\n",
      "Running at iteration 5:\n",
      "top 10 fitness scores:  [0.99613586 0.99687819 0.99627346 0.99640587 0.99806849 0.99901914\n",
      " 0.99883674 0.998691   0.99852321 0.99829641]\n",
      "Taken time: 27.408325910568237\n",
      "\n",
      "Running at iteration 6:\n",
      "top 10 fitness scores:  [0.99679937 0.99685934 0.99762655 0.99794878 0.9978634  0.99852321\n",
      " 0.99901914 0.99883674 0.998691   0.99829641]\n",
      "Taken time: 27.278743982315063\n",
      "\n",
      "Running at iteration 7:\n",
      "top 10 fitness scores:  [0.99670754 0.99684673 0.99702081 0.99745622 0.99775712 0.99829641\n",
      " 0.99883674 0.998691   0.99852321 0.99901914]\n",
      "Taken time: 26.923892736434937\n",
      "\n",
      "Running at iteration 8:\n",
      "top 10 fitness scores:  [0.9972639  0.99771885 0.99846218 0.99834809 0.99883674 0.99857141\n",
      " 0.99901914 0.99852321 0.998691   0.99829641]\n",
      "Taken time: 27.526819229125977\n",
      "\n",
      "Running at iteration 9:\n",
      "top 10 fitness scores:  [0.9964806  0.99665464 0.99698287 0.99857609 0.99857141 0.99678025\n",
      " 0.99883674 0.998691   0.99901914 0.99852321]\n",
      "Taken time: 26.42150855064392\n",
      "\n",
      "Running at iteration 10:\n",
      "top 10 fitness scores:  [0.997139   0.99721416 0.99857609 0.99784673 0.99721713 0.99751653\n",
      " 0.99883674 0.99901914 0.998691   0.99857141]\n",
      "Taken time: 26.89133596420288\n",
      "\n",
      "Total taken time: 273.66882586479187\n",
      "F: []\n"
     ]
    },
    {
     "data": {
      "image/png": "[encoded data removed]",
      "text/plain": [
       "<Figure size 432x288 with 1 Axes>"
      ]
     },
     "metadata": {
      "needs_background": "light"
     },
     "output_type": "display_data"
    }
   ],
   "source": [
    "ga = GA(fit, model, dataset, input_shape, init_input_mut, init_weight_mut, r1, r2, m, n, db_flag)\n",
    "x, theta = ga.initPopulation()\n",
    "ga.prepareFitness()\n",
    "\n",
    "F, fits = ga_main(ga, r2, m, n, k, layer_idx, 10)\n",
    "\n",
    "plt.plot(fit_grad(fits))\n",
    "print(\"F: {}\".format(F))"
   ]
  },
  {
   "cell_type": "markdown",
   "metadata": {},
   "source": [
    "### Testing for Inconsistency fitness function"
   ]
  },
  {
   "cell_type": "code",
   "execution_count": 21,
   "metadata": {
    "scrolled": false
   },
   "outputs": [
    {
     "data": {
      "text/plain": [
       "True"
      ]
     },
     "execution_count": 21,
     "metadata": {},
     "output_type": "execute_result"
    }
   ],
   "source": [
    "# parameters\n",
    "fit = [\"inc\", [\"tensorflow\", \"torch\"]]\n",
    "model = model\n",
    "dataset = x_test_224\n",
    "input_shape = x_test_224[0].shape\n",
    "init_input_mut = 0.1\n",
    "init_weight_mut = 0\n",
    "r1 = 0.5\n",
    "r2 = 0.1\n",
    "m = 5\n",
    "n = 100\n",
    "k = 10\n",
    "maxIter = 10\n",
    "db_flag = 1\n",
    "layer_idx = -1\n",
    "\n",
    "r = redis.Redis(db=db_flag)\n",
    "r.flushdb()"
   ]
  },
  {
   "cell_type": "code",
   "execution_count": 22,
   "metadata": {
    "scrolled": true
   },
   "outputs": [
    {
     "name": "stdout",
     "output_type": "stream",
     "text": [
      "WARNING:tensorflow:Compiled the loaded model, but the compiled metrics have yet to be built. `model.compile_metrics` will be empty until you train or evaluate the model.\n"
     ]
    },
    {
     "name": "stderr",
     "output_type": "stream",
     "text": [
      "WARNING:tensorflow:Compiled the loaded model, but the compiled metrics have yet to be built. `model.compile_metrics` will be empty until you train or evaluate the model.\n"
     ]
    },
    {
     "name": "stdout",
     "output_type": "stream",
     "text": [
      "INFO:tensorflow:Assets written to: model_tensorflow/assets\n"
     ]
    },
    {
     "name": "stderr",
     "output_type": "stream",
     "text": [
      "INFO:tensorflow:Assets written to: model_tensorflow/assets\n",
      "/data/yylaiai/anaconda3/envs/fyp_v3/lib/python3.9/site-packages/keras/engine/functional.py:1410: CustomMaskWarning: Custom mask layers require a config and must override get_config. When loading, the custom mask layer must be passed to the custom_objects argument.\n",
      "  layer_config = serialize_layer_fn(layer)\n",
      "/data/yylaiai/anaconda3/envs/fyp_v3/lib/python3.9/site-packages/keras/saving/saved_model/layer_serialization.py:112: CustomMaskWarning: Custom mask layers require a config and must override get_config. When loading, the custom mask layer must be passed to the custom_objects argument.\n",
      "  return generic_utils.serialize_keras_object(obj)\n",
      "/data/yylaiai/anaconda3/envs/fyp_v3/lib/python3.9/runpy.py:127: RuntimeWarning: 'tf2onnx.convert' found in sys.modules after import of package 'tf2onnx', but prior to execution of 'tf2onnx.convert'; this may result in unpredictable behaviour\n",
      "  warn(RuntimeWarning(msg))\n",
      "2022-01-12 17:45:26,647 - WARNING - '--tag' not specified for saved_model. Using --tag serve\n",
      "2022-01-12 17:45:33,645 - INFO - Signatures found in model: [serving_default].\n",
      "2022-01-12 17:45:33,646 - WARNING - '--signature_def' not specified, using first signature: serving_default\n",
      "2022-01-12 17:45:33,648 - INFO - Output names: ['predictions']\n",
      "WARNING:tensorflow:From /data/yylaiai/anaconda3/envs/fyp_v3/lib/python3.9/site-packages/tf2onnx/tf_loader.py:706: extract_sub_graph (from tensorflow.python.framework.graph_util_impl) is deprecated and will be removed in a future version.\n",
      "Instructions for updating:\n",
      "Use `tf.compat.v1.graph_util.extract_sub_graph`\n",
      "2022-01-12 17:45:37,639 - WARNING - From /data/yylaiai/anaconda3/envs/fyp_v3/lib/python3.9/site-packages/tf2onnx/tf_loader.py:706: extract_sub_graph (from tensorflow.python.framework.graph_util_impl) is deprecated and will be removed in a future version.\n",
      "Instructions for updating:\n",
      "Use `tf.compat.v1.graph_util.extract_sub_graph`\n",
      "2022-01-12 17:45:39,407 - INFO - Using tensorflow=2.7.0, onnx=1.10.2, tf2onnx=1.10.0/5cd3b5\n",
      "2022-01-12 17:45:39,407 - INFO - Using opset <onnx, 9>\n",
      "2022-01-12 17:45:45,738 - INFO - Computed 0 values for constant folding\n",
      "2022-01-12 17:45:50,203 - INFO - Optimizing ONNX model\n",
      "2022-01-12 17:45:52,400 - INFO - After optimization: Add -1 (18->17), BatchNormalization -53 (53->0), Const -162 (270->108), GlobalAveragePool +1 (0->1), Identity -57 (57->0), ReduceMean -1 (1->0), Squeeze +1 (0->1), Transpose -213 (214->1)\n",
      "2022-01-12 17:45:53,260 - INFO - \n",
      "2022-01-12 17:45:53,260 - INFO - Successfully converted TensorFlow model model_tensorflow to ONNX\n",
      "2022-01-12 17:45:53,261 - INFO - Model inputs: ['input_1']\n",
      "2022-01-12 17:45:53,261 - INFO - Model outputs: ['predictions']\n",
      "2022-01-12 17:45:53,261 - INFO - ONNX model is saved at model_tensorflow.onnx\n"
     ]
    },
    {
     "name": "stdout",
     "output_type": "stream",
     "text": [
      "# Autogenerated by onnx-pytorch.\n",
      "\n",
      "import glob\n",
      "import os\n",
      "import math\n",
      "\n",
      "import numpy as np\n",
      "import torch\n",
      "import torch.nn as nn\n",
      "import torch.nn.functional as F\n",
      "import torchvision\n",
      "\n",
      "\n",
      "class Model(nn.Module):\n",
      "  def __init__(self):\n",
      "    super(Model, self).__init__()\n",
      "    self._vars = nn.ParameterDict()\n",
      "    self._regularizer_params = []\n",
      "    for b in glob.glob(\n",
      "        os.path.join(os.path.dirname(__file__), \"variables\", \"*.npy\")):\n",
      "      v = torch.from_numpy(np.load(b))\n",
      "      requires_grad = v.dtype.is_floating_point or v.dtype.is_complex\n",
      "      self._vars[os.path.basename(b)[:-4]] = nn.Parameter(v, requires_grad=requires_grad)\n",
      "    self.n_Conv__434 = nn.Conv2d(**{'groups': 1, 'dilation': [1, 1], 'out_channels': 64, 'padding': [3, 3], 'kernel_size': (7, 7), 'stride': [2, 2], 'in_channels': 3, 'bias': True})\n",
      "    self.n_Conv__434.weight.data = self._vars[\"Conv__434_weights_fused_bn\"]\n",
      "    self.n_Conv__434.bias.data = self._vars[\"Conv__434_bias_fused_bn\"]\n",
      "    self.n_StatefulPartitionedCall_resnet50_pool1_pool_MaxPool = nn.MaxPool2d(**{'dilation': 1, 'kernel_size': [3, 3], 'ceil_mode': False, 'stride': [2, 2], 'return_indices': False})\n",
      "    self.n_StatefulPartitionedCall_resnet50_conv2_block1_1_conv_Conv2D = nn.Conv2d(**{'groups': 1, 'dilation': [1, 1], 'out_channels': 64, 'padding': 0, 'kernel_size': (1, 1), 'stride': [1, 1], 'in_channels': 64, 'bias': True})\n",
      "    self.n_StatefulPartitionedCall_resnet50_conv2_block1_1_conv_Conv2D.weight.data = self._vars[\"StatefulPartitionedCall_resnet50_conv2_block1_1_conv_Conv2D_weights_fused_bn\"]\n",
      "    self.n_StatefulPartitionedCall_resnet50_conv2_block1_1_conv_Conv2D.bias.data = self._vars[\"StatefulPartitionedCall_resnet50_conv2_block1_1_conv_Conv2D_bias_fused_bn\"]\n",
      "    self.n_StatefulPartitionedCall_resnet50_conv2_block1_2_conv_Conv2D = nn.Conv2d(**{'groups': 1, 'dilation': [1, 1], 'out_channels': 64, 'padding': [1, 1], 'kernel_size': (3, 3), 'stride': [1, 1], 'in_channels': 64, 'bias': True})\n",
      "    self.n_StatefulPartitionedCall_resnet50_conv2_block1_2_conv_Conv2D.weight.data = self._vars[\"StatefulPartitionedCall_resnet50_conv2_block1_2_conv_Conv2D_weights_fused_bn\"]\n",
      "    self.n_StatefulPartitionedCall_resnet50_conv2_block1_2_conv_Conv2D.bias.data = self._vars[\"StatefulPartitionedCall_resnet50_conv2_block1_2_conv_Conv2D_bias_fused_bn\"]\n",
      "    self.n_StatefulPartitionedCall_resnet50_conv2_block1_3_conv_Conv2D = nn.Conv2d(**{'groups': 1, 'dilation': [1, 1], 'out_channels': 256, 'padding': 0, 'kernel_size': (1, 1), 'stride': [1, 1], 'in_channels': 64, 'bias': True})\n",
      "    self.n_StatefulPartitionedCall_resnet50_conv2_block1_3_conv_Conv2D.weight.data = self._vars[\"StatefulPartitionedCall_resnet50_conv2_block1_3_conv_Conv2D_weights_fused_bn\"]\n",
      "    self.n_StatefulPartitionedCall_resnet50_conv2_block1_3_conv_Conv2D.bias.data = self._vars[\"StatefulPartitionedCall_resnet50_conv2_block1_3_conv_Conv2D_bias_fused_bn\"]\n",
      "    self.n_StatefulPartitionedCall_resnet50_conv2_block1_0_conv_Conv2D = nn.Conv2d(**{'groups': 1, 'dilation': [1, 1], 'out_channels': 256, 'padding': 0, 'kernel_size': (1, 1), 'stride': [1, 1], 'in_channels': 64, 'bias': True})\n",
      "    self.n_StatefulPartitionedCall_resnet50_conv2_block1_0_conv_Conv2D.weight.data = self._vars[\"StatefulPartitionedCall_resnet50_conv2_block1_0_conv_Conv2D_weights_fused_bn\"]\n",
      "    self.n_StatefulPartitionedCall_resnet50_conv2_block1_0_conv_Conv2D.bias.data = self._vars[\"StatefulPartitionedCall_resnet50_conv2_block1_0_conv_Conv2D_bias_fused_bn\"]\n",
      "    self.n_StatefulPartitionedCall_resnet50_conv2_block2_1_conv_Conv2D = nn.Conv2d(**{'groups': 1, 'dilation': [1, 1], 'out_channels': 64, 'padding': 0, 'kernel_size': (1, 1), 'stride': [1, 1], 'in_channels': 256, 'bias': True})\n",
      "    self.n_StatefulPartitionedCall_resnet50_conv2_block2_1_conv_Conv2D.weight.data = self._vars[\"StatefulPartitionedCall_resnet50_conv2_block2_1_conv_Conv2D_weights_fused_bn\"]\n",
      "    self.n_StatefulPartitionedCall_resnet50_conv2_block2_1_conv_Conv2D.bias.data = self._vars[\"StatefulPartitionedCall_resnet50_conv2_block2_1_conv_Conv2D_bias_fused_bn\"]\n",
      "    self.n_StatefulPartitionedCall_resnet50_conv2_block2_2_conv_Conv2D = nn.Conv2d(**{'groups': 1, 'dilation': [1, 1], 'out_channels': 64, 'padding': [1, 1], 'kernel_size': (3, 3), 'stride': [1, 1], 'in_channels': 64, 'bias': True})\n",
      "    self.n_StatefulPartitionedCall_resnet50_conv2_block2_2_conv_Conv2D.weight.data = self._vars[\"StatefulPartitionedCall_resnet50_conv2_block2_2_conv_Conv2D_weights_fused_bn\"]\n",
      "    self.n_StatefulPartitionedCall_resnet50_conv2_block2_2_conv_Conv2D.bias.data = self._vars[\"StatefulPartitionedCall_resnet50_conv2_block2_2_conv_Conv2D_bias_fused_bn\"]\n",
      "    self.n_StatefulPartitionedCall_resnet50_conv2_block2_3_conv_Conv2D = nn.Conv2d(**{'groups': 1, 'dilation': [1, 1], 'out_channels': 256, 'padding': 0, 'kernel_size': (1, 1), 'stride': [1, 1], 'in_channels': 64, 'bias': True})\n",
      "    self.n_StatefulPartitionedCall_resnet50_conv2_block2_3_conv_Conv2D.weight.data = self._vars[\"StatefulPartitionedCall_resnet50_conv2_block2_3_conv_Conv2D_weights_fused_bn\"]\n",
      "    self.n_StatefulPartitionedCall_resnet50_conv2_block2_3_conv_Conv2D.bias.data = self._vars[\"StatefulPartitionedCall_resnet50_conv2_block2_3_conv_Conv2D_bias_fused_bn\"]\n",
      "    self.n_StatefulPartitionedCall_resnet50_conv2_block3_1_conv_Conv2D = nn.Conv2d(**{'groups': 1, 'dilation': [1, 1], 'out_channels': 64, 'padding': 0, 'kernel_size': (1, 1), 'stride': [1, 1], 'in_channels': 256, 'bias': True})\n",
      "    self.n_StatefulPartitionedCall_resnet50_conv2_block3_1_conv_Conv2D.weight.data = self._vars[\"StatefulPartitionedCall_resnet50_conv2_block3_1_conv_Conv2D_weights_fused_bn\"]\n",
      "    self.n_StatefulPartitionedCall_resnet50_conv2_block3_1_conv_Conv2D.bias.data = self._vars[\"StatefulPartitionedCall_resnet50_conv2_block3_1_conv_Conv2D_bias_fused_bn\"]\n",
      "    self.n_StatefulPartitionedCall_resnet50_conv2_block3_2_conv_Conv2D = nn.Conv2d(**{'groups': 1, 'dilation': [1, 1], 'out_channels': 64, 'padding': [1, 1], 'kernel_size': (3, 3), 'stride': [1, 1], 'in_channels': 64, 'bias': True})\n",
      "    self.n_StatefulPartitionedCall_resnet50_conv2_block3_2_conv_Conv2D.weight.data = self._vars[\"StatefulPartitionedCall_resnet50_conv2_block3_2_conv_Conv2D_weights_fused_bn\"]\n",
      "    self.n_StatefulPartitionedCall_resnet50_conv2_block3_2_conv_Conv2D.bias.data = self._vars[\"StatefulPartitionedCall_resnet50_conv2_block3_2_conv_Conv2D_bias_fused_bn\"]\n",
      "    self.n_StatefulPartitionedCall_resnet50_conv2_block3_3_conv_Conv2D = nn.Conv2d(**{'groups': 1, 'dilation': [1, 1], 'out_channels': 256, 'padding': 0, 'kernel_size': (1, 1), 'stride': [1, 1], 'in_channels': 64, 'bias': True})\n",
      "    self.n_StatefulPartitionedCall_resnet50_conv2_block3_3_conv_Conv2D.weight.data = self._vars[\"StatefulPartitionedCall_resnet50_conv2_block3_3_conv_Conv2D_weights_fused_bn\"]\n",
      "    self.n_StatefulPartitionedCall_resnet50_conv2_block3_3_conv_Conv2D.bias.data = self._vars[\"StatefulPartitionedCall_resnet50_conv2_block3_3_conv_Conv2D_bias_fused_bn\"]\n",
      "    self.n_StatefulPartitionedCall_resnet50_conv3_block1_1_conv_Conv2D = nn.Conv2d(**{'groups': 1, 'dilation': [1, 1], 'out_channels': 128, 'padding': 0, 'kernel_size': (1, 1), 'stride': [2, 2], 'in_channels': 256, 'bias': True})\n",
      "    self.n_StatefulPartitionedCall_resnet50_conv3_block1_1_conv_Conv2D.weight.data = self._vars[\"StatefulPartitionedCall_resnet50_conv3_block1_1_conv_Conv2D_weights_fused_bn\"]\n",
      "    self.n_StatefulPartitionedCall_resnet50_conv3_block1_1_conv_Conv2D.bias.data = self._vars[\"StatefulPartitionedCall_resnet50_conv3_block1_1_conv_Conv2D_bias_fused_bn\"]\n",
      "    self.n_StatefulPartitionedCall_resnet50_conv3_block1_2_conv_Conv2D = nn.Conv2d(**{'groups': 1, 'dilation': [1, 1], 'out_channels': 128, 'padding': [1, 1], 'kernel_size': (3, 3), 'stride': [1, 1], 'in_channels': 128, 'bias': True})\n",
      "    self.n_StatefulPartitionedCall_resnet50_conv3_block1_2_conv_Conv2D.weight.data = self._vars[\"StatefulPartitionedCall_resnet50_conv3_block1_2_conv_Conv2D_weights_fused_bn\"]\n",
      "    self.n_StatefulPartitionedCall_resnet50_conv3_block1_2_conv_Conv2D.bias.data = self._vars[\"StatefulPartitionedCall_resnet50_conv3_block1_2_conv_Conv2D_bias_fused_bn\"]\n",
      "    self.n_StatefulPartitionedCall_resnet50_conv3_block1_3_conv_Conv2D = nn.Conv2d(**{'groups': 1, 'dilation': [1, 1], 'out_channels': 512, 'padding': 0, 'kernel_size': (1, 1), 'stride': [1, 1], 'in_channels': 128, 'bias': True})\n",
      "    self.n_StatefulPartitionedCall_resnet50_conv3_block1_3_conv_Conv2D.weight.data = self._vars[\"StatefulPartitionedCall_resnet50_conv3_block1_3_conv_Conv2D_weights_fused_bn\"]\n",
      "    self.n_StatefulPartitionedCall_resnet50_conv3_block1_3_conv_Conv2D.bias.data = self._vars[\"StatefulPartitionedCall_resnet50_conv3_block1_3_conv_Conv2D_bias_fused_bn\"]\n",
      "    self.n_StatefulPartitionedCall_resnet50_conv3_block1_0_conv_Conv2D = nn.Conv2d(**{'groups': 1, 'dilation': [1, 1], 'out_channels': 512, 'padding': 0, 'kernel_size': (1, 1), 'stride': [2, 2], 'in_channels': 256, 'bias': True})\n",
      "    self.n_StatefulPartitionedCall_resnet50_conv3_block1_0_conv_Conv2D.weight.data = self._vars[\"StatefulPartitionedCall_resnet50_conv3_block1_0_conv_Conv2D_weights_fused_bn\"]\n",
      "    self.n_StatefulPartitionedCall_resnet50_conv3_block1_0_conv_Conv2D.bias.data = self._vars[\"StatefulPartitionedCall_resnet50_conv3_block1_0_conv_Conv2D_bias_fused_bn\"]\n",
      "    self.n_StatefulPartitionedCall_resnet50_conv3_block2_1_conv_Conv2D = nn.Conv2d(**{'groups': 1, 'dilation': [1, 1], 'out_channels': 128, 'padding': 0, 'kernel_size': (1, 1), 'stride': [1, 1], 'in_channels': 512, 'bias': True})\n",
      "    self.n_StatefulPartitionedCall_resnet50_conv3_block2_1_conv_Conv2D.weight.data = self._vars[\"StatefulPartitionedCall_resnet50_conv3_block2_1_conv_Conv2D_weights_fused_bn\"]\n",
      "    self.n_StatefulPartitionedCall_resnet50_conv3_block2_1_conv_Conv2D.bias.data = self._vars[\"StatefulPartitionedCall_resnet50_conv3_block2_1_conv_Conv2D_bias_fused_bn\"]\n",
      "    self.n_StatefulPartitionedCall_resnet50_conv3_block2_2_conv_Conv2D = nn.Conv2d(**{'groups': 1, 'dilation': [1, 1], 'out_channels': 128, 'padding': [1, 1], 'kernel_size': (3, 3), 'stride': [1, 1], 'in_channels': 128, 'bias': True})\n",
      "    self.n_StatefulPartitionedCall_resnet50_conv3_block2_2_conv_Conv2D.weight.data = self._vars[\"StatefulPartitionedCall_resnet50_conv3_block2_2_conv_Conv2D_weights_fused_bn\"]\n",
      "    self.n_StatefulPartitionedCall_resnet50_conv3_block2_2_conv_Conv2D.bias.data = self._vars[\"StatefulPartitionedCall_resnet50_conv3_block2_2_conv_Conv2D_bias_fused_bn\"]\n",
      "    self.n_StatefulPartitionedCall_resnet50_conv3_block2_3_conv_Conv2D = nn.Conv2d(**{'groups': 1, 'dilation': [1, 1], 'out_channels': 512, 'padding': 0, 'kernel_size': (1, 1), 'stride': [1, 1], 'in_channels': 128, 'bias': True})\n",
      "    self.n_StatefulPartitionedCall_resnet50_conv3_block2_3_conv_Conv2D.weight.data = self._vars[\"StatefulPartitionedCall_resnet50_conv3_block2_3_conv_Conv2D_weights_fused_bn\"]\n",
      "    self.n_StatefulPartitionedCall_resnet50_conv3_block2_3_conv_Conv2D.bias.data = self._vars[\"StatefulPartitionedCall_resnet50_conv3_block2_3_conv_Conv2D_bias_fused_bn\"]\n",
      "    self.n_StatefulPartitionedCall_resnet50_conv3_block3_1_conv_Conv2D = nn.Conv2d(**{'groups': 1, 'dilation': [1, 1], 'out_channels': 128, 'padding': 0, 'kernel_size': (1, 1), 'stride': [1, 1], 'in_channels': 512, 'bias': True})\n",
      "    self.n_StatefulPartitionedCall_resnet50_conv3_block3_1_conv_Conv2D.weight.data = self._vars[\"StatefulPartitionedCall_resnet50_conv3_block3_1_conv_Conv2D_weights_fused_bn\"]\n",
      "    self.n_StatefulPartitionedCall_resnet50_conv3_block3_1_conv_Conv2D.bias.data = self._vars[\"StatefulPartitionedCall_resnet50_conv3_block3_1_conv_Conv2D_bias_fused_bn\"]\n",
      "    self.n_StatefulPartitionedCall_resnet50_conv3_block3_2_conv_Conv2D = nn.Conv2d(**{'groups': 1, 'dilation': [1, 1], 'out_channels': 128, 'padding': [1, 1], 'kernel_size': (3, 3), 'stride': [1, 1], 'in_channels': 128, 'bias': True})\n",
      "    self.n_StatefulPartitionedCall_resnet50_conv3_block3_2_conv_Conv2D.weight.data = self._vars[\"StatefulPartitionedCall_resnet50_conv3_block3_2_conv_Conv2D_weights_fused_bn\"]\n",
      "    self.n_StatefulPartitionedCall_resnet50_conv3_block3_2_conv_Conv2D.bias.data = self._vars[\"StatefulPartitionedCall_resnet50_conv3_block3_2_conv_Conv2D_bias_fused_bn\"]\n",
      "    self.n_StatefulPartitionedCall_resnet50_conv3_block3_3_conv_Conv2D = nn.Conv2d(**{'groups': 1, 'dilation': [1, 1], 'out_channels': 512, 'padding': 0, 'kernel_size': (1, 1), 'stride': [1, 1], 'in_channels': 128, 'bias': True})\n",
      "    self.n_StatefulPartitionedCall_resnet50_conv3_block3_3_conv_Conv2D.weight.data = self._vars[\"StatefulPartitionedCall_resnet50_conv3_block3_3_conv_Conv2D_weights_fused_bn\"]\n",
      "    self.n_StatefulPartitionedCall_resnet50_conv3_block3_3_conv_Conv2D.bias.data = self._vars[\"StatefulPartitionedCall_resnet50_conv3_block3_3_conv_Conv2D_bias_fused_bn\"]\n",
      "    self.n_StatefulPartitionedCall_resnet50_conv3_block4_1_conv_Conv2D = nn.Conv2d(**{'groups': 1, 'dilation': [1, 1], 'out_channels': 128, 'padding': 0, 'kernel_size': (1, 1), 'stride': [1, 1], 'in_channels': 512, 'bias': True})\n",
      "    self.n_StatefulPartitionedCall_resnet50_conv3_block4_1_conv_Conv2D.weight.data = self._vars[\"StatefulPartitionedCall_resnet50_conv3_block4_1_conv_Conv2D_weights_fused_bn\"]\n",
      "    self.n_StatefulPartitionedCall_resnet50_conv3_block4_1_conv_Conv2D.bias.data = self._vars[\"StatefulPartitionedCall_resnet50_conv3_block4_1_conv_Conv2D_bias_fused_bn\"]\n",
      "    self.n_StatefulPartitionedCall_resnet50_conv3_block4_2_conv_Conv2D = nn.Conv2d(**{'groups': 1, 'dilation': [1, 1], 'out_channels': 128, 'padding': [1, 1], 'kernel_size': (3, 3), 'stride': [1, 1], 'in_channels': 128, 'bias': True})\n",
      "    self.n_StatefulPartitionedCall_resnet50_conv3_block4_2_conv_Conv2D.weight.data = self._vars[\"StatefulPartitionedCall_resnet50_conv3_block4_2_conv_Conv2D_weights_fused_bn\"]\n",
      "    self.n_StatefulPartitionedCall_resnet50_conv3_block4_2_conv_Conv2D.bias.data = self._vars[\"StatefulPartitionedCall_resnet50_conv3_block4_2_conv_Conv2D_bias_fused_bn\"]\n",
      "    self.n_StatefulPartitionedCall_resnet50_conv3_block4_3_conv_Conv2D = nn.Conv2d(**{'groups': 1, 'dilation': [1, 1], 'out_channels': 512, 'padding': 0, 'kernel_size': (1, 1), 'stride': [1, 1], 'in_channels': 128, 'bias': True})\n",
      "    self.n_StatefulPartitionedCall_resnet50_conv3_block4_3_conv_Conv2D.weight.data = self._vars[\"StatefulPartitionedCall_resnet50_conv3_block4_3_conv_Conv2D_weights_fused_bn\"]\n",
      "    self.n_StatefulPartitionedCall_resnet50_conv3_block4_3_conv_Conv2D.bias.data = self._vars[\"StatefulPartitionedCall_resnet50_conv3_block4_3_conv_Conv2D_bias_fused_bn\"]\n",
      "    self.n_StatefulPartitionedCall_resnet50_conv4_block1_1_conv_Conv2D = nn.Conv2d(**{'groups': 1, 'dilation': [1, 1], 'out_channels': 256, 'padding': 0, 'kernel_size': (1, 1), 'stride': [2, 2], 'in_channels': 512, 'bias': True})\n",
      "    self.n_StatefulPartitionedCall_resnet50_conv4_block1_1_conv_Conv2D.weight.data = self._vars[\"StatefulPartitionedCall_resnet50_conv4_block1_1_conv_Conv2D_weights_fused_bn\"]\n",
      "    self.n_StatefulPartitionedCall_resnet50_conv4_block1_1_conv_Conv2D.bias.data = self._vars[\"StatefulPartitionedCall_resnet50_conv4_block1_1_conv_Conv2D_bias_fused_bn\"]\n",
      "    self.n_StatefulPartitionedCall_resnet50_conv4_block1_2_conv_Conv2D = nn.Conv2d(**{'groups': 1, 'dilation': [1, 1], 'out_channels': 256, 'padding': [1, 1], 'kernel_size': (3, 3), 'stride': [1, 1], 'in_channels': 256, 'bias': True})\n",
      "    self.n_StatefulPartitionedCall_resnet50_conv4_block1_2_conv_Conv2D.weight.data = self._vars[\"StatefulPartitionedCall_resnet50_conv4_block1_2_conv_Conv2D_weights_fused_bn\"]\n",
      "    self.n_StatefulPartitionedCall_resnet50_conv4_block1_2_conv_Conv2D.bias.data = self._vars[\"StatefulPartitionedCall_resnet50_conv4_block1_2_conv_Conv2D_bias_fused_bn\"]\n",
      "    self.n_StatefulPartitionedCall_resnet50_conv4_block1_3_conv_Conv2D = nn.Conv2d(**{'groups': 1, 'dilation': [1, 1], 'out_channels': 1024, 'padding': 0, 'kernel_size': (1, 1), 'stride': [1, 1], 'in_channels': 256, 'bias': True})\n",
      "    self.n_StatefulPartitionedCall_resnet50_conv4_block1_3_conv_Conv2D.weight.data = self._vars[\"StatefulPartitionedCall_resnet50_conv4_block1_3_conv_Conv2D_weights_fused_bn\"]\n",
      "    self.n_StatefulPartitionedCall_resnet50_conv4_block1_3_conv_Conv2D.bias.data = self._vars[\"StatefulPartitionedCall_resnet50_conv4_block1_3_conv_Conv2D_bias_fused_bn\"]\n",
      "    self.n_StatefulPartitionedCall_resnet50_conv4_block1_0_conv_Conv2D = nn.Conv2d(**{'groups': 1, 'dilation': [1, 1], 'out_channels': 1024, 'padding': 0, 'kernel_size': (1, 1), 'stride': [2, 2], 'in_channels': 512, 'bias': True})\n",
      "    self.n_StatefulPartitionedCall_resnet50_conv4_block1_0_conv_Conv2D.weight.data = self._vars[\"StatefulPartitionedCall_resnet50_conv4_block1_0_conv_Conv2D_weights_fused_bn\"]\n",
      "    self.n_StatefulPartitionedCall_resnet50_conv4_block1_0_conv_Conv2D.bias.data = self._vars[\"StatefulPartitionedCall_resnet50_conv4_block1_0_conv_Conv2D_bias_fused_bn\"]\n",
      "    self.n_StatefulPartitionedCall_resnet50_conv4_block2_1_conv_Conv2D = nn.Conv2d(**{'groups': 1, 'dilation': [1, 1], 'out_channels': 256, 'padding': 0, 'kernel_size': (1, 1), 'stride': [1, 1], 'in_channels': 1024, 'bias': True})\n",
      "    self.n_StatefulPartitionedCall_resnet50_conv4_block2_1_conv_Conv2D.weight.data = self._vars[\"StatefulPartitionedCall_resnet50_conv4_block2_1_conv_Conv2D_weights_fused_bn\"]\n",
      "    self.n_StatefulPartitionedCall_resnet50_conv4_block2_1_conv_Conv2D.bias.data = self._vars[\"StatefulPartitionedCall_resnet50_conv4_block2_1_conv_Conv2D_bias_fused_bn\"]\n",
      "    self.n_StatefulPartitionedCall_resnet50_conv4_block2_2_conv_Conv2D = nn.Conv2d(**{'groups': 1, 'dilation': [1, 1], 'out_channels': 256, 'padding': [1, 1], 'kernel_size': (3, 3), 'stride': [1, 1], 'in_channels': 256, 'bias': True})\n",
      "    self.n_StatefulPartitionedCall_resnet50_conv4_block2_2_conv_Conv2D.weight.data = self._vars[\"StatefulPartitionedCall_resnet50_conv4_block2_2_conv_Conv2D_weights_fused_bn\"]\n",
      "    self.n_StatefulPartitionedCall_resnet50_conv4_block2_2_conv_Conv2D.bias.data = self._vars[\"StatefulPartitionedCall_resnet50_conv4_block2_2_conv_Conv2D_bias_fused_bn\"]\n",
      "    self.n_StatefulPartitionedCall_resnet50_conv4_block2_3_conv_Conv2D = nn.Conv2d(**{'groups': 1, 'dilation': [1, 1], 'out_channels': 1024, 'padding': 0, 'kernel_size': (1, 1), 'stride': [1, 1], 'in_channels': 256, 'bias': True})\n",
      "    self.n_StatefulPartitionedCall_resnet50_conv4_block2_3_conv_Conv2D.weight.data = self._vars[\"StatefulPartitionedCall_resnet50_conv4_block2_3_conv_Conv2D_weights_fused_bn\"]\n",
      "    self.n_StatefulPartitionedCall_resnet50_conv4_block2_3_conv_Conv2D.bias.data = self._vars[\"StatefulPartitionedCall_resnet50_conv4_block2_3_conv_Conv2D_bias_fused_bn\"]\n",
      "    self.n_StatefulPartitionedCall_resnet50_conv4_block3_1_conv_Conv2D = nn.Conv2d(**{'groups': 1, 'dilation': [1, 1], 'out_channels': 256, 'padding': 0, 'kernel_size': (1, 1), 'stride': [1, 1], 'in_channels': 1024, 'bias': True})\n",
      "    self.n_StatefulPartitionedCall_resnet50_conv4_block3_1_conv_Conv2D.weight.data = self._vars[\"StatefulPartitionedCall_resnet50_conv4_block3_1_conv_Conv2D_weights_fused_bn\"]\n",
      "    self.n_StatefulPartitionedCall_resnet50_conv4_block3_1_conv_Conv2D.bias.data = self._vars[\"StatefulPartitionedCall_resnet50_conv4_block3_1_conv_Conv2D_bias_fused_bn\"]\n",
      "    self.n_StatefulPartitionedCall_resnet50_conv4_block3_2_conv_Conv2D = nn.Conv2d(**{'groups': 1, 'dilation': [1, 1], 'out_channels': 256, 'padding': [1, 1], 'kernel_size': (3, 3), 'stride': [1, 1], 'in_channels': 256, 'bias': True})\n",
      "    self.n_StatefulPartitionedCall_resnet50_conv4_block3_2_conv_Conv2D.weight.data = self._vars[\"StatefulPartitionedCall_resnet50_conv4_block3_2_conv_Conv2D_weights_fused_bn\"]\n",
      "    self.n_StatefulPartitionedCall_resnet50_conv4_block3_2_conv_Conv2D.bias.data = self._vars[\"StatefulPartitionedCall_resnet50_conv4_block3_2_conv_Conv2D_bias_fused_bn\"]\n",
      "    self.n_StatefulPartitionedCall_resnet50_conv4_block3_3_conv_Conv2D = nn.Conv2d(**{'groups': 1, 'dilation': [1, 1], 'out_channels': 1024, 'padding': 0, 'kernel_size': (1, 1), 'stride': [1, 1], 'in_channels': 256, 'bias': True})\n",
      "    self.n_StatefulPartitionedCall_resnet50_conv4_block3_3_conv_Conv2D.weight.data = self._vars[\"StatefulPartitionedCall_resnet50_conv4_block3_3_conv_Conv2D_weights_fused_bn\"]\n",
      "    self.n_StatefulPartitionedCall_resnet50_conv4_block3_3_conv_Conv2D.bias.data = self._vars[\"StatefulPartitionedCall_resnet50_conv4_block3_3_conv_Conv2D_bias_fused_bn\"]\n",
      "    self.n_StatefulPartitionedCall_resnet50_conv4_block4_1_conv_Conv2D = nn.Conv2d(**{'groups': 1, 'dilation': [1, 1], 'out_channels': 256, 'padding': 0, 'kernel_size': (1, 1), 'stride': [1, 1], 'in_channels': 1024, 'bias': True})\n",
      "    self.n_StatefulPartitionedCall_resnet50_conv4_block4_1_conv_Conv2D.weight.data = self._vars[\"StatefulPartitionedCall_resnet50_conv4_block4_1_conv_Conv2D_weights_fused_bn\"]\n",
      "    self.n_StatefulPartitionedCall_resnet50_conv4_block4_1_conv_Conv2D.bias.data = self._vars[\"StatefulPartitionedCall_resnet50_conv4_block4_1_conv_Conv2D_bias_fused_bn\"]\n",
      "    self.n_StatefulPartitionedCall_resnet50_conv4_block4_2_conv_Conv2D = nn.Conv2d(**{'groups': 1, 'dilation': [1, 1], 'out_channels': 256, 'padding': [1, 1], 'kernel_size': (3, 3), 'stride': [1, 1], 'in_channels': 256, 'bias': True})\n",
      "    self.n_StatefulPartitionedCall_resnet50_conv4_block4_2_conv_Conv2D.weight.data = self._vars[\"StatefulPartitionedCall_resnet50_conv4_block4_2_conv_Conv2D_weights_fused_bn\"]\n",
      "    self.n_StatefulPartitionedCall_resnet50_conv4_block4_2_conv_Conv2D.bias.data = self._vars[\"StatefulPartitionedCall_resnet50_conv4_block4_2_conv_Conv2D_bias_fused_bn\"]\n",
      "    self.n_StatefulPartitionedCall_resnet50_conv4_block4_3_conv_Conv2D = nn.Conv2d(**{'groups': 1, 'dilation': [1, 1], 'out_channels': 1024, 'padding': 0, 'kernel_size': (1, 1), 'stride': [1, 1], 'in_channels': 256, 'bias': True})\n",
      "    self.n_StatefulPartitionedCall_resnet50_conv4_block4_3_conv_Conv2D.weight.data = self._vars[\"StatefulPartitionedCall_resnet50_conv4_block4_3_conv_Conv2D_weights_fused_bn\"]\n",
      "    self.n_StatefulPartitionedCall_resnet50_conv4_block4_3_conv_Conv2D.bias.data = self._vars[\"StatefulPartitionedCall_resnet50_conv4_block4_3_conv_Conv2D_bias_fused_bn\"]\n",
      "    self.n_StatefulPartitionedCall_resnet50_conv4_block5_1_conv_Conv2D = nn.Conv2d(**{'groups': 1, 'dilation': [1, 1], 'out_channels': 256, 'padding': 0, 'kernel_size': (1, 1), 'stride': [1, 1], 'in_channels': 1024, 'bias': True})\n",
      "    self.n_StatefulPartitionedCall_resnet50_conv4_block5_1_conv_Conv2D.weight.data = self._vars[\"StatefulPartitionedCall_resnet50_conv4_block5_1_conv_Conv2D_weights_fused_bn\"]\n",
      "    self.n_StatefulPartitionedCall_resnet50_conv4_block5_1_conv_Conv2D.bias.data = self._vars[\"StatefulPartitionedCall_resnet50_conv4_block5_1_conv_Conv2D_bias_fused_bn\"]\n",
      "    self.n_StatefulPartitionedCall_resnet50_conv4_block5_2_conv_Conv2D = nn.Conv2d(**{'groups': 1, 'dilation': [1, 1], 'out_channels': 256, 'padding': [1, 1], 'kernel_size': (3, 3), 'stride': [1, 1], 'in_channels': 256, 'bias': True})\n",
      "    self.n_StatefulPartitionedCall_resnet50_conv4_block5_2_conv_Conv2D.weight.data = self._vars[\"StatefulPartitionedCall_resnet50_conv4_block5_2_conv_Conv2D_weights_fused_bn\"]\n",
      "    self.n_StatefulPartitionedCall_resnet50_conv4_block5_2_conv_Conv2D.bias.data = self._vars[\"StatefulPartitionedCall_resnet50_conv4_block5_2_conv_Conv2D_bias_fused_bn\"]\n",
      "    self.n_StatefulPartitionedCall_resnet50_conv4_block5_3_conv_Conv2D = nn.Conv2d(**{'groups': 1, 'dilation': [1, 1], 'out_channels': 1024, 'padding': 0, 'kernel_size': (1, 1), 'stride': [1, 1], 'in_channels': 256, 'bias': True})\n",
      "    self.n_StatefulPartitionedCall_resnet50_conv4_block5_3_conv_Conv2D.weight.data = self._vars[\"StatefulPartitionedCall_resnet50_conv4_block5_3_conv_Conv2D_weights_fused_bn\"]\n",
      "    self.n_StatefulPartitionedCall_resnet50_conv4_block5_3_conv_Conv2D.bias.data = self._vars[\"StatefulPartitionedCall_resnet50_conv4_block5_3_conv_Conv2D_bias_fused_bn\"]\n",
      "    self.n_StatefulPartitionedCall_resnet50_conv4_block6_1_conv_Conv2D = nn.Conv2d(**{'groups': 1, 'dilation': [1, 1], 'out_channels': 256, 'padding': 0, 'kernel_size': (1, 1), 'stride': [1, 1], 'in_channels': 1024, 'bias': True})\n",
      "    self.n_StatefulPartitionedCall_resnet50_conv4_block6_1_conv_Conv2D.weight.data = self._vars[\"StatefulPartitionedCall_resnet50_conv4_block6_1_conv_Conv2D_weights_fused_bn\"]\n",
      "    self.n_StatefulPartitionedCall_resnet50_conv4_block6_1_conv_Conv2D.bias.data = self._vars[\"StatefulPartitionedCall_resnet50_conv4_block6_1_conv_Conv2D_bias_fused_bn\"]\n",
      "    self.n_StatefulPartitionedCall_resnet50_conv4_block6_2_conv_Conv2D = nn.Conv2d(**{'groups': 1, 'dilation': [1, 1], 'out_channels': 256, 'padding': [1, 1], 'kernel_size': (3, 3), 'stride': [1, 1], 'in_channels': 256, 'bias': True})\n",
      "    self.n_StatefulPartitionedCall_resnet50_conv4_block6_2_conv_Conv2D.weight.data = self._vars[\"StatefulPartitionedCall_resnet50_conv4_block6_2_conv_Conv2D_weights_fused_bn\"]\n",
      "    self.n_StatefulPartitionedCall_resnet50_conv4_block6_2_conv_Conv2D.bias.data = self._vars[\"StatefulPartitionedCall_resnet50_conv4_block6_2_conv_Conv2D_bias_fused_bn\"]\n",
      "    self.n_StatefulPartitionedCall_resnet50_conv4_block6_3_conv_Conv2D = nn.Conv2d(**{'groups': 1, 'dilation': [1, 1], 'out_channels': 1024, 'padding': 0, 'kernel_size': (1, 1), 'stride': [1, 1], 'in_channels': 256, 'bias': True})\n",
      "    self.n_StatefulPartitionedCall_resnet50_conv4_block6_3_conv_Conv2D.weight.data = self._vars[\"StatefulPartitionedCall_resnet50_conv4_block6_3_conv_Conv2D_weights_fused_bn\"]\n",
      "    self.n_StatefulPartitionedCall_resnet50_conv4_block6_3_conv_Conv2D.bias.data = self._vars[\"StatefulPartitionedCall_resnet50_conv4_block6_3_conv_Conv2D_bias_fused_bn\"]\n",
      "    self.n_StatefulPartitionedCall_resnet50_conv5_block1_1_conv_Conv2D = nn.Conv2d(**{'groups': 1, 'dilation': [1, 1], 'out_channels': 512, 'padding': 0, 'kernel_size': (1, 1), 'stride': [2, 2], 'in_channels': 1024, 'bias': True})\n",
      "    self.n_StatefulPartitionedCall_resnet50_conv5_block1_1_conv_Conv2D.weight.data = self._vars[\"StatefulPartitionedCall_resnet50_conv5_block1_1_conv_Conv2D_weights_fused_bn\"]\n",
      "    self.n_StatefulPartitionedCall_resnet50_conv5_block1_1_conv_Conv2D.bias.data = self._vars[\"StatefulPartitionedCall_resnet50_conv5_block1_1_conv_Conv2D_bias_fused_bn\"]\n",
      "    self.n_StatefulPartitionedCall_resnet50_conv5_block1_2_conv_Conv2D = nn.Conv2d(**{'groups': 1, 'dilation': [1, 1], 'out_channels': 512, 'padding': [1, 1], 'kernel_size': (3, 3), 'stride': [1, 1], 'in_channels': 512, 'bias': True})\n",
      "    self.n_StatefulPartitionedCall_resnet50_conv5_block1_2_conv_Conv2D.weight.data = self._vars[\"StatefulPartitionedCall_resnet50_conv5_block1_2_conv_Conv2D_weights_fused_bn\"]\n",
      "    self.n_StatefulPartitionedCall_resnet50_conv5_block1_2_conv_Conv2D.bias.data = self._vars[\"StatefulPartitionedCall_resnet50_conv5_block1_2_conv_Conv2D_bias_fused_bn\"]\n",
      "    self.n_StatefulPartitionedCall_resnet50_conv5_block1_3_conv_Conv2D = nn.Conv2d(**{'groups': 1, 'dilation': [1, 1], 'out_channels': 2048, 'padding': 0, 'kernel_size': (1, 1), 'stride': [1, 1], 'in_channels': 512, 'bias': True})\n",
      "    self.n_StatefulPartitionedCall_resnet50_conv5_block1_3_conv_Conv2D.weight.data = self._vars[\"StatefulPartitionedCall_resnet50_conv5_block1_3_conv_Conv2D_weights_fused_bn\"]\n",
      "    self.n_StatefulPartitionedCall_resnet50_conv5_block1_3_conv_Conv2D.bias.data = self._vars[\"StatefulPartitionedCall_resnet50_conv5_block1_3_conv_Conv2D_bias_fused_bn\"]\n",
      "    self.n_StatefulPartitionedCall_resnet50_conv5_block1_0_conv_Conv2D = nn.Conv2d(**{'groups': 1, 'dilation': [1, 1], 'out_channels': 2048, 'padding': 0, 'kernel_size': (1, 1), 'stride': [2, 2], 'in_channels': 1024, 'bias': True})\n",
      "    self.n_StatefulPartitionedCall_resnet50_conv5_block1_0_conv_Conv2D.weight.data = self._vars[\"StatefulPartitionedCall_resnet50_conv5_block1_0_conv_Conv2D_weights_fused_bn\"]\n",
      "    self.n_StatefulPartitionedCall_resnet50_conv5_block1_0_conv_Conv2D.bias.data = self._vars[\"StatefulPartitionedCall_resnet50_conv5_block1_0_conv_Conv2D_bias_fused_bn\"]\n",
      "    self.n_StatefulPartitionedCall_resnet50_conv5_block2_1_conv_Conv2D = nn.Conv2d(**{'groups': 1, 'dilation': [1, 1], 'out_channels': 512, 'padding': 0, 'kernel_size': (1, 1), 'stride': [1, 1], 'in_channels': 2048, 'bias': True})\n",
      "    self.n_StatefulPartitionedCall_resnet50_conv5_block2_1_conv_Conv2D.weight.data = self._vars[\"StatefulPartitionedCall_resnet50_conv5_block2_1_conv_Conv2D_weights_fused_bn\"]\n",
      "    self.n_StatefulPartitionedCall_resnet50_conv5_block2_1_conv_Conv2D.bias.data = self._vars[\"StatefulPartitionedCall_resnet50_conv5_block2_1_conv_Conv2D_bias_fused_bn\"]\n",
      "    self.n_StatefulPartitionedCall_resnet50_conv5_block2_2_conv_Conv2D = nn.Conv2d(**{'groups': 1, 'dilation': [1, 1], 'out_channels': 512, 'padding': [1, 1], 'kernel_size': (3, 3), 'stride': [1, 1], 'in_channels': 512, 'bias': True})\n",
      "    self.n_StatefulPartitionedCall_resnet50_conv5_block2_2_conv_Conv2D.weight.data = self._vars[\"StatefulPartitionedCall_resnet50_conv5_block2_2_conv_Conv2D_weights_fused_bn\"]\n",
      "    self.n_StatefulPartitionedCall_resnet50_conv5_block2_2_conv_Conv2D.bias.data = self._vars[\"StatefulPartitionedCall_resnet50_conv5_block2_2_conv_Conv2D_bias_fused_bn\"]\n",
      "    self.n_StatefulPartitionedCall_resnet50_conv5_block2_3_conv_Conv2D = nn.Conv2d(**{'groups': 1, 'dilation': [1, 1], 'out_channels': 2048, 'padding': 0, 'kernel_size': (1, 1), 'stride': [1, 1], 'in_channels': 512, 'bias': True})\n",
      "    self.n_StatefulPartitionedCall_resnet50_conv5_block2_3_conv_Conv2D.weight.data = self._vars[\"StatefulPartitionedCall_resnet50_conv5_block2_3_conv_Conv2D_weights_fused_bn\"]\n",
      "    self.n_StatefulPartitionedCall_resnet50_conv5_block2_3_conv_Conv2D.bias.data = self._vars[\"StatefulPartitionedCall_resnet50_conv5_block2_3_conv_Conv2D_bias_fused_bn\"]\n",
      "    self.n_StatefulPartitionedCall_resnet50_conv5_block3_1_conv_Conv2D = nn.Conv2d(**{'groups': 1, 'dilation': [1, 1], 'out_channels': 512, 'padding': 0, 'kernel_size': (1, 1), 'stride': [1, 1], 'in_channels': 2048, 'bias': True})\n",
      "    self.n_StatefulPartitionedCall_resnet50_conv5_block3_1_conv_Conv2D.weight.data = self._vars[\"StatefulPartitionedCall_resnet50_conv5_block3_1_conv_Conv2D_weights_fused_bn\"]\n",
      "    self.n_StatefulPartitionedCall_resnet50_conv5_block3_1_conv_Conv2D.bias.data = self._vars[\"StatefulPartitionedCall_resnet50_conv5_block3_1_conv_Conv2D_bias_fused_bn\"]\n",
      "    self.n_StatefulPartitionedCall_resnet50_conv5_block3_2_conv_Conv2D = nn.Conv2d(**{'groups': 1, 'dilation': [1, 1], 'out_channels': 512, 'padding': [1, 1], 'kernel_size': (3, 3), 'stride': [1, 1], 'in_channels': 512, 'bias': True})\n",
      "    self.n_StatefulPartitionedCall_resnet50_conv5_block3_2_conv_Conv2D.weight.data = self._vars[\"StatefulPartitionedCall_resnet50_conv5_block3_2_conv_Conv2D_weights_fused_bn\"]\n",
      "    self.n_StatefulPartitionedCall_resnet50_conv5_block3_2_conv_Conv2D.bias.data = self._vars[\"StatefulPartitionedCall_resnet50_conv5_block3_2_conv_Conv2D_bias_fused_bn\"]\n",
      "    self.n_StatefulPartitionedCall_resnet50_conv5_block3_3_conv_Conv2D = nn.Conv2d(**{'groups': 1, 'dilation': [1, 1], 'out_channels': 2048, 'padding': 0, 'kernel_size': (1, 1), 'stride': [1, 1], 'in_channels': 512, 'bias': True})\n",
      "    self.n_StatefulPartitionedCall_resnet50_conv5_block3_3_conv_Conv2D.weight.data = self._vars[\"StatefulPartitionedCall_resnet50_conv5_block3_3_conv_Conv2D_weights_fused_bn\"]\n",
      "    self.n_StatefulPartitionedCall_resnet50_conv5_block3_3_conv_Conv2D.bias.data = self._vars[\"StatefulPartitionedCall_resnet50_conv5_block3_3_conv_Conv2D_bias_fused_bn\"]\n",
      "\n",
      "  def forward(self, *inputs):\n",
      "    input_1, = inputs\n",
      "    StatefulPartitionedCall_resnet50_conv1_conv_Conv2D__6_0 = input_1.permute(*[0, 3, 1, 2])\n",
      "    StatefulPartitionedCall_resnet50_conv1_bn_FusedBatchNormV3_0 = self.n_Conv__434(StatefulPartitionedCall_resnet50_conv1_conv_Conv2D__6_0)\n",
      "    StatefulPartitionedCall_resnet50_conv1_relu_Relu_0 = F.relu(StatefulPartitionedCall_resnet50_conv1_bn_FusedBatchNormV3_0)\n",
      "    StatefulPartitionedCall_resnet50_pool1_pad_Pad_0 = F.pad(StatefulPartitionedCall_resnet50_conv1_relu_Relu_0, [1, 1, 1, 1], \"constant\", 0.0)\n",
      "    StatefulPartitionedCall_resnet50_pool1_pool_MaxPool_0 = self.n_StatefulPartitionedCall_resnet50_pool1_pool_MaxPool(StatefulPartitionedCall_resnet50_pool1_pad_Pad_0)\n",
      "    StatefulPartitionedCall_resnet50_conv2_block1_1_bn_FusedBatchNormV3_0 = self.n_StatefulPartitionedCall_resnet50_conv2_block1_1_conv_Conv2D(StatefulPartitionedCall_resnet50_pool1_pool_MaxPool_0)\n",
      "    StatefulPartitionedCall_resnet50_conv2_block1_1_relu_Relu_0 = F.relu(StatefulPartitionedCall_resnet50_conv2_block1_1_bn_FusedBatchNormV3_0)\n",
      "    StatefulPartitionedCall_resnet50_conv2_block1_2_bn_FusedBatchNormV3_0 = self.n_StatefulPartitionedCall_resnet50_conv2_block1_2_conv_Conv2D(StatefulPartitionedCall_resnet50_conv2_block1_1_relu_Relu_0)\n",
      "    StatefulPartitionedCall_resnet50_conv2_block1_2_relu_Relu_0 = F.relu(StatefulPartitionedCall_resnet50_conv2_block1_2_bn_FusedBatchNormV3_0)\n",
      "    StatefulPartitionedCall_resnet50_conv2_block1_3_bn_FusedBatchNormV3_0 = self.n_StatefulPartitionedCall_resnet50_conv2_block1_3_conv_Conv2D(StatefulPartitionedCall_resnet50_conv2_block1_2_relu_Relu_0)\n",
      "    StatefulPartitionedCall_resnet50_conv2_block1_0_bn_FusedBatchNormV3_0 = self.n_StatefulPartitionedCall_resnet50_conv2_block1_0_conv_Conv2D(StatefulPartitionedCall_resnet50_pool1_pool_MaxPool_0)\n",
      "    StatefulPartitionedCall_resnet50_conv2_block1_add_add_0 = torch.add(StatefulPartitionedCall_resnet50_conv2_block1_0_bn_FusedBatchNormV3_0, StatefulPartitionedCall_resnet50_conv2_block1_3_bn_FusedBatchNormV3_0)\n",
      "    StatefulPartitionedCall_resnet50_conv2_block1_out_Relu_0 = F.relu(StatefulPartitionedCall_resnet50_conv2_block1_add_add_0)\n",
      "    StatefulPartitionedCall_resnet50_conv2_block2_1_bn_FusedBatchNormV3_0 = self.n_StatefulPartitionedCall_resnet50_conv2_block2_1_conv_Conv2D(StatefulPartitionedCall_resnet50_conv2_block1_out_Relu_0)\n",
      "    StatefulPartitionedCall_resnet50_conv2_block2_1_relu_Relu_0 = F.relu(StatefulPartitionedCall_resnet50_conv2_block2_1_bn_FusedBatchNormV3_0)\n",
      "    StatefulPartitionedCall_resnet50_conv2_block2_2_bn_FusedBatchNormV3_0 = self.n_StatefulPartitionedCall_resnet50_conv2_block2_2_conv_Conv2D(StatefulPartitionedCall_resnet50_conv2_block2_1_relu_Relu_0)\n",
      "    StatefulPartitionedCall_resnet50_conv2_block2_2_relu_Relu_0 = F.relu(StatefulPartitionedCall_resnet50_conv2_block2_2_bn_FusedBatchNormV3_0)\n",
      "    StatefulPartitionedCall_resnet50_conv2_block2_3_bn_FusedBatchNormV3_0 = self.n_StatefulPartitionedCall_resnet50_conv2_block2_3_conv_Conv2D(StatefulPartitionedCall_resnet50_conv2_block2_2_relu_Relu_0)\n",
      "    StatefulPartitionedCall_resnet50_conv2_block2_add_add_0 = torch.add(StatefulPartitionedCall_resnet50_conv2_block1_out_Relu_0, StatefulPartitionedCall_resnet50_conv2_block2_3_bn_FusedBatchNormV3_0)\n",
      "    StatefulPartitionedCall_resnet50_conv2_block2_out_Relu_0 = F.relu(StatefulPartitionedCall_resnet50_conv2_block2_add_add_0)\n",
      "    StatefulPartitionedCall_resnet50_conv2_block3_1_bn_FusedBatchNormV3_0 = self.n_StatefulPartitionedCall_resnet50_conv2_block3_1_conv_Conv2D(StatefulPartitionedCall_resnet50_conv2_block2_out_Relu_0)\n",
      "    StatefulPartitionedCall_resnet50_conv2_block3_1_relu_Relu_0 = F.relu(StatefulPartitionedCall_resnet50_conv2_block3_1_bn_FusedBatchNormV3_0)\n",
      "    StatefulPartitionedCall_resnet50_conv2_block3_2_bn_FusedBatchNormV3_0 = self.n_StatefulPartitionedCall_resnet50_conv2_block3_2_conv_Conv2D(StatefulPartitionedCall_resnet50_conv2_block3_1_relu_Relu_0)\n",
      "    StatefulPartitionedCall_resnet50_conv2_block3_2_relu_Relu_0 = F.relu(StatefulPartitionedCall_resnet50_conv2_block3_2_bn_FusedBatchNormV3_0)\n",
      "    StatefulPartitionedCall_resnet50_conv2_block3_3_bn_FusedBatchNormV3_0 = self.n_StatefulPartitionedCall_resnet50_conv2_block3_3_conv_Conv2D(StatefulPartitionedCall_resnet50_conv2_block3_2_relu_Relu_0)\n",
      "    StatefulPartitionedCall_resnet50_conv2_block3_add_add_0 = torch.add(StatefulPartitionedCall_resnet50_conv2_block2_out_Relu_0, StatefulPartitionedCall_resnet50_conv2_block3_3_bn_FusedBatchNormV3_0)\n",
      "    StatefulPartitionedCall_resnet50_conv2_block3_out_Relu_0 = F.relu(StatefulPartitionedCall_resnet50_conv2_block3_add_add_0)\n",
      "    StatefulPartitionedCall_resnet50_conv3_block1_1_bn_FusedBatchNormV3_0 = self.n_StatefulPartitionedCall_resnet50_conv3_block1_1_conv_Conv2D(StatefulPartitionedCall_resnet50_conv2_block3_out_Relu_0)\n",
      "    StatefulPartitionedCall_resnet50_conv3_block1_1_relu_Relu_0 = F.relu(StatefulPartitionedCall_resnet50_conv3_block1_1_bn_FusedBatchNormV3_0)\n",
      "    StatefulPartitionedCall_resnet50_conv3_block1_2_bn_FusedBatchNormV3_0 = self.n_StatefulPartitionedCall_resnet50_conv3_block1_2_conv_Conv2D(StatefulPartitionedCall_resnet50_conv3_block1_1_relu_Relu_0)\n",
      "    StatefulPartitionedCall_resnet50_conv3_block1_2_relu_Relu_0 = F.relu(StatefulPartitionedCall_resnet50_conv3_block1_2_bn_FusedBatchNormV3_0)\n",
      "    StatefulPartitionedCall_resnet50_conv3_block1_3_bn_FusedBatchNormV3_0 = self.n_StatefulPartitionedCall_resnet50_conv3_block1_3_conv_Conv2D(StatefulPartitionedCall_resnet50_conv3_block1_2_relu_Relu_0)\n",
      "    StatefulPartitionedCall_resnet50_conv3_block1_0_bn_FusedBatchNormV3_0 = self.n_StatefulPartitionedCall_resnet50_conv3_block1_0_conv_Conv2D(StatefulPartitionedCall_resnet50_conv2_block3_out_Relu_0)\n",
      "    StatefulPartitionedCall_resnet50_conv3_block1_add_add_0 = torch.add(StatefulPartitionedCall_resnet50_conv3_block1_0_bn_FusedBatchNormV3_0, StatefulPartitionedCall_resnet50_conv3_block1_3_bn_FusedBatchNormV3_0)\n",
      "    StatefulPartitionedCall_resnet50_conv3_block1_out_Relu_0 = F.relu(StatefulPartitionedCall_resnet50_conv3_block1_add_add_0)\n",
      "    StatefulPartitionedCall_resnet50_conv3_block2_1_bn_FusedBatchNormV3_0 = self.n_StatefulPartitionedCall_resnet50_conv3_block2_1_conv_Conv2D(StatefulPartitionedCall_resnet50_conv3_block1_out_Relu_0)\n",
      "    StatefulPartitionedCall_resnet50_conv3_block2_1_relu_Relu_0 = F.relu(StatefulPartitionedCall_resnet50_conv3_block2_1_bn_FusedBatchNormV3_0)\n",
      "    StatefulPartitionedCall_resnet50_conv3_block2_2_bn_FusedBatchNormV3_0 = self.n_StatefulPartitionedCall_resnet50_conv3_block2_2_conv_Conv2D(StatefulPartitionedCall_resnet50_conv3_block2_1_relu_Relu_0)\n",
      "    StatefulPartitionedCall_resnet50_conv3_block2_2_relu_Relu_0 = F.relu(StatefulPartitionedCall_resnet50_conv3_block2_2_bn_FusedBatchNormV3_0)\n",
      "    StatefulPartitionedCall_resnet50_conv3_block2_3_bn_FusedBatchNormV3_0 = self.n_StatefulPartitionedCall_resnet50_conv3_block2_3_conv_Conv2D(StatefulPartitionedCall_resnet50_conv3_block2_2_relu_Relu_0)\n",
      "    StatefulPartitionedCall_resnet50_conv3_block2_add_add_0 = torch.add(StatefulPartitionedCall_resnet50_conv3_block1_out_Relu_0, StatefulPartitionedCall_resnet50_conv3_block2_3_bn_FusedBatchNormV3_0)\n",
      "    StatefulPartitionedCall_resnet50_conv3_block2_out_Relu_0 = F.relu(StatefulPartitionedCall_resnet50_conv3_block2_add_add_0)\n",
      "    StatefulPartitionedCall_resnet50_conv3_block3_1_bn_FusedBatchNormV3_0 = self.n_StatefulPartitionedCall_resnet50_conv3_block3_1_conv_Conv2D(StatefulPartitionedCall_resnet50_conv3_block2_out_Relu_0)\n",
      "    StatefulPartitionedCall_resnet50_conv3_block3_1_relu_Relu_0 = F.relu(StatefulPartitionedCall_resnet50_conv3_block3_1_bn_FusedBatchNormV3_0)\n",
      "    StatefulPartitionedCall_resnet50_conv3_block3_2_bn_FusedBatchNormV3_0 = self.n_StatefulPartitionedCall_resnet50_conv3_block3_2_conv_Conv2D(StatefulPartitionedCall_resnet50_conv3_block3_1_relu_Relu_0)\n",
      "    StatefulPartitionedCall_resnet50_conv3_block3_2_relu_Relu_0 = F.relu(StatefulPartitionedCall_resnet50_conv3_block3_2_bn_FusedBatchNormV3_0)\n",
      "    StatefulPartitionedCall_resnet50_conv3_block3_3_bn_FusedBatchNormV3_0 = self.n_StatefulPartitionedCall_resnet50_conv3_block3_3_conv_Conv2D(StatefulPartitionedCall_resnet50_conv3_block3_2_relu_Relu_0)\n",
      "    StatefulPartitionedCall_resnet50_conv3_block3_add_add_0 = torch.add(StatefulPartitionedCall_resnet50_conv3_block2_out_Relu_0, StatefulPartitionedCall_resnet50_conv3_block3_3_bn_FusedBatchNormV3_0)\n",
      "    StatefulPartitionedCall_resnet50_conv3_block3_out_Relu_0 = F.relu(StatefulPartitionedCall_resnet50_conv3_block3_add_add_0)\n",
      "    StatefulPartitionedCall_resnet50_conv3_block4_1_bn_FusedBatchNormV3_0 = self.n_StatefulPartitionedCall_resnet50_conv3_block4_1_conv_Conv2D(StatefulPartitionedCall_resnet50_conv3_block3_out_Relu_0)\n",
      "    StatefulPartitionedCall_resnet50_conv3_block4_1_relu_Relu_0 = F.relu(StatefulPartitionedCall_resnet50_conv3_block4_1_bn_FusedBatchNormV3_0)\n",
      "    StatefulPartitionedCall_resnet50_conv3_block4_2_bn_FusedBatchNormV3_0 = self.n_StatefulPartitionedCall_resnet50_conv3_block4_2_conv_Conv2D(StatefulPartitionedCall_resnet50_conv3_block4_1_relu_Relu_0)\n",
      "    StatefulPartitionedCall_resnet50_conv3_block4_2_relu_Relu_0 = F.relu(StatefulPartitionedCall_resnet50_conv3_block4_2_bn_FusedBatchNormV3_0)\n",
      "    StatefulPartitionedCall_resnet50_conv3_block4_3_bn_FusedBatchNormV3_0 = self.n_StatefulPartitionedCall_resnet50_conv3_block4_3_conv_Conv2D(StatefulPartitionedCall_resnet50_conv3_block4_2_relu_Relu_0)\n",
      "    StatefulPartitionedCall_resnet50_conv3_block4_add_add_0 = torch.add(StatefulPartitionedCall_resnet50_conv3_block3_out_Relu_0, StatefulPartitionedCall_resnet50_conv3_block4_3_bn_FusedBatchNormV3_0)\n",
      "    StatefulPartitionedCall_resnet50_conv3_block4_out_Relu_0 = F.relu(StatefulPartitionedCall_resnet50_conv3_block4_add_add_0)\n",
      "    StatefulPartitionedCall_resnet50_conv4_block1_1_bn_FusedBatchNormV3_0 = self.n_StatefulPartitionedCall_resnet50_conv4_block1_1_conv_Conv2D(StatefulPartitionedCall_resnet50_conv3_block4_out_Relu_0)\n",
      "    StatefulPartitionedCall_resnet50_conv4_block1_1_relu_Relu_0 = F.relu(StatefulPartitionedCall_resnet50_conv4_block1_1_bn_FusedBatchNormV3_0)\n",
      "    StatefulPartitionedCall_resnet50_conv4_block1_2_bn_FusedBatchNormV3_0 = self.n_StatefulPartitionedCall_resnet50_conv4_block1_2_conv_Conv2D(StatefulPartitionedCall_resnet50_conv4_block1_1_relu_Relu_0)\n",
      "    StatefulPartitionedCall_resnet50_conv4_block1_2_relu_Relu_0 = F.relu(StatefulPartitionedCall_resnet50_conv4_block1_2_bn_FusedBatchNormV3_0)\n",
      "    StatefulPartitionedCall_resnet50_conv4_block1_3_bn_FusedBatchNormV3_0 = self.n_StatefulPartitionedCall_resnet50_conv4_block1_3_conv_Conv2D(StatefulPartitionedCall_resnet50_conv4_block1_2_relu_Relu_0)\n",
      "    StatefulPartitionedCall_resnet50_conv4_block1_0_bn_FusedBatchNormV3_0 = self.n_StatefulPartitionedCall_resnet50_conv4_block1_0_conv_Conv2D(StatefulPartitionedCall_resnet50_conv3_block4_out_Relu_0)\n",
      "    StatefulPartitionedCall_resnet50_conv4_block1_add_add_0 = torch.add(StatefulPartitionedCall_resnet50_conv4_block1_0_bn_FusedBatchNormV3_0, StatefulPartitionedCall_resnet50_conv4_block1_3_bn_FusedBatchNormV3_0)\n",
      "    StatefulPartitionedCall_resnet50_conv4_block1_out_Relu_0 = F.relu(StatefulPartitionedCall_resnet50_conv4_block1_add_add_0)\n",
      "    StatefulPartitionedCall_resnet50_conv4_block2_1_bn_FusedBatchNormV3_0 = self.n_StatefulPartitionedCall_resnet50_conv4_block2_1_conv_Conv2D(StatefulPartitionedCall_resnet50_conv4_block1_out_Relu_0)\n",
      "    StatefulPartitionedCall_resnet50_conv4_block2_1_relu_Relu_0 = F.relu(StatefulPartitionedCall_resnet50_conv4_block2_1_bn_FusedBatchNormV3_0)\n",
      "    StatefulPartitionedCall_resnet50_conv4_block2_2_bn_FusedBatchNormV3_0 = self.n_StatefulPartitionedCall_resnet50_conv4_block2_2_conv_Conv2D(StatefulPartitionedCall_resnet50_conv4_block2_1_relu_Relu_0)\n",
      "    StatefulPartitionedCall_resnet50_conv4_block2_2_relu_Relu_0 = F.relu(StatefulPartitionedCall_resnet50_conv4_block2_2_bn_FusedBatchNormV3_0)\n",
      "    StatefulPartitionedCall_resnet50_conv4_block2_3_bn_FusedBatchNormV3_0 = self.n_StatefulPartitionedCall_resnet50_conv4_block2_3_conv_Conv2D(StatefulPartitionedCall_resnet50_conv4_block2_2_relu_Relu_0)\n",
      "    StatefulPartitionedCall_resnet50_conv4_block2_add_add_0 = torch.add(StatefulPartitionedCall_resnet50_conv4_block1_out_Relu_0, StatefulPartitionedCall_resnet50_conv4_block2_3_bn_FusedBatchNormV3_0)\n",
      "    StatefulPartitionedCall_resnet50_conv4_block2_out_Relu_0 = F.relu(StatefulPartitionedCall_resnet50_conv4_block2_add_add_0)\n",
      "    StatefulPartitionedCall_resnet50_conv4_block3_1_bn_FusedBatchNormV3_0 = self.n_StatefulPartitionedCall_resnet50_conv4_block3_1_conv_Conv2D(StatefulPartitionedCall_resnet50_conv4_block2_out_Relu_0)\n",
      "    StatefulPartitionedCall_resnet50_conv4_block3_1_relu_Relu_0 = F.relu(StatefulPartitionedCall_resnet50_conv4_block3_1_bn_FusedBatchNormV3_0)\n",
      "    StatefulPartitionedCall_resnet50_conv4_block3_2_bn_FusedBatchNormV3_0 = self.n_StatefulPartitionedCall_resnet50_conv4_block3_2_conv_Conv2D(StatefulPartitionedCall_resnet50_conv4_block3_1_relu_Relu_0)\n",
      "    StatefulPartitionedCall_resnet50_conv4_block3_2_relu_Relu_0 = F.relu(StatefulPartitionedCall_resnet50_conv4_block3_2_bn_FusedBatchNormV3_0)\n",
      "    StatefulPartitionedCall_resnet50_conv4_block3_3_bn_FusedBatchNormV3_0 = self.n_StatefulPartitionedCall_resnet50_conv4_block3_3_conv_Conv2D(StatefulPartitionedCall_resnet50_conv4_block3_2_relu_Relu_0)\n",
      "    StatefulPartitionedCall_resnet50_conv4_block3_add_add_0 = torch.add(StatefulPartitionedCall_resnet50_conv4_block2_out_Relu_0, StatefulPartitionedCall_resnet50_conv4_block3_3_bn_FusedBatchNormV3_0)\n",
      "    StatefulPartitionedCall_resnet50_conv4_block3_out_Relu_0 = F.relu(StatefulPartitionedCall_resnet50_conv4_block3_add_add_0)\n",
      "    StatefulPartitionedCall_resnet50_conv4_block4_1_bn_FusedBatchNormV3_0 = self.n_StatefulPartitionedCall_resnet50_conv4_block4_1_conv_Conv2D(StatefulPartitionedCall_resnet50_conv4_block3_out_Relu_0)\n",
      "    StatefulPartitionedCall_resnet50_conv4_block4_1_relu_Relu_0 = F.relu(StatefulPartitionedCall_resnet50_conv4_block4_1_bn_FusedBatchNormV3_0)\n",
      "    StatefulPartitionedCall_resnet50_conv4_block4_2_bn_FusedBatchNormV3_0 = self.n_StatefulPartitionedCall_resnet50_conv4_block4_2_conv_Conv2D(StatefulPartitionedCall_resnet50_conv4_block4_1_relu_Relu_0)\n",
      "    StatefulPartitionedCall_resnet50_conv4_block4_2_relu_Relu_0 = F.relu(StatefulPartitionedCall_resnet50_conv4_block4_2_bn_FusedBatchNormV3_0)\n",
      "    StatefulPartitionedCall_resnet50_conv4_block4_3_bn_FusedBatchNormV3_0 = self.n_StatefulPartitionedCall_resnet50_conv4_block4_3_conv_Conv2D(StatefulPartitionedCall_resnet50_conv4_block4_2_relu_Relu_0)\n",
      "    StatefulPartitionedCall_resnet50_conv4_block4_add_add_0 = torch.add(StatefulPartitionedCall_resnet50_conv4_block3_out_Relu_0, StatefulPartitionedCall_resnet50_conv4_block4_3_bn_FusedBatchNormV3_0)\n",
      "    StatefulPartitionedCall_resnet50_conv4_block4_out_Relu_0 = F.relu(StatefulPartitionedCall_resnet50_conv4_block4_add_add_0)\n",
      "    StatefulPartitionedCall_resnet50_conv4_block5_1_bn_FusedBatchNormV3_0 = self.n_StatefulPartitionedCall_resnet50_conv4_block5_1_conv_Conv2D(StatefulPartitionedCall_resnet50_conv4_block4_out_Relu_0)\n",
      "    StatefulPartitionedCall_resnet50_conv4_block5_1_relu_Relu_0 = F.relu(StatefulPartitionedCall_resnet50_conv4_block5_1_bn_FusedBatchNormV3_0)\n",
      "    StatefulPartitionedCall_resnet50_conv4_block5_2_bn_FusedBatchNormV3_0 = self.n_StatefulPartitionedCall_resnet50_conv4_block5_2_conv_Conv2D(StatefulPartitionedCall_resnet50_conv4_block5_1_relu_Relu_0)\n",
      "    StatefulPartitionedCall_resnet50_conv4_block5_2_relu_Relu_0 = F.relu(StatefulPartitionedCall_resnet50_conv4_block5_2_bn_FusedBatchNormV3_0)\n",
      "    StatefulPartitionedCall_resnet50_conv4_block5_3_bn_FusedBatchNormV3_0 = self.n_StatefulPartitionedCall_resnet50_conv4_block5_3_conv_Conv2D(StatefulPartitionedCall_resnet50_conv4_block5_2_relu_Relu_0)\n",
      "    StatefulPartitionedCall_resnet50_conv4_block5_add_add_0 = torch.add(StatefulPartitionedCall_resnet50_conv4_block4_out_Relu_0, StatefulPartitionedCall_resnet50_conv4_block5_3_bn_FusedBatchNormV3_0)\n",
      "    StatefulPartitionedCall_resnet50_conv4_block5_out_Relu_0 = F.relu(StatefulPartitionedCall_resnet50_conv4_block5_add_add_0)\n",
      "    StatefulPartitionedCall_resnet50_conv4_block6_1_bn_FusedBatchNormV3_0 = self.n_StatefulPartitionedCall_resnet50_conv4_block6_1_conv_Conv2D(StatefulPartitionedCall_resnet50_conv4_block5_out_Relu_0)\n",
      "    StatefulPartitionedCall_resnet50_conv4_block6_1_relu_Relu_0 = F.relu(StatefulPartitionedCall_resnet50_conv4_block6_1_bn_FusedBatchNormV3_0)\n",
      "    StatefulPartitionedCall_resnet50_conv4_block6_2_bn_FusedBatchNormV3_0 = self.n_StatefulPartitionedCall_resnet50_conv4_block6_2_conv_Conv2D(StatefulPartitionedCall_resnet50_conv4_block6_1_relu_Relu_0)\n",
      "    StatefulPartitionedCall_resnet50_conv4_block6_2_relu_Relu_0 = F.relu(StatefulPartitionedCall_resnet50_conv4_block6_2_bn_FusedBatchNormV3_0)\n",
      "    StatefulPartitionedCall_resnet50_conv4_block6_3_bn_FusedBatchNormV3_0 = self.n_StatefulPartitionedCall_resnet50_conv4_block6_3_conv_Conv2D(StatefulPartitionedCall_resnet50_conv4_block6_2_relu_Relu_0)\n",
      "    StatefulPartitionedCall_resnet50_conv4_block6_add_add_0 = torch.add(StatefulPartitionedCall_resnet50_conv4_block5_out_Relu_0, StatefulPartitionedCall_resnet50_conv4_block6_3_bn_FusedBatchNormV3_0)\n",
      "    StatefulPartitionedCall_resnet50_conv4_block6_out_Relu_0 = F.relu(StatefulPartitionedCall_resnet50_conv4_block6_add_add_0)\n",
      "    StatefulPartitionedCall_resnet50_conv5_block1_1_bn_FusedBatchNormV3_0 = self.n_StatefulPartitionedCall_resnet50_conv5_block1_1_conv_Conv2D(StatefulPartitionedCall_resnet50_conv4_block6_out_Relu_0)\n",
      "    StatefulPartitionedCall_resnet50_conv5_block1_1_relu_Relu_0 = F.relu(StatefulPartitionedCall_resnet50_conv5_block1_1_bn_FusedBatchNormV3_0)\n",
      "    StatefulPartitionedCall_resnet50_conv5_block1_2_bn_FusedBatchNormV3_0 = self.n_StatefulPartitionedCall_resnet50_conv5_block1_2_conv_Conv2D(StatefulPartitionedCall_resnet50_conv5_block1_1_relu_Relu_0)\n",
      "    StatefulPartitionedCall_resnet50_conv5_block1_2_relu_Relu_0 = F.relu(StatefulPartitionedCall_resnet50_conv5_block1_2_bn_FusedBatchNormV3_0)\n",
      "    StatefulPartitionedCall_resnet50_conv5_block1_3_bn_FusedBatchNormV3_0 = self.n_StatefulPartitionedCall_resnet50_conv5_block1_3_conv_Conv2D(StatefulPartitionedCall_resnet50_conv5_block1_2_relu_Relu_0)\n",
      "    StatefulPartitionedCall_resnet50_conv5_block1_0_bn_FusedBatchNormV3_0 = self.n_StatefulPartitionedCall_resnet50_conv5_block1_0_conv_Conv2D(StatefulPartitionedCall_resnet50_conv4_block6_out_Relu_0)\n",
      "    StatefulPartitionedCall_resnet50_conv5_block1_add_add_0 = torch.add(StatefulPartitionedCall_resnet50_conv5_block1_0_bn_FusedBatchNormV3_0, StatefulPartitionedCall_resnet50_conv5_block1_3_bn_FusedBatchNormV3_0)\n",
      "    StatefulPartitionedCall_resnet50_conv5_block1_out_Relu_0 = F.relu(StatefulPartitionedCall_resnet50_conv5_block1_add_add_0)\n",
      "    StatefulPartitionedCall_resnet50_conv5_block2_1_bn_FusedBatchNormV3_0 = self.n_StatefulPartitionedCall_resnet50_conv5_block2_1_conv_Conv2D(StatefulPartitionedCall_resnet50_conv5_block1_out_Relu_0)\n",
      "    StatefulPartitionedCall_resnet50_conv5_block2_1_relu_Relu_0 = F.relu(StatefulPartitionedCall_resnet50_conv5_block2_1_bn_FusedBatchNormV3_0)\n",
      "    StatefulPartitionedCall_resnet50_conv5_block2_2_bn_FusedBatchNormV3_0 = self.n_StatefulPartitionedCall_resnet50_conv5_block2_2_conv_Conv2D(StatefulPartitionedCall_resnet50_conv5_block2_1_relu_Relu_0)\n",
      "    StatefulPartitionedCall_resnet50_conv5_block2_2_relu_Relu_0 = F.relu(StatefulPartitionedCall_resnet50_conv5_block2_2_bn_FusedBatchNormV3_0)\n",
      "    StatefulPartitionedCall_resnet50_conv5_block2_3_bn_FusedBatchNormV3_0 = self.n_StatefulPartitionedCall_resnet50_conv5_block2_3_conv_Conv2D(StatefulPartitionedCall_resnet50_conv5_block2_2_relu_Relu_0)\n",
      "    StatefulPartitionedCall_resnet50_conv5_block2_add_add_0 = torch.add(StatefulPartitionedCall_resnet50_conv5_block1_out_Relu_0, StatefulPartitionedCall_resnet50_conv5_block2_3_bn_FusedBatchNormV3_0)\n",
      "    StatefulPartitionedCall_resnet50_conv5_block2_out_Relu_0 = F.relu(StatefulPartitionedCall_resnet50_conv5_block2_add_add_0)\n",
      "    StatefulPartitionedCall_resnet50_conv5_block3_1_bn_FusedBatchNormV3_0 = self.n_StatefulPartitionedCall_resnet50_conv5_block3_1_conv_Conv2D(StatefulPartitionedCall_resnet50_conv5_block2_out_Relu_0)\n",
      "    StatefulPartitionedCall_resnet50_conv5_block3_1_relu_Relu_0 = F.relu(StatefulPartitionedCall_resnet50_conv5_block3_1_bn_FusedBatchNormV3_0)\n",
      "    StatefulPartitionedCall_resnet50_conv5_block3_2_bn_FusedBatchNormV3_0 = self.n_StatefulPartitionedCall_resnet50_conv5_block3_2_conv_Conv2D(StatefulPartitionedCall_resnet50_conv5_block3_1_relu_Relu_0)\n",
      "    StatefulPartitionedCall_resnet50_conv5_block3_2_relu_Relu_0 = F.relu(StatefulPartitionedCall_resnet50_conv5_block3_2_bn_FusedBatchNormV3_0)\n",
      "    StatefulPartitionedCall_resnet50_conv5_block3_3_bn_FusedBatchNormV3_0 = self.n_StatefulPartitionedCall_resnet50_conv5_block3_3_conv_Conv2D(StatefulPartitionedCall_resnet50_conv5_block3_2_relu_Relu_0)\n",
      "    StatefulPartitionedCall_resnet50_conv5_block3_add_add_0 = torch.add(StatefulPartitionedCall_resnet50_conv5_block2_out_Relu_0, StatefulPartitionedCall_resnet50_conv5_block3_3_bn_FusedBatchNormV3_0)\n",
      "    StatefulPartitionedCall_resnet50_conv5_block3_out_Relu_0 = F.relu(StatefulPartitionedCall_resnet50_conv5_block3_add_add_0)\n",
      "    StatefulPartitionedCall_resnet50_avg_pool_Mean_0 = F.avg_pool2d(StatefulPartitionedCall_resnet50_conv5_block3_out_Relu_0, **{'kernel_size': StatefulPartitionedCall_resnet50_conv5_block3_out_Relu_0.shape[-2:]})\n",
      "    StatefulPartitionedCall_resnet50_avg_pool_Mean_Squeeze__612_0 = torch.squeeze(StatefulPartitionedCall_resnet50_avg_pool_Mean_0, 3)\n",
      "    StatefulPartitionedCall_resnet50_avg_pool_Mean_Squeeze__612_0 = torch.squeeze(StatefulPartitionedCall_resnet50_avg_pool_Mean_Squeeze__612_0, 2)\n",
      "    StatefulPartitionedCall_resnet50_predictions_MatMul_0 = torch.matmul(StatefulPartitionedCall_resnet50_avg_pool_Mean_Squeeze__612_0, self._vars[\"StatefulPartitionedCall_resnet50_predictions_MatMul_ReadVariableOp_0\"])\n",
      "    StatefulPartitionedCall_resnet50_predictions_BiasAdd_0 = torch.add(StatefulPartitionedCall_resnet50_predictions_MatMul_0, self._vars[\"StatefulPartitionedCall_resnet50_predictions_BiasAdd_ReadVariableOp_0\"])\n",
      "    predictions = F.softmax(StatefulPartitionedCall_resnet50_predictions_BiasAdd_0, **{'dim': 1})\n",
      "    return predictions\n",
      "\n",
      "  def compatible_auto_pad(self, input, kernel_spatial_shape, nn_mod, auto_pad=None, **kwargs):\n",
      "    input_spatial_shape = input.shape[2:]\n",
      "    d = len(input_spatial_shape)\n",
      "    strides = nn_mod.stride\n",
      "    dilations = nn_mod.dilation\n",
      "    output_spatial_shape = [math.ceil(float(l) / float(r)) for l, r in zip(input.shape[2:], strides)]\n",
      "    pt_padding = [0] * 2 * d\n",
      "    pad_shape = [0] * d\n",
      "    for i in range(d):\n",
      "      pad_shape[i] = (output_spatial_shape[i] - 1) * strides[i] + ((kernel_spatial_shape[i] - 1) * dilations[i] + 1) - input_spatial_shape[i]\n",
      "      mean = pad_shape[i] // 2\n",
      "      if auto_pad == b\"SAME_UPPER\":\n",
      "        l, r = pad_shape[i] - mean, mean\n",
      "      else:\n",
      "        l, r = mean, pad_shape[i] - mean\n",
      "      pt_padding.insert(0, r)\n",
      "      pt_padding.insert(0, l)\n",
      "    return F.pad(input, pt_padding)\n",
      "\n",
      "@torch.no_grad()\n",
      "def test_run_model(inputs=[torch.from_numpy(np.random.randn(*[1, 224, 224, 3]).astype(np.float32))]):\n",
      "  model = Model()\n",
      "  model.eval()\n",
      "  rs = model(*inputs)\n",
      "  print(rs)\n",
      "  return rs\n",
      "\n"
     ]
    },
    {
     "name": "stdout",
     "output_type": "stream",
     "text": [
      "WARNING:tensorflow:Compiled the loaded model, but the compiled metrics have yet to be built. `model.compile_metrics` will be empty until you train or evaluate the model.\n"
     ]
    },
    {
     "name": "stderr",
     "output_type": "stream",
     "text": [
      "WARNING:tensorflow:Compiled the loaded model, but the compiled metrics have yet to be built. `model.compile_metrics` will be empty until you train or evaluate the model.\n"
     ]
    },
    {
     "name": "stdout",
     "output_type": "stream",
     "text": [
      "INFO:tensorflow:Assets written to: ram://81d07e7b-18e1-4aa4-9dda-77cf3d2f398d/assets\n"
     ]
    },
    {
     "name": "stderr",
     "output_type": "stream",
     "text": [
      "INFO:tensorflow:Assets written to: ram://81d07e7b-18e1-4aa4-9dda-77cf3d2f398d/assets\n",
      "/data/yylaiai/anaconda3/envs/fyp_v3/lib/python3.9/site-packages/keras/engine/functional.py:1410: CustomMaskWarning: Custom mask layers require a config and must override get_config. When loading, the custom mask layer must be passed to the custom_objects argument.\n",
      "  layer_config = serialize_layer_fn(layer)\n",
      "/data/yylaiai/anaconda3/envs/fyp_v3/lib/python3.9/site-packages/keras/saving/saved_model/layer_serialization.py:112: CustomMaskWarning: Custom mask layers require a config and must override get_config. When loading, the custom mask layer must be passed to the custom_objects argument.\n",
      "  return generic_utils.serialize_keras_object(obj)\n"
     ]
    },
    {
     "name": "stdout",
     "output_type": "stream",
     "text": [
      "Running at iteration 1:\n"
     ]
    },
    {
     "name": "stderr",
     "output_type": "stream",
     "text": [
      "WARNING:tensorflow:No training configuration found in save file, so the model was *not* compiled. Compile it manually.\n"
     ]
    },
    {
     "name": "stdout",
     "output_type": "stream",
     "text": [
      "\n",
      "top 10 fitness scores:  [2.40248486e-09 2.51303041e-09 2.84139129e-09 2.53278073e-09\n",
      " 3.16571708e-09 2.51996593e-09 2.87763481e-09 2.67588575e-09\n",
      " 2.57852227e-09 2.93954944e-09]\n",
      "Taken time: 33.87112045288086\n",
      "\n",
      "Running at iteration 2:\n"
     ]
    },
    {
     "name": "stderr",
     "output_type": "stream",
     "text": [
      "WARNING:tensorflow:No training configuration found in save file, so the model was *not* compiled. Compile it manually.\n"
     ]
    },
    {
     "name": "stdout",
     "output_type": "stream",
     "text": [
      "\n",
      "top 10 fitness scores:  [2.06274504e-09 2.09627907e-09 2.37411381e-09 2.25704035e-09\n",
      " 2.67588575e-09 3.16571708e-09 2.87763481e-09 2.84139129e-09\n",
      " 2.83377886e-09 2.93954944e-09]\n",
      "Taken time: 33.19645357131958\n",
      "\n",
      "Running at iteration 3:\n"
     ]
    },
    {
     "name": "stderr",
     "output_type": "stream",
     "text": [
      "WARNING:tensorflow:No training configuration found in save file, so the model was *not* compiled. Compile it manually.\n"
     ]
    },
    {
     "name": "stdout",
     "output_type": "stream",
     "text": [
      "\n",
      "top 10 fitness scores:  [2.01947789e-09 2.09578221e-09 2.12825351e-09 2.19049516e-09\n",
      " 2.67715899e-09 2.83377886e-09 2.93954944e-09 2.87763481e-09\n",
      " 3.16571708e-09 2.84139129e-09]\n",
      "Taken time: 34.1937894821167\n",
      "\n",
      "Running at iteration 4:\n"
     ]
    },
    {
     "name": "stderr",
     "output_type": "stream",
     "text": [
      "WARNING:tensorflow:No training configuration found in save file, so the model was *not* compiled. Compile it manually.\n"
     ]
    },
    {
     "name": "stdout",
     "output_type": "stream",
     "text": [
      "\n",
      "top 10 fitness scores:  [2.01273125e-09 2.04854932e-09 2.15290822e-09 2.66849804e-09\n",
      " 2.84139129e-09 2.60770557e-09 3.16571708e-09 2.93954944e-09\n",
      " 2.87763481e-09 2.83377886e-09]\n",
      "Taken time: 32.507858991622925\n",
      "\n",
      "Running at iteration 5:\n"
     ]
    },
    {
     "name": "stderr",
     "output_type": "stream",
     "text": [
      "WARNING:tensorflow:No training configuration found in save file, so the model was *not* compiled. Compile it manually.\n"
     ]
    },
    {
     "name": "stdout",
     "output_type": "stream",
     "text": [
      "\n",
      "top 10 fitness scores:  [1.95889046e-09 2.00480230e-09 2.03576590e-09 2.04489531e-09\n",
      " 2.83377886e-09 2.93954944e-09 2.87763481e-09 2.84139129e-09\n",
      " 3.16571708e-09 2.90324079e-09]\n",
      "Taken time: 33.163514614105225\n",
      "\n",
      "Running at iteration 6:\n"
     ]
    },
    {
     "name": "stderr",
     "output_type": "stream",
     "text": [
      "WARNING:tensorflow:No training configuration found in save file, so the model was *not* compiled. Compile it manually.\n"
     ]
    },
    {
     "name": "stdout",
     "output_type": "stream",
     "text": [
      "\n",
      "top 10 fitness scores:  [2.28088230e-09 2.34803475e-09 2.52414719e-09 2.53937613e-09\n",
      " 2.61139222e-09 2.93954944e-09 3.16571708e-09 2.87763481e-09\n",
      " 2.90324079e-09 2.84139129e-09]\n",
      "Taken time: 33.01684379577637\n",
      "\n",
      "Running at iteration 7:\n"
     ]
    },
    {
     "name": "stderr",
     "output_type": "stream",
     "text": [
      "WARNING:tensorflow:No training configuration found in save file, so the model was *not* compiled. Compile it manually.\n"
     ]
    },
    {
     "name": "stdout",
     "output_type": "stream",
     "text": [
      "\n",
      "top 10 fitness scores:  [2.09246902e-09 2.19019917e-09 2.21773296e-09 2.75492926e-09\n",
      " 2.87763481e-09 2.93954944e-09 2.62272717e-09 2.90324079e-09\n",
      " 3.16571708e-09 2.84139129e-09]\n",
      "Taken time: 31.44431757926941\n",
      "\n",
      "Running at iteration 8:\n"
     ]
    },
    {
     "name": "stderr",
     "output_type": "stream",
     "text": [
      "WARNING:tensorflow:No training configuration found in save file, so the model was *not* compiled. Compile it manually.\n"
     ]
    },
    {
     "name": "stdout",
     "output_type": "stream",
     "text": [
      "\n",
      "top 10 fitness scores:  [2.36188964e-09 2.46458202e-09 2.53032927e-09 2.83047426e-09\n",
      " 2.87763481e-09 2.93954944e-09 2.60469338e-09 3.16571708e-09\n",
      " 2.90324079e-09 2.84139129e-09]\n",
      "Taken time: 32.0178337097168\n",
      "\n",
      "Running at iteration 9:\n"
     ]
    },
    {
     "name": "stderr",
     "output_type": "stream",
     "text": [
      "WARNING:tensorflow:No training configuration found in save file, so the model was *not* compiled. Compile it manually.\n"
     ]
    },
    {
     "name": "stdout",
     "output_type": "stream",
     "text": [
      "\n",
      "top 10 fitness scores:  [1.86260159e-09 1.88667495e-09 1.96422510e-09 2.09204178e-09\n",
      " 2.20732521e-09 2.84139129e-09 2.93954944e-09 2.87763481e-09\n",
      " 2.90324079e-09 3.16571708e-09]\n",
      "Taken time: 32.90532994270325\n",
      "\n",
      "Running at iteration 10:\n"
     ]
    },
    {
     "name": "stderr",
     "output_type": "stream",
     "text": [
      "WARNING:tensorflow:No training configuration found in save file, so the model was *not* compiled. Compile it manually.\n"
     ]
    },
    {
     "name": "stdout",
     "output_type": "stream",
     "text": [
      "\n",
      "top 10 fitness scores:  [2.41084666e-09 2.63022246e-09 2.70271662e-09 2.76448723e-09\n",
      " 2.93954944e-09 3.54693366e-09 3.16571708e-09 2.90324079e-09\n",
      " 2.87763481e-09 2.84139129e-09]\n",
      "Taken time: 31.950796842575073\n",
      "\n",
      "Total taken time: 328.2791919708252\n"
     ]
    },
    {
     "data": {
      "text/plain": [
       "[<matplotlib.lines.Line2D at 0x7f4921733940>]"
      ]
     },
     "execution_count": 22,
     "metadata": {},
     "output_type": "execute_result"
    },
    {
     "data": {
      "image/png": "[encoded data removed]",
      "text/plain": [
       "<Figure size 432x288 with 1 Axes>"
      ]
     },
     "metadata": {
      "needs_background": "light"
     },
     "output_type": "display_data"
    }
   ],
   "source": [
    "r = redis.Redis(db=1)\n",
    "r.flushdb()\n",
    "ga = GA(fit, model, dataset, input_shape, init_input_mut, init_weight_mut, r1, r2, m, n, db_flag)\n",
    "x, theta = ga.initPopulation()\n",
    "ga.prepareFitness()\n",
    "\n",
    "F, fits = ga_main(ga, r2, m, n, k, layer_idx, 10)\n",
    "plt.plot(fit_grad(fits))"
   ]
  },
  {
   "cell_type": "markdown",
   "metadata": {},
   "source": [
    "### Preliminary findings"
   ]
  },
  {
   "cell_type": "code",
   "execution_count": 23,
   "metadata": {},
   "outputs": [],
   "source": [
    "# From existing data, get the dataset with the highest fitness value\n",
    "# * Consider not to use initialization mutation \n",
    "def get_highest_fitness_data(ga, x):\n",
    "    max_fit = 0\n",
    "    for i in range(0, len(x), 100):\n",
    "        ga.mutated_inputs = x[i:i+100]\n",
    "        ga.update_inputs()\n",
    "        ga.computeFitness(-1)\n",
    "        top5_fit = ga.getTopK_Fit(5)[1]\n",
    "        if np.sum(top5_fit)/5 > max_fit:\n",
    "            max_fit = np.sum(top5_fit)/5\n",
    "            \n",
    "        print(max_fit)\n",
    "\n",
    "    return max_fit, i"
   ]
  },
  {
   "cell_type": "code",
   "execution_count": 24,
   "metadata": {
    "scrolled": true
   },
   "outputs": [
    {
     "name": "stderr",
     "output_type": "stream",
     "text": [
      "WARNING:tensorflow:No training configuration found in save file, so the model was *not* compiled. Compile it manually.\n"
     ]
    },
    {
     "name": "stdout",
     "output_type": "stream",
     "text": [
      "9.827077549405775e-09\n"
     ]
    },
    {
     "data": {
      "text/plain": [
       "(9.827077549405775e-09, 0)"
      ]
     },
     "execution_count": 24,
     "metadata": {},
     "output_type": "execute_result"
    }
   ],
   "source": [
    "# Highest fitness dataset\n",
    "get_highest_fitness_data(ga, x_test_224[200:300])"
   ]
  },
  {
   "cell_type": "code",
   "execution_count": 26,
   "metadata": {
    "scrolled": true
   },
   "outputs": [
    {
     "name": "stdout",
     "output_type": "stream",
     "text": [
      "Highest possible fitness score: 0.002\n"
     ]
    }
   ],
   "source": [
    "# Based on the model, find the highest possible inconsistency fitness score\n",
    "p1 = pickle.loads(r.hget('predictions', 'torch'))\n",
    "p2 = pickle.loads(r.hget('predictions', 'tensorflow'))\n",
    "\n",
    "predictions_diff = np.abs(p1 - p2)\n",
    "highest_possible_fit = 2 / len(predictions_diff[0])\n",
    "print(\"Highest possible fitness score: {}\".format(highest_possible_fit))"
   ]
  },
  {
   "cell_type": "markdown",
   "metadata": {},
   "source": [
    "### Debugging"
   ]
  },
  {
   "cell_type": "code",
   "execution_count": 9,
   "metadata": {},
   "outputs": [],
   "source": [
    "r = redis.Redis(db=1)"
   ]
  },
  {
   "cell_type": "code",
   "execution_count": 101,
   "metadata": {},
   "outputs": [],
   "source": [
    "p1 = pickle.loads(r.hget('predictions', 'torch'))\n",
    "p2 = pickle.loads(r.hget('predictions', 'tensorflow'))"
   ]
  },
  {
   "cell_type": "code",
   "execution_count": 102,
   "metadata": {},
   "outputs": [
    {
     "name": "stdout",
     "output_type": "stream",
     "text": [
      "WARNING:tensorflow:No training configuration found in save file, so the model was *not* compiled. Compile it manually.\n"
     ]
    },
    {
     "name": "stderr",
     "output_type": "stream",
     "text": [
      "WARNING:tensorflow:No training configuration found in save file, so the model was *not* compiled. Compile it manually.\n"
     ]
    }
   ],
   "source": [
    "mtf = pickle.loads(r.get('model_tensorflow'))\n",
    "mtorch = pickle.loads(r.get('model_torch'))"
   ]
  },
  {
   "cell_type": "code",
   "execution_count": 12,
   "metadata": {},
   "outputs": [],
   "source": [
    "l1 = np.argmax(mtf.predict(x_test_224[:1000]), 1)"
   ]
  },
  {
   "cell_type": "code",
   "execution_count": 11,
   "metadata": {},
   "outputs": [],
   "source": [
    "l2 = np.argmax(mtorch(torch.from_numpy(x_test_224[:1000].astype(np.float32))).detach().numpy(), 1)"
   ]
  },
  {
   "cell_type": "code",
   "execution_count": 13,
   "metadata": {
    "scrolled": true
   },
   "outputs": [
    {
     "data": {
      "text/plain": [
       "True"
      ]
     },
     "execution_count": 13,
     "metadata": {},
     "output_type": "execute_result"
    }
   ],
   "source": [
    "np.allclose(l1, l2)"
   ]
  },
  {
   "cell_type": "markdown",
   "metadata": {},
   "source": [
    "### Check if there is any inconsistency in the original dataset"
   ]
  },
  {
   "cell_type": "code",
   "execution_count": 13,
   "metadata": {
    "scrolled": false
   },
   "outputs": [
    {
     "name": "stderr",
     "output_type": "stream",
     "text": [
      "2022-01-11 16:41:09.681916: E tensorflow/stream_executor/cuda/cuda_driver.cc:271] failed call to cuInit: CUDA_ERROR_UNKNOWN: unknown error\n",
      "2022-01-11 16:41:09.681992: I tensorflow/stream_executor/cuda/cuda_diagnostics.cc:169] retrieving CUDA diagnostic information for host: ugcpu5\n",
      "2022-01-11 16:41:09.682005: I tensorflow/stream_executor/cuda/cuda_diagnostics.cc:176] hostname: ugcpu5\n",
      "2022-01-11 16:41:09.682142: I tensorflow/stream_executor/cuda/cuda_diagnostics.cc:200] libcuda reported version is: 495.29.5\n",
      "2022-01-11 16:41:09.682195: I tensorflow/stream_executor/cuda/cuda_diagnostics.cc:204] kernel reported version is: 495.29.5\n",
      "2022-01-11 16:41:09.682207: I tensorflow/stream_executor/cuda/cuda_diagnostics.cc:310] kernel version seems to match DSO: 495.29.5\n",
      "2022-01-11 16:41:09.682773: I tensorflow/core/platform/cpu_feature_guard.cc:151] This TensorFlow binary is optimized with oneAPI Deep Neural Network Library (oneDNN) to use the following CPU instructions in performance-critical operations:  AVX2 AVX512F FMA\n",
      "To enable them in other operations, rebuild TensorFlow with the appropriate compiler flags.\n",
      "WARNING:tensorflow:No training configuration found in save file, so the model was *not* compiled. Compile it manually.\n"
     ]
    }
   ],
   "source": [
    "# predict x_1 using tensorflow framework\n",
    "r.mset({\"inputs\": pickle.dumps(x_test_224[:100])})\n",
    "os.system(get_prediction_cmd(\"tensorflow\", db_flag, layer_idx))\n",
    "predictions_tf = pickle.loads(r.hget(\"predictions\", \"tensorflow\"))\n",
    "\n",
    "# predict x_2 using theano framework\n",
    "r.mset({\"inputs\": pickle.dumps(x_test_224[:100])})\n",
    "os.system(get_prediction_cmd(\"torch\", db_flag, layer_idx))\n",
    "predictions_th = pickle.loads(r.hget(\"predictions\", \"torch\"))"
   ]
  },
  {
   "cell_type": "code",
   "execution_count": 14,
   "metadata": {
    "scrolled": false
   },
   "outputs": [
    {
     "data": {
      "text/plain": [
       "array([], dtype=int64)"
      ]
     },
     "execution_count": 14,
     "metadata": {},
     "output_type": "execute_result"
    }
   ],
   "source": [
    "inc_idx = np.where(np.argmax(predictions_th, 1)!=np.argmax(predictions_tf, 1))\n",
    "inc_idx[0]"
   ]
  }
 ],
 "metadata": {
  "interpreter": {
   "hash": "fdb5c6f5eaa2a17ed3afdcccdfa066a85023e220ece0c7237533a765dc216f79"
  },
  "kernelspec": {
   "display_name": "fyp_v3",
   "language": "python",
   "name": "fyp_v3"
  },
  "language_info": {
   "codemirror_mode": {
    "name": "ipython",
    "version": 3
   },
   "file_extension": ".py",
   "mimetype": "text/x-python",
   "name": "python",
   "nbconvert_exporter": "python",
   "pygments_lexer": "ipython3",
   "version": "3.9.7"
  }
 },
 "nbformat": 4,
 "nbformat_minor": 2
}
