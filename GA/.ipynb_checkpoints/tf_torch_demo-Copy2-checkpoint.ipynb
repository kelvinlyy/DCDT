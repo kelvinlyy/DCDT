{
 "cells": [
  {
   "cell_type": "code",
   "execution_count": 1,
   "metadata": {
    "scrolled": false
   },
   "outputs": [],
   "source": [
    "import numpy as np\n",
    "import random\n",
    "import os\n",
    "from multiprocessing import Process\n",
    "import redis\n",
    "import pickle\n",
    "import dill\n",
    "import subprocess\n",
    "import keras\n",
    "import time\n",
    "import cv2\n",
    "import matplotlib.pyplot as plt\n",
    "from onnx_pytorch import code_gen\n",
    "import torch\n",
    "import onnx\n",
    "\n",
    "# os.environ['CUDA_VISIBLE_DEVICES']='0'\n",
    "import tensorflow as tf"
   ]
  },
  {
   "cell_type": "code",
   "execution_count": 2,
   "metadata": {
    "scrolled": false
   },
   "outputs": [
    {
     "name": "stderr",
     "output_type": "stream",
     "text": [
      "/data/yylaiai/anaconda3/envs/fyp_v3/lib/python3.9/site-packages/torch/cuda/__init__.py:80: UserWarning: CUDA initialization: CUDA unknown error - this may be due to an incorrectly set up environment, e.g. changing env variable CUDA_VISIBLE_DEVICES after program start. Setting the available devices to be zero. (Triggered internally at  ../c10/cuda/CUDAFunctions.cpp:112.)\n",
      "  return torch._C._cuda_getDeviceCount() > 0\n"
     ]
    },
    {
     "data": {
      "text/plain": [
       "False"
      ]
     },
     "execution_count": 2,
     "metadata": {},
     "output_type": "execute_result"
    }
   ],
   "source": [
    "torch.cuda.is_available()"
   ]
  },
  {
   "cell_type": "code",
   "execution_count": 3,
   "metadata": {
    "scrolled": false
   },
   "outputs": [
    {
     "name": "stderr",
     "output_type": "stream",
     "text": [
      "2022-01-12 10:26:50.002202: E tensorflow/stream_executor/cuda/cuda_driver.cc:271] failed call to cuInit: CUDA_ERROR_UNKNOWN: unknown error\n",
      "2022-01-12 10:26:50.002368: I tensorflow/stream_executor/cuda/cuda_diagnostics.cc:169] retrieving CUDA diagnostic information for host: ugcpu5\n",
      "2022-01-12 10:26:50.002407: I tensorflow/stream_executor/cuda/cuda_diagnostics.cc:176] hostname: ugcpu5\n",
      "2022-01-12 10:26:50.002761: I tensorflow/stream_executor/cuda/cuda_diagnostics.cc:200] libcuda reported version is: 495.29.5\n",
      "2022-01-12 10:26:50.002926: I tensorflow/stream_executor/cuda/cuda_diagnostics.cc:204] kernel reported version is: 495.29.5\n",
      "2022-01-12 10:26:50.002956: I tensorflow/stream_executor/cuda/cuda_diagnostics.cc:310] kernel version seems to match DSO: 495.29.5\n"
     ]
    },
    {
     "data": {
      "text/plain": [
       "[]"
      ]
     },
     "execution_count": 3,
     "metadata": {},
     "output_type": "execute_result"
    }
   ],
   "source": [
    "tf.config.list_physical_devices('GPU')"
   ]
  },
  {
   "cell_type": "code",
   "execution_count": 4,
   "metadata": {
    "scrolled": false
   },
   "outputs": [
    {
     "name": "stderr",
     "output_type": "stream",
     "text": [
      "2022-01-12 10:27:10.103420: I tensorflow/core/platform/cpu_feature_guard.cc:151] This TensorFlow binary is optimized with oneAPI Deep Neural Network Library (oneDNN) to use the following CPU instructions in performance-critical operations:  AVX2 AVX512F FMA\n",
      "To enable them in other operations, rebuild TensorFlow with the appropriate compiler flags.\n"
     ]
    }
   ],
   "source": [
    "model = tf.keras.applications.resnet50.ResNet50()"
   ]
  },
  {
   "cell_type": "code",
   "execution_count": 5,
   "metadata": {
    "scrolled": false
   },
   "outputs": [
    {
     "name": "stdout",
     "output_type": "stream",
     "text": [
      "(10000, 32, 32, 3)\n",
      "(10000, 224, 224, 3)\n"
     ]
    }
   ],
   "source": [
    "# load datasets\n",
    "(x_train, y_train), (x_test, y_test) = tf.keras.datasets.cifar10.load_data()\n",
    "print(x_test.shape)\n",
    "\n",
    "# expand cifar10 images from 32x32 to 224x224\n",
    "x_test_224 = np.array([cv2.resize(i, (224, 224)) for i in x_test])\n",
    "print(x_test_224.shape)"
   ]
  },
  {
   "cell_type": "code",
   "execution_count": 6,
   "metadata": {
    "scrolled": false
   },
   "outputs": [],
   "source": [
    "class GA:\n",
    "    '''\n",
    "    arguments e.g.:\n",
    "    fit: [\"inc\", [\"tensorflow\", \"theano\"]]\n",
    "    model: model\n",
    "    dataset: x_test\n",
    "    input_shape: x_test[0].shape\n",
    "    init_input_mut: 0.1\n",
    "    init_weight_mut: 0\n",
    "    r1: 0.5\n",
    "    r2: 0.1\n",
    "    m: 5\n",
    "    n: 1000\n",
    "    db_flag: 0\n",
    "    '''\n",
    "    def __init__(self, fit, model, dataset, input_shape, init_input_mut, init_weight_mut, r1, r2, m, n, db_flag):\n",
    "        self.fit_func, self.phi = fit # a tuple: (fitness function, list of DL framework(s) to be used)\n",
    "        self.model = tf.keras.models.clone_model(model)\n",
    "        self.dataset = np.copy(dataset)\n",
    "        \n",
    "        self.input_shape = input_shape\n",
    "        self.init_input_mut = init_input_mut\n",
    "        self.init_weight_mut = init_weight_mut\n",
    "        self.r1 = r1\n",
    "        self.r2 = r2\n",
    "        self.m = m\n",
    "        self.n = n\n",
    "        self.db_flag = db_flag\n",
    "        self.redis_server = redis.Redis(db=db_flag)\n",
    "        if not self.redis_server.ping():\n",
    "            raise Exception(\"Redis server not set up\")\n",
    "        \n",
    "    def initPopulation(self):\n",
    "        # randomly choose n inputs from the dataset if n < len(dataset)\n",
    "        if len(self.dataset) > self.n:\n",
    "            selected_x = self.dataset[np.random.choice(len(self.dataset), size=self.n, replace=False)]\n",
    "        else:\n",
    "            selected_x = self.dataset\n",
    "            \n",
    "        # get model weights\n",
    "        original_weights = np.array(self.model.get_weights(), dtype=object)\n",
    "            \n",
    "        # initialize object variables\n",
    "        self.mutated_inputs = selected_x\n",
    "        self.mutated_weights = original_weights\n",
    "\n",
    "        # input level\n",
    "        if self.init_input_mut != 0 and self.init_input_mut != None:\n",
    "            self.mutated_inputs = (np.clip((selected_x/255 + np.random.standard_cauchy(selected_x.shape) * self.init_input_mut),0,1) * 255).astype(int)\n",
    "            \n",
    "        # weight level\n",
    "        # set the model weights of the GA object to the mutated weights\n",
    "        if self.init_weight_mut != 0 and self.init_weight_mut != None:\n",
    "            self.mutated_weights = []\n",
    "            for layer_weight in original_weights:\n",
    "                self.mutated_weights.append(layer_weight + np.random.standard_cauchy(layer_weight.shape) * self.init_weight_mut)\n",
    "            self.model.set_weights(self.mutated_weights)\n",
    "                \n",
    "        return [self.mutated_inputs, self.mutated_weights]\n",
    "\n",
    "    def prepareFitness(self):\n",
    "        if self.fit_func == \"inc\":\n",
    "            self.FFunc = InconsistencyFFunc(self.redis_server, self.db_flag, self.phi, self.model, self.mutated_inputs)\n",
    "        elif self.fit_func == \"nan\":\n",
    "            backend = \"torch\"\n",
    "            self.FFunc = NanFFunc(self.redis_server, self.db_flag, self.phi, self.model, self.mutated_inputs)\n",
    "        self.FFunc.prepare()\n",
    "\n",
    "    def computeFitness(self, layer_idx):\n",
    "        self.fitness_values = np.squeeze(self.FFunc.compute(layer_idx))\n",
    "        return self.fitness_values\n",
    "        \n",
    "    def getTopK_Fit(self, k):\n",
    "        topK_idx = np.argpartition(self.fitness_values, -k)[-k:]\n",
    "        return [self.mutated_inputs[topK_idx], self.fitness_values[topK_idx]]\n",
    "        \n",
    "    # select m candidates for parents of next-generation inputs\n",
    "    def select(self):\n",
    "        selected_index = np.argpartition(self.fitness_values, -self.m)[-self.m:]\n",
    "        self.selected_x = self.mutated_inputs[selected_index]\n",
    "        return self.selected_x\n",
    "    \n",
    "    # select 2 parents from the candidates\n",
    "    def selectParents(self):\n",
    "        self.x1, self.x2 = random.sample(list(self.selected_x), 2)\n",
    "        return self.x1, self.x2\n",
    "    \n",
    "    # return a flatten list of a crossover product of the selected parents\n",
    "    def crossover(self):\n",
    "        x1_flatten = self.x1.flatten()\n",
    "        x2_flatten = self.x2.flatten()\n",
    "\n",
    "        x1_factor = np.random.choice(2, size=x1_flatten.shape, p=[1-self.r1, self.r1])\n",
    "        x2_factor = 1 - x1_factor\n",
    "        \n",
    "        self.x_prime = x1_flatten * x1_factor + x2_flatten * x2_factor\n",
    "\n",
    "        return self.x_prime\n",
    "    \n",
    "    # mutate the crossover product and reshape it as the shape of the input instance\n",
    "    def mutate(self):\n",
    "        self.x_2prime=(np.clip((self.x_prime/255 + np.random.standard_cauchy(self.x_prime.shape) * self.r2),0,1) * 255).astype(int)\n",
    "        self.x_2prime = self.x_2prime.reshape(self.input_shape)\n",
    "        return self.x_2prime\n",
    "    \n",
    "    def update_inputs(self):\n",
    "        self.redis_server.mset({\"inputs\": pickle.dumps(self.mutated_inputs)})\n",
    "    \n",
    "    # check if the new DNN model can predict the mutated inputs without triggering error\n",
    "    def checkFailed(self):\n",
    "        try:\n",
    "            if self.fit_func == \"inc\":\n",
    "                print()\n",
    "                return []\n",
    "\n",
    "            elif self.fit_func == \"nan\":\n",
    "                predictions = self.model.predict(self.mutated_inputs)\n",
    "                if np.isnan(predictions).any(): # if there is any nan in the predictions\n",
    "                    return self.mutated_inputs\n",
    "                \n",
    "                return []\n",
    "        except Exception as e:\n",
    "            return [e]\n",
    "\n",
    "            "
   ]
  },
  {
   "cell_type": "code",
   "execution_count": 7,
   "metadata": {
    "scrolled": false
   },
   "outputs": [],
   "source": [
    "def get_prediction_process(model_framework, db_flag, layer_idx):\n",
    "#     cmd = f\"/data/yylaiai/anaconda3/envs/fyp_v3/bin/python get_prediction_{model_framework}.py {db_flag} {layer_idx}\"\n",
    "    cmd = f\"python get_prediction_{model_framework}.py {db_flag} {layer_idx}\"\n",
    "\n",
    "    return Process(target=lambda: os.system(cmd))\n",
    "\n",
    "def get_prediction_cmd(model_framework, db_flag, layer_idx):\n",
    "#     cmd = f\"/data/yylaiai/anaconda3/envs/fyp_v3/bin/python get_prediction_{model_framework}.py {db_flag} {layer_idx}\"\n",
    "    cmd = f\"python get_prediction_{model_framework}.py {db_flag} {layer_idx}\"\n",
    "\n",
    "    return cmd\n",
    "\n",
    "def export_model(model_framework, model, model_name, dummy_input, onnx_path):\n",
    "    if model_framework == \"tensorflow\":\n",
    "        model.save(model_name)\n",
    "        model_path = model_name\n",
    "        os.system(f\"python -m tf2onnx.convert --saved-model {model_path} --output {onnx_path}\")\n",
    "        \n",
    "    elif model_framework == \"torch\":\n",
    "        torch.onnx.export(model, dummy_input.to('cuda'), onnx_path)\n",
    "        \n",
    "    else:\n",
    "        raise Exception(f\"Model export from {model_framework} is not yet implemented\")\n",
    "        \n",
    "def import_onnx(target_framework, onnx_path):\n",
    "    if target_framework == 'torch':\n",
    "        output_dir = 'torch_model'\n",
    "        if not os.path.isdir(output_dir):\n",
    "            os.mkdir(output_dir)\n",
    "        code_gen.gen(onnx_path, './')\n",
    "    \n",
    "    else:\n",
    "        raise Exception(f\"ONNX model import to {model_framework} is not yet implemented\")\n",
    "        \n",
    "        return None\n",
    "\n",
    "def load_model(model_framework, model_path):\n",
    "    if model_framework == \"torch\":\n",
    "        from model import Model\n",
    "        \n",
    "        model = Model()\n",
    "        model.eval()\n",
    "       \n",
    "    return model\n",
    "\n",
    "class InconsistencyFFunc:\n",
    "    def __init__(self, redis_server, db_flag, backends, model, inputs):\n",
    "        self.redis_server = redis_server\n",
    "        self.db_flag = db_flag\n",
    "        self.backend_1, self.backend_2 = backends\n",
    "        self.model_1 = model\n",
    "        self.inputs = inputs\n",
    "        \n",
    "        self.model_1_name = 'model' + self.backend_1\n",
    "        self.onnx_path = self.model_1_name + '.onnx'\n",
    "\n",
    "    def prepare(self):\n",
    "        # export model to onnx\n",
    "        export_model(self.backend_1, self.model_1, self.model_1_name, self.inputs, self.onnx_path)\n",
    "\n",
    "        # import onnx model to second DL framework\n",
    "        self.model_2_path = import_onnx(self.backend_2, self.onnx_path)\n",
    "        self.model_2 = load_model(self.backend_2, self.model_2_path)\n",
    "        \n",
    "        # store model and inputs\n",
    "        if self.backend_1 == \"torch\":\n",
    "            with self.redis_server.pipeline() as pipe:\n",
    "                pipe.mset({f'model_{self.backend_1}': pickle.dumps(self.model_1.to('cpu'))})\n",
    "                pipe.mset({f'model_{self.backend_2}': pickle.dumps(self.model_2)})\n",
    "                pipe.mset({\"inputs\": pickle.dumps(self.inputs.cpu().numpy())}) # convert tensor to numpy before saving to redis\n",
    "                pipe.execute()\n",
    "        else:\n",
    "            with self.redis_server.pipeline() as pipe:\n",
    "                pipe.mset({f'model_{self.backend_1}': pickle.dumps(self.model_1)})\n",
    "                pipe.mset({f'model_{self.backend_2}': pickle.dumps(self.model_2)})\n",
    "                pipe.mset({\"inputs\": pickle.dumps(self.inputs)})\n",
    "                pipe.execute()\n",
    "    \n",
    "    def compute(self, layer_idx):\n",
    "        # run subprocess to get predictions\n",
    "        p1 = get_prediction_process(self.backend_1, self.db_flag, layer_idx)\n",
    "        p2 = get_prediction_process(self.backend_2, self.db_flag, layer_idx)\n",
    "        p1.start()\n",
    "        p2.start()\n",
    "        p1.join()\n",
    "        p2.join()\n",
    "        \n",
    "        # load predictions\n",
    "        with self.redis_server.pipeline() as pipe:\n",
    "            pipe.hget(\"predictions\", self.backend_1)\n",
    "            pipe.hget(\"predictions\", self.backend_2)\n",
    "            predictions = pipe.execute()\n",
    "        \n",
    "        self.predictions_1 = pickle.loads(predictions[0])\n",
    "        self.predictions_2 = pickle.loads(predictions[1])\n",
    "        \n",
    "        # compute fitness\n",
    "        predictions_diff = np.abs(self.predictions_2 - self.predictions_1)\n",
    "        self.fitness_values = np.sum(predictions_diff, axis=1) / len(predictions_diff[0])\n",
    "        \n",
    "        return self.fitness_values\n",
    "\n",
    "class NanFFunc:\n",
    "    def __init__(self, redis_server, db_flag, backend, model, inputs):\n",
    "        self.redis_server = redis_server\n",
    "        self.db_flag = db_flag\n",
    "        self.backend = backend[0]\n",
    "        self.model = model\n",
    "        self.inputs = inputs\n",
    "\n",
    "        self.model_name = 'model' + self.backend\n",
    "        self.onnx_path = self.model_name + '.onnx'\n",
    "\n",
    "    def prepare(self):\n",
    "        if self.backend == \"tensorflow\":\n",
    "            pass\n",
    "            \n",
    "        elif self.backend == \"torch\":\n",
    "            # export model to onnx\n",
    "            export_model(\"tensorflow\", self.model, self.model_name, self.inputs, self.onnx_path)\n",
    "\n",
    "            # import onnx model to second DL framework\n",
    "            self.model_path = import_onnx(self.backend, self.onnx_path)\n",
    "            self.model = load_model(self.backend, self.model_path)\n",
    "            \n",
    "        else:\n",
    "            raise Exception(f\"ONNX model import to {model_framework} is not yet implemented\")\n",
    "\n",
    "            \n",
    "        # store model and inputs\n",
    "        with self.redis_server.pipeline() as pipe:\n",
    "            pipe.mset({f\"model_{self.backend}\": pickle.dumps(self.model)})\n",
    "            pipe.mset({\"inputs\": pickle.dumps(self.inputs)})\n",
    "            pipe.execute()\n",
    "    \n",
    "    def compute(self, layer_idx):\n",
    "        os.system(get_prediction_cmd(self.backend, self.db_flag, layer_idx))\n",
    "\n",
    "        # load predictions\n",
    "        self.predictions = pickle.loads(self.redis_server.hget(\"predictions\", self.backend))\n",
    "\n",
    "        # normalize neurons\n",
    "        normalized_outputs = self.predictions#/(np.amax(self.predictions) - np.amin(self.predictions))\n",
    "        \n",
    "        # compute fitness\n",
    "        self.fitness_values = np.amax(normalized_outputs, axis=1) - np.amin(normalized_outputs, axis=1)\n",
    "        \n",
    "        return self.fitness_values"
   ]
  },
  {
   "cell_type": "code",
   "execution_count": 8,
   "metadata": {
    "scrolled": false
   },
   "outputs": [],
   "source": [
    "def ga_main(ga, r2, m, n, layer_idx, maxIter):\n",
    "    F = []\n",
    "    fits = []\n",
    "    start_time = time.time()\n",
    "    for i in range(maxIter):\n",
    "        print(\"Running at iteration {}:\".format(i+1))\n",
    "        iter_start_time = time.time()\n",
    "        Fit = ga.computeFitness(layer_idx)\n",
    "        top_k_fitness = ga.getTopK_Fit(m)\n",
    "        fits.append(top_k_fitness)\n",
    "        P_prime = ga.select()\n",
    "        test_cases = []\n",
    "        test_cases.extend(P_prime)\n",
    "        while len(test_cases) < ga.n:\n",
    "            x1, x2 = ga.selectParents()\n",
    "            x_prime = ga.crossover()\n",
    "            r = random.uniform(0,1)\n",
    "            if r < ga.r2:\n",
    "                x_2prime = ga.mutate()\n",
    "                test_cases.append(x_2prime)\n",
    "\n",
    "        ga.mutated_inputs = np.array(test_cases)\n",
    "        ga.update_inputs()\n",
    "        X = ga.checkFailed()\n",
    "        if X != []:\n",
    "            F.extend(X)\n",
    "        iter_end_time = time.time()\n",
    "        \n",
    "        print(\"top {} fitness scores: \".format(m), top_k_fitness[1])\n",
    "        print(\"Taken time: {}\".format(iter_end_time-iter_start_time))\n",
    "        print()\n",
    "    \n",
    "    end_time = time.time()\n",
    "    print(\"Total taken time: {}\".format(end_time-start_time))\n",
    "\n",
    "    return F, fits"
   ]
  },
  {
   "cell_type": "code",
   "execution_count": 9,
   "metadata": {
    "scrolled": false
   },
   "outputs": [],
   "source": [
    "fit_grad = lambda L: [np.mean(i[1]) for i in L]"
   ]
  },
  {
   "cell_type": "code",
   "execution_count": 10,
   "metadata": {
    "scrolled": false
   },
   "outputs": [
    {
     "data": {
      "text/plain": [
       "<Popen: returncode: None args: ['/data/yylaiai/redis/redis-stable/src/redis-...>"
      ]
     },
     "execution_count": 10,
     "metadata": {},
     "output_type": "execute_result"
    },
    {
     "name": "stdout",
     "output_type": "stream",
     "text": [
      "7051:C 12 Jan 2022 10:27:16.572 # oO0OoO0OoO0Oo Redis is starting oO0OoO0OoO0Oo\n",
      "7051:C 12 Jan 2022 10:27:16.572 # Redis version=6.2.6, bits=64, commit=00000000, modified=0, pid=7051, just started\n",
      "7051:C 12 Jan 2022 10:27:16.572 # Warning: no config file specified, using the default config. In order to specify a config file use /data/yylaiai/redis/redis-stable/src/redis-server /path/to/redis.conf\n",
      "7051:M 12 Jan 2022 10:27:16.573 # You requested maxclients of 10000 requiring at least 10032 max file descriptors.\n",
      "7051:M 12 Jan 2022 10:27:16.573 # Server can't set maximum open files to 10032 because of OS error: Operation not permitted.\n",
      "7051:M 12 Jan 2022 10:27:16.573 # Current maximum open files is 4096. maxclients has been reduced to 4064 to compensate for low ulimit. If you need higher maxclients increase 'ulimit -n'.\n",
      "7051:M 12 Jan 2022 10:27:16.573 * monotonic clock: POSIX clock_gettime\n",
      "7051:M 12 Jan 2022 10:27:16.573 # Warning: Could not create server TCP listening socket *:6379: bind: Address already in use\n",
      "7051:M 12 Jan 2022 10:27:16.573 # Failed listening on port 6379 (TCP), aborting.\n"
     ]
    }
   ],
   "source": [
    "redis_server_path = '/data/yylaiai/redis/redis-stable/src/redis-server'\n",
    "subprocess.Popen([redis_server_path])"
   ]
  },
  {
   "cell_type": "markdown",
   "metadata": {},
   "source": [
    "### Testing for Nan fitness function for tensorflow"
   ]
  },
  {
   "cell_type": "code",
   "execution_count": 11,
   "metadata": {
    "scrolled": false
   },
   "outputs": [],
   "source": [
    "# parameters\n",
    "fit = [\"nan\", [\"tensorflow\"]]\n",
    "model = model\n",
    "dataset = x_test_224\n",
    "input_shape = x_test_224[0].shape\n",
    "init_input_mut = 0.1\n",
    "init_weight_mut = 0\n",
    "r1 = 0.5\n",
    "r2 = 0.1\n",
    "m = 5\n",
    "n = 100\n",
    "maxIter = 10\n",
    "db_flag = 1\n",
    "layer_idx = -1"
   ]
  },
  {
   "cell_type": "code",
   "execution_count": 12,
   "metadata": {
    "scrolled": false
   },
   "outputs": [
    {
     "data": {
      "text/plain": [
       "True"
      ]
     },
     "execution_count": 12,
     "metadata": {},
     "output_type": "execute_result"
    }
   ],
   "source": [
    "r = redis.Redis(db=db_flag)\n",
    "r.flushdb()"
   ]
  },
  {
   "cell_type": "code",
   "execution_count": 13,
   "metadata": {
    "scrolled": true
   },
   "outputs": [
    {
     "name": "stdout",
     "output_type": "stream",
     "text": [
      "WARNING:tensorflow:Compiled the loaded model, but the compiled metrics have yet to be built. `model.compile_metrics` will be empty until you train or evaluate the model.\n"
     ]
    },
    {
     "name": "stderr",
     "output_type": "stream",
     "text": [
      "2022-01-11 19:09:12.818597: W tensorflow/python/util/util.cc:368] Sets are not currently considered sequences, but this may change in the future, so consider avoiding using them.\n"
     ]
    },
    {
     "name": "stdout",
     "output_type": "stream",
     "text": [
      "INFO:tensorflow:Assets written to: ram://f13688a9-de16-4e9f-a98d-f7c1f8c94784/assets\n"
     ]
    },
    {
     "name": "stderr",
     "output_type": "stream",
     "text": [
      "/data/yylaiai/anaconda3/envs/fyp_v3/lib/python3.9/site-packages/keras/engine/functional.py:1410: CustomMaskWarning: Custom mask layers require a config and must override get_config. When loading, the custom mask layer must be passed to the custom_objects argument.\n",
      "  layer_config = serialize_layer_fn(layer)\n",
      "/data/yylaiai/anaconda3/envs/fyp_v3/lib/python3.9/site-packages/keras/saving/saved_model/layer_serialization.py:112: CustomMaskWarning: Custom mask layers require a config and must override get_config. When loading, the custom mask layer must be passed to the custom_objects argument.\n",
      "  return generic_utils.serialize_keras_object(obj)\n"
     ]
    },
    {
     "name": "stdout",
     "output_type": "stream",
     "text": [
      "Running at iteration 1:\n"
     ]
    },
    {
     "name": "stderr",
     "output_type": "stream",
     "text": [
      "2022-01-11 19:09:32.936963: E tensorflow/stream_executor/cuda/cuda_driver.cc:271] failed call to cuInit: CUDA_ERROR_UNKNOWN: unknown error\n",
      "2022-01-11 19:09:32.937072: I tensorflow/stream_executor/cuda/cuda_diagnostics.cc:169] retrieving CUDA diagnostic information for host: ugcpu5\n",
      "2022-01-11 19:09:32.937096: I tensorflow/stream_executor/cuda/cuda_diagnostics.cc:176] hostname: ugcpu5\n",
      "2022-01-11 19:09:32.937254: I tensorflow/stream_executor/cuda/cuda_diagnostics.cc:200] libcuda reported version is: 495.29.5\n",
      "2022-01-11 19:09:32.937312: I tensorflow/stream_executor/cuda/cuda_diagnostics.cc:204] kernel reported version is: 495.29.5\n",
      "2022-01-11 19:09:32.937327: I tensorflow/stream_executor/cuda/cuda_diagnostics.cc:310] kernel version seems to match DSO: 495.29.5\n",
      "2022-01-11 19:09:32.938132: I tensorflow/core/platform/cpu_feature_guard.cc:151] This TensorFlow binary is optimized with oneAPI Deep Neural Network Library (oneDNN) to use the following CPU instructions in performance-critical operations:  AVX2 AVX512F FMA\n",
      "To enable them in other operations, rebuild TensorFlow with the appropriate compiler flags.\n",
      "WARNING:tensorflow:No training configuration found in save file, so the model was *not* compiled. Compile it manually.\n"
     ]
    },
    {
     "name": "stdout",
     "output_type": "stream",
     "text": [
      "top 5 fitness scores:  [0.66011596 0.6917465  0.71444786 0.72509664 0.76713204]\n",
      "Taken time: 33.15767049789429\n",
      "\n",
      "Running at iteration 2:\n"
     ]
    },
    {
     "name": "stderr",
     "output_type": "stream",
     "text": [
      "2022-01-11 19:10:04.547660: E tensorflow/stream_executor/cuda/cuda_driver.cc:271] failed call to cuInit: CUDA_ERROR_UNKNOWN: unknown error\n",
      "2022-01-11 19:10:04.547744: I tensorflow/stream_executor/cuda/cuda_diagnostics.cc:169] retrieving CUDA diagnostic information for host: ugcpu5\n",
      "2022-01-11 19:10:04.547759: I tensorflow/stream_executor/cuda/cuda_diagnostics.cc:176] hostname: ugcpu5\n",
      "2022-01-11 19:10:04.547875: I tensorflow/stream_executor/cuda/cuda_diagnostics.cc:200] libcuda reported version is: 495.29.5\n",
      "2022-01-11 19:10:04.548279: I tensorflow/stream_executor/cuda/cuda_diagnostics.cc:204] kernel reported version is: 495.29.5\n",
      "2022-01-11 19:10:04.548296: I tensorflow/stream_executor/cuda/cuda_diagnostics.cc:310] kernel version seems to match DSO: 495.29.5\n",
      "2022-01-11 19:10:04.548746: I tensorflow/core/platform/cpu_feature_guard.cc:151] This TensorFlow binary is optimized with oneAPI Deep Neural Network Library (oneDNN) to use the following CPU instructions in performance-critical operations:  AVX2 AVX512F FMA\n",
      "To enable them in other operations, rebuild TensorFlow with the appropriate compiler flags.\n",
      "WARNING:tensorflow:No training configuration found in save file, so the model was *not* compiled. Compile it manually.\n"
     ]
    },
    {
     "name": "stdout",
     "output_type": "stream",
     "text": [
      "top 5 fitness scores:  [0.7331526  0.7356189  0.7381849  0.7460564  0.76713204]\n",
      "Taken time: 29.453121185302734\n",
      "\n",
      "Running at iteration 3:\n"
     ]
    },
    {
     "name": "stderr",
     "output_type": "stream",
     "text": [
      "2022-01-11 19:10:34.158148: E tensorflow/stream_executor/cuda/cuda_driver.cc:271] failed call to cuInit: CUDA_ERROR_UNKNOWN: unknown error\n",
      "2022-01-11 19:10:34.158219: I tensorflow/stream_executor/cuda/cuda_diagnostics.cc:169] retrieving CUDA diagnostic information for host: ugcpu5\n",
      "2022-01-11 19:10:34.158233: I tensorflow/stream_executor/cuda/cuda_diagnostics.cc:176] hostname: ugcpu5\n",
      "2022-01-11 19:10:34.158352: I tensorflow/stream_executor/cuda/cuda_diagnostics.cc:200] libcuda reported version is: 495.29.5\n",
      "2022-01-11 19:10:34.158407: I tensorflow/stream_executor/cuda/cuda_diagnostics.cc:204] kernel reported version is: 495.29.5\n",
      "2022-01-11 19:10:34.158421: I tensorflow/stream_executor/cuda/cuda_diagnostics.cc:310] kernel version seems to match DSO: 495.29.5\n",
      "2022-01-11 19:10:34.158853: I tensorflow/core/platform/cpu_feature_guard.cc:151] This TensorFlow binary is optimized with oneAPI Deep Neural Network Library (oneDNN) to use the following CPU instructions in performance-critical operations:  AVX2 AVX512F FMA\n",
      "To enable them in other operations, rebuild TensorFlow with the appropriate compiler flags.\n",
      "WARNING:tensorflow:No training configuration found in save file, so the model was *not* compiled. Compile it manually.\n"
     ]
    },
    {
     "name": "stdout",
     "output_type": "stream",
     "text": [
      "top 5 fitness scores:  [0.7381849  0.7457531  0.7460564  0.76713204 0.74995095]\n",
      "Taken time: 28.92738127708435\n",
      "\n",
      "Running at iteration 4:\n"
     ]
    },
    {
     "name": "stderr",
     "output_type": "stream",
     "text": [
      "2022-01-11 19:11:02.678398: E tensorflow/stream_executor/cuda/cuda_driver.cc:271] failed call to cuInit: CUDA_ERROR_UNKNOWN: unknown error\n",
      "2022-01-11 19:11:02.678458: I tensorflow/stream_executor/cuda/cuda_diagnostics.cc:169] retrieving CUDA diagnostic information for host: ugcpu5\n",
      "2022-01-11 19:11:02.678470: I tensorflow/stream_executor/cuda/cuda_diagnostics.cc:176] hostname: ugcpu5\n",
      "2022-01-11 19:11:02.678586: I tensorflow/stream_executor/cuda/cuda_diagnostics.cc:200] libcuda reported version is: 495.29.5\n",
      "2022-01-11 19:11:02.678632: I tensorflow/stream_executor/cuda/cuda_diagnostics.cc:204] kernel reported version is: 495.29.5\n",
      "2022-01-11 19:11:02.678644: I tensorflow/stream_executor/cuda/cuda_diagnostics.cc:310] kernel version seems to match DSO: 495.29.5\n",
      "2022-01-11 19:11:02.679341: I tensorflow/core/platform/cpu_feature_guard.cc:151] This TensorFlow binary is optimized with oneAPI Deep Neural Network Library (oneDNN) to use the following CPU instructions in performance-critical operations:  AVX2 AVX512F FMA\n",
      "To enable them in other operations, rebuild TensorFlow with the appropriate compiler flags.\n",
      "WARNING:tensorflow:No training configuration found in save file, so the model was *not* compiled. Compile it manually.\n"
     ]
    },
    {
     "name": "stdout",
     "output_type": "stream",
     "text": [
      "top 5 fitness scores:  [0.7505023  0.76713204 0.76266146 0.757574   0.75308156]\n",
      "Taken time: 29.19304609298706\n",
      "\n",
      "Running at iteration 5:\n"
     ]
    },
    {
     "name": "stderr",
     "output_type": "stream",
     "text": [
      "2022-01-11 19:11:31.941329: E tensorflow/stream_executor/cuda/cuda_driver.cc:271] failed call to cuInit: CUDA_ERROR_UNKNOWN: unknown error\n",
      "2022-01-11 19:11:31.941403: I tensorflow/stream_executor/cuda/cuda_diagnostics.cc:169] retrieving CUDA diagnostic information for host: ugcpu5\n",
      "2022-01-11 19:11:31.941416: I tensorflow/stream_executor/cuda/cuda_diagnostics.cc:176] hostname: ugcpu5\n",
      "2022-01-11 19:11:31.941551: I tensorflow/stream_executor/cuda/cuda_diagnostics.cc:200] libcuda reported version is: 495.29.5\n",
      "2022-01-11 19:11:31.941598: I tensorflow/stream_executor/cuda/cuda_diagnostics.cc:204] kernel reported version is: 495.29.5\n",
      "2022-01-11 19:11:31.941609: I tensorflow/stream_executor/cuda/cuda_diagnostics.cc:310] kernel version seems to match DSO: 495.29.5\n",
      "2022-01-11 19:11:31.942448: I tensorflow/core/platform/cpu_feature_guard.cc:151] This TensorFlow binary is optimized with oneAPI Deep Neural Network Library (oneDNN) to use the following CPU instructions in performance-critical operations:  AVX2 AVX512F FMA\n",
      "To enable them in other operations, rebuild TensorFlow with the appropriate compiler flags.\n",
      "WARNING:tensorflow:No training configuration found in save file, so the model was *not* compiled. Compile it manually.\n"
     ]
    },
    {
     "name": "stdout",
     "output_type": "stream",
     "text": [
      "top 5 fitness scores:  [0.75308156 0.76713204 0.757574   0.76266146 0.7603408 ]\n",
      "Taken time: 29.96876621246338\n",
      "\n",
      "Running at iteration 6:\n"
     ]
    },
    {
     "name": "stderr",
     "output_type": "stream",
     "text": [
      "2022-01-11 19:12:02.535410: E tensorflow/stream_executor/cuda/cuda_driver.cc:271] failed call to cuInit: CUDA_ERROR_UNKNOWN: unknown error\n",
      "2022-01-11 19:12:02.535472: I tensorflow/stream_executor/cuda/cuda_diagnostics.cc:169] retrieving CUDA diagnostic information for host: ugcpu5\n",
      "2022-01-11 19:12:02.535484: I tensorflow/stream_executor/cuda/cuda_diagnostics.cc:176] hostname: ugcpu5\n",
      "2022-01-11 19:12:02.535599: I tensorflow/stream_executor/cuda/cuda_diagnostics.cc:200] libcuda reported version is: 495.29.5\n",
      "2022-01-11 19:12:02.535645: I tensorflow/stream_executor/cuda/cuda_diagnostics.cc:204] kernel reported version is: 495.29.5\n",
      "2022-01-11 19:12:02.535656: I tensorflow/stream_executor/cuda/cuda_diagnostics.cc:310] kernel version seems to match DSO: 495.29.5\n",
      "2022-01-11 19:12:02.536092: I tensorflow/core/platform/cpu_feature_guard.cc:151] This TensorFlow binary is optimized with oneAPI Deep Neural Network Library (oneDNN) to use the following CPU instructions in performance-critical operations:  AVX2 AVX512F FMA\n",
      "To enable them in other operations, rebuild TensorFlow with the appropriate compiler flags.\n",
      "WARNING:tensorflow:No training configuration found in save file, so the model was *not* compiled. Compile it manually.\n"
     ]
    },
    {
     "name": "stdout",
     "output_type": "stream",
     "text": [
      "top 5 fitness scores:  [0.7603408  0.7605942  0.76266146 0.76713204 0.7712594 ]\n",
      "Taken time: 31.28139066696167\n",
      "\n",
      "Running at iteration 7:\n"
     ]
    },
    {
     "name": "stderr",
     "output_type": "stream",
     "text": [
      "2022-01-11 19:12:33.247562: E tensorflow/stream_executor/cuda/cuda_driver.cc:271] failed call to cuInit: CUDA_ERROR_UNKNOWN: unknown error\n",
      "2022-01-11 19:12:33.247634: I tensorflow/stream_executor/cuda/cuda_diagnostics.cc:169] retrieving CUDA diagnostic information for host: ugcpu5\n",
      "2022-01-11 19:12:33.247647: I tensorflow/stream_executor/cuda/cuda_diagnostics.cc:176] hostname: ugcpu5\n",
      "2022-01-11 19:12:33.247753: I tensorflow/stream_executor/cuda/cuda_diagnostics.cc:200] libcuda reported version is: 495.29.5\n",
      "2022-01-11 19:12:33.247801: I tensorflow/stream_executor/cuda/cuda_diagnostics.cc:204] kernel reported version is: 495.29.5\n",
      "2022-01-11 19:12:33.247813: I tensorflow/stream_executor/cuda/cuda_diagnostics.cc:310] kernel version seems to match DSO: 495.29.5\n",
      "2022-01-11 19:12:33.248231: I tensorflow/core/platform/cpu_feature_guard.cc:151] This TensorFlow binary is optimized with oneAPI Deep Neural Network Library (oneDNN) to use the following CPU instructions in performance-critical operations:  AVX2 AVX512F FMA\n",
      "To enable them in other operations, rebuild TensorFlow with the appropriate compiler flags.\n",
      "WARNING:tensorflow:No training configuration found in save file, so the model was *not* compiled. Compile it manually.\n"
     ]
    },
    {
     "name": "stdout",
     "output_type": "stream",
     "text": [
      "top 5 fitness scores:  [0.76266146 0.7650154  0.76713204 0.7712594  0.78854936]\n",
      "Taken time: 29.01266646385193\n",
      "\n",
      "Running at iteration 8:\n"
     ]
    },
    {
     "name": "stderr",
     "output_type": "stream",
     "text": [
      "2022-01-11 19:13:02.680169: E tensorflow/stream_executor/cuda/cuda_driver.cc:271] failed call to cuInit: CUDA_ERROR_UNKNOWN: unknown error\n",
      "2022-01-11 19:13:02.680232: I tensorflow/stream_executor/cuda/cuda_diagnostics.cc:169] retrieving CUDA diagnostic information for host: ugcpu5\n",
      "2022-01-11 19:13:02.680245: I tensorflow/stream_executor/cuda/cuda_diagnostics.cc:176] hostname: ugcpu5\n",
      "2022-01-11 19:13:02.680353: I tensorflow/stream_executor/cuda/cuda_diagnostics.cc:200] libcuda reported version is: 495.29.5\n",
      "2022-01-11 19:13:02.680399: I tensorflow/stream_executor/cuda/cuda_diagnostics.cc:204] kernel reported version is: 495.29.5\n",
      "2022-01-11 19:13:02.680411: I tensorflow/stream_executor/cuda/cuda_diagnostics.cc:310] kernel version seems to match DSO: 495.29.5\n",
      "2022-01-11 19:13:02.680818: I tensorflow/core/platform/cpu_feature_guard.cc:151] This TensorFlow binary is optimized with oneAPI Deep Neural Network Library (oneDNN) to use the following CPU instructions in performance-critical operations:  AVX2 AVX512F FMA\n",
      "To enable them in other operations, rebuild TensorFlow with the appropriate compiler flags.\n",
      "WARNING:tensorflow:No training configuration found in save file, so the model was *not* compiled. Compile it manually.\n"
     ]
    },
    {
     "name": "stdout",
     "output_type": "stream",
     "text": [
      "top 5 fitness scores:  [0.7712594 0.7719037 0.775988  0.7811393 0.7885503]\n",
      "Taken time: 29.769709587097168\n",
      "\n",
      "Running at iteration 9:\n"
     ]
    },
    {
     "name": "stderr",
     "output_type": "stream",
     "text": [
      "2022-01-11 19:13:31.805795: E tensorflow/stream_executor/cuda/cuda_driver.cc:271] failed call to cuInit: CUDA_ERROR_UNKNOWN: unknown error\n",
      "2022-01-11 19:13:31.805860: I tensorflow/stream_executor/cuda/cuda_diagnostics.cc:169] retrieving CUDA diagnostic information for host: ugcpu5\n",
      "2022-01-11 19:13:31.805872: I tensorflow/stream_executor/cuda/cuda_diagnostics.cc:176] hostname: ugcpu5\n",
      "2022-01-11 19:13:31.805993: I tensorflow/stream_executor/cuda/cuda_diagnostics.cc:200] libcuda reported version is: 495.29.5\n",
      "2022-01-11 19:13:31.806042: I tensorflow/stream_executor/cuda/cuda_diagnostics.cc:204] kernel reported version is: 495.29.5\n",
      "2022-01-11 19:13:31.806055: I tensorflow/stream_executor/cuda/cuda_diagnostics.cc:310] kernel version seems to match DSO: 495.29.5\n",
      "2022-01-11 19:13:31.806431: I tensorflow/core/platform/cpu_feature_guard.cc:151] This TensorFlow binary is optimized with oneAPI Deep Neural Network Library (oneDNN) to use the following CPU instructions in performance-critical operations:  AVX2 AVX512F FMA\n",
      "To enable them in other operations, rebuild TensorFlow with the appropriate compiler flags.\n",
      "WARNING:tensorflow:No training configuration found in save file, so the model was *not* compiled. Compile it manually.\n"
     ]
    },
    {
     "name": "stdout",
     "output_type": "stream",
     "text": [
      "top 5 fitness scores:  [0.775988   0.77621305 0.77718335 0.7811393  0.7885503 ]\n",
      "Taken time: 30.275390148162842\n",
      "\n",
      "Running at iteration 10:\n"
     ]
    },
    {
     "name": "stderr",
     "output_type": "stream",
     "text": [
      "2022-01-11 19:14:02.217624: E tensorflow/stream_executor/cuda/cuda_driver.cc:271] failed call to cuInit: CUDA_ERROR_UNKNOWN: unknown error\n",
      "2022-01-11 19:14:02.217704: I tensorflow/stream_executor/cuda/cuda_diagnostics.cc:169] retrieving CUDA diagnostic information for host: ugcpu5\n",
      "2022-01-11 19:14:02.217750: I tensorflow/stream_executor/cuda/cuda_diagnostics.cc:176] hostname: ugcpu5\n",
      "2022-01-11 19:14:02.217920: I tensorflow/stream_executor/cuda/cuda_diagnostics.cc:200] libcuda reported version is: 495.29.5\n",
      "2022-01-11 19:14:02.218000: I tensorflow/stream_executor/cuda/cuda_diagnostics.cc:204] kernel reported version is: 495.29.5\n",
      "2022-01-11 19:14:02.218019: I tensorflow/stream_executor/cuda/cuda_diagnostics.cc:310] kernel version seems to match DSO: 495.29.5\n",
      "2022-01-11 19:14:02.218523: I tensorflow/core/platform/cpu_feature_guard.cc:151] This TensorFlow binary is optimized with oneAPI Deep Neural Network Library (oneDNN) to use the following CPU instructions in performance-critical operations:  AVX2 AVX512F FMA\n",
      "To enable them in other operations, rebuild TensorFlow with the appropriate compiler flags.\n",
      "WARNING:tensorflow:No training configuration found in save file, so the model was *not* compiled. Compile it manually.\n"
     ]
    },
    {
     "name": "stdout",
     "output_type": "stream",
     "text": [
      "top 5 fitness scores:  [0.77621305 0.7887935  0.7811393  0.77718335 0.7885503 ]\n",
      "Taken time: 28.784838438034058\n",
      "\n",
      "Total taken time: 299.8360276222229\n",
      "F: []\n"
     ]
    },
    {
     "data": {
      "image/png": "[encoded data removed]",
      "text/plain": [
       "<Figure size 432x288 with 1 Axes>"
      ]
     },
     "metadata": {
      "needs_background": "light"
     },
     "output_type": "display_data"
    }
   ],
   "source": [
    "ga = GA(fit, model, dataset, input_shape, init_input_mut, init_weight_mut, r1, r2, m, n, db_flag)\n",
    "x, theta = ga.initPopulation()\n",
    "ga.prepareFitness()\n",
    "\n",
    "F, fits = ga_main(ga, r2, m, n, layer_idx, 10)\n",
    "\n",
    "plt.plot(fit_grad(fits))\n",
    "print(\"F: {}\".format(F))"
   ]
  },
  {
   "cell_type": "markdown",
   "metadata": {},
   "source": [
    "### Testing for Nan fitness function for pytorch"
   ]
  },
  {
   "cell_type": "code",
   "execution_count": 9,
   "metadata": {
    "scrolled": false
   },
   "outputs": [
    {
     "data": {
      "text/plain": [
       "True"
      ]
     },
     "execution_count": 9,
     "metadata": {},
     "output_type": "execute_result"
    }
   ],
   "source": [
    "# parameters\n",
    "fit = [\"nan\", [\"torch\"]]\n",
    "model = model\n",
    "dataset = x_test_224\n",
    "input_shape = x_test_224[0].shape\n",
    "init_input_mut = 0.1\n",
    "init_weight_mut = 0\n",
    "r1 = 0.5\n",
    "r2 = 0.1\n",
    "m = 5\n",
    "n = 100\n",
    "maxIter = 10\n",
    "db_flag = 1\n",
    "layer_idx = -1\n",
    "\n",
    "r = redis.Redis(db=db_flag)\n",
    "r.flushdb()"
   ]
  },
  {
   "cell_type": "code",
   "execution_count": 15,
   "metadata": {
    "scrolled": true
   },
   "outputs": [
    {
     "name": "stdout",
     "output_type": "stream",
     "text": [
      "WARNING:tensorflow:Compiled the loaded model, but the compiled metrics have yet to be built. `model.compile_metrics` will be empty until you train or evaluate the model.\n",
      "INFO:tensorflow:Assets written to: modeltorch/assets\n"
     ]
    },
    {
     "name": "stderr",
     "output_type": "stream",
     "text": [
      "/data/yylaiai/anaconda3/envs/fyp_v3/lib/python3.9/site-packages/keras/engine/functional.py:1410: CustomMaskWarning: Custom mask layers require a config and must override get_config. When loading, the custom mask layer must be passed to the custom_objects argument.\n",
      "  layer_config = serialize_layer_fn(layer)\n",
      "/data/yylaiai/anaconda3/envs/fyp_v3/lib/python3.9/site-packages/keras/saving/saved_model/layer_serialization.py:112: CustomMaskWarning: Custom mask layers require a config and must override get_config. When loading, the custom mask layer must be passed to the custom_objects argument.\n",
      "  return generic_utils.serialize_keras_object(obj)\n",
      "/data/yylaiai/anaconda3/envs/fyp_v1/lib/python3.9/runpy.py:127: RuntimeWarning: 'tf2onnx.convert' found in sys.modules after import of package 'tf2onnx', but prior to execution of 'tf2onnx.convert'; this may result in unpredictable behaviour\n",
      "  warn(RuntimeWarning(msg))\n",
      "2022-01-11 19:16:01,102 - WARNING - '--tag' not specified for saved_model. Using --tag serve\n",
      "2022-01-11 19:16:08,754 - INFO - Signatures found in model: [serving_default].\n",
      "2022-01-11 19:16:08,754 - WARNING - '--signature_def' not specified, using first signature: serving_default\n",
      "2022-01-11 19:16:08,757 - INFO - Output names: ['predictions']\n",
      "WARNING:tensorflow:From /data/yylaiai/anaconda3/envs/fyp_v1/lib/python3.9/site-packages/tf2onnx/tf_loader.py:706: extract_sub_graph (from tensorflow.python.framework.graph_util_impl) is deprecated and will be removed in a future version.\n",
      "Instructions for updating:\n",
      "Use `tf.compat.v1.graph_util.extract_sub_graph`\n",
      "2022-01-11 19:16:12,703 - WARNING - From /data/yylaiai/anaconda3/envs/fyp_v1/lib/python3.9/site-packages/tf2onnx/tf_loader.py:706: extract_sub_graph (from tensorflow.python.framework.graph_util_impl) is deprecated and will be removed in a future version.\n",
      "Instructions for updating:\n",
      "Use `tf.compat.v1.graph_util.extract_sub_graph`\n",
      "2022-01-11 19:16:14,309 - INFO - Using tensorflow=2.7.0, onnx=1.10.2, tf2onnx=1.9.3/1190aa\n",
      "2022-01-11 19:16:14,309 - INFO - Using opset <onnx, 9>\n",
      "2022-01-11 19:16:20,661 - INFO - Computed 0 values for constant folding\n",
      "2022-01-11 19:16:25,186 - INFO - Optimizing ONNX model\n",
      "2022-01-11 19:16:26,954 - INFO - After optimization: BatchNormalization -53 (53->0), Const -208 (268->60), GlobalAveragePool +1 (0->1), Identity -59 (59->0), ReduceMean -1 (1->0), Squeeze +1 (0->1), Transpose -213 (214->1)\n",
      "2022-01-11 19:16:27,791 - INFO - \n",
      "2022-01-11 19:16:27,791 - INFO - Successfully converted TensorFlow model modeltorch to ONNX\n",
      "2022-01-11 19:16:27,791 - INFO - Model inputs: ['input_1']\n",
      "2022-01-11 19:16:27,792 - INFO - Model outputs: ['predictions']\n",
      "2022-01-11 19:16:27,792 - INFO - ONNX model is saved at modeltorch.onnx\n",
      "WARNING:root:Cannot get default value for perm of Transpose.\n",
      "WARNING:root:Cannot get default value for dilations of Conv.\n",
      "WARNING:root:Cannot get default value for kernel_shape of Conv.\n",
      "WARNING:root:Cannot get default value for pads of Conv.\n",
      "WARNING:root:Cannot get default value for strides of Conv.\n",
      "WARNING:root:Cannot get default value for dilations of MaxPool.\n",
      "WARNING:root:Cannot get default value for kernel_shape of MaxPool.\n",
      "WARNING:root:Cannot get default value for pads of MaxPool.\n",
      "WARNING:root:Cannot get default value for strides of MaxPool.\n"
     ]
    },
    {
     "name": "stdout",
     "output_type": "stream",
     "text": [
      "# Autogenerated by onnx-pytorch.\n",
      "\n",
      "import glob\n",
      "import os\n",
      "import math\n",
      "\n",
      "import numpy as np\n",
      "import torch\n",
      "import torch.nn as nn\n",
      "import torch.nn.functional as F\n",
      "import torchvision\n",
      "\n",
      "\n",
      "class Model(nn.Module):\n",
      "  def __init__(self):\n",
      "    super(Model, self).__init__()\n",
      "    self._vars = nn.ParameterDict()\n",
      "    self._regularizer_params = []\n",
      "    for b in glob.glob(\n",
      "        os.path.join(os.path.dirname(__file__), \"variables\", \"*.npy\")):\n",
      "      v = torch.from_numpy(np.load(b))\n",
      "      requires_grad = v.dtype.is_floating_point or v.dtype.is_complex\n",
      "      self._vars[os.path.basename(b)[:-4]] = nn.Parameter(v, requires_grad=requires_grad)\n",
      "    self.n_StatefulPartitionedCall_resnet50_conv1_conv_Conv2D = nn.Conv2d(**{'groups': 1, 'dilation': [1, 1], 'out_channels': 64, 'padding': [3, 3], 'kernel_size': (7, 7), 'stride': [2, 2], 'in_channels': 3, 'bias': True})\n",
      "    self.n_StatefulPartitionedCall_resnet50_conv1_conv_Conv2D.weight.data = self._vars[\"StatefulPartitionedCall_resnet50_conv1_conv_Conv2D_weights_fused_bn\"]\n",
      "    self.n_StatefulPartitionedCall_resnet50_conv1_conv_Conv2D.bias.data = self._vars[\"StatefulPartitionedCall_resnet50_conv2_block1_1_conv_Conv2D_bias_fused_bn\"]\n",
      "    self.n_StatefulPartitionedCall_resnet50_pool1_pool_MaxPool = nn.MaxPool2d(**{'dilation': 1, 'kernel_size': [3, 3], 'ceil_mode': False, 'stride': [2, 2], 'return_indices': False})\n",
      "    self.n_StatefulPartitionedCall_resnet50_conv2_block1_1_conv_Conv2D = nn.Conv2d(**{'groups': 1, 'dilation': [1, 1], 'out_channels': 64, 'padding': 0, 'kernel_size': (1, 1), 'stride': [1, 1], 'in_channels': 64, 'bias': True})\n",
      "    self.n_StatefulPartitionedCall_resnet50_conv2_block1_1_conv_Conv2D.weight.data = self._vars[\"StatefulPartitionedCall_resnet50_conv2_block1_1_conv_Conv2D_weights_fused_bn\"]\n",
      "    self.n_StatefulPartitionedCall_resnet50_conv2_block1_1_conv_Conv2D.bias.data = self._vars[\"StatefulPartitionedCall_resnet50_conv2_block1_1_conv_Conv2D_bias_fused_bn\"]\n",
      "    self.n_StatefulPartitionedCall_resnet50_conv2_block1_2_conv_Conv2D = nn.Conv2d(**{'groups': 1, 'dilation': [1, 1], 'out_channels': 64, 'padding': [1, 1], 'kernel_size': (3, 3), 'stride': [1, 1], 'in_channels': 64, 'bias': True})\n",
      "    self.n_StatefulPartitionedCall_resnet50_conv2_block1_2_conv_Conv2D.weight.data = self._vars[\"StatefulPartitionedCall_resnet50_conv2_block1_2_conv_Conv2D_weights_fused_bn\"]\n",
      "    self.n_StatefulPartitionedCall_resnet50_conv2_block1_2_conv_Conv2D.bias.data = self._vars[\"StatefulPartitionedCall_resnet50_conv2_block1_1_conv_Conv2D_bias_fused_bn\"]\n",
      "    self.n_StatefulPartitionedCall_resnet50_conv2_block1_3_conv_Conv2D = nn.Conv2d(**{'groups': 1, 'dilation': [1, 1], 'out_channels': 256, 'padding': 0, 'kernel_size': (1, 1), 'stride': [1, 1], 'in_channels': 64, 'bias': True})\n",
      "    self.n_StatefulPartitionedCall_resnet50_conv2_block1_3_conv_Conv2D.weight.data = self._vars[\"StatefulPartitionedCall_resnet50_conv2_block1_3_conv_Conv2D_weights_fused_bn\"]\n",
      "    self.n_StatefulPartitionedCall_resnet50_conv2_block1_3_conv_Conv2D.bias.data = self._vars[\"StatefulPartitionedCall_resnet50_conv4_block2_1_conv_Conv2D_bias_fused_bn\"]\n",
      "    self.n_StatefulPartitionedCall_resnet50_conv2_block1_0_conv_Conv2D = nn.Conv2d(**{'groups': 1, 'dilation': [1, 1], 'out_channels': 256, 'padding': 0, 'kernel_size': (1, 1), 'stride': [1, 1], 'in_channels': 64, 'bias': True})\n",
      "    self.n_StatefulPartitionedCall_resnet50_conv2_block1_0_conv_Conv2D.weight.data = self._vars[\"StatefulPartitionedCall_resnet50_conv2_block1_0_conv_Conv2D_weights_fused_bn\"]\n",
      "    self.n_StatefulPartitionedCall_resnet50_conv2_block1_0_conv_Conv2D.bias.data = self._vars[\"StatefulPartitionedCall_resnet50_conv4_block2_1_conv_Conv2D_bias_fused_bn\"]\n",
      "    self.n_StatefulPartitionedCall_resnet50_conv2_block2_1_conv_Conv2D = nn.Conv2d(**{'groups': 1, 'dilation': [1, 1], 'out_channels': 64, 'padding': 0, 'kernel_size': (1, 1), 'stride': [1, 1], 'in_channels': 256, 'bias': True})\n",
      "    self.n_StatefulPartitionedCall_resnet50_conv2_block2_1_conv_Conv2D.weight.data = self._vars[\"StatefulPartitionedCall_resnet50_conv2_block2_1_conv_Conv2D_weights_fused_bn\"]\n",
      "    self.n_StatefulPartitionedCall_resnet50_conv2_block2_1_conv_Conv2D.bias.data = self._vars[\"StatefulPartitionedCall_resnet50_conv2_block1_1_conv_Conv2D_bias_fused_bn\"]\n",
      "    self.n_StatefulPartitionedCall_resnet50_conv2_block2_2_conv_Conv2D = nn.Conv2d(**{'groups': 1, 'dilation': [1, 1], 'out_channels': 64, 'padding': [1, 1], 'kernel_size': (3, 3), 'stride': [1, 1], 'in_channels': 64, 'bias': True})\n",
      "    self.n_StatefulPartitionedCall_resnet50_conv2_block2_2_conv_Conv2D.weight.data = self._vars[\"StatefulPartitionedCall_resnet50_conv2_block2_2_conv_Conv2D_weights_fused_bn\"]\n",
      "    self.n_StatefulPartitionedCall_resnet50_conv2_block2_2_conv_Conv2D.bias.data = self._vars[\"StatefulPartitionedCall_resnet50_conv2_block1_1_conv_Conv2D_bias_fused_bn\"]\n",
      "    self.n_StatefulPartitionedCall_resnet50_conv2_block2_3_conv_Conv2D = nn.Conv2d(**{'groups': 1, 'dilation': [1, 1], 'out_channels': 256, 'padding': 0, 'kernel_size': (1, 1), 'stride': [1, 1], 'in_channels': 64, 'bias': True})\n",
      "    self.n_StatefulPartitionedCall_resnet50_conv2_block2_3_conv_Conv2D.weight.data = self._vars[\"StatefulPartitionedCall_resnet50_conv2_block2_3_conv_Conv2D_weights_fused_bn\"]\n",
      "    self.n_StatefulPartitionedCall_resnet50_conv2_block2_3_conv_Conv2D.bias.data = self._vars[\"StatefulPartitionedCall_resnet50_conv4_block2_1_conv_Conv2D_bias_fused_bn\"]\n",
      "    self.n_StatefulPartitionedCall_resnet50_conv2_block3_1_conv_Conv2D = nn.Conv2d(**{'groups': 1, 'dilation': [1, 1], 'out_channels': 64, 'padding': 0, 'kernel_size': (1, 1), 'stride': [1, 1], 'in_channels': 256, 'bias': True})\n",
      "    self.n_StatefulPartitionedCall_resnet50_conv2_block3_1_conv_Conv2D.weight.data = self._vars[\"StatefulPartitionedCall_resnet50_conv2_block3_1_conv_Conv2D_weights_fused_bn\"]\n",
      "    self.n_StatefulPartitionedCall_resnet50_conv2_block3_1_conv_Conv2D.bias.data = self._vars[\"StatefulPartitionedCall_resnet50_conv2_block1_1_conv_Conv2D_bias_fused_bn\"]\n",
      "    self.n_StatefulPartitionedCall_resnet50_conv2_block3_2_conv_Conv2D = nn.Conv2d(**{'groups': 1, 'dilation': [1, 1], 'out_channels': 64, 'padding': [1, 1], 'kernel_size': (3, 3), 'stride': [1, 1], 'in_channels': 64, 'bias': True})\n",
      "    self.n_StatefulPartitionedCall_resnet50_conv2_block3_2_conv_Conv2D.weight.data = self._vars[\"StatefulPartitionedCall_resnet50_conv2_block3_2_conv_Conv2D_weights_fused_bn\"]\n",
      "    self.n_StatefulPartitionedCall_resnet50_conv2_block3_2_conv_Conv2D.bias.data = self._vars[\"StatefulPartitionedCall_resnet50_conv2_block1_1_conv_Conv2D_bias_fused_bn\"]\n",
      "    self.n_StatefulPartitionedCall_resnet50_conv2_block3_3_conv_Conv2D = nn.Conv2d(**{'groups': 1, 'dilation': [1, 1], 'out_channels': 256, 'padding': 0, 'kernel_size': (1, 1), 'stride': [1, 1], 'in_channels': 64, 'bias': True})\n",
      "    self.n_StatefulPartitionedCall_resnet50_conv2_block3_3_conv_Conv2D.weight.data = self._vars[\"StatefulPartitionedCall_resnet50_conv2_block3_3_conv_Conv2D_weights_fused_bn\"]\n",
      "    self.n_StatefulPartitionedCall_resnet50_conv2_block3_3_conv_Conv2D.bias.data = self._vars[\"StatefulPartitionedCall_resnet50_conv4_block2_1_conv_Conv2D_bias_fused_bn\"]\n",
      "    self.n_StatefulPartitionedCall_resnet50_conv3_block1_1_conv_Conv2D = nn.Conv2d(**{'groups': 1, 'dilation': [1, 1], 'out_channels': 128, 'padding': 0, 'kernel_size': (1, 1), 'stride': [2, 2], 'in_channels': 256, 'bias': True})\n",
      "    self.n_StatefulPartitionedCall_resnet50_conv3_block1_1_conv_Conv2D.weight.data = self._vars[\"StatefulPartitionedCall_resnet50_conv3_block1_1_conv_Conv2D_weights_fused_bn\"]\n",
      "    self.n_StatefulPartitionedCall_resnet50_conv3_block1_1_conv_Conv2D.bias.data = self._vars[\"StatefulPartitionedCall_resnet50_conv3_block4_1_conv_Conv2D_bias_fused_bn\"]\n",
      "    self.n_StatefulPartitionedCall_resnet50_conv3_block1_2_conv_Conv2D = nn.Conv2d(**{'groups': 1, 'dilation': [1, 1], 'out_channels': 128, 'padding': [1, 1], 'kernel_size': (3, 3), 'stride': [1, 1], 'in_channels': 128, 'bias': True})\n",
      "    self.n_StatefulPartitionedCall_resnet50_conv3_block1_2_conv_Conv2D.weight.data = self._vars[\"StatefulPartitionedCall_resnet50_conv3_block1_2_conv_Conv2D_weights_fused_bn\"]\n",
      "    self.n_StatefulPartitionedCall_resnet50_conv3_block1_2_conv_Conv2D.bias.data = self._vars[\"StatefulPartitionedCall_resnet50_conv3_block4_1_conv_Conv2D_bias_fused_bn\"]\n",
      "    self.n_StatefulPartitionedCall_resnet50_conv3_block1_3_conv_Conv2D = nn.Conv2d(**{'groups': 1, 'dilation': [1, 1], 'out_channels': 512, 'padding': 0, 'kernel_size': (1, 1), 'stride': [1, 1], 'in_channels': 128, 'bias': True})\n",
      "    self.n_StatefulPartitionedCall_resnet50_conv3_block1_3_conv_Conv2D.weight.data = self._vars[\"StatefulPartitionedCall_resnet50_conv3_block1_3_conv_Conv2D_weights_fused_bn\"]\n",
      "    self.n_StatefulPartitionedCall_resnet50_conv3_block1_3_conv_Conv2D.bias.data = self._vars[\"StatefulPartitionedCall_resnet50_conv5_block2_1_conv_Conv2D_bias_fused_bn\"]\n",
      "    self.n_StatefulPartitionedCall_resnet50_conv3_block1_0_conv_Conv2D = nn.Conv2d(**{'groups': 1, 'dilation': [1, 1], 'out_channels': 512, 'padding': 0, 'kernel_size': (1, 1), 'stride': [2, 2], 'in_channels': 256, 'bias': True})\n",
      "    self.n_StatefulPartitionedCall_resnet50_conv3_block1_0_conv_Conv2D.weight.data = self._vars[\"StatefulPartitionedCall_resnet50_conv3_block1_0_conv_Conv2D_weights_fused_bn\"]\n",
      "    self.n_StatefulPartitionedCall_resnet50_conv3_block1_0_conv_Conv2D.bias.data = self._vars[\"StatefulPartitionedCall_resnet50_conv5_block2_1_conv_Conv2D_bias_fused_bn\"]\n",
      "    self.n_StatefulPartitionedCall_resnet50_conv3_block2_1_conv_Conv2D = nn.Conv2d(**{'groups': 1, 'dilation': [1, 1], 'out_channels': 128, 'padding': 0, 'kernel_size': (1, 1), 'stride': [1, 1], 'in_channels': 512, 'bias': True})\n",
      "    self.n_StatefulPartitionedCall_resnet50_conv3_block2_1_conv_Conv2D.weight.data = self._vars[\"StatefulPartitionedCall_resnet50_conv3_block2_1_conv_Conv2D_weights_fused_bn\"]\n",
      "    self.n_StatefulPartitionedCall_resnet50_conv3_block2_1_conv_Conv2D.bias.data = self._vars[\"StatefulPartitionedCall_resnet50_conv3_block4_1_conv_Conv2D_bias_fused_bn\"]\n",
      "    self.n_StatefulPartitionedCall_resnet50_conv3_block2_2_conv_Conv2D = nn.Conv2d(**{'groups': 1, 'dilation': [1, 1], 'out_channels': 128, 'padding': [1, 1], 'kernel_size': (3, 3), 'stride': [1, 1], 'in_channels': 128, 'bias': True})\n",
      "    self.n_StatefulPartitionedCall_resnet50_conv3_block2_2_conv_Conv2D.weight.data = self._vars[\"StatefulPartitionedCall_resnet50_conv3_block2_2_conv_Conv2D_weights_fused_bn\"]\n",
      "    self.n_StatefulPartitionedCall_resnet50_conv3_block2_2_conv_Conv2D.bias.data = self._vars[\"StatefulPartitionedCall_resnet50_conv3_block4_1_conv_Conv2D_bias_fused_bn\"]\n",
      "    self.n_StatefulPartitionedCall_resnet50_conv3_block2_3_conv_Conv2D = nn.Conv2d(**{'groups': 1, 'dilation': [1, 1], 'out_channels': 512, 'padding': 0, 'kernel_size': (1, 1), 'stride': [1, 1], 'in_channels': 128, 'bias': True})\n",
      "    self.n_StatefulPartitionedCall_resnet50_conv3_block2_3_conv_Conv2D.weight.data = self._vars[\"StatefulPartitionedCall_resnet50_conv3_block2_3_conv_Conv2D_weights_fused_bn\"]\n",
      "    self.n_StatefulPartitionedCall_resnet50_conv3_block2_3_conv_Conv2D.bias.data = self._vars[\"StatefulPartitionedCall_resnet50_conv5_block2_1_conv_Conv2D_bias_fused_bn\"]\n",
      "    self.n_StatefulPartitionedCall_resnet50_conv3_block3_1_conv_Conv2D = nn.Conv2d(**{'groups': 1, 'dilation': [1, 1], 'out_channels': 128, 'padding': 0, 'kernel_size': (1, 1), 'stride': [1, 1], 'in_channels': 512, 'bias': True})\n",
      "    self.n_StatefulPartitionedCall_resnet50_conv3_block3_1_conv_Conv2D.weight.data = self._vars[\"StatefulPartitionedCall_resnet50_conv3_block3_1_conv_Conv2D_weights_fused_bn\"]\n",
      "    self.n_StatefulPartitionedCall_resnet50_conv3_block3_1_conv_Conv2D.bias.data = self._vars[\"StatefulPartitionedCall_resnet50_conv3_block4_1_conv_Conv2D_bias_fused_bn\"]\n",
      "    self.n_StatefulPartitionedCall_resnet50_conv3_block3_2_conv_Conv2D = nn.Conv2d(**{'groups': 1, 'dilation': [1, 1], 'out_channels': 128, 'padding': [1, 1], 'kernel_size': (3, 3), 'stride': [1, 1], 'in_channels': 128, 'bias': True})\n",
      "    self.n_StatefulPartitionedCall_resnet50_conv3_block3_2_conv_Conv2D.weight.data = self._vars[\"StatefulPartitionedCall_resnet50_conv3_block3_2_conv_Conv2D_weights_fused_bn\"]\n",
      "    self.n_StatefulPartitionedCall_resnet50_conv3_block3_2_conv_Conv2D.bias.data = self._vars[\"StatefulPartitionedCall_resnet50_conv3_block4_1_conv_Conv2D_bias_fused_bn\"]\n",
      "    self.n_StatefulPartitionedCall_resnet50_conv3_block3_3_conv_Conv2D = nn.Conv2d(**{'groups': 1, 'dilation': [1, 1], 'out_channels': 512, 'padding': 0, 'kernel_size': (1, 1), 'stride': [1, 1], 'in_channels': 128, 'bias': True})\n",
      "    self.n_StatefulPartitionedCall_resnet50_conv3_block3_3_conv_Conv2D.weight.data = self._vars[\"StatefulPartitionedCall_resnet50_conv3_block3_3_conv_Conv2D_weights_fused_bn\"]\n",
      "    self.n_StatefulPartitionedCall_resnet50_conv3_block3_3_conv_Conv2D.bias.data = self._vars[\"StatefulPartitionedCall_resnet50_conv5_block2_1_conv_Conv2D_bias_fused_bn\"]\n",
      "    self.n_StatefulPartitionedCall_resnet50_conv3_block4_1_conv_Conv2D = nn.Conv2d(**{'groups': 1, 'dilation': [1, 1], 'out_channels': 128, 'padding': 0, 'kernel_size': (1, 1), 'stride': [1, 1], 'in_channels': 512, 'bias': True})\n",
      "    self.n_StatefulPartitionedCall_resnet50_conv3_block4_1_conv_Conv2D.weight.data = self._vars[\"StatefulPartitionedCall_resnet50_conv3_block4_1_conv_Conv2D_weights_fused_bn\"]\n",
      "    self.n_StatefulPartitionedCall_resnet50_conv3_block4_1_conv_Conv2D.bias.data = self._vars[\"StatefulPartitionedCall_resnet50_conv3_block4_1_conv_Conv2D_bias_fused_bn\"]\n",
      "    self.n_StatefulPartitionedCall_resnet50_conv3_block4_2_conv_Conv2D = nn.Conv2d(**{'groups': 1, 'dilation': [1, 1], 'out_channels': 128, 'padding': [1, 1], 'kernel_size': (3, 3), 'stride': [1, 1], 'in_channels': 128, 'bias': True})\n",
      "    self.n_StatefulPartitionedCall_resnet50_conv3_block4_2_conv_Conv2D.weight.data = self._vars[\"StatefulPartitionedCall_resnet50_conv3_block4_2_conv_Conv2D_weights_fused_bn\"]\n",
      "    self.n_StatefulPartitionedCall_resnet50_conv3_block4_2_conv_Conv2D.bias.data = self._vars[\"StatefulPartitionedCall_resnet50_conv3_block4_1_conv_Conv2D_bias_fused_bn\"]\n",
      "    self.n_StatefulPartitionedCall_resnet50_conv3_block4_3_conv_Conv2D = nn.Conv2d(**{'groups': 1, 'dilation': [1, 1], 'out_channels': 512, 'padding': 0, 'kernel_size': (1, 1), 'stride': [1, 1], 'in_channels': 128, 'bias': True})\n",
      "    self.n_StatefulPartitionedCall_resnet50_conv3_block4_3_conv_Conv2D.weight.data = self._vars[\"StatefulPartitionedCall_resnet50_conv3_block4_3_conv_Conv2D_weights_fused_bn\"]\n",
      "    self.n_StatefulPartitionedCall_resnet50_conv3_block4_3_conv_Conv2D.bias.data = self._vars[\"StatefulPartitionedCall_resnet50_conv5_block2_1_conv_Conv2D_bias_fused_bn\"]\n",
      "    self.n_StatefulPartitionedCall_resnet50_conv4_block1_1_conv_Conv2D = nn.Conv2d(**{'groups': 1, 'dilation': [1, 1], 'out_channels': 256, 'padding': 0, 'kernel_size': (1, 1), 'stride': [2, 2], 'in_channels': 512, 'bias': True})\n",
      "    self.n_StatefulPartitionedCall_resnet50_conv4_block1_1_conv_Conv2D.weight.data = self._vars[\"StatefulPartitionedCall_resnet50_conv4_block1_1_conv_Conv2D_weights_fused_bn\"]\n",
      "    self.n_StatefulPartitionedCall_resnet50_conv4_block1_1_conv_Conv2D.bias.data = self._vars[\"StatefulPartitionedCall_resnet50_conv4_block2_1_conv_Conv2D_bias_fused_bn\"]\n",
      "    self.n_StatefulPartitionedCall_resnet50_conv4_block1_2_conv_Conv2D = nn.Conv2d(**{'groups': 1, 'dilation': [1, 1], 'out_channels': 256, 'padding': [1, 1], 'kernel_size': (3, 3), 'stride': [1, 1], 'in_channels': 256, 'bias': True})\n",
      "    self.n_StatefulPartitionedCall_resnet50_conv4_block1_2_conv_Conv2D.weight.data = self._vars[\"StatefulPartitionedCall_resnet50_conv4_block1_2_conv_Conv2D_weights_fused_bn\"]\n",
      "    self.n_StatefulPartitionedCall_resnet50_conv4_block1_2_conv_Conv2D.bias.data = self._vars[\"StatefulPartitionedCall_resnet50_conv4_block2_1_conv_Conv2D_bias_fused_bn\"]\n",
      "    self.n_StatefulPartitionedCall_resnet50_conv4_block1_3_conv_Conv2D = nn.Conv2d(**{'groups': 1, 'dilation': [1, 1], 'out_channels': 1024, 'padding': 0, 'kernel_size': (1, 1), 'stride': [1, 1], 'in_channels': 256, 'bias': True})\n",
      "    self.n_StatefulPartitionedCall_resnet50_conv4_block1_3_conv_Conv2D.weight.data = self._vars[\"StatefulPartitionedCall_resnet50_conv4_block1_3_conv_Conv2D_weights_fused_bn\"]\n",
      "    self.n_StatefulPartitionedCall_resnet50_conv4_block1_3_conv_Conv2D.bias.data = self._vars[\"StatefulPartitionedCall_resnet50_conv4_block2_3_conv_Conv2D_bias_fused_bn\"]\n",
      "    self.n_StatefulPartitionedCall_resnet50_conv4_block1_0_conv_Conv2D = nn.Conv2d(**{'groups': 1, 'dilation': [1, 1], 'out_channels': 1024, 'padding': 0, 'kernel_size': (1, 1), 'stride': [2, 2], 'in_channels': 512, 'bias': True})\n",
      "    self.n_StatefulPartitionedCall_resnet50_conv4_block1_0_conv_Conv2D.weight.data = self._vars[\"StatefulPartitionedCall_resnet50_conv4_block1_0_conv_Conv2D_weights_fused_bn\"]\n",
      "    self.n_StatefulPartitionedCall_resnet50_conv4_block1_0_conv_Conv2D.bias.data = self._vars[\"StatefulPartitionedCall_resnet50_conv4_block2_3_conv_Conv2D_bias_fused_bn\"]\n",
      "    self.n_StatefulPartitionedCall_resnet50_conv4_block2_1_conv_Conv2D = nn.Conv2d(**{'groups': 1, 'dilation': [1, 1], 'out_channels': 256, 'padding': 0, 'kernel_size': (1, 1), 'stride': [1, 1], 'in_channels': 1024, 'bias': True})\n",
      "    self.n_StatefulPartitionedCall_resnet50_conv4_block2_1_conv_Conv2D.weight.data = self._vars[\"StatefulPartitionedCall_resnet50_conv4_block2_1_conv_Conv2D_weights_fused_bn\"]\n",
      "    self.n_StatefulPartitionedCall_resnet50_conv4_block2_1_conv_Conv2D.bias.data = self._vars[\"StatefulPartitionedCall_resnet50_conv4_block2_1_conv_Conv2D_bias_fused_bn\"]\n",
      "    self.n_StatefulPartitionedCall_resnet50_conv4_block2_2_conv_Conv2D = nn.Conv2d(**{'groups': 1, 'dilation': [1, 1], 'out_channels': 256, 'padding': [1, 1], 'kernel_size': (3, 3), 'stride': [1, 1], 'in_channels': 256, 'bias': True})\n",
      "    self.n_StatefulPartitionedCall_resnet50_conv4_block2_2_conv_Conv2D.weight.data = self._vars[\"StatefulPartitionedCall_resnet50_conv4_block2_2_conv_Conv2D_weights_fused_bn\"]\n",
      "    self.n_StatefulPartitionedCall_resnet50_conv4_block2_2_conv_Conv2D.bias.data = self._vars[\"StatefulPartitionedCall_resnet50_conv4_block2_1_conv_Conv2D_bias_fused_bn\"]\n",
      "    self.n_StatefulPartitionedCall_resnet50_conv4_block2_3_conv_Conv2D = nn.Conv2d(**{'groups': 1, 'dilation': [1, 1], 'out_channels': 1024, 'padding': 0, 'kernel_size': (1, 1), 'stride': [1, 1], 'in_channels': 256, 'bias': True})\n",
      "    self.n_StatefulPartitionedCall_resnet50_conv4_block2_3_conv_Conv2D.weight.data = self._vars[\"StatefulPartitionedCall_resnet50_conv4_block2_3_conv_Conv2D_weights_fused_bn\"]\n",
      "    self.n_StatefulPartitionedCall_resnet50_conv4_block2_3_conv_Conv2D.bias.data = self._vars[\"StatefulPartitionedCall_resnet50_conv4_block2_3_conv_Conv2D_bias_fused_bn\"]\n",
      "    self.n_StatefulPartitionedCall_resnet50_conv4_block3_1_conv_Conv2D = nn.Conv2d(**{'groups': 1, 'dilation': [1, 1], 'out_channels': 256, 'padding': 0, 'kernel_size': (1, 1), 'stride': [1, 1], 'in_channels': 1024, 'bias': True})\n",
      "    self.n_StatefulPartitionedCall_resnet50_conv4_block3_1_conv_Conv2D.weight.data = self._vars[\"StatefulPartitionedCall_resnet50_conv4_block3_1_conv_Conv2D_weights_fused_bn\"]\n",
      "    self.n_StatefulPartitionedCall_resnet50_conv4_block3_1_conv_Conv2D.bias.data = self._vars[\"StatefulPartitionedCall_resnet50_conv4_block2_1_conv_Conv2D_bias_fused_bn\"]\n",
      "    self.n_StatefulPartitionedCall_resnet50_conv4_block3_2_conv_Conv2D = nn.Conv2d(**{'groups': 1, 'dilation': [1, 1], 'out_channels': 256, 'padding': [1, 1], 'kernel_size': (3, 3), 'stride': [1, 1], 'in_channels': 256, 'bias': True})\n",
      "    self.n_StatefulPartitionedCall_resnet50_conv4_block3_2_conv_Conv2D.weight.data = self._vars[\"StatefulPartitionedCall_resnet50_conv4_block3_2_conv_Conv2D_weights_fused_bn\"]\n",
      "    self.n_StatefulPartitionedCall_resnet50_conv4_block3_2_conv_Conv2D.bias.data = self._vars[\"StatefulPartitionedCall_resnet50_conv4_block2_1_conv_Conv2D_bias_fused_bn\"]\n",
      "    self.n_StatefulPartitionedCall_resnet50_conv4_block3_3_conv_Conv2D = nn.Conv2d(**{'groups': 1, 'dilation': [1, 1], 'out_channels': 1024, 'padding': 0, 'kernel_size': (1, 1), 'stride': [1, 1], 'in_channels': 256, 'bias': True})\n",
      "    self.n_StatefulPartitionedCall_resnet50_conv4_block3_3_conv_Conv2D.weight.data = self._vars[\"StatefulPartitionedCall_resnet50_conv4_block3_3_conv_Conv2D_weights_fused_bn\"]\n",
      "    self.n_StatefulPartitionedCall_resnet50_conv4_block3_3_conv_Conv2D.bias.data = self._vars[\"StatefulPartitionedCall_resnet50_conv4_block2_3_conv_Conv2D_bias_fused_bn\"]\n",
      "    self.n_StatefulPartitionedCall_resnet50_conv4_block4_1_conv_Conv2D = nn.Conv2d(**{'groups': 1, 'dilation': [1, 1], 'out_channels': 256, 'padding': 0, 'kernel_size': (1, 1), 'stride': [1, 1], 'in_channels': 1024, 'bias': True})\n",
      "    self.n_StatefulPartitionedCall_resnet50_conv4_block4_1_conv_Conv2D.weight.data = self._vars[\"StatefulPartitionedCall_resnet50_conv4_block4_1_conv_Conv2D_weights_fused_bn\"]\n",
      "    self.n_StatefulPartitionedCall_resnet50_conv4_block4_1_conv_Conv2D.bias.data = self._vars[\"StatefulPartitionedCall_resnet50_conv4_block2_1_conv_Conv2D_bias_fused_bn\"]\n",
      "    self.n_StatefulPartitionedCall_resnet50_conv4_block4_2_conv_Conv2D = nn.Conv2d(**{'groups': 1, 'dilation': [1, 1], 'out_channels': 256, 'padding': [1, 1], 'kernel_size': (3, 3), 'stride': [1, 1], 'in_channels': 256, 'bias': True})\n",
      "    self.n_StatefulPartitionedCall_resnet50_conv4_block4_2_conv_Conv2D.weight.data = self._vars[\"StatefulPartitionedCall_resnet50_conv4_block4_2_conv_Conv2D_weights_fused_bn\"]\n",
      "    self.n_StatefulPartitionedCall_resnet50_conv4_block4_2_conv_Conv2D.bias.data = self._vars[\"StatefulPartitionedCall_resnet50_conv4_block2_1_conv_Conv2D_bias_fused_bn\"]\n",
      "    self.n_StatefulPartitionedCall_resnet50_conv4_block4_3_conv_Conv2D = nn.Conv2d(**{'groups': 1, 'dilation': [1, 1], 'out_channels': 1024, 'padding': 0, 'kernel_size': (1, 1), 'stride': [1, 1], 'in_channels': 256, 'bias': True})\n",
      "    self.n_StatefulPartitionedCall_resnet50_conv4_block4_3_conv_Conv2D.weight.data = self._vars[\"StatefulPartitionedCall_resnet50_conv4_block4_3_conv_Conv2D_weights_fused_bn\"]\n",
      "    self.n_StatefulPartitionedCall_resnet50_conv4_block4_3_conv_Conv2D.bias.data = self._vars[\"StatefulPartitionedCall_resnet50_conv4_block2_3_conv_Conv2D_bias_fused_bn\"]\n",
      "    self.n_StatefulPartitionedCall_resnet50_conv4_block5_1_conv_Conv2D = nn.Conv2d(**{'groups': 1, 'dilation': [1, 1], 'out_channels': 256, 'padding': 0, 'kernel_size': (1, 1), 'stride': [1, 1], 'in_channels': 1024, 'bias': True})\n",
      "    self.n_StatefulPartitionedCall_resnet50_conv4_block5_1_conv_Conv2D.weight.data = self._vars[\"StatefulPartitionedCall_resnet50_conv4_block5_1_conv_Conv2D_weights_fused_bn\"]\n",
      "    self.n_StatefulPartitionedCall_resnet50_conv4_block5_1_conv_Conv2D.bias.data = self._vars[\"StatefulPartitionedCall_resnet50_conv4_block2_1_conv_Conv2D_bias_fused_bn\"]\n",
      "    self.n_StatefulPartitionedCall_resnet50_conv4_block5_2_conv_Conv2D = nn.Conv2d(**{'groups': 1, 'dilation': [1, 1], 'out_channels': 256, 'padding': [1, 1], 'kernel_size': (3, 3), 'stride': [1, 1], 'in_channels': 256, 'bias': True})\n",
      "    self.n_StatefulPartitionedCall_resnet50_conv4_block5_2_conv_Conv2D.weight.data = self._vars[\"StatefulPartitionedCall_resnet50_conv4_block5_2_conv_Conv2D_weights_fused_bn\"]\n",
      "    self.n_StatefulPartitionedCall_resnet50_conv4_block5_2_conv_Conv2D.bias.data = self._vars[\"StatefulPartitionedCall_resnet50_conv4_block2_1_conv_Conv2D_bias_fused_bn\"]\n",
      "    self.n_StatefulPartitionedCall_resnet50_conv4_block5_3_conv_Conv2D = nn.Conv2d(**{'groups': 1, 'dilation': [1, 1], 'out_channels': 1024, 'padding': 0, 'kernel_size': (1, 1), 'stride': [1, 1], 'in_channels': 256, 'bias': True})\n",
      "    self.n_StatefulPartitionedCall_resnet50_conv4_block5_3_conv_Conv2D.weight.data = self._vars[\"StatefulPartitionedCall_resnet50_conv4_block5_3_conv_Conv2D_weights_fused_bn\"]\n",
      "    self.n_StatefulPartitionedCall_resnet50_conv4_block5_3_conv_Conv2D.bias.data = self._vars[\"StatefulPartitionedCall_resnet50_conv4_block2_3_conv_Conv2D_bias_fused_bn\"]\n",
      "    self.n_StatefulPartitionedCall_resnet50_conv4_block6_1_conv_Conv2D = nn.Conv2d(**{'groups': 1, 'dilation': [1, 1], 'out_channels': 256, 'padding': 0, 'kernel_size': (1, 1), 'stride': [1, 1], 'in_channels': 1024, 'bias': True})\n",
      "    self.n_StatefulPartitionedCall_resnet50_conv4_block6_1_conv_Conv2D.weight.data = self._vars[\"StatefulPartitionedCall_resnet50_conv4_block6_1_conv_Conv2D_weights_fused_bn\"]\n",
      "    self.n_StatefulPartitionedCall_resnet50_conv4_block6_1_conv_Conv2D.bias.data = self._vars[\"StatefulPartitionedCall_resnet50_conv4_block2_1_conv_Conv2D_bias_fused_bn\"]\n",
      "    self.n_StatefulPartitionedCall_resnet50_conv4_block6_2_conv_Conv2D = nn.Conv2d(**{'groups': 1, 'dilation': [1, 1], 'out_channels': 256, 'padding': [1, 1], 'kernel_size': (3, 3), 'stride': [1, 1], 'in_channels': 256, 'bias': True})\n",
      "    self.n_StatefulPartitionedCall_resnet50_conv4_block6_2_conv_Conv2D.weight.data = self._vars[\"StatefulPartitionedCall_resnet50_conv4_block6_2_conv_Conv2D_weights_fused_bn\"]\n",
      "    self.n_StatefulPartitionedCall_resnet50_conv4_block6_2_conv_Conv2D.bias.data = self._vars[\"StatefulPartitionedCall_resnet50_conv4_block2_1_conv_Conv2D_bias_fused_bn\"]\n",
      "    self.n_StatefulPartitionedCall_resnet50_conv4_block6_3_conv_Conv2D = nn.Conv2d(**{'groups': 1, 'dilation': [1, 1], 'out_channels': 1024, 'padding': 0, 'kernel_size': (1, 1), 'stride': [1, 1], 'in_channels': 256, 'bias': True})\n",
      "    self.n_StatefulPartitionedCall_resnet50_conv4_block6_3_conv_Conv2D.weight.data = self._vars[\"StatefulPartitionedCall_resnet50_conv4_block6_3_conv_Conv2D_weights_fused_bn\"]\n",
      "    self.n_StatefulPartitionedCall_resnet50_conv4_block6_3_conv_Conv2D.bias.data = self._vars[\"StatefulPartitionedCall_resnet50_conv4_block2_3_conv_Conv2D_bias_fused_bn\"]\n",
      "    self.n_StatefulPartitionedCall_resnet50_conv5_block1_1_conv_Conv2D = nn.Conv2d(**{'groups': 1, 'dilation': [1, 1], 'out_channels': 512, 'padding': 0, 'kernel_size': (1, 1), 'stride': [2, 2], 'in_channels': 1024, 'bias': True})\n",
      "    self.n_StatefulPartitionedCall_resnet50_conv5_block1_1_conv_Conv2D.weight.data = self._vars[\"StatefulPartitionedCall_resnet50_conv5_block1_1_conv_Conv2D_weights_fused_bn\"]\n",
      "    self.n_StatefulPartitionedCall_resnet50_conv5_block1_1_conv_Conv2D.bias.data = self._vars[\"StatefulPartitionedCall_resnet50_conv5_block2_1_conv_Conv2D_bias_fused_bn\"]\n",
      "    self.n_StatefulPartitionedCall_resnet50_conv5_block1_2_conv_Conv2D = nn.Conv2d(**{'groups': 1, 'dilation': [1, 1], 'out_channels': 512, 'padding': [1, 1], 'kernel_size': (3, 3), 'stride': [1, 1], 'in_channels': 512, 'bias': True})\n",
      "    self.n_StatefulPartitionedCall_resnet50_conv5_block1_2_conv_Conv2D.weight.data = self._vars[\"StatefulPartitionedCall_resnet50_conv5_block1_2_conv_Conv2D_weights_fused_bn\"]\n",
      "    self.n_StatefulPartitionedCall_resnet50_conv5_block1_2_conv_Conv2D.bias.data = self._vars[\"StatefulPartitionedCall_resnet50_conv5_block2_1_conv_Conv2D_bias_fused_bn\"]\n",
      "    self.n_StatefulPartitionedCall_resnet50_conv5_block1_3_conv_Conv2D = nn.Conv2d(**{'groups': 1, 'dilation': [1, 1], 'out_channels': 2048, 'padding': 0, 'kernel_size': (1, 1), 'stride': [1, 1], 'in_channels': 512, 'bias': True})\n",
      "    self.n_StatefulPartitionedCall_resnet50_conv5_block1_3_conv_Conv2D.weight.data = self._vars[\"StatefulPartitionedCall_resnet50_conv5_block1_3_conv_Conv2D_weights_fused_bn\"]\n",
      "    self.n_StatefulPartitionedCall_resnet50_conv5_block1_3_conv_Conv2D.bias.data = self._vars[\"StatefulPartitionedCall_resnet50_conv5_block2_3_conv_Conv2D_bias_fused_bn\"]\n",
      "    self.n_StatefulPartitionedCall_resnet50_conv5_block1_0_conv_Conv2D = nn.Conv2d(**{'groups': 1, 'dilation': [1, 1], 'out_channels': 2048, 'padding': 0, 'kernel_size': (1, 1), 'stride': [2, 2], 'in_channels': 1024, 'bias': True})\n",
      "    self.n_StatefulPartitionedCall_resnet50_conv5_block1_0_conv_Conv2D.weight.data = self._vars[\"StatefulPartitionedCall_resnet50_conv5_block1_0_conv_Conv2D_weights_fused_bn\"]\n",
      "    self.n_StatefulPartitionedCall_resnet50_conv5_block1_0_conv_Conv2D.bias.data = self._vars[\"StatefulPartitionedCall_resnet50_conv5_block2_3_conv_Conv2D_bias_fused_bn\"]\n",
      "    self.n_StatefulPartitionedCall_resnet50_conv5_block2_1_conv_Conv2D = nn.Conv2d(**{'groups': 1, 'dilation': [1, 1], 'out_channels': 512, 'padding': 0, 'kernel_size': (1, 1), 'stride': [1, 1], 'in_channels': 2048, 'bias': True})\n",
      "    self.n_StatefulPartitionedCall_resnet50_conv5_block2_1_conv_Conv2D.weight.data = self._vars[\"StatefulPartitionedCall_resnet50_conv5_block2_1_conv_Conv2D_weights_fused_bn\"]\n",
      "    self.n_StatefulPartitionedCall_resnet50_conv5_block2_1_conv_Conv2D.bias.data = self._vars[\"StatefulPartitionedCall_resnet50_conv5_block2_1_conv_Conv2D_bias_fused_bn\"]\n",
      "    self.n_StatefulPartitionedCall_resnet50_conv5_block2_2_conv_Conv2D = nn.Conv2d(**{'groups': 1, 'dilation': [1, 1], 'out_channels': 512, 'padding': [1, 1], 'kernel_size': (3, 3), 'stride': [1, 1], 'in_channels': 512, 'bias': True})\n",
      "    self.n_StatefulPartitionedCall_resnet50_conv5_block2_2_conv_Conv2D.weight.data = self._vars[\"StatefulPartitionedCall_resnet50_conv5_block2_2_conv_Conv2D_weights_fused_bn\"]\n",
      "    self.n_StatefulPartitionedCall_resnet50_conv5_block2_2_conv_Conv2D.bias.data = self._vars[\"StatefulPartitionedCall_resnet50_conv5_block2_1_conv_Conv2D_bias_fused_bn\"]\n",
      "    self.n_StatefulPartitionedCall_resnet50_conv5_block2_3_conv_Conv2D = nn.Conv2d(**{'groups': 1, 'dilation': [1, 1], 'out_channels': 2048, 'padding': 0, 'kernel_size': (1, 1), 'stride': [1, 1], 'in_channels': 512, 'bias': True})\n",
      "    self.n_StatefulPartitionedCall_resnet50_conv5_block2_3_conv_Conv2D.weight.data = self._vars[\"StatefulPartitionedCall_resnet50_conv5_block2_3_conv_Conv2D_weights_fused_bn\"]\n",
      "    self.n_StatefulPartitionedCall_resnet50_conv5_block2_3_conv_Conv2D.bias.data = self._vars[\"StatefulPartitionedCall_resnet50_conv5_block2_3_conv_Conv2D_bias_fused_bn\"]\n",
      "    self.n_StatefulPartitionedCall_resnet50_conv5_block3_1_conv_Conv2D = nn.Conv2d(**{'groups': 1, 'dilation': [1, 1], 'out_channels': 512, 'padding': 0, 'kernel_size': (1, 1), 'stride': [1, 1], 'in_channels': 2048, 'bias': True})\n",
      "    self.n_StatefulPartitionedCall_resnet50_conv5_block3_1_conv_Conv2D.weight.data = self._vars[\"StatefulPartitionedCall_resnet50_conv5_block3_1_conv_Conv2D_weights_fused_bn\"]\n",
      "    self.n_StatefulPartitionedCall_resnet50_conv5_block3_1_conv_Conv2D.bias.data = self._vars[\"StatefulPartitionedCall_resnet50_conv5_block2_1_conv_Conv2D_bias_fused_bn\"]\n",
      "    self.n_StatefulPartitionedCall_resnet50_conv5_block3_2_conv_Conv2D = nn.Conv2d(**{'groups': 1, 'dilation': [1, 1], 'out_channels': 512, 'padding': [1, 1], 'kernel_size': (3, 3), 'stride': [1, 1], 'in_channels': 512, 'bias': True})\n",
      "    self.n_StatefulPartitionedCall_resnet50_conv5_block3_2_conv_Conv2D.weight.data = self._vars[\"StatefulPartitionedCall_resnet50_conv5_block3_2_conv_Conv2D_weights_fused_bn\"]\n",
      "    self.n_StatefulPartitionedCall_resnet50_conv5_block3_2_conv_Conv2D.bias.data = self._vars[\"StatefulPartitionedCall_resnet50_conv5_block2_1_conv_Conv2D_bias_fused_bn\"]\n",
      "    self.n_StatefulPartitionedCall_resnet50_conv5_block3_3_conv_Conv2D = nn.Conv2d(**{'groups': 1, 'dilation': [1, 1], 'out_channels': 2048, 'padding': 0, 'kernel_size': (1, 1), 'stride': [1, 1], 'in_channels': 512, 'bias': True})\n",
      "    self.n_StatefulPartitionedCall_resnet50_conv5_block3_3_conv_Conv2D.weight.data = self._vars[\"StatefulPartitionedCall_resnet50_conv5_block3_3_conv_Conv2D_weights_fused_bn\"]\n",
      "    self.n_StatefulPartitionedCall_resnet50_conv5_block3_3_conv_Conv2D.bias.data = self._vars[\"StatefulPartitionedCall_resnet50_conv5_block2_3_conv_Conv2D_bias_fused_bn\"]\n",
      "\n",
      "  def forward(self, *inputs):\n",
      "    input_1, = inputs\n",
      "    StatefulPartitionedCall_resnet50_conv1_conv_Conv2D__6_0 = input_1.permute(*[0, 3, 1, 2])\n",
      "    StatefulPartitionedCall_resnet50_conv1_bn_FusedBatchNormV3_0 = self.n_StatefulPartitionedCall_resnet50_conv1_conv_Conv2D(StatefulPartitionedCall_resnet50_conv1_conv_Conv2D__6_0)\n",
      "    StatefulPartitionedCall_resnet50_conv1_relu_Relu_0 = F.relu(StatefulPartitionedCall_resnet50_conv1_bn_FusedBatchNormV3_0)\n",
      "    StatefulPartitionedCall_resnet50_pool1_pad_Pad_0 = F.pad(StatefulPartitionedCall_resnet50_conv1_relu_Relu_0, [1, 1, 1, 1], \"constant\", 0.0)\n",
      "    StatefulPartitionedCall_resnet50_pool1_pool_MaxPool_0 = self.n_StatefulPartitionedCall_resnet50_pool1_pool_MaxPool(StatefulPartitionedCall_resnet50_pool1_pad_Pad_0)\n",
      "    StatefulPartitionedCall_resnet50_conv2_block1_1_bn_FusedBatchNormV3_0 = self.n_StatefulPartitionedCall_resnet50_conv2_block1_1_conv_Conv2D(StatefulPartitionedCall_resnet50_pool1_pool_MaxPool_0)\n",
      "    StatefulPartitionedCall_resnet50_conv2_block1_1_relu_Relu_0 = F.relu(StatefulPartitionedCall_resnet50_conv2_block1_1_bn_FusedBatchNormV3_0)\n",
      "    StatefulPartitionedCall_resnet50_conv2_block1_2_bn_FusedBatchNormV3_0 = self.n_StatefulPartitionedCall_resnet50_conv2_block1_2_conv_Conv2D(StatefulPartitionedCall_resnet50_conv2_block1_1_relu_Relu_0)\n",
      "    StatefulPartitionedCall_resnet50_conv2_block1_2_relu_Relu_0 = F.relu(StatefulPartitionedCall_resnet50_conv2_block1_2_bn_FusedBatchNormV3_0)\n",
      "    StatefulPartitionedCall_resnet50_conv2_block1_3_bn_FusedBatchNormV3_0 = self.n_StatefulPartitionedCall_resnet50_conv2_block1_3_conv_Conv2D(StatefulPartitionedCall_resnet50_conv2_block1_2_relu_Relu_0)\n",
      "    StatefulPartitionedCall_resnet50_conv2_block1_0_bn_FusedBatchNormV3_0 = self.n_StatefulPartitionedCall_resnet50_conv2_block1_0_conv_Conv2D(StatefulPartitionedCall_resnet50_pool1_pool_MaxPool_0)\n",
      "    StatefulPartitionedCall_resnet50_conv2_block1_add_add_0 = torch.add(StatefulPartitionedCall_resnet50_conv2_block1_0_bn_FusedBatchNormV3_0, StatefulPartitionedCall_resnet50_conv2_block1_3_bn_FusedBatchNormV3_0)\n",
      "    StatefulPartitionedCall_resnet50_conv2_block1_out_Relu_0 = F.relu(StatefulPartitionedCall_resnet50_conv2_block1_add_add_0)\n",
      "    StatefulPartitionedCall_resnet50_conv2_block2_1_bn_FusedBatchNormV3_0 = self.n_StatefulPartitionedCall_resnet50_conv2_block2_1_conv_Conv2D(StatefulPartitionedCall_resnet50_conv2_block1_out_Relu_0)\n",
      "    StatefulPartitionedCall_resnet50_conv2_block2_1_relu_Relu_0 = F.relu(StatefulPartitionedCall_resnet50_conv2_block2_1_bn_FusedBatchNormV3_0)\n",
      "    StatefulPartitionedCall_resnet50_conv2_block2_2_bn_FusedBatchNormV3_0 = self.n_StatefulPartitionedCall_resnet50_conv2_block2_2_conv_Conv2D(StatefulPartitionedCall_resnet50_conv2_block2_1_relu_Relu_0)\n",
      "    StatefulPartitionedCall_resnet50_conv2_block2_2_relu_Relu_0 = F.relu(StatefulPartitionedCall_resnet50_conv2_block2_2_bn_FusedBatchNormV3_0)\n",
      "    StatefulPartitionedCall_resnet50_conv2_block2_3_bn_FusedBatchNormV3_0 = self.n_StatefulPartitionedCall_resnet50_conv2_block2_3_conv_Conv2D(StatefulPartitionedCall_resnet50_conv2_block2_2_relu_Relu_0)\n",
      "    StatefulPartitionedCall_resnet50_conv2_block2_add_add_0 = torch.add(StatefulPartitionedCall_resnet50_conv2_block1_out_Relu_0, StatefulPartitionedCall_resnet50_conv2_block2_3_bn_FusedBatchNormV3_0)\n",
      "    StatefulPartitionedCall_resnet50_conv2_block2_out_Relu_0 = F.relu(StatefulPartitionedCall_resnet50_conv2_block2_add_add_0)\n",
      "    StatefulPartitionedCall_resnet50_conv2_block3_1_bn_FusedBatchNormV3_0 = self.n_StatefulPartitionedCall_resnet50_conv2_block3_1_conv_Conv2D(StatefulPartitionedCall_resnet50_conv2_block2_out_Relu_0)\n",
      "    StatefulPartitionedCall_resnet50_conv2_block3_1_relu_Relu_0 = F.relu(StatefulPartitionedCall_resnet50_conv2_block3_1_bn_FusedBatchNormV3_0)\n",
      "    StatefulPartitionedCall_resnet50_conv2_block3_2_bn_FusedBatchNormV3_0 = self.n_StatefulPartitionedCall_resnet50_conv2_block3_2_conv_Conv2D(StatefulPartitionedCall_resnet50_conv2_block3_1_relu_Relu_0)\n",
      "    StatefulPartitionedCall_resnet50_conv2_block3_2_relu_Relu_0 = F.relu(StatefulPartitionedCall_resnet50_conv2_block3_2_bn_FusedBatchNormV3_0)\n",
      "    StatefulPartitionedCall_resnet50_conv2_block3_3_bn_FusedBatchNormV3_0 = self.n_StatefulPartitionedCall_resnet50_conv2_block3_3_conv_Conv2D(StatefulPartitionedCall_resnet50_conv2_block3_2_relu_Relu_0)\n",
      "    StatefulPartitionedCall_resnet50_conv2_block3_add_add_0 = torch.add(StatefulPartitionedCall_resnet50_conv2_block2_out_Relu_0, StatefulPartitionedCall_resnet50_conv2_block3_3_bn_FusedBatchNormV3_0)\n",
      "    StatefulPartitionedCall_resnet50_conv2_block3_out_Relu_0 = F.relu(StatefulPartitionedCall_resnet50_conv2_block3_add_add_0)\n",
      "    StatefulPartitionedCall_resnet50_conv3_block1_1_bn_FusedBatchNormV3_0 = self.n_StatefulPartitionedCall_resnet50_conv3_block1_1_conv_Conv2D(StatefulPartitionedCall_resnet50_conv2_block3_out_Relu_0)\n",
      "    StatefulPartitionedCall_resnet50_conv3_block1_1_relu_Relu_0 = F.relu(StatefulPartitionedCall_resnet50_conv3_block1_1_bn_FusedBatchNormV3_0)\n",
      "    StatefulPartitionedCall_resnet50_conv3_block1_2_bn_FusedBatchNormV3_0 = self.n_StatefulPartitionedCall_resnet50_conv3_block1_2_conv_Conv2D(StatefulPartitionedCall_resnet50_conv3_block1_1_relu_Relu_0)\n",
      "    StatefulPartitionedCall_resnet50_conv3_block1_2_relu_Relu_0 = F.relu(StatefulPartitionedCall_resnet50_conv3_block1_2_bn_FusedBatchNormV3_0)\n",
      "    StatefulPartitionedCall_resnet50_conv3_block1_3_bn_FusedBatchNormV3_0 = self.n_StatefulPartitionedCall_resnet50_conv3_block1_3_conv_Conv2D(StatefulPartitionedCall_resnet50_conv3_block1_2_relu_Relu_0)\n",
      "    StatefulPartitionedCall_resnet50_conv3_block1_0_bn_FusedBatchNormV3_0 = self.n_StatefulPartitionedCall_resnet50_conv3_block1_0_conv_Conv2D(StatefulPartitionedCall_resnet50_conv2_block3_out_Relu_0)\n",
      "    StatefulPartitionedCall_resnet50_conv3_block1_add_add_0 = torch.add(StatefulPartitionedCall_resnet50_conv3_block1_0_bn_FusedBatchNormV3_0, StatefulPartitionedCall_resnet50_conv3_block1_3_bn_FusedBatchNormV3_0)\n",
      "    StatefulPartitionedCall_resnet50_conv3_block1_out_Relu_0 = F.relu(StatefulPartitionedCall_resnet50_conv3_block1_add_add_0)\n",
      "    StatefulPartitionedCall_resnet50_conv3_block2_1_bn_FusedBatchNormV3_0 = self.n_StatefulPartitionedCall_resnet50_conv3_block2_1_conv_Conv2D(StatefulPartitionedCall_resnet50_conv3_block1_out_Relu_0)\n",
      "    StatefulPartitionedCall_resnet50_conv3_block2_1_relu_Relu_0 = F.relu(StatefulPartitionedCall_resnet50_conv3_block2_1_bn_FusedBatchNormV3_0)\n",
      "    StatefulPartitionedCall_resnet50_conv3_block2_2_bn_FusedBatchNormV3_0 = self.n_StatefulPartitionedCall_resnet50_conv3_block2_2_conv_Conv2D(StatefulPartitionedCall_resnet50_conv3_block2_1_relu_Relu_0)\n",
      "    StatefulPartitionedCall_resnet50_conv3_block2_2_relu_Relu_0 = F.relu(StatefulPartitionedCall_resnet50_conv3_block2_2_bn_FusedBatchNormV3_0)\n",
      "    StatefulPartitionedCall_resnet50_conv3_block2_3_bn_FusedBatchNormV3_0 = self.n_StatefulPartitionedCall_resnet50_conv3_block2_3_conv_Conv2D(StatefulPartitionedCall_resnet50_conv3_block2_2_relu_Relu_0)\n",
      "    StatefulPartitionedCall_resnet50_conv3_block2_add_add_0 = torch.add(StatefulPartitionedCall_resnet50_conv3_block1_out_Relu_0, StatefulPartitionedCall_resnet50_conv3_block2_3_bn_FusedBatchNormV3_0)\n",
      "    StatefulPartitionedCall_resnet50_conv3_block2_out_Relu_0 = F.relu(StatefulPartitionedCall_resnet50_conv3_block2_add_add_0)\n",
      "    StatefulPartitionedCall_resnet50_conv3_block3_1_bn_FusedBatchNormV3_0 = self.n_StatefulPartitionedCall_resnet50_conv3_block3_1_conv_Conv2D(StatefulPartitionedCall_resnet50_conv3_block2_out_Relu_0)\n",
      "    StatefulPartitionedCall_resnet50_conv3_block3_1_relu_Relu_0 = F.relu(StatefulPartitionedCall_resnet50_conv3_block3_1_bn_FusedBatchNormV3_0)\n",
      "    StatefulPartitionedCall_resnet50_conv3_block3_2_bn_FusedBatchNormV3_0 = self.n_StatefulPartitionedCall_resnet50_conv3_block3_2_conv_Conv2D(StatefulPartitionedCall_resnet50_conv3_block3_1_relu_Relu_0)\n",
      "    StatefulPartitionedCall_resnet50_conv3_block3_2_relu_Relu_0 = F.relu(StatefulPartitionedCall_resnet50_conv3_block3_2_bn_FusedBatchNormV3_0)\n",
      "    StatefulPartitionedCall_resnet50_conv3_block3_3_bn_FusedBatchNormV3_0 = self.n_StatefulPartitionedCall_resnet50_conv3_block3_3_conv_Conv2D(StatefulPartitionedCall_resnet50_conv3_block3_2_relu_Relu_0)\n",
      "    StatefulPartitionedCall_resnet50_conv3_block3_add_add_0 = torch.add(StatefulPartitionedCall_resnet50_conv3_block2_out_Relu_0, StatefulPartitionedCall_resnet50_conv3_block3_3_bn_FusedBatchNormV3_0)\n",
      "    StatefulPartitionedCall_resnet50_conv3_block3_out_Relu_0 = F.relu(StatefulPartitionedCall_resnet50_conv3_block3_add_add_0)\n",
      "    StatefulPartitionedCall_resnet50_conv3_block4_1_bn_FusedBatchNormV3_0 = self.n_StatefulPartitionedCall_resnet50_conv3_block4_1_conv_Conv2D(StatefulPartitionedCall_resnet50_conv3_block3_out_Relu_0)\n",
      "    StatefulPartitionedCall_resnet50_conv3_block4_1_relu_Relu_0 = F.relu(StatefulPartitionedCall_resnet50_conv3_block4_1_bn_FusedBatchNormV3_0)\n",
      "    StatefulPartitionedCall_resnet50_conv3_block4_2_bn_FusedBatchNormV3_0 = self.n_StatefulPartitionedCall_resnet50_conv3_block4_2_conv_Conv2D(StatefulPartitionedCall_resnet50_conv3_block4_1_relu_Relu_0)\n",
      "    StatefulPartitionedCall_resnet50_conv3_block4_2_relu_Relu_0 = F.relu(StatefulPartitionedCall_resnet50_conv3_block4_2_bn_FusedBatchNormV3_0)\n",
      "    StatefulPartitionedCall_resnet50_conv3_block4_3_bn_FusedBatchNormV3_0 = self.n_StatefulPartitionedCall_resnet50_conv3_block4_3_conv_Conv2D(StatefulPartitionedCall_resnet50_conv3_block4_2_relu_Relu_0)\n",
      "    StatefulPartitionedCall_resnet50_conv3_block4_add_add_0 = torch.add(StatefulPartitionedCall_resnet50_conv3_block3_out_Relu_0, StatefulPartitionedCall_resnet50_conv3_block4_3_bn_FusedBatchNormV3_0)\n",
      "    StatefulPartitionedCall_resnet50_conv3_block4_out_Relu_0 = F.relu(StatefulPartitionedCall_resnet50_conv3_block4_add_add_0)\n",
      "    StatefulPartitionedCall_resnet50_conv4_block1_1_bn_FusedBatchNormV3_0 = self.n_StatefulPartitionedCall_resnet50_conv4_block1_1_conv_Conv2D(StatefulPartitionedCall_resnet50_conv3_block4_out_Relu_0)\n",
      "    StatefulPartitionedCall_resnet50_conv4_block1_1_relu_Relu_0 = F.relu(StatefulPartitionedCall_resnet50_conv4_block1_1_bn_FusedBatchNormV3_0)\n",
      "    StatefulPartitionedCall_resnet50_conv4_block1_2_bn_FusedBatchNormV3_0 = self.n_StatefulPartitionedCall_resnet50_conv4_block1_2_conv_Conv2D(StatefulPartitionedCall_resnet50_conv4_block1_1_relu_Relu_0)\n",
      "    StatefulPartitionedCall_resnet50_conv4_block1_2_relu_Relu_0 = F.relu(StatefulPartitionedCall_resnet50_conv4_block1_2_bn_FusedBatchNormV3_0)\n",
      "    StatefulPartitionedCall_resnet50_conv4_block1_3_bn_FusedBatchNormV3_0 = self.n_StatefulPartitionedCall_resnet50_conv4_block1_3_conv_Conv2D(StatefulPartitionedCall_resnet50_conv4_block1_2_relu_Relu_0)\n",
      "    StatefulPartitionedCall_resnet50_conv4_block1_0_bn_FusedBatchNormV3_0 = self.n_StatefulPartitionedCall_resnet50_conv4_block1_0_conv_Conv2D(StatefulPartitionedCall_resnet50_conv3_block4_out_Relu_0)\n",
      "    StatefulPartitionedCall_resnet50_conv4_block1_add_add_0 = torch.add(StatefulPartitionedCall_resnet50_conv4_block1_0_bn_FusedBatchNormV3_0, StatefulPartitionedCall_resnet50_conv4_block1_3_bn_FusedBatchNormV3_0)\n",
      "    StatefulPartitionedCall_resnet50_conv4_block1_out_Relu_0 = F.relu(StatefulPartitionedCall_resnet50_conv4_block1_add_add_0)\n",
      "    StatefulPartitionedCall_resnet50_conv4_block2_1_bn_FusedBatchNormV3_0 = self.n_StatefulPartitionedCall_resnet50_conv4_block2_1_conv_Conv2D(StatefulPartitionedCall_resnet50_conv4_block1_out_Relu_0)\n",
      "    StatefulPartitionedCall_resnet50_conv4_block2_1_relu_Relu_0 = F.relu(StatefulPartitionedCall_resnet50_conv4_block2_1_bn_FusedBatchNormV3_0)\n",
      "    StatefulPartitionedCall_resnet50_conv4_block2_2_bn_FusedBatchNormV3_0 = self.n_StatefulPartitionedCall_resnet50_conv4_block2_2_conv_Conv2D(StatefulPartitionedCall_resnet50_conv4_block2_1_relu_Relu_0)\n",
      "    StatefulPartitionedCall_resnet50_conv4_block2_2_relu_Relu_0 = F.relu(StatefulPartitionedCall_resnet50_conv4_block2_2_bn_FusedBatchNormV3_0)\n",
      "    StatefulPartitionedCall_resnet50_conv4_block2_3_bn_FusedBatchNormV3_0 = self.n_StatefulPartitionedCall_resnet50_conv4_block2_3_conv_Conv2D(StatefulPartitionedCall_resnet50_conv4_block2_2_relu_Relu_0)\n",
      "    StatefulPartitionedCall_resnet50_conv4_block2_add_add_0 = torch.add(StatefulPartitionedCall_resnet50_conv4_block1_out_Relu_0, StatefulPartitionedCall_resnet50_conv4_block2_3_bn_FusedBatchNormV3_0)\n",
      "    StatefulPartitionedCall_resnet50_conv4_block2_out_Relu_0 = F.relu(StatefulPartitionedCall_resnet50_conv4_block2_add_add_0)\n",
      "    StatefulPartitionedCall_resnet50_conv4_block3_1_bn_FusedBatchNormV3_0 = self.n_StatefulPartitionedCall_resnet50_conv4_block3_1_conv_Conv2D(StatefulPartitionedCall_resnet50_conv4_block2_out_Relu_0)\n",
      "    StatefulPartitionedCall_resnet50_conv4_block3_1_relu_Relu_0 = F.relu(StatefulPartitionedCall_resnet50_conv4_block3_1_bn_FusedBatchNormV3_0)\n",
      "    StatefulPartitionedCall_resnet50_conv4_block3_2_bn_FusedBatchNormV3_0 = self.n_StatefulPartitionedCall_resnet50_conv4_block3_2_conv_Conv2D(StatefulPartitionedCall_resnet50_conv4_block3_1_relu_Relu_0)\n",
      "    StatefulPartitionedCall_resnet50_conv4_block3_2_relu_Relu_0 = F.relu(StatefulPartitionedCall_resnet50_conv4_block3_2_bn_FusedBatchNormV3_0)\n",
      "    StatefulPartitionedCall_resnet50_conv4_block3_3_bn_FusedBatchNormV3_0 = self.n_StatefulPartitionedCall_resnet50_conv4_block3_3_conv_Conv2D(StatefulPartitionedCall_resnet50_conv4_block3_2_relu_Relu_0)\n",
      "    StatefulPartitionedCall_resnet50_conv4_block3_add_add_0 = torch.add(StatefulPartitionedCall_resnet50_conv4_block2_out_Relu_0, StatefulPartitionedCall_resnet50_conv4_block3_3_bn_FusedBatchNormV3_0)\n",
      "    StatefulPartitionedCall_resnet50_conv4_block3_out_Relu_0 = F.relu(StatefulPartitionedCall_resnet50_conv4_block3_add_add_0)\n",
      "    StatefulPartitionedCall_resnet50_conv4_block4_1_bn_FusedBatchNormV3_0 = self.n_StatefulPartitionedCall_resnet50_conv4_block4_1_conv_Conv2D(StatefulPartitionedCall_resnet50_conv4_block3_out_Relu_0)\n",
      "    StatefulPartitionedCall_resnet50_conv4_block4_1_relu_Relu_0 = F.relu(StatefulPartitionedCall_resnet50_conv4_block4_1_bn_FusedBatchNormV3_0)\n",
      "    StatefulPartitionedCall_resnet50_conv4_block4_2_bn_FusedBatchNormV3_0 = self.n_StatefulPartitionedCall_resnet50_conv4_block4_2_conv_Conv2D(StatefulPartitionedCall_resnet50_conv4_block4_1_relu_Relu_0)\n",
      "    StatefulPartitionedCall_resnet50_conv4_block4_2_relu_Relu_0 = F.relu(StatefulPartitionedCall_resnet50_conv4_block4_2_bn_FusedBatchNormV3_0)\n",
      "    StatefulPartitionedCall_resnet50_conv4_block4_3_bn_FusedBatchNormV3_0 = self.n_StatefulPartitionedCall_resnet50_conv4_block4_3_conv_Conv2D(StatefulPartitionedCall_resnet50_conv4_block4_2_relu_Relu_0)\n",
      "    StatefulPartitionedCall_resnet50_conv4_block4_add_add_0 = torch.add(StatefulPartitionedCall_resnet50_conv4_block3_out_Relu_0, StatefulPartitionedCall_resnet50_conv4_block4_3_bn_FusedBatchNormV3_0)\n",
      "    StatefulPartitionedCall_resnet50_conv4_block4_out_Relu_0 = F.relu(StatefulPartitionedCall_resnet50_conv4_block4_add_add_0)\n",
      "    StatefulPartitionedCall_resnet50_conv4_block5_1_bn_FusedBatchNormV3_0 = self.n_StatefulPartitionedCall_resnet50_conv4_block5_1_conv_Conv2D(StatefulPartitionedCall_resnet50_conv4_block4_out_Relu_0)\n",
      "    StatefulPartitionedCall_resnet50_conv4_block5_1_relu_Relu_0 = F.relu(StatefulPartitionedCall_resnet50_conv4_block5_1_bn_FusedBatchNormV3_0)\n",
      "    StatefulPartitionedCall_resnet50_conv4_block5_2_bn_FusedBatchNormV3_0 = self.n_StatefulPartitionedCall_resnet50_conv4_block5_2_conv_Conv2D(StatefulPartitionedCall_resnet50_conv4_block5_1_relu_Relu_0)\n",
      "    StatefulPartitionedCall_resnet50_conv4_block5_2_relu_Relu_0 = F.relu(StatefulPartitionedCall_resnet50_conv4_block5_2_bn_FusedBatchNormV3_0)\n",
      "    StatefulPartitionedCall_resnet50_conv4_block5_3_bn_FusedBatchNormV3_0 = self.n_StatefulPartitionedCall_resnet50_conv4_block5_3_conv_Conv2D(StatefulPartitionedCall_resnet50_conv4_block5_2_relu_Relu_0)\n",
      "    StatefulPartitionedCall_resnet50_conv4_block5_add_add_0 = torch.add(StatefulPartitionedCall_resnet50_conv4_block4_out_Relu_0, StatefulPartitionedCall_resnet50_conv4_block5_3_bn_FusedBatchNormV3_0)\n",
      "    StatefulPartitionedCall_resnet50_conv4_block5_out_Relu_0 = F.relu(StatefulPartitionedCall_resnet50_conv4_block5_add_add_0)\n",
      "    StatefulPartitionedCall_resnet50_conv4_block6_1_bn_FusedBatchNormV3_0 = self.n_StatefulPartitionedCall_resnet50_conv4_block6_1_conv_Conv2D(StatefulPartitionedCall_resnet50_conv4_block5_out_Relu_0)\n",
      "    StatefulPartitionedCall_resnet50_conv4_block6_1_relu_Relu_0 = F.relu(StatefulPartitionedCall_resnet50_conv4_block6_1_bn_FusedBatchNormV3_0)\n",
      "    StatefulPartitionedCall_resnet50_conv4_block6_2_bn_FusedBatchNormV3_0 = self.n_StatefulPartitionedCall_resnet50_conv4_block6_2_conv_Conv2D(StatefulPartitionedCall_resnet50_conv4_block6_1_relu_Relu_0)\n",
      "    StatefulPartitionedCall_resnet50_conv4_block6_2_relu_Relu_0 = F.relu(StatefulPartitionedCall_resnet50_conv4_block6_2_bn_FusedBatchNormV3_0)\n",
      "    StatefulPartitionedCall_resnet50_conv4_block6_3_bn_FusedBatchNormV3_0 = self.n_StatefulPartitionedCall_resnet50_conv4_block6_3_conv_Conv2D(StatefulPartitionedCall_resnet50_conv4_block6_2_relu_Relu_0)\n",
      "    StatefulPartitionedCall_resnet50_conv4_block6_add_add_0 = torch.add(StatefulPartitionedCall_resnet50_conv4_block5_out_Relu_0, StatefulPartitionedCall_resnet50_conv4_block6_3_bn_FusedBatchNormV3_0)\n",
      "    StatefulPartitionedCall_resnet50_conv4_block6_out_Relu_0 = F.relu(StatefulPartitionedCall_resnet50_conv4_block6_add_add_0)\n",
      "    StatefulPartitionedCall_resnet50_conv5_block1_1_bn_FusedBatchNormV3_0 = self.n_StatefulPartitionedCall_resnet50_conv5_block1_1_conv_Conv2D(StatefulPartitionedCall_resnet50_conv4_block6_out_Relu_0)\n",
      "    StatefulPartitionedCall_resnet50_conv5_block1_1_relu_Relu_0 = F.relu(StatefulPartitionedCall_resnet50_conv5_block1_1_bn_FusedBatchNormV3_0)\n",
      "    StatefulPartitionedCall_resnet50_conv5_block1_2_bn_FusedBatchNormV3_0 = self.n_StatefulPartitionedCall_resnet50_conv5_block1_2_conv_Conv2D(StatefulPartitionedCall_resnet50_conv5_block1_1_relu_Relu_0)\n",
      "    StatefulPartitionedCall_resnet50_conv5_block1_2_relu_Relu_0 = F.relu(StatefulPartitionedCall_resnet50_conv5_block1_2_bn_FusedBatchNormV3_0)\n",
      "    StatefulPartitionedCall_resnet50_conv5_block1_3_bn_FusedBatchNormV3_0 = self.n_StatefulPartitionedCall_resnet50_conv5_block1_3_conv_Conv2D(StatefulPartitionedCall_resnet50_conv5_block1_2_relu_Relu_0)\n",
      "    StatefulPartitionedCall_resnet50_conv5_block1_0_bn_FusedBatchNormV3_0 = self.n_StatefulPartitionedCall_resnet50_conv5_block1_0_conv_Conv2D(StatefulPartitionedCall_resnet50_conv4_block6_out_Relu_0)\n",
      "    StatefulPartitionedCall_resnet50_conv5_block1_add_add_0 = torch.add(StatefulPartitionedCall_resnet50_conv5_block1_0_bn_FusedBatchNormV3_0, StatefulPartitionedCall_resnet50_conv5_block1_3_bn_FusedBatchNormV3_0)\n",
      "    StatefulPartitionedCall_resnet50_conv5_block1_out_Relu_0 = F.relu(StatefulPartitionedCall_resnet50_conv5_block1_add_add_0)\n",
      "    StatefulPartitionedCall_resnet50_conv5_block2_1_bn_FusedBatchNormV3_0 = self.n_StatefulPartitionedCall_resnet50_conv5_block2_1_conv_Conv2D(StatefulPartitionedCall_resnet50_conv5_block1_out_Relu_0)\n",
      "    StatefulPartitionedCall_resnet50_conv5_block2_1_relu_Relu_0 = F.relu(StatefulPartitionedCall_resnet50_conv5_block2_1_bn_FusedBatchNormV3_0)\n",
      "    StatefulPartitionedCall_resnet50_conv5_block2_2_bn_FusedBatchNormV3_0 = self.n_StatefulPartitionedCall_resnet50_conv5_block2_2_conv_Conv2D(StatefulPartitionedCall_resnet50_conv5_block2_1_relu_Relu_0)\n",
      "    StatefulPartitionedCall_resnet50_conv5_block2_2_relu_Relu_0 = F.relu(StatefulPartitionedCall_resnet50_conv5_block2_2_bn_FusedBatchNormV3_0)\n",
      "    StatefulPartitionedCall_resnet50_conv5_block2_3_bn_FusedBatchNormV3_0 = self.n_StatefulPartitionedCall_resnet50_conv5_block2_3_conv_Conv2D(StatefulPartitionedCall_resnet50_conv5_block2_2_relu_Relu_0)\n",
      "    StatefulPartitionedCall_resnet50_conv5_block2_add_add_0 = torch.add(StatefulPartitionedCall_resnet50_conv5_block1_out_Relu_0, StatefulPartitionedCall_resnet50_conv5_block2_3_bn_FusedBatchNormV3_0)\n",
      "    StatefulPartitionedCall_resnet50_conv5_block2_out_Relu_0 = F.relu(StatefulPartitionedCall_resnet50_conv5_block2_add_add_0)\n",
      "    StatefulPartitionedCall_resnet50_conv5_block3_1_bn_FusedBatchNormV3_0 = self.n_StatefulPartitionedCall_resnet50_conv5_block3_1_conv_Conv2D(StatefulPartitionedCall_resnet50_conv5_block2_out_Relu_0)\n",
      "    StatefulPartitionedCall_resnet50_conv5_block3_1_relu_Relu_0 = F.relu(StatefulPartitionedCall_resnet50_conv5_block3_1_bn_FusedBatchNormV3_0)\n",
      "    StatefulPartitionedCall_resnet50_conv5_block3_2_bn_FusedBatchNormV3_0 = self.n_StatefulPartitionedCall_resnet50_conv5_block3_2_conv_Conv2D(StatefulPartitionedCall_resnet50_conv5_block3_1_relu_Relu_0)\n",
      "    StatefulPartitionedCall_resnet50_conv5_block3_2_relu_Relu_0 = F.relu(StatefulPartitionedCall_resnet50_conv5_block3_2_bn_FusedBatchNormV3_0)\n",
      "    StatefulPartitionedCall_resnet50_conv5_block3_3_bn_FusedBatchNormV3_0 = self.n_StatefulPartitionedCall_resnet50_conv5_block3_3_conv_Conv2D(StatefulPartitionedCall_resnet50_conv5_block3_2_relu_Relu_0)\n",
      "    StatefulPartitionedCall_resnet50_conv5_block3_add_add_0 = torch.add(StatefulPartitionedCall_resnet50_conv5_block2_out_Relu_0, StatefulPartitionedCall_resnet50_conv5_block3_3_bn_FusedBatchNormV3_0)\n",
      "    StatefulPartitionedCall_resnet50_conv5_block3_out_Relu_0 = F.relu(StatefulPartitionedCall_resnet50_conv5_block3_add_add_0)\n",
      "    StatefulPartitionedCall_resnet50_avg_pool_Mean_0 = F.avg_pool2d(StatefulPartitionedCall_resnet50_conv5_block3_out_Relu_0, **{'kernel_size': StatefulPartitionedCall_resnet50_conv5_block3_out_Relu_0.shape[-2:]})\n",
      "    StatefulPartitionedCall_resnet50_avg_pool_Mean_Squeeze__610_0 = torch.squeeze(StatefulPartitionedCall_resnet50_avg_pool_Mean_0, 3)\n",
      "    StatefulPartitionedCall_resnet50_avg_pool_Mean_Squeeze__610_0 = torch.squeeze(StatefulPartitionedCall_resnet50_avg_pool_Mean_Squeeze__610_0, 2)\n",
      "    StatefulPartitionedCall_resnet50_predictions_MatMul_0 = torch.matmul(StatefulPartitionedCall_resnet50_avg_pool_Mean_Squeeze__610_0, self._vars[\"StatefulPartitionedCall_resnet50_predictions_MatMul_ReadVariableOp_0\"])\n",
      "    predictions = F.softmax(StatefulPartitionedCall_resnet50_predictions_MatMul_0, **{'dim': 1})\n",
      "    return predictions\n",
      "\n",
      "  def compatible_auto_pad(self, input, kernel_spatial_shape, nn_mod, auto_pad=None, **kwargs):\n",
      "    input_spatial_shape = input.shape[2:]\n",
      "    d = len(input_spatial_shape)\n",
      "    strides = nn_mod.stride\n",
      "    dilations = nn_mod.dilation\n",
      "    output_spatial_shape = [math.ceil(float(l) / float(r)) for l, r in zip(input.shape[2:], strides)]\n",
      "    pt_padding = [0] * 2 * d\n",
      "    pad_shape = [0] * d\n",
      "    for i in range(d):\n",
      "      pad_shape[i] = (output_spatial_shape[i] - 1) * strides[i] + ((kernel_spatial_shape[i] - 1) * dilations[i] + 1) - input_spatial_shape[i]\n",
      "      mean = pad_shape[i] // 2\n",
      "      if auto_pad == b\"SAME_UPPER\":\n",
      "        l, r = pad_shape[i] - mean, mean\n",
      "      else:\n",
      "        l, r = mean, pad_shape[i] - mean\n",
      "      pt_padding.insert(0, r)\n",
      "      pt_padding.insert(0, l)\n",
      "    return F.pad(input, pt_padding)\n",
      "\n",
      "@torch.no_grad()\n",
      "def test_run_model(inputs=[torch.from_numpy(np.random.randn(*[1, 224, 224, 3]).astype(np.float32))]):\n",
      "  model = Model()\n",
      "  model.eval()\n",
      "  rs = model(*inputs)\n",
      "  print(rs)\n",
      "  return rs\n",
      "\n"
     ]
    },
    {
     "name": "stdout",
     "output_type": "stream",
     "text": [
      "Running at iteration 1:\n",
      "top 5 fitness scores:  [0.72464743 0.73935993 0.77866345 0.82059598 0.80146135]\n",
      "Taken time: 31.592597723007202\n",
      "\n",
      "Running at iteration 2:\n",
      "top 5 fitness scores:  [0.82036047 0.82059598 0.8317709  0.82201459 0.82871376]\n",
      "Taken time: 26.68832015991211\n",
      "\n",
      "Running at iteration 3:\n",
      "top 5 fitness scores:  [0.8293788  0.8295822  0.84003119 0.8317709  0.83146078]\n",
      "Taken time: 28.979210376739502\n",
      "\n",
      "Running at iteration 4:\n",
      "top 5 fitness scores:  [0.8317709  0.84003119 0.84525171 0.84735258 0.84848487]\n",
      "Taken time: 33.87533473968506\n",
      "\n",
      "Running at iteration 5:\n",
      "top 5 fitness scores:  [0.84003119 0.84525171 0.84735258 0.84848487 0.8843065 ]\n",
      "Taken time: 32.742820739746094\n",
      "\n",
      "Running at iteration 6:\n",
      "top 5 fitness scores:  [0.84735258 0.84848487 0.85469702 0.8540314  0.8843065 ]\n",
      "Taken time: 32.27891492843628\n",
      "\n",
      "Running at iteration 7:\n",
      "top 5 fitness scores:  [0.8540314  0.85469702 0.8631451  0.86356913 0.8843065 ]\n",
      "Taken time: 31.673102140426636\n",
      "\n",
      "Running at iteration 8:\n",
      "top 5 fitness scores:  [0.85469702 0.86233485 0.8843065  0.8631451  0.86356913]\n",
      "Taken time: 31.199177980422974\n",
      "\n",
      "Running at iteration 9:\n",
      "top 5 fitness scores:  [0.86233485 0.8631451  0.86356913 0.8843065  0.88025247]\n",
      "Taken time: 30.610907077789307\n",
      "\n",
      "Running at iteration 10:\n",
      "top 5 fitness scores:  [0.8631451  0.86356913 0.86772666 0.8843065  0.88025247]\n",
      "Taken time: 30.62362289428711\n",
      "\n",
      "Total taken time: 310.283367395401\n",
      "F: []\n"
     ]
    },
    {
     "data": {
      "image/png": "[encoded data removed]",
      "text/plain": [
       "<Figure size 432x288 with 1 Axes>"
      ]
     },
     "metadata": {
      "needs_background": "light"
     },
     "output_type": "display_data"
    }
   ],
   "source": [
    "ga = GA(fit, model, dataset, input_shape, init_input_mut, init_weight_mut, r1, r2, m, n, db_flag)\n",
    "x, theta = ga.initPopulation()\n",
    "ga.prepareFitness()\n",
    "\n",
    "F, fits = ga_main(ga, r2, m, n, layer_idx, 10)\n",
    "\n",
    "plt.plot(fit_grad(fits))\n",
    "print(\"F: {}\".format(F))"
   ]
  },
  {
   "cell_type": "markdown",
   "metadata": {},
   "source": [
    "### Testing for Inconsistency fitness function"
   ]
  },
  {
   "cell_type": "code",
   "execution_count": 11,
   "metadata": {
    "scrolled": false
   },
   "outputs": [],
   "source": [
    "# parameters\n",
    "fit = [\"inc\", [\"tensorflow\", \"torch\"]]\n",
    "model = model\n",
    "dataset = x_test_224\n",
    "input_shape = x_test_224[0].shape\n",
    "init_input_mut = 0.1\n",
    "init_weight_mut = 0.0000001\n",
    "r1 = 0.5\n",
    "r2 = 0.1\n",
    "m = 5\n",
    "n = 50\n",
    "maxIter = 10\n",
    "db_flag = 1\n",
    "layer_idx = -1"
   ]
  },
  {
   "cell_type": "code",
   "execution_count": 12,
   "metadata": {
    "scrolled": true
   },
   "outputs": [
    {
     "name": "stdout",
     "output_type": "stream",
     "text": [
      "WARNING:tensorflow:Compiled the loaded model, but the compiled metrics have yet to be built. `model.compile_metrics` will be empty until you train or evaluate the model.\n"
     ]
    },
    {
     "name": "stderr",
     "output_type": "stream",
     "text": [
      "2022-01-12 10:28:03.424510: W tensorflow/python/util/util.cc:368] Sets are not currently considered sequences, but this may change in the future, so consider avoiding using them.\n"
     ]
    },
    {
     "name": "stdout",
     "output_type": "stream",
     "text": [
      "INFO:tensorflow:Assets written to: modeltensorflow/assets\n"
     ]
    },
    {
     "name": "stderr",
     "output_type": "stream",
     "text": [
      "/data/yylaiai/anaconda3/envs/fyp_v3/lib/python3.9/site-packages/keras/engine/functional.py:1410: CustomMaskWarning: Custom mask layers require a config and must override get_config. When loading, the custom mask layer must be passed to the custom_objects argument.\n",
      "  layer_config = serialize_layer_fn(layer)\n",
      "/data/yylaiai/anaconda3/envs/fyp_v3/lib/python3.9/site-packages/keras/saving/saved_model/layer_serialization.py:112: CustomMaskWarning: Custom mask layers require a config and must override get_config. When loading, the custom mask layer must be passed to the custom_objects argument.\n",
      "  return generic_utils.serialize_keras_object(obj)\n",
      "/data/yylaiai/anaconda3/envs/fyp_v3/bin/python: Error while finding module specification for 'tf2onnx.convert' (ModuleNotFoundError: No module named 'tf2onnx')\n",
      "WARNING:root:Cannot get default value for perm of Transpose.\n",
      "WARNING:root:Cannot get default value for dilations of Conv.\n",
      "WARNING:root:Cannot get default value for kernel_shape of Conv.\n",
      "WARNING:root:Cannot get default value for pads of Conv.\n",
      "WARNING:root:Cannot get default value for strides of Conv.\n",
      "WARNING:root:Cannot get default value for dilations of MaxPool.\n",
      "WARNING:root:Cannot get default value for kernel_shape of MaxPool.\n",
      "WARNING:root:Cannot get default value for pads of MaxPool.\n",
      "WARNING:root:Cannot get default value for strides of MaxPool.\n"
     ]
    },
    {
     "name": "stdout",
     "output_type": "stream",
     "text": [
      "# Autogenerated by onnx-pytorch.\n",
      "\n",
      "import glob\n",
      "import os\n",
      "import math\n",
      "\n",
      "import numpy as np\n",
      "import torch\n",
      "import torch.nn as nn\n",
      "import torch.nn.functional as F\n",
      "import torchvision\n",
      "\n",
      "\n",
      "class Model(nn.Module):\n",
      "  def __init__(self):\n",
      "    super(Model, self).__init__()\n",
      "    self._vars = nn.ParameterDict()\n",
      "    self._regularizer_params = []\n",
      "    for b in glob.glob(\n",
      "        os.path.join(os.path.dirname(__file__), \"variables\", \"*.npy\")):\n",
      "      v = torch.from_numpy(np.load(b))\n",
      "      requires_grad = v.dtype.is_floating_point or v.dtype.is_complex\n",
      "      self._vars[os.path.basename(b)[:-4]] = nn.Parameter(v, requires_grad=requires_grad)\n",
      "    self.n_Conv__434 = nn.Conv2d(**{'groups': 1, 'dilation': [1, 1], 'out_channels': 64, 'padding': [3, 3], 'kernel_size': (7, 7), 'stride': [2, 2], 'in_channels': 3, 'bias': True})\n",
      "    self.n_Conv__434.weight.data = self._vars[\"Conv__434_weights_fused_bn\"]\n",
      "    self.n_Conv__434.bias.data = self._vars[\"Conv__434_bias_fused_bn\"]\n",
      "    self.n_StatefulPartitionedCall_resnet50_pool1_pool_MaxPool = nn.MaxPool2d(**{'dilation': 1, 'kernel_size': [3, 3], 'ceil_mode': False, 'stride': [2, 2], 'return_indices': False})\n",
      "    self.n_StatefulPartitionedCall_resnet50_conv2_block1_1_conv_BiasAdd = nn.Conv2d(**{'groups': 1, 'dilation': [1, 1], 'out_channels': 64, 'padding': 0, 'kernel_size': (1, 1), 'stride': [1, 1], 'in_channels': 64, 'bias': True})\n",
      "    self.n_StatefulPartitionedCall_resnet50_conv2_block1_1_conv_BiasAdd.weight.data = self._vars[\"StatefulPartitionedCall_resnet50_conv2_block1_1_conv_BiasAdd_weights_fused_bn\"]\n",
      "    self.n_StatefulPartitionedCall_resnet50_conv2_block1_1_conv_BiasAdd.bias.data = self._vars[\"StatefulPartitionedCall_resnet50_conv2_block1_1_conv_BiasAdd_bias_fused_bn\"]\n",
      "    self.n_StatefulPartitionedCall_resnet50_conv2_block1_2_conv_BiasAdd = nn.Conv2d(**{'groups': 1, 'dilation': [1, 1], 'out_channels': 64, 'padding': [1, 1], 'kernel_size': (3, 3), 'stride': [1, 1], 'in_channels': 64, 'bias': True})\n",
      "    self.n_StatefulPartitionedCall_resnet50_conv2_block1_2_conv_BiasAdd.weight.data = self._vars[\"StatefulPartitionedCall_resnet50_conv2_block1_2_conv_BiasAdd_weights_fused_bn\"]\n",
      "    self.n_StatefulPartitionedCall_resnet50_conv2_block1_2_conv_BiasAdd.bias.data = self._vars[\"StatefulPartitionedCall_resnet50_conv2_block1_2_conv_BiasAdd_bias_fused_bn\"]\n",
      "    self.n_StatefulPartitionedCall_resnet50_conv2_block1_3_conv_BiasAdd = nn.Conv2d(**{'groups': 1, 'dilation': [1, 1], 'out_channels': 256, 'padding': 0, 'kernel_size': (1, 1), 'stride': [1, 1], 'in_channels': 64, 'bias': True})\n",
      "    self.n_StatefulPartitionedCall_resnet50_conv2_block1_3_conv_BiasAdd.weight.data = self._vars[\"StatefulPartitionedCall_resnet50_conv2_block1_3_conv_BiasAdd_weights_fused_bn\"]\n",
      "    self.n_StatefulPartitionedCall_resnet50_conv2_block1_3_conv_BiasAdd.bias.data = self._vars[\"StatefulPartitionedCall_resnet50_conv2_block1_3_conv_BiasAdd_bias_fused_bn\"]\n",
      "    self.n_StatefulPartitionedCall_resnet50_conv2_block1_0_conv_BiasAdd = nn.Conv2d(**{'groups': 1, 'dilation': [1, 1], 'out_channels': 256, 'padding': 0, 'kernel_size': (1, 1), 'stride': [1, 1], 'in_channels': 64, 'bias': True})\n",
      "    self.n_StatefulPartitionedCall_resnet50_conv2_block1_0_conv_BiasAdd.weight.data = self._vars[\"StatefulPartitionedCall_resnet50_conv2_block1_0_conv_BiasAdd_weights_fused_bn\"]\n",
      "    self.n_StatefulPartitionedCall_resnet50_conv2_block1_0_conv_BiasAdd.bias.data = self._vars[\"StatefulPartitionedCall_resnet50_conv2_block1_0_conv_BiasAdd_bias_fused_bn\"]\n",
      "    self.n_StatefulPartitionedCall_resnet50_conv2_block2_1_conv_BiasAdd = nn.Conv2d(**{'groups': 1, 'dilation': [1, 1], 'out_channels': 64, 'padding': 0, 'kernel_size': (1, 1), 'stride': [1, 1], 'in_channels': 256, 'bias': True})\n",
      "    self.n_StatefulPartitionedCall_resnet50_conv2_block2_1_conv_BiasAdd.weight.data = self._vars[\"StatefulPartitionedCall_resnet50_conv2_block2_1_conv_BiasAdd_weights_fused_bn\"]\n",
      "    self.n_StatefulPartitionedCall_resnet50_conv2_block2_1_conv_BiasAdd.bias.data = self._vars[\"StatefulPartitionedCall_resnet50_conv2_block2_1_conv_BiasAdd_bias_fused_bn\"]\n",
      "    self.n_StatefulPartitionedCall_resnet50_conv2_block2_2_conv_BiasAdd = nn.Conv2d(**{'groups': 1, 'dilation': [1, 1], 'out_channels': 64, 'padding': [1, 1], 'kernel_size': (3, 3), 'stride': [1, 1], 'in_channels': 64, 'bias': True})\n",
      "    self.n_StatefulPartitionedCall_resnet50_conv2_block2_2_conv_BiasAdd.weight.data = self._vars[\"StatefulPartitionedCall_resnet50_conv2_block2_2_conv_BiasAdd_weights_fused_bn\"]\n",
      "    self.n_StatefulPartitionedCall_resnet50_conv2_block2_2_conv_BiasAdd.bias.data = self._vars[\"StatefulPartitionedCall_resnet50_conv2_block2_2_conv_BiasAdd_bias_fused_bn\"]\n",
      "    self.n_StatefulPartitionedCall_resnet50_conv2_block2_3_conv_BiasAdd = nn.Conv2d(**{'groups': 1, 'dilation': [1, 1], 'out_channels': 256, 'padding': 0, 'kernel_size': (1, 1), 'stride': [1, 1], 'in_channels': 64, 'bias': True})\n",
      "    self.n_StatefulPartitionedCall_resnet50_conv2_block2_3_conv_BiasAdd.weight.data = self._vars[\"StatefulPartitionedCall_resnet50_conv2_block2_3_conv_BiasAdd_weights_fused_bn\"]\n",
      "    self.n_StatefulPartitionedCall_resnet50_conv2_block2_3_conv_BiasAdd.bias.data = self._vars[\"StatefulPartitionedCall_resnet50_conv2_block2_3_conv_BiasAdd_bias_fused_bn\"]\n",
      "    self.n_StatefulPartitionedCall_resnet50_conv2_block3_1_conv_BiasAdd = nn.Conv2d(**{'groups': 1, 'dilation': [1, 1], 'out_channels': 64, 'padding': 0, 'kernel_size': (1, 1), 'stride': [1, 1], 'in_channels': 256, 'bias': True})\n",
      "    self.n_StatefulPartitionedCall_resnet50_conv2_block3_1_conv_BiasAdd.weight.data = self._vars[\"StatefulPartitionedCall_resnet50_conv2_block3_1_conv_BiasAdd_weights_fused_bn\"]\n",
      "    self.n_StatefulPartitionedCall_resnet50_conv2_block3_1_conv_BiasAdd.bias.data = self._vars[\"StatefulPartitionedCall_resnet50_conv2_block3_1_conv_BiasAdd_bias_fused_bn\"]\n",
      "    self.n_StatefulPartitionedCall_resnet50_conv2_block3_2_conv_BiasAdd = nn.Conv2d(**{'groups': 1, 'dilation': [1, 1], 'out_channels': 64, 'padding': [1, 1], 'kernel_size': (3, 3), 'stride': [1, 1], 'in_channels': 64, 'bias': True})\n",
      "    self.n_StatefulPartitionedCall_resnet50_conv2_block3_2_conv_BiasAdd.weight.data = self._vars[\"StatefulPartitionedCall_resnet50_conv2_block3_2_conv_BiasAdd_weights_fused_bn\"]\n",
      "    self.n_StatefulPartitionedCall_resnet50_conv2_block3_2_conv_BiasAdd.bias.data = self._vars[\"StatefulPartitionedCall_resnet50_conv2_block3_2_conv_BiasAdd_bias_fused_bn\"]\n",
      "    self.n_StatefulPartitionedCall_resnet50_conv2_block3_3_conv_BiasAdd = nn.Conv2d(**{'groups': 1, 'dilation': [1, 1], 'out_channels': 256, 'padding': 0, 'kernel_size': (1, 1), 'stride': [1, 1], 'in_channels': 64, 'bias': True})\n",
      "    self.n_StatefulPartitionedCall_resnet50_conv2_block3_3_conv_BiasAdd.weight.data = self._vars[\"StatefulPartitionedCall_resnet50_conv2_block3_3_conv_BiasAdd_weights_fused_bn\"]\n",
      "    self.n_StatefulPartitionedCall_resnet50_conv2_block3_3_conv_BiasAdd.bias.data = self._vars[\"StatefulPartitionedCall_resnet50_conv2_block3_3_conv_BiasAdd_bias_fused_bn\"]\n",
      "    self.n_StatefulPartitionedCall_resnet50_conv3_block1_1_conv_BiasAdd = nn.Conv2d(**{'groups': 1, 'dilation': [1, 1], 'out_channels': 128, 'padding': 0, 'kernel_size': (1, 1), 'stride': [2, 2], 'in_channels': 256, 'bias': True})\n",
      "    self.n_StatefulPartitionedCall_resnet50_conv3_block1_1_conv_BiasAdd.weight.data = self._vars[\"StatefulPartitionedCall_resnet50_conv3_block1_1_conv_BiasAdd_weights_fused_bn\"]\n",
      "    self.n_StatefulPartitionedCall_resnet50_conv3_block1_1_conv_BiasAdd.bias.data = self._vars[\"StatefulPartitionedCall_resnet50_conv3_block1_1_conv_BiasAdd_bias_fused_bn\"]\n",
      "    self.n_StatefulPartitionedCall_resnet50_conv3_block1_2_conv_BiasAdd = nn.Conv2d(**{'groups': 1, 'dilation': [1, 1], 'out_channels': 128, 'padding': [1, 1], 'kernel_size': (3, 3), 'stride': [1, 1], 'in_channels': 128, 'bias': True})\n",
      "    self.n_StatefulPartitionedCall_resnet50_conv3_block1_2_conv_BiasAdd.weight.data = self._vars[\"StatefulPartitionedCall_resnet50_conv3_block1_2_conv_BiasAdd_weights_fused_bn\"]\n",
      "    self.n_StatefulPartitionedCall_resnet50_conv3_block1_2_conv_BiasAdd.bias.data = self._vars[\"StatefulPartitionedCall_resnet50_conv3_block1_2_conv_BiasAdd_bias_fused_bn\"]\n",
      "    self.n_StatefulPartitionedCall_resnet50_conv3_block1_3_conv_BiasAdd = nn.Conv2d(**{'groups': 1, 'dilation': [1, 1], 'out_channels': 512, 'padding': 0, 'kernel_size': (1, 1), 'stride': [1, 1], 'in_channels': 128, 'bias': True})\n",
      "    self.n_StatefulPartitionedCall_resnet50_conv3_block1_3_conv_BiasAdd.weight.data = self._vars[\"StatefulPartitionedCall_resnet50_conv3_block1_3_conv_BiasAdd_weights_fused_bn\"]\n",
      "    self.n_StatefulPartitionedCall_resnet50_conv3_block1_3_conv_BiasAdd.bias.data = self._vars[\"StatefulPartitionedCall_resnet50_conv3_block1_3_conv_BiasAdd_bias_fused_bn\"]\n",
      "    self.n_StatefulPartitionedCall_resnet50_conv3_block1_0_conv_BiasAdd = nn.Conv2d(**{'groups': 1, 'dilation': [1, 1], 'out_channels': 512, 'padding': 0, 'kernel_size': (1, 1), 'stride': [2, 2], 'in_channels': 256, 'bias': True})\n",
      "    self.n_StatefulPartitionedCall_resnet50_conv3_block1_0_conv_BiasAdd.weight.data = self._vars[\"StatefulPartitionedCall_resnet50_conv3_block1_0_conv_BiasAdd_weights_fused_bn\"]\n",
      "    self.n_StatefulPartitionedCall_resnet50_conv3_block1_0_conv_BiasAdd.bias.data = self._vars[\"StatefulPartitionedCall_resnet50_conv3_block1_0_conv_BiasAdd_bias_fused_bn\"]\n",
      "    self.n_StatefulPartitionedCall_resnet50_conv3_block2_1_conv_BiasAdd = nn.Conv2d(**{'groups': 1, 'dilation': [1, 1], 'out_channels': 128, 'padding': 0, 'kernel_size': (1, 1), 'stride': [1, 1], 'in_channels': 512, 'bias': True})\n",
      "    self.n_StatefulPartitionedCall_resnet50_conv3_block2_1_conv_BiasAdd.weight.data = self._vars[\"StatefulPartitionedCall_resnet50_conv3_block2_1_conv_BiasAdd_weights_fused_bn\"]\n",
      "    self.n_StatefulPartitionedCall_resnet50_conv3_block2_1_conv_BiasAdd.bias.data = self._vars[\"StatefulPartitionedCall_resnet50_conv3_block2_1_conv_BiasAdd_bias_fused_bn\"]\n",
      "    self.n_StatefulPartitionedCall_resnet50_conv3_block2_2_conv_BiasAdd = nn.Conv2d(**{'groups': 1, 'dilation': [1, 1], 'out_channels': 128, 'padding': [1, 1], 'kernel_size': (3, 3), 'stride': [1, 1], 'in_channels': 128, 'bias': True})\n",
      "    self.n_StatefulPartitionedCall_resnet50_conv3_block2_2_conv_BiasAdd.weight.data = self._vars[\"StatefulPartitionedCall_resnet50_conv3_block2_2_conv_BiasAdd_weights_fused_bn\"]\n",
      "    self.n_StatefulPartitionedCall_resnet50_conv3_block2_2_conv_BiasAdd.bias.data = self._vars[\"StatefulPartitionedCall_resnet50_conv3_block2_2_conv_BiasAdd_bias_fused_bn\"]\n",
      "    self.n_StatefulPartitionedCall_resnet50_conv3_block2_3_conv_BiasAdd = nn.Conv2d(**{'groups': 1, 'dilation': [1, 1], 'out_channels': 512, 'padding': 0, 'kernel_size': (1, 1), 'stride': [1, 1], 'in_channels': 128, 'bias': True})\n",
      "    self.n_StatefulPartitionedCall_resnet50_conv3_block2_3_conv_BiasAdd.weight.data = self._vars[\"StatefulPartitionedCall_resnet50_conv3_block2_3_conv_BiasAdd_weights_fused_bn\"]\n",
      "    self.n_StatefulPartitionedCall_resnet50_conv3_block2_3_conv_BiasAdd.bias.data = self._vars[\"StatefulPartitionedCall_resnet50_conv3_block2_3_conv_BiasAdd_bias_fused_bn\"]\n",
      "    self.n_StatefulPartitionedCall_resnet50_conv3_block3_1_conv_BiasAdd = nn.Conv2d(**{'groups': 1, 'dilation': [1, 1], 'out_channels': 128, 'padding': 0, 'kernel_size': (1, 1), 'stride': [1, 1], 'in_channels': 512, 'bias': True})\n",
      "    self.n_StatefulPartitionedCall_resnet50_conv3_block3_1_conv_BiasAdd.weight.data = self._vars[\"StatefulPartitionedCall_resnet50_conv3_block3_1_conv_BiasAdd_weights_fused_bn\"]\n",
      "    self.n_StatefulPartitionedCall_resnet50_conv3_block3_1_conv_BiasAdd.bias.data = self._vars[\"StatefulPartitionedCall_resnet50_conv3_block3_1_conv_BiasAdd_bias_fused_bn\"]\n",
      "    self.n_StatefulPartitionedCall_resnet50_conv3_block3_2_conv_BiasAdd = nn.Conv2d(**{'groups': 1, 'dilation': [1, 1], 'out_channels': 128, 'padding': [1, 1], 'kernel_size': (3, 3), 'stride': [1, 1], 'in_channels': 128, 'bias': True})\n",
      "    self.n_StatefulPartitionedCall_resnet50_conv3_block3_2_conv_BiasAdd.weight.data = self._vars[\"StatefulPartitionedCall_resnet50_conv3_block3_2_conv_BiasAdd_weights_fused_bn\"]\n",
      "    self.n_StatefulPartitionedCall_resnet50_conv3_block3_2_conv_BiasAdd.bias.data = self._vars[\"StatefulPartitionedCall_resnet50_conv3_block3_2_conv_BiasAdd_bias_fused_bn\"]\n",
      "    self.n_StatefulPartitionedCall_resnet50_conv3_block3_3_conv_BiasAdd = nn.Conv2d(**{'groups': 1, 'dilation': [1, 1], 'out_channels': 512, 'padding': 0, 'kernel_size': (1, 1), 'stride': [1, 1], 'in_channels': 128, 'bias': True})\n",
      "    self.n_StatefulPartitionedCall_resnet50_conv3_block3_3_conv_BiasAdd.weight.data = self._vars[\"StatefulPartitionedCall_resnet50_conv3_block3_3_conv_BiasAdd_weights_fused_bn\"]\n",
      "    self.n_StatefulPartitionedCall_resnet50_conv3_block3_3_conv_BiasAdd.bias.data = self._vars[\"StatefulPartitionedCall_resnet50_conv3_block3_3_conv_BiasAdd_bias_fused_bn\"]\n",
      "    self.n_StatefulPartitionedCall_resnet50_conv3_block4_1_conv_BiasAdd = nn.Conv2d(**{'groups': 1, 'dilation': [1, 1], 'out_channels': 128, 'padding': 0, 'kernel_size': (1, 1), 'stride': [1, 1], 'in_channels': 512, 'bias': True})\n",
      "    self.n_StatefulPartitionedCall_resnet50_conv3_block4_1_conv_BiasAdd.weight.data = self._vars[\"StatefulPartitionedCall_resnet50_conv3_block4_1_conv_BiasAdd_weights_fused_bn\"]\n",
      "    self.n_StatefulPartitionedCall_resnet50_conv3_block4_1_conv_BiasAdd.bias.data = self._vars[\"StatefulPartitionedCall_resnet50_conv3_block4_1_conv_BiasAdd_bias_fused_bn\"]\n",
      "    self.n_StatefulPartitionedCall_resnet50_conv3_block4_2_conv_BiasAdd = nn.Conv2d(**{'groups': 1, 'dilation': [1, 1], 'out_channels': 128, 'padding': [1, 1], 'kernel_size': (3, 3), 'stride': [1, 1], 'in_channels': 128, 'bias': True})\n",
      "    self.n_StatefulPartitionedCall_resnet50_conv3_block4_2_conv_BiasAdd.weight.data = self._vars[\"StatefulPartitionedCall_resnet50_conv3_block4_2_conv_BiasAdd_weights_fused_bn\"]\n",
      "    self.n_StatefulPartitionedCall_resnet50_conv3_block4_2_conv_BiasAdd.bias.data = self._vars[\"StatefulPartitionedCall_resnet50_conv3_block4_2_conv_BiasAdd_bias_fused_bn\"]\n",
      "    self.n_StatefulPartitionedCall_resnet50_conv3_block4_3_conv_BiasAdd = nn.Conv2d(**{'groups': 1, 'dilation': [1, 1], 'out_channels': 512, 'padding': 0, 'kernel_size': (1, 1), 'stride': [1, 1], 'in_channels': 128, 'bias': True})\n",
      "    self.n_StatefulPartitionedCall_resnet50_conv3_block4_3_conv_BiasAdd.weight.data = self._vars[\"StatefulPartitionedCall_resnet50_conv3_block4_3_conv_BiasAdd_weights_fused_bn\"]\n",
      "    self.n_StatefulPartitionedCall_resnet50_conv3_block4_3_conv_BiasAdd.bias.data = self._vars[\"StatefulPartitionedCall_resnet50_conv3_block4_3_conv_BiasAdd_bias_fused_bn\"]\n",
      "    self.n_StatefulPartitionedCall_resnet50_conv4_block1_1_conv_BiasAdd = nn.Conv2d(**{'groups': 1, 'dilation': [1, 1], 'out_channels': 256, 'padding': 0, 'kernel_size': (1, 1), 'stride': [2, 2], 'in_channels': 512, 'bias': True})\n",
      "    self.n_StatefulPartitionedCall_resnet50_conv4_block1_1_conv_BiasAdd.weight.data = self._vars[\"StatefulPartitionedCall_resnet50_conv4_block1_1_conv_BiasAdd_weights_fused_bn\"]\n",
      "    self.n_StatefulPartitionedCall_resnet50_conv4_block1_1_conv_BiasAdd.bias.data = self._vars[\"StatefulPartitionedCall_resnet50_conv4_block1_1_conv_BiasAdd_bias_fused_bn\"]\n",
      "    self.n_StatefulPartitionedCall_resnet50_conv4_block1_2_conv_BiasAdd = nn.Conv2d(**{'groups': 1, 'dilation': [1, 1], 'out_channels': 256, 'padding': [1, 1], 'kernel_size': (3, 3), 'stride': [1, 1], 'in_channels': 256, 'bias': True})\n",
      "    self.n_StatefulPartitionedCall_resnet50_conv4_block1_2_conv_BiasAdd.weight.data = self._vars[\"StatefulPartitionedCall_resnet50_conv4_block1_2_conv_BiasAdd_weights_fused_bn\"]\n",
      "    self.n_StatefulPartitionedCall_resnet50_conv4_block1_2_conv_BiasAdd.bias.data = self._vars[\"StatefulPartitionedCall_resnet50_conv4_block1_2_conv_BiasAdd_bias_fused_bn\"]\n",
      "    self.n_StatefulPartitionedCall_resnet50_conv4_block1_3_conv_BiasAdd = nn.Conv2d(**{'groups': 1, 'dilation': [1, 1], 'out_channels': 1024, 'padding': 0, 'kernel_size': (1, 1), 'stride': [1, 1], 'in_channels': 256, 'bias': True})\n",
      "    self.n_StatefulPartitionedCall_resnet50_conv4_block1_3_conv_BiasAdd.weight.data = self._vars[\"StatefulPartitionedCall_resnet50_conv4_block1_3_conv_BiasAdd_weights_fused_bn\"]\n",
      "    self.n_StatefulPartitionedCall_resnet50_conv4_block1_3_conv_BiasAdd.bias.data = self._vars[\"StatefulPartitionedCall_resnet50_conv4_block1_3_conv_BiasAdd_bias_fused_bn\"]\n",
      "    self.n_StatefulPartitionedCall_resnet50_conv4_block1_0_conv_BiasAdd = nn.Conv2d(**{'groups': 1, 'dilation': [1, 1], 'out_channels': 1024, 'padding': 0, 'kernel_size': (1, 1), 'stride': [2, 2], 'in_channels': 512, 'bias': True})\n",
      "    self.n_StatefulPartitionedCall_resnet50_conv4_block1_0_conv_BiasAdd.weight.data = self._vars[\"StatefulPartitionedCall_resnet50_conv4_block1_0_conv_BiasAdd_weights_fused_bn\"]\n",
      "    self.n_StatefulPartitionedCall_resnet50_conv4_block1_0_conv_BiasAdd.bias.data = self._vars[\"StatefulPartitionedCall_resnet50_conv4_block1_0_conv_BiasAdd_bias_fused_bn\"]\n",
      "    self.n_StatefulPartitionedCall_resnet50_conv4_block2_1_conv_BiasAdd = nn.Conv2d(**{'groups': 1, 'dilation': [1, 1], 'out_channels': 256, 'padding': 0, 'kernel_size': (1, 1), 'stride': [1, 1], 'in_channels': 1024, 'bias': True})\n",
      "    self.n_StatefulPartitionedCall_resnet50_conv4_block2_1_conv_BiasAdd.weight.data = self._vars[\"StatefulPartitionedCall_resnet50_conv4_block2_1_conv_BiasAdd_weights_fused_bn\"]\n",
      "    self.n_StatefulPartitionedCall_resnet50_conv4_block2_1_conv_BiasAdd.bias.data = self._vars[\"StatefulPartitionedCall_resnet50_conv4_block2_1_conv_BiasAdd_bias_fused_bn\"]\n",
      "    self.n_StatefulPartitionedCall_resnet50_conv4_block2_2_conv_BiasAdd = nn.Conv2d(**{'groups': 1, 'dilation': [1, 1], 'out_channels': 256, 'padding': [1, 1], 'kernel_size': (3, 3), 'stride': [1, 1], 'in_channels': 256, 'bias': True})\n",
      "    self.n_StatefulPartitionedCall_resnet50_conv4_block2_2_conv_BiasAdd.weight.data = self._vars[\"StatefulPartitionedCall_resnet50_conv4_block2_2_conv_BiasAdd_weights_fused_bn\"]\n",
      "    self.n_StatefulPartitionedCall_resnet50_conv4_block2_2_conv_BiasAdd.bias.data = self._vars[\"StatefulPartitionedCall_resnet50_conv4_block2_2_conv_BiasAdd_bias_fused_bn\"]\n",
      "    self.n_StatefulPartitionedCall_resnet50_conv4_block2_3_conv_BiasAdd = nn.Conv2d(**{'groups': 1, 'dilation': [1, 1], 'out_channels': 1024, 'padding': 0, 'kernel_size': (1, 1), 'stride': [1, 1], 'in_channels': 256, 'bias': True})\n",
      "    self.n_StatefulPartitionedCall_resnet50_conv4_block2_3_conv_BiasAdd.weight.data = self._vars[\"StatefulPartitionedCall_resnet50_conv4_block2_3_conv_BiasAdd_weights_fused_bn\"]\n",
      "    self.n_StatefulPartitionedCall_resnet50_conv4_block2_3_conv_BiasAdd.bias.data = self._vars[\"StatefulPartitionedCall_resnet50_conv4_block2_3_conv_BiasAdd_bias_fused_bn\"]\n",
      "    self.n_StatefulPartitionedCall_resnet50_conv4_block3_1_conv_BiasAdd = nn.Conv2d(**{'groups': 1, 'dilation': [1, 1], 'out_channels': 256, 'padding': 0, 'kernel_size': (1, 1), 'stride': [1, 1], 'in_channels': 1024, 'bias': True})\n",
      "    self.n_StatefulPartitionedCall_resnet50_conv4_block3_1_conv_BiasAdd.weight.data = self._vars[\"StatefulPartitionedCall_resnet50_conv4_block3_1_conv_BiasAdd_weights_fused_bn\"]\n",
      "    self.n_StatefulPartitionedCall_resnet50_conv4_block3_1_conv_BiasAdd.bias.data = self._vars[\"StatefulPartitionedCall_resnet50_conv4_block3_1_conv_BiasAdd_bias_fused_bn\"]\n",
      "    self.n_StatefulPartitionedCall_resnet50_conv4_block3_2_conv_BiasAdd = nn.Conv2d(**{'groups': 1, 'dilation': [1, 1], 'out_channels': 256, 'padding': [1, 1], 'kernel_size': (3, 3), 'stride': [1, 1], 'in_channels': 256, 'bias': True})\n",
      "    self.n_StatefulPartitionedCall_resnet50_conv4_block3_2_conv_BiasAdd.weight.data = self._vars[\"StatefulPartitionedCall_resnet50_conv4_block3_2_conv_BiasAdd_weights_fused_bn\"]\n",
      "    self.n_StatefulPartitionedCall_resnet50_conv4_block3_2_conv_BiasAdd.bias.data = self._vars[\"StatefulPartitionedCall_resnet50_conv4_block3_2_conv_BiasAdd_bias_fused_bn\"]\n",
      "    self.n_StatefulPartitionedCall_resnet50_conv4_block3_3_conv_BiasAdd = nn.Conv2d(**{'groups': 1, 'dilation': [1, 1], 'out_channels': 1024, 'padding': 0, 'kernel_size': (1, 1), 'stride': [1, 1], 'in_channels': 256, 'bias': True})\n",
      "    self.n_StatefulPartitionedCall_resnet50_conv4_block3_3_conv_BiasAdd.weight.data = self._vars[\"StatefulPartitionedCall_resnet50_conv4_block3_3_conv_BiasAdd_weights_fused_bn\"]\n",
      "    self.n_StatefulPartitionedCall_resnet50_conv4_block3_3_conv_BiasAdd.bias.data = self._vars[\"StatefulPartitionedCall_resnet50_conv4_block3_3_conv_BiasAdd_bias_fused_bn\"]\n",
      "    self.n_StatefulPartitionedCall_resnet50_conv4_block4_1_conv_BiasAdd = nn.Conv2d(**{'groups': 1, 'dilation': [1, 1], 'out_channels': 256, 'padding': 0, 'kernel_size': (1, 1), 'stride': [1, 1], 'in_channels': 1024, 'bias': True})\n",
      "    self.n_StatefulPartitionedCall_resnet50_conv4_block4_1_conv_BiasAdd.weight.data = self._vars[\"StatefulPartitionedCall_resnet50_conv4_block4_1_conv_BiasAdd_weights_fused_bn\"]\n",
      "    self.n_StatefulPartitionedCall_resnet50_conv4_block4_1_conv_BiasAdd.bias.data = self._vars[\"StatefulPartitionedCall_resnet50_conv4_block4_1_conv_BiasAdd_bias_fused_bn\"]\n",
      "    self.n_StatefulPartitionedCall_resnet50_conv4_block4_2_conv_BiasAdd = nn.Conv2d(**{'groups': 1, 'dilation': [1, 1], 'out_channels': 256, 'padding': [1, 1], 'kernel_size': (3, 3), 'stride': [1, 1], 'in_channels': 256, 'bias': True})\n",
      "    self.n_StatefulPartitionedCall_resnet50_conv4_block4_2_conv_BiasAdd.weight.data = self._vars[\"StatefulPartitionedCall_resnet50_conv4_block4_2_conv_BiasAdd_weights_fused_bn\"]\n",
      "    self.n_StatefulPartitionedCall_resnet50_conv4_block4_2_conv_BiasAdd.bias.data = self._vars[\"StatefulPartitionedCall_resnet50_conv4_block4_2_conv_BiasAdd_bias_fused_bn\"]\n",
      "    self.n_StatefulPartitionedCall_resnet50_conv4_block4_3_conv_BiasAdd = nn.Conv2d(**{'groups': 1, 'dilation': [1, 1], 'out_channels': 1024, 'padding': 0, 'kernel_size': (1, 1), 'stride': [1, 1], 'in_channels': 256, 'bias': True})\n",
      "    self.n_StatefulPartitionedCall_resnet50_conv4_block4_3_conv_BiasAdd.weight.data = self._vars[\"StatefulPartitionedCall_resnet50_conv4_block4_3_conv_BiasAdd_weights_fused_bn\"]\n",
      "    self.n_StatefulPartitionedCall_resnet50_conv4_block4_3_conv_BiasAdd.bias.data = self._vars[\"StatefulPartitionedCall_resnet50_conv4_block4_3_conv_BiasAdd_bias_fused_bn\"]\n",
      "    self.n_StatefulPartitionedCall_resnet50_conv4_block5_1_conv_BiasAdd = nn.Conv2d(**{'groups': 1, 'dilation': [1, 1], 'out_channels': 256, 'padding': 0, 'kernel_size': (1, 1), 'stride': [1, 1], 'in_channels': 1024, 'bias': True})\n",
      "    self.n_StatefulPartitionedCall_resnet50_conv4_block5_1_conv_BiasAdd.weight.data = self._vars[\"StatefulPartitionedCall_resnet50_conv4_block5_1_conv_BiasAdd_weights_fused_bn\"]\n",
      "    self.n_StatefulPartitionedCall_resnet50_conv4_block5_1_conv_BiasAdd.bias.data = self._vars[\"StatefulPartitionedCall_resnet50_conv4_block5_1_conv_BiasAdd_bias_fused_bn\"]\n",
      "    self.n_StatefulPartitionedCall_resnet50_conv4_block5_2_conv_BiasAdd = nn.Conv2d(**{'groups': 1, 'dilation': [1, 1], 'out_channels': 256, 'padding': [1, 1], 'kernel_size': (3, 3), 'stride': [1, 1], 'in_channels': 256, 'bias': True})\n",
      "    self.n_StatefulPartitionedCall_resnet50_conv4_block5_2_conv_BiasAdd.weight.data = self._vars[\"StatefulPartitionedCall_resnet50_conv4_block5_2_conv_BiasAdd_weights_fused_bn\"]\n",
      "    self.n_StatefulPartitionedCall_resnet50_conv4_block5_2_conv_BiasAdd.bias.data = self._vars[\"StatefulPartitionedCall_resnet50_conv4_block5_2_conv_BiasAdd_bias_fused_bn\"]\n",
      "    self.n_StatefulPartitionedCall_resnet50_conv4_block5_3_conv_BiasAdd = nn.Conv2d(**{'groups': 1, 'dilation': [1, 1], 'out_channels': 1024, 'padding': 0, 'kernel_size': (1, 1), 'stride': [1, 1], 'in_channels': 256, 'bias': True})\n",
      "    self.n_StatefulPartitionedCall_resnet50_conv4_block5_3_conv_BiasAdd.weight.data = self._vars[\"StatefulPartitionedCall_resnet50_conv4_block5_3_conv_BiasAdd_weights_fused_bn\"]\n",
      "    self.n_StatefulPartitionedCall_resnet50_conv4_block5_3_conv_BiasAdd.bias.data = self._vars[\"StatefulPartitionedCall_resnet50_conv4_block5_3_conv_BiasAdd_bias_fused_bn\"]\n",
      "    self.n_StatefulPartitionedCall_resnet50_conv4_block6_1_conv_BiasAdd = nn.Conv2d(**{'groups': 1, 'dilation': [1, 1], 'out_channels': 256, 'padding': 0, 'kernel_size': (1, 1), 'stride': [1, 1], 'in_channels': 1024, 'bias': True})\n",
      "    self.n_StatefulPartitionedCall_resnet50_conv4_block6_1_conv_BiasAdd.weight.data = self._vars[\"StatefulPartitionedCall_resnet50_conv4_block6_1_conv_BiasAdd_weights_fused_bn\"]\n",
      "    self.n_StatefulPartitionedCall_resnet50_conv4_block6_1_conv_BiasAdd.bias.data = self._vars[\"StatefulPartitionedCall_resnet50_conv4_block6_1_conv_BiasAdd_bias_fused_bn\"]\n",
      "    self.n_StatefulPartitionedCall_resnet50_conv4_block6_2_conv_BiasAdd = nn.Conv2d(**{'groups': 1, 'dilation': [1, 1], 'out_channels': 256, 'padding': [1, 1], 'kernel_size': (3, 3), 'stride': [1, 1], 'in_channels': 256, 'bias': True})\n",
      "    self.n_StatefulPartitionedCall_resnet50_conv4_block6_2_conv_BiasAdd.weight.data = self._vars[\"StatefulPartitionedCall_resnet50_conv4_block6_2_conv_BiasAdd_weights_fused_bn\"]\n",
      "    self.n_StatefulPartitionedCall_resnet50_conv4_block6_2_conv_BiasAdd.bias.data = self._vars[\"StatefulPartitionedCall_resnet50_conv4_block6_2_conv_BiasAdd_bias_fused_bn\"]\n",
      "    self.n_StatefulPartitionedCall_resnet50_conv4_block6_3_conv_BiasAdd = nn.Conv2d(**{'groups': 1, 'dilation': [1, 1], 'out_channels': 1024, 'padding': 0, 'kernel_size': (1, 1), 'stride': [1, 1], 'in_channels': 256, 'bias': True})\n",
      "    self.n_StatefulPartitionedCall_resnet50_conv4_block6_3_conv_BiasAdd.weight.data = self._vars[\"StatefulPartitionedCall_resnet50_conv4_block6_3_conv_BiasAdd_weights_fused_bn\"]\n",
      "    self.n_StatefulPartitionedCall_resnet50_conv4_block6_3_conv_BiasAdd.bias.data = self._vars[\"StatefulPartitionedCall_resnet50_conv4_block6_3_conv_BiasAdd_bias_fused_bn\"]\n",
      "    self.n_StatefulPartitionedCall_resnet50_conv5_block1_1_conv_BiasAdd = nn.Conv2d(**{'groups': 1, 'dilation': [1, 1], 'out_channels': 512, 'padding': 0, 'kernel_size': (1, 1), 'stride': [2, 2], 'in_channels': 1024, 'bias': True})\n",
      "    self.n_StatefulPartitionedCall_resnet50_conv5_block1_1_conv_BiasAdd.weight.data = self._vars[\"StatefulPartitionedCall_resnet50_conv5_block1_1_conv_BiasAdd_weights_fused_bn\"]\n",
      "    self.n_StatefulPartitionedCall_resnet50_conv5_block1_1_conv_BiasAdd.bias.data = self._vars[\"StatefulPartitionedCall_resnet50_conv5_block1_1_conv_BiasAdd_bias_fused_bn\"]\n",
      "    self.n_StatefulPartitionedCall_resnet50_conv5_block1_2_conv_BiasAdd = nn.Conv2d(**{'groups': 1, 'dilation': [1, 1], 'out_channels': 512, 'padding': [1, 1], 'kernel_size': (3, 3), 'stride': [1, 1], 'in_channels': 512, 'bias': True})\n",
      "    self.n_StatefulPartitionedCall_resnet50_conv5_block1_2_conv_BiasAdd.weight.data = self._vars[\"StatefulPartitionedCall_resnet50_conv5_block1_2_conv_BiasAdd_weights_fused_bn\"]\n",
      "    self.n_StatefulPartitionedCall_resnet50_conv5_block1_2_conv_BiasAdd.bias.data = self._vars[\"StatefulPartitionedCall_resnet50_conv5_block1_2_conv_BiasAdd_bias_fused_bn\"]\n",
      "    self.n_StatefulPartitionedCall_resnet50_conv5_block1_3_conv_BiasAdd = nn.Conv2d(**{'groups': 1, 'dilation': [1, 1], 'out_channels': 2048, 'padding': 0, 'kernel_size': (1, 1), 'stride': [1, 1], 'in_channels': 512, 'bias': True})\n",
      "    self.n_StatefulPartitionedCall_resnet50_conv5_block1_3_conv_BiasAdd.weight.data = self._vars[\"StatefulPartitionedCall_resnet50_conv5_block1_3_conv_BiasAdd_weights_fused_bn\"]\n",
      "    self.n_StatefulPartitionedCall_resnet50_conv5_block1_3_conv_BiasAdd.bias.data = self._vars[\"StatefulPartitionedCall_resnet50_conv5_block1_3_conv_BiasAdd_bias_fused_bn\"]\n",
      "    self.n_StatefulPartitionedCall_resnet50_conv5_block1_0_conv_BiasAdd = nn.Conv2d(**{'groups': 1, 'dilation': [1, 1], 'out_channels': 2048, 'padding': 0, 'kernel_size': (1, 1), 'stride': [2, 2], 'in_channels': 1024, 'bias': True})\n",
      "    self.n_StatefulPartitionedCall_resnet50_conv5_block1_0_conv_BiasAdd.weight.data = self._vars[\"StatefulPartitionedCall_resnet50_conv5_block1_0_conv_BiasAdd_weights_fused_bn\"]\n",
      "    self.n_StatefulPartitionedCall_resnet50_conv5_block1_0_conv_BiasAdd.bias.data = self._vars[\"StatefulPartitionedCall_resnet50_conv5_block1_0_conv_BiasAdd_bias_fused_bn\"]\n",
      "    self.n_StatefulPartitionedCall_resnet50_conv5_block2_1_conv_BiasAdd = nn.Conv2d(**{'groups': 1, 'dilation': [1, 1], 'out_channels': 512, 'padding': 0, 'kernel_size': (1, 1), 'stride': [1, 1], 'in_channels': 2048, 'bias': True})\n",
      "    self.n_StatefulPartitionedCall_resnet50_conv5_block2_1_conv_BiasAdd.weight.data = self._vars[\"StatefulPartitionedCall_resnet50_conv5_block2_1_conv_BiasAdd_weights_fused_bn\"]\n",
      "    self.n_StatefulPartitionedCall_resnet50_conv5_block2_1_conv_BiasAdd.bias.data = self._vars[\"StatefulPartitionedCall_resnet50_conv5_block2_1_conv_BiasAdd_bias_fused_bn\"]\n",
      "    self.n_StatefulPartitionedCall_resnet50_conv5_block2_2_conv_BiasAdd = nn.Conv2d(**{'groups': 1, 'dilation': [1, 1], 'out_channels': 512, 'padding': [1, 1], 'kernel_size': (3, 3), 'stride': [1, 1], 'in_channels': 512, 'bias': True})\n",
      "    self.n_StatefulPartitionedCall_resnet50_conv5_block2_2_conv_BiasAdd.weight.data = self._vars[\"StatefulPartitionedCall_resnet50_conv5_block2_2_conv_BiasAdd_weights_fused_bn\"]\n",
      "    self.n_StatefulPartitionedCall_resnet50_conv5_block2_2_conv_BiasAdd.bias.data = self._vars[\"StatefulPartitionedCall_resnet50_conv5_block2_2_conv_BiasAdd_bias_fused_bn\"]\n",
      "    self.n_StatefulPartitionedCall_resnet50_conv5_block2_3_conv_BiasAdd = nn.Conv2d(**{'groups': 1, 'dilation': [1, 1], 'out_channels': 2048, 'padding': 0, 'kernel_size': (1, 1), 'stride': [1, 1], 'in_channels': 512, 'bias': True})\n",
      "    self.n_StatefulPartitionedCall_resnet50_conv5_block2_3_conv_BiasAdd.weight.data = self._vars[\"StatefulPartitionedCall_resnet50_conv5_block2_3_conv_BiasAdd_weights_fused_bn\"]\n",
      "    self.n_StatefulPartitionedCall_resnet50_conv5_block2_3_conv_BiasAdd.bias.data = self._vars[\"StatefulPartitionedCall_resnet50_conv5_block2_3_conv_BiasAdd_bias_fused_bn\"]\n",
      "    self.n_StatefulPartitionedCall_resnet50_conv5_block3_1_conv_BiasAdd = nn.Conv2d(**{'groups': 1, 'dilation': [1, 1], 'out_channels': 512, 'padding': 0, 'kernel_size': (1, 1), 'stride': [1, 1], 'in_channels': 2048, 'bias': True})\n",
      "    self.n_StatefulPartitionedCall_resnet50_conv5_block3_1_conv_BiasAdd.weight.data = self._vars[\"StatefulPartitionedCall_resnet50_conv5_block3_1_conv_BiasAdd_weights_fused_bn\"]\n",
      "    self.n_StatefulPartitionedCall_resnet50_conv5_block3_1_conv_BiasAdd.bias.data = self._vars[\"StatefulPartitionedCall_resnet50_conv5_block3_1_conv_BiasAdd_bias_fused_bn\"]\n",
      "    self.n_StatefulPartitionedCall_resnet50_conv5_block3_2_conv_BiasAdd = nn.Conv2d(**{'groups': 1, 'dilation': [1, 1], 'out_channels': 512, 'padding': [1, 1], 'kernel_size': (3, 3), 'stride': [1, 1], 'in_channels': 512, 'bias': True})\n",
      "    self.n_StatefulPartitionedCall_resnet50_conv5_block3_2_conv_BiasAdd.weight.data = self._vars[\"StatefulPartitionedCall_resnet50_conv5_block3_2_conv_BiasAdd_weights_fused_bn\"]\n",
      "    self.n_StatefulPartitionedCall_resnet50_conv5_block3_2_conv_BiasAdd.bias.data = self._vars[\"StatefulPartitionedCall_resnet50_conv5_block3_2_conv_BiasAdd_bias_fused_bn\"]\n",
      "    self.n_StatefulPartitionedCall_resnet50_conv5_block3_3_conv_BiasAdd = nn.Conv2d(**{'groups': 1, 'dilation': [1, 1], 'out_channels': 2048, 'padding': 0, 'kernel_size': (1, 1), 'stride': [1, 1], 'in_channels': 512, 'bias': True})\n",
      "    self.n_StatefulPartitionedCall_resnet50_conv5_block3_3_conv_BiasAdd.weight.data = self._vars[\"StatefulPartitionedCall_resnet50_conv5_block3_3_conv_BiasAdd_weights_fused_bn\"]\n",
      "    self.n_StatefulPartitionedCall_resnet50_conv5_block3_3_conv_BiasAdd.bias.data = self._vars[\"StatefulPartitionedCall_resnet50_conv5_block3_3_conv_BiasAdd_bias_fused_bn\"]\n",
      "\n",
      "  def forward(self, *inputs):\n",
      "    input_1, = inputs\n",
      "    StatefulPartitionedCall_resnet50_conv1_conv_Conv2D__6_0 = input_1.permute(*[0, 3, 1, 2])\n",
      "    StatefulPartitionedCall_resnet50_conv1_bn_FusedBatchNormV3_0 = self.n_Conv__434(StatefulPartitionedCall_resnet50_conv1_conv_Conv2D__6_0)\n",
      "    StatefulPartitionedCall_resnet50_conv1_relu_Relu_0 = F.relu(StatefulPartitionedCall_resnet50_conv1_bn_FusedBatchNormV3_0)\n",
      "    StatefulPartitionedCall_resnet50_pool1_pad_Pad_0 = F.pad(StatefulPartitionedCall_resnet50_conv1_relu_Relu_0, [1, 1, 1, 1], \"constant\", 0.0)\n",
      "    StatefulPartitionedCall_resnet50_pool1_pool_MaxPool_0 = self.n_StatefulPartitionedCall_resnet50_pool1_pool_MaxPool(StatefulPartitionedCall_resnet50_pool1_pad_Pad_0)\n",
      "    StatefulPartitionedCall_resnet50_conv2_block1_1_bn_FusedBatchNormV3_0 = self.n_StatefulPartitionedCall_resnet50_conv2_block1_1_conv_BiasAdd(StatefulPartitionedCall_resnet50_pool1_pool_MaxPool_0)\n",
      "    StatefulPartitionedCall_resnet50_conv2_block1_1_relu_Relu_0 = F.relu(StatefulPartitionedCall_resnet50_conv2_block1_1_bn_FusedBatchNormV3_0)\n",
      "    StatefulPartitionedCall_resnet50_conv2_block1_2_bn_FusedBatchNormV3_0 = self.n_StatefulPartitionedCall_resnet50_conv2_block1_2_conv_BiasAdd(StatefulPartitionedCall_resnet50_conv2_block1_1_relu_Relu_0)\n",
      "    StatefulPartitionedCall_resnet50_conv2_block1_2_relu_Relu_0 = F.relu(StatefulPartitionedCall_resnet50_conv2_block1_2_bn_FusedBatchNormV3_0)\n",
      "    StatefulPartitionedCall_resnet50_conv2_block1_3_bn_FusedBatchNormV3_0 = self.n_StatefulPartitionedCall_resnet50_conv2_block1_3_conv_BiasAdd(StatefulPartitionedCall_resnet50_conv2_block1_2_relu_Relu_0)\n",
      "    StatefulPartitionedCall_resnet50_conv2_block1_0_bn_FusedBatchNormV3_0 = self.n_StatefulPartitionedCall_resnet50_conv2_block1_0_conv_BiasAdd(StatefulPartitionedCall_resnet50_pool1_pool_MaxPool_0)\n",
      "    StatefulPartitionedCall_resnet50_conv2_block1_add_add_0 = torch.add(StatefulPartitionedCall_resnet50_conv2_block1_0_bn_FusedBatchNormV3_0, StatefulPartitionedCall_resnet50_conv2_block1_3_bn_FusedBatchNormV3_0)\n",
      "    StatefulPartitionedCall_resnet50_conv2_block1_out_Relu_0 = F.relu(StatefulPartitionedCall_resnet50_conv2_block1_add_add_0)\n",
      "    StatefulPartitionedCall_resnet50_conv2_block2_1_bn_FusedBatchNormV3_0 = self.n_StatefulPartitionedCall_resnet50_conv2_block2_1_conv_BiasAdd(StatefulPartitionedCall_resnet50_conv2_block1_out_Relu_0)\n",
      "    StatefulPartitionedCall_resnet50_conv2_block2_1_relu_Relu_0 = F.relu(StatefulPartitionedCall_resnet50_conv2_block2_1_bn_FusedBatchNormV3_0)\n",
      "    StatefulPartitionedCall_resnet50_conv2_block2_2_bn_FusedBatchNormV3_0 = self.n_StatefulPartitionedCall_resnet50_conv2_block2_2_conv_BiasAdd(StatefulPartitionedCall_resnet50_conv2_block2_1_relu_Relu_0)\n",
      "    StatefulPartitionedCall_resnet50_conv2_block2_2_relu_Relu_0 = F.relu(StatefulPartitionedCall_resnet50_conv2_block2_2_bn_FusedBatchNormV3_0)\n",
      "    StatefulPartitionedCall_resnet50_conv2_block2_3_bn_FusedBatchNormV3_0 = self.n_StatefulPartitionedCall_resnet50_conv2_block2_3_conv_BiasAdd(StatefulPartitionedCall_resnet50_conv2_block2_2_relu_Relu_0)\n",
      "    StatefulPartitionedCall_resnet50_conv2_block2_add_add_0 = torch.add(StatefulPartitionedCall_resnet50_conv2_block1_out_Relu_0, StatefulPartitionedCall_resnet50_conv2_block2_3_bn_FusedBatchNormV3_0)\n",
      "    StatefulPartitionedCall_resnet50_conv2_block2_out_Relu_0 = F.relu(StatefulPartitionedCall_resnet50_conv2_block2_add_add_0)\n",
      "    StatefulPartitionedCall_resnet50_conv2_block3_1_bn_FusedBatchNormV3_0 = self.n_StatefulPartitionedCall_resnet50_conv2_block3_1_conv_BiasAdd(StatefulPartitionedCall_resnet50_conv2_block2_out_Relu_0)\n",
      "    StatefulPartitionedCall_resnet50_conv2_block3_1_relu_Relu_0 = F.relu(StatefulPartitionedCall_resnet50_conv2_block3_1_bn_FusedBatchNormV3_0)\n",
      "    StatefulPartitionedCall_resnet50_conv2_block3_2_bn_FusedBatchNormV3_0 = self.n_StatefulPartitionedCall_resnet50_conv2_block3_2_conv_BiasAdd(StatefulPartitionedCall_resnet50_conv2_block3_1_relu_Relu_0)\n",
      "    StatefulPartitionedCall_resnet50_conv2_block3_2_relu_Relu_0 = F.relu(StatefulPartitionedCall_resnet50_conv2_block3_2_bn_FusedBatchNormV3_0)\n",
      "    StatefulPartitionedCall_resnet50_conv2_block3_3_bn_FusedBatchNormV3_0 = self.n_StatefulPartitionedCall_resnet50_conv2_block3_3_conv_BiasAdd(StatefulPartitionedCall_resnet50_conv2_block3_2_relu_Relu_0)\n",
      "    StatefulPartitionedCall_resnet50_conv2_block3_add_add_0 = torch.add(StatefulPartitionedCall_resnet50_conv2_block2_out_Relu_0, StatefulPartitionedCall_resnet50_conv2_block3_3_bn_FusedBatchNormV3_0)\n",
      "    StatefulPartitionedCall_resnet50_conv2_block3_out_Relu_0 = F.relu(StatefulPartitionedCall_resnet50_conv2_block3_add_add_0)\n",
      "    StatefulPartitionedCall_resnet50_conv3_block1_1_bn_FusedBatchNormV3_0 = self.n_StatefulPartitionedCall_resnet50_conv3_block1_1_conv_BiasAdd(StatefulPartitionedCall_resnet50_conv2_block3_out_Relu_0)\n",
      "    StatefulPartitionedCall_resnet50_conv3_block1_1_relu_Relu_0 = F.relu(StatefulPartitionedCall_resnet50_conv3_block1_1_bn_FusedBatchNormV3_0)\n",
      "    StatefulPartitionedCall_resnet50_conv3_block1_2_bn_FusedBatchNormV3_0 = self.n_StatefulPartitionedCall_resnet50_conv3_block1_2_conv_BiasAdd(StatefulPartitionedCall_resnet50_conv3_block1_1_relu_Relu_0)\n",
      "    StatefulPartitionedCall_resnet50_conv3_block1_2_relu_Relu_0 = F.relu(StatefulPartitionedCall_resnet50_conv3_block1_2_bn_FusedBatchNormV3_0)\n",
      "    StatefulPartitionedCall_resnet50_conv3_block1_3_bn_FusedBatchNormV3_0 = self.n_StatefulPartitionedCall_resnet50_conv3_block1_3_conv_BiasAdd(StatefulPartitionedCall_resnet50_conv3_block1_2_relu_Relu_0)\n",
      "    StatefulPartitionedCall_resnet50_conv3_block1_0_bn_FusedBatchNormV3_0 = self.n_StatefulPartitionedCall_resnet50_conv3_block1_0_conv_BiasAdd(StatefulPartitionedCall_resnet50_conv2_block3_out_Relu_0)\n",
      "    StatefulPartitionedCall_resnet50_conv3_block1_add_add_0 = torch.add(StatefulPartitionedCall_resnet50_conv3_block1_0_bn_FusedBatchNormV3_0, StatefulPartitionedCall_resnet50_conv3_block1_3_bn_FusedBatchNormV3_0)\n",
      "    StatefulPartitionedCall_resnet50_conv3_block1_out_Relu_0 = F.relu(StatefulPartitionedCall_resnet50_conv3_block1_add_add_0)\n",
      "    StatefulPartitionedCall_resnet50_conv3_block2_1_bn_FusedBatchNormV3_0 = self.n_StatefulPartitionedCall_resnet50_conv3_block2_1_conv_BiasAdd(StatefulPartitionedCall_resnet50_conv3_block1_out_Relu_0)\n",
      "    StatefulPartitionedCall_resnet50_conv3_block2_1_relu_Relu_0 = F.relu(StatefulPartitionedCall_resnet50_conv3_block2_1_bn_FusedBatchNormV3_0)\n",
      "    StatefulPartitionedCall_resnet50_conv3_block2_2_bn_FusedBatchNormV3_0 = self.n_StatefulPartitionedCall_resnet50_conv3_block2_2_conv_BiasAdd(StatefulPartitionedCall_resnet50_conv3_block2_1_relu_Relu_0)\n",
      "    StatefulPartitionedCall_resnet50_conv3_block2_2_relu_Relu_0 = F.relu(StatefulPartitionedCall_resnet50_conv3_block2_2_bn_FusedBatchNormV3_0)\n",
      "    StatefulPartitionedCall_resnet50_conv3_block2_3_bn_FusedBatchNormV3_0 = self.n_StatefulPartitionedCall_resnet50_conv3_block2_3_conv_BiasAdd(StatefulPartitionedCall_resnet50_conv3_block2_2_relu_Relu_0)\n",
      "    StatefulPartitionedCall_resnet50_conv3_block2_add_add_0 = torch.add(StatefulPartitionedCall_resnet50_conv3_block1_out_Relu_0, StatefulPartitionedCall_resnet50_conv3_block2_3_bn_FusedBatchNormV3_0)\n",
      "    StatefulPartitionedCall_resnet50_conv3_block2_out_Relu_0 = F.relu(StatefulPartitionedCall_resnet50_conv3_block2_add_add_0)\n",
      "    StatefulPartitionedCall_resnet50_conv3_block3_1_bn_FusedBatchNormV3_0 = self.n_StatefulPartitionedCall_resnet50_conv3_block3_1_conv_BiasAdd(StatefulPartitionedCall_resnet50_conv3_block2_out_Relu_0)\n",
      "    StatefulPartitionedCall_resnet50_conv3_block3_1_relu_Relu_0 = F.relu(StatefulPartitionedCall_resnet50_conv3_block3_1_bn_FusedBatchNormV3_0)\n",
      "    StatefulPartitionedCall_resnet50_conv3_block3_2_bn_FusedBatchNormV3_0 = self.n_StatefulPartitionedCall_resnet50_conv3_block3_2_conv_BiasAdd(StatefulPartitionedCall_resnet50_conv3_block3_1_relu_Relu_0)\n",
      "    StatefulPartitionedCall_resnet50_conv3_block3_2_relu_Relu_0 = F.relu(StatefulPartitionedCall_resnet50_conv3_block3_2_bn_FusedBatchNormV3_0)\n",
      "    StatefulPartitionedCall_resnet50_conv3_block3_3_bn_FusedBatchNormV3_0 = self.n_StatefulPartitionedCall_resnet50_conv3_block3_3_conv_BiasAdd(StatefulPartitionedCall_resnet50_conv3_block3_2_relu_Relu_0)\n",
      "    StatefulPartitionedCall_resnet50_conv3_block3_add_add_0 = torch.add(StatefulPartitionedCall_resnet50_conv3_block2_out_Relu_0, StatefulPartitionedCall_resnet50_conv3_block3_3_bn_FusedBatchNormV3_0)\n",
      "    StatefulPartitionedCall_resnet50_conv3_block3_out_Relu_0 = F.relu(StatefulPartitionedCall_resnet50_conv3_block3_add_add_0)\n",
      "    StatefulPartitionedCall_resnet50_conv3_block4_1_bn_FusedBatchNormV3_0 = self.n_StatefulPartitionedCall_resnet50_conv3_block4_1_conv_BiasAdd(StatefulPartitionedCall_resnet50_conv3_block3_out_Relu_0)\n",
      "    StatefulPartitionedCall_resnet50_conv3_block4_1_relu_Relu_0 = F.relu(StatefulPartitionedCall_resnet50_conv3_block4_1_bn_FusedBatchNormV3_0)\n",
      "    StatefulPartitionedCall_resnet50_conv3_block4_2_bn_FusedBatchNormV3_0 = self.n_StatefulPartitionedCall_resnet50_conv3_block4_2_conv_BiasAdd(StatefulPartitionedCall_resnet50_conv3_block4_1_relu_Relu_0)\n",
      "    StatefulPartitionedCall_resnet50_conv3_block4_2_relu_Relu_0 = F.relu(StatefulPartitionedCall_resnet50_conv3_block4_2_bn_FusedBatchNormV3_0)\n",
      "    StatefulPartitionedCall_resnet50_conv3_block4_3_bn_FusedBatchNormV3_0 = self.n_StatefulPartitionedCall_resnet50_conv3_block4_3_conv_BiasAdd(StatefulPartitionedCall_resnet50_conv3_block4_2_relu_Relu_0)\n",
      "    StatefulPartitionedCall_resnet50_conv3_block4_add_add_0 = torch.add(StatefulPartitionedCall_resnet50_conv3_block3_out_Relu_0, StatefulPartitionedCall_resnet50_conv3_block4_3_bn_FusedBatchNormV3_0)\n",
      "    StatefulPartitionedCall_resnet50_conv3_block4_out_Relu_0 = F.relu(StatefulPartitionedCall_resnet50_conv3_block4_add_add_0)\n",
      "    StatefulPartitionedCall_resnet50_conv4_block1_1_bn_FusedBatchNormV3_0 = self.n_StatefulPartitionedCall_resnet50_conv4_block1_1_conv_BiasAdd(StatefulPartitionedCall_resnet50_conv3_block4_out_Relu_0)\n",
      "    StatefulPartitionedCall_resnet50_conv4_block1_1_relu_Relu_0 = F.relu(StatefulPartitionedCall_resnet50_conv4_block1_1_bn_FusedBatchNormV3_0)\n",
      "    StatefulPartitionedCall_resnet50_conv4_block1_2_bn_FusedBatchNormV3_0 = self.n_StatefulPartitionedCall_resnet50_conv4_block1_2_conv_BiasAdd(StatefulPartitionedCall_resnet50_conv4_block1_1_relu_Relu_0)\n",
      "    StatefulPartitionedCall_resnet50_conv4_block1_2_relu_Relu_0 = F.relu(StatefulPartitionedCall_resnet50_conv4_block1_2_bn_FusedBatchNormV3_0)\n",
      "    StatefulPartitionedCall_resnet50_conv4_block1_3_bn_FusedBatchNormV3_0 = self.n_StatefulPartitionedCall_resnet50_conv4_block1_3_conv_BiasAdd(StatefulPartitionedCall_resnet50_conv4_block1_2_relu_Relu_0)\n",
      "    StatefulPartitionedCall_resnet50_conv4_block1_0_bn_FusedBatchNormV3_0 = self.n_StatefulPartitionedCall_resnet50_conv4_block1_0_conv_BiasAdd(StatefulPartitionedCall_resnet50_conv3_block4_out_Relu_0)\n",
      "    StatefulPartitionedCall_resnet50_conv4_block1_add_add_0 = torch.add(StatefulPartitionedCall_resnet50_conv4_block1_0_bn_FusedBatchNormV3_0, StatefulPartitionedCall_resnet50_conv4_block1_3_bn_FusedBatchNormV3_0)\n",
      "    StatefulPartitionedCall_resnet50_conv4_block1_out_Relu_0 = F.relu(StatefulPartitionedCall_resnet50_conv4_block1_add_add_0)\n",
      "    StatefulPartitionedCall_resnet50_conv4_block2_1_bn_FusedBatchNormV3_0 = self.n_StatefulPartitionedCall_resnet50_conv4_block2_1_conv_BiasAdd(StatefulPartitionedCall_resnet50_conv4_block1_out_Relu_0)\n",
      "    StatefulPartitionedCall_resnet50_conv4_block2_1_relu_Relu_0 = F.relu(StatefulPartitionedCall_resnet50_conv4_block2_1_bn_FusedBatchNormV3_0)\n",
      "    StatefulPartitionedCall_resnet50_conv4_block2_2_bn_FusedBatchNormV3_0 = self.n_StatefulPartitionedCall_resnet50_conv4_block2_2_conv_BiasAdd(StatefulPartitionedCall_resnet50_conv4_block2_1_relu_Relu_0)\n",
      "    StatefulPartitionedCall_resnet50_conv4_block2_2_relu_Relu_0 = F.relu(StatefulPartitionedCall_resnet50_conv4_block2_2_bn_FusedBatchNormV3_0)\n",
      "    StatefulPartitionedCall_resnet50_conv4_block2_3_bn_FusedBatchNormV3_0 = self.n_StatefulPartitionedCall_resnet50_conv4_block2_3_conv_BiasAdd(StatefulPartitionedCall_resnet50_conv4_block2_2_relu_Relu_0)\n",
      "    StatefulPartitionedCall_resnet50_conv4_block2_add_add_0 = torch.add(StatefulPartitionedCall_resnet50_conv4_block1_out_Relu_0, StatefulPartitionedCall_resnet50_conv4_block2_3_bn_FusedBatchNormV3_0)\n",
      "    StatefulPartitionedCall_resnet50_conv4_block2_out_Relu_0 = F.relu(StatefulPartitionedCall_resnet50_conv4_block2_add_add_0)\n",
      "    StatefulPartitionedCall_resnet50_conv4_block3_1_bn_FusedBatchNormV3_0 = self.n_StatefulPartitionedCall_resnet50_conv4_block3_1_conv_BiasAdd(StatefulPartitionedCall_resnet50_conv4_block2_out_Relu_0)\n",
      "    StatefulPartitionedCall_resnet50_conv4_block3_1_relu_Relu_0 = F.relu(StatefulPartitionedCall_resnet50_conv4_block3_1_bn_FusedBatchNormV3_0)\n",
      "    StatefulPartitionedCall_resnet50_conv4_block3_2_bn_FusedBatchNormV3_0 = self.n_StatefulPartitionedCall_resnet50_conv4_block3_2_conv_BiasAdd(StatefulPartitionedCall_resnet50_conv4_block3_1_relu_Relu_0)\n",
      "    StatefulPartitionedCall_resnet50_conv4_block3_2_relu_Relu_0 = F.relu(StatefulPartitionedCall_resnet50_conv4_block3_2_bn_FusedBatchNormV3_0)\n",
      "    StatefulPartitionedCall_resnet50_conv4_block3_3_bn_FusedBatchNormV3_0 = self.n_StatefulPartitionedCall_resnet50_conv4_block3_3_conv_BiasAdd(StatefulPartitionedCall_resnet50_conv4_block3_2_relu_Relu_0)\n",
      "    StatefulPartitionedCall_resnet50_conv4_block3_add_add_0 = torch.add(StatefulPartitionedCall_resnet50_conv4_block2_out_Relu_0, StatefulPartitionedCall_resnet50_conv4_block3_3_bn_FusedBatchNormV3_0)\n",
      "    StatefulPartitionedCall_resnet50_conv4_block3_out_Relu_0 = F.relu(StatefulPartitionedCall_resnet50_conv4_block3_add_add_0)\n",
      "    StatefulPartitionedCall_resnet50_conv4_block4_1_bn_FusedBatchNormV3_0 = self.n_StatefulPartitionedCall_resnet50_conv4_block4_1_conv_BiasAdd(StatefulPartitionedCall_resnet50_conv4_block3_out_Relu_0)\n",
      "    StatefulPartitionedCall_resnet50_conv4_block4_1_relu_Relu_0 = F.relu(StatefulPartitionedCall_resnet50_conv4_block4_1_bn_FusedBatchNormV3_0)\n",
      "    StatefulPartitionedCall_resnet50_conv4_block4_2_bn_FusedBatchNormV3_0 = self.n_StatefulPartitionedCall_resnet50_conv4_block4_2_conv_BiasAdd(StatefulPartitionedCall_resnet50_conv4_block4_1_relu_Relu_0)\n",
      "    StatefulPartitionedCall_resnet50_conv4_block4_2_relu_Relu_0 = F.relu(StatefulPartitionedCall_resnet50_conv4_block4_2_bn_FusedBatchNormV3_0)\n",
      "    StatefulPartitionedCall_resnet50_conv4_block4_3_bn_FusedBatchNormV3_0 = self.n_StatefulPartitionedCall_resnet50_conv4_block4_3_conv_BiasAdd(StatefulPartitionedCall_resnet50_conv4_block4_2_relu_Relu_0)\n",
      "    StatefulPartitionedCall_resnet50_conv4_block4_add_add_0 = torch.add(StatefulPartitionedCall_resnet50_conv4_block3_out_Relu_0, StatefulPartitionedCall_resnet50_conv4_block4_3_bn_FusedBatchNormV3_0)\n",
      "    StatefulPartitionedCall_resnet50_conv4_block4_out_Relu_0 = F.relu(StatefulPartitionedCall_resnet50_conv4_block4_add_add_0)\n",
      "    StatefulPartitionedCall_resnet50_conv4_block5_1_bn_FusedBatchNormV3_0 = self.n_StatefulPartitionedCall_resnet50_conv4_block5_1_conv_BiasAdd(StatefulPartitionedCall_resnet50_conv4_block4_out_Relu_0)\n",
      "    StatefulPartitionedCall_resnet50_conv4_block5_1_relu_Relu_0 = F.relu(StatefulPartitionedCall_resnet50_conv4_block5_1_bn_FusedBatchNormV3_0)\n",
      "    StatefulPartitionedCall_resnet50_conv4_block5_2_bn_FusedBatchNormV3_0 = self.n_StatefulPartitionedCall_resnet50_conv4_block5_2_conv_BiasAdd(StatefulPartitionedCall_resnet50_conv4_block5_1_relu_Relu_0)\n",
      "    StatefulPartitionedCall_resnet50_conv4_block5_2_relu_Relu_0 = F.relu(StatefulPartitionedCall_resnet50_conv4_block5_2_bn_FusedBatchNormV3_0)\n",
      "    StatefulPartitionedCall_resnet50_conv4_block5_3_bn_FusedBatchNormV3_0 = self.n_StatefulPartitionedCall_resnet50_conv4_block5_3_conv_BiasAdd(StatefulPartitionedCall_resnet50_conv4_block5_2_relu_Relu_0)\n",
      "    StatefulPartitionedCall_resnet50_conv4_block5_add_add_0 = torch.add(StatefulPartitionedCall_resnet50_conv4_block4_out_Relu_0, StatefulPartitionedCall_resnet50_conv4_block5_3_bn_FusedBatchNormV3_0)\n",
      "    StatefulPartitionedCall_resnet50_conv4_block5_out_Relu_0 = F.relu(StatefulPartitionedCall_resnet50_conv4_block5_add_add_0)\n",
      "    StatefulPartitionedCall_resnet50_conv4_block6_1_bn_FusedBatchNormV3_0 = self.n_StatefulPartitionedCall_resnet50_conv4_block6_1_conv_BiasAdd(StatefulPartitionedCall_resnet50_conv4_block5_out_Relu_0)\n",
      "    StatefulPartitionedCall_resnet50_conv4_block6_1_relu_Relu_0 = F.relu(StatefulPartitionedCall_resnet50_conv4_block6_1_bn_FusedBatchNormV3_0)\n",
      "    StatefulPartitionedCall_resnet50_conv4_block6_2_bn_FusedBatchNormV3_0 = self.n_StatefulPartitionedCall_resnet50_conv4_block6_2_conv_BiasAdd(StatefulPartitionedCall_resnet50_conv4_block6_1_relu_Relu_0)\n",
      "    StatefulPartitionedCall_resnet50_conv4_block6_2_relu_Relu_0 = F.relu(StatefulPartitionedCall_resnet50_conv4_block6_2_bn_FusedBatchNormV3_0)\n",
      "    StatefulPartitionedCall_resnet50_conv4_block6_3_bn_FusedBatchNormV3_0 = self.n_StatefulPartitionedCall_resnet50_conv4_block6_3_conv_BiasAdd(StatefulPartitionedCall_resnet50_conv4_block6_2_relu_Relu_0)\n",
      "    StatefulPartitionedCall_resnet50_conv4_block6_add_add_0 = torch.add(StatefulPartitionedCall_resnet50_conv4_block5_out_Relu_0, StatefulPartitionedCall_resnet50_conv4_block6_3_bn_FusedBatchNormV3_0)\n",
      "    StatefulPartitionedCall_resnet50_conv4_block6_out_Relu_0 = F.relu(StatefulPartitionedCall_resnet50_conv4_block6_add_add_0)\n",
      "    StatefulPartitionedCall_resnet50_conv5_block1_1_bn_FusedBatchNormV3_0 = self.n_StatefulPartitionedCall_resnet50_conv5_block1_1_conv_BiasAdd(StatefulPartitionedCall_resnet50_conv4_block6_out_Relu_0)\n",
      "    StatefulPartitionedCall_resnet50_conv5_block1_1_relu_Relu_0 = F.relu(StatefulPartitionedCall_resnet50_conv5_block1_1_bn_FusedBatchNormV3_0)\n",
      "    StatefulPartitionedCall_resnet50_conv5_block1_2_bn_FusedBatchNormV3_0 = self.n_StatefulPartitionedCall_resnet50_conv5_block1_2_conv_BiasAdd(StatefulPartitionedCall_resnet50_conv5_block1_1_relu_Relu_0)\n",
      "    StatefulPartitionedCall_resnet50_conv5_block1_2_relu_Relu_0 = F.relu(StatefulPartitionedCall_resnet50_conv5_block1_2_bn_FusedBatchNormV3_0)\n",
      "    StatefulPartitionedCall_resnet50_conv5_block1_3_bn_FusedBatchNormV3_0 = self.n_StatefulPartitionedCall_resnet50_conv5_block1_3_conv_BiasAdd(StatefulPartitionedCall_resnet50_conv5_block1_2_relu_Relu_0)\n",
      "    StatefulPartitionedCall_resnet50_conv5_block1_0_bn_FusedBatchNormV3_0 = self.n_StatefulPartitionedCall_resnet50_conv5_block1_0_conv_BiasAdd(StatefulPartitionedCall_resnet50_conv4_block6_out_Relu_0)\n",
      "    StatefulPartitionedCall_resnet50_conv5_block1_add_add_0 = torch.add(StatefulPartitionedCall_resnet50_conv5_block1_0_bn_FusedBatchNormV3_0, StatefulPartitionedCall_resnet50_conv5_block1_3_bn_FusedBatchNormV3_0)\n",
      "    StatefulPartitionedCall_resnet50_conv5_block1_out_Relu_0 = F.relu(StatefulPartitionedCall_resnet50_conv5_block1_add_add_0)\n",
      "    StatefulPartitionedCall_resnet50_conv5_block2_1_bn_FusedBatchNormV3_0 = self.n_StatefulPartitionedCall_resnet50_conv5_block2_1_conv_BiasAdd(StatefulPartitionedCall_resnet50_conv5_block1_out_Relu_0)\n",
      "    StatefulPartitionedCall_resnet50_conv5_block2_1_relu_Relu_0 = F.relu(StatefulPartitionedCall_resnet50_conv5_block2_1_bn_FusedBatchNormV3_0)\n",
      "    StatefulPartitionedCall_resnet50_conv5_block2_2_bn_FusedBatchNormV3_0 = self.n_StatefulPartitionedCall_resnet50_conv5_block2_2_conv_BiasAdd(StatefulPartitionedCall_resnet50_conv5_block2_1_relu_Relu_0)\n",
      "    StatefulPartitionedCall_resnet50_conv5_block2_2_relu_Relu_0 = F.relu(StatefulPartitionedCall_resnet50_conv5_block2_2_bn_FusedBatchNormV3_0)\n",
      "    StatefulPartitionedCall_resnet50_conv5_block2_3_bn_FusedBatchNormV3_0 = self.n_StatefulPartitionedCall_resnet50_conv5_block2_3_conv_BiasAdd(StatefulPartitionedCall_resnet50_conv5_block2_2_relu_Relu_0)\n",
      "    StatefulPartitionedCall_resnet50_conv5_block2_add_add_0 = torch.add(StatefulPartitionedCall_resnet50_conv5_block1_out_Relu_0, StatefulPartitionedCall_resnet50_conv5_block2_3_bn_FusedBatchNormV3_0)\n",
      "    StatefulPartitionedCall_resnet50_conv5_block2_out_Relu_0 = F.relu(StatefulPartitionedCall_resnet50_conv5_block2_add_add_0)\n",
      "    StatefulPartitionedCall_resnet50_conv5_block3_1_bn_FusedBatchNormV3_0 = self.n_StatefulPartitionedCall_resnet50_conv5_block3_1_conv_BiasAdd(StatefulPartitionedCall_resnet50_conv5_block2_out_Relu_0)\n",
      "    StatefulPartitionedCall_resnet50_conv5_block3_1_relu_Relu_0 = F.relu(StatefulPartitionedCall_resnet50_conv5_block3_1_bn_FusedBatchNormV3_0)\n",
      "    StatefulPartitionedCall_resnet50_conv5_block3_2_bn_FusedBatchNormV3_0 = self.n_StatefulPartitionedCall_resnet50_conv5_block3_2_conv_BiasAdd(StatefulPartitionedCall_resnet50_conv5_block3_1_relu_Relu_0)\n",
      "    StatefulPartitionedCall_resnet50_conv5_block3_2_relu_Relu_0 = F.relu(StatefulPartitionedCall_resnet50_conv5_block3_2_bn_FusedBatchNormV3_0)\n",
      "    StatefulPartitionedCall_resnet50_conv5_block3_3_bn_FusedBatchNormV3_0 = self.n_StatefulPartitionedCall_resnet50_conv5_block3_3_conv_BiasAdd(StatefulPartitionedCall_resnet50_conv5_block3_2_relu_Relu_0)\n",
      "    StatefulPartitionedCall_resnet50_conv5_block3_add_add_0 = torch.add(StatefulPartitionedCall_resnet50_conv5_block2_out_Relu_0, StatefulPartitionedCall_resnet50_conv5_block3_3_bn_FusedBatchNormV3_0)\n",
      "    StatefulPartitionedCall_resnet50_conv5_block3_out_Relu_0 = F.relu(StatefulPartitionedCall_resnet50_conv5_block3_add_add_0)\n",
      "    StatefulPartitionedCall_resnet50_avg_pool_Mean_0 = F.avg_pool2d(StatefulPartitionedCall_resnet50_conv5_block3_out_Relu_0, **{'kernel_size': StatefulPartitionedCall_resnet50_conv5_block3_out_Relu_0.shape[-2:]})\n",
      "    StatefulPartitionedCall_resnet50_avg_pool_Mean_Squeeze__612_0 = torch.squeeze(StatefulPartitionedCall_resnet50_avg_pool_Mean_0, 3)\n",
      "    StatefulPartitionedCall_resnet50_avg_pool_Mean_Squeeze__612_0 = torch.squeeze(StatefulPartitionedCall_resnet50_avg_pool_Mean_Squeeze__612_0, 2)\n",
      "    StatefulPartitionedCall_resnet50_predictions_MatMul_0 = torch.matmul(StatefulPartitionedCall_resnet50_avg_pool_Mean_Squeeze__612_0, self._vars[\"StatefulPartitionedCall_resnet50_predictions_MatMul_ReadVariableOp_0\"])\n",
      "    StatefulPartitionedCall_resnet50_predictions_BiasAdd_0 = torch.add(StatefulPartitionedCall_resnet50_predictions_MatMul_0, self._vars[\"StatefulPartitionedCall_resnet50_predictions_BiasAdd_ReadVariableOp_0\"])\n",
      "    predictions = F.softmax(StatefulPartitionedCall_resnet50_predictions_BiasAdd_0, **{'dim': 1})\n",
      "    return predictions\n",
      "\n",
      "  def compatible_auto_pad(self, input, kernel_spatial_shape, nn_mod, auto_pad=None, **kwargs):\n",
      "    input_spatial_shape = input.shape[2:]\n",
      "    d = len(input_spatial_shape)\n",
      "    strides = nn_mod.stride\n",
      "    dilations = nn_mod.dilation\n",
      "    output_spatial_shape = [math.ceil(float(l) / float(r)) for l, r in zip(input.shape[2:], strides)]\n",
      "    pt_padding = [0] * 2 * d\n",
      "    pad_shape = [0] * d\n",
      "    for i in range(d):\n",
      "      pad_shape[i] = (output_spatial_shape[i] - 1) * strides[i] + ((kernel_spatial_shape[i] - 1) * dilations[i] + 1) - input_spatial_shape[i]\n",
      "      mean = pad_shape[i] // 2\n",
      "      if auto_pad == b\"SAME_UPPER\":\n",
      "        l, r = pad_shape[i] - mean, mean\n",
      "      else:\n",
      "        l, r = mean, pad_shape[i] - mean\n",
      "      pt_padding.insert(0, r)\n",
      "      pt_padding.insert(0, l)\n",
      "    return F.pad(input, pt_padding)\n",
      "\n",
      "@torch.no_grad()\n",
      "def test_run_model(inputs=[torch.from_numpy(np.random.randn(*[1, 224, 224, 3]).astype(np.float32))]):\n",
      "  model = Model()\n",
      "  model.eval()\n",
      "  rs = model(*inputs)\n",
      "  print(rs)\n",
      "  return rs\n",
      "\n"
     ]
    },
    {
     "name": "stdout",
     "output_type": "stream",
     "text": [
      "WARNING:tensorflow:Compiled the loaded model, but the compiled metrics have yet to be built. `model.compile_metrics` will be empty until you train or evaluate the model.\n"
     ]
    },
    {
     "name": "stderr",
     "output_type": "stream",
     "text": [
      "WARNING:tensorflow:Compiled the loaded model, but the compiled metrics have yet to be built. `model.compile_metrics` will be empty until you train or evaluate the model.\n"
     ]
    },
    {
     "name": "stdout",
     "output_type": "stream",
     "text": [
      "INFO:tensorflow:Assets written to: ram://8d6c670d-a3ba-4924-9b1d-8f18a1813524/assets\n"
     ]
    },
    {
     "name": "stderr",
     "output_type": "stream",
     "text": [
      "INFO:tensorflow:Assets written to: ram://8d6c670d-a3ba-4924-9b1d-8f18a1813524/assets\n",
      "/data/yylaiai/anaconda3/envs/fyp_v3/lib/python3.9/site-packages/keras/engine/functional.py:1410: CustomMaskWarning: Custom mask layers require a config and must override get_config. When loading, the custom mask layer must be passed to the custom_objects argument.\n",
      "  layer_config = serialize_layer_fn(layer)\n",
      "/data/yylaiai/anaconda3/envs/fyp_v3/lib/python3.9/site-packages/keras/saving/saved_model/layer_serialization.py:112: CustomMaskWarning: Custom mask layers require a config and must override get_config. When loading, the custom mask layer must be passed to the custom_objects argument.\n",
      "  return generic_utils.serialize_keras_object(obj)\n"
     ]
    }
   ],
   "source": [
    "r = redis.Redis(db=1)\n",
    "r.flushdb()\n",
    "ga = GA(fit, model, dataset, input_shape, init_input_mut, init_weight_mut, r1, r2, m, n, db_flag)\n",
    "x, theta = ga.initPopulation()\n",
    "ga.prepareFitness()"
   ]
  },
  {
   "cell_type": "code",
   "execution_count": 14,
   "metadata": {
    "scrolled": true
   },
   "outputs": [
    {
     "name": "stdout",
     "output_type": "stream",
     "text": [
      "Running at iteration 1:\n"
     ]
    },
    {
     "name": "stderr",
     "output_type": "stream",
     "text": [
      "2022-01-12 10:29:34.856312: E tensorflow/stream_executor/cuda/cuda_driver.cc:271] failed call to cuInit: CUDA_ERROR_UNKNOWN: unknown error\n",
      "2022-01-12 10:29:34.856392: I tensorflow/stream_executor/cuda/cuda_diagnostics.cc:169] retrieving CUDA diagnostic information for host: ugcpu5\n",
      "2022-01-12 10:29:34.856407: I tensorflow/stream_executor/cuda/cuda_diagnostics.cc:176] hostname: ugcpu5\n",
      "2022-01-12 10:29:34.856621: I tensorflow/stream_executor/cuda/cuda_diagnostics.cc:200] libcuda reported version is: 495.29.5\n",
      "2022-01-12 10:29:34.856682: I tensorflow/stream_executor/cuda/cuda_diagnostics.cc:204] kernel reported version is: 495.29.5\n",
      "2022-01-12 10:29:34.856697: I tensorflow/stream_executor/cuda/cuda_diagnostics.cc:310] kernel version seems to match DSO: 495.29.5\n",
      "2022-01-12 10:29:34.871515: I tensorflow/core/platform/cpu_feature_guard.cc:151] This TensorFlow binary is optimized with oneAPI Deep Neural Network Library (oneDNN) to use the following CPU instructions in performance-critical operations:  AVX2 AVX512F FMA\n",
      "To enable them in other operations, rebuild TensorFlow with the appropriate compiler flags.\n",
      "WARNING:tensorflow:No training configuration found in save file, so the model was *not* compiled. Compile it manually.\n"
     ]
    },
    {
     "name": "stdout",
     "output_type": "stream",
     "text": [
      "\n",
      "top 5 fitness scores:  [0.002 0.002 0.002 0.002 0.002]\n",
      "Taken time: 26.047900915145874\n",
      "\n",
      "Running at iteration 2:\n"
     ]
    },
    {
     "name": "stderr",
     "output_type": "stream",
     "text": [
      "2022-01-12 10:30:01.458073: E tensorflow/stream_executor/cuda/cuda_driver.cc:271] failed call to cuInit: CUDA_ERROR_UNKNOWN: unknown error\n",
      "2022-01-12 10:30:01.458159: I tensorflow/stream_executor/cuda/cuda_diagnostics.cc:169] retrieving CUDA diagnostic information for host: ugcpu5\n",
      "2022-01-12 10:30:01.458174: I tensorflow/stream_executor/cuda/cuda_diagnostics.cc:176] hostname: ugcpu5\n",
      "2022-01-12 10:30:01.458379: I tensorflow/stream_executor/cuda/cuda_diagnostics.cc:200] libcuda reported version is: 495.29.5\n",
      "2022-01-12 10:30:01.458442: I tensorflow/stream_executor/cuda/cuda_diagnostics.cc:204] kernel reported version is: 495.29.5\n",
      "2022-01-12 10:30:01.458457: I tensorflow/stream_executor/cuda/cuda_diagnostics.cc:310] kernel version seems to match DSO: 495.29.5\n",
      "2022-01-12 10:30:01.459073: I tensorflow/core/platform/cpu_feature_guard.cc:151] This TensorFlow binary is optimized with oneAPI Deep Neural Network Library (oneDNN) to use the following CPU instructions in performance-critical operations:  AVX2 AVX512F FMA\n",
      "To enable them in other operations, rebuild TensorFlow with the appropriate compiler flags.\n",
      "WARNING:tensorflow:No training configuration found in save file, so the model was *not* compiled. Compile it manually.\n"
     ]
    },
    {
     "name": "stdout",
     "output_type": "stream",
     "text": [
      "\n",
      "top 5 fitness scores:  [0.002 0.002 0.002 0.002 0.002]\n",
      "Taken time: 25.05289912223816\n",
      "\n",
      "Running at iteration 3:\n"
     ]
    },
    {
     "name": "stderr",
     "output_type": "stream",
     "text": [
      "2022-01-12 10:30:26.305050: E tensorflow/stream_executor/cuda/cuda_driver.cc:271] failed call to cuInit: CUDA_ERROR_UNKNOWN: unknown error\n",
      "2022-01-12 10:30:26.305153: I tensorflow/stream_executor/cuda/cuda_diagnostics.cc:169] retrieving CUDA diagnostic information for host: ugcpu5\n",
      "2022-01-12 10:30:26.305175: I tensorflow/stream_executor/cuda/cuda_diagnostics.cc:176] hostname: ugcpu5\n",
      "2022-01-12 10:30:26.305417: I tensorflow/stream_executor/cuda/cuda_diagnostics.cc:200] libcuda reported version is: 495.29.5\n",
      "2022-01-12 10:30:26.305547: I tensorflow/stream_executor/cuda/cuda_diagnostics.cc:204] kernel reported version is: 495.29.5\n",
      "2022-01-12 10:30:26.305573: I tensorflow/stream_executor/cuda/cuda_diagnostics.cc:310] kernel version seems to match DSO: 495.29.5\n",
      "2022-01-12 10:30:26.306555: I tensorflow/core/platform/cpu_feature_guard.cc:151] This TensorFlow binary is optimized with oneAPI Deep Neural Network Library (oneDNN) to use the following CPU instructions in performance-critical operations:  AVX2 AVX512F FMA\n",
      "To enable them in other operations, rebuild TensorFlow with the appropriate compiler flags.\n",
      "WARNING:tensorflow:No training configuration found in save file, so the model was *not* compiled. Compile it manually.\n"
     ]
    },
    {
     "name": "stdout",
     "output_type": "stream",
     "text": [
      "\n",
      "top 5 fitness scores:  [0.002 0.002 0.002 0.002 0.002]\n",
      "Taken time: 25.386291980743408\n",
      "\n",
      "Running at iteration 4:\n"
     ]
    },
    {
     "name": "stderr",
     "output_type": "stream",
     "text": [
      "2022-01-12 10:30:50.813853: E tensorflow/stream_executor/cuda/cuda_driver.cc:271] failed call to cuInit: CUDA_ERROR_UNKNOWN: unknown error\n",
      "2022-01-12 10:30:50.813947: I tensorflow/stream_executor/cuda/cuda_diagnostics.cc:169] retrieving CUDA diagnostic information for host: ugcpu5\n",
      "2022-01-12 10:30:50.813961: I tensorflow/stream_executor/cuda/cuda_diagnostics.cc:176] hostname: ugcpu5\n",
      "2022-01-12 10:30:50.814144: I tensorflow/stream_executor/cuda/cuda_diagnostics.cc:200] libcuda reported version is: 495.29.5\n",
      "2022-01-12 10:30:50.814207: I tensorflow/stream_executor/cuda/cuda_diagnostics.cc:204] kernel reported version is: 495.29.5\n",
      "2022-01-12 10:30:50.814221: I tensorflow/stream_executor/cuda/cuda_diagnostics.cc:310] kernel version seems to match DSO: 495.29.5\n",
      "2022-01-12 10:30:50.814817: I tensorflow/core/platform/cpu_feature_guard.cc:151] This TensorFlow binary is optimized with oneAPI Deep Neural Network Library (oneDNN) to use the following CPU instructions in performance-critical operations:  AVX2 AVX512F FMA\n",
      "To enable them in other operations, rebuild TensorFlow with the appropriate compiler flags.\n",
      "WARNING:tensorflow:No training configuration found in save file, so the model was *not* compiled. Compile it manually.\n"
     ]
    },
    {
     "name": "stdout",
     "output_type": "stream",
     "text": [
      "\n",
      "top 5 fitness scores:  [0.002 0.002 0.002 0.002 0.002]\n",
      "Taken time: 23.233681678771973\n",
      "\n",
      "Running at iteration 5:\n"
     ]
    },
    {
     "name": "stderr",
     "output_type": "stream",
     "text": [
      "2022-01-12 10:31:13.681957: E tensorflow/stream_executor/cuda/cuda_driver.cc:271] failed call to cuInit: CUDA_ERROR_UNKNOWN: unknown error\n",
      "2022-01-12 10:31:13.682069: I tensorflow/stream_executor/cuda/cuda_diagnostics.cc:169] retrieving CUDA diagnostic information for host: ugcpu5\n",
      "2022-01-12 10:31:13.682090: I tensorflow/stream_executor/cuda/cuda_diagnostics.cc:176] hostname: ugcpu5\n",
      "2022-01-12 10:31:13.682373: I tensorflow/stream_executor/cuda/cuda_diagnostics.cc:200] libcuda reported version is: 495.29.5\n",
      "2022-01-12 10:31:13.682463: I tensorflow/stream_executor/cuda/cuda_diagnostics.cc:204] kernel reported version is: 495.29.5\n",
      "2022-01-12 10:31:13.682484: I tensorflow/stream_executor/cuda/cuda_diagnostics.cc:310] kernel version seems to match DSO: 495.29.5\n",
      "2022-01-12 10:31:13.683240: I tensorflow/core/platform/cpu_feature_guard.cc:151] This TensorFlow binary is optimized with oneAPI Deep Neural Network Library (oneDNN) to use the following CPU instructions in performance-critical operations:  AVX2 AVX512F FMA\n",
      "To enable them in other operations, rebuild TensorFlow with the appropriate compiler flags.\n",
      "WARNING:tensorflow:No training configuration found in save file, so the model was *not* compiled. Compile it manually.\n"
     ]
    },
    {
     "name": "stdout",
     "output_type": "stream",
     "text": [
      "\n",
      "top 5 fitness scores:  [0.002 0.002 0.002 0.002 0.002]\n",
      "Taken time: 23.824609756469727\n",
      "\n",
      "Total taken time: 123.5499176979065\n"
     ]
    },
    {
     "data": {
      "text/plain": [
       "[<matplotlib.lines.Line2D at 0x7f3178a74ca0>]"
      ]
     },
     "execution_count": 14,
     "metadata": {},
     "output_type": "execute_result"
    },
    {
     "data": {
      "image/png": "[encoded data removed]",
      "text/plain": [
       "<Figure size 432x288 with 1 Axes>"
      ]
     },
     "metadata": {
      "needs_background": "light"
     },
     "output_type": "display_data"
    }
   ],
   "source": [
    "F, fits = ga_main(ga, r2, m, n, layer_idx, 5)\n",
    "plt.plot(fit_grad(fits))"
   ]
  },
  {
   "cell_type": "code",
   "execution_count": 22,
   "metadata": {},
   "outputs": [
    {
     "name": "stdout",
     "output_type": "stream",
     "text": [
      "[0.002 0.002 0.002 0.002 0.002]\n",
      "[0.002 0.002 0.002 0.002 0.002]\n",
      "[0.002 0.002 0.002 0.002 0.002]\n",
      "[0.002 0.002 0.002 0.002 0.002]\n",
      "[0.002 0.002 0.002 0.002 0.002]\n"
     ]
    }
   ],
   "source": [
    "for i in fits:\n",
    "    print(i[1])"
   ]
  },
  {
   "cell_type": "code",
   "execution_count": 20,
   "metadata": {},
   "outputs": [
    {
     "data": {
      "text/plain": [
       "array([0.002, 0.002, 0.002, 0.002, 0.002])"
      ]
     },
     "execution_count": 20,
     "metadata": {},
     "output_type": "execute_result"
    }
   ],
   "source": [
    "fits[0][1]"
   ]
  },
  {
   "cell_type": "code",
   "execution_count": 23,
   "metadata": {},
   "outputs": [],
   "source": [
    "p1 = pickle.loads(r.hget('predictions', 'torch'))\n",
    "p2 = pickle.loads(r.hget('predictions', 'tensorflow'))"
   ]
  },
  {
   "cell_type": "code",
   "execution_count": 31,
   "metadata": {},
   "outputs": [
    {
     "name": "stdout",
     "output_type": "stream",
     "text": [
      "WARNING:tensorflow:No training configuration found in save file, so the model was *not* compiled. Compile it manually.\n"
     ]
    },
    {
     "name": "stderr",
     "output_type": "stream",
     "text": [
      "WARNING:tensorflow:No training configuration found in save file, so the model was *not* compiled. Compile it manually.\n"
     ]
    }
   ],
   "source": [
    "mtf = pickle.loads(r.get('model_tensorflow'))\n",
    "mtorch = pickle.loads(r.get('model_torch'))"
   ]
  },
  {
   "cell_type": "code",
   "execution_count": null,
   "metadata": {},
   "outputs": [],
   "source": [
    "np.argmax(mtf.predict(x_test_224), 1)"
   ]
  },
  {
   "cell_type": "code",
   "execution_count": null,
   "metadata": {},
   "outputs": [],
   "source": [
    "np.argmax(torch.from_numpy(mtorch(x_test_224)), 1)"
   ]
  },
  {
   "cell_type": "code",
   "execution_count": 24,
   "metadata": {},
   "outputs": [
    {
     "data": {
      "text/plain": [
       "array([[6.82206934e-40, 1.35114827e-45, 1.92566959e-35, ...,\n",
       "        3.77341892e-33, 5.72739720e-43, 2.33243771e-42],\n",
       "       [9.96975754e-41, 6.52155654e-47, 5.06395418e-37, ...,\n",
       "        1.19983978e-33, 1.02926005e-43, 5.65775128e-44],\n",
       "       [9.65910492e-38, 1.02631911e-43, 3.40957668e-34, ...,\n",
       "        1.66341261e-31, 1.11717682e-40, 1.53695508e-40],\n",
       "       ...,\n",
       "       [4.81537563e-43, 1.24976104e-49, 6.18102555e-39, ...,\n",
       "        6.73512318e-36, 1.65514510e-46, 2.35622283e-46],\n",
       "       [4.22754820e-43, 7.55845361e-50, 3.31910529e-39, ...,\n",
       "        1.02892981e-35, 8.69494247e-47, 2.76188293e-46],\n",
       "       [6.74562307e-42, 3.88240532e-48, 5.13504701e-38, ...,\n",
       "        6.57805252e-35, 3.16618597e-45, 5.26142560e-45]])"
      ]
     },
     "execution_count": 24,
     "metadata": {},
     "output_type": "execute_result"
    }
   ],
   "source": [
    "p1"
   ]
  },
  {
   "cell_type": "code",
   "execution_count": 29,
   "metadata": {},
   "outputs": [
    {
     "data": {
      "text/plain": [
       "array([944, 944, 944, 944, 944, 944, 944, 944, 944, 944, 944, 944, 944,\n",
       "       944, 944, 944, 944, 944, 944, 944, 944, 944, 944, 944, 944, 944,\n",
       "       944, 944, 944, 944, 944, 944, 944, 944, 944, 944, 944, 944, 944,\n",
       "       944, 944, 944, 944, 944, 944, 944, 944, 944, 944, 944])"
      ]
     },
     "execution_count": 29,
     "metadata": {},
     "output_type": "execute_result"
    }
   ],
   "source": [
    "np.argmax(p1, 1)"
   ]
  },
  {
   "cell_type": "code",
   "execution_count": 30,
   "metadata": {},
   "outputs": [
    {
     "data": {
      "text/plain": [
       "array([725, 725, 725, 725, 725, 725, 725, 725, 725, 725, 725, 725, 725,\n",
       "       725, 725, 725, 725, 725, 725, 725, 725, 725, 725, 725, 725, 725,\n",
       "       725, 725, 725, 725, 725, 725, 725, 725, 725, 725, 725, 725, 725,\n",
       "       725, 725, 725, 725, 725, 725, 725, 725, 725, 725, 725])"
      ]
     },
     "execution_count": 30,
     "metadata": {},
     "output_type": "execute_result"
    }
   ],
   "source": [
    "np.argmax(p2, 1)"
   ]
  },
  {
   "cell_type": "code",
   "execution_count": 33,
   "metadata": {
    "scrolled": true
   },
   "outputs": [
    {
     "name": "stdout",
     "output_type": "stream",
     "text": [
      "Running at iteration 1:\n"
     ]
    },
    {
     "name": "stderr",
     "output_type": "stream",
     "text": [
      "2022-01-11 21:03:25.456852: E tensorflow/stream_executor/cuda/cuda_driver.cc:271] failed call to cuInit: CUDA_ERROR_UNKNOWN: unknown error\n",
      "2022-01-11 21:03:25.456947: I tensorflow/stream_executor/cuda/cuda_diagnostics.cc:169] retrieving CUDA diagnostic information for host: ugcpu5\n",
      "2022-01-11 21:03:25.456962: I tensorflow/stream_executor/cuda/cuda_diagnostics.cc:176] hostname: ugcpu5\n",
      "2022-01-11 21:03:25.457122: I tensorflow/stream_executor/cuda/cuda_diagnostics.cc:200] libcuda reported version is: 495.29.5\n",
      "2022-01-11 21:03:25.457183: I tensorflow/stream_executor/cuda/cuda_diagnostics.cc:204] kernel reported version is: 495.29.5\n",
      "2022-01-11 21:03:25.457197: I tensorflow/stream_executor/cuda/cuda_diagnostics.cc:310] kernel version seems to match DSO: 495.29.5\n",
      "2022-01-11 21:03:25.457814: I tensorflow/core/platform/cpu_feature_guard.cc:151] This TensorFlow binary is optimized with oneAPI Deep Neural Network Library (oneDNN) to use the following CPU instructions in performance-critical operations:  AVX2 AVX512F FMA\n",
      "To enable them in other operations, rebuild TensorFlow with the appropriate compiler flags.\n",
      "WARNING:tensorflow:No training configuration found in save file, so the model was *not* compiled. Compile it manually.\n"
     ]
    },
    {
     "name": "stdout",
     "output_type": "stream",
     "text": [
      "\n",
      "top 5 fitness scores:  [3.56788054e-09 5.22732808e-09 3.69479975e-09 3.83440839e-09\n",
      " 4.15316142e-09]\n",
      "Taken time: 25.70401906967163\n",
      "\n",
      "Running at iteration 2:\n"
     ]
    },
    {
     "name": "stderr",
     "output_type": "stream",
     "text": [
      "2022-01-11 21:03:48.108004: E tensorflow/stream_executor/cuda/cuda_driver.cc:271] failed call to cuInit: CUDA_ERROR_UNKNOWN: unknown error\n",
      "2022-01-11 21:03:48.108089: I tensorflow/stream_executor/cuda/cuda_diagnostics.cc:169] retrieving CUDA diagnostic information for host: ugcpu5\n",
      "2022-01-11 21:03:48.108106: I tensorflow/stream_executor/cuda/cuda_diagnostics.cc:176] hostname: ugcpu5\n",
      "2022-01-11 21:03:48.108258: I tensorflow/stream_executor/cuda/cuda_diagnostics.cc:200] libcuda reported version is: 495.29.5\n",
      "2022-01-11 21:03:48.108321: I tensorflow/stream_executor/cuda/cuda_diagnostics.cc:204] kernel reported version is: 495.29.5\n",
      "2022-01-11 21:03:48.108337: I tensorflow/stream_executor/cuda/cuda_diagnostics.cc:310] kernel version seems to match DSO: 495.29.5\n",
      "2022-01-11 21:03:48.108834: I tensorflow/core/platform/cpu_feature_guard.cc:151] This TensorFlow binary is optimized with oneAPI Deep Neural Network Library (oneDNN) to use the following CPU instructions in performance-critical operations:  AVX2 AVX512F FMA\n",
      "To enable them in other operations, rebuild TensorFlow with the appropriate compiler flags.\n",
      "WARNING:tensorflow:No training configuration found in save file, so the model was *not* compiled. Compile it manually.\n"
     ]
    },
    {
     "name": "stdout",
     "output_type": "stream",
     "text": [
      "\n",
      "top 5 fitness scores:  [3.56788054e-09 3.69479975e-09 3.83440839e-09 5.22732808e-09\n",
      " 4.15316142e-09]\n",
      "Taken time: 24.407358407974243\n",
      "\n",
      "Running at iteration 3:\n"
     ]
    },
    {
     "name": "stderr",
     "output_type": "stream",
     "text": [
      "2022-01-11 21:04:12.486712: E tensorflow/stream_executor/cuda/cuda_driver.cc:271] failed call to cuInit: CUDA_ERROR_UNKNOWN: unknown error\n",
      "2022-01-11 21:04:12.486786: I tensorflow/stream_executor/cuda/cuda_diagnostics.cc:169] retrieving CUDA diagnostic information for host: ugcpu5\n",
      "2022-01-11 21:04:12.486800: I tensorflow/stream_executor/cuda/cuda_diagnostics.cc:176] hostname: ugcpu5\n",
      "2022-01-11 21:04:12.486947: I tensorflow/stream_executor/cuda/cuda_diagnostics.cc:200] libcuda reported version is: 495.29.5\n",
      "2022-01-11 21:04:12.487014: I tensorflow/stream_executor/cuda/cuda_diagnostics.cc:204] kernel reported version is: 495.29.5\n",
      "2022-01-11 21:04:12.487029: I tensorflow/stream_executor/cuda/cuda_diagnostics.cc:310] kernel version seems to match DSO: 495.29.5\n",
      "2022-01-11 21:04:12.487494: I tensorflow/core/platform/cpu_feature_guard.cc:151] This TensorFlow binary is optimized with oneAPI Deep Neural Network Library (oneDNN) to use the following CPU instructions in performance-critical operations:  AVX2 AVX512F FMA\n",
      "To enable them in other operations, rebuild TensorFlow with the appropriate compiler flags.\n",
      "WARNING:tensorflow:No training configuration found in save file, so the model was *not* compiled. Compile it manually.\n"
     ]
    },
    {
     "name": "stdout",
     "output_type": "stream",
     "text": [
      "\n",
      "top 5 fitness scores:  [3.56788054e-09 5.22732808e-09 4.15316142e-09 3.83440839e-09\n",
      " 3.69479975e-09]\n",
      "Taken time: 22.17223572731018\n",
      "\n",
      "Running at iteration 4:\n"
     ]
    },
    {
     "name": "stderr",
     "output_type": "stream",
     "text": [
      "2022-01-11 21:04:35.094969: E tensorflow/stream_executor/cuda/cuda_driver.cc:271] failed call to cuInit: CUDA_ERROR_UNKNOWN: unknown error\n",
      "2022-01-11 21:04:35.095046: I tensorflow/stream_executor/cuda/cuda_diagnostics.cc:169] retrieving CUDA diagnostic information for host: ugcpu5\n",
      "2022-01-11 21:04:35.095059: I tensorflow/stream_executor/cuda/cuda_diagnostics.cc:176] hostname: ugcpu5\n",
      "2022-01-11 21:04:35.095200: I tensorflow/stream_executor/cuda/cuda_diagnostics.cc:200] libcuda reported version is: 495.29.5\n",
      "2022-01-11 21:04:35.095279: I tensorflow/stream_executor/cuda/cuda_diagnostics.cc:204] kernel reported version is: 495.29.5\n",
      "2022-01-11 21:04:35.095293: I tensorflow/stream_executor/cuda/cuda_diagnostics.cc:310] kernel version seems to match DSO: 495.29.5\n",
      "2022-01-11 21:04:35.095906: I tensorflow/core/platform/cpu_feature_guard.cc:151] This TensorFlow binary is optimized with oneAPI Deep Neural Network Library (oneDNN) to use the following CPU instructions in performance-critical operations:  AVX2 AVX512F FMA\n",
      "To enable them in other operations, rebuild TensorFlow with the appropriate compiler flags.\n",
      "WARNING:tensorflow:No training configuration found in save file, so the model was *not* compiled. Compile it manually.\n"
     ]
    },
    {
     "name": "stdout",
     "output_type": "stream",
     "text": [
      "\n",
      "top 5 fitness scores:  [3.56788054e-09 3.69479975e-09 3.83440839e-09 4.15316142e-09\n",
      " 5.22732808e-09]\n",
      "Taken time: 23.324485778808594\n",
      "\n",
      "Running at iteration 5:\n"
     ]
    },
    {
     "name": "stderr",
     "output_type": "stream",
     "text": [
      "2022-01-11 21:04:58.041943: E tensorflow/stream_executor/cuda/cuda_driver.cc:271] failed call to cuInit: CUDA_ERROR_UNKNOWN: unknown error\n",
      "2022-01-11 21:04:58.042035: I tensorflow/stream_executor/cuda/cuda_diagnostics.cc:169] retrieving CUDA diagnostic information for host: ugcpu5\n",
      "2022-01-11 21:04:58.042052: I tensorflow/stream_executor/cuda/cuda_diagnostics.cc:176] hostname: ugcpu5\n",
      "2022-01-11 21:04:58.042216: I tensorflow/stream_executor/cuda/cuda_diagnostics.cc:200] libcuda reported version is: 495.29.5\n",
      "2022-01-11 21:04:58.042285: I tensorflow/stream_executor/cuda/cuda_diagnostics.cc:204] kernel reported version is: 495.29.5\n",
      "2022-01-11 21:04:58.042303: I tensorflow/stream_executor/cuda/cuda_diagnostics.cc:310] kernel version seems to match DSO: 495.29.5\n",
      "2022-01-11 21:04:58.043574: I tensorflow/core/platform/cpu_feature_guard.cc:151] This TensorFlow binary is optimized with oneAPI Deep Neural Network Library (oneDNN) to use the following CPU instructions in performance-critical operations:  AVX2 AVX512F FMA\n",
      "To enable them in other operations, rebuild TensorFlow with the appropriate compiler flags.\n",
      "WARNING:tensorflow:No training configuration found in save file, so the model was *not* compiled. Compile it manually.\n"
     ]
    },
    {
     "name": "stdout",
     "output_type": "stream",
     "text": [
      "\n",
      "top 5 fitness scores:  [3.56788054e-09 3.83440839e-09 4.15316142e-09 3.69479975e-09\n",
      " 5.22732808e-09]\n",
      "Taken time: 22.89551854133606\n",
      "\n",
      "Running at iteration 6:\n"
     ]
    },
    {
     "name": "stderr",
     "output_type": "stream",
     "text": [
      "2022-01-11 21:05:21.359353: E tensorflow/stream_executor/cuda/cuda_driver.cc:271] failed call to cuInit: CUDA_ERROR_UNKNOWN: unknown error\n",
      "2022-01-11 21:05:21.359428: I tensorflow/stream_executor/cuda/cuda_diagnostics.cc:169] retrieving CUDA diagnostic information for host: ugcpu5\n",
      "2022-01-11 21:05:21.359442: I tensorflow/stream_executor/cuda/cuda_diagnostics.cc:176] hostname: ugcpu5\n",
      "2022-01-11 21:05:21.359580: I tensorflow/stream_executor/cuda/cuda_diagnostics.cc:200] libcuda reported version is: 495.29.5\n",
      "2022-01-11 21:05:21.359637: I tensorflow/stream_executor/cuda/cuda_diagnostics.cc:204] kernel reported version is: 495.29.5\n",
      "2022-01-11 21:05:21.359652: I tensorflow/stream_executor/cuda/cuda_diagnostics.cc:310] kernel version seems to match DSO: 495.29.5\n",
      "2022-01-11 21:05:21.360147: I tensorflow/core/platform/cpu_feature_guard.cc:151] This TensorFlow binary is optimized with oneAPI Deep Neural Network Library (oneDNN) to use the following CPU instructions in performance-critical operations:  AVX2 AVX512F FMA\n",
      "To enable them in other operations, rebuild TensorFlow with the appropriate compiler flags.\n",
      "WARNING:tensorflow:No training configuration found in save file, so the model was *not* compiled. Compile it manually.\n"
     ]
    },
    {
     "name": "stdout",
     "output_type": "stream",
     "text": [
      "\n",
      "top 5 fitness scores:  [3.56788054e-09 5.22732808e-09 3.69479975e-09 4.15316142e-09\n",
      " 3.83440839e-09]\n",
      "Taken time: 24.854542016983032\n",
      "\n",
      "Running at iteration 7:\n"
     ]
    },
    {
     "name": "stderr",
     "output_type": "stream",
     "text": [
      "2022-01-11 21:05:46.396184: E tensorflow/stream_executor/cuda/cuda_driver.cc:271] failed call to cuInit: CUDA_ERROR_UNKNOWN: unknown error\n",
      "2022-01-11 21:05:46.396287: I tensorflow/stream_executor/cuda/cuda_diagnostics.cc:169] retrieving CUDA diagnostic information for host: ugcpu5\n",
      "2022-01-11 21:05:46.396302: I tensorflow/stream_executor/cuda/cuda_diagnostics.cc:176] hostname: ugcpu5\n",
      "2022-01-11 21:05:46.396548: I tensorflow/stream_executor/cuda/cuda_diagnostics.cc:200] libcuda reported version is: 495.29.5\n",
      "2022-01-11 21:05:46.396616: I tensorflow/stream_executor/cuda/cuda_diagnostics.cc:204] kernel reported version is: 495.29.5\n",
      "2022-01-11 21:05:46.396628: I tensorflow/stream_executor/cuda/cuda_diagnostics.cc:310] kernel version seems to match DSO: 495.29.5\n",
      "2022-01-11 21:05:46.397423: I tensorflow/core/platform/cpu_feature_guard.cc:151] This TensorFlow binary is optimized with oneAPI Deep Neural Network Library (oneDNN) to use the following CPU instructions in performance-critical operations:  AVX2 AVX512F FMA\n",
      "To enable them in other operations, rebuild TensorFlow with the appropriate compiler flags.\n",
      "WARNING:tensorflow:No training configuration found in save file, so the model was *not* compiled. Compile it manually.\n"
     ]
    },
    {
     "name": "stdout",
     "output_type": "stream",
     "text": [
      "\n",
      "top 5 fitness scores:  [3.56788054e-09 3.69479975e-09 3.83440839e-09 4.15316142e-09\n",
      " 5.22732808e-09]\n",
      "Taken time: 24.668198108673096\n",
      "\n",
      "Running at iteration 8:\n"
     ]
    },
    {
     "name": "stderr",
     "output_type": "stream",
     "text": [
      "2022-01-11 21:06:10.969122: E tensorflow/stream_executor/cuda/cuda_driver.cc:271] failed call to cuInit: CUDA_ERROR_UNKNOWN: unknown error\n",
      "2022-01-11 21:06:10.969197: I tensorflow/stream_executor/cuda/cuda_diagnostics.cc:169] retrieving CUDA diagnostic information for host: ugcpu5\n",
      "2022-01-11 21:06:10.969211: I tensorflow/stream_executor/cuda/cuda_diagnostics.cc:176] hostname: ugcpu5\n",
      "2022-01-11 21:06:10.969340: I tensorflow/stream_executor/cuda/cuda_diagnostics.cc:200] libcuda reported version is: 495.29.5\n",
      "2022-01-11 21:06:10.969421: I tensorflow/stream_executor/cuda/cuda_diagnostics.cc:204] kernel reported version is: 495.29.5\n",
      "2022-01-11 21:06:10.969449: I tensorflow/stream_executor/cuda/cuda_diagnostics.cc:310] kernel version seems to match DSO: 495.29.5\n",
      "2022-01-11 21:06:10.970607: I tensorflow/core/platform/cpu_feature_guard.cc:151] This TensorFlow binary is optimized with oneAPI Deep Neural Network Library (oneDNN) to use the following CPU instructions in performance-critical operations:  AVX2 AVX512F FMA\n",
      "To enable them in other operations, rebuild TensorFlow with the appropriate compiler flags.\n",
      "WARNING:tensorflow:No training configuration found in save file, so the model was *not* compiled. Compile it manually.\n"
     ]
    },
    {
     "name": "stdout",
     "output_type": "stream",
     "text": [
      "\n",
      "top 5 fitness scores:  [3.56788054e-09 4.15316142e-09 3.83440839e-09 5.22732808e-09\n",
      " 3.69479975e-09]\n",
      "Taken time: 25.800315380096436\n",
      "\n",
      "Running at iteration 9:\n"
     ]
    },
    {
     "name": "stderr",
     "output_type": "stream",
     "text": [
      "2022-01-11 21:06:36.793737: E tensorflow/stream_executor/cuda/cuda_driver.cc:271] failed call to cuInit: CUDA_ERROR_UNKNOWN: unknown error\n",
      "2022-01-11 21:06:36.793837: I tensorflow/stream_executor/cuda/cuda_diagnostics.cc:169] retrieving CUDA diagnostic information for host: ugcpu5\n",
      "2022-01-11 21:06:36.793852: I tensorflow/stream_executor/cuda/cuda_diagnostics.cc:176] hostname: ugcpu5\n",
      "2022-01-11 21:06:36.794009: I tensorflow/stream_executor/cuda/cuda_diagnostics.cc:200] libcuda reported version is: 495.29.5\n",
      "2022-01-11 21:06:36.794076: I tensorflow/stream_executor/cuda/cuda_diagnostics.cc:204] kernel reported version is: 495.29.5\n",
      "2022-01-11 21:06:36.794091: I tensorflow/stream_executor/cuda/cuda_diagnostics.cc:310] kernel version seems to match DSO: 495.29.5\n",
      "2022-01-11 21:06:36.794665: I tensorflow/core/platform/cpu_feature_guard.cc:151] This TensorFlow binary is optimized with oneAPI Deep Neural Network Library (oneDNN) to use the following CPU instructions in performance-critical operations:  AVX2 AVX512F FMA\n",
      "To enable them in other operations, rebuild TensorFlow with the appropriate compiler flags.\n",
      "WARNING:tensorflow:No training configuration found in save file, so the model was *not* compiled. Compile it manually.\n"
     ]
    },
    {
     "name": "stdout",
     "output_type": "stream",
     "text": [
      "\n",
      "top 5 fitness scores:  [3.56788054e-09 3.69479975e-09 5.22732808e-09 3.83440839e-09\n",
      " 4.15316142e-09]\n",
      "Taken time: 26.566176652908325\n",
      "\n",
      "Running at iteration 10:\n"
     ]
    },
    {
     "name": "stderr",
     "output_type": "stream",
     "text": [
      "2022-01-11 21:07:03.891800: E tensorflow/stream_executor/cuda/cuda_driver.cc:271] failed call to cuInit: CUDA_ERROR_UNKNOWN: unknown error\n",
      "2022-01-11 21:07:03.891926: I tensorflow/stream_executor/cuda/cuda_diagnostics.cc:169] retrieving CUDA diagnostic information for host: ugcpu5\n",
      "2022-01-11 21:07:03.891944: I tensorflow/stream_executor/cuda/cuda_diagnostics.cc:176] hostname: ugcpu5\n",
      "2022-01-11 21:07:03.892148: I tensorflow/stream_executor/cuda/cuda_diagnostics.cc:200] libcuda reported version is: 495.29.5\n",
      "2022-01-11 21:07:03.892222: I tensorflow/stream_executor/cuda/cuda_diagnostics.cc:204] kernel reported version is: 495.29.5\n",
      "2022-01-11 21:07:03.892240: I tensorflow/stream_executor/cuda/cuda_diagnostics.cc:310] kernel version seems to match DSO: 495.29.5\n",
      "2022-01-11 21:07:03.892943: I tensorflow/core/platform/cpu_feature_guard.cc:151] This TensorFlow binary is optimized with oneAPI Deep Neural Network Library (oneDNN) to use the following CPU instructions in performance-critical operations:  AVX2 AVX512F FMA\n",
      "To enable them in other operations, rebuild TensorFlow with the appropriate compiler flags.\n",
      "WARNING:tensorflow:No training configuration found in save file, so the model was *not* compiled. Compile it manually.\n"
     ]
    },
    {
     "name": "stdout",
     "output_type": "stream",
     "text": [
      "\n",
      "top 5 fitness scores:  [3.56788054e-09 3.83440839e-09 4.15316142e-09 5.22732808e-09\n",
      " 3.69479975e-09]\n",
      "Taken time: 27.406882524490356\n",
      "\n",
      "Total taken time: 247.8103892803192\n"
     ]
    }
   ],
   "source": [
    "F, fits = ga_main(ga, r2, m, n, layer_idx, 10)"
   ]
  },
  {
   "cell_type": "code",
   "execution_count": 28,
   "metadata": {
    "scrolled": false
   },
   "outputs": [],
   "source": [
    "p1 = pickle.loads(r.hget('predictions', 'torch'))\n",
    "p2 = pickle.loads(r.hget('predictions', 'tensorflow'))"
   ]
  },
  {
   "cell_type": "code",
   "execution_count": 29,
   "metadata": {
    "scrolled": false
   },
   "outputs": [
    {
     "data": {
      "text/plain": [
       "array([[2.82194926e-11, 1.44428334e-18, 7.16780191e-16, ...,\n",
       "        3.90808692e-19, 1.61545576e-20, 1.97046983e-13],\n",
       "       [1.59556028e-09, 5.16059024e-16, 1.27190581e-13, ...,\n",
       "        3.37234088e-16, 1.21772791e-17, 2.24896123e-11],\n",
       "       [9.74918455e-11, 1.01199738e-17, 2.97108856e-15, ...,\n",
       "        1.56736298e-18, 8.28867553e-20, 1.05882043e-12],\n",
       "       ...,\n",
       "       [4.50610246e-11, 5.61226230e-18, 3.03547925e-15, ...,\n",
       "        2.35921026e-18, 1.23259275e-19, 8.85315878e-13],\n",
       "       [9.44421071e-10, 2.38834896e-16, 5.72477471e-14, ...,\n",
       "        2.68718496e-16, 1.59494686e-17, 1.40705448e-11],\n",
       "       [6.80749666e-10, 2.57135090e-16, 7.21006186e-14, ...,\n",
       "        2.34206686e-16, 9.39343533e-18, 1.02856914e-11]])"
      ]
     },
     "execution_count": 29,
     "metadata": {},
     "output_type": "execute_result"
    }
   ],
   "source": [
    "p1"
   ]
  },
  {
   "cell_type": "code",
   "execution_count": 30,
   "metadata": {
    "scrolled": false
   },
   "outputs": [
    {
     "data": {
      "text/plain": [
       "array([[2.82203410e-11, 1.44437057e-18, 7.16818784e-16, ...,\n",
       "        3.90831698e-19, 1.61555078e-20, 1.97054599e-13],\n",
       "       [1.59559432e-09, 5.16082087e-16, 1.27195590e-13, ...,\n",
       "        3.37247280e-16, 1.21778059e-17, 2.24901781e-11],\n",
       "       [9.74944361e-11, 1.01205482e-17, 2.97124060e-15, ...,\n",
       "        1.56744646e-18, 8.28915107e-20, 1.05886242e-12],\n",
       "       ...,\n",
       "       [4.50624052e-11, 5.61253833e-18, 3.03560599e-15, ...,\n",
       "        2.35933583e-18, 1.23266119e-19, 8.85346158e-13],\n",
       "       [9.44446854e-10, 2.38845636e-16, 5.72507062e-14, ...,\n",
       "        2.68729938e-16, 1.59502855e-17, 1.40710195e-11],\n",
       "       [6.80768608e-10, 2.57146947e-16, 7.21037203e-14, ...,\n",
       "        2.34218904e-16, 9.39387911e-18, 1.02860654e-11]], dtype=float32)"
      ]
     },
     "execution_count": 30,
     "metadata": {},
     "output_type": "execute_result"
    }
   ],
   "source": [
    "p2"
   ]
  },
  {
   "cell_type": "code",
   "execution_count": 12,
   "metadata": {
    "scrolled": true
   },
   "outputs": [
    {
     "name": "stdout",
     "output_type": "stream",
     "text": [
      "Running at iteration 1:\n",
      "ERROR! Session/line number was not unique in database. History logging moved to new session 630\n"
     ]
    },
    {
     "name": "stderr",
     "output_type": "stream",
     "text": [
      "ERROR:root:Internal Python error in the inspect module.\n",
      "Below is the traceback from this internal error.\n",
      "\n"
     ]
    },
    {
     "name": "stdout",
     "output_type": "stream",
     "text": [
      "Traceback (most recent call last):\n",
      "  File \"/data/yylaiai/anaconda3/envs/fyp_v3/lib/python3.9/site-packages/IPython/core/interactiveshell.py\", line 3444, in run_code\n",
      "    exec(code_obj, self.user_global_ns, self.user_ns)\n",
      "  File \"/tmp/ipykernel_31152/1451051051.py\", line 1, in <module>\n",
      "    F, fits = ga_main(ga, r2, m, n, layer_idx, 100)\n",
      "  File \"/tmp/ipykernel_31152/2930543055.py\", line 8, in ga_main\n",
      "    Fit = ga.computeFitness(layer_idx)\n",
      "  File \"/tmp/ipykernel_31152/2045758454.py\", line 70, in computeFitness\n",
      "    self.fitness_values = np.squeeze(self.FFunc.compute(layer_idx))\n",
      "  File \"/tmp/ipykernel_31152/4046567179.py\", line 84, in compute\n",
      "    p2.start()\n",
      "  File \"/data/yylaiai/anaconda3/envs/fyp_v3/lib/python3.9/multiprocessing/process.py\", line 121, in start\n",
      "    self._popen = self._Popen(self)\n",
      "  File \"/data/yylaiai/anaconda3/envs/fyp_v3/lib/python3.9/multiprocessing/context.py\", line 224, in _Popen\n",
      "    return _default_context.get_context().Process._Popen(process_obj)\n",
      "KeyboardInterrupt\n",
      "\n",
      "During handling of the above exception, another exception occurred:\n",
      "\n",
      "Traceback (most recent call last):\n",
      "  File \"/data/yylaiai/anaconda3/envs/fyp_v3/lib/python3.9/site-packages/IPython/core/interactiveshell.py\", line 2064, in showtraceback\n",
      "    stb = value._render_traceback_()\n",
      "AttributeError: 'KeyboardInterrupt' object has no attribute '_render_traceback_'\n",
      "\n",
      "During handling of the above exception, another exception occurred:\n",
      "\n",
      "Traceback (most recent call last):\n",
      "  File \"/data/yylaiai/anaconda3/envs/fyp_v3/lib/python3.9/site-packages/IPython/core/ultratb.py\", line 1101, in get_records\n",
      "    return _fixed_getinnerframes(etb, number_of_lines_of_context, tb_offset)\n",
      "  File \"/data/yylaiai/anaconda3/envs/fyp_v3/lib/python3.9/site-packages/IPython/core/ultratb.py\", line 248, in wrapped\n",
      "    return f(*args, **kwargs)\n",
      "  File \"/data/yylaiai/anaconda3/envs/fyp_v3/lib/python3.9/site-packages/IPython/core/ultratb.py\", line 281, in _fixed_getinnerframes\n",
      "    records = fix_frame_records_filenames(inspect.getinnerframes(etb, context))\n",
      "  File \"/data/yylaiai/anaconda3/envs/fyp_v3/lib/python3.9/inspect.py\", line 1541, in getinnerframes\n",
      "    frameinfo = (tb.tb_frame,) + getframeinfo(tb, context)\n",
      "  File \"/data/yylaiai/anaconda3/envs/fyp_v3/lib/python3.9/inspect.py\", line 1499, in getframeinfo\n",
      "    filename = getsourcefile(frame) or getfile(frame)\n",
      "  File \"/data/yylaiai/anaconda3/envs/fyp_v3/lib/python3.9/inspect.py\", line 709, in getsourcefile\n",
      "    if getattr(getmodule(object, filename), '__loader__', None) is not None:\n",
      "  File \"/data/yylaiai/anaconda3/envs/fyp_v3/lib/python3.9/inspect.py\", line 755, in getmodule\n",
      "    os.path.realpath(f)] = module.__name__\n",
      "  File \"/data/yylaiai/anaconda3/envs/fyp_v3/lib/python3.9/posixpath.py\", line 392, in realpath\n",
      "    path, ok = _joinrealpath(filename[:0], filename, {})\n",
      "  File \"/data/yylaiai/anaconda3/envs/fyp_v3/lib/python3.9/posixpath.py\", line 426, in _joinrealpath\n",
      "    if not islink(newpath):\n",
      "  File \"/data/yylaiai/anaconda3/envs/fyp_v3/lib/python3.9/posixpath.py\", line 167, in islink\n",
      "    st = os.lstat(path)\n",
      "KeyboardInterrupt\n"
     ]
    },
    {
     "ename": "TypeError",
     "evalue": "object of type 'NoneType' has no len()",
     "output_type": "error",
     "traceback": [
      "\u001b[0;31m---------------------------------------------------------------------------\u001b[0m",
      "\u001b[0;31mKeyboardInterrupt\u001b[0m                         Traceback (most recent call last)",
      "    \u001b[0;31m[... skipping hidden 1 frame]\u001b[0m\n",
      "\u001b[0;32m/tmp/ipykernel_31152/1451051051.py\u001b[0m in \u001b[0;36m<module>\u001b[0;34m\u001b[0m\n\u001b[0;32m----> 1\u001b[0;31m \u001b[0mF\u001b[0m\u001b[0;34m,\u001b[0m \u001b[0mfits\u001b[0m \u001b[0;34m=\u001b[0m \u001b[0mga_main\u001b[0m\u001b[0;34m(\u001b[0m\u001b[0mga\u001b[0m\u001b[0;34m,\u001b[0m \u001b[0mr2\u001b[0m\u001b[0;34m,\u001b[0m \u001b[0mm\u001b[0m\u001b[0;34m,\u001b[0m \u001b[0mn\u001b[0m\u001b[0;34m,\u001b[0m \u001b[0mlayer_idx\u001b[0m\u001b[0;34m,\u001b[0m \u001b[0;36m100\u001b[0m\u001b[0;34m)\u001b[0m\u001b[0;34m\u001b[0m\u001b[0;34m\u001b[0m\u001b[0m\n\u001b[0m",
      "\u001b[0;32m/tmp/ipykernel_31152/2930543055.py\u001b[0m in \u001b[0;36mga_main\u001b[0;34m(ga, r2, m, n, layer_idx, maxIter)\u001b[0m\n\u001b[1;32m      7\u001b[0m         \u001b[0miter_start_time\u001b[0m \u001b[0;34m=\u001b[0m \u001b[0mtime\u001b[0m\u001b[0;34m.\u001b[0m\u001b[0mtime\u001b[0m\u001b[0;34m(\u001b[0m\u001b[0;34m)\u001b[0m\u001b[0;34m\u001b[0m\u001b[0;34m\u001b[0m\u001b[0m\n\u001b[0;32m----> 8\u001b[0;31m         \u001b[0mFit\u001b[0m \u001b[0;34m=\u001b[0m \u001b[0mga\u001b[0m\u001b[0;34m.\u001b[0m\u001b[0mcomputeFitness\u001b[0m\u001b[0;34m(\u001b[0m\u001b[0mlayer_idx\u001b[0m\u001b[0;34m)\u001b[0m\u001b[0;34m\u001b[0m\u001b[0;34m\u001b[0m\u001b[0m\n\u001b[0m\u001b[1;32m      9\u001b[0m         \u001b[0mtop_k_fitness\u001b[0m \u001b[0;34m=\u001b[0m \u001b[0mga\u001b[0m\u001b[0;34m.\u001b[0m\u001b[0mgetTopK_Fit\u001b[0m\u001b[0;34m(\u001b[0m\u001b[0mm\u001b[0m\u001b[0;34m)\u001b[0m\u001b[0;34m\u001b[0m\u001b[0;34m\u001b[0m\u001b[0m\n",
      "\u001b[0;32m/tmp/ipykernel_31152/2045758454.py\u001b[0m in \u001b[0;36mcomputeFitness\u001b[0;34m(self, layer_idx)\u001b[0m\n\u001b[1;32m     69\u001b[0m     \u001b[0;32mdef\u001b[0m \u001b[0mcomputeFitness\u001b[0m\u001b[0;34m(\u001b[0m\u001b[0mself\u001b[0m\u001b[0;34m,\u001b[0m \u001b[0mlayer_idx\u001b[0m\u001b[0;34m)\u001b[0m\u001b[0;34m:\u001b[0m\u001b[0;34m\u001b[0m\u001b[0;34m\u001b[0m\u001b[0m\n\u001b[0;32m---> 70\u001b[0;31m         \u001b[0mself\u001b[0m\u001b[0;34m.\u001b[0m\u001b[0mfitness_values\u001b[0m \u001b[0;34m=\u001b[0m \u001b[0mnp\u001b[0m\u001b[0;34m.\u001b[0m\u001b[0msqueeze\u001b[0m\u001b[0;34m(\u001b[0m\u001b[0mself\u001b[0m\u001b[0;34m.\u001b[0m\u001b[0mFFunc\u001b[0m\u001b[0;34m.\u001b[0m\u001b[0mcompute\u001b[0m\u001b[0;34m(\u001b[0m\u001b[0mlayer_idx\u001b[0m\u001b[0;34m)\u001b[0m\u001b[0;34m)\u001b[0m\u001b[0;34m\u001b[0m\u001b[0;34m\u001b[0m\u001b[0m\n\u001b[0m\u001b[1;32m     71\u001b[0m         \u001b[0;32mreturn\u001b[0m \u001b[0mself\u001b[0m\u001b[0;34m.\u001b[0m\u001b[0mfitness_values\u001b[0m\u001b[0;34m\u001b[0m\u001b[0;34m\u001b[0m\u001b[0m\n",
      "\u001b[0;32m/tmp/ipykernel_31152/4046567179.py\u001b[0m in \u001b[0;36mcompute\u001b[0;34m(self, layer_idx)\u001b[0m\n\u001b[1;32m     83\u001b[0m         \u001b[0mp1\u001b[0m\u001b[0;34m.\u001b[0m\u001b[0mstart\u001b[0m\u001b[0;34m(\u001b[0m\u001b[0;34m)\u001b[0m\u001b[0;34m\u001b[0m\u001b[0;34m\u001b[0m\u001b[0m\n\u001b[0;32m---> 84\u001b[0;31m         \u001b[0mp2\u001b[0m\u001b[0;34m.\u001b[0m\u001b[0mstart\u001b[0m\u001b[0;34m(\u001b[0m\u001b[0;34m)\u001b[0m\u001b[0;34m\u001b[0m\u001b[0;34m\u001b[0m\u001b[0m\n\u001b[0m\u001b[1;32m     85\u001b[0m         \u001b[0mp1\u001b[0m\u001b[0;34m.\u001b[0m\u001b[0mjoin\u001b[0m\u001b[0;34m(\u001b[0m\u001b[0;34m)\u001b[0m\u001b[0;34m\u001b[0m\u001b[0;34m\u001b[0m\u001b[0m\n",
      "\u001b[0;32m~/anaconda3/envs/fyp_v3/lib/python3.9/multiprocessing/process.py\u001b[0m in \u001b[0;36mstart\u001b[0;34m(self)\u001b[0m\n\u001b[1;32m    120\u001b[0m         \u001b[0m_cleanup\u001b[0m\u001b[0;34m(\u001b[0m\u001b[0;34m)\u001b[0m\u001b[0;34m\u001b[0m\u001b[0;34m\u001b[0m\u001b[0m\n\u001b[0;32m--> 121\u001b[0;31m         \u001b[0mself\u001b[0m\u001b[0;34m.\u001b[0m\u001b[0m_popen\u001b[0m \u001b[0;34m=\u001b[0m \u001b[0mself\u001b[0m\u001b[0;34m.\u001b[0m\u001b[0m_Popen\u001b[0m\u001b[0;34m(\u001b[0m\u001b[0mself\u001b[0m\u001b[0;34m)\u001b[0m\u001b[0;34m\u001b[0m\u001b[0;34m\u001b[0m\u001b[0m\n\u001b[0m\u001b[1;32m    122\u001b[0m         \u001b[0mself\u001b[0m\u001b[0;34m.\u001b[0m\u001b[0m_sentinel\u001b[0m \u001b[0;34m=\u001b[0m \u001b[0mself\u001b[0m\u001b[0;34m.\u001b[0m\u001b[0m_popen\u001b[0m\u001b[0;34m.\u001b[0m\u001b[0msentinel\u001b[0m\u001b[0;34m\u001b[0m\u001b[0;34m\u001b[0m\u001b[0m\n",
      "\u001b[0;32m~/anaconda3/envs/fyp_v3/lib/python3.9/multiprocessing/context.py\u001b[0m in \u001b[0;36m_Popen\u001b[0;34m(process_obj)\u001b[0m\n\u001b[1;32m    223\u001b[0m     \u001b[0;32mdef\u001b[0m \u001b[0m_Popen\u001b[0m\u001b[0;34m(\u001b[0m\u001b[0mprocess_obj\u001b[0m\u001b[0;34m)\u001b[0m\u001b[0;34m:\u001b[0m\u001b[0;34m\u001b[0m\u001b[0;34m\u001b[0m\u001b[0m\n\u001b[0;32m--> 224\u001b[0;31m         \u001b[0;32mreturn\u001b[0m \u001b[0m_default_context\u001b[0m\u001b[0;34m.\u001b[0m\u001b[0mget_context\u001b[0m\u001b[0;34m(\u001b[0m\u001b[0;34m)\u001b[0m\u001b[0;34m.\u001b[0m\u001b[0mProcess\u001b[0m\u001b[0;34m.\u001b[0m\u001b[0m_Popen\u001b[0m\u001b[0;34m(\u001b[0m\u001b[0mprocess_obj\u001b[0m\u001b[0;34m)\u001b[0m\u001b[0;34m\u001b[0m\u001b[0;34m\u001b[0m\u001b[0m\n\u001b[0m\u001b[1;32m    225\u001b[0m \u001b[0;34m\u001b[0m\u001b[0m\n",
      "\u001b[0;31mKeyboardInterrupt\u001b[0m: ",
      "\nDuring handling of the above exception, another exception occurred:\n",
      "\u001b[0;31mAttributeError\u001b[0m                            Traceback (most recent call last)",
      "\u001b[0;32m~/anaconda3/envs/fyp_v3/lib/python3.9/site-packages/IPython/core/interactiveshell.py\u001b[0m in \u001b[0;36mshowtraceback\u001b[0;34m(self, exc_tuple, filename, tb_offset, exception_only, running_compiled_code)\u001b[0m\n\u001b[1;32m   2063\u001b[0m                         \u001b[0;31m# in the engines. This should return a list of strings.\u001b[0m\u001b[0;34m\u001b[0m\u001b[0;34m\u001b[0m\u001b[0m\n\u001b[0;32m-> 2064\u001b[0;31m                         \u001b[0mstb\u001b[0m \u001b[0;34m=\u001b[0m \u001b[0mvalue\u001b[0m\u001b[0;34m.\u001b[0m\u001b[0m_render_traceback_\u001b[0m\u001b[0;34m(\u001b[0m\u001b[0;34m)\u001b[0m\u001b[0;34m\u001b[0m\u001b[0;34m\u001b[0m\u001b[0m\n\u001b[0m\u001b[1;32m   2065\u001b[0m                     \u001b[0;32mexcept\u001b[0m \u001b[0mException\u001b[0m\u001b[0;34m:\u001b[0m\u001b[0;34m\u001b[0m\u001b[0;34m\u001b[0m\u001b[0m\n",
      "\u001b[0;31mAttributeError\u001b[0m: 'KeyboardInterrupt' object has no attribute '_render_traceback_'",
      "\nDuring handling of the above exception, another exception occurred:\n",
      "\u001b[0;31mTypeError\u001b[0m                                 Traceback (most recent call last)",
      "    \u001b[0;31m[... skipping hidden 1 frame]\u001b[0m\n",
      "\u001b[0;32m~/anaconda3/envs/fyp_v3/lib/python3.9/site-packages/IPython/core/interactiveshell.py\u001b[0m in \u001b[0;36mshowtraceback\u001b[0;34m(self, exc_tuple, filename, tb_offset, exception_only, running_compiled_code)\u001b[0m\n\u001b[1;32m   2064\u001b[0m                         \u001b[0mstb\u001b[0m \u001b[0;34m=\u001b[0m \u001b[0mvalue\u001b[0m\u001b[0;34m.\u001b[0m\u001b[0m_render_traceback_\u001b[0m\u001b[0;34m(\u001b[0m\u001b[0;34m)\u001b[0m\u001b[0;34m\u001b[0m\u001b[0;34m\u001b[0m\u001b[0m\n\u001b[1;32m   2065\u001b[0m                     \u001b[0;32mexcept\u001b[0m \u001b[0mException\u001b[0m\u001b[0;34m:\u001b[0m\u001b[0;34m\u001b[0m\u001b[0;34m\u001b[0m\u001b[0m\n\u001b[0;32m-> 2066\u001b[0;31m                         stb = self.InteractiveTB.structured_traceback(etype,\n\u001b[0m\u001b[1;32m   2067\u001b[0m                                             value, tb, tb_offset=tb_offset)\n\u001b[1;32m   2068\u001b[0m \u001b[0;34m\u001b[0m\u001b[0m\n",
      "\u001b[0;32m~/anaconda3/envs/fyp_v3/lib/python3.9/site-packages/IPython/core/ultratb.py\u001b[0m in \u001b[0;36mstructured_traceback\u001b[0;34m(self, etype, value, tb, tb_offset, number_of_lines_of_context)\u001b[0m\n\u001b[1;32m   1365\u001b[0m         \u001b[0;32melse\u001b[0m\u001b[0;34m:\u001b[0m\u001b[0;34m\u001b[0m\u001b[0;34m\u001b[0m\u001b[0m\n\u001b[1;32m   1366\u001b[0m             \u001b[0mself\u001b[0m\u001b[0;34m.\u001b[0m\u001b[0mtb\u001b[0m \u001b[0;34m=\u001b[0m \u001b[0mtb\u001b[0m\u001b[0;34m\u001b[0m\u001b[0;34m\u001b[0m\u001b[0m\n\u001b[0;32m-> 1367\u001b[0;31m         return FormattedTB.structured_traceback(\n\u001b[0m\u001b[1;32m   1368\u001b[0m             self, etype, value, tb, tb_offset, number_of_lines_of_context)\n\u001b[1;32m   1369\u001b[0m \u001b[0;34m\u001b[0m\u001b[0m\n",
      "\u001b[0;32m~/anaconda3/envs/fyp_v3/lib/python3.9/site-packages/IPython/core/ultratb.py\u001b[0m in \u001b[0;36mstructured_traceback\u001b[0;34m(self, etype, value, tb, tb_offset, number_of_lines_of_context)\u001b[0m\n\u001b[1;32m   1265\u001b[0m         \u001b[0;32mif\u001b[0m \u001b[0mmode\u001b[0m \u001b[0;32min\u001b[0m \u001b[0mself\u001b[0m\u001b[0;34m.\u001b[0m\u001b[0mverbose_modes\u001b[0m\u001b[0;34m:\u001b[0m\u001b[0;34m\u001b[0m\u001b[0;34m\u001b[0m\u001b[0m\n\u001b[1;32m   1266\u001b[0m             \u001b[0;31m# Verbose modes need a full traceback\u001b[0m\u001b[0;34m\u001b[0m\u001b[0;34m\u001b[0m\u001b[0m\n\u001b[0;32m-> 1267\u001b[0;31m             return VerboseTB.structured_traceback(\n\u001b[0m\u001b[1;32m   1268\u001b[0m                 \u001b[0mself\u001b[0m\u001b[0;34m,\u001b[0m \u001b[0metype\u001b[0m\u001b[0;34m,\u001b[0m \u001b[0mvalue\u001b[0m\u001b[0;34m,\u001b[0m \u001b[0mtb\u001b[0m\u001b[0;34m,\u001b[0m \u001b[0mtb_offset\u001b[0m\u001b[0;34m,\u001b[0m \u001b[0mnumber_of_lines_of_context\u001b[0m\u001b[0;34m\u001b[0m\u001b[0;34m\u001b[0m\u001b[0m\n\u001b[1;32m   1269\u001b[0m             )\n",
      "\u001b[0;32m~/anaconda3/envs/fyp_v3/lib/python3.9/site-packages/IPython/core/ultratb.py\u001b[0m in \u001b[0;36mstructured_traceback\u001b[0;34m(self, etype, evalue, etb, tb_offset, number_of_lines_of_context)\u001b[0m\n\u001b[1;32m   1122\u001b[0m         \u001b[0;34m\"\"\"Return a nice text document describing the traceback.\"\"\"\u001b[0m\u001b[0;34m\u001b[0m\u001b[0;34m\u001b[0m\u001b[0m\n\u001b[1;32m   1123\u001b[0m \u001b[0;34m\u001b[0m\u001b[0m\n\u001b[0;32m-> 1124\u001b[0;31m         formatted_exception = self.format_exception_as_a_whole(etype, evalue, etb, number_of_lines_of_context,\n\u001b[0m\u001b[1;32m   1125\u001b[0m                                                                tb_offset)\n\u001b[1;32m   1126\u001b[0m \u001b[0;34m\u001b[0m\u001b[0m\n",
      "\u001b[0;32m~/anaconda3/envs/fyp_v3/lib/python3.9/site-packages/IPython/core/ultratb.py\u001b[0m in \u001b[0;36mformat_exception_as_a_whole\u001b[0;34m(self, etype, evalue, etb, number_of_lines_of_context, tb_offset)\u001b[0m\n\u001b[1;32m   1080\u001b[0m \u001b[0;34m\u001b[0m\u001b[0m\n\u001b[1;32m   1081\u001b[0m \u001b[0;34m\u001b[0m\u001b[0m\n\u001b[0;32m-> 1082\u001b[0;31m         \u001b[0mlast_unique\u001b[0m\u001b[0;34m,\u001b[0m \u001b[0mrecursion_repeat\u001b[0m \u001b[0;34m=\u001b[0m \u001b[0mfind_recursion\u001b[0m\u001b[0;34m(\u001b[0m\u001b[0morig_etype\u001b[0m\u001b[0;34m,\u001b[0m \u001b[0mevalue\u001b[0m\u001b[0;34m,\u001b[0m \u001b[0mrecords\u001b[0m\u001b[0;34m)\u001b[0m\u001b[0;34m\u001b[0m\u001b[0;34m\u001b[0m\u001b[0m\n\u001b[0m\u001b[1;32m   1083\u001b[0m \u001b[0;34m\u001b[0m\u001b[0m\n\u001b[1;32m   1084\u001b[0m         \u001b[0mframes\u001b[0m \u001b[0;34m=\u001b[0m \u001b[0mself\u001b[0m\u001b[0;34m.\u001b[0m\u001b[0mformat_records\u001b[0m\u001b[0;34m(\u001b[0m\u001b[0mrecords\u001b[0m\u001b[0;34m,\u001b[0m \u001b[0mlast_unique\u001b[0m\u001b[0;34m,\u001b[0m \u001b[0mrecursion_repeat\u001b[0m\u001b[0;34m)\u001b[0m\u001b[0;34m\u001b[0m\u001b[0;34m\u001b[0m\u001b[0m\n",
      "\u001b[0;32m~/anaconda3/envs/fyp_v3/lib/python3.9/site-packages/IPython/core/ultratb.py\u001b[0m in \u001b[0;36mfind_recursion\u001b[0;34m(etype, value, records)\u001b[0m\n\u001b[1;32m    380\u001b[0m     \u001b[0;31m# first frame (from in to out) that looks different.\u001b[0m\u001b[0;34m\u001b[0m\u001b[0;34m\u001b[0m\u001b[0m\n\u001b[1;32m    381\u001b[0m     \u001b[0;32mif\u001b[0m \u001b[0;32mnot\u001b[0m \u001b[0mis_recursion_error\u001b[0m\u001b[0;34m(\u001b[0m\u001b[0metype\u001b[0m\u001b[0;34m,\u001b[0m \u001b[0mvalue\u001b[0m\u001b[0;34m,\u001b[0m \u001b[0mrecords\u001b[0m\u001b[0;34m)\u001b[0m\u001b[0;34m:\u001b[0m\u001b[0;34m\u001b[0m\u001b[0;34m\u001b[0m\u001b[0m\n\u001b[0;32m--> 382\u001b[0;31m         \u001b[0;32mreturn\u001b[0m \u001b[0mlen\u001b[0m\u001b[0;34m(\u001b[0m\u001b[0mrecords\u001b[0m\u001b[0;34m)\u001b[0m\u001b[0;34m,\u001b[0m \u001b[0;36m0\u001b[0m\u001b[0;34m\u001b[0m\u001b[0;34m\u001b[0m\u001b[0m\n\u001b[0m\u001b[1;32m    383\u001b[0m \u001b[0;34m\u001b[0m\u001b[0m\n\u001b[1;32m    384\u001b[0m     \u001b[0;31m# Select filename, lineno, func_name to track frames with\u001b[0m\u001b[0;34m\u001b[0m\u001b[0;34m\u001b[0m\u001b[0m\n",
      "\u001b[0;31mTypeError\u001b[0m: object of type 'NoneType' has no len()"
     ]
    }
   ],
   "source": [
    "F, fits = ga_main(ga, r2, m, n, layer_idx, 100)"
   ]
  },
  {
   "cell_type": "markdown",
   "metadata": {},
   "source": [
    "### Estimating threshold value for inconsistency fitness function"
   ]
  },
  {
   "cell_type": "code",
   "execution_count": 10,
   "metadata": {
    "scrolled": false
   },
   "outputs": [],
   "source": [
    "# x with label == y1\n",
    "y1 = 4\n",
    "x_1 = x_test_224[np.where(y_test==y1)[0]]\n",
    "x_1 = x_1[:100]\n",
    "\n",
    "# x with label == y2\n",
    "y2 = 9\n",
    "x_2 = x_test_224[np.where(y_test==y2)[0]]\n",
    "x_2 = x_2[:100]"
   ]
  },
  {
   "cell_type": "code",
   "execution_count": 9,
   "metadata": {
    "scrolled": false
   },
   "outputs": [],
   "source": [
    "db_flag = 4\n",
    "layer_idx = -1"
   ]
  },
  {
   "cell_type": "code",
   "execution_count": 11,
   "metadata": {
    "scrolled": true
   },
   "outputs": [
    {
     "name": "stdout",
     "output_type": "stream",
     "text": [
      "WARNING:tensorflow:Compiled the loaded model, but the compiled metrics have yet to be built. `model.compile_metrics` will be empty until you train or evaluate the model.\n"
     ]
    },
    {
     "name": "stderr",
     "output_type": "stream",
     "text": [
      "2022-01-11 16:30:03.580611: W tensorflow/python/util/util.cc:368] Sets are not currently considered sequences, but this may change in the future, so consider avoiding using them.\n"
     ]
    },
    {
     "name": "stdout",
     "output_type": "stream",
     "text": [
      "INFO:tensorflow:Assets written to: ram://b5ead489-4956-4b23-89d9-973de7ec8f99/assets\n"
     ]
    },
    {
     "name": "stderr",
     "output_type": "stream",
     "text": [
      "/data/yylaiai/anaconda3/envs/fyp_v3/lib/python3.9/site-packages/keras/engine/functional.py:1410: CustomMaskWarning: Custom mask layers require a config and must override get_config. When loading, the custom mask layer must be passed to the custom_objects argument.\n",
      "  layer_config = serialize_layer_fn(layer)\n",
      "/data/yylaiai/anaconda3/envs/fyp_v3/lib/python3.9/site-packages/keras/saving/saved_model/layer_serialization.py:112: CustomMaskWarning: Custom mask layers require a config and must override get_config. When loading, the custom mask layer must be passed to the custom_objects argument.\n",
      "  return generic_utils.serialize_keras_object(obj)\n"
     ]
    },
    {
     "name": "stdout",
     "output_type": "stream",
     "text": [
      "WARNING:tensorflow:Compiled the loaded model, but the compiled metrics have yet to be built. `model.compile_metrics` will be empty until you train or evaluate the model.\n",
      "INFO:tensorflow:Assets written to: model_tf/assets\n"
     ]
    },
    {
     "name": "stderr",
     "output_type": "stream",
     "text": [
      "/data/yylaiai/anaconda3/envs/fyp_v3/lib/python3.9/site-packages/keras/engine/functional.py:1410: CustomMaskWarning: Custom mask layers require a config and must override get_config. When loading, the custom mask layer must be passed to the custom_objects argument.\n",
      "  layer_config = serialize_layer_fn(layer)\n",
      "/data/yylaiai/anaconda3/envs/fyp_v3/lib/python3.9/site-packages/keras/saving/saved_model/layer_serialization.py:112: CustomMaskWarning: Custom mask layers require a config and must override get_config. When loading, the custom mask layer must be passed to the custom_objects argument.\n",
      "  return generic_utils.serialize_keras_object(obj)\n",
      "/data/yylaiai/anaconda3/envs/fyp_v1/lib/python3.9/runpy.py:127: RuntimeWarning: 'tf2onnx.convert' found in sys.modules after import of package 'tf2onnx', but prior to execution of 'tf2onnx.convert'; this may result in unpredictable behaviour\n",
      "  warn(RuntimeWarning(msg))\n",
      "2022-01-11 16:30:47.631375: F tensorflow/core/platform/statusor.cc:33] Attempting to fetch value instead of handling error INTERNAL: failed initializing StreamExecutor for CUDA device ordinal 0: INTERNAL: failed call to cuDevicePrimaryCtxRetain: CUDA_ERROR_UNKNOWN: unknown error\n",
      "WARNING:root:Cannot get default value for perm of Transpose.\n",
      "WARNING:root:Cannot get default value for dilations of Conv.\n",
      "WARNING:root:Cannot get default value for kernel_shape of Conv.\n",
      "WARNING:root:Cannot get default value for pads of Conv.\n",
      "WARNING:root:Cannot get default value for strides of Conv.\n",
      "WARNING:root:Cannot get default value for dilations of MaxPool.\n",
      "WARNING:root:Cannot get default value for kernel_shape of MaxPool.\n",
      "WARNING:root:Cannot get default value for pads of MaxPool.\n",
      "WARNING:root:Cannot get default value for strides of MaxPool.\n"
     ]
    },
    {
     "name": "stdout",
     "output_type": "stream",
     "text": [
      "# Autogenerated by onnx-pytorch.\n",
      "\n",
      "import glob\n",
      "import os\n",
      "import math\n",
      "\n",
      "import numpy as np\n",
      "import torch\n",
      "import torch.nn as nn\n",
      "import torch.nn.functional as F\n",
      "import torchvision\n",
      "\n",
      "\n",
      "class Model(nn.Module):\n",
      "  def __init__(self):\n",
      "    super(Model, self).__init__()\n",
      "    self._vars = nn.ParameterDict()\n",
      "    self._regularizer_params = []\n",
      "    for b in glob.glob(\n",
      "        os.path.join(os.path.dirname(__file__), \"variables\", \"*.npy\")):\n",
      "      v = torch.from_numpy(np.load(b))\n",
      "      requires_grad = v.dtype.is_floating_point or v.dtype.is_complex\n",
      "      self._vars[os.path.basename(b)[:-4]] = nn.Parameter(v, requires_grad=requires_grad)\n",
      "    self.n_Conv__434 = nn.Conv2d(**{'groups': 1, 'dilation': [1, 1], 'out_channels': 64, 'padding': [3, 3], 'kernel_size': (7, 7), 'stride': [2, 2], 'in_channels': 3, 'bias': True})\n",
      "    self.n_Conv__434.weight.data = self._vars[\"Conv__434_weights_fused_bn\"]\n",
      "    self.n_Conv__434.bias.data = self._vars[\"Conv__434_bias_fused_bn\"]\n",
      "    self.n_StatefulPartitionedCall_resnet50_pool1_pool_MaxPool = nn.MaxPool2d(**{'dilation': 1, 'kernel_size': [3, 3], 'ceil_mode': False, 'stride': [2, 2], 'return_indices': False})\n",
      "    self.n_StatefulPartitionedCall_resnet50_conv2_block1_1_conv_Conv2D = nn.Conv2d(**{'groups': 1, 'dilation': [1, 1], 'out_channels': 64, 'padding': 0, 'kernel_size': (1, 1), 'stride': [1, 1], 'in_channels': 64, 'bias': True})\n",
      "    self.n_StatefulPartitionedCall_resnet50_conv2_block1_1_conv_Conv2D.weight.data = self._vars[\"StatefulPartitionedCall_resnet50_conv2_block1_1_conv_Conv2D_weights_fused_bn\"]\n",
      "    self.n_StatefulPartitionedCall_resnet50_conv2_block1_1_conv_Conv2D.bias.data = self._vars[\"StatefulPartitionedCall_resnet50_conv2_block1_1_conv_Conv2D_bias_fused_bn\"]\n",
      "    self.n_StatefulPartitionedCall_resnet50_conv2_block1_2_conv_Conv2D = nn.Conv2d(**{'groups': 1, 'dilation': [1, 1], 'out_channels': 64, 'padding': [1, 1], 'kernel_size': (3, 3), 'stride': [1, 1], 'in_channels': 64, 'bias': True})\n",
      "    self.n_StatefulPartitionedCall_resnet50_conv2_block1_2_conv_Conv2D.weight.data = self._vars[\"StatefulPartitionedCall_resnet50_conv2_block1_2_conv_Conv2D_weights_fused_bn\"]\n",
      "    self.n_StatefulPartitionedCall_resnet50_conv2_block1_2_conv_Conv2D.bias.data = self._vars[\"StatefulPartitionedCall_resnet50_conv2_block1_2_conv_Conv2D_bias_fused_bn\"]\n",
      "    self.n_StatefulPartitionedCall_resnet50_conv2_block1_3_conv_Conv2D = nn.Conv2d(**{'groups': 1, 'dilation': [1, 1], 'out_channels': 256, 'padding': 0, 'kernel_size': (1, 1), 'stride': [1, 1], 'in_channels': 64, 'bias': True})\n",
      "    self.n_StatefulPartitionedCall_resnet50_conv2_block1_3_conv_Conv2D.weight.data = self._vars[\"StatefulPartitionedCall_resnet50_conv2_block1_3_conv_Conv2D_weights_fused_bn\"]\n",
      "    self.n_StatefulPartitionedCall_resnet50_conv2_block1_3_conv_Conv2D.bias.data = self._vars[\"StatefulPartitionedCall_resnet50_conv2_block1_3_conv_Conv2D_bias_fused_bn\"]\n",
      "    self.n_StatefulPartitionedCall_resnet50_conv2_block1_0_conv_Conv2D = nn.Conv2d(**{'groups': 1, 'dilation': [1, 1], 'out_channels': 256, 'padding': 0, 'kernel_size': (1, 1), 'stride': [1, 1], 'in_channels': 64, 'bias': True})\n",
      "    self.n_StatefulPartitionedCall_resnet50_conv2_block1_0_conv_Conv2D.weight.data = self._vars[\"StatefulPartitionedCall_resnet50_conv2_block1_0_conv_Conv2D_weights_fused_bn\"]\n",
      "    self.n_StatefulPartitionedCall_resnet50_conv2_block1_0_conv_Conv2D.bias.data = self._vars[\"StatefulPartitionedCall_resnet50_conv2_block1_0_conv_Conv2D_bias_fused_bn\"]\n",
      "    self.n_StatefulPartitionedCall_resnet50_conv2_block2_1_conv_Conv2D = nn.Conv2d(**{'groups': 1, 'dilation': [1, 1], 'out_channels': 64, 'padding': 0, 'kernel_size': (1, 1), 'stride': [1, 1], 'in_channels': 256, 'bias': True})\n",
      "    self.n_StatefulPartitionedCall_resnet50_conv2_block2_1_conv_Conv2D.weight.data = self._vars[\"StatefulPartitionedCall_resnet50_conv2_block2_1_conv_Conv2D_weights_fused_bn\"]\n",
      "    self.n_StatefulPartitionedCall_resnet50_conv2_block2_1_conv_Conv2D.bias.data = self._vars[\"StatefulPartitionedCall_resnet50_conv2_block2_1_conv_Conv2D_bias_fused_bn\"]\n",
      "    self.n_StatefulPartitionedCall_resnet50_conv2_block2_2_conv_Conv2D = nn.Conv2d(**{'groups': 1, 'dilation': [1, 1], 'out_channels': 64, 'padding': [1, 1], 'kernel_size': (3, 3), 'stride': [1, 1], 'in_channels': 64, 'bias': True})\n",
      "    self.n_StatefulPartitionedCall_resnet50_conv2_block2_2_conv_Conv2D.weight.data = self._vars[\"StatefulPartitionedCall_resnet50_conv2_block2_2_conv_Conv2D_weights_fused_bn\"]\n",
      "    self.n_StatefulPartitionedCall_resnet50_conv2_block2_2_conv_Conv2D.bias.data = self._vars[\"StatefulPartitionedCall_resnet50_conv2_block2_2_conv_Conv2D_bias_fused_bn\"]\n",
      "    self.n_StatefulPartitionedCall_resnet50_conv2_block2_3_conv_Conv2D = nn.Conv2d(**{'groups': 1, 'dilation': [1, 1], 'out_channels': 256, 'padding': 0, 'kernel_size': (1, 1), 'stride': [1, 1], 'in_channels': 64, 'bias': True})\n",
      "    self.n_StatefulPartitionedCall_resnet50_conv2_block2_3_conv_Conv2D.weight.data = self._vars[\"StatefulPartitionedCall_resnet50_conv2_block2_3_conv_Conv2D_weights_fused_bn\"]\n",
      "    self.n_StatefulPartitionedCall_resnet50_conv2_block2_3_conv_Conv2D.bias.data = self._vars[\"StatefulPartitionedCall_resnet50_conv2_block2_3_conv_Conv2D_bias_fused_bn\"]\n",
      "    self.n_StatefulPartitionedCall_resnet50_conv2_block3_1_conv_Conv2D = nn.Conv2d(**{'groups': 1, 'dilation': [1, 1], 'out_channels': 64, 'padding': 0, 'kernel_size': (1, 1), 'stride': [1, 1], 'in_channels': 256, 'bias': True})\n",
      "    self.n_StatefulPartitionedCall_resnet50_conv2_block3_1_conv_Conv2D.weight.data = self._vars[\"StatefulPartitionedCall_resnet50_conv2_block3_1_conv_Conv2D_weights_fused_bn\"]\n",
      "    self.n_StatefulPartitionedCall_resnet50_conv2_block3_1_conv_Conv2D.bias.data = self._vars[\"StatefulPartitionedCall_resnet50_conv2_block3_1_conv_Conv2D_bias_fused_bn\"]\n",
      "    self.n_StatefulPartitionedCall_resnet50_conv2_block3_2_conv_Conv2D = nn.Conv2d(**{'groups': 1, 'dilation': [1, 1], 'out_channels': 64, 'padding': [1, 1], 'kernel_size': (3, 3), 'stride': [1, 1], 'in_channels': 64, 'bias': True})\n",
      "    self.n_StatefulPartitionedCall_resnet50_conv2_block3_2_conv_Conv2D.weight.data = self._vars[\"StatefulPartitionedCall_resnet50_conv2_block3_2_conv_Conv2D_weights_fused_bn\"]\n",
      "    self.n_StatefulPartitionedCall_resnet50_conv2_block3_2_conv_Conv2D.bias.data = self._vars[\"StatefulPartitionedCall_resnet50_conv2_block3_2_conv_Conv2D_bias_fused_bn\"]\n",
      "    self.n_StatefulPartitionedCall_resnet50_conv2_block3_3_conv_Conv2D = nn.Conv2d(**{'groups': 1, 'dilation': [1, 1], 'out_channels': 256, 'padding': 0, 'kernel_size': (1, 1), 'stride': [1, 1], 'in_channels': 64, 'bias': True})\n",
      "    self.n_StatefulPartitionedCall_resnet50_conv2_block3_3_conv_Conv2D.weight.data = self._vars[\"StatefulPartitionedCall_resnet50_conv2_block3_3_conv_Conv2D_weights_fused_bn\"]\n",
      "    self.n_StatefulPartitionedCall_resnet50_conv2_block3_3_conv_Conv2D.bias.data = self._vars[\"StatefulPartitionedCall_resnet50_conv2_block3_3_conv_Conv2D_bias_fused_bn\"]\n",
      "    self.n_StatefulPartitionedCall_resnet50_conv3_block1_1_conv_Conv2D = nn.Conv2d(**{'groups': 1, 'dilation': [1, 1], 'out_channels': 128, 'padding': 0, 'kernel_size': (1, 1), 'stride': [2, 2], 'in_channels': 256, 'bias': True})\n",
      "    self.n_StatefulPartitionedCall_resnet50_conv3_block1_1_conv_Conv2D.weight.data = self._vars[\"StatefulPartitionedCall_resnet50_conv3_block1_1_conv_Conv2D_weights_fused_bn\"]\n",
      "    self.n_StatefulPartitionedCall_resnet50_conv3_block1_1_conv_Conv2D.bias.data = self._vars[\"StatefulPartitionedCall_resnet50_conv3_block1_1_conv_Conv2D_bias_fused_bn\"]\n",
      "    self.n_StatefulPartitionedCall_resnet50_conv3_block1_2_conv_Conv2D = nn.Conv2d(**{'groups': 1, 'dilation': [1, 1], 'out_channels': 128, 'padding': [1, 1], 'kernel_size': (3, 3), 'stride': [1, 1], 'in_channels': 128, 'bias': True})\n",
      "    self.n_StatefulPartitionedCall_resnet50_conv3_block1_2_conv_Conv2D.weight.data = self._vars[\"StatefulPartitionedCall_resnet50_conv3_block1_2_conv_Conv2D_weights_fused_bn\"]\n",
      "    self.n_StatefulPartitionedCall_resnet50_conv3_block1_2_conv_Conv2D.bias.data = self._vars[\"StatefulPartitionedCall_resnet50_conv3_block1_2_conv_Conv2D_bias_fused_bn\"]\n",
      "    self.n_StatefulPartitionedCall_resnet50_conv3_block1_3_conv_Conv2D = nn.Conv2d(**{'groups': 1, 'dilation': [1, 1], 'out_channels': 512, 'padding': 0, 'kernel_size': (1, 1), 'stride': [1, 1], 'in_channels': 128, 'bias': True})\n",
      "    self.n_StatefulPartitionedCall_resnet50_conv3_block1_3_conv_Conv2D.weight.data = self._vars[\"StatefulPartitionedCall_resnet50_conv3_block1_3_conv_Conv2D_weights_fused_bn\"]\n",
      "    self.n_StatefulPartitionedCall_resnet50_conv3_block1_3_conv_Conv2D.bias.data = self._vars[\"StatefulPartitionedCall_resnet50_conv3_block1_3_conv_Conv2D_bias_fused_bn\"]\n",
      "    self.n_StatefulPartitionedCall_resnet50_conv3_block1_0_conv_Conv2D = nn.Conv2d(**{'groups': 1, 'dilation': [1, 1], 'out_channels': 512, 'padding': 0, 'kernel_size': (1, 1), 'stride': [2, 2], 'in_channels': 256, 'bias': True})\n",
      "    self.n_StatefulPartitionedCall_resnet50_conv3_block1_0_conv_Conv2D.weight.data = self._vars[\"StatefulPartitionedCall_resnet50_conv3_block1_0_conv_Conv2D_weights_fused_bn\"]\n",
      "    self.n_StatefulPartitionedCall_resnet50_conv3_block1_0_conv_Conv2D.bias.data = self._vars[\"StatefulPartitionedCall_resnet50_conv3_block1_0_conv_Conv2D_bias_fused_bn\"]\n",
      "    self.n_StatefulPartitionedCall_resnet50_conv3_block2_1_conv_Conv2D = nn.Conv2d(**{'groups': 1, 'dilation': [1, 1], 'out_channels': 128, 'padding': 0, 'kernel_size': (1, 1), 'stride': [1, 1], 'in_channels': 512, 'bias': True})\n",
      "    self.n_StatefulPartitionedCall_resnet50_conv3_block2_1_conv_Conv2D.weight.data = self._vars[\"StatefulPartitionedCall_resnet50_conv3_block2_1_conv_Conv2D_weights_fused_bn\"]\n",
      "    self.n_StatefulPartitionedCall_resnet50_conv3_block2_1_conv_Conv2D.bias.data = self._vars[\"StatefulPartitionedCall_resnet50_conv3_block2_1_conv_Conv2D_bias_fused_bn\"]\n",
      "    self.n_StatefulPartitionedCall_resnet50_conv3_block2_2_conv_Conv2D = nn.Conv2d(**{'groups': 1, 'dilation': [1, 1], 'out_channels': 128, 'padding': [1, 1], 'kernel_size': (3, 3), 'stride': [1, 1], 'in_channels': 128, 'bias': True})\n",
      "    self.n_StatefulPartitionedCall_resnet50_conv3_block2_2_conv_Conv2D.weight.data = self._vars[\"StatefulPartitionedCall_resnet50_conv3_block2_2_conv_Conv2D_weights_fused_bn\"]\n",
      "    self.n_StatefulPartitionedCall_resnet50_conv3_block2_2_conv_Conv2D.bias.data = self._vars[\"StatefulPartitionedCall_resnet50_conv3_block2_2_conv_Conv2D_bias_fused_bn\"]\n",
      "    self.n_StatefulPartitionedCall_resnet50_conv3_block2_3_conv_Conv2D = nn.Conv2d(**{'groups': 1, 'dilation': [1, 1], 'out_channels': 512, 'padding': 0, 'kernel_size': (1, 1), 'stride': [1, 1], 'in_channels': 128, 'bias': True})\n",
      "    self.n_StatefulPartitionedCall_resnet50_conv3_block2_3_conv_Conv2D.weight.data = self._vars[\"StatefulPartitionedCall_resnet50_conv3_block2_3_conv_Conv2D_weights_fused_bn\"]\n",
      "    self.n_StatefulPartitionedCall_resnet50_conv3_block2_3_conv_Conv2D.bias.data = self._vars[\"StatefulPartitionedCall_resnet50_conv3_block2_3_conv_Conv2D_bias_fused_bn\"]\n",
      "    self.n_StatefulPartitionedCall_resnet50_conv3_block3_1_conv_Conv2D = nn.Conv2d(**{'groups': 1, 'dilation': [1, 1], 'out_channels': 128, 'padding': 0, 'kernel_size': (1, 1), 'stride': [1, 1], 'in_channels': 512, 'bias': True})\n",
      "    self.n_StatefulPartitionedCall_resnet50_conv3_block3_1_conv_Conv2D.weight.data = self._vars[\"StatefulPartitionedCall_resnet50_conv3_block3_1_conv_Conv2D_weights_fused_bn\"]\n",
      "    self.n_StatefulPartitionedCall_resnet50_conv3_block3_1_conv_Conv2D.bias.data = self._vars[\"StatefulPartitionedCall_resnet50_conv3_block3_1_conv_Conv2D_bias_fused_bn\"]\n",
      "    self.n_StatefulPartitionedCall_resnet50_conv3_block3_2_conv_Conv2D = nn.Conv2d(**{'groups': 1, 'dilation': [1, 1], 'out_channels': 128, 'padding': [1, 1], 'kernel_size': (3, 3), 'stride': [1, 1], 'in_channels': 128, 'bias': True})\n",
      "    self.n_StatefulPartitionedCall_resnet50_conv3_block3_2_conv_Conv2D.weight.data = self._vars[\"StatefulPartitionedCall_resnet50_conv3_block3_2_conv_Conv2D_weights_fused_bn\"]\n",
      "    self.n_StatefulPartitionedCall_resnet50_conv3_block3_2_conv_Conv2D.bias.data = self._vars[\"StatefulPartitionedCall_resnet50_conv3_block3_2_conv_Conv2D_bias_fused_bn\"]\n",
      "    self.n_StatefulPartitionedCall_resnet50_conv3_block3_3_conv_Conv2D = nn.Conv2d(**{'groups': 1, 'dilation': [1, 1], 'out_channels': 512, 'padding': 0, 'kernel_size': (1, 1), 'stride': [1, 1], 'in_channels': 128, 'bias': True})\n",
      "    self.n_StatefulPartitionedCall_resnet50_conv3_block3_3_conv_Conv2D.weight.data = self._vars[\"StatefulPartitionedCall_resnet50_conv3_block3_3_conv_Conv2D_weights_fused_bn\"]\n",
      "    self.n_StatefulPartitionedCall_resnet50_conv3_block3_3_conv_Conv2D.bias.data = self._vars[\"StatefulPartitionedCall_resnet50_conv3_block3_3_conv_Conv2D_bias_fused_bn\"]\n",
      "    self.n_StatefulPartitionedCall_resnet50_conv3_block4_1_conv_Conv2D = nn.Conv2d(**{'groups': 1, 'dilation': [1, 1], 'out_channels': 128, 'padding': 0, 'kernel_size': (1, 1), 'stride': [1, 1], 'in_channels': 512, 'bias': True})\n",
      "    self.n_StatefulPartitionedCall_resnet50_conv3_block4_1_conv_Conv2D.weight.data = self._vars[\"StatefulPartitionedCall_resnet50_conv3_block4_1_conv_Conv2D_weights_fused_bn\"]\n",
      "    self.n_StatefulPartitionedCall_resnet50_conv3_block4_1_conv_Conv2D.bias.data = self._vars[\"StatefulPartitionedCall_resnet50_conv3_block4_1_conv_Conv2D_bias_fused_bn\"]\n",
      "    self.n_StatefulPartitionedCall_resnet50_conv3_block4_2_conv_Conv2D = nn.Conv2d(**{'groups': 1, 'dilation': [1, 1], 'out_channels': 128, 'padding': [1, 1], 'kernel_size': (3, 3), 'stride': [1, 1], 'in_channels': 128, 'bias': True})\n",
      "    self.n_StatefulPartitionedCall_resnet50_conv3_block4_2_conv_Conv2D.weight.data = self._vars[\"StatefulPartitionedCall_resnet50_conv3_block4_2_conv_Conv2D_weights_fused_bn\"]\n",
      "    self.n_StatefulPartitionedCall_resnet50_conv3_block4_2_conv_Conv2D.bias.data = self._vars[\"StatefulPartitionedCall_resnet50_conv3_block4_2_conv_Conv2D_bias_fused_bn\"]\n",
      "    self.n_StatefulPartitionedCall_resnet50_conv3_block4_3_conv_Conv2D = nn.Conv2d(**{'groups': 1, 'dilation': [1, 1], 'out_channels': 512, 'padding': 0, 'kernel_size': (1, 1), 'stride': [1, 1], 'in_channels': 128, 'bias': True})\n",
      "    self.n_StatefulPartitionedCall_resnet50_conv3_block4_3_conv_Conv2D.weight.data = self._vars[\"StatefulPartitionedCall_resnet50_conv3_block4_3_conv_Conv2D_weights_fused_bn\"]\n",
      "    self.n_StatefulPartitionedCall_resnet50_conv3_block4_3_conv_Conv2D.bias.data = self._vars[\"StatefulPartitionedCall_resnet50_conv3_block4_3_conv_Conv2D_bias_fused_bn\"]\n",
      "    self.n_StatefulPartitionedCall_resnet50_conv4_block1_1_conv_Conv2D = nn.Conv2d(**{'groups': 1, 'dilation': [1, 1], 'out_channels': 256, 'padding': 0, 'kernel_size': (1, 1), 'stride': [2, 2], 'in_channels': 512, 'bias': True})\n",
      "    self.n_StatefulPartitionedCall_resnet50_conv4_block1_1_conv_Conv2D.weight.data = self._vars[\"StatefulPartitionedCall_resnet50_conv4_block1_1_conv_Conv2D_weights_fused_bn\"]\n",
      "    self.n_StatefulPartitionedCall_resnet50_conv4_block1_1_conv_Conv2D.bias.data = self._vars[\"StatefulPartitionedCall_resnet50_conv4_block1_1_conv_Conv2D_bias_fused_bn\"]\n",
      "    self.n_StatefulPartitionedCall_resnet50_conv4_block1_2_conv_Conv2D = nn.Conv2d(**{'groups': 1, 'dilation': [1, 1], 'out_channels': 256, 'padding': [1, 1], 'kernel_size': (3, 3), 'stride': [1, 1], 'in_channels': 256, 'bias': True})\n",
      "    self.n_StatefulPartitionedCall_resnet50_conv4_block1_2_conv_Conv2D.weight.data = self._vars[\"StatefulPartitionedCall_resnet50_conv4_block1_2_conv_Conv2D_weights_fused_bn\"]\n",
      "    self.n_StatefulPartitionedCall_resnet50_conv4_block1_2_conv_Conv2D.bias.data = self._vars[\"StatefulPartitionedCall_resnet50_conv4_block1_2_conv_Conv2D_bias_fused_bn\"]\n",
      "    self.n_StatefulPartitionedCall_resnet50_conv4_block1_3_conv_Conv2D = nn.Conv2d(**{'groups': 1, 'dilation': [1, 1], 'out_channels': 1024, 'padding': 0, 'kernel_size': (1, 1), 'stride': [1, 1], 'in_channels': 256, 'bias': True})\n",
      "    self.n_StatefulPartitionedCall_resnet50_conv4_block1_3_conv_Conv2D.weight.data = self._vars[\"StatefulPartitionedCall_resnet50_conv4_block1_3_conv_Conv2D_weights_fused_bn\"]\n",
      "    self.n_StatefulPartitionedCall_resnet50_conv4_block1_3_conv_Conv2D.bias.data = self._vars[\"StatefulPartitionedCall_resnet50_conv4_block1_3_conv_Conv2D_bias_fused_bn\"]\n",
      "    self.n_StatefulPartitionedCall_resnet50_conv4_block1_0_conv_Conv2D = nn.Conv2d(**{'groups': 1, 'dilation': [1, 1], 'out_channels': 1024, 'padding': 0, 'kernel_size': (1, 1), 'stride': [2, 2], 'in_channels': 512, 'bias': True})\n",
      "    self.n_StatefulPartitionedCall_resnet50_conv4_block1_0_conv_Conv2D.weight.data = self._vars[\"StatefulPartitionedCall_resnet50_conv4_block1_0_conv_Conv2D_weights_fused_bn\"]\n",
      "    self.n_StatefulPartitionedCall_resnet50_conv4_block1_0_conv_Conv2D.bias.data = self._vars[\"StatefulPartitionedCall_resnet50_conv4_block1_0_conv_Conv2D_bias_fused_bn\"]\n",
      "    self.n_StatefulPartitionedCall_resnet50_conv4_block2_1_conv_Conv2D = nn.Conv2d(**{'groups': 1, 'dilation': [1, 1], 'out_channels': 256, 'padding': 0, 'kernel_size': (1, 1), 'stride': [1, 1], 'in_channels': 1024, 'bias': True})\n",
      "    self.n_StatefulPartitionedCall_resnet50_conv4_block2_1_conv_Conv2D.weight.data = self._vars[\"StatefulPartitionedCall_resnet50_conv4_block2_1_conv_Conv2D_weights_fused_bn\"]\n",
      "    self.n_StatefulPartitionedCall_resnet50_conv4_block2_1_conv_Conv2D.bias.data = self._vars[\"StatefulPartitionedCall_resnet50_conv4_block2_1_conv_Conv2D_bias_fused_bn\"]\n",
      "    self.n_StatefulPartitionedCall_resnet50_conv4_block2_2_conv_Conv2D = nn.Conv2d(**{'groups': 1, 'dilation': [1, 1], 'out_channels': 256, 'padding': [1, 1], 'kernel_size': (3, 3), 'stride': [1, 1], 'in_channels': 256, 'bias': True})\n",
      "    self.n_StatefulPartitionedCall_resnet50_conv4_block2_2_conv_Conv2D.weight.data = self._vars[\"StatefulPartitionedCall_resnet50_conv4_block2_2_conv_Conv2D_weights_fused_bn\"]\n",
      "    self.n_StatefulPartitionedCall_resnet50_conv4_block2_2_conv_Conv2D.bias.data = self._vars[\"StatefulPartitionedCall_resnet50_conv4_block2_2_conv_Conv2D_bias_fused_bn\"]\n",
      "    self.n_StatefulPartitionedCall_resnet50_conv4_block2_3_conv_Conv2D = nn.Conv2d(**{'groups': 1, 'dilation': [1, 1], 'out_channels': 1024, 'padding': 0, 'kernel_size': (1, 1), 'stride': [1, 1], 'in_channels': 256, 'bias': True})\n",
      "    self.n_StatefulPartitionedCall_resnet50_conv4_block2_3_conv_Conv2D.weight.data = self._vars[\"StatefulPartitionedCall_resnet50_conv4_block2_3_conv_Conv2D_weights_fused_bn\"]\n",
      "    self.n_StatefulPartitionedCall_resnet50_conv4_block2_3_conv_Conv2D.bias.data = self._vars[\"StatefulPartitionedCall_resnet50_conv4_block2_3_conv_Conv2D_bias_fused_bn\"]\n",
      "    self.n_StatefulPartitionedCall_resnet50_conv4_block3_1_conv_Conv2D = nn.Conv2d(**{'groups': 1, 'dilation': [1, 1], 'out_channels': 256, 'padding': 0, 'kernel_size': (1, 1), 'stride': [1, 1], 'in_channels': 1024, 'bias': True})\n",
      "    self.n_StatefulPartitionedCall_resnet50_conv4_block3_1_conv_Conv2D.weight.data = self._vars[\"StatefulPartitionedCall_resnet50_conv4_block3_1_conv_Conv2D_weights_fused_bn\"]\n",
      "    self.n_StatefulPartitionedCall_resnet50_conv4_block3_1_conv_Conv2D.bias.data = self._vars[\"StatefulPartitionedCall_resnet50_conv4_block3_1_conv_Conv2D_bias_fused_bn\"]\n",
      "    self.n_StatefulPartitionedCall_resnet50_conv4_block3_2_conv_Conv2D = nn.Conv2d(**{'groups': 1, 'dilation': [1, 1], 'out_channels': 256, 'padding': [1, 1], 'kernel_size': (3, 3), 'stride': [1, 1], 'in_channels': 256, 'bias': True})\n",
      "    self.n_StatefulPartitionedCall_resnet50_conv4_block3_2_conv_Conv2D.weight.data = self._vars[\"StatefulPartitionedCall_resnet50_conv4_block3_2_conv_Conv2D_weights_fused_bn\"]\n",
      "    self.n_StatefulPartitionedCall_resnet50_conv4_block3_2_conv_Conv2D.bias.data = self._vars[\"StatefulPartitionedCall_resnet50_conv4_block3_2_conv_Conv2D_bias_fused_bn\"]\n",
      "    self.n_StatefulPartitionedCall_resnet50_conv4_block3_3_conv_Conv2D = nn.Conv2d(**{'groups': 1, 'dilation': [1, 1], 'out_channels': 1024, 'padding': 0, 'kernel_size': (1, 1), 'stride': [1, 1], 'in_channels': 256, 'bias': True})\n",
      "    self.n_StatefulPartitionedCall_resnet50_conv4_block3_3_conv_Conv2D.weight.data = self._vars[\"StatefulPartitionedCall_resnet50_conv4_block3_3_conv_Conv2D_weights_fused_bn\"]\n",
      "    self.n_StatefulPartitionedCall_resnet50_conv4_block3_3_conv_Conv2D.bias.data = self._vars[\"StatefulPartitionedCall_resnet50_conv4_block3_3_conv_Conv2D_bias_fused_bn\"]\n",
      "    self.n_StatefulPartitionedCall_resnet50_conv4_block4_1_conv_Conv2D = nn.Conv2d(**{'groups': 1, 'dilation': [1, 1], 'out_channels': 256, 'padding': 0, 'kernel_size': (1, 1), 'stride': [1, 1], 'in_channels': 1024, 'bias': True})\n",
      "    self.n_StatefulPartitionedCall_resnet50_conv4_block4_1_conv_Conv2D.weight.data = self._vars[\"StatefulPartitionedCall_resnet50_conv4_block4_1_conv_Conv2D_weights_fused_bn\"]\n",
      "    self.n_StatefulPartitionedCall_resnet50_conv4_block4_1_conv_Conv2D.bias.data = self._vars[\"StatefulPartitionedCall_resnet50_conv4_block4_1_conv_Conv2D_bias_fused_bn\"]\n",
      "    self.n_StatefulPartitionedCall_resnet50_conv4_block4_2_conv_Conv2D = nn.Conv2d(**{'groups': 1, 'dilation': [1, 1], 'out_channels': 256, 'padding': [1, 1], 'kernel_size': (3, 3), 'stride': [1, 1], 'in_channels': 256, 'bias': True})\n",
      "    self.n_StatefulPartitionedCall_resnet50_conv4_block4_2_conv_Conv2D.weight.data = self._vars[\"StatefulPartitionedCall_resnet50_conv4_block4_2_conv_Conv2D_weights_fused_bn\"]\n",
      "    self.n_StatefulPartitionedCall_resnet50_conv4_block4_2_conv_Conv2D.bias.data = self._vars[\"StatefulPartitionedCall_resnet50_conv4_block4_2_conv_Conv2D_bias_fused_bn\"]\n",
      "    self.n_StatefulPartitionedCall_resnet50_conv4_block4_3_conv_Conv2D = nn.Conv2d(**{'groups': 1, 'dilation': [1, 1], 'out_channels': 1024, 'padding': 0, 'kernel_size': (1, 1), 'stride': [1, 1], 'in_channels': 256, 'bias': True})\n",
      "    self.n_StatefulPartitionedCall_resnet50_conv4_block4_3_conv_Conv2D.weight.data = self._vars[\"StatefulPartitionedCall_resnet50_conv4_block4_3_conv_Conv2D_weights_fused_bn\"]\n",
      "    self.n_StatefulPartitionedCall_resnet50_conv4_block4_3_conv_Conv2D.bias.data = self._vars[\"StatefulPartitionedCall_resnet50_conv4_block4_3_conv_Conv2D_bias_fused_bn\"]\n",
      "    self.n_StatefulPartitionedCall_resnet50_conv4_block5_1_conv_Conv2D = nn.Conv2d(**{'groups': 1, 'dilation': [1, 1], 'out_channels': 256, 'padding': 0, 'kernel_size': (1, 1), 'stride': [1, 1], 'in_channels': 1024, 'bias': True})\n",
      "    self.n_StatefulPartitionedCall_resnet50_conv4_block5_1_conv_Conv2D.weight.data = self._vars[\"StatefulPartitionedCall_resnet50_conv4_block5_1_conv_Conv2D_weights_fused_bn\"]\n",
      "    self.n_StatefulPartitionedCall_resnet50_conv4_block5_1_conv_Conv2D.bias.data = self._vars[\"StatefulPartitionedCall_resnet50_conv4_block5_1_conv_Conv2D_bias_fused_bn\"]\n",
      "    self.n_StatefulPartitionedCall_resnet50_conv4_block5_2_conv_Conv2D = nn.Conv2d(**{'groups': 1, 'dilation': [1, 1], 'out_channels': 256, 'padding': [1, 1], 'kernel_size': (3, 3), 'stride': [1, 1], 'in_channels': 256, 'bias': True})\n",
      "    self.n_StatefulPartitionedCall_resnet50_conv4_block5_2_conv_Conv2D.weight.data = self._vars[\"StatefulPartitionedCall_resnet50_conv4_block5_2_conv_Conv2D_weights_fused_bn\"]\n",
      "    self.n_StatefulPartitionedCall_resnet50_conv4_block5_2_conv_Conv2D.bias.data = self._vars[\"StatefulPartitionedCall_resnet50_conv4_block5_2_conv_Conv2D_bias_fused_bn\"]\n",
      "    self.n_StatefulPartitionedCall_resnet50_conv4_block5_3_conv_Conv2D = nn.Conv2d(**{'groups': 1, 'dilation': [1, 1], 'out_channels': 1024, 'padding': 0, 'kernel_size': (1, 1), 'stride': [1, 1], 'in_channels': 256, 'bias': True})\n",
      "    self.n_StatefulPartitionedCall_resnet50_conv4_block5_3_conv_Conv2D.weight.data = self._vars[\"StatefulPartitionedCall_resnet50_conv4_block5_3_conv_Conv2D_weights_fused_bn\"]\n",
      "    self.n_StatefulPartitionedCall_resnet50_conv4_block5_3_conv_Conv2D.bias.data = self._vars[\"StatefulPartitionedCall_resnet50_conv4_block5_3_conv_Conv2D_bias_fused_bn\"]\n",
      "    self.n_StatefulPartitionedCall_resnet50_conv4_block6_1_conv_Conv2D = nn.Conv2d(**{'groups': 1, 'dilation': [1, 1], 'out_channels': 256, 'padding': 0, 'kernel_size': (1, 1), 'stride': [1, 1], 'in_channels': 1024, 'bias': True})\n",
      "    self.n_StatefulPartitionedCall_resnet50_conv4_block6_1_conv_Conv2D.weight.data = self._vars[\"StatefulPartitionedCall_resnet50_conv4_block6_1_conv_Conv2D_weights_fused_bn\"]\n",
      "    self.n_StatefulPartitionedCall_resnet50_conv4_block6_1_conv_Conv2D.bias.data = self._vars[\"StatefulPartitionedCall_resnet50_conv4_block6_1_conv_Conv2D_bias_fused_bn\"]\n",
      "    self.n_StatefulPartitionedCall_resnet50_conv4_block6_2_conv_Conv2D = nn.Conv2d(**{'groups': 1, 'dilation': [1, 1], 'out_channels': 256, 'padding': [1, 1], 'kernel_size': (3, 3), 'stride': [1, 1], 'in_channels': 256, 'bias': True})\n",
      "    self.n_StatefulPartitionedCall_resnet50_conv4_block6_2_conv_Conv2D.weight.data = self._vars[\"StatefulPartitionedCall_resnet50_conv4_block6_2_conv_Conv2D_weights_fused_bn\"]\n",
      "    self.n_StatefulPartitionedCall_resnet50_conv4_block6_2_conv_Conv2D.bias.data = self._vars[\"StatefulPartitionedCall_resnet50_conv4_block6_2_conv_Conv2D_bias_fused_bn\"]\n",
      "    self.n_StatefulPartitionedCall_resnet50_conv4_block6_3_conv_Conv2D = nn.Conv2d(**{'groups': 1, 'dilation': [1, 1], 'out_channels': 1024, 'padding': 0, 'kernel_size': (1, 1), 'stride': [1, 1], 'in_channels': 256, 'bias': True})\n",
      "    self.n_StatefulPartitionedCall_resnet50_conv4_block6_3_conv_Conv2D.weight.data = self._vars[\"StatefulPartitionedCall_resnet50_conv4_block6_3_conv_Conv2D_weights_fused_bn\"]\n",
      "    self.n_StatefulPartitionedCall_resnet50_conv4_block6_3_conv_Conv2D.bias.data = self._vars[\"StatefulPartitionedCall_resnet50_conv4_block6_3_conv_Conv2D_bias_fused_bn\"]\n",
      "    self.n_StatefulPartitionedCall_resnet50_conv5_block1_1_conv_Conv2D = nn.Conv2d(**{'groups': 1, 'dilation': [1, 1], 'out_channels': 512, 'padding': 0, 'kernel_size': (1, 1), 'stride': [2, 2], 'in_channels': 1024, 'bias': True})\n",
      "    self.n_StatefulPartitionedCall_resnet50_conv5_block1_1_conv_Conv2D.weight.data = self._vars[\"StatefulPartitionedCall_resnet50_conv5_block1_1_conv_Conv2D_weights_fused_bn\"]\n",
      "    self.n_StatefulPartitionedCall_resnet50_conv5_block1_1_conv_Conv2D.bias.data = self._vars[\"StatefulPartitionedCall_resnet50_conv5_block1_1_conv_Conv2D_bias_fused_bn\"]\n",
      "    self.n_StatefulPartitionedCall_resnet50_conv5_block1_2_conv_Conv2D = nn.Conv2d(**{'groups': 1, 'dilation': [1, 1], 'out_channels': 512, 'padding': [1, 1], 'kernel_size': (3, 3), 'stride': [1, 1], 'in_channels': 512, 'bias': True})\n",
      "    self.n_StatefulPartitionedCall_resnet50_conv5_block1_2_conv_Conv2D.weight.data = self._vars[\"StatefulPartitionedCall_resnet50_conv5_block1_2_conv_Conv2D_weights_fused_bn\"]\n",
      "    self.n_StatefulPartitionedCall_resnet50_conv5_block1_2_conv_Conv2D.bias.data = self._vars[\"StatefulPartitionedCall_resnet50_conv5_block1_2_conv_Conv2D_bias_fused_bn\"]\n",
      "    self.n_StatefulPartitionedCall_resnet50_conv5_block1_3_conv_Conv2D = nn.Conv2d(**{'groups': 1, 'dilation': [1, 1], 'out_channels': 2048, 'padding': 0, 'kernel_size': (1, 1), 'stride': [1, 1], 'in_channels': 512, 'bias': True})\n",
      "    self.n_StatefulPartitionedCall_resnet50_conv5_block1_3_conv_Conv2D.weight.data = self._vars[\"StatefulPartitionedCall_resnet50_conv5_block1_3_conv_Conv2D_weights_fused_bn\"]\n",
      "    self.n_StatefulPartitionedCall_resnet50_conv5_block1_3_conv_Conv2D.bias.data = self._vars[\"StatefulPartitionedCall_resnet50_conv5_block1_3_conv_Conv2D_bias_fused_bn\"]\n",
      "    self.n_StatefulPartitionedCall_resnet50_conv5_block1_0_conv_Conv2D = nn.Conv2d(**{'groups': 1, 'dilation': [1, 1], 'out_channels': 2048, 'padding': 0, 'kernel_size': (1, 1), 'stride': [2, 2], 'in_channels': 1024, 'bias': True})\n",
      "    self.n_StatefulPartitionedCall_resnet50_conv5_block1_0_conv_Conv2D.weight.data = self._vars[\"StatefulPartitionedCall_resnet50_conv5_block1_0_conv_Conv2D_weights_fused_bn\"]\n",
      "    self.n_StatefulPartitionedCall_resnet50_conv5_block1_0_conv_Conv2D.bias.data = self._vars[\"StatefulPartitionedCall_resnet50_conv5_block1_0_conv_Conv2D_bias_fused_bn\"]\n",
      "    self.n_StatefulPartitionedCall_resnet50_conv5_block2_1_conv_Conv2D = nn.Conv2d(**{'groups': 1, 'dilation': [1, 1], 'out_channels': 512, 'padding': 0, 'kernel_size': (1, 1), 'stride': [1, 1], 'in_channels': 2048, 'bias': True})\n",
      "    self.n_StatefulPartitionedCall_resnet50_conv5_block2_1_conv_Conv2D.weight.data = self._vars[\"StatefulPartitionedCall_resnet50_conv5_block2_1_conv_Conv2D_weights_fused_bn\"]\n",
      "    self.n_StatefulPartitionedCall_resnet50_conv5_block2_1_conv_Conv2D.bias.data = self._vars[\"StatefulPartitionedCall_resnet50_conv5_block2_1_conv_Conv2D_bias_fused_bn\"]\n",
      "    self.n_StatefulPartitionedCall_resnet50_conv5_block2_2_conv_Conv2D = nn.Conv2d(**{'groups': 1, 'dilation': [1, 1], 'out_channels': 512, 'padding': [1, 1], 'kernel_size': (3, 3), 'stride': [1, 1], 'in_channels': 512, 'bias': True})\n",
      "    self.n_StatefulPartitionedCall_resnet50_conv5_block2_2_conv_Conv2D.weight.data = self._vars[\"StatefulPartitionedCall_resnet50_conv5_block2_2_conv_Conv2D_weights_fused_bn\"]\n",
      "    self.n_StatefulPartitionedCall_resnet50_conv5_block2_2_conv_Conv2D.bias.data = self._vars[\"StatefulPartitionedCall_resnet50_conv5_block2_2_conv_Conv2D_bias_fused_bn\"]\n",
      "    self.n_StatefulPartitionedCall_resnet50_conv5_block2_3_conv_Conv2D = nn.Conv2d(**{'groups': 1, 'dilation': [1, 1], 'out_channels': 2048, 'padding': 0, 'kernel_size': (1, 1), 'stride': [1, 1], 'in_channels': 512, 'bias': True})\n",
      "    self.n_StatefulPartitionedCall_resnet50_conv5_block2_3_conv_Conv2D.weight.data = self._vars[\"StatefulPartitionedCall_resnet50_conv5_block2_3_conv_Conv2D_weights_fused_bn\"]\n",
      "    self.n_StatefulPartitionedCall_resnet50_conv5_block2_3_conv_Conv2D.bias.data = self._vars[\"StatefulPartitionedCall_resnet50_conv5_block2_3_conv_Conv2D_bias_fused_bn\"]\n",
      "    self.n_StatefulPartitionedCall_resnet50_conv5_block3_1_conv_Conv2D = nn.Conv2d(**{'groups': 1, 'dilation': [1, 1], 'out_channels': 512, 'padding': 0, 'kernel_size': (1, 1), 'stride': [1, 1], 'in_channels': 2048, 'bias': True})\n",
      "    self.n_StatefulPartitionedCall_resnet50_conv5_block3_1_conv_Conv2D.weight.data = self._vars[\"StatefulPartitionedCall_resnet50_conv5_block3_1_conv_Conv2D_weights_fused_bn\"]\n",
      "    self.n_StatefulPartitionedCall_resnet50_conv5_block3_1_conv_Conv2D.bias.data = self._vars[\"StatefulPartitionedCall_resnet50_conv5_block3_1_conv_Conv2D_bias_fused_bn\"]\n",
      "    self.n_StatefulPartitionedCall_resnet50_conv5_block3_2_conv_Conv2D = nn.Conv2d(**{'groups': 1, 'dilation': [1, 1], 'out_channels': 512, 'padding': [1, 1], 'kernel_size': (3, 3), 'stride': [1, 1], 'in_channels': 512, 'bias': True})\n",
      "    self.n_StatefulPartitionedCall_resnet50_conv5_block3_2_conv_Conv2D.weight.data = self._vars[\"StatefulPartitionedCall_resnet50_conv5_block3_2_conv_Conv2D_weights_fused_bn\"]\n",
      "    self.n_StatefulPartitionedCall_resnet50_conv5_block3_2_conv_Conv2D.bias.data = self._vars[\"StatefulPartitionedCall_resnet50_conv5_block3_2_conv_Conv2D_bias_fused_bn\"]\n",
      "    self.n_StatefulPartitionedCall_resnet50_conv5_block3_3_conv_Conv2D = nn.Conv2d(**{'groups': 1, 'dilation': [1, 1], 'out_channels': 2048, 'padding': 0, 'kernel_size': (1, 1), 'stride': [1, 1], 'in_channels': 512, 'bias': True})\n",
      "    self.n_StatefulPartitionedCall_resnet50_conv5_block3_3_conv_Conv2D.weight.data = self._vars[\"StatefulPartitionedCall_resnet50_conv5_block3_3_conv_Conv2D_weights_fused_bn\"]\n",
      "    self.n_StatefulPartitionedCall_resnet50_conv5_block3_3_conv_Conv2D.bias.data = self._vars[\"StatefulPartitionedCall_resnet50_conv5_block3_3_conv_Conv2D_bias_fused_bn\"]\n",
      "\n",
      "  def forward(self, *inputs):\n",
      "    input_2, = inputs\n",
      "    StatefulPartitionedCall_resnet50_conv1_conv_Conv2D__6_0 = input_2.permute(*[0, 3, 1, 2])\n",
      "    StatefulPartitionedCall_resnet50_conv1_bn_FusedBatchNormV3_0 = self.n_Conv__434(StatefulPartitionedCall_resnet50_conv1_conv_Conv2D__6_0)\n",
      "    StatefulPartitionedCall_resnet50_conv1_relu_Relu_0 = F.relu(StatefulPartitionedCall_resnet50_conv1_bn_FusedBatchNormV3_0)\n",
      "    StatefulPartitionedCall_resnet50_pool1_pad_Pad_0 = F.pad(StatefulPartitionedCall_resnet50_conv1_relu_Relu_0, [1, 1, 1, 1], \"constant\", 0.0)\n",
      "    StatefulPartitionedCall_resnet50_pool1_pool_MaxPool_0 = self.n_StatefulPartitionedCall_resnet50_pool1_pool_MaxPool(StatefulPartitionedCall_resnet50_pool1_pad_Pad_0)\n",
      "    StatefulPartitionedCall_resnet50_conv2_block1_1_bn_FusedBatchNormV3_0 = self.n_StatefulPartitionedCall_resnet50_conv2_block1_1_conv_Conv2D(StatefulPartitionedCall_resnet50_pool1_pool_MaxPool_0)\n",
      "    StatefulPartitionedCall_resnet50_conv2_block1_1_relu_Relu_0 = F.relu(StatefulPartitionedCall_resnet50_conv2_block1_1_bn_FusedBatchNormV3_0)\n",
      "    StatefulPartitionedCall_resnet50_conv2_block1_2_bn_FusedBatchNormV3_0 = self.n_StatefulPartitionedCall_resnet50_conv2_block1_2_conv_Conv2D(StatefulPartitionedCall_resnet50_conv2_block1_1_relu_Relu_0)\n",
      "    StatefulPartitionedCall_resnet50_conv2_block1_2_relu_Relu_0 = F.relu(StatefulPartitionedCall_resnet50_conv2_block1_2_bn_FusedBatchNormV3_0)\n",
      "    StatefulPartitionedCall_resnet50_conv2_block1_3_bn_FusedBatchNormV3_0 = self.n_StatefulPartitionedCall_resnet50_conv2_block1_3_conv_Conv2D(StatefulPartitionedCall_resnet50_conv2_block1_2_relu_Relu_0)\n",
      "    StatefulPartitionedCall_resnet50_conv2_block1_0_bn_FusedBatchNormV3_0 = self.n_StatefulPartitionedCall_resnet50_conv2_block1_0_conv_Conv2D(StatefulPartitionedCall_resnet50_pool1_pool_MaxPool_0)\n",
      "    StatefulPartitionedCall_resnet50_conv2_block1_add_add_0 = torch.add(StatefulPartitionedCall_resnet50_conv2_block1_0_bn_FusedBatchNormV3_0, StatefulPartitionedCall_resnet50_conv2_block1_3_bn_FusedBatchNormV3_0)\n",
      "    StatefulPartitionedCall_resnet50_conv2_block1_out_Relu_0 = F.relu(StatefulPartitionedCall_resnet50_conv2_block1_add_add_0)\n",
      "    StatefulPartitionedCall_resnet50_conv2_block2_1_bn_FusedBatchNormV3_0 = self.n_StatefulPartitionedCall_resnet50_conv2_block2_1_conv_Conv2D(StatefulPartitionedCall_resnet50_conv2_block1_out_Relu_0)\n",
      "    StatefulPartitionedCall_resnet50_conv2_block2_1_relu_Relu_0 = F.relu(StatefulPartitionedCall_resnet50_conv2_block2_1_bn_FusedBatchNormV3_0)\n",
      "    StatefulPartitionedCall_resnet50_conv2_block2_2_bn_FusedBatchNormV3_0 = self.n_StatefulPartitionedCall_resnet50_conv2_block2_2_conv_Conv2D(StatefulPartitionedCall_resnet50_conv2_block2_1_relu_Relu_0)\n",
      "    StatefulPartitionedCall_resnet50_conv2_block2_2_relu_Relu_0 = F.relu(StatefulPartitionedCall_resnet50_conv2_block2_2_bn_FusedBatchNormV3_0)\n",
      "    StatefulPartitionedCall_resnet50_conv2_block2_3_bn_FusedBatchNormV3_0 = self.n_StatefulPartitionedCall_resnet50_conv2_block2_3_conv_Conv2D(StatefulPartitionedCall_resnet50_conv2_block2_2_relu_Relu_0)\n",
      "    StatefulPartitionedCall_resnet50_conv2_block2_add_add_0 = torch.add(StatefulPartitionedCall_resnet50_conv2_block1_out_Relu_0, StatefulPartitionedCall_resnet50_conv2_block2_3_bn_FusedBatchNormV3_0)\n",
      "    StatefulPartitionedCall_resnet50_conv2_block2_out_Relu_0 = F.relu(StatefulPartitionedCall_resnet50_conv2_block2_add_add_0)\n",
      "    StatefulPartitionedCall_resnet50_conv2_block3_1_bn_FusedBatchNormV3_0 = self.n_StatefulPartitionedCall_resnet50_conv2_block3_1_conv_Conv2D(StatefulPartitionedCall_resnet50_conv2_block2_out_Relu_0)\n",
      "    StatefulPartitionedCall_resnet50_conv2_block3_1_relu_Relu_0 = F.relu(StatefulPartitionedCall_resnet50_conv2_block3_1_bn_FusedBatchNormV3_0)\n",
      "    StatefulPartitionedCall_resnet50_conv2_block3_2_bn_FusedBatchNormV3_0 = self.n_StatefulPartitionedCall_resnet50_conv2_block3_2_conv_Conv2D(StatefulPartitionedCall_resnet50_conv2_block3_1_relu_Relu_0)\n",
      "    StatefulPartitionedCall_resnet50_conv2_block3_2_relu_Relu_0 = F.relu(StatefulPartitionedCall_resnet50_conv2_block3_2_bn_FusedBatchNormV3_0)\n",
      "    StatefulPartitionedCall_resnet50_conv2_block3_3_bn_FusedBatchNormV3_0 = self.n_StatefulPartitionedCall_resnet50_conv2_block3_3_conv_Conv2D(StatefulPartitionedCall_resnet50_conv2_block3_2_relu_Relu_0)\n",
      "    StatefulPartitionedCall_resnet50_conv2_block3_add_add_0 = torch.add(StatefulPartitionedCall_resnet50_conv2_block2_out_Relu_0, StatefulPartitionedCall_resnet50_conv2_block3_3_bn_FusedBatchNormV3_0)\n",
      "    StatefulPartitionedCall_resnet50_conv2_block3_out_Relu_0 = F.relu(StatefulPartitionedCall_resnet50_conv2_block3_add_add_0)\n",
      "    StatefulPartitionedCall_resnet50_conv3_block1_1_bn_FusedBatchNormV3_0 = self.n_StatefulPartitionedCall_resnet50_conv3_block1_1_conv_Conv2D(StatefulPartitionedCall_resnet50_conv2_block3_out_Relu_0)\n",
      "    StatefulPartitionedCall_resnet50_conv3_block1_1_relu_Relu_0 = F.relu(StatefulPartitionedCall_resnet50_conv3_block1_1_bn_FusedBatchNormV3_0)\n",
      "    StatefulPartitionedCall_resnet50_conv3_block1_2_bn_FusedBatchNormV3_0 = self.n_StatefulPartitionedCall_resnet50_conv3_block1_2_conv_Conv2D(StatefulPartitionedCall_resnet50_conv3_block1_1_relu_Relu_0)\n",
      "    StatefulPartitionedCall_resnet50_conv3_block1_2_relu_Relu_0 = F.relu(StatefulPartitionedCall_resnet50_conv3_block1_2_bn_FusedBatchNormV3_0)\n",
      "    StatefulPartitionedCall_resnet50_conv3_block1_3_bn_FusedBatchNormV3_0 = self.n_StatefulPartitionedCall_resnet50_conv3_block1_3_conv_Conv2D(StatefulPartitionedCall_resnet50_conv3_block1_2_relu_Relu_0)\n",
      "    StatefulPartitionedCall_resnet50_conv3_block1_0_bn_FusedBatchNormV3_0 = self.n_StatefulPartitionedCall_resnet50_conv3_block1_0_conv_Conv2D(StatefulPartitionedCall_resnet50_conv2_block3_out_Relu_0)\n",
      "    StatefulPartitionedCall_resnet50_conv3_block1_add_add_0 = torch.add(StatefulPartitionedCall_resnet50_conv3_block1_0_bn_FusedBatchNormV3_0, StatefulPartitionedCall_resnet50_conv3_block1_3_bn_FusedBatchNormV3_0)\n",
      "    StatefulPartitionedCall_resnet50_conv3_block1_out_Relu_0 = F.relu(StatefulPartitionedCall_resnet50_conv3_block1_add_add_0)\n",
      "    StatefulPartitionedCall_resnet50_conv3_block2_1_bn_FusedBatchNormV3_0 = self.n_StatefulPartitionedCall_resnet50_conv3_block2_1_conv_Conv2D(StatefulPartitionedCall_resnet50_conv3_block1_out_Relu_0)\n",
      "    StatefulPartitionedCall_resnet50_conv3_block2_1_relu_Relu_0 = F.relu(StatefulPartitionedCall_resnet50_conv3_block2_1_bn_FusedBatchNormV3_0)\n",
      "    StatefulPartitionedCall_resnet50_conv3_block2_2_bn_FusedBatchNormV3_0 = self.n_StatefulPartitionedCall_resnet50_conv3_block2_2_conv_Conv2D(StatefulPartitionedCall_resnet50_conv3_block2_1_relu_Relu_0)\n",
      "    StatefulPartitionedCall_resnet50_conv3_block2_2_relu_Relu_0 = F.relu(StatefulPartitionedCall_resnet50_conv3_block2_2_bn_FusedBatchNormV3_0)\n",
      "    StatefulPartitionedCall_resnet50_conv3_block2_3_bn_FusedBatchNormV3_0 = self.n_StatefulPartitionedCall_resnet50_conv3_block2_3_conv_Conv2D(StatefulPartitionedCall_resnet50_conv3_block2_2_relu_Relu_0)\n",
      "    StatefulPartitionedCall_resnet50_conv3_block2_add_add_0 = torch.add(StatefulPartitionedCall_resnet50_conv3_block1_out_Relu_0, StatefulPartitionedCall_resnet50_conv3_block2_3_bn_FusedBatchNormV3_0)\n",
      "    StatefulPartitionedCall_resnet50_conv3_block2_out_Relu_0 = F.relu(StatefulPartitionedCall_resnet50_conv3_block2_add_add_0)\n",
      "    StatefulPartitionedCall_resnet50_conv3_block3_1_bn_FusedBatchNormV3_0 = self.n_StatefulPartitionedCall_resnet50_conv3_block3_1_conv_Conv2D(StatefulPartitionedCall_resnet50_conv3_block2_out_Relu_0)\n",
      "    StatefulPartitionedCall_resnet50_conv3_block3_1_relu_Relu_0 = F.relu(StatefulPartitionedCall_resnet50_conv3_block3_1_bn_FusedBatchNormV3_0)\n",
      "    StatefulPartitionedCall_resnet50_conv3_block3_2_bn_FusedBatchNormV3_0 = self.n_StatefulPartitionedCall_resnet50_conv3_block3_2_conv_Conv2D(StatefulPartitionedCall_resnet50_conv3_block3_1_relu_Relu_0)\n",
      "    StatefulPartitionedCall_resnet50_conv3_block3_2_relu_Relu_0 = F.relu(StatefulPartitionedCall_resnet50_conv3_block3_2_bn_FusedBatchNormV3_0)\n",
      "    StatefulPartitionedCall_resnet50_conv3_block3_3_bn_FusedBatchNormV3_0 = self.n_StatefulPartitionedCall_resnet50_conv3_block3_3_conv_Conv2D(StatefulPartitionedCall_resnet50_conv3_block3_2_relu_Relu_0)\n",
      "    StatefulPartitionedCall_resnet50_conv3_block3_add_add_0 = torch.add(StatefulPartitionedCall_resnet50_conv3_block2_out_Relu_0, StatefulPartitionedCall_resnet50_conv3_block3_3_bn_FusedBatchNormV3_0)\n",
      "    StatefulPartitionedCall_resnet50_conv3_block3_out_Relu_0 = F.relu(StatefulPartitionedCall_resnet50_conv3_block3_add_add_0)\n",
      "    StatefulPartitionedCall_resnet50_conv3_block4_1_bn_FusedBatchNormV3_0 = self.n_StatefulPartitionedCall_resnet50_conv3_block4_1_conv_Conv2D(StatefulPartitionedCall_resnet50_conv3_block3_out_Relu_0)\n",
      "    StatefulPartitionedCall_resnet50_conv3_block4_1_relu_Relu_0 = F.relu(StatefulPartitionedCall_resnet50_conv3_block4_1_bn_FusedBatchNormV3_0)\n",
      "    StatefulPartitionedCall_resnet50_conv3_block4_2_bn_FusedBatchNormV3_0 = self.n_StatefulPartitionedCall_resnet50_conv3_block4_2_conv_Conv2D(StatefulPartitionedCall_resnet50_conv3_block4_1_relu_Relu_0)\n",
      "    StatefulPartitionedCall_resnet50_conv3_block4_2_relu_Relu_0 = F.relu(StatefulPartitionedCall_resnet50_conv3_block4_2_bn_FusedBatchNormV3_0)\n",
      "    StatefulPartitionedCall_resnet50_conv3_block4_3_bn_FusedBatchNormV3_0 = self.n_StatefulPartitionedCall_resnet50_conv3_block4_3_conv_Conv2D(StatefulPartitionedCall_resnet50_conv3_block4_2_relu_Relu_0)\n",
      "    StatefulPartitionedCall_resnet50_conv3_block4_add_add_0 = torch.add(StatefulPartitionedCall_resnet50_conv3_block3_out_Relu_0, StatefulPartitionedCall_resnet50_conv3_block4_3_bn_FusedBatchNormV3_0)\n",
      "    StatefulPartitionedCall_resnet50_conv3_block4_out_Relu_0 = F.relu(StatefulPartitionedCall_resnet50_conv3_block4_add_add_0)\n",
      "    StatefulPartitionedCall_resnet50_conv4_block1_1_bn_FusedBatchNormV3_0 = self.n_StatefulPartitionedCall_resnet50_conv4_block1_1_conv_Conv2D(StatefulPartitionedCall_resnet50_conv3_block4_out_Relu_0)\n",
      "    StatefulPartitionedCall_resnet50_conv4_block1_1_relu_Relu_0 = F.relu(StatefulPartitionedCall_resnet50_conv4_block1_1_bn_FusedBatchNormV3_0)\n",
      "    StatefulPartitionedCall_resnet50_conv4_block1_2_bn_FusedBatchNormV3_0 = self.n_StatefulPartitionedCall_resnet50_conv4_block1_2_conv_Conv2D(StatefulPartitionedCall_resnet50_conv4_block1_1_relu_Relu_0)\n",
      "    StatefulPartitionedCall_resnet50_conv4_block1_2_relu_Relu_0 = F.relu(StatefulPartitionedCall_resnet50_conv4_block1_2_bn_FusedBatchNormV3_0)\n",
      "    StatefulPartitionedCall_resnet50_conv4_block1_3_bn_FusedBatchNormV3_0 = self.n_StatefulPartitionedCall_resnet50_conv4_block1_3_conv_Conv2D(StatefulPartitionedCall_resnet50_conv4_block1_2_relu_Relu_0)\n",
      "    StatefulPartitionedCall_resnet50_conv4_block1_0_bn_FusedBatchNormV3_0 = self.n_StatefulPartitionedCall_resnet50_conv4_block1_0_conv_Conv2D(StatefulPartitionedCall_resnet50_conv3_block4_out_Relu_0)\n",
      "    StatefulPartitionedCall_resnet50_conv4_block1_add_add_0 = torch.add(StatefulPartitionedCall_resnet50_conv4_block1_0_bn_FusedBatchNormV3_0, StatefulPartitionedCall_resnet50_conv4_block1_3_bn_FusedBatchNormV3_0)\n",
      "    StatefulPartitionedCall_resnet50_conv4_block1_out_Relu_0 = F.relu(StatefulPartitionedCall_resnet50_conv4_block1_add_add_0)\n",
      "    StatefulPartitionedCall_resnet50_conv4_block2_1_bn_FusedBatchNormV3_0 = self.n_StatefulPartitionedCall_resnet50_conv4_block2_1_conv_Conv2D(StatefulPartitionedCall_resnet50_conv4_block1_out_Relu_0)\n",
      "    StatefulPartitionedCall_resnet50_conv4_block2_1_relu_Relu_0 = F.relu(StatefulPartitionedCall_resnet50_conv4_block2_1_bn_FusedBatchNormV3_0)\n",
      "    StatefulPartitionedCall_resnet50_conv4_block2_2_bn_FusedBatchNormV3_0 = self.n_StatefulPartitionedCall_resnet50_conv4_block2_2_conv_Conv2D(StatefulPartitionedCall_resnet50_conv4_block2_1_relu_Relu_0)\n",
      "    StatefulPartitionedCall_resnet50_conv4_block2_2_relu_Relu_0 = F.relu(StatefulPartitionedCall_resnet50_conv4_block2_2_bn_FusedBatchNormV3_0)\n",
      "    StatefulPartitionedCall_resnet50_conv4_block2_3_bn_FusedBatchNormV3_0 = self.n_StatefulPartitionedCall_resnet50_conv4_block2_3_conv_Conv2D(StatefulPartitionedCall_resnet50_conv4_block2_2_relu_Relu_0)\n",
      "    StatefulPartitionedCall_resnet50_conv4_block2_add_add_0 = torch.add(StatefulPartitionedCall_resnet50_conv4_block1_out_Relu_0, StatefulPartitionedCall_resnet50_conv4_block2_3_bn_FusedBatchNormV3_0)\n",
      "    StatefulPartitionedCall_resnet50_conv4_block2_out_Relu_0 = F.relu(StatefulPartitionedCall_resnet50_conv4_block2_add_add_0)\n",
      "    StatefulPartitionedCall_resnet50_conv4_block3_1_bn_FusedBatchNormV3_0 = self.n_StatefulPartitionedCall_resnet50_conv4_block3_1_conv_Conv2D(StatefulPartitionedCall_resnet50_conv4_block2_out_Relu_0)\n",
      "    StatefulPartitionedCall_resnet50_conv4_block3_1_relu_Relu_0 = F.relu(StatefulPartitionedCall_resnet50_conv4_block3_1_bn_FusedBatchNormV3_0)\n",
      "    StatefulPartitionedCall_resnet50_conv4_block3_2_bn_FusedBatchNormV3_0 = self.n_StatefulPartitionedCall_resnet50_conv4_block3_2_conv_Conv2D(StatefulPartitionedCall_resnet50_conv4_block3_1_relu_Relu_0)\n",
      "    StatefulPartitionedCall_resnet50_conv4_block3_2_relu_Relu_0 = F.relu(StatefulPartitionedCall_resnet50_conv4_block3_2_bn_FusedBatchNormV3_0)\n",
      "    StatefulPartitionedCall_resnet50_conv4_block3_3_bn_FusedBatchNormV3_0 = self.n_StatefulPartitionedCall_resnet50_conv4_block3_3_conv_Conv2D(StatefulPartitionedCall_resnet50_conv4_block3_2_relu_Relu_0)\n",
      "    StatefulPartitionedCall_resnet50_conv4_block3_add_add_0 = torch.add(StatefulPartitionedCall_resnet50_conv4_block2_out_Relu_0, StatefulPartitionedCall_resnet50_conv4_block3_3_bn_FusedBatchNormV3_0)\n",
      "    StatefulPartitionedCall_resnet50_conv4_block3_out_Relu_0 = F.relu(StatefulPartitionedCall_resnet50_conv4_block3_add_add_0)\n",
      "    StatefulPartitionedCall_resnet50_conv4_block4_1_bn_FusedBatchNormV3_0 = self.n_StatefulPartitionedCall_resnet50_conv4_block4_1_conv_Conv2D(StatefulPartitionedCall_resnet50_conv4_block3_out_Relu_0)\n",
      "    StatefulPartitionedCall_resnet50_conv4_block4_1_relu_Relu_0 = F.relu(StatefulPartitionedCall_resnet50_conv4_block4_1_bn_FusedBatchNormV3_0)\n",
      "    StatefulPartitionedCall_resnet50_conv4_block4_2_bn_FusedBatchNormV3_0 = self.n_StatefulPartitionedCall_resnet50_conv4_block4_2_conv_Conv2D(StatefulPartitionedCall_resnet50_conv4_block4_1_relu_Relu_0)\n",
      "    StatefulPartitionedCall_resnet50_conv4_block4_2_relu_Relu_0 = F.relu(StatefulPartitionedCall_resnet50_conv4_block4_2_bn_FusedBatchNormV3_0)\n",
      "    StatefulPartitionedCall_resnet50_conv4_block4_3_bn_FusedBatchNormV3_0 = self.n_StatefulPartitionedCall_resnet50_conv4_block4_3_conv_Conv2D(StatefulPartitionedCall_resnet50_conv4_block4_2_relu_Relu_0)\n",
      "    StatefulPartitionedCall_resnet50_conv4_block4_add_add_0 = torch.add(StatefulPartitionedCall_resnet50_conv4_block3_out_Relu_0, StatefulPartitionedCall_resnet50_conv4_block4_3_bn_FusedBatchNormV3_0)\n",
      "    StatefulPartitionedCall_resnet50_conv4_block4_out_Relu_0 = F.relu(StatefulPartitionedCall_resnet50_conv4_block4_add_add_0)\n",
      "    StatefulPartitionedCall_resnet50_conv4_block5_1_bn_FusedBatchNormV3_0 = self.n_StatefulPartitionedCall_resnet50_conv4_block5_1_conv_Conv2D(StatefulPartitionedCall_resnet50_conv4_block4_out_Relu_0)\n",
      "    StatefulPartitionedCall_resnet50_conv4_block5_1_relu_Relu_0 = F.relu(StatefulPartitionedCall_resnet50_conv4_block5_1_bn_FusedBatchNormV3_0)\n",
      "    StatefulPartitionedCall_resnet50_conv4_block5_2_bn_FusedBatchNormV3_0 = self.n_StatefulPartitionedCall_resnet50_conv4_block5_2_conv_Conv2D(StatefulPartitionedCall_resnet50_conv4_block5_1_relu_Relu_0)\n",
      "    StatefulPartitionedCall_resnet50_conv4_block5_2_relu_Relu_0 = F.relu(StatefulPartitionedCall_resnet50_conv4_block5_2_bn_FusedBatchNormV3_0)\n",
      "    StatefulPartitionedCall_resnet50_conv4_block5_3_bn_FusedBatchNormV3_0 = self.n_StatefulPartitionedCall_resnet50_conv4_block5_3_conv_Conv2D(StatefulPartitionedCall_resnet50_conv4_block5_2_relu_Relu_0)\n",
      "    StatefulPartitionedCall_resnet50_conv4_block5_add_add_0 = torch.add(StatefulPartitionedCall_resnet50_conv4_block4_out_Relu_0, StatefulPartitionedCall_resnet50_conv4_block5_3_bn_FusedBatchNormV3_0)\n",
      "    StatefulPartitionedCall_resnet50_conv4_block5_out_Relu_0 = F.relu(StatefulPartitionedCall_resnet50_conv4_block5_add_add_0)\n",
      "    StatefulPartitionedCall_resnet50_conv4_block6_1_bn_FusedBatchNormV3_0 = self.n_StatefulPartitionedCall_resnet50_conv4_block6_1_conv_Conv2D(StatefulPartitionedCall_resnet50_conv4_block5_out_Relu_0)\n",
      "    StatefulPartitionedCall_resnet50_conv4_block6_1_relu_Relu_0 = F.relu(StatefulPartitionedCall_resnet50_conv4_block6_1_bn_FusedBatchNormV3_0)\n",
      "    StatefulPartitionedCall_resnet50_conv4_block6_2_bn_FusedBatchNormV3_0 = self.n_StatefulPartitionedCall_resnet50_conv4_block6_2_conv_Conv2D(StatefulPartitionedCall_resnet50_conv4_block6_1_relu_Relu_0)\n",
      "    StatefulPartitionedCall_resnet50_conv4_block6_2_relu_Relu_0 = F.relu(StatefulPartitionedCall_resnet50_conv4_block6_2_bn_FusedBatchNormV3_0)\n",
      "    StatefulPartitionedCall_resnet50_conv4_block6_3_bn_FusedBatchNormV3_0 = self.n_StatefulPartitionedCall_resnet50_conv4_block6_3_conv_Conv2D(StatefulPartitionedCall_resnet50_conv4_block6_2_relu_Relu_0)\n",
      "    StatefulPartitionedCall_resnet50_conv4_block6_add_add_0 = torch.add(StatefulPartitionedCall_resnet50_conv4_block5_out_Relu_0, StatefulPartitionedCall_resnet50_conv4_block6_3_bn_FusedBatchNormV3_0)\n",
      "    StatefulPartitionedCall_resnet50_conv4_block6_out_Relu_0 = F.relu(StatefulPartitionedCall_resnet50_conv4_block6_add_add_0)\n",
      "    StatefulPartitionedCall_resnet50_conv5_block1_1_bn_FusedBatchNormV3_0 = self.n_StatefulPartitionedCall_resnet50_conv5_block1_1_conv_Conv2D(StatefulPartitionedCall_resnet50_conv4_block6_out_Relu_0)\n",
      "    StatefulPartitionedCall_resnet50_conv5_block1_1_relu_Relu_0 = F.relu(StatefulPartitionedCall_resnet50_conv5_block1_1_bn_FusedBatchNormV3_0)\n",
      "    StatefulPartitionedCall_resnet50_conv5_block1_2_bn_FusedBatchNormV3_0 = self.n_StatefulPartitionedCall_resnet50_conv5_block1_2_conv_Conv2D(StatefulPartitionedCall_resnet50_conv5_block1_1_relu_Relu_0)\n",
      "    StatefulPartitionedCall_resnet50_conv5_block1_2_relu_Relu_0 = F.relu(StatefulPartitionedCall_resnet50_conv5_block1_2_bn_FusedBatchNormV3_0)\n",
      "    StatefulPartitionedCall_resnet50_conv5_block1_3_bn_FusedBatchNormV3_0 = self.n_StatefulPartitionedCall_resnet50_conv5_block1_3_conv_Conv2D(StatefulPartitionedCall_resnet50_conv5_block1_2_relu_Relu_0)\n",
      "    StatefulPartitionedCall_resnet50_conv5_block1_0_bn_FusedBatchNormV3_0 = self.n_StatefulPartitionedCall_resnet50_conv5_block1_0_conv_Conv2D(StatefulPartitionedCall_resnet50_conv4_block6_out_Relu_0)\n",
      "    StatefulPartitionedCall_resnet50_conv5_block1_add_add_0 = torch.add(StatefulPartitionedCall_resnet50_conv5_block1_0_bn_FusedBatchNormV3_0, StatefulPartitionedCall_resnet50_conv5_block1_3_bn_FusedBatchNormV3_0)\n",
      "    StatefulPartitionedCall_resnet50_conv5_block1_out_Relu_0 = F.relu(StatefulPartitionedCall_resnet50_conv5_block1_add_add_0)\n",
      "    StatefulPartitionedCall_resnet50_conv5_block2_1_bn_FusedBatchNormV3_0 = self.n_StatefulPartitionedCall_resnet50_conv5_block2_1_conv_Conv2D(StatefulPartitionedCall_resnet50_conv5_block1_out_Relu_0)\n",
      "    StatefulPartitionedCall_resnet50_conv5_block2_1_relu_Relu_0 = F.relu(StatefulPartitionedCall_resnet50_conv5_block2_1_bn_FusedBatchNormV3_0)\n",
      "    StatefulPartitionedCall_resnet50_conv5_block2_2_bn_FusedBatchNormV3_0 = self.n_StatefulPartitionedCall_resnet50_conv5_block2_2_conv_Conv2D(StatefulPartitionedCall_resnet50_conv5_block2_1_relu_Relu_0)\n",
      "    StatefulPartitionedCall_resnet50_conv5_block2_2_relu_Relu_0 = F.relu(StatefulPartitionedCall_resnet50_conv5_block2_2_bn_FusedBatchNormV3_0)\n",
      "    StatefulPartitionedCall_resnet50_conv5_block2_3_bn_FusedBatchNormV3_0 = self.n_StatefulPartitionedCall_resnet50_conv5_block2_3_conv_Conv2D(StatefulPartitionedCall_resnet50_conv5_block2_2_relu_Relu_0)\n",
      "    StatefulPartitionedCall_resnet50_conv5_block2_add_add_0 = torch.add(StatefulPartitionedCall_resnet50_conv5_block1_out_Relu_0, StatefulPartitionedCall_resnet50_conv5_block2_3_bn_FusedBatchNormV3_0)\n",
      "    StatefulPartitionedCall_resnet50_conv5_block2_out_Relu_0 = F.relu(StatefulPartitionedCall_resnet50_conv5_block2_add_add_0)\n",
      "    StatefulPartitionedCall_resnet50_conv5_block3_1_bn_FusedBatchNormV3_0 = self.n_StatefulPartitionedCall_resnet50_conv5_block3_1_conv_Conv2D(StatefulPartitionedCall_resnet50_conv5_block2_out_Relu_0)\n",
      "    StatefulPartitionedCall_resnet50_conv5_block3_1_relu_Relu_0 = F.relu(StatefulPartitionedCall_resnet50_conv5_block3_1_bn_FusedBatchNormV3_0)\n",
      "    StatefulPartitionedCall_resnet50_conv5_block3_2_bn_FusedBatchNormV3_0 = self.n_StatefulPartitionedCall_resnet50_conv5_block3_2_conv_Conv2D(StatefulPartitionedCall_resnet50_conv5_block3_1_relu_Relu_0)\n",
      "    StatefulPartitionedCall_resnet50_conv5_block3_2_relu_Relu_0 = F.relu(StatefulPartitionedCall_resnet50_conv5_block3_2_bn_FusedBatchNormV3_0)\n",
      "    StatefulPartitionedCall_resnet50_conv5_block3_3_bn_FusedBatchNormV3_0 = self.n_StatefulPartitionedCall_resnet50_conv5_block3_3_conv_Conv2D(StatefulPartitionedCall_resnet50_conv5_block3_2_relu_Relu_0)\n",
      "    StatefulPartitionedCall_resnet50_conv5_block3_add_add_0 = torch.add(StatefulPartitionedCall_resnet50_conv5_block2_out_Relu_0, StatefulPartitionedCall_resnet50_conv5_block3_3_bn_FusedBatchNormV3_0)\n",
      "    StatefulPartitionedCall_resnet50_conv5_block3_out_Relu_0 = F.relu(StatefulPartitionedCall_resnet50_conv5_block3_add_add_0)\n",
      "    StatefulPartitionedCall_resnet50_avg_pool_Mean_0 = F.avg_pool2d(StatefulPartitionedCall_resnet50_conv5_block3_out_Relu_0, **{'kernel_size': StatefulPartitionedCall_resnet50_conv5_block3_out_Relu_0.shape[-2:]})\n",
      "    StatefulPartitionedCall_resnet50_avg_pool_Mean_Squeeze__612_0 = torch.squeeze(StatefulPartitionedCall_resnet50_avg_pool_Mean_0, 3)\n",
      "    StatefulPartitionedCall_resnet50_avg_pool_Mean_Squeeze__612_0 = torch.squeeze(StatefulPartitionedCall_resnet50_avg_pool_Mean_Squeeze__612_0, 2)\n",
      "    StatefulPartitionedCall_resnet50_predictions_MatMul_0 = torch.matmul(StatefulPartitionedCall_resnet50_avg_pool_Mean_Squeeze__612_0, self._vars[\"StatefulPartitionedCall_resnet50_predictions_MatMul_ReadVariableOp_0\"])\n",
      "    StatefulPartitionedCall_resnet50_predictions_BiasAdd_0 = torch.add(StatefulPartitionedCall_resnet50_predictions_MatMul_0, self._vars[\"StatefulPartitionedCall_resnet50_predictions_BiasAdd_ReadVariableOp_0\"])\n",
      "    predictions = F.softmax(StatefulPartitionedCall_resnet50_predictions_BiasAdd_0, **{'dim': 1})\n",
      "    return predictions\n",
      "\n",
      "  def compatible_auto_pad(self, input, kernel_spatial_shape, nn_mod, auto_pad=None, **kwargs):\n",
      "    input_spatial_shape = input.shape[2:]\n",
      "    d = len(input_spatial_shape)\n",
      "    strides = nn_mod.stride\n",
      "    dilations = nn_mod.dilation\n",
      "    output_spatial_shape = [math.ceil(float(l) / float(r)) for l, r in zip(input.shape[2:], strides)]\n",
      "    pt_padding = [0] * 2 * d\n",
      "    pad_shape = [0] * d\n",
      "    for i in range(d):\n",
      "      pad_shape[i] = (output_spatial_shape[i] - 1) * strides[i] + ((kernel_spatial_shape[i] - 1) * dilations[i] + 1) - input_spatial_shape[i]\n",
      "      mean = pad_shape[i] // 2\n",
      "      if auto_pad == b\"SAME_UPPER\":\n",
      "        l, r = pad_shape[i] - mean, mean\n",
      "      else:\n",
      "        l, r = mean, pad_shape[i] - mean\n",
      "      pt_padding.insert(0, r)\n",
      "      pt_padding.insert(0, l)\n",
      "    return F.pad(input, pt_padding)\n",
      "\n",
      "@torch.no_grad()\n",
      "def test_run_model(inputs=[torch.from_numpy(np.random.randn(*[1, 224, 224, 3]).astype(np.float32))]):\n",
      "  model = Model()\n",
      "  model.eval()\n",
      "  rs = model(*inputs)\n",
      "  print(rs)\n",
      "  return rs\n",
      "\n"
     ]
    },
    {
     "name": "stderr",
     "output_type": "stream",
     "text": [
      "2022-01-11 16:30:57.193189: E tensorflow/stream_executor/cuda/cuda_driver.cc:271] failed call to cuInit: CUDA_ERROR_UNKNOWN: unknown error\n",
      "2022-01-11 16:30:57.193267: I tensorflow/stream_executor/cuda/cuda_diagnostics.cc:169] retrieving CUDA diagnostic information for host: ugcpu5\n",
      "2022-01-11 16:30:57.193279: I tensorflow/stream_executor/cuda/cuda_diagnostics.cc:176] hostname: ugcpu5\n",
      "2022-01-11 16:30:57.193431: I tensorflow/stream_executor/cuda/cuda_diagnostics.cc:200] libcuda reported version is: 495.29.5\n",
      "2022-01-11 16:30:57.193488: I tensorflow/stream_executor/cuda/cuda_diagnostics.cc:204] kernel reported version is: 495.29.5\n",
      "2022-01-11 16:30:57.193501: I tensorflow/stream_executor/cuda/cuda_diagnostics.cc:310] kernel version seems to match DSO: 495.29.5\n",
      "2022-01-11 16:30:57.194059: I tensorflow/core/platform/cpu_feature_guard.cc:151] This TensorFlow binary is optimized with oneAPI Deep Neural Network Library (oneDNN) to use the following CPU instructions in performance-critical operations:  AVX2 AVX512F FMA\n",
      "To enable them in other operations, rebuild TensorFlow with the appropriate compiler flags.\n",
      "WARNING:tensorflow:No training configuration found in save file, so the model was *not* compiled. Compile it manually.\n"
     ]
    }
   ],
   "source": [
    "r = redis.Redis(db=db_flag)\n",
    "r.flushdb()\n",
    "r.mset({\"model_tensorflow\": pickle.dumps(model)})\n",
    "\n",
    "export_model(\"tensorflow\", model, \"model_tf\", x_1, \"model_tf.onnx\")\n",
    "model_2_path = import_onnx(\"torch\", \"model_tf.onnx\")\n",
    "model_2 = load_model(\"torch\", model_2_path)\n",
    "r.mset({\"model_torch\": pickle.dumps(model_2)})\n",
    "\n",
    "\n",
    "# predict x_1 using tensorflow framework\n",
    "r.mset({\"inputs\": pickle.dumps(x_1)})\n",
    "os.system(get_prediction_cmd(\"tensorflow\", db_flag, layer_idx))\n",
    "predictions_tf = pickle.loads(r.hget(\"predictions\", \"tensorflow\"))\n",
    "\n",
    "# predict x_2 using theano framework\n",
    "r.mset({\"inputs\": pickle.dumps(x_2)})\n",
    "os.system(get_prediction_cmd(\"torch\", db_flag, layer_idx))\n",
    "predictions_th = pickle.loads(r.hget(\"predictions\", \"torch\"))"
   ]
  },
  {
   "cell_type": "code",
   "execution_count": 12,
   "metadata": {
    "scrolled": false
   },
   "outputs": [],
   "source": [
    "predictions_diff = np.abs(predictions_tf - predictions_th)\n",
    "fitness_values = np.sum(predictions_diff, axis=1) / len(predictions_diff[0])"
   ]
  },
  {
   "cell_type": "code",
   "execution_count": 13,
   "metadata": {
    "scrolled": false
   },
   "outputs": [
    {
     "data": {
      "text/plain": [
       "array([0.00198827, 0.00199375, 0.00199799, 0.00199774, 0.0019909 ])"
      ]
     },
     "execution_count": 13,
     "metadata": {},
     "output_type": "execute_result"
    }
   ],
   "source": [
    "# top 5 fitness values using softmax layer\n",
    "fitness_values[np.argpartition(fitness_values, -5)[-5:]]"
   ]
  },
  {
   "cell_type": "code",
   "execution_count": 15,
   "metadata": {
    "scrolled": false
   },
   "outputs": [
    {
     "data": {
      "text/plain": [
       "0.002"
      ]
     },
     "execution_count": 15,
     "metadata": {},
     "output_type": "execute_result"
    }
   ],
   "source": [
    "2/len(predictions_diff[0])"
   ]
  },
  {
   "cell_type": "markdown",
   "metadata": {},
   "source": [
    "### Find inputs which are labeled differently in tf and th"
   ]
  },
  {
   "cell_type": "code",
   "execution_count": 11,
   "metadata": {
    "scrolled": true
   },
   "outputs": [
    {
     "name": "stdout",
     "output_type": "stream",
     "text": [
      "WARNING:tensorflow:Compiled the loaded model, but the compiled metrics have yet to be built. `model.compile_metrics` will be empty until you train or evaluate the model.\n",
      "INFO:tensorflow:Assets written to: ram://9507b45e-bfb0-408b-8ba1-ad8dd13ed3df/assets\n"
     ]
    },
    {
     "name": "stderr",
     "output_type": "stream",
     "text": [
      "/data/yylaiai/anaconda3/envs/fyp_v3/lib/python3.9/site-packages/keras/engine/functional.py:1410: CustomMaskWarning: Custom mask layers require a config and must override get_config. When loading, the custom mask layer must be passed to the custom_objects argument.\n",
      "  layer_config = serialize_layer_fn(layer)\n",
      "/data/yylaiai/anaconda3/envs/fyp_v3/lib/python3.9/site-packages/keras/saving/saved_model/layer_serialization.py:112: CustomMaskWarning: Custom mask layers require a config and must override get_config. When loading, the custom mask layer must be passed to the custom_objects argument.\n",
      "  return generic_utils.serialize_keras_object(obj)\n"
     ]
    },
    {
     "name": "stdout",
     "output_type": "stream",
     "text": [
      "WARNING:tensorflow:Compiled the loaded model, but the compiled metrics have yet to be built. `model.compile_metrics` will be empty until you train or evaluate the model.\n",
      "INFO:tensorflow:Assets written to: model_tf/assets\n"
     ]
    },
    {
     "name": "stderr",
     "output_type": "stream",
     "text": [
      "/data/yylaiai/anaconda3/envs/fyp_v3/lib/python3.9/site-packages/keras/engine/functional.py:1410: CustomMaskWarning: Custom mask layers require a config and must override get_config. When loading, the custom mask layer must be passed to the custom_objects argument.\n",
      "  layer_config = serialize_layer_fn(layer)\n",
      "/data/yylaiai/anaconda3/envs/fyp_v3/lib/python3.9/site-packages/keras/saving/saved_model/layer_serialization.py:112: CustomMaskWarning: Custom mask layers require a config and must override get_config. When loading, the custom mask layer must be passed to the custom_objects argument.\n",
      "  return generic_utils.serialize_keras_object(obj)\n",
      "/data/yylaiai/anaconda3/envs/fyp_v1/lib/python3.9/runpy.py:127: RuntimeWarning: 'tf2onnx.convert' found in sys.modules after import of package 'tf2onnx', but prior to execution of 'tf2onnx.convert'; this may result in unpredictable behaviour\n",
      "  warn(RuntimeWarning(msg))\n",
      "2022-01-11 16:38:50,419 - WARNING - '--tag' not specified for saved_model. Using --tag serve\n",
      "2022-01-11 16:38:58,914 - INFO - Signatures found in model: [serving_default].\n",
      "2022-01-11 16:38:58,915 - WARNING - '--signature_def' not specified, using first signature: serving_default\n",
      "2022-01-11 16:38:58,917 - INFO - Output names: ['predictions']\n",
      "WARNING:tensorflow:From /data/yylaiai/anaconda3/envs/fyp_v1/lib/python3.9/site-packages/tf2onnx/tf_loader.py:706: extract_sub_graph (from tensorflow.python.framework.graph_util_impl) is deprecated and will be removed in a future version.\n",
      "Instructions for updating:\n",
      "Use `tf.compat.v1.graph_util.extract_sub_graph`\n",
      "2022-01-11 16:39:04,070 - WARNING - From /data/yylaiai/anaconda3/envs/fyp_v1/lib/python3.9/site-packages/tf2onnx/tf_loader.py:706: extract_sub_graph (from tensorflow.python.framework.graph_util_impl) is deprecated and will be removed in a future version.\n",
      "Instructions for updating:\n",
      "Use `tf.compat.v1.graph_util.extract_sub_graph`\n",
      "2022-01-11 16:39:06,055 - INFO - Using tensorflow=2.7.0, onnx=1.10.2, tf2onnx=1.9.3/1190aa\n",
      "2022-01-11 16:39:06,055 - INFO - Using opset <onnx, 9>\n",
      "2022-01-11 16:39:13,271 - INFO - Computed 0 values for constant folding\n",
      "2022-01-11 16:39:18,832 - INFO - Optimizing ONNX model\n",
      "2022-01-11 16:39:20,680 - INFO - After optimization: Add -1 (18->17), BatchNormalization -53 (53->0), Const -162 (270->108), GlobalAveragePool +1 (0->1), Identity -57 (57->0), ReduceMean -1 (1->0), Squeeze +1 (0->1), Transpose -213 (214->1)\n",
      "2022-01-11 16:39:21,982 - INFO - \n",
      "2022-01-11 16:39:21,982 - INFO - Successfully converted TensorFlow model model_tf to ONNX\n",
      "2022-01-11 16:39:21,982 - INFO - Model inputs: ['input_1']\n",
      "2022-01-11 16:39:21,982 - INFO - Model outputs: ['predictions']\n",
      "2022-01-11 16:39:21,983 - INFO - ONNX model is saved at model_tf.onnx\n",
      "WARNING:root:Cannot get default value for perm of Transpose.\n",
      "WARNING:root:Cannot get default value for dilations of Conv.\n",
      "WARNING:root:Cannot get default value for kernel_shape of Conv.\n",
      "WARNING:root:Cannot get default value for pads of Conv.\n",
      "WARNING:root:Cannot get default value for strides of Conv.\n",
      "WARNING:root:Cannot get default value for dilations of MaxPool.\n",
      "WARNING:root:Cannot get default value for kernel_shape of MaxPool.\n",
      "WARNING:root:Cannot get default value for pads of MaxPool.\n",
      "WARNING:root:Cannot get default value for strides of MaxPool.\n"
     ]
    },
    {
     "name": "stdout",
     "output_type": "stream",
     "text": [
      "# Autogenerated by onnx-pytorch.\n",
      "\n",
      "import glob\n",
      "import os\n",
      "import math\n",
      "\n",
      "import numpy as np\n",
      "import torch\n",
      "import torch.nn as nn\n",
      "import torch.nn.functional as F\n",
      "import torchvision\n",
      "\n",
      "\n",
      "class Model(nn.Module):\n",
      "  def __init__(self):\n",
      "    super(Model, self).__init__()\n",
      "    self._vars = nn.ParameterDict()\n",
      "    self._regularizer_params = []\n",
      "    for b in glob.glob(\n",
      "        os.path.join(os.path.dirname(__file__), \"variables\", \"*.npy\")):\n",
      "      v = torch.from_numpy(np.load(b))\n",
      "      requires_grad = v.dtype.is_floating_point or v.dtype.is_complex\n",
      "      self._vars[os.path.basename(b)[:-4]] = nn.Parameter(v, requires_grad=requires_grad)\n",
      "    self.n_Conv__434 = nn.Conv2d(**{'groups': 1, 'dilation': [1, 1], 'out_channels': 64, 'padding': [3, 3], 'kernel_size': (7, 7), 'stride': [2, 2], 'in_channels': 3, 'bias': True})\n",
      "    self.n_Conv__434.weight.data = self._vars[\"Conv__434_weights_fused_bn\"]\n",
      "    self.n_Conv__434.bias.data = self._vars[\"Conv__434_bias_fused_bn\"]\n",
      "    self.n_StatefulPartitionedCall_resnet50_pool1_pool_MaxPool = nn.MaxPool2d(**{'dilation': 1, 'kernel_size': [3, 3], 'ceil_mode': False, 'stride': [2, 2], 'return_indices': False})\n",
      "    self.n_StatefulPartitionedCall_resnet50_conv2_block1_1_conv_Conv2D = nn.Conv2d(**{'groups': 1, 'dilation': [1, 1], 'out_channels': 64, 'padding': 0, 'kernel_size': (1, 1), 'stride': [1, 1], 'in_channels': 64, 'bias': True})\n",
      "    self.n_StatefulPartitionedCall_resnet50_conv2_block1_1_conv_Conv2D.weight.data = self._vars[\"StatefulPartitionedCall_resnet50_conv2_block1_1_conv_Conv2D_weights_fused_bn\"]\n",
      "    self.n_StatefulPartitionedCall_resnet50_conv2_block1_1_conv_Conv2D.bias.data = self._vars[\"StatefulPartitionedCall_resnet50_conv2_block1_1_conv_Conv2D_bias_fused_bn\"]\n",
      "    self.n_StatefulPartitionedCall_resnet50_conv2_block1_2_conv_Conv2D = nn.Conv2d(**{'groups': 1, 'dilation': [1, 1], 'out_channels': 64, 'padding': [1, 1], 'kernel_size': (3, 3), 'stride': [1, 1], 'in_channels': 64, 'bias': True})\n",
      "    self.n_StatefulPartitionedCall_resnet50_conv2_block1_2_conv_Conv2D.weight.data = self._vars[\"StatefulPartitionedCall_resnet50_conv2_block1_2_conv_Conv2D_weights_fused_bn\"]\n",
      "    self.n_StatefulPartitionedCall_resnet50_conv2_block1_2_conv_Conv2D.bias.data = self._vars[\"StatefulPartitionedCall_resnet50_conv2_block1_2_conv_Conv2D_bias_fused_bn\"]\n",
      "    self.n_StatefulPartitionedCall_resnet50_conv2_block1_3_conv_Conv2D = nn.Conv2d(**{'groups': 1, 'dilation': [1, 1], 'out_channels': 256, 'padding': 0, 'kernel_size': (1, 1), 'stride': [1, 1], 'in_channels': 64, 'bias': True})\n",
      "    self.n_StatefulPartitionedCall_resnet50_conv2_block1_3_conv_Conv2D.weight.data = self._vars[\"StatefulPartitionedCall_resnet50_conv2_block1_3_conv_Conv2D_weights_fused_bn\"]\n",
      "    self.n_StatefulPartitionedCall_resnet50_conv2_block1_3_conv_Conv2D.bias.data = self._vars[\"StatefulPartitionedCall_resnet50_conv2_block1_3_conv_Conv2D_bias_fused_bn\"]\n",
      "    self.n_StatefulPartitionedCall_resnet50_conv2_block1_0_conv_Conv2D = nn.Conv2d(**{'groups': 1, 'dilation': [1, 1], 'out_channels': 256, 'padding': 0, 'kernel_size': (1, 1), 'stride': [1, 1], 'in_channels': 64, 'bias': True})\n",
      "    self.n_StatefulPartitionedCall_resnet50_conv2_block1_0_conv_Conv2D.weight.data = self._vars[\"StatefulPartitionedCall_resnet50_conv2_block1_0_conv_Conv2D_weights_fused_bn\"]\n",
      "    self.n_StatefulPartitionedCall_resnet50_conv2_block1_0_conv_Conv2D.bias.data = self._vars[\"StatefulPartitionedCall_resnet50_conv2_block1_0_conv_Conv2D_bias_fused_bn\"]\n",
      "    self.n_StatefulPartitionedCall_resnet50_conv2_block2_1_conv_Conv2D = nn.Conv2d(**{'groups': 1, 'dilation': [1, 1], 'out_channels': 64, 'padding': 0, 'kernel_size': (1, 1), 'stride': [1, 1], 'in_channels': 256, 'bias': True})\n",
      "    self.n_StatefulPartitionedCall_resnet50_conv2_block2_1_conv_Conv2D.weight.data = self._vars[\"StatefulPartitionedCall_resnet50_conv2_block2_1_conv_Conv2D_weights_fused_bn\"]\n",
      "    self.n_StatefulPartitionedCall_resnet50_conv2_block2_1_conv_Conv2D.bias.data = self._vars[\"StatefulPartitionedCall_resnet50_conv2_block2_1_conv_Conv2D_bias_fused_bn\"]\n",
      "    self.n_StatefulPartitionedCall_resnet50_conv2_block2_2_conv_Conv2D = nn.Conv2d(**{'groups': 1, 'dilation': [1, 1], 'out_channels': 64, 'padding': [1, 1], 'kernel_size': (3, 3), 'stride': [1, 1], 'in_channels': 64, 'bias': True})\n",
      "    self.n_StatefulPartitionedCall_resnet50_conv2_block2_2_conv_Conv2D.weight.data = self._vars[\"StatefulPartitionedCall_resnet50_conv2_block2_2_conv_Conv2D_weights_fused_bn\"]\n",
      "    self.n_StatefulPartitionedCall_resnet50_conv2_block2_2_conv_Conv2D.bias.data = self._vars[\"StatefulPartitionedCall_resnet50_conv2_block2_2_conv_Conv2D_bias_fused_bn\"]\n",
      "    self.n_StatefulPartitionedCall_resnet50_conv2_block2_3_conv_Conv2D = nn.Conv2d(**{'groups': 1, 'dilation': [1, 1], 'out_channels': 256, 'padding': 0, 'kernel_size': (1, 1), 'stride': [1, 1], 'in_channels': 64, 'bias': True})\n",
      "    self.n_StatefulPartitionedCall_resnet50_conv2_block2_3_conv_Conv2D.weight.data = self._vars[\"StatefulPartitionedCall_resnet50_conv2_block2_3_conv_Conv2D_weights_fused_bn\"]\n",
      "    self.n_StatefulPartitionedCall_resnet50_conv2_block2_3_conv_Conv2D.bias.data = self._vars[\"StatefulPartitionedCall_resnet50_conv2_block2_3_conv_Conv2D_bias_fused_bn\"]\n",
      "    self.n_StatefulPartitionedCall_resnet50_conv2_block3_1_conv_Conv2D = nn.Conv2d(**{'groups': 1, 'dilation': [1, 1], 'out_channels': 64, 'padding': 0, 'kernel_size': (1, 1), 'stride': [1, 1], 'in_channels': 256, 'bias': True})\n",
      "    self.n_StatefulPartitionedCall_resnet50_conv2_block3_1_conv_Conv2D.weight.data = self._vars[\"StatefulPartitionedCall_resnet50_conv2_block3_1_conv_Conv2D_weights_fused_bn\"]\n",
      "    self.n_StatefulPartitionedCall_resnet50_conv2_block3_1_conv_Conv2D.bias.data = self._vars[\"StatefulPartitionedCall_resnet50_conv2_block3_1_conv_Conv2D_bias_fused_bn\"]\n",
      "    self.n_StatefulPartitionedCall_resnet50_conv2_block3_2_conv_Conv2D = nn.Conv2d(**{'groups': 1, 'dilation': [1, 1], 'out_channels': 64, 'padding': [1, 1], 'kernel_size': (3, 3), 'stride': [1, 1], 'in_channels': 64, 'bias': True})\n",
      "    self.n_StatefulPartitionedCall_resnet50_conv2_block3_2_conv_Conv2D.weight.data = self._vars[\"StatefulPartitionedCall_resnet50_conv2_block3_2_conv_Conv2D_weights_fused_bn\"]\n",
      "    self.n_StatefulPartitionedCall_resnet50_conv2_block3_2_conv_Conv2D.bias.data = self._vars[\"StatefulPartitionedCall_resnet50_conv2_block3_2_conv_Conv2D_bias_fused_bn\"]\n",
      "    self.n_StatefulPartitionedCall_resnet50_conv2_block3_3_conv_Conv2D = nn.Conv2d(**{'groups': 1, 'dilation': [1, 1], 'out_channels': 256, 'padding': 0, 'kernel_size': (1, 1), 'stride': [1, 1], 'in_channels': 64, 'bias': True})\n",
      "    self.n_StatefulPartitionedCall_resnet50_conv2_block3_3_conv_Conv2D.weight.data = self._vars[\"StatefulPartitionedCall_resnet50_conv2_block3_3_conv_Conv2D_weights_fused_bn\"]\n",
      "    self.n_StatefulPartitionedCall_resnet50_conv2_block3_3_conv_Conv2D.bias.data = self._vars[\"StatefulPartitionedCall_resnet50_conv2_block3_3_conv_Conv2D_bias_fused_bn\"]\n",
      "    self.n_StatefulPartitionedCall_resnet50_conv3_block1_1_conv_Conv2D = nn.Conv2d(**{'groups': 1, 'dilation': [1, 1], 'out_channels': 128, 'padding': 0, 'kernel_size': (1, 1), 'stride': [2, 2], 'in_channels': 256, 'bias': True})\n",
      "    self.n_StatefulPartitionedCall_resnet50_conv3_block1_1_conv_Conv2D.weight.data = self._vars[\"StatefulPartitionedCall_resnet50_conv3_block1_1_conv_Conv2D_weights_fused_bn\"]\n",
      "    self.n_StatefulPartitionedCall_resnet50_conv3_block1_1_conv_Conv2D.bias.data = self._vars[\"StatefulPartitionedCall_resnet50_conv3_block1_1_conv_Conv2D_bias_fused_bn\"]\n",
      "    self.n_StatefulPartitionedCall_resnet50_conv3_block1_2_conv_Conv2D = nn.Conv2d(**{'groups': 1, 'dilation': [1, 1], 'out_channels': 128, 'padding': [1, 1], 'kernel_size': (3, 3), 'stride': [1, 1], 'in_channels': 128, 'bias': True})\n",
      "    self.n_StatefulPartitionedCall_resnet50_conv3_block1_2_conv_Conv2D.weight.data = self._vars[\"StatefulPartitionedCall_resnet50_conv3_block1_2_conv_Conv2D_weights_fused_bn\"]\n",
      "    self.n_StatefulPartitionedCall_resnet50_conv3_block1_2_conv_Conv2D.bias.data = self._vars[\"StatefulPartitionedCall_resnet50_conv3_block1_2_conv_Conv2D_bias_fused_bn\"]\n",
      "    self.n_StatefulPartitionedCall_resnet50_conv3_block1_3_conv_Conv2D = nn.Conv2d(**{'groups': 1, 'dilation': [1, 1], 'out_channels': 512, 'padding': 0, 'kernel_size': (1, 1), 'stride': [1, 1], 'in_channels': 128, 'bias': True})\n",
      "    self.n_StatefulPartitionedCall_resnet50_conv3_block1_3_conv_Conv2D.weight.data = self._vars[\"StatefulPartitionedCall_resnet50_conv3_block1_3_conv_Conv2D_weights_fused_bn\"]\n",
      "    self.n_StatefulPartitionedCall_resnet50_conv3_block1_3_conv_Conv2D.bias.data = self._vars[\"StatefulPartitionedCall_resnet50_conv3_block1_3_conv_Conv2D_bias_fused_bn\"]\n",
      "    self.n_StatefulPartitionedCall_resnet50_conv3_block1_0_conv_Conv2D = nn.Conv2d(**{'groups': 1, 'dilation': [1, 1], 'out_channels': 512, 'padding': 0, 'kernel_size': (1, 1), 'stride': [2, 2], 'in_channels': 256, 'bias': True})\n",
      "    self.n_StatefulPartitionedCall_resnet50_conv3_block1_0_conv_Conv2D.weight.data = self._vars[\"StatefulPartitionedCall_resnet50_conv3_block1_0_conv_Conv2D_weights_fused_bn\"]\n",
      "    self.n_StatefulPartitionedCall_resnet50_conv3_block1_0_conv_Conv2D.bias.data = self._vars[\"StatefulPartitionedCall_resnet50_conv3_block1_0_conv_Conv2D_bias_fused_bn\"]\n",
      "    self.n_StatefulPartitionedCall_resnet50_conv3_block2_1_conv_Conv2D = nn.Conv2d(**{'groups': 1, 'dilation': [1, 1], 'out_channels': 128, 'padding': 0, 'kernel_size': (1, 1), 'stride': [1, 1], 'in_channels': 512, 'bias': True})\n",
      "    self.n_StatefulPartitionedCall_resnet50_conv3_block2_1_conv_Conv2D.weight.data = self._vars[\"StatefulPartitionedCall_resnet50_conv3_block2_1_conv_Conv2D_weights_fused_bn\"]\n",
      "    self.n_StatefulPartitionedCall_resnet50_conv3_block2_1_conv_Conv2D.bias.data = self._vars[\"StatefulPartitionedCall_resnet50_conv3_block2_1_conv_Conv2D_bias_fused_bn\"]\n",
      "    self.n_StatefulPartitionedCall_resnet50_conv3_block2_2_conv_Conv2D = nn.Conv2d(**{'groups': 1, 'dilation': [1, 1], 'out_channels': 128, 'padding': [1, 1], 'kernel_size': (3, 3), 'stride': [1, 1], 'in_channels': 128, 'bias': True})\n",
      "    self.n_StatefulPartitionedCall_resnet50_conv3_block2_2_conv_Conv2D.weight.data = self._vars[\"StatefulPartitionedCall_resnet50_conv3_block2_2_conv_Conv2D_weights_fused_bn\"]\n",
      "    self.n_StatefulPartitionedCall_resnet50_conv3_block2_2_conv_Conv2D.bias.data = self._vars[\"StatefulPartitionedCall_resnet50_conv3_block2_2_conv_Conv2D_bias_fused_bn\"]\n",
      "    self.n_StatefulPartitionedCall_resnet50_conv3_block2_3_conv_Conv2D = nn.Conv2d(**{'groups': 1, 'dilation': [1, 1], 'out_channels': 512, 'padding': 0, 'kernel_size': (1, 1), 'stride': [1, 1], 'in_channels': 128, 'bias': True})\n",
      "    self.n_StatefulPartitionedCall_resnet50_conv3_block2_3_conv_Conv2D.weight.data = self._vars[\"StatefulPartitionedCall_resnet50_conv3_block2_3_conv_Conv2D_weights_fused_bn\"]\n",
      "    self.n_StatefulPartitionedCall_resnet50_conv3_block2_3_conv_Conv2D.bias.data = self._vars[\"StatefulPartitionedCall_resnet50_conv3_block2_3_conv_Conv2D_bias_fused_bn\"]\n",
      "    self.n_StatefulPartitionedCall_resnet50_conv3_block3_1_conv_Conv2D = nn.Conv2d(**{'groups': 1, 'dilation': [1, 1], 'out_channels': 128, 'padding': 0, 'kernel_size': (1, 1), 'stride': [1, 1], 'in_channels': 512, 'bias': True})\n",
      "    self.n_StatefulPartitionedCall_resnet50_conv3_block3_1_conv_Conv2D.weight.data = self._vars[\"StatefulPartitionedCall_resnet50_conv3_block3_1_conv_Conv2D_weights_fused_bn\"]\n",
      "    self.n_StatefulPartitionedCall_resnet50_conv3_block3_1_conv_Conv2D.bias.data = self._vars[\"StatefulPartitionedCall_resnet50_conv3_block3_1_conv_Conv2D_bias_fused_bn\"]\n",
      "    self.n_StatefulPartitionedCall_resnet50_conv3_block3_2_conv_Conv2D = nn.Conv2d(**{'groups': 1, 'dilation': [1, 1], 'out_channels': 128, 'padding': [1, 1], 'kernel_size': (3, 3), 'stride': [1, 1], 'in_channels': 128, 'bias': True})\n",
      "    self.n_StatefulPartitionedCall_resnet50_conv3_block3_2_conv_Conv2D.weight.data = self._vars[\"StatefulPartitionedCall_resnet50_conv3_block3_2_conv_Conv2D_weights_fused_bn\"]\n",
      "    self.n_StatefulPartitionedCall_resnet50_conv3_block3_2_conv_Conv2D.bias.data = self._vars[\"StatefulPartitionedCall_resnet50_conv3_block3_2_conv_Conv2D_bias_fused_bn\"]\n",
      "    self.n_StatefulPartitionedCall_resnet50_conv3_block3_3_conv_Conv2D = nn.Conv2d(**{'groups': 1, 'dilation': [1, 1], 'out_channels': 512, 'padding': 0, 'kernel_size': (1, 1), 'stride': [1, 1], 'in_channels': 128, 'bias': True})\n",
      "    self.n_StatefulPartitionedCall_resnet50_conv3_block3_3_conv_Conv2D.weight.data = self._vars[\"StatefulPartitionedCall_resnet50_conv3_block3_3_conv_Conv2D_weights_fused_bn\"]\n",
      "    self.n_StatefulPartitionedCall_resnet50_conv3_block3_3_conv_Conv2D.bias.data = self._vars[\"StatefulPartitionedCall_resnet50_conv3_block3_3_conv_Conv2D_bias_fused_bn\"]\n",
      "    self.n_StatefulPartitionedCall_resnet50_conv3_block4_1_conv_Conv2D = nn.Conv2d(**{'groups': 1, 'dilation': [1, 1], 'out_channels': 128, 'padding': 0, 'kernel_size': (1, 1), 'stride': [1, 1], 'in_channels': 512, 'bias': True})\n",
      "    self.n_StatefulPartitionedCall_resnet50_conv3_block4_1_conv_Conv2D.weight.data = self._vars[\"StatefulPartitionedCall_resnet50_conv3_block4_1_conv_Conv2D_weights_fused_bn\"]\n",
      "    self.n_StatefulPartitionedCall_resnet50_conv3_block4_1_conv_Conv2D.bias.data = self._vars[\"StatefulPartitionedCall_resnet50_conv3_block4_1_conv_Conv2D_bias_fused_bn\"]\n",
      "    self.n_StatefulPartitionedCall_resnet50_conv3_block4_2_conv_Conv2D = nn.Conv2d(**{'groups': 1, 'dilation': [1, 1], 'out_channels': 128, 'padding': [1, 1], 'kernel_size': (3, 3), 'stride': [1, 1], 'in_channels': 128, 'bias': True})\n",
      "    self.n_StatefulPartitionedCall_resnet50_conv3_block4_2_conv_Conv2D.weight.data = self._vars[\"StatefulPartitionedCall_resnet50_conv3_block4_2_conv_Conv2D_weights_fused_bn\"]\n",
      "    self.n_StatefulPartitionedCall_resnet50_conv3_block4_2_conv_Conv2D.bias.data = self._vars[\"StatefulPartitionedCall_resnet50_conv3_block4_2_conv_Conv2D_bias_fused_bn\"]\n",
      "    self.n_StatefulPartitionedCall_resnet50_conv3_block4_3_conv_Conv2D = nn.Conv2d(**{'groups': 1, 'dilation': [1, 1], 'out_channels': 512, 'padding': 0, 'kernel_size': (1, 1), 'stride': [1, 1], 'in_channels': 128, 'bias': True})\n",
      "    self.n_StatefulPartitionedCall_resnet50_conv3_block4_3_conv_Conv2D.weight.data = self._vars[\"StatefulPartitionedCall_resnet50_conv3_block4_3_conv_Conv2D_weights_fused_bn\"]\n",
      "    self.n_StatefulPartitionedCall_resnet50_conv3_block4_3_conv_Conv2D.bias.data = self._vars[\"StatefulPartitionedCall_resnet50_conv3_block4_3_conv_Conv2D_bias_fused_bn\"]\n",
      "    self.n_StatefulPartitionedCall_resnet50_conv4_block1_1_conv_Conv2D = nn.Conv2d(**{'groups': 1, 'dilation': [1, 1], 'out_channels': 256, 'padding': 0, 'kernel_size': (1, 1), 'stride': [2, 2], 'in_channels': 512, 'bias': True})\n",
      "    self.n_StatefulPartitionedCall_resnet50_conv4_block1_1_conv_Conv2D.weight.data = self._vars[\"StatefulPartitionedCall_resnet50_conv4_block1_1_conv_Conv2D_weights_fused_bn\"]\n",
      "    self.n_StatefulPartitionedCall_resnet50_conv4_block1_1_conv_Conv2D.bias.data = self._vars[\"StatefulPartitionedCall_resnet50_conv4_block1_1_conv_Conv2D_bias_fused_bn\"]\n",
      "    self.n_StatefulPartitionedCall_resnet50_conv4_block1_2_conv_Conv2D = nn.Conv2d(**{'groups': 1, 'dilation': [1, 1], 'out_channels': 256, 'padding': [1, 1], 'kernel_size': (3, 3), 'stride': [1, 1], 'in_channels': 256, 'bias': True})\n",
      "    self.n_StatefulPartitionedCall_resnet50_conv4_block1_2_conv_Conv2D.weight.data = self._vars[\"StatefulPartitionedCall_resnet50_conv4_block1_2_conv_Conv2D_weights_fused_bn\"]\n",
      "    self.n_StatefulPartitionedCall_resnet50_conv4_block1_2_conv_Conv2D.bias.data = self._vars[\"StatefulPartitionedCall_resnet50_conv4_block1_2_conv_Conv2D_bias_fused_bn\"]\n",
      "    self.n_StatefulPartitionedCall_resnet50_conv4_block1_3_conv_Conv2D = nn.Conv2d(**{'groups': 1, 'dilation': [1, 1], 'out_channels': 1024, 'padding': 0, 'kernel_size': (1, 1), 'stride': [1, 1], 'in_channels': 256, 'bias': True})\n",
      "    self.n_StatefulPartitionedCall_resnet50_conv4_block1_3_conv_Conv2D.weight.data = self._vars[\"StatefulPartitionedCall_resnet50_conv4_block1_3_conv_Conv2D_weights_fused_bn\"]\n",
      "    self.n_StatefulPartitionedCall_resnet50_conv4_block1_3_conv_Conv2D.bias.data = self._vars[\"StatefulPartitionedCall_resnet50_conv4_block1_3_conv_Conv2D_bias_fused_bn\"]\n",
      "    self.n_StatefulPartitionedCall_resnet50_conv4_block1_0_conv_Conv2D = nn.Conv2d(**{'groups': 1, 'dilation': [1, 1], 'out_channels': 1024, 'padding': 0, 'kernel_size': (1, 1), 'stride': [2, 2], 'in_channels': 512, 'bias': True})\n",
      "    self.n_StatefulPartitionedCall_resnet50_conv4_block1_0_conv_Conv2D.weight.data = self._vars[\"StatefulPartitionedCall_resnet50_conv4_block1_0_conv_Conv2D_weights_fused_bn\"]\n",
      "    self.n_StatefulPartitionedCall_resnet50_conv4_block1_0_conv_Conv2D.bias.data = self._vars[\"StatefulPartitionedCall_resnet50_conv4_block1_0_conv_Conv2D_bias_fused_bn\"]\n",
      "    self.n_StatefulPartitionedCall_resnet50_conv4_block2_1_conv_Conv2D = nn.Conv2d(**{'groups': 1, 'dilation': [1, 1], 'out_channels': 256, 'padding': 0, 'kernel_size': (1, 1), 'stride': [1, 1], 'in_channels': 1024, 'bias': True})\n",
      "    self.n_StatefulPartitionedCall_resnet50_conv4_block2_1_conv_Conv2D.weight.data = self._vars[\"StatefulPartitionedCall_resnet50_conv4_block2_1_conv_Conv2D_weights_fused_bn\"]\n",
      "    self.n_StatefulPartitionedCall_resnet50_conv4_block2_1_conv_Conv2D.bias.data = self._vars[\"StatefulPartitionedCall_resnet50_conv4_block2_1_conv_Conv2D_bias_fused_bn\"]\n",
      "    self.n_StatefulPartitionedCall_resnet50_conv4_block2_2_conv_Conv2D = nn.Conv2d(**{'groups': 1, 'dilation': [1, 1], 'out_channels': 256, 'padding': [1, 1], 'kernel_size': (3, 3), 'stride': [1, 1], 'in_channels': 256, 'bias': True})\n",
      "    self.n_StatefulPartitionedCall_resnet50_conv4_block2_2_conv_Conv2D.weight.data = self._vars[\"StatefulPartitionedCall_resnet50_conv4_block2_2_conv_Conv2D_weights_fused_bn\"]\n",
      "    self.n_StatefulPartitionedCall_resnet50_conv4_block2_2_conv_Conv2D.bias.data = self._vars[\"StatefulPartitionedCall_resnet50_conv4_block2_2_conv_Conv2D_bias_fused_bn\"]\n",
      "    self.n_StatefulPartitionedCall_resnet50_conv4_block2_3_conv_Conv2D = nn.Conv2d(**{'groups': 1, 'dilation': [1, 1], 'out_channels': 1024, 'padding': 0, 'kernel_size': (1, 1), 'stride': [1, 1], 'in_channels': 256, 'bias': True})\n",
      "    self.n_StatefulPartitionedCall_resnet50_conv4_block2_3_conv_Conv2D.weight.data = self._vars[\"StatefulPartitionedCall_resnet50_conv4_block2_3_conv_Conv2D_weights_fused_bn\"]\n",
      "    self.n_StatefulPartitionedCall_resnet50_conv4_block2_3_conv_Conv2D.bias.data = self._vars[\"StatefulPartitionedCall_resnet50_conv4_block2_3_conv_Conv2D_bias_fused_bn\"]\n",
      "    self.n_StatefulPartitionedCall_resnet50_conv4_block3_1_conv_Conv2D = nn.Conv2d(**{'groups': 1, 'dilation': [1, 1], 'out_channels': 256, 'padding': 0, 'kernel_size': (1, 1), 'stride': [1, 1], 'in_channels': 1024, 'bias': True})\n",
      "    self.n_StatefulPartitionedCall_resnet50_conv4_block3_1_conv_Conv2D.weight.data = self._vars[\"StatefulPartitionedCall_resnet50_conv4_block3_1_conv_Conv2D_weights_fused_bn\"]\n",
      "    self.n_StatefulPartitionedCall_resnet50_conv4_block3_1_conv_Conv2D.bias.data = self._vars[\"StatefulPartitionedCall_resnet50_conv4_block3_1_conv_Conv2D_bias_fused_bn\"]\n",
      "    self.n_StatefulPartitionedCall_resnet50_conv4_block3_2_conv_Conv2D = nn.Conv2d(**{'groups': 1, 'dilation': [1, 1], 'out_channels': 256, 'padding': [1, 1], 'kernel_size': (3, 3), 'stride': [1, 1], 'in_channels': 256, 'bias': True})\n",
      "    self.n_StatefulPartitionedCall_resnet50_conv4_block3_2_conv_Conv2D.weight.data = self._vars[\"StatefulPartitionedCall_resnet50_conv4_block3_2_conv_Conv2D_weights_fused_bn\"]\n",
      "    self.n_StatefulPartitionedCall_resnet50_conv4_block3_2_conv_Conv2D.bias.data = self._vars[\"StatefulPartitionedCall_resnet50_conv4_block3_2_conv_Conv2D_bias_fused_bn\"]\n",
      "    self.n_StatefulPartitionedCall_resnet50_conv4_block3_3_conv_Conv2D = nn.Conv2d(**{'groups': 1, 'dilation': [1, 1], 'out_channels': 1024, 'padding': 0, 'kernel_size': (1, 1), 'stride': [1, 1], 'in_channels': 256, 'bias': True})\n",
      "    self.n_StatefulPartitionedCall_resnet50_conv4_block3_3_conv_Conv2D.weight.data = self._vars[\"StatefulPartitionedCall_resnet50_conv4_block3_3_conv_Conv2D_weights_fused_bn\"]\n",
      "    self.n_StatefulPartitionedCall_resnet50_conv4_block3_3_conv_Conv2D.bias.data = self._vars[\"StatefulPartitionedCall_resnet50_conv4_block3_3_conv_Conv2D_bias_fused_bn\"]\n",
      "    self.n_StatefulPartitionedCall_resnet50_conv4_block4_1_conv_Conv2D = nn.Conv2d(**{'groups': 1, 'dilation': [1, 1], 'out_channels': 256, 'padding': 0, 'kernel_size': (1, 1), 'stride': [1, 1], 'in_channels': 1024, 'bias': True})\n",
      "    self.n_StatefulPartitionedCall_resnet50_conv4_block4_1_conv_Conv2D.weight.data = self._vars[\"StatefulPartitionedCall_resnet50_conv4_block4_1_conv_Conv2D_weights_fused_bn\"]\n",
      "    self.n_StatefulPartitionedCall_resnet50_conv4_block4_1_conv_Conv2D.bias.data = self._vars[\"StatefulPartitionedCall_resnet50_conv4_block4_1_conv_Conv2D_bias_fused_bn\"]\n",
      "    self.n_StatefulPartitionedCall_resnet50_conv4_block4_2_conv_Conv2D = nn.Conv2d(**{'groups': 1, 'dilation': [1, 1], 'out_channels': 256, 'padding': [1, 1], 'kernel_size': (3, 3), 'stride': [1, 1], 'in_channels': 256, 'bias': True})\n",
      "    self.n_StatefulPartitionedCall_resnet50_conv4_block4_2_conv_Conv2D.weight.data = self._vars[\"StatefulPartitionedCall_resnet50_conv4_block4_2_conv_Conv2D_weights_fused_bn\"]\n",
      "    self.n_StatefulPartitionedCall_resnet50_conv4_block4_2_conv_Conv2D.bias.data = self._vars[\"StatefulPartitionedCall_resnet50_conv4_block4_2_conv_Conv2D_bias_fused_bn\"]\n",
      "    self.n_StatefulPartitionedCall_resnet50_conv4_block4_3_conv_Conv2D = nn.Conv2d(**{'groups': 1, 'dilation': [1, 1], 'out_channels': 1024, 'padding': 0, 'kernel_size': (1, 1), 'stride': [1, 1], 'in_channels': 256, 'bias': True})\n",
      "    self.n_StatefulPartitionedCall_resnet50_conv4_block4_3_conv_Conv2D.weight.data = self._vars[\"StatefulPartitionedCall_resnet50_conv4_block4_3_conv_Conv2D_weights_fused_bn\"]\n",
      "    self.n_StatefulPartitionedCall_resnet50_conv4_block4_3_conv_Conv2D.bias.data = self._vars[\"StatefulPartitionedCall_resnet50_conv4_block4_3_conv_Conv2D_bias_fused_bn\"]\n",
      "    self.n_StatefulPartitionedCall_resnet50_conv4_block5_1_conv_Conv2D = nn.Conv2d(**{'groups': 1, 'dilation': [1, 1], 'out_channels': 256, 'padding': 0, 'kernel_size': (1, 1), 'stride': [1, 1], 'in_channels': 1024, 'bias': True})\n",
      "    self.n_StatefulPartitionedCall_resnet50_conv4_block5_1_conv_Conv2D.weight.data = self._vars[\"StatefulPartitionedCall_resnet50_conv4_block5_1_conv_Conv2D_weights_fused_bn\"]\n",
      "    self.n_StatefulPartitionedCall_resnet50_conv4_block5_1_conv_Conv2D.bias.data = self._vars[\"StatefulPartitionedCall_resnet50_conv4_block5_1_conv_Conv2D_bias_fused_bn\"]\n",
      "    self.n_StatefulPartitionedCall_resnet50_conv4_block5_2_conv_Conv2D = nn.Conv2d(**{'groups': 1, 'dilation': [1, 1], 'out_channels': 256, 'padding': [1, 1], 'kernel_size': (3, 3), 'stride': [1, 1], 'in_channels': 256, 'bias': True})\n",
      "    self.n_StatefulPartitionedCall_resnet50_conv4_block5_2_conv_Conv2D.weight.data = self._vars[\"StatefulPartitionedCall_resnet50_conv4_block5_2_conv_Conv2D_weights_fused_bn\"]\n",
      "    self.n_StatefulPartitionedCall_resnet50_conv4_block5_2_conv_Conv2D.bias.data = self._vars[\"StatefulPartitionedCall_resnet50_conv4_block5_2_conv_Conv2D_bias_fused_bn\"]\n",
      "    self.n_StatefulPartitionedCall_resnet50_conv4_block5_3_conv_Conv2D = nn.Conv2d(**{'groups': 1, 'dilation': [1, 1], 'out_channels': 1024, 'padding': 0, 'kernel_size': (1, 1), 'stride': [1, 1], 'in_channels': 256, 'bias': True})\n",
      "    self.n_StatefulPartitionedCall_resnet50_conv4_block5_3_conv_Conv2D.weight.data = self._vars[\"StatefulPartitionedCall_resnet50_conv4_block5_3_conv_Conv2D_weights_fused_bn\"]\n",
      "    self.n_StatefulPartitionedCall_resnet50_conv4_block5_3_conv_Conv2D.bias.data = self._vars[\"StatefulPartitionedCall_resnet50_conv4_block5_3_conv_Conv2D_bias_fused_bn\"]\n",
      "    self.n_StatefulPartitionedCall_resnet50_conv4_block6_1_conv_Conv2D = nn.Conv2d(**{'groups': 1, 'dilation': [1, 1], 'out_channels': 256, 'padding': 0, 'kernel_size': (1, 1), 'stride': [1, 1], 'in_channels': 1024, 'bias': True})\n",
      "    self.n_StatefulPartitionedCall_resnet50_conv4_block6_1_conv_Conv2D.weight.data = self._vars[\"StatefulPartitionedCall_resnet50_conv4_block6_1_conv_Conv2D_weights_fused_bn\"]\n",
      "    self.n_StatefulPartitionedCall_resnet50_conv4_block6_1_conv_Conv2D.bias.data = self._vars[\"StatefulPartitionedCall_resnet50_conv4_block6_1_conv_Conv2D_bias_fused_bn\"]\n",
      "    self.n_StatefulPartitionedCall_resnet50_conv4_block6_2_conv_Conv2D = nn.Conv2d(**{'groups': 1, 'dilation': [1, 1], 'out_channels': 256, 'padding': [1, 1], 'kernel_size': (3, 3), 'stride': [1, 1], 'in_channels': 256, 'bias': True})\n",
      "    self.n_StatefulPartitionedCall_resnet50_conv4_block6_2_conv_Conv2D.weight.data = self._vars[\"StatefulPartitionedCall_resnet50_conv4_block6_2_conv_Conv2D_weights_fused_bn\"]\n",
      "    self.n_StatefulPartitionedCall_resnet50_conv4_block6_2_conv_Conv2D.bias.data = self._vars[\"StatefulPartitionedCall_resnet50_conv4_block6_2_conv_Conv2D_bias_fused_bn\"]\n",
      "    self.n_StatefulPartitionedCall_resnet50_conv4_block6_3_conv_Conv2D = nn.Conv2d(**{'groups': 1, 'dilation': [1, 1], 'out_channels': 1024, 'padding': 0, 'kernel_size': (1, 1), 'stride': [1, 1], 'in_channels': 256, 'bias': True})\n",
      "    self.n_StatefulPartitionedCall_resnet50_conv4_block6_3_conv_Conv2D.weight.data = self._vars[\"StatefulPartitionedCall_resnet50_conv4_block6_3_conv_Conv2D_weights_fused_bn\"]\n",
      "    self.n_StatefulPartitionedCall_resnet50_conv4_block6_3_conv_Conv2D.bias.data = self._vars[\"StatefulPartitionedCall_resnet50_conv4_block6_3_conv_Conv2D_bias_fused_bn\"]\n",
      "    self.n_StatefulPartitionedCall_resnet50_conv5_block1_1_conv_Conv2D = nn.Conv2d(**{'groups': 1, 'dilation': [1, 1], 'out_channels': 512, 'padding': 0, 'kernel_size': (1, 1), 'stride': [2, 2], 'in_channels': 1024, 'bias': True})\n",
      "    self.n_StatefulPartitionedCall_resnet50_conv5_block1_1_conv_Conv2D.weight.data = self._vars[\"StatefulPartitionedCall_resnet50_conv5_block1_1_conv_Conv2D_weights_fused_bn\"]\n",
      "    self.n_StatefulPartitionedCall_resnet50_conv5_block1_1_conv_Conv2D.bias.data = self._vars[\"StatefulPartitionedCall_resnet50_conv5_block1_1_conv_Conv2D_bias_fused_bn\"]\n",
      "    self.n_StatefulPartitionedCall_resnet50_conv5_block1_2_conv_Conv2D = nn.Conv2d(**{'groups': 1, 'dilation': [1, 1], 'out_channels': 512, 'padding': [1, 1], 'kernel_size': (3, 3), 'stride': [1, 1], 'in_channels': 512, 'bias': True})\n",
      "    self.n_StatefulPartitionedCall_resnet50_conv5_block1_2_conv_Conv2D.weight.data = self._vars[\"StatefulPartitionedCall_resnet50_conv5_block1_2_conv_Conv2D_weights_fused_bn\"]\n",
      "    self.n_StatefulPartitionedCall_resnet50_conv5_block1_2_conv_Conv2D.bias.data = self._vars[\"StatefulPartitionedCall_resnet50_conv5_block1_2_conv_Conv2D_bias_fused_bn\"]\n",
      "    self.n_StatefulPartitionedCall_resnet50_conv5_block1_3_conv_Conv2D = nn.Conv2d(**{'groups': 1, 'dilation': [1, 1], 'out_channels': 2048, 'padding': 0, 'kernel_size': (1, 1), 'stride': [1, 1], 'in_channels': 512, 'bias': True})\n",
      "    self.n_StatefulPartitionedCall_resnet50_conv5_block1_3_conv_Conv2D.weight.data = self._vars[\"StatefulPartitionedCall_resnet50_conv5_block1_3_conv_Conv2D_weights_fused_bn\"]\n",
      "    self.n_StatefulPartitionedCall_resnet50_conv5_block1_3_conv_Conv2D.bias.data = self._vars[\"StatefulPartitionedCall_resnet50_conv5_block1_3_conv_Conv2D_bias_fused_bn\"]\n",
      "    self.n_StatefulPartitionedCall_resnet50_conv5_block1_0_conv_Conv2D = nn.Conv2d(**{'groups': 1, 'dilation': [1, 1], 'out_channels': 2048, 'padding': 0, 'kernel_size': (1, 1), 'stride': [2, 2], 'in_channels': 1024, 'bias': True})\n",
      "    self.n_StatefulPartitionedCall_resnet50_conv5_block1_0_conv_Conv2D.weight.data = self._vars[\"StatefulPartitionedCall_resnet50_conv5_block1_0_conv_Conv2D_weights_fused_bn\"]\n",
      "    self.n_StatefulPartitionedCall_resnet50_conv5_block1_0_conv_Conv2D.bias.data = self._vars[\"StatefulPartitionedCall_resnet50_conv5_block1_0_conv_Conv2D_bias_fused_bn\"]\n",
      "    self.n_StatefulPartitionedCall_resnet50_conv5_block2_1_conv_Conv2D = nn.Conv2d(**{'groups': 1, 'dilation': [1, 1], 'out_channels': 512, 'padding': 0, 'kernel_size': (1, 1), 'stride': [1, 1], 'in_channels': 2048, 'bias': True})\n",
      "    self.n_StatefulPartitionedCall_resnet50_conv5_block2_1_conv_Conv2D.weight.data = self._vars[\"StatefulPartitionedCall_resnet50_conv5_block2_1_conv_Conv2D_weights_fused_bn\"]\n",
      "    self.n_StatefulPartitionedCall_resnet50_conv5_block2_1_conv_Conv2D.bias.data = self._vars[\"StatefulPartitionedCall_resnet50_conv5_block2_1_conv_Conv2D_bias_fused_bn\"]\n",
      "    self.n_StatefulPartitionedCall_resnet50_conv5_block2_2_conv_Conv2D = nn.Conv2d(**{'groups': 1, 'dilation': [1, 1], 'out_channels': 512, 'padding': [1, 1], 'kernel_size': (3, 3), 'stride': [1, 1], 'in_channels': 512, 'bias': True})\n",
      "    self.n_StatefulPartitionedCall_resnet50_conv5_block2_2_conv_Conv2D.weight.data = self._vars[\"StatefulPartitionedCall_resnet50_conv5_block2_2_conv_Conv2D_weights_fused_bn\"]\n",
      "    self.n_StatefulPartitionedCall_resnet50_conv5_block2_2_conv_Conv2D.bias.data = self._vars[\"StatefulPartitionedCall_resnet50_conv5_block2_2_conv_Conv2D_bias_fused_bn\"]\n",
      "    self.n_StatefulPartitionedCall_resnet50_conv5_block2_3_conv_Conv2D = nn.Conv2d(**{'groups': 1, 'dilation': [1, 1], 'out_channels': 2048, 'padding': 0, 'kernel_size': (1, 1), 'stride': [1, 1], 'in_channels': 512, 'bias': True})\n",
      "    self.n_StatefulPartitionedCall_resnet50_conv5_block2_3_conv_Conv2D.weight.data = self._vars[\"StatefulPartitionedCall_resnet50_conv5_block2_3_conv_Conv2D_weights_fused_bn\"]\n",
      "    self.n_StatefulPartitionedCall_resnet50_conv5_block2_3_conv_Conv2D.bias.data = self._vars[\"StatefulPartitionedCall_resnet50_conv5_block2_3_conv_Conv2D_bias_fused_bn\"]\n",
      "    self.n_StatefulPartitionedCall_resnet50_conv5_block3_1_conv_Conv2D = nn.Conv2d(**{'groups': 1, 'dilation': [1, 1], 'out_channels': 512, 'padding': 0, 'kernel_size': (1, 1), 'stride': [1, 1], 'in_channels': 2048, 'bias': True})\n",
      "    self.n_StatefulPartitionedCall_resnet50_conv5_block3_1_conv_Conv2D.weight.data = self._vars[\"StatefulPartitionedCall_resnet50_conv5_block3_1_conv_Conv2D_weights_fused_bn\"]\n",
      "    self.n_StatefulPartitionedCall_resnet50_conv5_block3_1_conv_Conv2D.bias.data = self._vars[\"StatefulPartitionedCall_resnet50_conv5_block3_1_conv_Conv2D_bias_fused_bn\"]\n",
      "    self.n_StatefulPartitionedCall_resnet50_conv5_block3_2_conv_Conv2D = nn.Conv2d(**{'groups': 1, 'dilation': [1, 1], 'out_channels': 512, 'padding': [1, 1], 'kernel_size': (3, 3), 'stride': [1, 1], 'in_channels': 512, 'bias': True})\n",
      "    self.n_StatefulPartitionedCall_resnet50_conv5_block3_2_conv_Conv2D.weight.data = self._vars[\"StatefulPartitionedCall_resnet50_conv5_block3_2_conv_Conv2D_weights_fused_bn\"]\n",
      "    self.n_StatefulPartitionedCall_resnet50_conv5_block3_2_conv_Conv2D.bias.data = self._vars[\"StatefulPartitionedCall_resnet50_conv5_block3_2_conv_Conv2D_bias_fused_bn\"]\n",
      "    self.n_StatefulPartitionedCall_resnet50_conv5_block3_3_conv_Conv2D = nn.Conv2d(**{'groups': 1, 'dilation': [1, 1], 'out_channels': 2048, 'padding': 0, 'kernel_size': (1, 1), 'stride': [1, 1], 'in_channels': 512, 'bias': True})\n",
      "    self.n_StatefulPartitionedCall_resnet50_conv5_block3_3_conv_Conv2D.weight.data = self._vars[\"StatefulPartitionedCall_resnet50_conv5_block3_3_conv_Conv2D_weights_fused_bn\"]\n",
      "    self.n_StatefulPartitionedCall_resnet50_conv5_block3_3_conv_Conv2D.bias.data = self._vars[\"StatefulPartitionedCall_resnet50_conv5_block3_3_conv_Conv2D_bias_fused_bn\"]\n",
      "\n",
      "  def forward(self, *inputs):\n",
      "    input_1, = inputs\n",
      "    StatefulPartitionedCall_resnet50_conv1_conv_Conv2D__6_0 = input_1.permute(*[0, 3, 1, 2])\n",
      "    StatefulPartitionedCall_resnet50_conv1_bn_FusedBatchNormV3_0 = self.n_Conv__434(StatefulPartitionedCall_resnet50_conv1_conv_Conv2D__6_0)\n",
      "    StatefulPartitionedCall_resnet50_conv1_relu_Relu_0 = F.relu(StatefulPartitionedCall_resnet50_conv1_bn_FusedBatchNormV3_0)\n",
      "    StatefulPartitionedCall_resnet50_pool1_pad_Pad_0 = F.pad(StatefulPartitionedCall_resnet50_conv1_relu_Relu_0, [1, 1, 1, 1], \"constant\", 0.0)\n",
      "    StatefulPartitionedCall_resnet50_pool1_pool_MaxPool_0 = self.n_StatefulPartitionedCall_resnet50_pool1_pool_MaxPool(StatefulPartitionedCall_resnet50_pool1_pad_Pad_0)\n",
      "    StatefulPartitionedCall_resnet50_conv2_block1_1_bn_FusedBatchNormV3_0 = self.n_StatefulPartitionedCall_resnet50_conv2_block1_1_conv_Conv2D(StatefulPartitionedCall_resnet50_pool1_pool_MaxPool_0)\n",
      "    StatefulPartitionedCall_resnet50_conv2_block1_1_relu_Relu_0 = F.relu(StatefulPartitionedCall_resnet50_conv2_block1_1_bn_FusedBatchNormV3_0)\n",
      "    StatefulPartitionedCall_resnet50_conv2_block1_2_bn_FusedBatchNormV3_0 = self.n_StatefulPartitionedCall_resnet50_conv2_block1_2_conv_Conv2D(StatefulPartitionedCall_resnet50_conv2_block1_1_relu_Relu_0)\n",
      "    StatefulPartitionedCall_resnet50_conv2_block1_2_relu_Relu_0 = F.relu(StatefulPartitionedCall_resnet50_conv2_block1_2_bn_FusedBatchNormV3_0)\n",
      "    StatefulPartitionedCall_resnet50_conv2_block1_3_bn_FusedBatchNormV3_0 = self.n_StatefulPartitionedCall_resnet50_conv2_block1_3_conv_Conv2D(StatefulPartitionedCall_resnet50_conv2_block1_2_relu_Relu_0)\n",
      "    StatefulPartitionedCall_resnet50_conv2_block1_0_bn_FusedBatchNormV3_0 = self.n_StatefulPartitionedCall_resnet50_conv2_block1_0_conv_Conv2D(StatefulPartitionedCall_resnet50_pool1_pool_MaxPool_0)\n",
      "    StatefulPartitionedCall_resnet50_conv2_block1_add_add_0 = torch.add(StatefulPartitionedCall_resnet50_conv2_block1_0_bn_FusedBatchNormV3_0, StatefulPartitionedCall_resnet50_conv2_block1_3_bn_FusedBatchNormV3_0)\n",
      "    StatefulPartitionedCall_resnet50_conv2_block1_out_Relu_0 = F.relu(StatefulPartitionedCall_resnet50_conv2_block1_add_add_0)\n",
      "    StatefulPartitionedCall_resnet50_conv2_block2_1_bn_FusedBatchNormV3_0 = self.n_StatefulPartitionedCall_resnet50_conv2_block2_1_conv_Conv2D(StatefulPartitionedCall_resnet50_conv2_block1_out_Relu_0)\n",
      "    StatefulPartitionedCall_resnet50_conv2_block2_1_relu_Relu_0 = F.relu(StatefulPartitionedCall_resnet50_conv2_block2_1_bn_FusedBatchNormV3_0)\n",
      "    StatefulPartitionedCall_resnet50_conv2_block2_2_bn_FusedBatchNormV3_0 = self.n_StatefulPartitionedCall_resnet50_conv2_block2_2_conv_Conv2D(StatefulPartitionedCall_resnet50_conv2_block2_1_relu_Relu_0)\n",
      "    StatefulPartitionedCall_resnet50_conv2_block2_2_relu_Relu_0 = F.relu(StatefulPartitionedCall_resnet50_conv2_block2_2_bn_FusedBatchNormV3_0)\n",
      "    StatefulPartitionedCall_resnet50_conv2_block2_3_bn_FusedBatchNormV3_0 = self.n_StatefulPartitionedCall_resnet50_conv2_block2_3_conv_Conv2D(StatefulPartitionedCall_resnet50_conv2_block2_2_relu_Relu_0)\n",
      "    StatefulPartitionedCall_resnet50_conv2_block2_add_add_0 = torch.add(StatefulPartitionedCall_resnet50_conv2_block1_out_Relu_0, StatefulPartitionedCall_resnet50_conv2_block2_3_bn_FusedBatchNormV3_0)\n",
      "    StatefulPartitionedCall_resnet50_conv2_block2_out_Relu_0 = F.relu(StatefulPartitionedCall_resnet50_conv2_block2_add_add_0)\n",
      "    StatefulPartitionedCall_resnet50_conv2_block3_1_bn_FusedBatchNormV3_0 = self.n_StatefulPartitionedCall_resnet50_conv2_block3_1_conv_Conv2D(StatefulPartitionedCall_resnet50_conv2_block2_out_Relu_0)\n",
      "    StatefulPartitionedCall_resnet50_conv2_block3_1_relu_Relu_0 = F.relu(StatefulPartitionedCall_resnet50_conv2_block3_1_bn_FusedBatchNormV3_0)\n",
      "    StatefulPartitionedCall_resnet50_conv2_block3_2_bn_FusedBatchNormV3_0 = self.n_StatefulPartitionedCall_resnet50_conv2_block3_2_conv_Conv2D(StatefulPartitionedCall_resnet50_conv2_block3_1_relu_Relu_0)\n",
      "    StatefulPartitionedCall_resnet50_conv2_block3_2_relu_Relu_0 = F.relu(StatefulPartitionedCall_resnet50_conv2_block3_2_bn_FusedBatchNormV3_0)\n",
      "    StatefulPartitionedCall_resnet50_conv2_block3_3_bn_FusedBatchNormV3_0 = self.n_StatefulPartitionedCall_resnet50_conv2_block3_3_conv_Conv2D(StatefulPartitionedCall_resnet50_conv2_block3_2_relu_Relu_0)\n",
      "    StatefulPartitionedCall_resnet50_conv2_block3_add_add_0 = torch.add(StatefulPartitionedCall_resnet50_conv2_block2_out_Relu_0, StatefulPartitionedCall_resnet50_conv2_block3_3_bn_FusedBatchNormV3_0)\n",
      "    StatefulPartitionedCall_resnet50_conv2_block3_out_Relu_0 = F.relu(StatefulPartitionedCall_resnet50_conv2_block3_add_add_0)\n",
      "    StatefulPartitionedCall_resnet50_conv3_block1_1_bn_FusedBatchNormV3_0 = self.n_StatefulPartitionedCall_resnet50_conv3_block1_1_conv_Conv2D(StatefulPartitionedCall_resnet50_conv2_block3_out_Relu_0)\n",
      "    StatefulPartitionedCall_resnet50_conv3_block1_1_relu_Relu_0 = F.relu(StatefulPartitionedCall_resnet50_conv3_block1_1_bn_FusedBatchNormV3_0)\n",
      "    StatefulPartitionedCall_resnet50_conv3_block1_2_bn_FusedBatchNormV3_0 = self.n_StatefulPartitionedCall_resnet50_conv3_block1_2_conv_Conv2D(StatefulPartitionedCall_resnet50_conv3_block1_1_relu_Relu_0)\n",
      "    StatefulPartitionedCall_resnet50_conv3_block1_2_relu_Relu_0 = F.relu(StatefulPartitionedCall_resnet50_conv3_block1_2_bn_FusedBatchNormV3_0)\n",
      "    StatefulPartitionedCall_resnet50_conv3_block1_3_bn_FusedBatchNormV3_0 = self.n_StatefulPartitionedCall_resnet50_conv3_block1_3_conv_Conv2D(StatefulPartitionedCall_resnet50_conv3_block1_2_relu_Relu_0)\n",
      "    StatefulPartitionedCall_resnet50_conv3_block1_0_bn_FusedBatchNormV3_0 = self.n_StatefulPartitionedCall_resnet50_conv3_block1_0_conv_Conv2D(StatefulPartitionedCall_resnet50_conv2_block3_out_Relu_0)\n",
      "    StatefulPartitionedCall_resnet50_conv3_block1_add_add_0 = torch.add(StatefulPartitionedCall_resnet50_conv3_block1_0_bn_FusedBatchNormV3_0, StatefulPartitionedCall_resnet50_conv3_block1_3_bn_FusedBatchNormV3_0)\n",
      "    StatefulPartitionedCall_resnet50_conv3_block1_out_Relu_0 = F.relu(StatefulPartitionedCall_resnet50_conv3_block1_add_add_0)\n",
      "    StatefulPartitionedCall_resnet50_conv3_block2_1_bn_FusedBatchNormV3_0 = self.n_StatefulPartitionedCall_resnet50_conv3_block2_1_conv_Conv2D(StatefulPartitionedCall_resnet50_conv3_block1_out_Relu_0)\n",
      "    StatefulPartitionedCall_resnet50_conv3_block2_1_relu_Relu_0 = F.relu(StatefulPartitionedCall_resnet50_conv3_block2_1_bn_FusedBatchNormV3_0)\n",
      "    StatefulPartitionedCall_resnet50_conv3_block2_2_bn_FusedBatchNormV3_0 = self.n_StatefulPartitionedCall_resnet50_conv3_block2_2_conv_Conv2D(StatefulPartitionedCall_resnet50_conv3_block2_1_relu_Relu_0)\n",
      "    StatefulPartitionedCall_resnet50_conv3_block2_2_relu_Relu_0 = F.relu(StatefulPartitionedCall_resnet50_conv3_block2_2_bn_FusedBatchNormV3_0)\n",
      "    StatefulPartitionedCall_resnet50_conv3_block2_3_bn_FusedBatchNormV3_0 = self.n_StatefulPartitionedCall_resnet50_conv3_block2_3_conv_Conv2D(StatefulPartitionedCall_resnet50_conv3_block2_2_relu_Relu_0)\n",
      "    StatefulPartitionedCall_resnet50_conv3_block2_add_add_0 = torch.add(StatefulPartitionedCall_resnet50_conv3_block1_out_Relu_0, StatefulPartitionedCall_resnet50_conv3_block2_3_bn_FusedBatchNormV3_0)\n",
      "    StatefulPartitionedCall_resnet50_conv3_block2_out_Relu_0 = F.relu(StatefulPartitionedCall_resnet50_conv3_block2_add_add_0)\n",
      "    StatefulPartitionedCall_resnet50_conv3_block3_1_bn_FusedBatchNormV3_0 = self.n_StatefulPartitionedCall_resnet50_conv3_block3_1_conv_Conv2D(StatefulPartitionedCall_resnet50_conv3_block2_out_Relu_0)\n",
      "    StatefulPartitionedCall_resnet50_conv3_block3_1_relu_Relu_0 = F.relu(StatefulPartitionedCall_resnet50_conv3_block3_1_bn_FusedBatchNormV3_0)\n",
      "    StatefulPartitionedCall_resnet50_conv3_block3_2_bn_FusedBatchNormV3_0 = self.n_StatefulPartitionedCall_resnet50_conv3_block3_2_conv_Conv2D(StatefulPartitionedCall_resnet50_conv3_block3_1_relu_Relu_0)\n",
      "    StatefulPartitionedCall_resnet50_conv3_block3_2_relu_Relu_0 = F.relu(StatefulPartitionedCall_resnet50_conv3_block3_2_bn_FusedBatchNormV3_0)\n",
      "    StatefulPartitionedCall_resnet50_conv3_block3_3_bn_FusedBatchNormV3_0 = self.n_StatefulPartitionedCall_resnet50_conv3_block3_3_conv_Conv2D(StatefulPartitionedCall_resnet50_conv3_block3_2_relu_Relu_0)\n",
      "    StatefulPartitionedCall_resnet50_conv3_block3_add_add_0 = torch.add(StatefulPartitionedCall_resnet50_conv3_block2_out_Relu_0, StatefulPartitionedCall_resnet50_conv3_block3_3_bn_FusedBatchNormV3_0)\n",
      "    StatefulPartitionedCall_resnet50_conv3_block3_out_Relu_0 = F.relu(StatefulPartitionedCall_resnet50_conv3_block3_add_add_0)\n",
      "    StatefulPartitionedCall_resnet50_conv3_block4_1_bn_FusedBatchNormV3_0 = self.n_StatefulPartitionedCall_resnet50_conv3_block4_1_conv_Conv2D(StatefulPartitionedCall_resnet50_conv3_block3_out_Relu_0)\n",
      "    StatefulPartitionedCall_resnet50_conv3_block4_1_relu_Relu_0 = F.relu(StatefulPartitionedCall_resnet50_conv3_block4_1_bn_FusedBatchNormV3_0)\n",
      "    StatefulPartitionedCall_resnet50_conv3_block4_2_bn_FusedBatchNormV3_0 = self.n_StatefulPartitionedCall_resnet50_conv3_block4_2_conv_Conv2D(StatefulPartitionedCall_resnet50_conv3_block4_1_relu_Relu_0)\n",
      "    StatefulPartitionedCall_resnet50_conv3_block4_2_relu_Relu_0 = F.relu(StatefulPartitionedCall_resnet50_conv3_block4_2_bn_FusedBatchNormV3_0)\n",
      "    StatefulPartitionedCall_resnet50_conv3_block4_3_bn_FusedBatchNormV3_0 = self.n_StatefulPartitionedCall_resnet50_conv3_block4_3_conv_Conv2D(StatefulPartitionedCall_resnet50_conv3_block4_2_relu_Relu_0)\n",
      "    StatefulPartitionedCall_resnet50_conv3_block4_add_add_0 = torch.add(StatefulPartitionedCall_resnet50_conv3_block3_out_Relu_0, StatefulPartitionedCall_resnet50_conv3_block4_3_bn_FusedBatchNormV3_0)\n",
      "    StatefulPartitionedCall_resnet50_conv3_block4_out_Relu_0 = F.relu(StatefulPartitionedCall_resnet50_conv3_block4_add_add_0)\n",
      "    StatefulPartitionedCall_resnet50_conv4_block1_1_bn_FusedBatchNormV3_0 = self.n_StatefulPartitionedCall_resnet50_conv4_block1_1_conv_Conv2D(StatefulPartitionedCall_resnet50_conv3_block4_out_Relu_0)\n",
      "    StatefulPartitionedCall_resnet50_conv4_block1_1_relu_Relu_0 = F.relu(StatefulPartitionedCall_resnet50_conv4_block1_1_bn_FusedBatchNormV3_0)\n",
      "    StatefulPartitionedCall_resnet50_conv4_block1_2_bn_FusedBatchNormV3_0 = self.n_StatefulPartitionedCall_resnet50_conv4_block1_2_conv_Conv2D(StatefulPartitionedCall_resnet50_conv4_block1_1_relu_Relu_0)\n",
      "    StatefulPartitionedCall_resnet50_conv4_block1_2_relu_Relu_0 = F.relu(StatefulPartitionedCall_resnet50_conv4_block1_2_bn_FusedBatchNormV3_0)\n",
      "    StatefulPartitionedCall_resnet50_conv4_block1_3_bn_FusedBatchNormV3_0 = self.n_StatefulPartitionedCall_resnet50_conv4_block1_3_conv_Conv2D(StatefulPartitionedCall_resnet50_conv4_block1_2_relu_Relu_0)\n",
      "    StatefulPartitionedCall_resnet50_conv4_block1_0_bn_FusedBatchNormV3_0 = self.n_StatefulPartitionedCall_resnet50_conv4_block1_0_conv_Conv2D(StatefulPartitionedCall_resnet50_conv3_block4_out_Relu_0)\n",
      "    StatefulPartitionedCall_resnet50_conv4_block1_add_add_0 = torch.add(StatefulPartitionedCall_resnet50_conv4_block1_0_bn_FusedBatchNormV3_0, StatefulPartitionedCall_resnet50_conv4_block1_3_bn_FusedBatchNormV3_0)\n",
      "    StatefulPartitionedCall_resnet50_conv4_block1_out_Relu_0 = F.relu(StatefulPartitionedCall_resnet50_conv4_block1_add_add_0)\n",
      "    StatefulPartitionedCall_resnet50_conv4_block2_1_bn_FusedBatchNormV3_0 = self.n_StatefulPartitionedCall_resnet50_conv4_block2_1_conv_Conv2D(StatefulPartitionedCall_resnet50_conv4_block1_out_Relu_0)\n",
      "    StatefulPartitionedCall_resnet50_conv4_block2_1_relu_Relu_0 = F.relu(StatefulPartitionedCall_resnet50_conv4_block2_1_bn_FusedBatchNormV3_0)\n",
      "    StatefulPartitionedCall_resnet50_conv4_block2_2_bn_FusedBatchNormV3_0 = self.n_StatefulPartitionedCall_resnet50_conv4_block2_2_conv_Conv2D(StatefulPartitionedCall_resnet50_conv4_block2_1_relu_Relu_0)\n",
      "    StatefulPartitionedCall_resnet50_conv4_block2_2_relu_Relu_0 = F.relu(StatefulPartitionedCall_resnet50_conv4_block2_2_bn_FusedBatchNormV3_0)\n",
      "    StatefulPartitionedCall_resnet50_conv4_block2_3_bn_FusedBatchNormV3_0 = self.n_StatefulPartitionedCall_resnet50_conv4_block2_3_conv_Conv2D(StatefulPartitionedCall_resnet50_conv4_block2_2_relu_Relu_0)\n",
      "    StatefulPartitionedCall_resnet50_conv4_block2_add_add_0 = torch.add(StatefulPartitionedCall_resnet50_conv4_block1_out_Relu_0, StatefulPartitionedCall_resnet50_conv4_block2_3_bn_FusedBatchNormV3_0)\n",
      "    StatefulPartitionedCall_resnet50_conv4_block2_out_Relu_0 = F.relu(StatefulPartitionedCall_resnet50_conv4_block2_add_add_0)\n",
      "    StatefulPartitionedCall_resnet50_conv4_block3_1_bn_FusedBatchNormV3_0 = self.n_StatefulPartitionedCall_resnet50_conv4_block3_1_conv_Conv2D(StatefulPartitionedCall_resnet50_conv4_block2_out_Relu_0)\n",
      "    StatefulPartitionedCall_resnet50_conv4_block3_1_relu_Relu_0 = F.relu(StatefulPartitionedCall_resnet50_conv4_block3_1_bn_FusedBatchNormV3_0)\n",
      "    StatefulPartitionedCall_resnet50_conv4_block3_2_bn_FusedBatchNormV3_0 = self.n_StatefulPartitionedCall_resnet50_conv4_block3_2_conv_Conv2D(StatefulPartitionedCall_resnet50_conv4_block3_1_relu_Relu_0)\n",
      "    StatefulPartitionedCall_resnet50_conv4_block3_2_relu_Relu_0 = F.relu(StatefulPartitionedCall_resnet50_conv4_block3_2_bn_FusedBatchNormV3_0)\n",
      "    StatefulPartitionedCall_resnet50_conv4_block3_3_bn_FusedBatchNormV3_0 = self.n_StatefulPartitionedCall_resnet50_conv4_block3_3_conv_Conv2D(StatefulPartitionedCall_resnet50_conv4_block3_2_relu_Relu_0)\n",
      "    StatefulPartitionedCall_resnet50_conv4_block3_add_add_0 = torch.add(StatefulPartitionedCall_resnet50_conv4_block2_out_Relu_0, StatefulPartitionedCall_resnet50_conv4_block3_3_bn_FusedBatchNormV3_0)\n",
      "    StatefulPartitionedCall_resnet50_conv4_block3_out_Relu_0 = F.relu(StatefulPartitionedCall_resnet50_conv4_block3_add_add_0)\n",
      "    StatefulPartitionedCall_resnet50_conv4_block4_1_bn_FusedBatchNormV3_0 = self.n_StatefulPartitionedCall_resnet50_conv4_block4_1_conv_Conv2D(StatefulPartitionedCall_resnet50_conv4_block3_out_Relu_0)\n",
      "    StatefulPartitionedCall_resnet50_conv4_block4_1_relu_Relu_0 = F.relu(StatefulPartitionedCall_resnet50_conv4_block4_1_bn_FusedBatchNormV3_0)\n",
      "    StatefulPartitionedCall_resnet50_conv4_block4_2_bn_FusedBatchNormV3_0 = self.n_StatefulPartitionedCall_resnet50_conv4_block4_2_conv_Conv2D(StatefulPartitionedCall_resnet50_conv4_block4_1_relu_Relu_0)\n",
      "    StatefulPartitionedCall_resnet50_conv4_block4_2_relu_Relu_0 = F.relu(StatefulPartitionedCall_resnet50_conv4_block4_2_bn_FusedBatchNormV3_0)\n",
      "    StatefulPartitionedCall_resnet50_conv4_block4_3_bn_FusedBatchNormV3_0 = self.n_StatefulPartitionedCall_resnet50_conv4_block4_3_conv_Conv2D(StatefulPartitionedCall_resnet50_conv4_block4_2_relu_Relu_0)\n",
      "    StatefulPartitionedCall_resnet50_conv4_block4_add_add_0 = torch.add(StatefulPartitionedCall_resnet50_conv4_block3_out_Relu_0, StatefulPartitionedCall_resnet50_conv4_block4_3_bn_FusedBatchNormV3_0)\n",
      "    StatefulPartitionedCall_resnet50_conv4_block4_out_Relu_0 = F.relu(StatefulPartitionedCall_resnet50_conv4_block4_add_add_0)\n",
      "    StatefulPartitionedCall_resnet50_conv4_block5_1_bn_FusedBatchNormV3_0 = self.n_StatefulPartitionedCall_resnet50_conv4_block5_1_conv_Conv2D(StatefulPartitionedCall_resnet50_conv4_block4_out_Relu_0)\n",
      "    StatefulPartitionedCall_resnet50_conv4_block5_1_relu_Relu_0 = F.relu(StatefulPartitionedCall_resnet50_conv4_block5_1_bn_FusedBatchNormV3_0)\n",
      "    StatefulPartitionedCall_resnet50_conv4_block5_2_bn_FusedBatchNormV3_0 = self.n_StatefulPartitionedCall_resnet50_conv4_block5_2_conv_Conv2D(StatefulPartitionedCall_resnet50_conv4_block5_1_relu_Relu_0)\n",
      "    StatefulPartitionedCall_resnet50_conv4_block5_2_relu_Relu_0 = F.relu(StatefulPartitionedCall_resnet50_conv4_block5_2_bn_FusedBatchNormV3_0)\n",
      "    StatefulPartitionedCall_resnet50_conv4_block5_3_bn_FusedBatchNormV3_0 = self.n_StatefulPartitionedCall_resnet50_conv4_block5_3_conv_Conv2D(StatefulPartitionedCall_resnet50_conv4_block5_2_relu_Relu_0)\n",
      "    StatefulPartitionedCall_resnet50_conv4_block5_add_add_0 = torch.add(StatefulPartitionedCall_resnet50_conv4_block4_out_Relu_0, StatefulPartitionedCall_resnet50_conv4_block5_3_bn_FusedBatchNormV3_0)\n",
      "    StatefulPartitionedCall_resnet50_conv4_block5_out_Relu_0 = F.relu(StatefulPartitionedCall_resnet50_conv4_block5_add_add_0)\n",
      "    StatefulPartitionedCall_resnet50_conv4_block6_1_bn_FusedBatchNormV3_0 = self.n_StatefulPartitionedCall_resnet50_conv4_block6_1_conv_Conv2D(StatefulPartitionedCall_resnet50_conv4_block5_out_Relu_0)\n",
      "    StatefulPartitionedCall_resnet50_conv4_block6_1_relu_Relu_0 = F.relu(StatefulPartitionedCall_resnet50_conv4_block6_1_bn_FusedBatchNormV3_0)\n",
      "    StatefulPartitionedCall_resnet50_conv4_block6_2_bn_FusedBatchNormV3_0 = self.n_StatefulPartitionedCall_resnet50_conv4_block6_2_conv_Conv2D(StatefulPartitionedCall_resnet50_conv4_block6_1_relu_Relu_0)\n",
      "    StatefulPartitionedCall_resnet50_conv4_block6_2_relu_Relu_0 = F.relu(StatefulPartitionedCall_resnet50_conv4_block6_2_bn_FusedBatchNormV3_0)\n",
      "    StatefulPartitionedCall_resnet50_conv4_block6_3_bn_FusedBatchNormV3_0 = self.n_StatefulPartitionedCall_resnet50_conv4_block6_3_conv_Conv2D(StatefulPartitionedCall_resnet50_conv4_block6_2_relu_Relu_0)\n",
      "    StatefulPartitionedCall_resnet50_conv4_block6_add_add_0 = torch.add(StatefulPartitionedCall_resnet50_conv4_block5_out_Relu_0, StatefulPartitionedCall_resnet50_conv4_block6_3_bn_FusedBatchNormV3_0)\n",
      "    StatefulPartitionedCall_resnet50_conv4_block6_out_Relu_0 = F.relu(StatefulPartitionedCall_resnet50_conv4_block6_add_add_0)\n",
      "    StatefulPartitionedCall_resnet50_conv5_block1_1_bn_FusedBatchNormV3_0 = self.n_StatefulPartitionedCall_resnet50_conv5_block1_1_conv_Conv2D(StatefulPartitionedCall_resnet50_conv4_block6_out_Relu_0)\n",
      "    StatefulPartitionedCall_resnet50_conv5_block1_1_relu_Relu_0 = F.relu(StatefulPartitionedCall_resnet50_conv5_block1_1_bn_FusedBatchNormV3_0)\n",
      "    StatefulPartitionedCall_resnet50_conv5_block1_2_bn_FusedBatchNormV3_0 = self.n_StatefulPartitionedCall_resnet50_conv5_block1_2_conv_Conv2D(StatefulPartitionedCall_resnet50_conv5_block1_1_relu_Relu_0)\n",
      "    StatefulPartitionedCall_resnet50_conv5_block1_2_relu_Relu_0 = F.relu(StatefulPartitionedCall_resnet50_conv5_block1_2_bn_FusedBatchNormV3_0)\n",
      "    StatefulPartitionedCall_resnet50_conv5_block1_3_bn_FusedBatchNormV3_0 = self.n_StatefulPartitionedCall_resnet50_conv5_block1_3_conv_Conv2D(StatefulPartitionedCall_resnet50_conv5_block1_2_relu_Relu_0)\n",
      "    StatefulPartitionedCall_resnet50_conv5_block1_0_bn_FusedBatchNormV3_0 = self.n_StatefulPartitionedCall_resnet50_conv5_block1_0_conv_Conv2D(StatefulPartitionedCall_resnet50_conv4_block6_out_Relu_0)\n",
      "    StatefulPartitionedCall_resnet50_conv5_block1_add_add_0 = torch.add(StatefulPartitionedCall_resnet50_conv5_block1_0_bn_FusedBatchNormV3_0, StatefulPartitionedCall_resnet50_conv5_block1_3_bn_FusedBatchNormV3_0)\n",
      "    StatefulPartitionedCall_resnet50_conv5_block1_out_Relu_0 = F.relu(StatefulPartitionedCall_resnet50_conv5_block1_add_add_0)\n",
      "    StatefulPartitionedCall_resnet50_conv5_block2_1_bn_FusedBatchNormV3_0 = self.n_StatefulPartitionedCall_resnet50_conv5_block2_1_conv_Conv2D(StatefulPartitionedCall_resnet50_conv5_block1_out_Relu_0)\n",
      "    StatefulPartitionedCall_resnet50_conv5_block2_1_relu_Relu_0 = F.relu(StatefulPartitionedCall_resnet50_conv5_block2_1_bn_FusedBatchNormV3_0)\n",
      "    StatefulPartitionedCall_resnet50_conv5_block2_2_bn_FusedBatchNormV3_0 = self.n_StatefulPartitionedCall_resnet50_conv5_block2_2_conv_Conv2D(StatefulPartitionedCall_resnet50_conv5_block2_1_relu_Relu_0)\n",
      "    StatefulPartitionedCall_resnet50_conv5_block2_2_relu_Relu_0 = F.relu(StatefulPartitionedCall_resnet50_conv5_block2_2_bn_FusedBatchNormV3_0)\n",
      "    StatefulPartitionedCall_resnet50_conv5_block2_3_bn_FusedBatchNormV3_0 = self.n_StatefulPartitionedCall_resnet50_conv5_block2_3_conv_Conv2D(StatefulPartitionedCall_resnet50_conv5_block2_2_relu_Relu_0)\n",
      "    StatefulPartitionedCall_resnet50_conv5_block2_add_add_0 = torch.add(StatefulPartitionedCall_resnet50_conv5_block1_out_Relu_0, StatefulPartitionedCall_resnet50_conv5_block2_3_bn_FusedBatchNormV3_0)\n",
      "    StatefulPartitionedCall_resnet50_conv5_block2_out_Relu_0 = F.relu(StatefulPartitionedCall_resnet50_conv5_block2_add_add_0)\n",
      "    StatefulPartitionedCall_resnet50_conv5_block3_1_bn_FusedBatchNormV3_0 = self.n_StatefulPartitionedCall_resnet50_conv5_block3_1_conv_Conv2D(StatefulPartitionedCall_resnet50_conv5_block2_out_Relu_0)\n",
      "    StatefulPartitionedCall_resnet50_conv5_block3_1_relu_Relu_0 = F.relu(StatefulPartitionedCall_resnet50_conv5_block3_1_bn_FusedBatchNormV3_0)\n",
      "    StatefulPartitionedCall_resnet50_conv5_block3_2_bn_FusedBatchNormV3_0 = self.n_StatefulPartitionedCall_resnet50_conv5_block3_2_conv_Conv2D(StatefulPartitionedCall_resnet50_conv5_block3_1_relu_Relu_0)\n",
      "    StatefulPartitionedCall_resnet50_conv5_block3_2_relu_Relu_0 = F.relu(StatefulPartitionedCall_resnet50_conv5_block3_2_bn_FusedBatchNormV3_0)\n",
      "    StatefulPartitionedCall_resnet50_conv5_block3_3_bn_FusedBatchNormV3_0 = self.n_StatefulPartitionedCall_resnet50_conv5_block3_3_conv_Conv2D(StatefulPartitionedCall_resnet50_conv5_block3_2_relu_Relu_0)\n",
      "    StatefulPartitionedCall_resnet50_conv5_block3_add_add_0 = torch.add(StatefulPartitionedCall_resnet50_conv5_block2_out_Relu_0, StatefulPartitionedCall_resnet50_conv5_block3_3_bn_FusedBatchNormV3_0)\n",
      "    StatefulPartitionedCall_resnet50_conv5_block3_out_Relu_0 = F.relu(StatefulPartitionedCall_resnet50_conv5_block3_add_add_0)\n",
      "    StatefulPartitionedCall_resnet50_avg_pool_Mean_0 = F.avg_pool2d(StatefulPartitionedCall_resnet50_conv5_block3_out_Relu_0, **{'kernel_size': StatefulPartitionedCall_resnet50_conv5_block3_out_Relu_0.shape[-2:]})\n",
      "    StatefulPartitionedCall_resnet50_avg_pool_Mean_Squeeze__612_0 = torch.squeeze(StatefulPartitionedCall_resnet50_avg_pool_Mean_0, 3)\n",
      "    StatefulPartitionedCall_resnet50_avg_pool_Mean_Squeeze__612_0 = torch.squeeze(StatefulPartitionedCall_resnet50_avg_pool_Mean_Squeeze__612_0, 2)\n",
      "    StatefulPartitionedCall_resnet50_predictions_MatMul_0 = torch.matmul(StatefulPartitionedCall_resnet50_avg_pool_Mean_Squeeze__612_0, self._vars[\"StatefulPartitionedCall_resnet50_predictions_MatMul_ReadVariableOp_0\"])\n",
      "    StatefulPartitionedCall_resnet50_predictions_BiasAdd_0 = torch.add(StatefulPartitionedCall_resnet50_predictions_MatMul_0, self._vars[\"StatefulPartitionedCall_resnet50_predictions_BiasAdd_ReadVariableOp_0\"])\n",
      "    predictions = F.softmax(StatefulPartitionedCall_resnet50_predictions_BiasAdd_0, **{'dim': 1})\n",
      "    return predictions\n",
      "\n",
      "  def compatible_auto_pad(self, input, kernel_spatial_shape, nn_mod, auto_pad=None, **kwargs):\n",
      "    input_spatial_shape = input.shape[2:]\n",
      "    d = len(input_spatial_shape)\n",
      "    strides = nn_mod.stride\n",
      "    dilations = nn_mod.dilation\n",
      "    output_spatial_shape = [math.ceil(float(l) / float(r)) for l, r in zip(input.shape[2:], strides)]\n",
      "    pt_padding = [0] * 2 * d\n",
      "    pad_shape = [0] * d\n",
      "    for i in range(d):\n",
      "      pad_shape[i] = (output_spatial_shape[i] - 1) * strides[i] + ((kernel_spatial_shape[i] - 1) * dilations[i] + 1) - input_spatial_shape[i]\n",
      "      mean = pad_shape[i] // 2\n",
      "      if auto_pad == b\"SAME_UPPER\":\n",
      "        l, r = pad_shape[i] - mean, mean\n",
      "      else:\n",
      "        l, r = mean, pad_shape[i] - mean\n",
      "      pt_padding.insert(0, r)\n",
      "      pt_padding.insert(0, l)\n",
      "    return F.pad(input, pt_padding)\n",
      "\n",
      "@torch.no_grad()\n",
      "def test_run_model(inputs=[torch.from_numpy(np.random.randn(*[1, 224, 224, 3]).astype(np.float32))]):\n",
      "  model = Model()\n",
      "  model.eval()\n",
      "  rs = model(*inputs)\n",
      "  print(rs)\n",
      "  return rs\n",
      "\n"
     ]
    },
    {
     "ename": "ConnectionError",
     "evalue": "Error 104 while writing to socket. Connection reset by peer.",
     "output_type": "error",
     "traceback": [
      "\u001b[0;31m---------------------------------------------------------------------------\u001b[0m",
      "\u001b[0;31mConnectionResetError\u001b[0m                      Traceback (most recent call last)",
      "\u001b[0;32m~/anaconda3/envs/fyp_v3/lib/python3.9/site-packages/redis/connection.py\u001b[0m in \u001b[0;36msend_packed_command\u001b[0;34m(self, command, check_health)\u001b[0m\n\u001b[1;32m    767\u001b[0m             \u001b[0;32mfor\u001b[0m \u001b[0mitem\u001b[0m \u001b[0;32min\u001b[0m \u001b[0mcommand\u001b[0m\u001b[0;34m:\u001b[0m\u001b[0;34m\u001b[0m\u001b[0;34m\u001b[0m\u001b[0m\n\u001b[0;32m--> 768\u001b[0;31m                 \u001b[0mself\u001b[0m\u001b[0;34m.\u001b[0m\u001b[0m_sock\u001b[0m\u001b[0;34m.\u001b[0m\u001b[0msendall\u001b[0m\u001b[0;34m(\u001b[0m\u001b[0mitem\u001b[0m\u001b[0;34m)\u001b[0m\u001b[0;34m\u001b[0m\u001b[0;34m\u001b[0m\u001b[0m\n\u001b[0m\u001b[1;32m    769\u001b[0m         \u001b[0;32mexcept\u001b[0m \u001b[0msocket\u001b[0m\u001b[0;34m.\u001b[0m\u001b[0mtimeout\u001b[0m\u001b[0;34m:\u001b[0m\u001b[0;34m\u001b[0m\u001b[0;34m\u001b[0m\u001b[0m\n",
      "\u001b[0;31mConnectionResetError\u001b[0m: [Errno 104] Connection reset by peer",
      "\nDuring handling of the above exception, another exception occurred:\n",
      "\u001b[0;31mConnectionError\u001b[0m                           Traceback (most recent call last)",
      "\u001b[0;32m/tmp/ipykernel_10667/1544964511.py\u001b[0m in \u001b[0;36m<module>\u001b[0;34m\u001b[0m\n\u001b[1;32m     10\u001b[0m \u001b[0;34m\u001b[0m\u001b[0m\n\u001b[1;32m     11\u001b[0m \u001b[0;31m# predict x_1 using tensorflow framework\u001b[0m\u001b[0;34m\u001b[0m\u001b[0;34m\u001b[0m\u001b[0m\n\u001b[0;32m---> 12\u001b[0;31m \u001b[0mr\u001b[0m\u001b[0;34m.\u001b[0m\u001b[0mmset\u001b[0m\u001b[0;34m(\u001b[0m\u001b[0;34m{\u001b[0m\u001b[0;34m\"inputs\"\u001b[0m\u001b[0;34m:\u001b[0m \u001b[0mpickle\u001b[0m\u001b[0;34m.\u001b[0m\u001b[0mdumps\u001b[0m\u001b[0;34m(\u001b[0m\u001b[0mx_test_224\u001b[0m\u001b[0;34m)\u001b[0m\u001b[0;34m}\u001b[0m\u001b[0;34m)\u001b[0m\u001b[0;34m\u001b[0m\u001b[0;34m\u001b[0m\u001b[0m\n\u001b[0m\u001b[1;32m     13\u001b[0m \u001b[0mos\u001b[0m\u001b[0;34m.\u001b[0m\u001b[0msystem\u001b[0m\u001b[0;34m(\u001b[0m\u001b[0mget_prediction_cmd\u001b[0m\u001b[0;34m(\u001b[0m\u001b[0;34m\"tensorflow\"\u001b[0m\u001b[0;34m,\u001b[0m \u001b[0mdb_flag\u001b[0m\u001b[0;34m,\u001b[0m \u001b[0mlayer_idx\u001b[0m\u001b[0;34m)\u001b[0m\u001b[0;34m)\u001b[0m\u001b[0;34m\u001b[0m\u001b[0;34m\u001b[0m\u001b[0m\n\u001b[1;32m     14\u001b[0m \u001b[0mpredictions_tf\u001b[0m \u001b[0;34m=\u001b[0m \u001b[0mpickle\u001b[0m\u001b[0;34m.\u001b[0m\u001b[0mloads\u001b[0m\u001b[0;34m(\u001b[0m\u001b[0mr\u001b[0m\u001b[0;34m.\u001b[0m\u001b[0mhget\u001b[0m\u001b[0;34m(\u001b[0m\u001b[0;34m\"predictions\"\u001b[0m\u001b[0;34m,\u001b[0m \u001b[0;34m\"tensorflow\"\u001b[0m\u001b[0;34m)\u001b[0m\u001b[0;34m)\u001b[0m\u001b[0;34m\u001b[0m\u001b[0;34m\u001b[0m\u001b[0m\n",
      "\u001b[0;32m~/anaconda3/envs/fyp_v3/lib/python3.9/site-packages/redis/commands/core.py\u001b[0m in \u001b[0;36mmset\u001b[0;34m(self, mapping)\u001b[0m\n\u001b[1;32m   1433\u001b[0m         \u001b[0;32mfor\u001b[0m \u001b[0mpair\u001b[0m \u001b[0;32min\u001b[0m \u001b[0mmapping\u001b[0m\u001b[0;34m.\u001b[0m\u001b[0mitems\u001b[0m\u001b[0;34m(\u001b[0m\u001b[0;34m)\u001b[0m\u001b[0;34m:\u001b[0m\u001b[0;34m\u001b[0m\u001b[0;34m\u001b[0m\u001b[0m\n\u001b[1;32m   1434\u001b[0m             \u001b[0mitems\u001b[0m\u001b[0;34m.\u001b[0m\u001b[0mextend\u001b[0m\u001b[0;34m(\u001b[0m\u001b[0mpair\u001b[0m\u001b[0;34m)\u001b[0m\u001b[0;34m\u001b[0m\u001b[0;34m\u001b[0m\u001b[0m\n\u001b[0;32m-> 1435\u001b[0;31m         \u001b[0;32mreturn\u001b[0m \u001b[0mself\u001b[0m\u001b[0;34m.\u001b[0m\u001b[0mexecute_command\u001b[0m\u001b[0;34m(\u001b[0m\u001b[0;34m\"MSET\"\u001b[0m\u001b[0;34m,\u001b[0m \u001b[0;34m*\u001b[0m\u001b[0mitems\u001b[0m\u001b[0;34m)\u001b[0m\u001b[0;34m\u001b[0m\u001b[0;34m\u001b[0m\u001b[0m\n\u001b[0m\u001b[1;32m   1436\u001b[0m \u001b[0;34m\u001b[0m\u001b[0m\n\u001b[1;32m   1437\u001b[0m     \u001b[0;32mdef\u001b[0m \u001b[0mmsetnx\u001b[0m\u001b[0;34m(\u001b[0m\u001b[0mself\u001b[0m\u001b[0;34m,\u001b[0m \u001b[0mmapping\u001b[0m\u001b[0;34m)\u001b[0m\u001b[0;34m:\u001b[0m\u001b[0;34m\u001b[0m\u001b[0;34m\u001b[0m\u001b[0m\n",
      "\u001b[0;32m~/anaconda3/envs/fyp_v3/lib/python3.9/site-packages/redis/client.py\u001b[0m in \u001b[0;36mexecute_command\u001b[0;34m(self, *args, **options)\u001b[0m\n\u001b[1;32m   1171\u001b[0m \u001b[0;34m\u001b[0m\u001b[0m\n\u001b[1;32m   1172\u001b[0m         \u001b[0;32mtry\u001b[0m\u001b[0;34m:\u001b[0m\u001b[0;34m\u001b[0m\u001b[0;34m\u001b[0m\u001b[0m\n\u001b[0;32m-> 1173\u001b[0;31m             return conn.retry.call_with_retry(\n\u001b[0m\u001b[1;32m   1174\u001b[0m                 lambda: self._send_command_parse_response(\n\u001b[1;32m   1175\u001b[0m                     \u001b[0mconn\u001b[0m\u001b[0;34m,\u001b[0m \u001b[0mcommand_name\u001b[0m\u001b[0;34m,\u001b[0m \u001b[0;34m*\u001b[0m\u001b[0margs\u001b[0m\u001b[0;34m,\u001b[0m \u001b[0;34m**\u001b[0m\u001b[0moptions\u001b[0m\u001b[0;34m\u001b[0m\u001b[0;34m\u001b[0m\u001b[0m\n",
      "\u001b[0;32m~/anaconda3/envs/fyp_v3/lib/python3.9/site-packages/redis/retry.py\u001b[0m in \u001b[0;36mcall_with_retry\u001b[0;34m(self, do, fail)\u001b[0m\n\u001b[1;32m     42\u001b[0m             \u001b[0;32mexcept\u001b[0m \u001b[0mself\u001b[0m\u001b[0;34m.\u001b[0m\u001b[0m_supported_errors\u001b[0m \u001b[0;32mas\u001b[0m \u001b[0merror\u001b[0m\u001b[0;34m:\u001b[0m\u001b[0;34m\u001b[0m\u001b[0;34m\u001b[0m\u001b[0m\n\u001b[1;32m     43\u001b[0m                 \u001b[0mfailures\u001b[0m \u001b[0;34m+=\u001b[0m \u001b[0;36m1\u001b[0m\u001b[0;34m\u001b[0m\u001b[0;34m\u001b[0m\u001b[0m\n\u001b[0;32m---> 44\u001b[0;31m                 \u001b[0mfail\u001b[0m\u001b[0;34m(\u001b[0m\u001b[0merror\u001b[0m\u001b[0;34m)\u001b[0m\u001b[0;34m\u001b[0m\u001b[0;34m\u001b[0m\u001b[0m\n\u001b[0m\u001b[1;32m     45\u001b[0m                 \u001b[0;32mif\u001b[0m \u001b[0mfailures\u001b[0m \u001b[0;34m>\u001b[0m \u001b[0mself\u001b[0m\u001b[0;34m.\u001b[0m\u001b[0m_retries\u001b[0m\u001b[0;34m:\u001b[0m\u001b[0;34m\u001b[0m\u001b[0;34m\u001b[0m\u001b[0m\n\u001b[1;32m     46\u001b[0m                     \u001b[0;32mraise\u001b[0m \u001b[0merror\u001b[0m\u001b[0;34m\u001b[0m\u001b[0;34m\u001b[0m\u001b[0m\n",
      "\u001b[0;32m~/anaconda3/envs/fyp_v3/lib/python3.9/site-packages/redis/client.py\u001b[0m in \u001b[0;36m<lambda>\u001b[0;34m(error)\u001b[0m\n\u001b[1;32m   1175\u001b[0m                     \u001b[0mconn\u001b[0m\u001b[0;34m,\u001b[0m \u001b[0mcommand_name\u001b[0m\u001b[0;34m,\u001b[0m \u001b[0;34m*\u001b[0m\u001b[0margs\u001b[0m\u001b[0;34m,\u001b[0m \u001b[0;34m**\u001b[0m\u001b[0moptions\u001b[0m\u001b[0;34m\u001b[0m\u001b[0;34m\u001b[0m\u001b[0m\n\u001b[1;32m   1176\u001b[0m                 ),\n\u001b[0;32m-> 1177\u001b[0;31m                 \u001b[0;32mlambda\u001b[0m \u001b[0merror\u001b[0m\u001b[0;34m:\u001b[0m \u001b[0mself\u001b[0m\u001b[0;34m.\u001b[0m\u001b[0m_disconnect_raise\u001b[0m\u001b[0;34m(\u001b[0m\u001b[0mconn\u001b[0m\u001b[0;34m,\u001b[0m \u001b[0merror\u001b[0m\u001b[0;34m)\u001b[0m\u001b[0;34m,\u001b[0m\u001b[0;34m\u001b[0m\u001b[0;34m\u001b[0m\u001b[0m\n\u001b[0m\u001b[1;32m   1178\u001b[0m             )\n\u001b[1;32m   1179\u001b[0m         \u001b[0;32mfinally\u001b[0m\u001b[0;34m:\u001b[0m\u001b[0;34m\u001b[0m\u001b[0;34m\u001b[0m\u001b[0m\n",
      "\u001b[0;32m~/anaconda3/envs/fyp_v3/lib/python3.9/site-packages/redis/client.py\u001b[0m in \u001b[0;36m_disconnect_raise\u001b[0;34m(self, conn, error)\u001b[0m\n\u001b[1;32m   1161\u001b[0m             \u001b[0;32mor\u001b[0m \u001b[0misinstance\u001b[0m\u001b[0;34m(\u001b[0m\u001b[0merror\u001b[0m\u001b[0;34m,\u001b[0m \u001b[0mtuple\u001b[0m\u001b[0;34m(\u001b[0m\u001b[0mconn\u001b[0m\u001b[0;34m.\u001b[0m\u001b[0mretry_on_error\u001b[0m\u001b[0;34m)\u001b[0m\u001b[0;34m)\u001b[0m \u001b[0;32mis\u001b[0m \u001b[0;32mFalse\u001b[0m\u001b[0;34m\u001b[0m\u001b[0;34m\u001b[0m\u001b[0m\n\u001b[1;32m   1162\u001b[0m         ):\n\u001b[0;32m-> 1163\u001b[0;31m             \u001b[0;32mraise\u001b[0m \u001b[0merror\u001b[0m\u001b[0;34m\u001b[0m\u001b[0;34m\u001b[0m\u001b[0m\n\u001b[0m\u001b[1;32m   1164\u001b[0m \u001b[0;34m\u001b[0m\u001b[0m\n\u001b[1;32m   1165\u001b[0m     \u001b[0;31m# COMMAND EXECUTION AND PROTOCOL PARSING\u001b[0m\u001b[0;34m\u001b[0m\u001b[0;34m\u001b[0m\u001b[0m\n",
      "\u001b[0;32m~/anaconda3/envs/fyp_v3/lib/python3.9/site-packages/redis/retry.py\u001b[0m in \u001b[0;36mcall_with_retry\u001b[0;34m(self, do, fail)\u001b[0m\n\u001b[1;32m     39\u001b[0m         \u001b[0;32mwhile\u001b[0m \u001b[0;32mTrue\u001b[0m\u001b[0;34m:\u001b[0m\u001b[0;34m\u001b[0m\u001b[0;34m\u001b[0m\u001b[0m\n\u001b[1;32m     40\u001b[0m             \u001b[0;32mtry\u001b[0m\u001b[0;34m:\u001b[0m\u001b[0;34m\u001b[0m\u001b[0;34m\u001b[0m\u001b[0m\n\u001b[0;32m---> 41\u001b[0;31m                 \u001b[0;32mreturn\u001b[0m \u001b[0mdo\u001b[0m\u001b[0;34m(\u001b[0m\u001b[0;34m)\u001b[0m\u001b[0;34m\u001b[0m\u001b[0;34m\u001b[0m\u001b[0m\n\u001b[0m\u001b[1;32m     42\u001b[0m             \u001b[0;32mexcept\u001b[0m \u001b[0mself\u001b[0m\u001b[0;34m.\u001b[0m\u001b[0m_supported_errors\u001b[0m \u001b[0;32mas\u001b[0m \u001b[0merror\u001b[0m\u001b[0;34m:\u001b[0m\u001b[0;34m\u001b[0m\u001b[0;34m\u001b[0m\u001b[0m\n\u001b[1;32m     43\u001b[0m                 \u001b[0mfailures\u001b[0m \u001b[0;34m+=\u001b[0m \u001b[0;36m1\u001b[0m\u001b[0;34m\u001b[0m\u001b[0;34m\u001b[0m\u001b[0m\n",
      "\u001b[0;32m~/anaconda3/envs/fyp_v3/lib/python3.9/site-packages/redis/client.py\u001b[0m in \u001b[0;36m<lambda>\u001b[0;34m()\u001b[0m\n\u001b[1;32m   1172\u001b[0m         \u001b[0;32mtry\u001b[0m\u001b[0;34m:\u001b[0m\u001b[0;34m\u001b[0m\u001b[0;34m\u001b[0m\u001b[0m\n\u001b[1;32m   1173\u001b[0m             return conn.retry.call_with_retry(\n\u001b[0;32m-> 1174\u001b[0;31m                 lambda: self._send_command_parse_response(\n\u001b[0m\u001b[1;32m   1175\u001b[0m                     \u001b[0mconn\u001b[0m\u001b[0;34m,\u001b[0m \u001b[0mcommand_name\u001b[0m\u001b[0;34m,\u001b[0m \u001b[0;34m*\u001b[0m\u001b[0margs\u001b[0m\u001b[0;34m,\u001b[0m \u001b[0;34m**\u001b[0m\u001b[0moptions\u001b[0m\u001b[0;34m\u001b[0m\u001b[0;34m\u001b[0m\u001b[0m\n\u001b[1;32m   1176\u001b[0m                 ),\n",
      "\u001b[0;32m~/anaconda3/envs/fyp_v3/lib/python3.9/site-packages/redis/client.py\u001b[0m in \u001b[0;36m_send_command_parse_response\u001b[0;34m(self, conn, command_name, *args, **options)\u001b[0m\n\u001b[1;32m   1147\u001b[0m         \u001b[0mSend\u001b[0m \u001b[0ma\u001b[0m \u001b[0mcommand\u001b[0m \u001b[0;32mand\u001b[0m \u001b[0mparse\u001b[0m \u001b[0mthe\u001b[0m \u001b[0mresponse\u001b[0m\u001b[0;34m\u001b[0m\u001b[0;34m\u001b[0m\u001b[0m\n\u001b[1;32m   1148\u001b[0m         \"\"\"\n\u001b[0;32m-> 1149\u001b[0;31m         \u001b[0mconn\u001b[0m\u001b[0;34m.\u001b[0m\u001b[0msend_command\u001b[0m\u001b[0;34m(\u001b[0m\u001b[0;34m*\u001b[0m\u001b[0margs\u001b[0m\u001b[0;34m)\u001b[0m\u001b[0;34m\u001b[0m\u001b[0;34m\u001b[0m\u001b[0m\n\u001b[0m\u001b[1;32m   1150\u001b[0m         \u001b[0;32mreturn\u001b[0m \u001b[0mself\u001b[0m\u001b[0;34m.\u001b[0m\u001b[0mparse_response\u001b[0m\u001b[0;34m(\u001b[0m\u001b[0mconn\u001b[0m\u001b[0;34m,\u001b[0m \u001b[0mcommand_name\u001b[0m\u001b[0;34m,\u001b[0m \u001b[0;34m**\u001b[0m\u001b[0moptions\u001b[0m\u001b[0;34m)\u001b[0m\u001b[0;34m\u001b[0m\u001b[0;34m\u001b[0m\u001b[0m\n\u001b[1;32m   1151\u001b[0m \u001b[0;34m\u001b[0m\u001b[0m\n",
      "\u001b[0;32m~/anaconda3/envs/fyp_v3/lib/python3.9/site-packages/redis/connection.py\u001b[0m in \u001b[0;36msend_command\u001b[0;34m(self, *args, **kwargs)\u001b[0m\n\u001b[1;32m    784\u001b[0m     \u001b[0;32mdef\u001b[0m \u001b[0msend_command\u001b[0m\u001b[0;34m(\u001b[0m\u001b[0mself\u001b[0m\u001b[0;34m,\u001b[0m \u001b[0;34m*\u001b[0m\u001b[0margs\u001b[0m\u001b[0;34m,\u001b[0m \u001b[0;34m**\u001b[0m\u001b[0mkwargs\u001b[0m\u001b[0;34m)\u001b[0m\u001b[0;34m:\u001b[0m\u001b[0;34m\u001b[0m\u001b[0;34m\u001b[0m\u001b[0m\n\u001b[1;32m    785\u001b[0m         \u001b[0;34m\"\"\"Pack and send a command to the Redis server\"\"\"\u001b[0m\u001b[0;34m\u001b[0m\u001b[0;34m\u001b[0m\u001b[0m\n\u001b[0;32m--> 786\u001b[0;31m         self.send_packed_command(\n\u001b[0m\u001b[1;32m    787\u001b[0m             \u001b[0mself\u001b[0m\u001b[0;34m.\u001b[0m\u001b[0mpack_command\u001b[0m\u001b[0;34m(\u001b[0m\u001b[0;34m*\u001b[0m\u001b[0margs\u001b[0m\u001b[0;34m)\u001b[0m\u001b[0;34m,\u001b[0m \u001b[0mcheck_health\u001b[0m\u001b[0;34m=\u001b[0m\u001b[0mkwargs\u001b[0m\u001b[0;34m.\u001b[0m\u001b[0mget\u001b[0m\u001b[0;34m(\u001b[0m\u001b[0;34m\"check_health\"\u001b[0m\u001b[0;34m,\u001b[0m \u001b[0;32mTrue\u001b[0m\u001b[0;34m)\u001b[0m\u001b[0;34m\u001b[0m\u001b[0;34m\u001b[0m\u001b[0m\n\u001b[1;32m    788\u001b[0m         )\n",
      "\u001b[0;32m~/anaconda3/envs/fyp_v3/lib/python3.9/site-packages/redis/connection.py\u001b[0m in \u001b[0;36msend_packed_command\u001b[0;34m(self, command, check_health)\u001b[0m\n\u001b[1;32m    777\u001b[0m                 \u001b[0merrno\u001b[0m \u001b[0;34m=\u001b[0m \u001b[0me\u001b[0m\u001b[0;34m.\u001b[0m\u001b[0margs\u001b[0m\u001b[0;34m[\u001b[0m\u001b[0;36m0\u001b[0m\u001b[0;34m]\u001b[0m\u001b[0;34m\u001b[0m\u001b[0;34m\u001b[0m\u001b[0m\n\u001b[1;32m    778\u001b[0m                 \u001b[0merrmsg\u001b[0m \u001b[0;34m=\u001b[0m \u001b[0me\u001b[0m\u001b[0;34m.\u001b[0m\u001b[0margs\u001b[0m\u001b[0;34m[\u001b[0m\u001b[0;36m1\u001b[0m\u001b[0;34m]\u001b[0m\u001b[0;34m\u001b[0m\u001b[0;34m\u001b[0m\u001b[0m\n\u001b[0;32m--> 779\u001b[0;31m             \u001b[0;32mraise\u001b[0m \u001b[0mConnectionError\u001b[0m\u001b[0;34m(\u001b[0m\u001b[0;34mf\"Error {errno} while writing to socket. {errmsg}.\"\u001b[0m\u001b[0;34m)\u001b[0m\u001b[0;34m\u001b[0m\u001b[0;34m\u001b[0m\u001b[0m\n\u001b[0m\u001b[1;32m    780\u001b[0m         \u001b[0;32mexcept\u001b[0m \u001b[0mBaseException\u001b[0m\u001b[0;34m:\u001b[0m\u001b[0;34m\u001b[0m\u001b[0;34m\u001b[0m\u001b[0m\n\u001b[1;32m    781\u001b[0m             \u001b[0mself\u001b[0m\u001b[0;34m.\u001b[0m\u001b[0mdisconnect\u001b[0m\u001b[0;34m(\u001b[0m\u001b[0;34m)\u001b[0m\u001b[0;34m\u001b[0m\u001b[0;34m\u001b[0m\u001b[0m\n",
      "\u001b[0;31mConnectionError\u001b[0m: Error 104 while writing to socket. Connection reset by peer."
     ]
    }
   ],
   "source": [
    "r = redis.Redis(db=db_flag)\n",
    "r.flushdb()\n",
    "r.mset({\"model_tensorflow\": pickle.dumps(model)})\n",
    "\n",
    "export_model(\"tensorflow\", model, \"model_tf\", x_test_224[:50], \"model_tf.onnx\")\n",
    "model_2_path = import_onnx(\"torch\", \"model_tf.onnx\")\n",
    "model_2 = load_model(\"torch\", model_2_path)\n",
    "r.mset({\"model_torch\": pickle.dumps(model_2)})\n",
    "\n",
    "\n",
    "# predict x_1 using tensorflow framework\n",
    "r.mset({\"inputs\": pickle.dumps(x_test_224[:50])})\n",
    "os.system(get_prediction_cmd(\"tensorflow\", db_flag, layer_idx))\n",
    "predictions_tf = pickle.loads(r.hget(\"predictions\", \"tensorflow\"))\n",
    "\n",
    "# predict x_2 using theano framework\n",
    "r.mset({\"inputs\": pickle.dumps(x_test_224[:50])})\n",
    "os.system(get_prediction_cmd(\"torch\", db_flag, layer_idx))\n",
    "predictions_th = pickle.loads(r.hget(\"predictions\", \"torch\"))"
   ]
  },
  {
   "cell_type": "markdown",
   "metadata": {},
   "source": [
    "### Check if there is any inconsistency in the original dataset"
   ]
  },
  {
   "cell_type": "code",
   "execution_count": 13,
   "metadata": {
    "scrolled": false
   },
   "outputs": [
    {
     "name": "stderr",
     "output_type": "stream",
     "text": [
      "2022-01-11 16:41:09.681916: E tensorflow/stream_executor/cuda/cuda_driver.cc:271] failed call to cuInit: CUDA_ERROR_UNKNOWN: unknown error\n",
      "2022-01-11 16:41:09.681992: I tensorflow/stream_executor/cuda/cuda_diagnostics.cc:169] retrieving CUDA diagnostic information for host: ugcpu5\n",
      "2022-01-11 16:41:09.682005: I tensorflow/stream_executor/cuda/cuda_diagnostics.cc:176] hostname: ugcpu5\n",
      "2022-01-11 16:41:09.682142: I tensorflow/stream_executor/cuda/cuda_diagnostics.cc:200] libcuda reported version is: 495.29.5\n",
      "2022-01-11 16:41:09.682195: I tensorflow/stream_executor/cuda/cuda_diagnostics.cc:204] kernel reported version is: 495.29.5\n",
      "2022-01-11 16:41:09.682207: I tensorflow/stream_executor/cuda/cuda_diagnostics.cc:310] kernel version seems to match DSO: 495.29.5\n",
      "2022-01-11 16:41:09.682773: I tensorflow/core/platform/cpu_feature_guard.cc:151] This TensorFlow binary is optimized with oneAPI Deep Neural Network Library (oneDNN) to use the following CPU instructions in performance-critical operations:  AVX2 AVX512F FMA\n",
      "To enable them in other operations, rebuild TensorFlow with the appropriate compiler flags.\n",
      "WARNING:tensorflow:No training configuration found in save file, so the model was *not* compiled. Compile it manually.\n"
     ]
    }
   ],
   "source": [
    "# predict x_1 using tensorflow framework\n",
    "r.mset({\"inputs\": pickle.dumps(x_test_224[:100])})\n",
    "os.system(get_prediction_cmd(\"tensorflow\", db_flag, layer_idx))\n",
    "predictions_tf = pickle.loads(r.hget(\"predictions\", \"tensorflow\"))\n",
    "\n",
    "# predict x_2 using theano framework\n",
    "r.mset({\"inputs\": pickle.dumps(x_test_224[:100])})\n",
    "os.system(get_prediction_cmd(\"torch\", db_flag, layer_idx))\n",
    "predictions_th = pickle.loads(r.hget(\"predictions\", \"torch\"))"
   ]
  },
  {
   "cell_type": "code",
   "execution_count": 14,
   "metadata": {
    "scrolled": false
   },
   "outputs": [
    {
     "data": {
      "text/plain": [
       "array([], dtype=int64)"
      ]
     },
     "execution_count": 14,
     "metadata": {},
     "output_type": "execute_result"
    }
   ],
   "source": [
    "inc_idx = np.where(np.argmax(predictions_th, 1)!=np.argmax(predictions_tf, 1))\n",
    "inc_idx[0]"
   ]
  }
 ],
 "metadata": {
  "interpreter": {
   "hash": "fdb5c6f5eaa2a17ed3afdcccdfa066a85023e220ece0c7237533a765dc216f79"
  },
  "kernelspec": {
   "display_name": "fyp_v3",
   "language": "python",
   "name": "fyp_v3"
  },
  "language_info": {
   "codemirror_mode": {
    "name": "ipython",
    "version": 3
   },
   "file_extension": ".py",
   "mimetype": "text/x-python",
   "name": "python",
   "nbconvert_exporter": "python",
   "pygments_lexer": "ipython3",
   "version": "3.9.7"
  }
 },
 "nbformat": 4,
 "nbformat_minor": 2
}
