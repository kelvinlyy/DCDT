{
 "cells": [
  {
   "cell_type": "markdown",
   "id": "8bb5ff7d",
   "metadata": {},
   "source": [
    "### Only Nan fitness function works in this version"
   ]
  },
  {
   "cell_type": "code",
   "execution_count": 19,
   "id": "bca54cb7",
   "metadata": {
    "scrolled": true
   },
   "outputs": [],
   "source": [
    "import torch\n",
    "import numpy as np\n",
    "import time\n",
    "import torchvision\n",
    "from torchvision import datasets, transforms\n",
    "from torch.utils.data import DataLoader\n",
    "import tensorflow as tf\n",
    "import cv2\n",
    "import random\n",
    "import os\n",
    "import copy\n",
    "import matplotlib.pyplot as plt"
   ]
  },
  {
   "cell_type": "code",
   "execution_count": 20,
   "id": "544b6ac1",
   "metadata": {
    "scrolled": true
   },
   "outputs": [
    {
     "name": "stderr",
     "output_type": "stream",
     "text": [
      "Using cache found in /data/yylaiai/.cache/torch/hub/pytorch_vision_v0.10.0\n"
     ]
    }
   ],
   "source": [
    "# load model\n",
    "model = torch.hub.load('pytorch/vision:v0.10.0', 'resnet18', pretrained=True)\n",
    "# model = torch.hub.load('pytorch/vision:v0.10.0', 'alexnet', pretrained=True)"
   ]
  },
  {
   "cell_type": "code",
   "execution_count": 3,
   "id": "b6c955b5",
   "metadata": {
    "scrolled": true
   },
   "outputs": [],
   "source": [
    "transform_func = transforms.Compose([\n",
    "    transforms.ToTensor(),\n",
    "    transforms.Resize((224,224)),\n",
    "    transforms.Normalize(mean=[0.485, 0.456, 0.406], std=[0.229, 0.224, 0.225])\n",
    "])"
   ]
  },
  {
   "cell_type": "code",
   "execution_count": 4,
   "id": "7bc43edd",
   "metadata": {
    "scrolled": true
   },
   "outputs": [],
   "source": [
    "# img_data = torchvision.datasets.FakeData(size=1000, image_size=(3,224,224), transform=transform_func)\n",
    "img_data = torchvision.datasets.Caltech101('./', transform=transform_func)\n",
    "\n",
    "loader = DataLoader(img_data, batch_size=100)"
   ]
  },
  {
   "cell_type": "code",
   "execution_count": 5,
   "id": "3f10ae3e",
   "metadata": {
    "scrolled": true
   },
   "outputs": [
    {
     "data": {
      "text/plain": [
       "torch.Size([100, 3, 224, 224])"
      ]
     },
     "execution_count": 5,
     "metadata": {},
     "output_type": "execute_result"
    }
   ],
   "source": [
    "dataset = next(iter(loader))[0].type(torch.FloatTensor)\n",
    "dataset.shape"
   ]
  },
  {
   "cell_type": "code",
   "execution_count": 21,
   "id": "6844fb74",
   "metadata": {
    "scrolled": true
   },
   "outputs": [],
   "source": [
    "class GA_Torch_CPU:\n",
    "    '''\n",
    "    arguments e.g.:\n",
    "    fit_func: [fitness_function, arguments:[]]\n",
    "    fit_func: [\"inc\", [\"theano\"]]\n",
    "    model: model\n",
    "    dataset: x_test\n",
    "    init_input_mut: 0.1\n",
    "    init_weight_mut: 0\n",
    "    r1 (crossover rate): 0.5\n",
    "    r2 (mutation rate): 0.1\n",
    "    m (number of parents): 5\n",
    "    n (maximum dataset size allowed): 1000\n",
    "    db_flag: 0\n",
    "    '''\n",
    "    def __init__(self, fit, model, dataset, init_input_mut, init_weight_mut, r1, r2, m, n, db_flag):\n",
    "        self.framework = \"torch\"\n",
    "\n",
    "        self.fit_func = fit[0]\n",
    "        self.fit_arg = fit[1]\n",
    "\n",
    "        self.model = copy.deepcopy(model)\n",
    "        self.dataset = copy.deepcopy(dataset)\n",
    "\n",
    "        self.init_input_mut = init_input_mut\n",
    "        self.init_weight_mut = init_weight_mut\n",
    "        self.r1 = r1\n",
    "        self.r2 = r2\n",
    "        self.m = m\n",
    "        self.n = n\n",
    "\n",
    "        self.db_flag = db_flag\n",
    "        self.redis_server = redis.Redis(db=self.db_flag)\n",
    "        if not self.redis_server.ping():\n",
    "            raise Exception(\"Redis server not set up\")\n",
    "\n",
    "        \n",
    "        \n",
    "    def initPopulation(self):\n",
    "        # randomly choose n inputs from the dataset if n < len(dataset)\n",
    "        if len(self.dataset) > self.n:\n",
    "            selected_x = self.dataset[np.random.choice(len(self.dataset), size=self.n, replace=False)]\n",
    "        else:\n",
    "            selected_x = self.dataset\n",
    "        \n",
    "        self.mutated_inputs = selected_x\n",
    "        \n",
    "        cauchy_dist = torch.distributions.cauchy.Cauchy(torch.tensor([0.0]), torch.tensor([1.0]))\n",
    "#         cauchy_dist = torch.distributions.cauchy.Cauchy(torch.cuda.FloatTensor([0.0]), torch.cuda.FloatTensor([1.0]))\n",
    "        \n",
    "        # input level\n",
    "        if self.init_input_mut != 0 and self.init_input_mut != None:\n",
    "#             self.mutated_inputs = torch.clamp((self.mutated_inputs + torch.squeeze(cauchy_dist.sample(self.mutated_inputs.shape)) * self.init_input_mut),-1,1)\n",
    "            self.mutated_inputs = self.mutated_inputs + torch.squeeze(cauchy_dist.sample(self.mutated_inputs.shape)) * self.init_input_mut\n",
    "\n",
    "\n",
    "        # weight level\n",
    "        if self.init_weight_mut != 0 and self.init_weight_mut != None:\n",
    "            with torch.no_grad():\n",
    "                for name, param in self.model.named_parameters():\n",
    "                    param.add_(torch.squeeze(cauchy_dist.sample(param.size()), -1) * self.init_weight_mut)\n",
    "                    \n",
    "        \n",
    "        return self.mutated_inputs\n",
    "\n",
    "    def prepareFitness(self):\n",
    "        if self.fit_func == \"inc\":\n",
    "            backends = [\"torch\", self.fit_arg[0]]\n",
    "            self.FFunc = InconsistencyFFunc(self.redis_server, self.db_flag, backends, self.model, self.mutated_inputs)\n",
    "            self.FFunc.prepare()\n",
    "        elif self.fit_func == \"nan\":\n",
    "            backend = \"torch\"\n",
    "            self.FFunc = NanFFunc(self.redis_server, self.db_flag, backend, self.model, self.mutated_inputs)\n",
    "            self.FFunc.prepare()\n",
    "        \n",
    "\n",
    "    def computeFitness(self):\n",
    "        if self.fit_func == \"inc\":\n",
    "            self.fitness_values = torch.tensor(self.FFunc.compute(-1))\n",
    "\n",
    "        elif self.fit_func == \"nan\":\n",
    "            self.fitness_values = torch.tensor(self.FFunc.compute(-1))\n",
    "            \n",
    "        self.fitness_values = torch.squeeze(self.fitness_values)\n",
    "        \n",
    "        return self.fitness_values\n",
    "        \n",
    "    def getTopK_Fit(self, k):\n",
    "        _, selected_index = torch.topk(self.fitness_values, self.m)\n",
    "        return [self.mutated_inputs[selected_index], self.fitness_values[selected_index]]\n",
    "        \n",
    "    # select m candidates for parents of next-generation inputs\n",
    "    def select(self):\n",
    "        _, selected_index = torch.topk(self.fitness_values, self.m)\n",
    "        self.selected_x = self.mutated_inputs[selected_index]\n",
    "        return self.selected_x\n",
    "    \n",
    "    # select 2 parents from the candidates\n",
    "    def selectParents(self):\n",
    "        self.x1, self.x2 = random.sample(list(self.selected_x), 2)\n",
    "        return self.x1, self.x2\n",
    "    \n",
    "    # return a flatten list of a crossover product of the selected parents\n",
    "    def crossover(self):\n",
    "        x1_flatten = self.x1.flatten()\n",
    "        x2_flatten = self.x2.flatten()\n",
    "\n",
    "        x1_factor = np.random.choice(2, size=x1_flatten.shape, p=[1-self.r1, self.r1])\n",
    "        x2_factor = 1 - x1_factor\n",
    "        \n",
    "        self.x_prime = x1_flatten * x1_factor + x2_flatten * x2_factor\n",
    "\n",
    "        return self.x_prime\n",
    "    \n",
    "    # mutate the crossover product and reshape it as the shape of the input instance\n",
    "    def mutate(self):\n",
    "        cauchy_dist = torch.distributions.cauchy.Cauchy(torch.tensor([0.0]), torch.tensor([1.0]))\n",
    "        \n",
    "        input_shape = self.dataset[0].shape\n",
    "        \n",
    "#         self.x_2prime = torch.clamp((self.x_prime + torch.squeeze(cauchy_dist.sample(self.mutated_inputs.shape)).to('cpu') * self.r2),-1,1)\n",
    "        self.x_2prime = self.x_prime + torch.squeeze(cauchy_dist.sample(self.x_prime.shape)) * self.r2\n",
    "\n",
    "        self.x_2prime = self.x_2prime.reshape(input_shape)\n",
    "        return self.x_2prime\n",
    "    \n",
    "    def update_inputs(self):\n",
    "        self.redis_server.mset({\"inputs\": pickle.dumps(self.mutated_inputs.numpy())})\n",
    "    \n",
    "    # check if the new DNN model can predict the mutated inputs without triggering error\n",
    "    def checkFailed(self):\n",
    "        try:\n",
    "            self.mutated_inputs = self.mutated_inputs.type(torch.FloatTensor)\n",
    "            if self.fit_func == \"inc\":\n",
    "                return []\n",
    "\n",
    "            elif self.fit_func == \"nan\":\n",
    "                predictions = self.model(self.mutated_inputs)\n",
    "                if torch.isnan(predictions).any(): # if there is any nan in the predictions\n",
    "                    return self.mutated_inputs\n",
    "        except Exception as e:\n",
    "            return [e]\n",
    "            "
   ]
  },
  {
   "cell_type": "code",
   "execution_count": 16,
   "id": "529f7515",
   "metadata": {
    "scrolled": true
   },
   "outputs": [],
   "source": [
    "import redis\n",
    "import os\n",
    "import numpy as np\n",
    "import onnx\n",
    "import onnx_tf\n",
    "from onnx2keras import onnx_to_keras\n",
    "import pickle\n",
    "import tensorflow as tf\n",
    "import torch\n",
    "import keras\n",
    "from multiprocessing import Process\n",
    "\n",
    "\n",
    "\n",
    "def export_model(model_framework, model, model_name, dummy_input, onnx_path):\n",
    "    if model_framework == \"tensorflow\":\n",
    "        model.save(model_name)\n",
    "        model_path = model_name\n",
    "        os.system(f\"python -m tf2onnx.convert --saved-model {model_path} --output {onnx_path}\")\n",
    "    elif model_framework == \"torch\":\n",
    "        torch.onnx.export(model, dummy_input.to('cuda'), onnx_path)\n",
    "\n",
    "\n",
    "def import_onnx(target_framework, onnx_path): # call this function after export_tf_model()\n",
    "    onnx_model = onnx.load(onnx_path)  # load onnx model\n",
    "    if target_framework == 'tensorflow':\n",
    "        output_path = onnx_path[:-5]\n",
    "        with tf.device('CPU'):\n",
    "            tf_rep = onnx_tf.backend.prepare(onnx_model)  # prepare tf representation\n",
    "            tf_rep.export_graph(output_path)  # export the model\n",
    "    elif target_framework == 'theano':\n",
    "        output_path = onnx_path[:-5] + '.h5'\n",
    "        # Call the converter (input - is the main model input name, can be different for your model)\n",
    "        k_model = onnx_to_keras(onnx_model, ['input'])\n",
    "        k_model.save(output_path)\n",
    "        \n",
    "    \n",
    "    return output_path\n",
    "\n",
    "def load_model(model_framework, model_path):\n",
    "    if model_framework == \"tensorflow\":\n",
    "        with tf.device('CPU'):\n",
    "            model = tf.keras.models.load_model(model_path)\n",
    "    elif model_framework == \"theano\":\n",
    "        model = keras.models.load_model(model_path)\n",
    "       \n",
    "    return model\n",
    "\n",
    "\n",
    "def get_prediction_process(model_framework, db_flag, layer_idx):\n",
    "    if model_framework == \"theano\":\n",
    "        cmd = f\"/data/yylaiai/anaconda3/envs/py36/bin/python get_prediction_{model_framework}.py {db_flag} {layer_idx}\"\n",
    "    else:\n",
    "        cmd = f\"/data/yylaiai/anaconda3/envs/fyp_v3/bin/python get_prediction_{model_framework}.py {db_flag} {layer_idx}\"\n",
    "\n",
    "    return Process(target=lambda: os.system(cmd))\n",
    "\n",
    "def get_prediction_cmd(model_framework, db_flag, layer_idx):\n",
    "    if model_framework == \"theano\":\n",
    "        cmd = f\"/data/yylaiai/anaconda3/envs/py36/bin/python get_prediction_{model_framework}.py {db_flag} {layer_idx}\"\n",
    "    else:\n",
    "        cmd = f\"/data/yylaiai/anaconda3/envs/fyp_v3/bin/python get_prediction_{model_framework}.py {db_flag} {layer_idx}\"\n",
    "\n",
    "    return cmd\n",
    "\n",
    "class InconsistencyFFunc:\n",
    "    def __init__(self, redis_server, db_flag, backends, model, inputs):\n",
    "        self.redis_server = redis_server\n",
    "        self.db_flag = db_flag\n",
    "        self.backend_1, self.backend_2 = backends\n",
    "        self.model_1 = model\n",
    "        self.inputs = inputs\n",
    "\n",
    "        self.model_1_name = 'model' + self.backend_1\n",
    "        self.onnx_path = self.model_1_name + '.onnx'\n",
    "\n",
    "    def prepare(self):\n",
    "        # export model to onnx\n",
    "        export_model(self.backend_1, self.model_1, self.model_1_name, self.inputs, self.onnx_path)\n",
    "\n",
    "        # import onnx model to second DL framework\n",
    "        self.model_2_path = import_onnx(self.backend_2, self.onnx_path)\n",
    "        self.model_2 = load_model(self.backend_2, self.model_2_path)\n",
    "\n",
    "        # store model and inputs\n",
    "        if self.backend_1 == \"torch\":\n",
    "            with self.redis_server.pipeline() as pipe:\n",
    "                pipe.mset({f'model_{self.backend_1}': pickle.dumps(self.model_1.to('cpu'))})\n",
    "                pipe.mset({f'model_{self.backend_2}': pickle.dumps(self.model_2)})\n",
    "                pipe.mset({\"inputs\": pickle.dumps(self.inputs.cpu().numpy())}) # convert tensor to numpy before saving to redis\n",
    "                pipe.execute()\n",
    "        else:\n",
    "            with self.redis_server.pipeline() as pipe:\n",
    "                pipe.mset({f'model_{self.backend_1}': pickle.dumps(self.model_1)})\n",
    "                pipe.mset({f'model_{self.backend_2}': pickle.dumps(self.model_2)})\n",
    "                pipe.mset({\"inputs\": pickle.dumps(self.inputs)})\n",
    "                pipe.execute()\n",
    "    \n",
    "    def compute(self):\n",
    "        # run subprocess to get predictions\n",
    "        p1 = get_prediction_process(self.backend_1, self.db_flag, layer_idx)\n",
    "        p2 = get_prediction_process(self.backend_2, self.db_flag, layer_idx)\n",
    "        p1.start()\n",
    "        p2.start()\n",
    "        p1.join()\n",
    "        p2.join()\n",
    "        \n",
    "        # load predictions\n",
    "        with self.redis_server.pipeline() as pipe:\n",
    "            pipe.hget(\"predictions\", self.backend_1)\n",
    "            pipe.hget(\"predictions\", self.backend_2)\n",
    "            predictions = pipe.execute()\n",
    "        \n",
    "        self.predictions_1 = pickle.loads(predictions[0])\n",
    "        self.predictions_2 = pickle.loads(predictions[1])\n",
    "        \n",
    "        # compute fitness\n",
    "        predictions_diff = np.abs(self.predictions_2 - self.predictions_1)\n",
    "        \n",
    "        self.fitness_values = np.sum(predictions_diff, axis=1) / len(predictions_diff[0])\n",
    "        \n",
    "        \n",
    "        \n",
    "        \n",
    "        return self.fitness_values\n",
    "\n",
    "class NanFFunc:\n",
    "    def __init__(self, redis_server, db_flag, backend, model, inputs):\n",
    "        self.redis_server = redis_server\n",
    "        self.db_flag = db_flag\n",
    "        self.backend = backend\n",
    "        self.model = model\n",
    "        self.inputs = inputs\n",
    "\n",
    "\n",
    "    def prepare(self):\n",
    "        # store model and inputs\n",
    "        if self.backend == \"torch\":\n",
    "            with self.redis_server.pipeline() as pipe:\n",
    "                pipe.mset({f'model_{self.backend}': pickle.dumps(self.model)})\n",
    "                pipe.mset({\"inputs\": pickle.dumps(self.inputs.cpu().numpy())}) # convert tensor to numpy before saving to redis\n",
    "                pipe.execute()\n",
    "        else:\n",
    "            with self.redis_server.pipeline() as pipe:\n",
    "                pipe.mset({f'model_{self.backend}': pickle.dumps(self.model)})\n",
    "                pipe.mset({\"inputs\": pickle.dumps(self.inputs)})\n",
    "                pipe.execute()\n",
    "            \n",
    "    \n",
    "    def compute(self, layer_idx):\n",
    "        os.system(get_prediction_cmd(self.backend, self.db_flag, layer_idx))\n",
    "        \n",
    "        # load predictions\n",
    "        self.predictions = pickle.loads(self.redis_server.hget(\"predictions\", self.backend))\n",
    "\n",
    "        # normalize neurons\n",
    "        normalized_outputs = self.predictions/(np.amax(self.predictions) - np.amin(self.predictions))\n",
    "        \n",
    "        # compute fitness\n",
    "        self.fitness_values = np.amax(normalized_outputs, axis=1) - np.amin(normalized_outputs, axis=1)\n",
    "        \n",
    "        return self.fitness_values\n",
    "\n"
   ]
  },
  {
   "cell_type": "markdown",
   "id": "ac177d39",
   "metadata": {},
   "source": [
    "## Testing"
   ]
  },
  {
   "cell_type": "code",
   "execution_count": 8,
   "id": "ff2139e7",
   "metadata": {
    "scrolled": true
   },
   "outputs": [],
   "source": [
    "import os\n",
    "import redis\n",
    "import pickle\n",
    "import subprocess"
   ]
  },
  {
   "cell_type": "code",
   "execution_count": 9,
   "id": "00f15e65",
   "metadata": {
    "scrolled": true
   },
   "outputs": [
    {
     "data": {
      "text/plain": [
       "<Popen: returncode: None args: ['/data/yylaiai/redis/redis-stable/src/redis-...>"
      ]
     },
     "execution_count": 9,
     "metadata": {},
     "output_type": "execute_result"
    },
    {
     "name": "stdout",
     "output_type": "stream",
     "text": [
      "15253:C 07 Jan 2022 12:07:05.740 # oO0OoO0OoO0Oo Redis is starting oO0OoO0OoO0Oo\n",
      "15253:C 07 Jan 2022 12:07:05.740 # Redis version=6.2.6, bits=64, commit=00000000, modified=0, pid=15253, just started\n",
      "15253:C 07 Jan 2022 12:07:05.740 # Warning: no config file specified, using the default config. In order to specify a config file use /data/yylaiai/redis/redis-stable/src/redis-server /path/to/redis.conf\n",
      "15253:M 07 Jan 2022 12:07:05.741 # You requested maxclients of 10000 requiring at least 10032 max file descriptors.\n",
      "15253:M 07 Jan 2022 12:07:05.741 # Server can't set maximum open files to 10032 because of OS error: Operation not permitted.\n",
      "15253:M 07 Jan 2022 12:07:05.741 # Current maximum open files is 4096. maxclients has been reduced to 4064 to compensate for low ulimit. If you need higher maxclients increase 'ulimit -n'.\n",
      "15253:M 07 Jan 2022 12:07:05.741 * monotonic clock: POSIX clock_gettime\n",
      "15253:M 07 Jan 2022 12:07:05.742 # Warning: Could not create server TCP listening socket *:6379: bind: Address already in use\n",
      "15253:M 07 Jan 2022 12:07:05.742 # Failed listening on port 6379 (TCP), aborting.\n"
     ]
    }
   ],
   "source": [
    "redis_server_path = '/data/yylaiai/redis/redis-stable/src/redis-server'\n",
    "subprocess.Popen([redis_server_path])"
   ]
  },
  {
   "cell_type": "code",
   "execution_count": 22,
   "id": "f394d203",
   "metadata": {
    "scrolled": true
   },
   "outputs": [],
   "source": [
    "fit = ['nan', []]\n",
    "model = model\n",
    "dataset = dataset\n",
    "init_input_mut = 0.01\n",
    "init_weight_mut = 0\n",
    "r1 = 0.5\n",
    "r2 = 0.01\n",
    "m = 5\n",
    "n = 50\n",
    "db_flag = 0"
   ]
  },
  {
   "cell_type": "code",
   "execution_count": 23,
   "id": "9bb95926",
   "metadata": {
    "scrolled": true
   },
   "outputs": [
    {
     "data": {
      "text/plain": [
       "True"
      ]
     },
     "execution_count": 23,
     "metadata": {},
     "output_type": "execute_result"
    }
   ],
   "source": [
    "r = redis.Redis(db=db_flag)\n",
    "r.flushdb()"
   ]
  },
  {
   "cell_type": "code",
   "execution_count": 14,
   "id": "8fe33622",
   "metadata": {
    "scrolled": true
   },
   "outputs": [],
   "source": [
    "def ga_main(fit, model, dataset, init_input_mut, init_weight_mut, r1, r2, m, n, db_flag, maxIter):\n",
    "    F = []\n",
    "    fits = []\n",
    "    ga = GA_Torch_CPU(fit, model, dataset, init_input_mut, init_weight_mut, r1, r2, m, n, db_flag)\n",
    "    ga.initPopulation()\n",
    "    ga.prepareFitness()\n",
    "    start_time = time.time()\n",
    "    for i in range(maxIter):\n",
    "        print(\"Running at iteration {}:\".format(i+1))\n",
    "        iter_start_time = time.time()\n",
    "        ga.computeFitness()\n",
    "        top_k_fitness = ga.getTopK_Fit(m)\n",
    "        fits.append(top_k_fitness)\n",
    "        P_prime = ga.select()\n",
    "        test_cases = []\n",
    "        test_cases.extend(P_prime)\n",
    "        while len(test_cases) < ga.n:\n",
    "            x1, x2 = ga.selectParents()\n",
    "            x_prime = ga.crossover()\n",
    "            r = random.uniform(0,1)\n",
    "            if r < ga.r2:\n",
    "                x_2prime = ga.mutate()\n",
    "                test_cases.append(x_2prime)\n",
    "\n",
    "        ga.mutated_inputs = torch.stack(test_cases,0)\n",
    "        ga.update_inputs()\n",
    "        X = ga.checkFailed()\n",
    "        if X != None:\n",
    "            F.extend(X)\n",
    "        iter_end_time = time.time()\n",
    "        \n",
    "        print(\"top {} fitness scores: \".format(m), top_k_fitness[1])\n",
    "        print(\"Taken time: {}\".format(iter_end_time-iter_start_time))\n",
    "        print()\n",
    "    \n",
    "    end_time = time.time()\n",
    "    print(\"Total taken time: {}\".format(end_time-start_time))\n",
    "\n",
    "    return F, fits"
   ]
  },
  {
   "cell_type": "code",
   "execution_count": 15,
   "id": "9d236d81",
   "metadata": {
    "scrolled": true
   },
   "outputs": [],
   "source": [
    "fit_grad = lambda L: [torch.mean(i[1]) for i in L]"
   ]
  },
  {
   "cell_type": "markdown",
   "id": "dccc872b",
   "metadata": {},
   "source": [
    "### Nan fitness testing"
   ]
  },
  {
   "cell_type": "code",
   "execution_count": 24,
   "id": "bb274eae",
   "metadata": {
    "scrolled": true
   },
   "outputs": [
    {
     "name": "stdout",
     "output_type": "stream",
     "text": [
      "Running at iteration 1:\n",
      "top 5 fitness scores:  tensor([1.0000, 0.8128, 0.7253, 0.7147, 0.6462])\n",
      "Taken time: 74.81807732582092\n",
      "\n",
      "Running at iteration 2:\n",
      "top 5 fitness scores:  tensor([1.0000, 0.5518, 0.5259, 0.5245, 0.5225])\n",
      "Taken time: 66.14320158958435\n",
      "\n",
      "Running at iteration 3:\n",
      "top 5 fitness scores:  tensor([1.0000, 0.7672, 0.1730, 0.1715, 0.1702])\n",
      "Taken time: 55.108824014663696\n",
      "\n",
      "Running at iteration 4:\n",
      "top 5 fitness scores:  tensor([0.9457, 0.9400, 0.9392, 0.9390, 0.9389])\n",
      "Taken time: 51.50784349441528\n",
      "\n",
      "Running at iteration 5:\n",
      "top 5 fitness scores:  tensor([0.9769, 0.9605, 0.8024, 0.7260, 0.6484])\n",
      "Taken time: 61.57266402244568\n",
      "\n",
      "Running at iteration 6:\n",
      "top 5 fitness scores:  tensor([1.0000, 0.8678, 0.8668, 0.8483, 0.8382])\n",
      "Taken time: 76.28341126441956\n",
      "\n",
      "Running at iteration 7:\n",
      "top 5 fitness scores:  tensor([1.0000, 0.8937, 0.6651, 0.6613, 0.6430])\n",
      "Taken time: 76.68021297454834\n",
      "\n",
      "Running at iteration 8:\n",
      "top 5 fitness scores:  tensor([1.0000, 0.8073, 0.8019, 0.7672, 0.7523])\n",
      "Taken time: 62.83069896697998\n",
      "\n",
      "Running at iteration 9:\n",
      "top 5 fitness scores:  tensor([1.0000, 0.7544, 0.7424, 0.7318, 0.7192])\n",
      "Taken time: 85.9977171421051\n",
      "\n",
      "Running at iteration 10:\n",
      "top 5 fitness scores:  tensor([0.9711, 0.9561, 0.9540, 0.9370, 0.9279])\n",
      "Taken time: 78.09431314468384\n",
      "\n",
      "Running at iteration 11:\n",
      "top 5 fitness scores:  tensor([0.9477, 0.9425, 0.9398, 0.9389, 0.9370])\n",
      "Taken time: 81.84312391281128\n",
      "\n",
      "Running at iteration 12:\n",
      "top 5 fitness scores:  tensor([0.9616, 0.8249, 0.7366, 0.7287, 0.6834])\n",
      "Taken time: 63.3416862487793\n",
      "\n",
      "Running at iteration 13:\n",
      "top 5 fitness scores:  tensor([1.0000, 0.6666, 0.6448, 0.6303, 0.6033])\n",
      "Taken time: 70.07484221458435\n",
      "\n",
      "Running at iteration 14:\n",
      "top 5 fitness scores:  tensor([1.0000, 0.7597, 0.7161, 0.7151, 0.7114])\n",
      "Taken time: 59.335789918899536\n",
      "\n",
      "Running at iteration 15:\n",
      "top 5 fitness scores:  tensor([0.9316, 0.9289, 0.8708, 0.8525, 0.8459])\n",
      "Taken time: 41.10933971405029\n",
      "\n",
      "Total taken time: 1004.813807964325\n",
      "Running at iteration 1:\n",
      "top 5 fitness scores:  tensor([0.9121, 0.8825, 0.4239, 0.3233, 0.2871])\n",
      "Taken time: 50.096598625183105\n",
      "\n",
      "Running at iteration 2:\n",
      "top 5 fitness scores:  tensor([0.9528, 0.8937, 0.8821, 0.8804, 0.8564])\n",
      "Taken time: 49.562636375427246\n",
      "\n",
      "Running at iteration 3:\n",
      "top 5 fitness scores:  tensor([1.0000, 0.4840, 0.4252, 0.4251, 0.4203])\n",
      "Taken time: 49.32780981063843\n",
      "\n",
      "Running at iteration 4:\n",
      "top 5 fitness scores:  tensor([1.0000, 0.9986, 0.9329, 0.9267, 0.9197])\n",
      "Taken time: 64.88634610176086\n",
      "\n",
      "Running at iteration 5:\n",
      "top 5 fitness scores:  tensor([0.9758, 0.8610, 0.8091, 0.8008, 0.7937])\n",
      "Taken time: 58.55878186225891\n",
      "\n",
      "Running at iteration 6:\n",
      "top 5 fitness scores:  tensor([1.0000, 0.9416, 0.7124, 0.7006, 0.6992])\n",
      "Taken time: 71.76104521751404\n",
      "\n",
      "Running at iteration 7:\n",
      "top 5 fitness scores:  tensor([0.9956, 0.9797, 0.9774, 0.9768, 0.9767])\n",
      "Taken time: 65.11418986320496\n",
      "\n",
      "Running at iteration 8:\n",
      "top 5 fitness scores:  tensor([1.0000, 0.9080, 0.7762, 0.7685, 0.7416])\n",
      "Taken time: 64.5711510181427\n",
      "\n",
      "Running at iteration 9:\n",
      "top 5 fitness scores:  tensor([0.9842, 0.9798, 0.9356, 0.9153, 0.8856])\n",
      "Taken time: 80.81953930854797\n",
      "\n",
      "Running at iteration 10:\n",
      "top 5 fitness scores:  tensor([0.9510, 0.8800, 0.8708, 0.8113, 0.6394])\n",
      "Taken time: 83.9169225692749\n",
      "\n",
      "Running at iteration 11:\n",
      "top 5 fitness scores:  tensor([0.9608, 0.9462, 0.9160, 0.9064, 0.8981])\n",
      "Taken time: 64.53325366973877\n",
      "\n",
      "Running at iteration 12:\n",
      "top 5 fitness scores:  tensor([1.0000, 0.7199, 0.7196, 0.7152, 0.7119])\n",
      "Taken time: 71.07272839546204\n",
      "\n",
      "Running at iteration 13:\n",
      "top 5 fitness scores:  tensor([0.9914, 0.9778, 0.9547, 0.9521, 0.9446])\n",
      "Taken time: 73.60740303993225\n",
      "\n",
      "Running at iteration 14:\n",
      "top 5 fitness scores:  tensor([1.0000, 0.7011, 0.1400, 0.1395, 0.1390])\n",
      "Taken time: 68.0968759059906\n",
      "\n",
      "Running at iteration 15:\n",
      "top 5 fitness scores:  tensor([0.9848, 0.9821, 0.9372, 0.9368, 0.9357])\n",
      "Taken time: 64.41139268875122\n",
      "\n",
      "Total taken time: 980.4243898391724\n",
      "Running at iteration 1:\n",
      "top 5 fitness scores:  tensor([0.9701, 0.8146, 0.3930, 0.3920, 0.3452])\n",
      "Taken time: 70.87270164489746\n",
      "\n",
      "Running at iteration 2:\n",
      "top 5 fitness scores:  tensor([1.0000, 0.7417, 0.7416, 0.7388, 0.6329])\n",
      "Taken time: 79.67280769348145\n",
      "\n",
      "Running at iteration 3:\n",
      "top 5 fitness scores:  tensor([0.9414, 0.9369, 0.8911, 0.8898, 0.8841])\n",
      "Taken time: 57.568212032318115\n",
      "\n",
      "Running at iteration 4:\n",
      "top 5 fitness scores:  tensor([1.0000, 0.4885, 0.4652, 0.4491, 0.4462])\n",
      "Taken time: 52.1981999874115\n",
      "\n",
      "Running at iteration 5:\n",
      "top 5 fitness scores:  tensor([0.9886, 0.9116, 0.9107, 0.9021, 0.8621])\n",
      "Taken time: 51.76746225357056\n",
      "\n",
      "Running at iteration 6:\n",
      "top 5 fitness scores:  tensor([0.9203, 0.8807, 0.8676, 0.8040, 0.8033])\n",
      "Taken time: 58.178653955459595\n",
      "\n",
      "Running at iteration 7:\n",
      "top 5 fitness scores:  tensor([0.9295, 0.9223, 0.9208, 0.9144, 0.9112])\n",
      "Taken time: 54.078763484954834\n",
      "\n",
      "Running at iteration 8:\n",
      "top 5 fitness scores:  tensor([0.9354, 0.9030, 0.8498, 0.8436, 0.8101])\n",
      "Taken time: 66.12806677818298\n",
      "\n",
      "Running at iteration 9:\n",
      "top 5 fitness scores:  tensor([0.9838, 0.8675, 0.8515, 0.8298, 0.8275])\n",
      "Taken time: 88.53501319885254\n",
      "\n",
      "Running at iteration 10:\n",
      "top 5 fitness scores:  tensor([1.0000, 0.6179, 0.5882, 0.5796, 0.5601])\n",
      "Taken time: 57.308107137680054\n",
      "\n",
      "Running at iteration 11:\n",
      "top 5 fitness scores:  tensor([0.9996, 0.9910, 0.9906, 0.9531, 0.9526])\n",
      "Taken time: 56.5050585269928\n",
      "\n",
      "Running at iteration 12:\n",
      "top 5 fitness scores:  tensor([0.9520, 0.9269, 0.9136, 0.9038, 0.8071])\n",
      "Taken time: 69.87309718132019\n",
      "\n",
      "Running at iteration 13:\n",
      "top 5 fitness scores:  tensor([0.9721, 0.9486, 0.8929, 0.8417, 0.7977])\n",
      "Taken time: 75.94723129272461\n",
      "\n",
      "Running at iteration 14:\n",
      "top 5 fitness scores:  tensor([0.8964, 0.8857, 0.7810, 0.7442, 0.7396])\n",
      "Taken time: 52.36407685279846\n",
      "\n",
      "Running at iteration 15:\n",
      "top 5 fitness scores:  tensor([0.9487, 0.8457, 0.7948, 0.7831, 0.7718])\n",
      "Taken time: 53.905693769454956\n",
      "\n",
      "Total taken time: 944.9771256446838\n"
     ]
    }
   ],
   "source": [
    "# With normalizing neurons at the computed layer\n",
    "F1, fits_1 = ga_main(fit, model, dataset, init_input_mut, init_weight_mut, r1, r2, m, 100, db_flag, 15)\n",
    "F2, fits_2 = ga_main(fit, model, dataset, init_input_mut, init_weight_mut, r1, r2, m, 100, db_flag, 15)\n",
    "F3, fits_3 = ga_main(fit, model, dataset, init_input_mut, init_weight_mut, r1, r2, m, 100, db_flag, 15)"
   ]
  },
  {
   "cell_type": "code",
   "execution_count": 25,
   "id": "5596a1d5",
   "metadata": {},
   "outputs": [
    {
     "name": "stdout",
     "output_type": "stream",
     "text": [
      "F1: []\n",
      "F2: []\n",
      "F3: []\n"
     ]
    },
    {
     "data": {
      "image/png": "[encoded data removed]",
      "text/plain": [
       "<Figure size 432x288 with 1 Axes>"
      ]
     },
     "metadata": {
      "needs_background": "light"
     },
     "output_type": "display_data"
    }
   ],
   "source": [
    "plt.plot(fit_grad(fits_1))\n",
    "plt.plot(fit_grad(fits_2))\n",
    "plt.plot(fit_grad(fits_3))\n",
    "\n",
    "print(\"F1: {}\".format(F1))\n",
    "print(\"F2: {}\".format(F2))\n",
    "print(\"F3: {}\".format(F3))"
   ]
  },
  {
   "cell_type": "code",
   "execution_count": 83,
   "id": "0a10d38f",
   "metadata": {
    "scrolled": true
   },
   "outputs": [
    {
     "name": "stdout",
     "output_type": "stream",
     "text": [
      "Running at iteration 1:\n",
      "top 5 fitness scores:  tensor([33.3959, 20.6875, 19.5636, 17.7924, 17.5124])\n",
      "Taken time: 50.43898677825928\n",
      "\n",
      "Running at iteration 2:\n",
      "top 5 fitness scores:  tensor([25.0244, 16.3000, 16.0908, 14.5056, 13.8608])\n",
      "Taken time: 57.706560373306274\n",
      "\n",
      "Running at iteration 3:\n",
      "top 5 fitness scores:  tensor([19.9286, 14.6819, 13.2744, 12.5003, 12.3322])\n",
      "Taken time: 53.69862151145935\n",
      "\n",
      "Running at iteration 4:\n",
      "top 5 fitness scores:  tensor([11.6903, 11.2904, 11.2803, 11.2041, 11.0476])\n",
      "Taken time: 55.25450038909912\n",
      "\n",
      "Running at iteration 5:\n",
      "top 5 fitness scores:  tensor([10.0481,  9.2115,  9.1827,  8.6406,  8.4418])\n",
      "Taken time: 51.98711156845093\n",
      "\n",
      "Running at iteration 6:\n",
      "top 5 fitness scores:  tensor([20.2995, 17.7440, 16.5482, 15.4878, 13.5285])\n",
      "Taken time: 52.93576788902283\n",
      "\n",
      "Running at iteration 7:\n",
      "top 5 fitness scores:  tensor([11.8300, 11.7629, 11.6206, 11.5911, 11.5481])\n",
      "Taken time: 50.78547382354736\n",
      "\n",
      "Running at iteration 8:\n",
      "top 5 fitness scores:  tensor([9.9157, 9.7106, 9.6790, 9.5989, 9.5950])\n",
      "Taken time: 54.59326219558716\n",
      "\n",
      "Running at iteration 9:\n",
      "top 5 fitness scores:  tensor([23.1107, 13.1973,  8.4280,  8.1607,  6.5525])\n",
      "Taken time: 64.53260159492493\n",
      "\n",
      "Running at iteration 10:\n",
      "top 5 fitness scores:  tensor([11.3610, 10.4042,  9.9909,  9.9808,  9.9062])\n",
      "Taken time: 51.006908893585205\n",
      "\n",
      "Total taken time: 542.9739100933075\n",
      "[]\n"
     ]
    },
    {
     "data": {
      "image/png": "[encoded data removed]",
      "text/plain": [
       "<Figure size 432x288 with 1 Axes>"
      ]
     },
     "metadata": {
      "needs_background": "light"
     },
     "output_type": "display_data"
    }
   ],
   "source": [
    "# Without normalization\n",
    "F1, fits_1 = ga_main(fit, model, dataset, init_input_mut, init_weight_mut, r1, r2, m, 100, db_flag, 15)\n",
    "F2, fits_2 = ga_main(fit, model, dataset, init_input_mut, init_weight_mut, r1, r2, m, 100, db_flag, 15)\n",
    "F3, fits_3 = ga_main(fit, model, dataset, init_input_mut, init_weight_mut, r1, r2, m, 100, db_flag, 15)"
   ]
  },
  {
   "cell_type": "code",
   "execution_count": null,
   "id": "9ca0fa10",
   "metadata": {},
   "outputs": [],
   "source": [
    "plt.plot(fit_grad(fits_1))\n",
    "plt.plot(fit_grad(fits_2))\n",
    "plt.plot(fit_grad(fits_3))\n",
    "\n",
    "print(\"F1: {}\".format(F1))\n",
    "print(\"F2: {}\".format(F2))\n",
    "print(\"F3: {}\".format(F3))"
   ]
  },
  {
   "cell_type": "markdown",
   "id": "f7fec945",
   "metadata": {},
   "source": [
    "### Validate the correctness of onnx run"
   ]
  },
  {
   "cell_type": "code",
   "execution_count": 26,
   "id": "938b6b9f",
   "metadata": {
    "scrolled": true
   },
   "outputs": [],
   "source": [
    "import os\n",
    "import onnx\n",
    "import onnx_tf"
   ]
  },
  {
   "cell_type": "code",
   "execution_count": 27,
   "id": "e7fada00",
   "metadata": {
    "scrolled": true
   },
   "outputs": [
    {
     "name": "stderr",
     "output_type": "stream",
     "text": [
      "2022-01-07 13:25:37.233980: E tensorflow/stream_executor/cuda/cuda_driver.cc:271] failed call to cuInit: CUDA_ERROR_UNKNOWN: unknown error\n",
      "2022-01-07 13:25:37.234126: I tensorflow/stream_executor/cuda/cuda_diagnostics.cc:169] retrieving CUDA diagnostic information for host: ugcpu5\n",
      "2022-01-07 13:25:37.234154: I tensorflow/stream_executor/cuda/cuda_diagnostics.cc:176] hostname: ugcpu5\n",
      "2022-01-07 13:25:37.234402: I tensorflow/stream_executor/cuda/cuda_diagnostics.cc:200] libcuda reported version is: 495.29.5\n",
      "2022-01-07 13:25:37.234528: I tensorflow/stream_executor/cuda/cuda_diagnostics.cc:204] kernel reported version is: 495.29.5\n",
      "2022-01-07 13:25:37.234550: I tensorflow/stream_executor/cuda/cuda_diagnostics.cc:310] kernel version seems to match DSO: 495.29.5\n",
      "2022-01-07 13:25:37.235300: I tensorflow/core/platform/cpu_feature_guard.cc:142] This TensorFlow binary is optimized with oneAPI Deep Neural Network Library (oneDNN) to use the following CPU instructions in performance-critical operations:  AVX2 AVX512F FMA\n",
      "To enable them in other operations, rebuild TensorFlow with the appropriate compiler flags.\n"
     ]
    },
    {
     "name": "stdout",
     "output_type": "stream",
     "text": [
      "WARNING:tensorflow:Compiled the loaded model, but the compiled metrics have yet to be built. `model.compile_metrics` will be empty until you train or evaluate the model.\n"
     ]
    },
    {
     "name": "stderr",
     "output_type": "stream",
     "text": [
      "WARNING:tensorflow:Compiled the loaded model, but the compiled metrics have yet to be built. `model.compile_metrics` will be empty until you train or evaluate the model.\n",
      "2022-01-07 13:25:47.956080: W tensorflow/python/util/util.cc:348] Sets are not currently considered sequences, but this may change in the future, so consider avoiding using them.\n"
     ]
    },
    {
     "name": "stdout",
     "output_type": "stream",
     "text": [
      "INFO:tensorflow:Assets written to: model_tf/assets\n"
     ]
    },
    {
     "name": "stderr",
     "output_type": "stream",
     "text": [
      "INFO:tensorflow:Assets written to: model_tf/assets\n",
      "/data/yylaiai/anaconda3/envs/fyp_v3/lib/python3.9/site-packages/keras/utils/generic_utils.py:494: CustomMaskWarning: Custom mask layers require a config and must override get_config. When loading, the custom mask layer must be passed to the custom_objects argument.\n",
      "  warnings.warn('Custom mask layers require a config and must override '\n"
     ]
    }
   ],
   "source": [
    "model_tf = tf.keras.applications.resnet50.ResNet50()\n",
    "model_tf.save('model_tf')"
   ]
  },
  {
   "cell_type": "code",
   "execution_count": 28,
   "id": "33a26f77",
   "metadata": {
    "scrolled": true
   },
   "outputs": [
    {
     "name": "stderr",
     "output_type": "stream",
     "text": [
      "/data/yylaiai/anaconda3/envs/fyp_v1/lib/python3.9/runpy.py:127: RuntimeWarning: 'tf2onnx.convert' found in sys.modules after import of package 'tf2onnx', but prior to execution of 'tf2onnx.convert'; this may result in unpredictable behaviour\n",
      "  warn(RuntimeWarning(msg))\n",
      "2022-01-07 13:31:51,071 - WARNING - '--tag' not specified for saved_model. Using --tag serve\n",
      "2022-01-07 13:31:58,550 - INFO - Signatures found in model: [serving_default].\n",
      "2022-01-07 13:31:58,550 - WARNING - '--signature_def' not specified, using first signature: serving_default\n",
      "2022-01-07 13:31:58,552 - INFO - Output names: ['predictions']\n",
      "WARNING:tensorflow:From /data/yylaiai/anaconda3/envs/fyp_v1/lib/python3.9/site-packages/tf2onnx/tf_loader.py:706: extract_sub_graph (from tensorflow.python.framework.graph_util_impl) is deprecated and will be removed in a future version.\n",
      "Instructions for updating:\n",
      "Use `tf.compat.v1.graph_util.extract_sub_graph`\n",
      "2022-01-07 13:32:01,766 - WARNING - From /data/yylaiai/anaconda3/envs/fyp_v1/lib/python3.9/site-packages/tf2onnx/tf_loader.py:706: extract_sub_graph (from tensorflow.python.framework.graph_util_impl) is deprecated and will be removed in a future version.\n",
      "Instructions for updating:\n",
      "Use `tf.compat.v1.graph_util.extract_sub_graph`\n",
      "2022-01-07 13:32:04,173 - INFO - Using tensorflow=2.7.0, onnx=1.10.2, tf2onnx=1.9.3/1190aa\n",
      "2022-01-07 13:32:04,174 - INFO - Using opset <onnx, 9>\n",
      "2022-01-07 13:32:26,496 - INFO - Computed 0 values for constant folding\n",
      "2022-01-07 13:32:40,831 - INFO - Optimizing ONNX model\n",
      "2022-01-07 13:32:44,518 - INFO - After optimization: Add -1 (18->17), BatchNormalization -53 (53->0), Const -162 (270->108), GlobalAveragePool +1 (0->1), Identity -57 (57->0), ReduceMean -1 (1->0), Squeeze +1 (0->1), Transpose -213 (214->1)\n",
      "2022-01-07 13:32:45,350 - INFO - \n",
      "2022-01-07 13:32:45,350 - INFO - Successfully converted TensorFlow model model_tf to ONNX\n",
      "2022-01-07 13:32:45,351 - INFO - Model inputs: ['input_1']\n",
      "2022-01-07 13:32:45,351 - INFO - Model outputs: ['predictions']\n",
      "2022-01-07 13:32:45,351 - INFO - ONNX model is saved at model_tf.onnx\n"
     ]
    },
    {
     "data": {
      "text/plain": [
       "0"
      ]
     },
     "execution_count": 28,
     "metadata": {},
     "output_type": "execute_result"
    }
   ],
   "source": [
    "# export model to onnx\n",
    "os.system(f\"python -m tf2onnx.convert --saved-model model_tf --output model_tf.onnx\")"
   ]
  },
  {
   "cell_type": "code",
   "execution_count": 29,
   "id": "998137e2",
   "metadata": {
    "scrolled": true
   },
   "outputs": [],
   "source": [
    "onnx_model = onnx.load('model_tf.onnx')\n",
    "tf_rep = onnx_tf.backend.prepare(onnx_model)"
   ]
  },
  {
   "cell_type": "code",
   "execution_count": 33,
   "id": "4d6e03de",
   "metadata": {},
   "outputs": [],
   "source": [
    "dataset_tf = dataset.permute((0, 2, 3, 1)).numpy()"
   ]
  },
  {
   "cell_type": "code",
   "execution_count": 34,
   "id": "664fb5f3",
   "metadata": {
    "scrolled": true
   },
   "outputs": [
    {
     "name": "stderr",
     "output_type": "stream",
     "text": [
      "2022-01-07 13:49:02.567094: I tensorflow/compiler/mlir/mlir_graph_optimization_pass.cc:185] None of the MLIR Optimization Passes are enabled (registered 2)\n"
     ]
    },
    {
     "data": {
      "text/plain": [
       "array([[5.85776543e-05, 4.85575787e-04, 4.97397923e-05, ...,\n",
       "        1.24047037e-05, 1.17894815e-04, 4.24420135e-03],\n",
       "       [8.38731921e-06, 5.04803029e-04, 1.79550134e-05, ...,\n",
       "        2.14370493e-06, 6.03210901e-05, 7.88543653e-03],\n",
       "       [1.60959535e-04, 2.98178551e-04, 1.02559607e-04, ...,\n",
       "        1.59107822e-05, 1.65680976e-04, 4.98573808e-03],\n",
       "       ...,\n",
       "       [5.47966847e-05, 3.86243919e-04, 8.11511272e-05, ...,\n",
       "        8.58753265e-06, 7.85643715e-05, 8.40683281e-03],\n",
       "       [1.08067303e-04, 3.11874406e-04, 7.45441139e-05, ...,\n",
       "        1.64659941e-05, 2.08112062e-04, 3.43053369e-03],\n",
       "       [7.98829205e-05, 7.42220960e-04, 2.37186570e-04, ...,\n",
       "        7.68165319e-06, 4.31897133e-05, 9.75373946e-03]], dtype=float32)"
      ]
     },
     "execution_count": 34,
     "metadata": {},
     "output_type": "execute_result"
    }
   ],
   "source": [
    "# Predictions from onnx model\n",
    "tf_rep.run(dataset_tf.astype(np.float32))[0]"
   ]
  },
  {
   "cell_type": "code",
   "execution_count": 36,
   "id": "9b3a0ee3",
   "metadata": {
    "scrolled": true
   },
   "outputs": [
    {
     "data": {
      "text/plain": [
       "array([[5.85777452e-05, 4.85575409e-04, 4.97398469e-05, ...,\n",
       "        1.24046628e-05, 1.17894378e-04, 4.24419576e-03],\n",
       "       [8.38735104e-06, 5.04805183e-04, 1.79550643e-05, ...,\n",
       "        2.14371084e-06, 6.03208064e-05, 7.88541697e-03],\n",
       "       [1.60959724e-04, 2.98177591e-04, 1.02559876e-04, ...,\n",
       "        1.59107913e-05, 1.65681093e-04, 4.98571992e-03],\n",
       "       ...,\n",
       "       [5.47971104e-05, 3.86244705e-04, 8.11515274e-05, ...,\n",
       "        8.58758722e-06, 7.85639349e-05, 8.40677414e-03],\n",
       "       [1.08067557e-04, 3.11874115e-04, 7.45446450e-05, ...,\n",
       "        1.64660341e-05, 2.08112164e-04, 3.43054160e-03],\n",
       "       [7.98831970e-05, 7.42221775e-04, 2.37187836e-04, ...,\n",
       "        7.68170958e-06, 4.31898625e-05, 9.75376554e-03]], dtype=float32)"
      ]
     },
     "execution_count": 36,
     "metadata": {},
     "output_type": "execute_result"
    }
   ],
   "source": [
    "# Predictions from original keras model\n",
    "model_tf.predict(dataset_tf)"
   ]
  },
  {
   "cell_type": "markdown",
   "id": "7ddc159c",
   "metadata": {},
   "source": [
    "### Comparing results from onnx-tf model and pytorch model"
   ]
  },
  {
   "cell_type": "code",
   "execution_count": 37,
   "id": "d143e31d",
   "metadata": {
    "scrolled": true
   },
   "outputs": [
    {
     "name": "stderr",
     "output_type": "stream",
     "text": [
      "Using cache found in /data/yylaiai/.cache/torch/hub/pytorch_vision_v0.10.0\n"
     ]
    }
   ],
   "source": [
    "# load model\n",
    "model = torch.hub.load('pytorch/vision:v0.10.0', 'alexnet', pretrained=True)\n",
    "\n",
    "# export torch model to onnx model\n",
    "torch.onnx.export(model, dataset, 'resnet18.onnx')"
   ]
  },
  {
   "cell_type": "code",
   "execution_count": 38,
   "id": "2c71a8d8",
   "metadata": {
    "scrolled": true
   },
   "outputs": [],
   "source": [
    "onnx_model = onnx.load('resnet18.onnx')\n",
    "tf_rep = onnx_tf.backend.prepare(onnx_model)"
   ]
  },
  {
   "cell_type": "code",
   "execution_count": 39,
   "id": "a820fd9a",
   "metadata": {
    "scrolled": true
   },
   "outputs": [
    {
     "data": {
      "text/plain": [
       "array([[ 2.3780732 , -0.51659006,  1.9087082 , ..., -1.1365998 ,\n",
       "         2.4594085 ,  1.848294  ],\n",
       "       [-2.7463188 ,  0.10963102, -0.05917203, ..., -4.711442  ,\n",
       "        -1.3287668 ,  2.734512  ],\n",
       "       [ 7.179214  , -0.3559491 ,  1.1968242 , ...,  3.5934122 ,\n",
       "         3.804097  , -1.9294106 ],\n",
       "       ...,\n",
       "       [ 3.6938746 ,  0.26586753,  2.7453773 , ...,  0.81940216,\n",
       "         2.6023164 ,  2.3077004 ],\n",
       "       [ 1.6574767 , -0.70285517,  0.18333775, ..., -0.13651896,\n",
       "         2.323092  ,  4.7655525 ],\n",
       "       [-0.06873637, -0.06405656,  1.4623221 , ..., -1.7709255 ,\n",
       "         1.1293014 ,  2.1824486 ]], dtype=float32)"
      ]
     },
     "execution_count": 39,
     "metadata": {},
     "output_type": "execute_result"
    }
   ],
   "source": [
    "# Predictions from onnx model with tensorflow framework\n",
    "tf_p = tf_rep.run(dataset.numpy())[0]\n",
    "tf_p"
   ]
  },
  {
   "cell_type": "code",
   "execution_count": 56,
   "id": "76200f16",
   "metadata": {
    "scrolled": false
   },
   "outputs": [
    {
     "data": {
      "text/plain": [
       "array([[ 0.36748672, -0.24576497,  1.077612  , ..., -1.3097494 ,\n",
       "         0.24092245,  0.24740127],\n",
       "       [-2.2053335 ,  1.1937183 , -1.7171804 , ..., -4.219491  ,\n",
       "         1.3493766 ,  1.6978506 ],\n",
       "       [ 3.6377506 , -1.0120234 , -1.264333  , ...,  1.0870712 ,\n",
       "         2.485309  , -1.2884173 ],\n",
       "       ...,\n",
       "       [-1.085905  ,  0.5861136 ,  0.7961475 , ..., -1.7448101 ,\n",
       "        -0.53566414, -0.1074152 ],\n",
       "       [-0.6161134 , -3.0822282 ,  0.47919106, ..., -1.5526303 ,\n",
       "         0.37363994,  1.4942672 ],\n",
       "       [-1.1715766 , -1.2087795 ,  2.4718966 , ..., -2.9932578 ,\n",
       "         1.3102981 , -0.6611268 ]], dtype=float32)"
      ]
     },
     "execution_count": 56,
     "metadata": {},
     "output_type": "execute_result"
    }
   ],
   "source": [
    "# Predictions from original pytorch model\n",
    "torch_p = model(dataset)\n",
    "torch_p.detach().numpy()"
   ]
  },
  {
   "cell_type": "code",
   "execution_count": 58,
   "id": "6df7f09f",
   "metadata": {},
   "outputs": [
    {
     "data": {
      "text/plain": [
       "array([740, 453,   0, 861, 419, 453, 624, 608, 834, 480, 813, 453, 499,\n",
       "       799, 955, 843, 740, 785, 419, 453, 929, 648, 617, 617, 617, 617,\n",
       "       617, 617, 453, 617, 886, 617, 617, 617, 624, 617, 713, 617, 648,\n",
       "       617, 617, 905, 589, 453, 922, 905, 617, 617, 454, 617, 453, 617,\n",
       "       617, 617, 648, 617, 617, 453, 922, 617, 921, 611, 617, 453, 617,\n",
       "       617, 617, 419, 904, 939, 522, 903, 813, 589, 937, 929, 838, 419,\n",
       "       903, 813, 813, 838, 813, 474, 838, 939, 419, 453, 610, 451, 617,\n",
       "       617, 457, 457, 617, 457, 457, 457, 451, 453])"
      ]
     },
     "execution_count": 58,
     "metadata": {},
     "output_type": "execute_result"
    }
   ],
   "source": [
    "np.argmax(tf_p, 1)"
   ]
  },
  {
   "cell_type": "code",
   "execution_count": 59,
   "id": "abfa8dae",
   "metadata": {},
   "outputs": [
    {
     "data": {
      "text/plain": [
       "array([587, 477, 837, 758, 674, 374, 618, 583, 758, 583,  33, 853, 407,\n",
       "       862, 191, 295, 229, 736, 413, 587, 929, 502, 543, 415, 124, 712,\n",
       "       733, 778, 480, 424, 265, 121, 852, 173, 692, 586, 859, 112, 415,\n",
       "       723, 173, 811, 208, 676, 749, 905, 733, 700, 868,  61, 891, 582,\n",
       "       543, 804, 921, 586, 333, 401, 692, 860, 549, 111, 733, 784, 257,\n",
       "       794, 752, 784, 905, 703, 574,   5, 655, 501, 539, 155, 676, 773,\n",
       "       885, 156, 971, 419, 619, 155, 703, 703, 872, 454, 501, 599, 184,\n",
       "       747, 879, 546, 571, 674, 770, 691, 558, 913])"
      ]
     },
     "execution_count": 59,
     "metadata": {},
     "output_type": "execute_result"
    }
   ],
   "source": [
    "np.argmax(torch_p.detach().numpy(), 1)"
   ]
  },
  {
   "cell_type": "markdown",
   "id": "00c88780",
   "metadata": {},
   "source": [
    "### Comparing the top-k results"
   ]
  },
  {
   "cell_type": "code",
   "execution_count": 114,
   "id": "472a9fda",
   "metadata": {
    "scrolled": true
   },
   "outputs": [
    {
     "data": {
      "text/plain": [
       "tensor([[740, 784, 798,  87, 419],\n",
       "        [453, 624, 454, 481, 917],\n",
       "        [  0, 838, 939, 929, 955],\n",
       "        [861, 714, 917, 971, 610],\n",
       "        [419, 740, 589, 813, 784],\n",
       "        [453, 398, 624, 495, 611],\n",
       "        [624, 424, 453, 740, 813],\n",
       "        [608, 834, 474, 793, 813],\n",
       "        [834, 499, 813, 785, 419],\n",
       "        [480, 799, 904, 707, 766],\n",
       "        [813, 457, 785, 740, 784],\n",
       "        [453, 648, 495, 496, 624],\n",
       "        [499, 419, 785, 939, 617],\n",
       "        [799, 834, 499, 904, 457],\n",
       "        [955, 843, 838, 929, 904],\n",
       "        [843, 904, 838, 929,   0],\n",
       "        [740, 784, 587, 499, 731],\n",
       "        [785, 834, 620,   0, 851],\n",
       "        [419, 617, 813, 499, 740],\n",
       "        [453, 624, 454, 481, 419],\n",
       "        [929, 838,   0, 772, 419],\n",
       "        [648, 453, 617, 495, 424],\n",
       "        [617, 834, 543, 432, 419],\n",
       "        [617, 838, 454, 415, 624],\n",
       "        [617, 424, 419, 589, 585],\n",
       "        [617, 713, 793, 589, 861],\n",
       "        [617, 419, 834, 457, 905],\n",
       "        [617, 453, 813, 419, 457],\n",
       "        [453, 624, 480, 454, 617],\n",
       "        [617, 424, 713, 678, 457],\n",
       "        [886, 454, 860, 440, 648],\n",
       "        [617, 620, 499, 589, 424],\n",
       "        [617, 834, 523, 678, 457],\n",
       "        [617, 424, 457, 834, 793],\n",
       "        [624, 617, 918, 454, 917],\n",
       "        [617, 713, 424, 813, 499],\n",
       "        [713, 617, 480, 813, 732],\n",
       "        [617, 419, 838, 678, 118],\n",
       "        [648, 617, 515, 903, 424],\n",
       "        [617, 424, 713, 652, 845],\n",
       "        [617, 424, 523, 457, 678],\n",
       "        [905, 904, 799, 789, 453],\n",
       "        [589, 905, 838, 678, 740],\n",
       "        [453, 454, 624, 481, 648],\n",
       "        [922, 918, 838, 446, 617],\n",
       "        [905, 904, 834, 794, 799],\n",
       "        [617, 589, 419, 999, 813],\n",
       "        [617, 610, 700, 419, 648],\n",
       "        [454, 922, 478, 918, 611],\n",
       "        [617, 624, 454, 424, 453],\n",
       "        [453, 620, 798, 624, 743],\n",
       "        [617, 624, 453, 648, 419],\n",
       "        [617, 610, 813, 553, 542],\n",
       "        [617, 589, 499, 457, 432],\n",
       "        [648, 453, 589, 617, 419],\n",
       "        [617, 424, 453, 624, 648],\n",
       "        [617, 589, 419, 610, 823],\n",
       "        [453, 454, 624, 740, 784],\n",
       "        [922, 480, 916, 605, 782],\n",
       "        [617, 624, 419, 453, 454],\n",
       "        [921, 589, 922, 794, 419],\n",
       "        [611, 432, 798, 823, 999],\n",
       "        [617, 589, 419, 432, 610],\n",
       "        [453, 624, 454, 917, 481],\n",
       "        [617, 432, 813, 905, 918],\n",
       "        [617, 798, 922, 446, 610],\n",
       "        [617, 793, 610, 424, 457],\n",
       "        [419, 648, 617, 784, 918],\n",
       "        [904, 419, 905, 838, 799],\n",
       "        [939, 937, 735, 841, 474],\n",
       "        [522, 574, 772, 523, 542],\n",
       "        [903, 419, 610, 589, 585],\n",
       "        [813, 419, 474, 585, 648],\n",
       "        [589, 419, 610, 542, 903],\n",
       "        [937, 939, 955, 738, 938],\n",
       "        [929, 813, 838, 522,   0],\n",
       "        [838, 903, 617, 419, 851],\n",
       "        [419, 589, 793, 585, 813],\n",
       "        [903, 610, 929, 474, 585],\n",
       "        [813, 738, 937, 939, 124],\n",
       "        [813, 589, 784, 499, 419],\n",
       "        [838, 419, 918, 453, 798],\n",
       "        [813, 118, 589, 927, 793],\n",
       "        [474, 841, 610, 813, 929],\n",
       "        [838, 929, 522, 474, 955],\n",
       "        [939,   0, 937, 929, 938],\n",
       "        [419, 793, 903, 813, 589],\n",
       "        [453, 624, 454, 917, 481],\n",
       "        [610, 474, 841, 929, 419],\n",
       "        [451, 611, 737, 838, 441],\n",
       "        [617, 457, 834, 823, 785],\n",
       "        [617, 424, 834, 451, 457],\n",
       "        [457, 411, 917, 617, 451],\n",
       "        [457, 918, 916, 917, 451],\n",
       "        [617, 784, 823, 480, 457],\n",
       "        [457, 906, 617, 834, 451],\n",
       "        [457, 617, 515, 740, 784],\n",
       "        [457, 918, 617, 451, 813],\n",
       "        [451, 617, 834, 906, 457],\n",
       "        [453, 624, 617, 457, 917]])"
      ]
     },
     "execution_count": 114,
     "metadata": {},
     "output_type": "execute_result"
    }
   ],
   "source": [
    "# top-k results from pytorch model\n",
    "torch.topk(torch.tensor(tf_p), 5, 1)[1]"
   ]
  },
  {
   "cell_type": "code",
   "execution_count": 113,
   "id": "7543ec4f",
   "metadata": {
    "scrolled": true
   },
   "outputs": [
    {
     "name": "stderr",
     "output_type": "stream",
     "text": [
      "/tmp/ipykernel_20970/1464738197.py:1: UserWarning: To copy construct from a tensor, it is recommended to use sourceTensor.clone().detach() or sourceTensor.clone().detach().requires_grad_(True), rather than torch.tensor(sourceTensor).\n",
      "  torch.topk(torch.tensor(torch_p), 5, 1)[1]\n"
     ]
    },
    {
     "data": {
      "text/plain": [
       "tensor([[587, 758, 696, 593, 764],\n",
       "        [477, 453, 784, 917, 587],\n",
       "        [837, 843, 836, 237, 240],\n",
       "        [758, 695, 455, 902, 783],\n",
       "        [674, 313, 523, 722, 305],\n",
       "        [374, 448, 865,  17, 726],\n",
       "        [618, 587, 877, 666, 899],\n",
       "        [583, 234, 539, 894, 739],\n",
       "        [758, 843, 731, 785, 882],\n",
       "        [583, 234, 161, 164, 827],\n",
       "        [ 33, 659, 961,  53, 390],\n",
       "        [853, 398, 464, 227, 915],\n",
       "        [407, 469, 609, 745, 756],\n",
       "        [862, 462, 644, 722, 792],\n",
       "        [191, 189, 188, 104, 158],\n",
       "        [295, 339, 235, 355, 104],\n",
       "        [229, 187, 854, 722, 105],\n",
       "        [736, 785, 620, 764, 851],\n",
       "        [413, 609, 764, 796, 743],\n",
       "        [587, 758, 845, 784, 456],\n",
       "        [929, 522, 429, 593, 902],\n",
       "        [502, 788, 855, 116, 648],\n",
       "        [543, 422, 733, 450, 430],\n",
       "        [415, 860, 509, 582, 762],\n",
       "        [124, 990,  86, 118, 733],\n",
       "        [712, 899, 680, 666, 804],\n",
       "        [733, 852, 805, 430, 890],\n",
       "        [778, 617, 467, 600, 517],\n",
       "        [480, 707, 859, 124, 676],\n",
       "        [424, 423, 739, 678, 506],\n",
       "        [265, 151, 855, 219, 868],\n",
       "        [121, 674, 830, 118, 310],\n",
       "        [852, 213, 221, 768, 206],\n",
       "        [173,   8, 852,   7, 395],\n",
       "        [692, 845, 769, 438, 124],\n",
       "        [586, 830, 595, 856, 313],\n",
       "        [859, 891, 534, 726, 827],\n",
       "        [112, 739, 778, 897,  51],\n",
       "        [415, 957, 580, 778, 868],\n",
       "        [723, 265, 778, 274, 676],\n",
       "        [173, 355, 215, 676, 188],\n",
       "        [811, 676, 164, 588, 905],\n",
       "        [208, 195, 168, 209, 237],\n",
       "        [676, 765, 477, 559, 758],\n",
       "        [749, 126, 921, 692, 868],\n",
       "        [905, 904, 490, 753, 811],\n",
       "        [733, 382, 378, 356, 456],\n",
       "        [700, 731, 606, 999, 868],\n",
       "        [868, 505, 692, 588, 921],\n",
       "        [ 61, 488,  60, 408, 348],\n",
       "        [891, 559, 588, 790, 810],\n",
       "        [582, 786, 830, 754, 895],\n",
       "        [543, 902, 674, 813, 644],\n",
       "        [804, 844, 473, 626, 892],\n",
       "        [921, 626, 507, 722, 733],\n",
       "        [586, 751, 864, 413, 764],\n",
       "        [333, 111, 923, 921, 868],\n",
       "        [401, 477, 230, 231, 520],\n",
       "        [692, 922, 754, 710, 651],\n",
       "        [860, 781, 415, 788, 582],\n",
       "        [549, 921, 631, 692, 823],\n",
       "        [111, 977, 868, 842, 639],\n",
       "        [733, 644, 722, 749, 623],\n",
       "        [784, 477, 917, 481, 772],\n",
       "        [257, 744, 812, 409, 254],\n",
       "        [794, 999, 700, 435, 896],\n",
       "        [752, 583, 617, 743, 722],\n",
       "        [784, 845, 463, 626, 921],\n",
       "        [905, 284, 904, 643, 971],\n",
       "        [703, 879, 858, 428, 870],\n",
       "        [574, 226, 256, 176, 232],\n",
       "        [  5, 921, 903, 745, 501],\n",
       "        [655, 788, 735, 589, 474],\n",
       "        [501, 903, 459, 610, 220],\n",
       "        [539, 738, 428, 937, 658],\n",
       "        [155, 787, 204, 200, 254],\n",
       "        [676, 851, 213,  29, 782],\n",
       "        [773, 155, 619, 283, 470],\n",
       "        [885, 282, 281, 200, 155],\n",
       "        [156, 738, 154, 428, 152],\n",
       "        [971, 894, 155, 733, 818],\n",
       "        [419, 838, 452, 478, 720],\n",
       "        [619, 846,  87, 855, 968],\n",
       "        [155, 254, 884, 154, 643],\n",
       "        [703, 870, 412, 637, 929],\n",
       "        [703, 735, 428, 984, 200],\n",
       "        [872, 710, 818, 626, 763],\n",
       "        [454, 453, 624,  23, 687],\n",
       "        [501, 434, 911, 840, 568],\n",
       "        [599, 410,  34,  33, 237],\n",
       "        [184, 267,  34, 463, 206],\n",
       "        [747, 819, 807, 833, 705],\n",
       "        [879, 412, 750, 581, 791],\n",
       "        [546, 401, 750, 692, 171],\n",
       "        [571, 581, 534, 859, 541],\n",
       "        [674, 691, 151, 306, 473],\n",
       "        [770,  65, 124, 171,  71],\n",
       "        [691, 676, 530, 397, 251],\n",
       "        [558, 456, 494, 541, 822],\n",
       "        [913, 819, 536,  51, 427]])"
      ]
     },
     "execution_count": 113,
     "metadata": {},
     "output_type": "execute_result"
    }
   ],
   "source": [
    "# top-k results from onnx-tf model\n",
    "torch.topk(torch.tensor(torch_p), 5, 1)[1]"
   ]
  },
  {
   "cell_type": "markdown",
   "id": "b26fa67d",
   "metadata": {},
   "source": [
    "### Comparing inconsistency fitness score of the same images and different images from different frameworks "
   ]
  },
  {
   "cell_type": "code",
   "execution_count": null,
   "id": "e13eaf6b",
   "metadata": {
    "scrolled": false
   },
   "outputs": [],
   "source": [
    "normal_fits = []\n",
    "diff_fits = []\n",
    "\n",
    "for x, label in loader:\n",
    "    dataset = x\n",
    "    \n",
    "    # compute inconsistency fitness with different inputs\n",
    "    tf_p = tf_rep.run(dataset.to('cpu').numpy()[:50])[0]\n",
    "    torch_p = model(dataset[50:])\n",
    "\n",
    "    tf_prob = tf.nn.softmax(tf_p, 1)\n",
    "    torch_prob = torch.nn.functional.softmax(torch_p, dim=1)\n",
    "\n",
    "    predictions_diff = np.abs(torch_prob.detach().numpy()-tf_prob)\n",
    "    fitness_values = np.sum(predictions_diff**2, axis=1) / len(torch_prob)\n",
    "\n",
    "    diff_fits.append((torch.sum(torch.topk(torch.tensor(fitness_values), 5)[0])/5).item())\n",
    "    \n",
    "    \n",
    "    # compute inconsistency fitness with the same inputs\n",
    "    tf_p = tf_rep.run(dataset.to('cpu').numpy()[:50])[0]\n",
    "    torch_p = model(dataset[:50])\n",
    "\n",
    "    tf_prob = tf.nn.softmax(tf_p, 1)\n",
    "    torch_prob = torch.nn.functional.softmax(torch_p, dim=1)\n",
    "\n",
    "    predictions_diff = np.abs(torch_prob.detach().numpy()-tf_prob)\n",
    "    fitness_values = np.sum(predictions_diff**2, axis=1) / len(torch_prob)\n",
    "\n",
    "    normal_fits.append((torch.sum(torch.topk(torch.tensor(fitness_values), 5)[0])/5).item())\n"
   ]
  },
  {
   "cell_type": "code",
   "execution_count": 122,
   "id": "7a9e132a",
   "metadata": {
    "scrolled": true
   },
   "outputs": [
    {
     "data": {
      "image/png": "[encoded data removed]",
      "text/plain": [
       "<Figure size 432x288 with 1 Axes>"
      ]
     },
     "metadata": {
      "needs_background": "light"
     },
     "output_type": "display_data"
    }
   ],
   "source": [
    "# plot lines\n",
    "plt.plot(normal_fits, label = \"with the same inputs\")\n",
    "plt.plot(diff_fits, label = \"with different inputs\")\n",
    "plt.legend()\n",
    "plt.show()"
   ]
  },
  {
   "cell_type": "code",
   "execution_count": null,
   "id": "377c92e3",
   "metadata": {},
   "outputs": [],
   "source": []
  }
 ],
 "metadata": {
  "kernelspec": {
   "display_name": "fyp_v3",
   "language": "python",
   "name": "fyp_v3"
  },
  "language_info": {
   "codemirror_mode": {
    "name": "ipython",
    "version": 3
   },
   "file_extension": ".py",
   "mimetype": "text/x-python",
   "name": "python",
   "nbconvert_exporter": "python",
   "pygments_lexer": "ipython3",
   "version": "3.9.7"
  }
 },
 "nbformat": 4,
 "nbformat_minor": 5
}
