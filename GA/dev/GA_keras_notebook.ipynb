{
 "cells": [
  {
   "cell_type": "code",
   "execution_count": 1,
   "id": "4c297c64",
   "metadata": {},
   "outputs": [
    {
     "name": "stderr",
     "output_type": "stream",
     "text": [
      "Using TensorFlow backend.\n"
     ]
    }
   ],
   "source": [
    "from GA_keras import GA, ga_main\n",
    "import tensorflow as tf\n",
    "import keras\n",
    "import numpy as np\n",
    "import cv2\n",
    "import redis\n",
    "import pickle\n",
    "import matplotlib.pyplot as plt\n",
    "from multiprocessing import Pool, Process\n",
    "from tqdm import tqdm\n",
    "import os\n"
   ]
  },
  {
   "cell_type": "code",
   "execution_count": 270,
   "id": "d003f946",
   "metadata": {},
   "outputs": [],
   "source": [
    "'''\n",
    "Helper functions\n",
    "'''\n",
    "\n",
    "# save mutated inputs\n",
    "def save_ckpt(mutated_inputs, fitness_func, model_name, dl_framework, db_flag=5):\n",
    "    r = redis.Redis(db=db_flag)\n",
    "    r.hset(f\"{fitness_func}_{model_name}_ckpt\",  dl_framework, pickle.dumps(mutated_inputs))\n",
    "    \n",
    "'''\n",
    "example of usage:\n",
    "save_ckpt(ga.selected_x, 'inc', 'vgg16', 'tf_th', db_flag=5)\n",
    "'''\n",
    "\n",
    "# load muated inputs\n",
    "def load_ckpt(fitness_func, model_name, dl_framework, db_flag=5):\n",
    "    r = redis.Redis(db=db_flag)\n",
    "    return pickle.loads(r.hget(f\"{fitness_func}_{model_name}_ckpt\", dl_framework))\n",
    "\n",
    "'''\n",
    "example of usage:\n",
    "inc_ckpt = load_ckpt('inc', 'vgg16', 'tf_th', db_flag=5)\n",
    "'''\n",
    "\n",
    "# plot fitness values over iterations\n",
    "def plot_fits(fits):\n",
    "    fit_grad = lambda L: [np.mean(i[1]) for i in L]\n",
    "    plt.plot(fit_grad(fits))\n",
    "    \n",
    "'''\n",
    "example of usage:\n",
    "plot_fits(fits)\n",
    "'''\n",
    "\n",
    "# From existing dataset, find the k inputs with the highest fitness values\n",
    "def get_highest_fits(fit, model, X, layer_idx, db_flag, k, num_batch):\n",
    "    '''\n",
    "    X: shape of 4 dim\n",
    "    '''\n",
    "    def get_fits(fit, model, x, layer_idx, db_flag, k):\n",
    "        ga = GA(fit, model, x, db_flag)\n",
    "        ga.mutated_inputs = x\n",
    "        ga.prepareFitness()\n",
    "        ga.computeFitness(layer_idx)\n",
    "        i, f = ga.getTopK_Fit(k)\n",
    "        return i, f\n",
    "    \n",
    "    X = np.array(np.array_split(X, num_batch))\n",
    "    topInputs, topFits = get_fits(fit, model, X[0], layer_idx, db_flag, k)\n",
    "    for x in tqdm(X[1:]):\n",
    "        i, f = get_fits(fit, model, x, layer_idx, db_flag, k)\n",
    "        topInputs = np.concatenate([topInputs, i])\n",
    "        topFits = np.concatenate([topFits, f])\n",
    "        \n",
    "    topk_idx = np.argpartition(topFits, -k)[-k:]\n",
    "    topkInputs = topInputs[topk_idx]\n",
    "    topkFits = topFits[topk_idx]\n",
    "    \n",
    "    return topkInputs, topkFits\n",
    "\n",
    "'''\n",
    "example of usage:\n",
    "I, F = get_highest_fits(fit, model, x_test_224[:50], layer_idx, db_flag, 5, 2)\n",
    "'''\n",
    "\n",
    "def get_fits(fit, model, x, layer_idx, db_flag):\n",
    "    ga = GA(fit, model, x, db_flag)\n",
    "    ga.mutated_inputs = x\n",
    "    ga.prepareFitness()\n",
    "    return ga.computeFitness(layer_idx)\n",
    "    \n",
    "# From existing dataset, rank inputs and fits in descending fit value\n",
    "def rank_fits(fit, model, X, layer_idx, db_flag, num_batch):\n",
    "    X = np.array(np.array_split(X, num_batch))\n",
    "    fit_values = get_fits(fit, model, X[0], layer_idx, db_flag)\n",
    "    for x in tqdm(X[1:]):\n",
    "        f = get_fits(fit, model, x, layer_idx, db_flag)\n",
    "        fit_values = np.concatenate([fit_values, f])\n",
    "        \n",
    "    fit_ranks = []\n",
    "    for idx, f in np.ndenumerate(fit_values):\n",
    "        fit_ranks.append([idx[0], f])\n",
    "    \n",
    "    return sorted(fit_ranks, key=lambda x: x[1], reverse=True)\n",
    "\n",
    "def get_prediction_cmd(model_framework, db_flag, layer_idx):\n",
    "    cmd = f\"/data/yylaiai/anaconda3/envs/tf_th/bin/python get_prediction_keras.py {model_framework} {db_flag} {layer_idx}\"\n",
    "    return cmd\n",
    "\n",
    "# From existing dataset, find inputs which have different prediction results between frameworks\n",
    "def get_diff_predictions_inputs(model, X, backends, layer_idx, db_flag, num_batch):\n",
    "    r = redis.Redis(db=db_flag)\n",
    "    r.flushdb()\n",
    "    \n",
    "    backend_1, backend_2 = backends\n",
    "    r.mset({\"model\": pickle.dumps(model)})\n",
    "    X = np.array(np.array_split(X, num_batch))\n",
    "    inc_idxs = np.array([])\n",
    "    for i in tqdm(range(len(X))):\n",
    "        x = X[i]\n",
    "        r.mset({\"inputs\": pickle.dumps(x)})\n",
    "        \n",
    "        p1 = Process(target=lambda: os.system(get_prediction_cmd(backend_1, db_flag, layer_idx)))\n",
    "        p2 = Process(target=lambda: os.system(get_prediction_cmd(backend_2, db_flag, layer_idx)))\n",
    "        p1.start()\n",
    "        p2.start()\n",
    "        p1.join()\n",
    "        p2.join()\n",
    "\n",
    "        # load predictions\n",
    "        with r.pipeline() as pipe:\n",
    "            pipe.hget(\"predictions\", backend_1)\n",
    "            pipe.hget(\"predictions\", backend_2)\n",
    "            predictions = pipe.execute()\n",
    "        \n",
    "        predictions_1 = pickle.loads(predictions[0])\n",
    "        predictions_2 = pickle.loads(predictions[1])\n",
    "        \n",
    "        inc_idx = np.where(np.argmax(predictions_1, 1)!=np.argmax(predictions_2, 1))\n",
    "        if inc_idx[0].size != 0:\n",
    "            inc_idxs = np.concatenate([inc_idxs, inc_idx[0]+len(x)*i])\n",
    "    \n",
    "    return inc_idxs.astype(int)\n",
    "\n",
    "'''\n",
    "example of usage\n",
    "inc_idxs = get_diff_predictions_inputs(model, x_test_224[:50], ['tensorflow', 'theano'], layer_idx, db_flag, 2)\n",
    "'''\n",
    "\n",
    "# From a existing model, change the config of layer l and build a new model\n",
    "def build_new_model(model, l, new_config):\n",
    "    new_layer_output = model.layers[l].from_config(new_config)(model.layers[l-1].output)\n",
    "\n",
    "    x = new_layer_output\n",
    "    for i in range(l+1, len(model.layers)):\n",
    "        x = model.layers[i](x)\n",
    "\n",
    "    new_model = keras.models.Model(input=model.layers[0].input, output=x)\n",
    "    return new_model"
   ]
  },
  {
   "cell_type": "code",
   "execution_count": 389,
   "id": "393ac7c4",
   "metadata": {
    "scrolled": true
   },
   "outputs": [
    {
     "name": "stdout",
     "output_type": "stream",
     "text": [
      "Model: \"model_13\"\n",
      "_________________________________________________________________\n",
      "Layer (type)                 Output Shape              Param #   \n",
      "=================================================================\n",
      "input_2 (InputLayer)         (None, 224, 224, 3)       0         \n",
      "_________________________________________________________________\n",
      "block1_conv1 (Conv2D)        (None, 224, 224, 64)      1792      \n",
      "_________________________________________________________________\n",
      "block1_conv2 (Conv2D)        (None, 224, 224, 64)      36928     \n",
      "_________________________________________________________________\n",
      "block1_pool (MaxPooling2D)   (None, 112, 112, 64)      0         \n",
      "_________________________________________________________________\n",
      "block2_conv1 (Conv2D)        (None, 112, 112, 128)     73856     \n",
      "_________________________________________________________________\n",
      "block2_conv2 (Conv2D)        (None, 112, 112, 128)     147584    \n",
      "_________________________________________________________________\n",
      "block2_pool (MaxPooling2D)   (None, 56, 56, 128)       0         \n",
      "_________________________________________________________________\n",
      "block3_conv1 (Conv2D)        (None, 56, 56, 256)       295168    \n",
      "_________________________________________________________________\n",
      "block3_conv2 (Conv2D)        (None, 56, 56, 256)       590080    \n",
      "_________________________________________________________________\n",
      "block3_conv3 (Conv2D)        (None, 56, 56, 256)       590080    \n",
      "_________________________________________________________________\n",
      "block3_pool (MaxPooling2D)   (None, 28, 28, 256)       0         \n",
      "_________________________________________________________________\n",
      "block4_conv1 (Conv2D)        (None, 28, 28, 512)       1180160   \n",
      "_________________________________________________________________\n",
      "block4_conv2 (Conv2D)        (None, 28, 28, 512)       2359808   \n",
      "_________________________________________________________________\n",
      "block4_conv3 (Conv2D)        (None, 28, 28, 512)       2359808   \n",
      "_________________________________________________________________\n",
      "block4_pool (MaxPooling2D)   (None, 14, 14, 512)       0         \n",
      "_________________________________________________________________\n",
      "block5_conv1 (Conv2D)        (None, 14, 14, 512)       2359808   \n",
      "_________________________________________________________________\n",
      "block5_conv2 (Conv2D)        (None, 14, 14, 512)       2359808   \n",
      "_________________________________________________________________\n",
      "block5_conv3 (Conv2D)        (None, 14, 14, 512)       2359808   \n",
      "_________________________________________________________________\n",
      "block5_pool (MaxPooling2D)   (None, 7, 7, 512)         0         \n",
      "_________________________________________________________________\n",
      "flatten (Flatten)            (None, 25088)             0         \n",
      "_________________________________________________________________\n",
      "fc1 (Dense)                  (None, 4096)              102764544 \n",
      "_________________________________________________________________\n",
      "fc2 (Dense)                  (None, 4096)              16781312  \n",
      "_________________________________________________________________\n",
      "dense_7 (Dense)              (None, 1000)              4097000   \n",
      "_________________________________________________________________\n",
      "softmax_7 (Softmax)          (None, 1000)              0         \n",
      "=================================================================\n",
      "Total params: 138,357,544\n",
      "Trainable params: 138,357,544\n",
      "Non-trainable params: 0\n",
      "_________________________________________________________________\n"
     ]
    },
    {
     "name": "stderr",
     "output_type": "stream",
     "text": [
      "/data/yylaiai/anaconda3/envs/audee_test/lib/python3.6/site-packages/ipykernel_launcher.py:12: UserWarning: Update your `Model` call to the Keras 2 API: `Model(inputs=Tensor(\"in..., outputs=Tensor(\"so...)`\n",
      "  if sys.path[0] == '':\n"
     ]
    }
   ],
   "source": [
    "# load model\n",
    "# model = keras.models.load_model('alexnet-cifar10_origin.h5')\n",
    "# new_output = keras.layers.Softmax()(keras.layers.Dense(10)(model.layers[-2].output)) # without specifying activation \n",
    "# new_model = keras.models.Model(input=model.input, output=new_output)\n",
    "# new_model.layers[-2].set_weights(model.layers[-1].get_weights())\n",
    "# model = new_model\n",
    "# model.summary()\n",
    "\n",
    "\n",
    "model = keras.applications.VGG16()\n",
    "new_output = keras.layers.Softmax()(keras.layers.Dense(1000)(model.layers[-2].output)) # without specifying activation \n",
    "new_model = keras.models.Model(input=model.input, output=new_output)\n",
    "new_model.layers[-2].set_weights(model.layers[-1].get_weights())\n",
    "model = new_model\n",
    "model.summary()"
   ]
  },
  {
   "cell_type": "code",
   "execution_count": 4,
   "id": "082fef61",
   "metadata": {},
   "outputs": [
    {
     "name": "stdout",
     "output_type": "stream",
     "text": [
      "(10000, 224, 224, 3)\n"
     ]
    }
   ],
   "source": [
    "# load inputs\n",
    "(x_train, y_train), (x_test, y_test) = tf.keras.datasets.cifar10.load_data()\n",
    "\n",
    "# expand cifar10 images from 32x32 to 224x224\n",
    "x_test_224 = np.array([cv2.resize(i, (224, 224)) for i in x_test])\n",
    "print(x_test_224.shape)"
   ]
  },
  {
   "cell_type": "markdown",
   "id": "43b09de6",
   "metadata": {},
   "source": [
    "### NaN for tensorflow"
   ]
  },
  {
   "cell_type": "code",
   "execution_count": 5,
   "id": "a41641a6",
   "metadata": {},
   "outputs": [
    {
     "data": {
      "text/plain": [
       "True"
      ]
     },
     "execution_count": 5,
     "metadata": {},
     "output_type": "execute_result"
    }
   ],
   "source": [
    "# parameters\n",
    "fit = [\"nan\", [\"tensorflow\"]]\n",
    "inputs = x_test_224[:5]\n",
    "db_flag = 3\n",
    "\n",
    "init_input_mut = 0\n",
    "init_weight_mut = 0\n",
    "\n",
    "r1 = 0.5\n",
    "r2 = 0.5\n",
    "mut_rate = 3\n",
    "m = 5\n",
    "n = 100\n",
    "layer_idx = -2\n",
    "\n",
    "r = redis.Redis(db=db_flag)\n",
    "r.flushdb()"
   ]
  },
  {
   "cell_type": "code",
   "execution_count": 6,
   "id": "8c70cab0",
   "metadata": {
    "scrolled": true
   },
   "outputs": [
    {
     "name": "stdout",
     "output_type": "stream",
     "text": [
      "Running at iteration 1:\n",
      "top 5 fitness scores:  [ 8.408016  9.38636   9.707704 12.684578  8.876608]\n",
      "Taken time: 14.459209442138672\n",
      "\n",
      "Running at iteration 2:\n",
      "top 5 fitness scores:  [13.911957 14.112745 14.115312 14.329383 15.005003]\n",
      "Taken time: 29.724735736846924\n",
      "\n",
      "Running at iteration 3:\n",
      "top 5 fitness scores:  [14.112745 14.115312 14.329383 14.526759 15.005003]\n",
      "Taken time: 25.857263803482056\n",
      "\n",
      "Running at iteration 4:\n",
      "top 5 fitness scores:  [14.112745 14.526759 14.115312 14.329383 15.005003]\n",
      "Taken time: 27.06791663169861\n",
      "\n",
      "Running at iteration 5:\n",
      "top 5 fitness scores:  [14.297575 14.329383 14.526759 14.713318 15.005003]\n",
      "Taken time: 28.748783111572266\n",
      "\n",
      "Total taken time: 125.86451745033264\n",
      "[]\n"
     ]
    },
    {
     "data": {
      "image/png": "[encoded data removed]",
      "text/plain": [
       "<Figure size 432x288 with 1 Axes>"
      ]
     },
     "metadata": {
      "needs_background": "light"
     },
     "output_type": "display_data"
    }
   ],
   "source": [
    "ga = GA(fit, model, inputs, db_flag)\n",
    "ga.initPopulation(init_input_mut, init_weight_mut, n)\n",
    "ga.prepareFitness()\n",
    "F, fits = ga_main(ga, r1, r2, mut_rate, m, n, layer_idx, 50)\n",
    "plot_fits(fits)\n",
    "print(F)"
   ]
  },
  {
   "cell_type": "markdown",
   "id": "f8531762",
   "metadata": {},
   "source": [
    "### NaN for theano"
   ]
  },
  {
   "cell_type": "code",
   "execution_count": 32,
   "id": "1eef1122",
   "metadata": {},
   "outputs": [
    {
     "data": {
      "text/plain": [
       "True"
      ]
     },
     "execution_count": 32,
     "metadata": {},
     "output_type": "execute_result"
    }
   ],
   "source": [
    "# parameters\n",
    "fit = [\"nan\", [\"theano\"]]\n",
    "inputs = x_test_224[:5]\n",
    "db_flag = 3\n",
    "\n",
    "init_input_mut = 0\n",
    "init_weight_mut = 0\n",
    "\n",
    "r1 = 0.5\n",
    "r2 = 0.5\n",
    "mut_rate = 3\n",
    "m = 5\n",
    "n = 100\n",
    "layer_idx = -2\n",
    "\n",
    "r = redis.Redis(db=db_flag)\n",
    "r.flushdb()"
   ]
  },
  {
   "cell_type": "code",
   "execution_count": 33,
   "id": "fa72478e",
   "metadata": {
    "scrolled": true
   },
   "outputs": [
    {
     "name": "stdout",
     "output_type": "stream",
     "text": [
      "Running at iteration 1:\n",
      "top 5 fitness scores:  [ 8.408013  9.386361  9.707703 12.684577  8.876608]\n",
      "Taken time: 32.46601438522339\n",
      "\n",
      "Running at iteration 2:\n",
      "top 5 fitness scores:  [13.7124195 13.89464   14.069366  14.087666  13.955507 ]\n",
      "Taken time: 72.71084666252136\n",
      "\n",
      "Running at iteration 3:\n",
      "top 5 fitness scores:  [13.966047 14.022146 14.069366 14.087666 14.107145]\n",
      "Taken time: 70.07884955406189\n",
      "\n",
      "Running at iteration 4:\n",
      "top 5 fitness scores:  [14.056664 14.069366 14.087666 14.107145 14.200651]\n",
      "Taken time: 70.5026171207428\n",
      "\n",
      "Running at iteration 5:\n",
      "top 5 fitness scores:  [14.107145  14.187783  14.200651  14.2196865 14.320291 ]\n",
      "Taken time: 71.84364438056946\n",
      "\n",
      "Total taken time: 317.61353373527527\n",
      "[]\n"
     ]
    },
    {
     "data": {
      "image/png": "[encoded data removed]",
      "text/plain": [
       "<Figure size 432x288 with 1 Axes>"
      ]
     },
     "metadata": {
      "needs_background": "light"
     },
     "output_type": "display_data"
    }
   ],
   "source": [
    "ga = GA(fit, model, inputs, db_flag)\n",
    "ga.initPopulation(init_input_mut, init_weight_mut, n)\n",
    "ga.prepareFitness()\n",
    "F, fits = ga_main(ga, r1, r2, mut_rate, m, n, layer_idx, 50)\n",
    "plot_fits(fits)\n",
    "print(F)"
   ]
  },
  {
   "cell_type": "markdown",
   "id": "9806f96f",
   "metadata": {},
   "source": [
    "### Inconsistency between tensorflow and theano"
   ]
  },
  {
   "cell_type": "code",
   "execution_count": 6,
   "id": "c1c27f0b",
   "metadata": {},
   "outputs": [
    {
     "data": {
      "text/plain": [
       "True"
      ]
     },
     "execution_count": 6,
     "metadata": {},
     "output_type": "execute_result"
    }
   ],
   "source": [
    "# parameters\n",
    "fit = [\"inc\", [\"tensorflow\", \"theano\"]]\n",
    "inputs = x_test_224[:5]\n",
    "db_flag = 3\n",
    "\n",
    "init_input_mut = 0\n",
    "init_weight_mut = 0\n",
    "\n",
    "r1 = 0.5\n",
    "r2 = 0.5\n",
    "mut_rate = 3\n",
    "m = 5\n",
    "n = 100\n",
    "layer_idx = -2\n",
    "\n",
    "r = redis.Redis(db=db_flag)\n",
    "r.flushdb()"
   ]
  },
  {
   "cell_type": "code",
   "execution_count": 35,
   "id": "a3dbbe63",
   "metadata": {
    "scrolled": true
   },
   "outputs": [
    {
     "name": "stdout",
     "output_type": "stream",
     "text": [
      "Running at iteration 1:\n",
      "top 5 fitness scores:  [6.6043066e-07 7.4290483e-07 9.2021378e-07 8.1542879e-07 7.2645395e-07]\n",
      "Taken time: 32.90242266654968\n",
      "\n",
      "Running at iteration 2:\n",
      "top 5 fitness scores:  [6.4453485e-07 7.3491503e-07 7.5075030e-07 9.0657545e-07 8.1347116e-07]\n",
      "Taken time: 76.44327688217163\n",
      "\n",
      "Running at iteration 3:\n",
      "top 5 fitness scores:  [7.0089658e-07 7.3491503e-07 9.0657545e-07 7.5075030e-07 8.1347116e-07]\n",
      "Taken time: 75.97916531562805\n",
      "\n",
      "Running at iteration 4:\n",
      "top 5 fitness scores:  [7.0089658e-07 7.3491503e-07 7.5075030e-07 8.1347116e-07 9.0657545e-07]\n",
      "Taken time: 74.15697193145752\n",
      "\n",
      "Running at iteration 5:\n",
      "top 5 fitness scores:  [7.0089658e-07 8.1347116e-07 7.5075030e-07 7.3491503e-07 9.0657545e-07]\n",
      "Taken time: 76.85342669487\n",
      "\n",
      "Total taken time: 336.34239864349365\n",
      "[]\n"
     ]
    },
    {
     "data": {
      "image/png": "[encoded data removed]",
      "text/plain": [
       "<Figure size 432x288 with 1 Axes>"
      ]
     },
     "metadata": {
      "needs_background": "light"
     },
     "output_type": "display_data"
    }
   ],
   "source": [
    "ga = GA(fit, model, inputs, db_flag)\n",
    "ga.initPopulation(init_input_mut, init_weight_mut, n)\n",
    "ga.prepareFitness()\n",
    "F, fits = ga_main(ga, r1, r2, mut_rate, m, n, layer_idx, 50)\n",
    "plot_fits(fits)\n",
    "print(F)"
   ]
  },
  {
   "cell_type": "markdown",
   "id": "f84a5804",
   "metadata": {},
   "source": [
    "# Testing "
   ]
  },
  {
   "cell_type": "markdown",
   "id": "13c051fd",
   "metadata": {},
   "source": [
    "## CIFAR-10 test data in VGG16 model\n",
    "\n",
    "### Inconsistent prediction between tensorflow and theano"
   ]
  },
  {
   "cell_type": "code",
   "execution_count": 7,
   "id": "fb8d0f6c",
   "metadata": {},
   "outputs": [
    {
     "name": "stderr",
     "output_type": "stream",
     "text": [
      "100%|██████████| 100/100 [2:02:32<00:00, 73.53s/it] \n"
     ]
    }
   ],
   "source": [
    "inc_idxs = get_diff_predictions_inputs(model, x_test_224, ['tensorflow', 'theano'], layer_idx, db_flag, 100)"
   ]
  },
  {
   "cell_type": "code",
   "execution_count": 10,
   "id": "5e3ff3e4",
   "metadata": {},
   "outputs": [
    {
     "data": {
      "text/plain": [
       "array([], dtype=float64)"
      ]
     },
     "execution_count": 10,
     "metadata": {},
     "output_type": "execute_result"
    }
   ],
   "source": [
    "inc_idxs"
   ]
  },
  {
   "cell_type": "code",
   "execution_count": 15,
   "id": "065d633d",
   "metadata": {},
   "outputs": [
    {
     "name": "stderr",
     "output_type": "stream",
     "text": [
      "100%|██████████| 9/9 [1:24:26<00:00, 562.92s/it]\n"
     ]
    }
   ],
   "source": [
    "I, F = get_highest_fits(fit, model, x_test_224, layer_idx, db_flag, 100, 10)"
   ]
  },
  {
   "cell_type": "code",
   "execution_count": 41,
   "id": "d5c4e2c7",
   "metadata": {},
   "outputs": [
    {
     "data": {
      "text/plain": [
       "array([1.6132817e-06, 1.8387362e-06, 1.6832240e-06, 1.9658432e-06,\n",
       "       1.6693361e-06], dtype=float32)"
      ]
     },
     "execution_count": 41,
     "metadata": {},
     "output_type": "execute_result"
    }
   ],
   "source": [
    "# Highest fitness values throughout x_test_224\n",
    "F[np.argpartition(F, -5)][-5:]"
   ]
  },
  {
   "cell_type": "code",
   "execution_count": 52,
   "id": "96dbe798",
   "metadata": {},
   "outputs": [],
   "source": [
    "save_ckpt(I[np.argpartition(F, -5)[-5:]], 'inc', 'vgg16', 'tf_th', db_flag=5)"
   ]
  },
  {
   "cell_type": "markdown",
   "id": "9c7cc837",
   "metadata": {},
   "source": [
    "## CIFAR-10 test data in AlexNet model\n",
    "### Inconsistent prediction between tensorflow and theano"
   ]
  },
  {
   "cell_type": "code",
   "execution_count": 105,
   "id": "4bc41fcc",
   "metadata": {},
   "outputs": [
    {
     "name": "stderr",
     "output_type": "stream",
     "text": [
      "100%|██████████| 20/20 [08:13<00:00, 24.65s/it]\n"
     ]
    }
   ],
   "source": [
    "inc_idxs = get_diff_predictions_inputs(model, x_test, ['tensorflow', 'theano'], layer_idx, db_flag, 20)"
   ]
  },
  {
   "cell_type": "code",
   "execution_count": 201,
   "id": "129710f3",
   "metadata": {},
   "outputs": [
    {
     "name": "stdout",
     "output_type": "stream",
     "text": [
      "Out of 10000 inputs, 3216 are inconsistent\n"
     ]
    }
   ],
   "source": [
    "print('Out of {} inputs, {} are inconsistent'.format(len(x_test), len(inc_idxs)))"
   ]
  },
  {
   "cell_type": "code",
   "execution_count": 182,
   "id": "78aa3602",
   "metadata": {},
   "outputs": [
    {
     "name": "stderr",
     "output_type": "stream",
     "text": [
      "100%|██████████| 9/9 [04:22<00:00, 29.15s/it]\n"
     ]
    }
   ],
   "source": [
    "fit_ranks = rank_fits(fit, model, x_test, layer_idx, db_flag, 10)"
   ]
  },
  {
   "cell_type": "code",
   "execution_count": 188,
   "id": "12753167",
   "metadata": {},
   "outputs": [
    {
     "name": "stderr",
     "output_type": "stream",
     "text": [
      "100%|██████████| 10000/10000 [04:16<00:00, 38.98it/s]\n"
     ]
    },
    {
     "data": {
      "image/png": "[encoded data removed]",
      "text/plain": [
       "<Figure size 432x288 with 1 Axes>"
      ]
     },
     "metadata": {
      "needs_background": "light"
     },
     "output_type": "display_data"
    }
   ],
   "source": [
    "# show relationship between different prediction results and fitness values\n",
    "for idx, fit in tqdm(fit_ranks):\n",
    "    if idx in inc_idxs:\n",
    "        c = \"red\"\n",
    "    else:\n",
    "        c = \"green\"\n",
    "    plt.scatter(idx, fit, c=c, s=1)"
   ]
  },
  {
   "cell_type": "markdown",
   "id": "506aff9c",
   "metadata": {},
   "source": [
    "### Examples for high fitness values but same prediction result"
   ]
  },
  {
   "cell_type": "code",
   "execution_count": 189,
   "id": "a765337e",
   "metadata": {},
   "outputs": [
    {
     "name": "stderr",
     "output_type": "stream",
     "text": [
      "100%|██████████| 10/10 [00:00<00:00, 10323.17it/s]"
     ]
    },
    {
     "name": "stdout",
     "output_type": "stream",
     "text": [
      "4792\n",
      "3320\n",
      "594\n",
      "2465\n"
     ]
    },
    {
     "name": "stderr",
     "output_type": "stream",
     "text": [
      "\n"
     ]
    }
   ],
   "source": [
    "for idx, fit in tqdm(fit_ranks[:10]):\n",
    "    if idx not in inc_idxs:\n",
    "        print(idx)"
   ]
  },
  {
   "cell_type": "code",
   "execution_count": 195,
   "id": "e5fa3800",
   "metadata": {},
   "outputs": [
    {
     "data": {
      "text/plain": [
       "array(636.15564, dtype=float32)"
      ]
     },
     "execution_count": 195,
     "metadata": {},
     "output_type": "execute_result"
    }
   ],
   "source": [
    "ga = GA(['inc', ['tensorflow', 'theano']], model, x_test[4792], db_flag)\n",
    "ga.mutated_inputs = x_test[4792]\n",
    "ga.prepareFitness()\n",
    "ga.computeFitness(layer_idx)"
   ]
  },
  {
   "cell_type": "code",
   "execution_count": 199,
   "id": "8a2fe72f",
   "metadata": {},
   "outputs": [
    {
     "data": {
      "text/plain": [
       "array([[ 1389.632   ,  -715.98895 ,     9.746345,  -844.39514 ,\n",
       "         1366.5066  , -1292.3542  ,   106.58764 ,   847.466   ,\n",
       "         -377.76157 ,  -618.54706 ]], dtype=float32)"
      ]
     },
     "execution_count": 199,
     "metadata": {},
     "output_type": "execute_result"
    }
   ],
   "source": [
    "ga.FFunc.predictions_1"
   ]
  },
  {
   "cell_type": "code",
   "execution_count": 197,
   "id": "021f043a",
   "metadata": {},
   "outputs": [
    {
     "data": {
      "text/plain": [
       "array([[ 1155.123   ,   -41.603157,    86.53187 ,  -295.92426 ,\n",
       "         -100.25265 , -1434.2881  ,   858.269   ,  -567.51495 ,\n",
       "           44.716965,    11.024116]], dtype=float32)"
      ]
     },
     "execution_count": 197,
     "metadata": {},
     "output_type": "execute_result"
    }
   ],
   "source": [
    "ga.FFunc.predictions_2"
   ]
  },
  {
   "cell_type": "code",
   "execution_count": null,
   "id": "86481494",
   "metadata": {},
   "outputs": [],
   "source": []
  },
  {
   "cell_type": "code",
   "execution_count": null,
   "id": "f95b0d1f",
   "metadata": {},
   "outputs": [],
   "source": []
  },
  {
   "cell_type": "code",
   "execution_count": 381,
   "id": "0dceb55f",
   "metadata": {},
   "outputs": [],
   "source": [
    "class SourceLocaliser:\n",
    "    def __init__(self, model, frameworks, x, model_config, db_flag):\n",
    "        self.redis_server = redis.Redis(db=db_flag)\n",
    "        self.model = model\n",
    "        self.backend_1, self.backend_2 = frameworks\n",
    "        self.x = x\n",
    "        self.model_config = model_config\n",
    "        self.db_flag = db_flag\n",
    "        \n",
    "    def prepare(self):\n",
    "        with self.redis_server.pipeline() as pipe:\n",
    "            pipe.mset({\"model\": pickle.dumps(self.model)})\n",
    "            pipe.mset({\"inputs\": pickle.dumps(self.x)})\n",
    "            pipe.execute()\n",
    "            \n",
    "    def update_model(self, model):\n",
    "        self.redis_server.mset({\"model\": pickle.dumps(model)})\n",
    "        \n",
    "    def update_x(self, x):\n",
    "        self.redis_server.mset({\"inputs\": pickle.dumps(x)})\n",
    "            \n",
    "    # compute inconsistency fitness score\n",
    "    def compute_all_layers_dist(self):\n",
    "        cmd_1 = get_prediction_cmd(self.backend_1, self.db_flag, 'all')\n",
    "        cmd_2 = get_prediction_cmd(self.backend_2, self.db_flag, 'all')\n",
    "\n",
    "        p1 = Process(target=lambda: os.system(cmd_1))\n",
    "        p2 = Process(target=lambda: os.system(cmd_2))\n",
    "        p1.start()\n",
    "        p2.start()\n",
    "        p1.join()\n",
    "        p2.join()\n",
    "        \n",
    "        # load predictions\n",
    "        with self.redis_server.pipeline() as pipe:\n",
    "            pipe.hget(\"predictions\", self.backend_1)\n",
    "            pipe.hget(\"predictions\", self.backend_2)\n",
    "            predictions = pipe.execute()\n",
    "\n",
    "        predictions_1 = pickle.loads(predictions[0])\n",
    "        predictions_2 = pickle.loads(predictions[1])\n",
    "        \n",
    "        assert len(predictions_1) == len(predictions_2)\n",
    "        \n",
    "        self.layers_dist = []\n",
    "        for i in range(len(predictions_1)):\n",
    "            predictions_diff = np.abs(predictions_1[i] - predictions_2[i]).ravel()\n",
    "            self.layers_dist.append(np.sum(predictions_diff) / len(predictions_diff))\n",
    "        \n",
    "        return self.layers_dist\n",
    "    \n",
    "    # compute rate of change of inconsistency fitness score betwen layers\n",
    "    def compute_dists_change(self, layer_idx, epsilon=10**-7):\n",
    "        max_prev_layers_dist = max(self.layers_dist[:layer_idx])\n",
    "        self.dists_change = (self.layers_dist[layer_idx] - max_prev_layers_dist) / (max_prev_layers_dist + epsilon)\n",
    "        return self.dists_change\n",
    "    \n",
    "    \n",
    "    # return only layer indexes with rate of change larger than t1\n",
    "    def t1_dists_change(self, t1):\n",
    "        self.compute_all_layers_dist() # prepare for the subsequent computations\n",
    "        self.t1_layers = []\n",
    "        for i in range(2, len(model.layers)): # choose 2 to escape the distance jump from the input layer\n",
    "            layer_change = self.compute_dists_change(i)\n",
    "            if layer_change >= t1:\n",
    "                self.t1_layers.append([model.layers[i], i])\n",
    "        return self.t1_layers\n",
    "    \n",
    "    # create a new layer based on config\n",
    "    def replace(self, L, new_config):\n",
    "        L_prime = L.from_config(new_config)\n",
    "        return L_prime\n",
    "    \n",
    "    # create a simple model using 1 layer L_prime \n",
    "    def create_test_model(self, L_prime):\n",
    "        test_model = keras.Sequential()\n",
    "        test_model.add(L_prime)\n",
    "        # not sure if need to call model.build()\n",
    "        return test_model\n",
    "    \n",
    "    # check errors while running the newly created model\n",
    "    def checkCrash_NaN(self, f_prime):\n",
    "        self.update_model(f_prime)\n",
    "        cmd_1 = get_prediction_cmd(self.backend_1, self.db_flag, 'error')\n",
    "        cmd_2 = get_prediction_cmd(self.backend_2, self.db_flag, 'error')\n",
    "\n",
    "        p1 = Process(target=lambda: os.system(cmd_1))\n",
    "        p2 = Process(target=lambda: os.system(cmd_2))\n",
    "        p1.start()\n",
    "        p2.start()\n",
    "        p1.join()\n",
    "        p2.join()\n",
    "        \n",
    "        # load errors\n",
    "        with self.redis_server.pipeline() as pipe:\n",
    "            pipe.hget(\"errors\", self.backend_1)\n",
    "            pipe.hget(\"errors\", self.backend_2)\n",
    "            errors = pipe.execute()\n",
    "            \n",
    "        errors_1 = pickle.loads(errors[0])\n",
    "        errors_2 = pickle.loads(errors[1])\n",
    "        \n",
    "        errors = []\n",
    "        if errors_1 != []:\n",
    "            errors.append([errors_1, self.backend_1])\n",
    "            \n",
    "        if errors_2 != []:\n",
    "            errors.append([errors_1, self.backend_2])\n",
    "            \n",
    "        return errors\n",
    "    \n",
    "    def fixDNN(self, f, X, L_prime, L_idx):\n",
    "        pass\n",
    "    \n",
    "    def main(self, t1, t2):\n",
    "        X = []\n",
    "        Y = []\n",
    "        \n",
    "        for _ in tqdm(range(5)):\n",
    "            beta = self.t1_dists_change(t1)\n",
    "            if beta == []: # finish localization\n",
    "                return X, Y\n",
    "            \n",
    "            L, L_idx = beta[0]\n",
    "            \n",
    "            if L_idx in self.model_config:\n",
    "                a_L = self.model_config[L_idx]\n",
    "            else:\n",
    "                continue\n",
    "            \n",
    "            P = []\n",
    "            for a in a_L:\n",
    "                L_prime = self.replace(L, a)\n",
    "                f_prime = self.create_test_model(L_prime)\n",
    "                \n",
    "                # update inputs to fit the newly created model f_prime\n",
    "                x_prime = self.redis_server.hget(\"predictions\", self.backend_1)[L_idx-1]\n",
    "                self.update_x(x_prime)\n",
    "                \n",
    "                y = self.checkCrash_NaN(f_prime)\n",
    "                if y != []:\n",
    "                    Y.append([y, L_idx, a])\n",
    "                else:\n",
    "                    continue\n",
    "                    x_max = detectInconsistency(f_prime) # when to stop?\n",
    "                    self.update_x(x_max)\n",
    "                    \n",
    "                    if self.compute_dists_change(L_idx) < t2:\n",
    "                        P.append(a)\n",
    "                    \n",
    "                    if P != []:\n",
    "                        X.append([L, P]) # why keep appending P\n",
    "                        \n",
    "                    f = self.fixDNN(f, X, L_prime, L_idx)\n",
    "                \n",
    "        return X, Y"
   ]
  },
  {
   "cell_type": "code",
   "execution_count": 368,
   "id": "2b813478",
   "metadata": {},
   "outputs": [],
   "source": [
    "model_configs = {}\n",
    "model_configs[2] = [model.layers[2].get_config()]\n",
    "model_configs[2][0]['padding'] = 'same'"
   ]
  },
  {
   "cell_type": "code",
   "execution_count": 369,
   "id": "6be6ccda",
   "metadata": {
    "scrolled": true
   },
   "outputs": [
    {
     "data": {
      "text/plain": [
       "{2: [{'name': 'max_pooling2d_1',\n",
       "   'trainable': True,\n",
       "   'dtype': 'float32',\n",
       "   'pool_size': (2, 2),\n",
       "   'padding': 'same',\n",
       "   'strides': (2, 2),\n",
       "   'data_format': 'channels_last'}]}"
      ]
     },
     "execution_count": 369,
     "metadata": {},
     "output_type": "execute_result"
    }
   ],
   "source": [
    "model_configs"
   ]
  },
  {
   "cell_type": "code",
   "execution_count": 394,
   "id": "e1890c3f",
   "metadata": {},
   "outputs": [],
   "source": [
    "SL = SourceLocaliser(model, ['tensorflow', 'theano'], inc_ckpt[0], model_configs, 1)\n",
    "SL.prepare()"
   ]
  },
  {
   "cell_type": "code",
   "execution_count": 395,
   "id": "e1d36f10",
   "metadata": {},
   "outputs": [
    {
     "name": "stdout",
     "output_type": "stream",
     "text": [
      "118.79106156756076\n",
      "1.9433135824855179\n",
      "0.04510970254377995\n",
      "1.6234224919364755\n",
      "0.3343521944877438\n",
      "0.16150764492263509\n",
      "0.09848952029466206\n",
      "0.22027278025340166\n",
      "-0.5106200738533972\n",
      "-0.3141403937510773\n",
      "-0.5684290689196673\n",
      "-0.741985188276687\n",
      "-0.9328100438428549\n",
      "-0.8862933671836476\n",
      "-0.9445422654019134\n",
      "-0.9708708819090881\n",
      "-0.9940020413255433\n",
      "-0.9895945880930225\n",
      "-0.9895945880930225\n",
      "-0.9911734050422664\n",
      "-0.9972718498771508\n",
      "-0.9911372687183836\n",
      "-0.999486176257197\n"
     ]
    }
   ],
   "source": [
    "SL.compute_all_layers_dist()\n",
    "for i in range(1, len(model.layers)):\n",
    "    print(SL.compute_dists_change(i))"
   ]
  },
  {
   "cell_type": "code",
   "execution_count": 390,
   "id": "49e5407a",
   "metadata": {},
   "outputs": [],
   "source": [
    "inc_ckpt = load_ckpt('inc', 'vgg16', 'tf_th', db_flag=5)"
   ]
  },
  {
   "cell_type": "code",
   "execution_count": null,
   "id": "c0ef07a6",
   "metadata": {},
   "outputs": [],
   "source": []
  }
 ],
 "metadata": {
  "kernelspec": {
   "display_name": "audee_test",
   "language": "python",
   "name": "audee_test"
  }
 },
 "nbformat": 4,
 "nbformat_minor": 5
}
