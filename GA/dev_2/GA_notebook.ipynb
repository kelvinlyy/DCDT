{
 "cells": [
  {
   "cell_type": "code",
   "execution_count": 1,
   "id": "55b6346d",
   "metadata": {},
   "outputs": [
    {
     "name": "stderr",
     "output_type": "stream",
     "text": [
      "Using TensorFlow backend.\n"
     ]
    }
   ],
   "source": [
    "import time\n",
    "import random\n",
    "import redis\n",
    "import pickle\n",
    "import subprocess\n",
    "from multiprocessing import Process\n",
    "from tqdm import tqdm\n",
    "\n",
    "import cv2\n",
    "import numpy as np\n",
    "import keras\n",
    "import tensorflow as tf\n",
    "import matplotlib.pyplot as plt\n",
    "\n",
    "import os\n",
    "os.environ['CUDA_VISIBLE_DEVICES']=\"\""
   ]
  },
  {
   "cell_type": "code",
   "execution_count": 2,
   "id": "2d719207",
   "metadata": {},
   "outputs": [
    {
     "data": {
      "text/plain": [
       "0"
      ]
     },
     "execution_count": 2,
     "metadata": {},
     "output_type": "execute_result"
    }
   ],
   "source": [
    "redis_server_path = '/data/yylaiai/redis/redis-stable/src/redis-server'\n",
    "subprocess.Popen([redis_server_path])\n",
    "\n",
    "# increase the usable size of redis database memory\n",
    "os.system('/data/yylaiai/redis/redis-stable/src/redis-cli config set proto-max-bulk-len 50gb')\n",
    "os.system('/data/yylaiai/redis/redis-stable/src/redis-cli config set client-query-buffer-limit 50gb')"
   ]
  },
  {
   "cell_type": "code",
   "execution_count": 3,
   "id": "267d48cb",
   "metadata": {},
   "outputs": [
    {
     "name": "stdout",
     "output_type": "stream",
     "text": [
      "(10000, 224, 224, 3)\n"
     ]
    }
   ],
   "source": [
    "# load inputs\n",
    "(x_train, y_train), (x_test, y_test) = tf.keras.datasets.cifar10.load_data()\n",
    "\n",
    "# expand cifar10 images from 32x32 to 224x224\n",
    "x_test_224 = np.array([cv2.resize(i, (224, 224)) for i in x_test])\n",
    "print(x_test_224.shape)"
   ]
  },
  {
   "cell_type": "code",
   "execution_count": 4,
   "id": "3b777318",
   "metadata": {
    "scrolled": true
   },
   "outputs": [
    {
     "name": "stdout",
     "output_type": "stream",
     "text": [
      "Model: \"model_1\"\n",
      "_________________________________________________________________\n",
      "Layer (type)                 Output Shape              Param #   \n",
      "=================================================================\n",
      "input_1 (InputLayer)         (None, 224, 224, 3)       0         \n",
      "_________________________________________________________________\n",
      "block1_conv1 (Conv2D)        (None, 224, 224, 64)      1792      \n",
      "_________________________________________________________________\n",
      "block1_conv2 (Conv2D)        (None, 224, 224, 64)      36928     \n",
      "_________________________________________________________________\n",
      "block1_pool (MaxPooling2D)   (None, 112, 112, 64)      0         \n",
      "_________________________________________________________________\n",
      "block2_conv1 (Conv2D)        (None, 112, 112, 128)     73856     \n",
      "_________________________________________________________________\n",
      "block2_conv2 (Conv2D)        (None, 112, 112, 128)     147584    \n",
      "_________________________________________________________________\n",
      "block2_pool (MaxPooling2D)   (None, 56, 56, 128)       0         \n",
      "_________________________________________________________________\n",
      "block3_conv1 (Conv2D)        (None, 56, 56, 256)       295168    \n",
      "_________________________________________________________________\n",
      "block3_conv2 (Conv2D)        (None, 56, 56, 256)       590080    \n",
      "_________________________________________________________________\n",
      "block3_conv3 (Conv2D)        (None, 56, 56, 256)       590080    \n",
      "_________________________________________________________________\n",
      "block3_pool (MaxPooling2D)   (None, 28, 28, 256)       0         \n",
      "_________________________________________________________________\n",
      "block4_conv1 (Conv2D)        (None, 28, 28, 512)       1180160   \n",
      "_________________________________________________________________\n",
      "block4_conv2 (Conv2D)        (None, 28, 28, 512)       2359808   \n",
      "_________________________________________________________________\n",
      "block4_conv3 (Conv2D)        (None, 28, 28, 512)       2359808   \n",
      "_________________________________________________________________\n",
      "block4_pool (MaxPooling2D)   (None, 14, 14, 512)       0         \n",
      "_________________________________________________________________\n",
      "block5_conv1 (Conv2D)        (None, 14, 14, 512)       2359808   \n",
      "_________________________________________________________________\n",
      "block5_conv2 (Conv2D)        (None, 14, 14, 512)       2359808   \n",
      "_________________________________________________________________\n",
      "block5_conv3 (Conv2D)        (None, 14, 14, 512)       2359808   \n",
      "_________________________________________________________________\n",
      "block5_pool (MaxPooling2D)   (None, 7, 7, 512)         0         \n",
      "_________________________________________________________________\n",
      "flatten (Flatten)            (None, 25088)             0         \n",
      "_________________________________________________________________\n",
      "fc1 (Dense)                  (None, 4096)              102764544 \n",
      "_________________________________________________________________\n",
      "fc2 (Dense)                  (None, 4096)              16781312  \n",
      "_________________________________________________________________\n",
      "dense_1 (Dense)              (None, 1000)              4097000   \n",
      "_________________________________________________________________\n",
      "softmax_1 (Softmax)          (None, 1000)              0         \n",
      "=================================================================\n",
      "Total params: 138,357,544\n",
      "Trainable params: 138,357,544\n",
      "Non-trainable params: 0\n",
      "_________________________________________________________________\n"
     ]
    },
    {
     "name": "stderr",
     "output_type": "stream",
     "text": [
      "/data/yylaiai/anaconda3/envs/audee_test/lib/python3.6/site-packages/ipykernel_launcher.py:3: UserWarning: Update your `Model` call to the Keras 2 API: `Model(inputs=Tensor(\"in..., outputs=Tensor(\"so...)`\n",
      "  This is separate from the ipykernel package so we can avoid doing imports until\n"
     ]
    }
   ],
   "source": [
    "# load model\n",
    "# model = keras.models.load_model('alexnet-cifar10_origin.h5')\n",
    "# new_output = keras.layers.Softmax()(keras.layers.Dense(10)(model.layers[-2].output)) # without specifying activation \n",
    "# new_model = keras.models.Model(input=model.input, output=new_output)\n",
    "# new_model.layers[-2].set_weights(model.layers[-1].get_weights())\n",
    "# model = new_model\n",
    "# model.summary()\n",
    "\n",
    "# model = keras.applications.ResNet50()\n",
    "# new_output = keras.layers.Softmax()(keras.layers.Dense(1000)(model.layers[-2].output)) # without specifying activation \n",
    "# new_model = keras.models.Model(input=model.input, output=new_output)\n",
    "# new_model.layers[-2].set_weights(model.layers[-1].get_weights())\n",
    "# model = new_model\n",
    "# model.summary()\n",
    "\n",
    "# model = keras.applications.MobileNetV2()\n",
    "# new_output = keras.layers.Softmax()(keras.layers.Dense(1000)(model.layers[-2].output)) # without specifying activation \n",
    "# new_model = keras.models.Model(input=model.input, output=new_output)\n",
    "# new_model.layers[-2].set_weights(model.layers[-1].get_weights())\n",
    "# model = new_model\n",
    "# model.summary()\n",
    "\n",
    "model = keras.applications.VGG16()\n",
    "new_output = keras.layers.Softmax()(keras.layers.Dense(1000)(model.layers[-2].output)) # without specifying activation \n",
    "new_model = keras.models.Model(input=model.input, output=new_output)\n",
    "new_model.layers[-2].set_weights(model.layers[-1].get_weights())\n",
    "model = new_model\n",
    "model.summary()"
   ]
  },
  {
   "cell_type": "code",
   "execution_count": 5,
   "id": "0ca47dc2",
   "metadata": {},
   "outputs": [],
   "source": [
    "from GA_keras import GA, ga_main\n",
    "from FFunc_keras import InconsistencyFFunc, NanFFunc"
   ]
  },
  {
   "cell_type": "code",
   "execution_count": 6,
   "id": "23efa400",
   "metadata": {},
   "outputs": [],
   "source": [
    "mut_level = 'i'\n",
    "# mut_level = 'w'\n",
    "# mut_level = 'i+w'"
   ]
  },
  {
   "cell_type": "code",
   "execution_count": 7,
   "id": "6d40f323",
   "metadata": {},
   "outputs": [
    {
     "data": {
      "text/plain": [
       "True"
      ]
     },
     "execution_count": 7,
     "metadata": {},
     "output_type": "execute_result"
    }
   ],
   "source": [
    "model = model\n",
    "x = x_test_224[0]/255\n",
    "input_scale = 255 # image scale\n",
    "init_noise = 0.001 # scale of Cauchy noise added in initialization\n",
    "r1 = 0.5 # crossover rate\n",
    "r2 = 0.3 # mutation rate\n",
    "r3 = 0.01 # mutation scale\n",
    "m = 5 # top m chromosomes selected\n",
    "n = 8 # population size\n",
    "layer_idx = -2 # index of layer used in calculation of fitness values\n",
    "db_flag = 1\n",
    "maxIter = 5\n",
    "\n",
    "r = redis.Redis(db=db_flag)\n",
    "r.flushdb()"
   ]
  },
  {
   "cell_type": "code",
   "execution_count": 8,
   "id": "46b0a016",
   "metadata": {},
   "outputs": [],
   "source": [
    "# fit = ['nan', ['tensorflow']]\n",
    "# fit = ['nan', ['theano']]\n",
    "fit = ['inc', ['tensorflow', 'theano']]"
   ]
  },
  {
   "cell_type": "code",
   "execution_count": 9,
   "id": "e2ad4116",
   "metadata": {
    "scrolled": false
   },
   "outputs": [
    {
     "name": "stdout",
     "output_type": "stream",
     "text": [
      "Running at iteration 1:\n",
      "Average fitness value: 8.359332355212245e-09\n",
      "Time taken: 120.10838532447815\n",
      "\n",
      "Running at iteration 2:\n",
      "Average fitness value: 8.914647196434088e-09\n",
      "Time taken: 114.49991989135742\n",
      "\n",
      "Running at iteration 3:\n",
      "Average fitness value: 9.035345783559023e-09\n",
      "Time taken: 114.80176901817322\n",
      "\n",
      "Running at iteration 4:\n",
      "Average fitness value: 9.425467737855797e-09\n",
      "Time taken: 123.11973190307617\n",
      "\n",
      "Running at iteration 5:\n",
      "Average fitness value: 9.580728942637507e-09\n",
      "Time taken: 125.33532333374023\n",
      "\n"
     ]
    }
   ],
   "source": [
    "ga = ga_main(fit, mut_level, model, x, input_scale, init_noise, r1, r2, r3, m, n, layer_idx, db_flag, maxIter)"
   ]
  },
  {
   "cell_type": "code",
   "execution_count": 10,
   "id": "362b37f6",
   "metadata": {},
   "outputs": [
    {
     "name": "stdout",
     "output_type": "stream",
     "text": [
      "[]\n"
     ]
    },
    {
     "data": {
      "text/plain": [
       "[<matplotlib.lines.Line2D at 0x7fcde4150fd0>]"
      ]
     },
     "execution_count": 10,
     "metadata": {},
     "output_type": "execute_result"
    },
    {
     "data": {
      "image/png": "[encoded data removed]",
      "text/plain": [
       "<Figure size 432x288 with 1 Axes>"
      ]
     },
     "metadata": {
      "needs_background": "light"
     },
     "output_type": "display_data"
    }
   ],
   "source": [
    "print(ga.F)\n",
    "plt.xlabel('Iteration')\n",
    "plt.ylabel('Fitness values')\n",
    "plt.xticks(np.arange(1, len(ga.fit_hist)+1))\n",
    "plt.plot(np.arange(1, len(ga.fit_hist)+1), np.max(ga.fit_hist, axis=1))"
   ]
  },
  {
   "cell_type": "markdown",
   "id": "337f33a0",
   "metadata": {},
   "source": [
    "### Continue from ga checkpoint"
   ]
  },
  {
   "cell_type": "code",
   "execution_count": 11,
   "id": "8b858864",
   "metadata": {},
   "outputs": [
    {
     "name": "stdout",
     "output_type": "stream",
     "text": [
      "Continuing from the previous populations...\n",
      "\n",
      "Running at iteration 6:\n",
      "Average fitness value: 9.313246096098738e-09\n",
      "Time taken: 116.33318877220154\n",
      "\n",
      "Running at iteration 7:\n",
      "Average fitness value: 9.163521042410139e-09\n",
      "Time taken: 127.93638801574707\n",
      "\n",
      "Running at iteration 8:\n",
      "Average fitness value: 9.647302590565232e-09\n",
      "Time taken: 119.96186804771423\n",
      "\n",
      "Running at iteration 9:\n",
      "Average fitness value: 9.612098551770032e-09\n",
      "Time taken: 113.51935386657715\n",
      "\n",
      "Running at iteration 10:\n",
      "Average fitness value: 1.0153016319236484e-08\n",
      "Time taken: 125.4926323890686\n",
      "\n"
     ]
    }
   ],
   "source": [
    "ga = ga_main(fit, mut_level, model, x, input_scale, init_noise, r1, r2, r3, m, n, layer_idx, db_flag, maxIter, ga)"
   ]
  },
  {
   "cell_type": "code",
   "execution_count": 12,
   "id": "aa7106e8",
   "metadata": {},
   "outputs": [
    {
     "name": "stdout",
     "output_type": "stream",
     "text": [
      "[]\n"
     ]
    },
    {
     "data": {
      "text/plain": [
       "[<matplotlib.lines.Line2D at 0x7fcb6ca66710>]"
      ]
     },
     "execution_count": 12,
     "metadata": {},
     "output_type": "execute_result"
    },
    {
     "data": {
      "image/png": "[encoded data removed]",
      "text/plain": [
       "<Figure size 432x288 with 1 Axes>"
      ]
     },
     "metadata": {
      "needs_background": "light"
     },
     "output_type": "display_data"
    }
   ],
   "source": [
    "print(ga.F)\n",
    "plt.xlabel('Iteration')\n",
    "plt.ylabel('Fitness values')\n",
    "plt.xticks(np.arange(1, len(ga.fit_hist)+1))\n",
    "plt.plot(np.arange(1, len(ga.fit_hist)+1), np.max(ga.fit_hist, axis=1))"
   ]
  },
  {
   "cell_type": "code",
   "execution_count": null,
   "id": "237fc5ff",
   "metadata": {},
   "outputs": [],
   "source": []
  }
 ],
 "metadata": {
  "kernelspec": {
   "display_name": "audee_test",
   "language": "python",
   "name": "audee_test"
  },
  "language_info": {
   "codemirror_mode": {
    "name": "ipython",
    "version": 3
   },
   "file_extension": ".py",
   "mimetype": "text/x-python",
   "name": "python",
   "nbconvert_exporter": "python",
   "pygments_lexer": "ipython3",
   "version": "3.6.13"
  }
 },
 "nbformat": 4,
 "nbformat_minor": 5
}
