{
 "cells": [
  {
   "cell_type": "code",
   "execution_count": 1,
   "id": "5512eafb",
   "metadata": {},
   "outputs": [],
   "source": [
    "import Util\n",
    "from Util import *\n",
    "import tensorflow as tf\n",
    "import pandas as pd"
   ]
  },
  {
   "cell_type": "code",
   "execution_count": 11,
   "id": "1faf5d77",
   "metadata": {},
   "outputs": [],
   "source": [
    "ori_df = pd.read_csv('layer_name.csv')"
   ]
  },
  {
   "cell_type": "code",
   "execution_count": 16,
   "id": "05e5a77f",
   "metadata": {},
   "outputs": [],
   "source": [
    "layer_dict = {}\n",
    "for i in range(len(df.index)):\n",
    "    layer_dict[df.loc[i][0]] = {\n",
    "        'add_function':eval(df.loc[i][1]),\n",
    "        'in_shape': [],\n",
    "        'para_num': df.loc[i][2]\n",
    "    }\n",
    "    "
   ]
  },
  {
   "cell_type": "code",
   "execution_count": 27,
   "id": "3553e2e3",
   "metadata": {},
   "outputs": [
    {
     "name": "stdout",
     "output_type": "stream",
     "text": [
      "Dense                    {'add_function': <function addDense at 0x7f98fd4b4ea0>, 'in_shape': [1, 2, 3, 4, 5, 6], 'para_num': 1}\n",
      "Conv2D                   {'add_function': <function addConv2D at 0x7f98fd4b4c80>, 'in_shape': [3], 'para_num': 4}\n",
      "BatchNormalization       {'add_function': <function addBatchNorm at 0x7f98fd4bd1e0>, 'in_shape': [1, 2, 3, 4, 5, 6], 'para_num': 2}\n",
      "MaxPooling2D             {'add_function': <function addMaxPool at 0x7f98fd4bd158>, 'in_shape': [3], 'para_num': 2}\n",
      "Dropout                  {'add_function': <function addDropout at 0x7f98fd4bd0d0>, 'in_shape': [1, 2, 3, 4, 5, 6], 'para_num': 2}\n",
      "Activation               {'add_function': <function addActivation at 0x7f98f658d730>, 'in_shape': [1, 2, 3, 4, 5, 6], 'para_num': 1}\n",
      "ZeroPadding2D            {'add_function': <function addZeroPadd at 0x7f98fd3f3048>, 'in_shape': [3], 'para_num': 1}\n",
      "AveragePooling1D         {'add_function': <function addAverPool1D at 0x7f98fd3f3268>, 'in_shape': [2], 'para_num': 2}\n",
      "AveragePooling2D         {'add_function': <function addAverPool2D at 0x7f98fd3f32f0>, 'in_shape': [3], 'para_num': 2}\n",
      "AveragePooling3D         {'add_function': <function addAverPool3D at 0x7f98fd3f3378>, 'in_shape': [4], 'para_num': 2}\n",
      "Conv1D                   {'add_function': <function addConv1D at 0x7f98fd3f3400>, 'in_shape': [2], 'para_num': 4}\n",
      "Conv3D                   {'add_function': <function addConv3D at 0x7f98fd3f3488>, 'in_shape': [4], 'para_num': 4}\n",
      "LeakyReLU                {'add_function': <function addLeakyReLU at 0x7f98fd3f3510>, 'in_shape': [1, 2, 3, 4, 5, 6], 'para_num': 1}\n",
      "LocallyConnected1D       {'add_function': <function addLocallyConnected1D at 0x7f98fd3f3598>, 'in_shape': [2], 'para_num': 3}\n",
      "LocallyConnected2D       {'add_function': <function addLocallyConnected2D at 0x7f98fd3f3620>, 'in_shape': [3], 'para_num': 3}\n",
      "ReLU                     {'add_function': <function addReLU at 0x7f98fd3f36a8>, 'in_shape': [1, 2, 3, 4, 5, 6], 'para_num': 1}\n",
      "RepeatVector             {'add_function': <function addRepeatVector at 0x7f98fd3f3730>, 'in_shape': [1], 'para_num': 1}\n",
      "SeparableConv1D          {'add_function': <function addSeparableConv1D at 0x7f98fd3f37b8>, 'in_shape': [2], 'para_num': 4}\n",
      "SeparableConv2D          {'add_function': <function addSeparableConv2D at 0x7f98fd3f3840>, 'in_shape': [3], 'para_num': 4}\n",
      "SimpleRNN                {'add_function': <function addSimpleRNN at 0x7f98fd3f38c8>, 'in_shape': [2], 'para_num': 6}\n",
      "SpatialDropout1D         {'add_function': <function addSpatialDropout1D at 0x7f98fd3f3950>, 'in_shape': [2], 'para_num': 1}\n",
      "SpatialDropout2D         {'add_function': <function addSpatialDropout2D at 0x7f98fd3f39d8>, 'in_shape': [3], 'para_num': 1}\n",
      "SpatialDropout3D         {'add_function': <function addSpatialDropout3D at 0x7f98fd3f3a60>, 'in_shape': [4], 'para_num': 1}\n",
      "ThresholdedReLU          {'add_function': <function addThresholdedReLU at 0x7f98fd3f3ae8>, 'in_shape': [1, 2, 3, 4, 5, 6], 'para_num': 1}\n",
      "Conv2DTranspose          {'add_function': <function addConv2DTranspose at 0x7f98fd3f3b70>, 'in_shape': [3], 'para_num': 4}\n",
      "Conv3DTranspose          {'add_function': <function addConv3DTranspose at 0x7f98fd3f3bf8>, 'in_shape': [4], 'para_num': 4}\n",
      "DepthwiseConv2D          {'add_function': <function addDepthwiseConv2D at 0x7f98fd3f3c80>, 'in_shape': [3], 'para_num': 3}\n",
      "Flatten                  {'add_function': <function addFlatten at 0x7f98fd3f3d08>, 'in_shape': [1, 2, 3, 4, 5, 6], 'para_num': 0}\n",
      "GRU                      {'add_function': <function addGRU at 0x7f98fd3f3d90>, 'in_shape': [2], 'para_num': 3}\n",
      "GaussianDropout          {'add_function': <function addGaussianDropout at 0x7f98fd3f3ea0>, 'in_shape': [1, 2, 3, 4, 5, 6], 'para_num': 1}\n",
      "GaussianNoise            {'add_function': <function addGaussianNoise at 0x7f98fd3f3f28>, 'in_shape': [1, 2, 3, 4, 5, 6], 'para_num': 1}\n",
      "GlobalAveragePooling1D   {'add_function': <function addGloAverPool1D at 0x7f98fd31b048>, 'in_shape': [2], 'para_num': 1}\n",
      "GlobalAveragePooling2D   {'add_function': <function addGloAverPool2D at 0x7f98fd31b0d0>, 'in_shape': [3], 'para_num': 1}\n",
      "GlobalAveragePooling3D   {'add_function': <function addGloAverPool3D at 0x7f98fd31b158>, 'in_shape': [4], 'para_num': 1}\n",
      "GlobalMaxPooling1D       {'add_function': <function addGloMaxPool1D at 0x7f98fd31b1e0>, 'in_shape': [2], 'para_num': 1}\n",
      "GlobalMaxPooling2D       {'add_function': <function addGloMaxPool2D at 0x7f98fd31b268>, 'in_shape': [3], 'para_num': 1}\n",
      "GlobalMaxPooling3D       {'add_function': <function addGloMaxPool3D at 0x7f98fd31b2f0>, 'in_shape': [4], 'para_num': 1}\n",
      "LSTM                     {'add_function': <function addLSTM at 0x7f98fd31b488>, 'in_shape': [2], 'para_num': 8}\n",
      "LayerNormalization       {'add_function': <function addLayerNormal at 0x7f98fd31b400>, 'in_shape': [1, 2, 3, 4, 5, 6], 'para_num': 3}\n"
     ]
    }
   ],
   "source": [
    "for i in layer_dict:\n",
    "    print(i, end='')\n",
    "    for _ in range(25 - len(i)):\n",
    "        print(' ', end='')\n",
    "    print(layer_dict[i])"
   ]
  },
  {
   "cell_type": "code",
   "execution_count": 26,
   "id": "cab4b13e",
   "metadata": {},
   "outputs": [
    {
     "name": "stdout",
     "output_type": "stream",
     "text": [
      "Dense\n",
      "add 6 to Dense\n",
      "BatchNormalization\n",
      "add 6 to BatchNormalization\n",
      "Dropout\n",
      "add 6 to Dropout\n",
      "Activation\n",
      "add 6 to Activation\n",
      "LeakyReLU\n",
      "add 6 to LeakyReLU\n",
      "ReLU\n",
      "add 6 to ReLU\n",
      "ThresholdedReLU\n",
      "add 6 to ThresholdedReLU\n",
      "Flatten\n",
      "add 6 to Flatten\n",
      "GaussianDropout\n",
      "add 6 to GaussianDropout\n",
      "GaussianNoise\n",
      "add 6 to GaussianNoise\n",
      "LayerNormalization\n",
      "add 6 to LayerNormalization\n"
     ]
    }
   ],
   "source": [
    "no = []\n",
    "input_shape=(1,1,1,1,1,1)\n",
    "for layer in layer_dict:\n",
    "    m = tf.keras.Sequential()\n",
    "    m.add(tf.keras.layers.InputLayer(input_shape=input_shape))\n",
    "    try:\n",
    "        m.add(layer_dict[layer]['add_function']('1'))\n",
    "        print(layer)\n",
    "        if type(input_shape) == int:\n",
    "            shape = 1\n",
    "        else: shape = len(input_shape)\n",
    "        \n",
    "        if (shape in layer_dict[layer]['in_shape']):\n",
    "            print(f'having {shape} in {layer}')\n",
    "        else:\n",
    "            layer_dict[layer]['in_shape'].append((shape))\n",
    "            print(f'add {(shape)} to {layer}')\n",
    "    except:\n",
    "        no.append(layer)\n",
    "        pass"
   ]
  },
  {
   "cell_type": "code",
   "execution_count": 36,
   "id": "1e9addbc",
   "metadata": {},
   "outputs": [],
   "source": [
    "import csv\n",
    "with open('layer_dict.csv', 'w', encoding='UTF8', newline='') as f:\n",
    "    writer = csv.writer(f)\n",
    "\n",
    "    # write the header\n",
    "    header = 'layer_name', 'add_function', 'input_shape', 'para_num'\n",
    "    writer.writerow(header)\n",
    "\n",
    "    # write the data\n",
    "    for i, layer in enumerate(layer_dict):\n",
    "        data = f'{layer}', f\"{ori_df.iloc[i][1]}\",layer_dict[layer]['in_shape'], f\"{layer_dict[layer]['para_num']}\"\n",
    "        writer.writerow(data)\n",
    "    \n",
    "    "
   ]
  },
  {
   "cell_type": "code",
   "execution_count": 20,
   "id": "d2a48fb8",
   "metadata": {},
   "outputs": [
    {
     "data": {
      "text/plain": [
       "39"
      ]
     },
     "execution_count": 20,
     "metadata": {},
     "output_type": "execute_result"
    }
   ],
   "source": [
    "len(layer_dict)"
   ]
  }
 ],
 "metadata": {
  "kernelspec": {
   "display_name": "fyp",
   "language": "python",
   "name": "fyp"
  },
  "language_info": {
   "codemirror_mode": {
    "name": "ipython",
    "version": 3
   },
   "file_extension": ".py",
   "mimetype": "text/x-python",
   "name": "python",
   "nbconvert_exporter": "python",
   "pygments_lexer": "ipython3",
   "version": "3.6.13"
  }
 },
 "nbformat": 4,
 "nbformat_minor": 5
}
