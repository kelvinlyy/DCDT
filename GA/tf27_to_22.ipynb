{
 "cells": [
  {
   "cell_type": "markdown",
   "id": "3d7b5c73",
   "metadata": {},
   "source": [
    "# Export model from tf==2.7 to tf==2.2"
   ]
  },
  {
   "cell_type": "markdown",
   "id": "bb548850",
   "metadata": {},
   "source": [
    "## Run in tf==2.7 environment"
   ]
  },
  {
   "cell_type": "code",
   "execution_count": 32,
   "id": "a8aeacd9",
   "metadata": {},
   "outputs": [],
   "source": [
    "import tensorflow as tf\n",
    "import keras\n",
    "import json\n",
    "import os"
   ]
  },
  {
   "cell_type": "code",
   "execution_count": 33,
   "id": "e6436bd6",
   "metadata": {},
   "outputs": [],
   "source": [
    "model = keras.models.load_model('./alexnet-cifar10_origin.h5', compile=False) # only available in this model"
   ]
  },
  {
   "cell_type": "code",
   "execution_count": 34,
   "id": "d568a7dc",
   "metadata": {
    "scrolled": true
   },
   "outputs": [],
   "source": [
    "model_config = model.get_config()"
   ]
  },
  {
   "cell_type": "code",
   "execution_count": 35,
   "id": "89cd2ddf",
   "metadata": {},
   "outputs": [],
   "source": [
    "# Conv2D.config.groups not found in the older version of tensorflow\n",
    "# remove key 'groups' in Conv2D to let it readable to older version tf\n",
    "for layer in model_config['layers']:\n",
    "    if layer['class_name'] == 'Conv2D':\n",
    "        del layer['config']['groups']"
   ]
  },
  {
   "cell_type": "code",
   "execution_count": 36,
   "id": "ef865f33",
   "metadata": {},
   "outputs": [],
   "source": [
    "# directory to save model configuration and weights\n",
    "model_dir = 'model'\n",
    "model_config_fn = 'model_config.json'\n",
    "model_weights_fn = \"model_weights.h5\"\n",
    "\n",
    "if not os.path.isdir(model_dir):\n",
    "    os.mkdir(model_dir)"
   ]
  },
  {
   "cell_type": "code",
   "execution_count": 37,
   "id": "9fc262b9",
   "metadata": {},
   "outputs": [],
   "source": [
    "# export configuration of the model\n",
    "with open(os.path.join(model_dir, model_config_fn), 'w') as f:\n",
    "    f.write(json.dumps(model_config))\n",
    "    \n",
    "# export weights of the model\n",
    "model.save_weights(os.path.join(model_dir, model_weights_fn))"
   ]
  },
  {
   "cell_type": "markdown",
   "id": "d08a98b9",
   "metadata": {},
   "source": [
    "## Run in tf==2.2 environment"
   ]
  },
  {
   "cell_type": "code",
   "execution_count": 38,
   "id": "b524e302",
   "metadata": {},
   "outputs": [],
   "source": [
    "f = open(os.path.join(model_dir, model_config_fn))\n",
    "model_config = json.load(f)"
   ]
  },
  {
   "cell_type": "code",
   "execution_count": 39,
   "id": "6be5d68d",
   "metadata": {},
   "outputs": [],
   "source": [
    "model = tf.keras.Sequential().from_config(model_config)\n",
    "model.load_weights(os.path.join(model_dir, model_weights_fn))"
   ]
  },
  {
   "cell_type": "code",
   "execution_count": null,
   "id": "5899b213",
   "metadata": {},
   "outputs": [],
   "source": []
  }
 ],
 "metadata": {
  "kernelspec": {
   "display_name": "fyp_v3",
   "language": "python",
   "name": "fyp_v3"
  },
  "language_info": {
   "codemirror_mode": {
    "name": "ipython",
    "version": 3
   },
   "file_extension": ".py",
   "mimetype": "text/x-python",
   "name": "python",
   "nbconvert_exporter": "python",
   "pygments_lexer": "ipython3",
   "version": "3.9.7"
  }
 },
 "nbformat": 4,
 "nbformat_minor": 5
}
