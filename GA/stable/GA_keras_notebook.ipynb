{
 "cells": [
  {
   "cell_type": "code",
   "execution_count": 1,
   "id": "778b2961",
   "metadata": {},
   "outputs": [
    {
     "name": "stderr",
     "output_type": "stream",
     "text": [
      "Using TensorFlow backend.\n"
     ]
    },
    {
     "name": "stdout",
     "output_type": "stream",
     "text": [
      "Configured\n"
     ]
    }
   ],
   "source": [
    "import cv2\n",
    "import keras\n",
    "import tensorflow as tf\n",
    "import matplotlib.pyplot as plt\n",
    "\n",
    "import os\n",
    "import redis\n",
    "import numpy as np\n",
    "import redisConfig\n",
    "\n",
    "from GA_keras import GA, ga_main\n",
    "from SourceLocalisation import SourceLocaliser\n",
    "from SourceLocalisation_F import SourceLocaliser_F\n",
    "\n",
    "# start redis server and config the maximum memory available\n",
    "redisConfig.run()"
   ]
  },
  {
   "cell_type": "code",
   "execution_count": 2,
   "id": "f42b86c8",
   "metadata": {
    "scrolled": true
   },
   "outputs": [
    {
     "name": "stderr",
     "output_type": "stream",
     "text": [
      "/data/yylaiai/anaconda3/envs/audee_test/lib/python3.6/site-packages/ipykernel_launcher.py:21: UserWarning: Update your `Model` call to the Keras 2 API: `Model(inputs=Tensor(\"in..., outputs=Tensor(\"so...)`\n"
     ]
    }
   ],
   "source": [
    "# model = keras.models.load_model('alexnet-cifar10_origin.h5')\n",
    "# new_output = keras.layers.Softmax()(keras.layers.Dense(10)(model.layers[-2].output)) # without specifying activation \n",
    "# new_model = keras.models.Model(input=model.input, output=new_output)\n",
    "# new_model.layers[-2].set_weights(model.layers[-1].get_weights())\n",
    "# model = new_model\n",
    "\n",
    "# model = keras.applications.ResNet50()\n",
    "# new_output = keras.layers.Softmax()(keras.layers.Dense(1000)(model.layers[-2].output)) # without specifying activation \n",
    "# new_model = keras.models.Model(input=model.input, output=new_output)\n",
    "# new_model.layers[-2].set_weights(model.layers[-1].get_weights())\n",
    "# model = new_model\n",
    "\n",
    "# model = keras.applications.MobileNetV2()\n",
    "# new_output = keras.layers.Softmax()(keras.layers.Dense(1000)(model.layers[-2].output)) # without specifying activation \n",
    "# new_model = keras.models.Model(input=model.input, output=new_output)\n",
    "# new_model.layers[-2].set_weights(model.layers[-1].get_weights())\n",
    "# model = new_model\n",
    "\n",
    "model = keras.applications.VGG16()\n",
    "new_output = keras.layers.Softmax()(keras.layers.Dense(1000)(model.layers[-2].output)) # without specifying activation \n",
    "new_model = keras.models.Model(input=model.input, output=new_output)\n",
    "new_model.layers[-2].set_weights(model.layers[-1].get_weights())\n",
    "model = new_model"
   ]
  },
  {
   "cell_type": "code",
   "execution_count": 3,
   "id": "6baec83a",
   "metadata": {},
   "outputs": [
    {
     "name": "stdout",
     "output_type": "stream",
     "text": [
      "(10000, 224, 224, 3)\n"
     ]
    }
   ],
   "source": [
    "# load inputs\n",
    "(x_train, y_train), (x_test, y_test) = tf.keras.datasets.cifar10.load_data()\n",
    "\n",
    "# expand cifar10 images from 32x32 to 224x224\n",
    "x_test_224 = np.array([cv2.resize(i, (224, 224)) for i in x_test])\n",
    "print(x_test_224.shape)"
   ]
  },
  {
   "cell_type": "code",
   "execution_count": 4,
   "id": "46326159",
   "metadata": {
    "scrolled": true
   },
   "outputs": [],
   "source": [
    "mut_level = 'i+w'\n",
    "model = model\n",
    "x = x_test_224[0]/255\n",
    "input_scale = 255 # image scale\n",
    "init_noise = 0.01 # scale of Cauchy noise added in initialization\n",
    "r1 = 0.5 # crossover rate\n",
    "r2 = 0.3 # mutation rate\n",
    "r3 = 10 # mutation scale (larger scale can trigger NaN inconsistency easier, smaller scale can increase layer distance easier)\n",
    "m = 3 # top m chromosomes selected\n",
    "n = 6 # population size\n",
    "layer_idx = -2 # index of layer used in calculation of fitness values\n",
    "db_flag = 1\n",
    "maxIter = 10\n",
    "dynamicWeightMutDecay = 2\n",
    "\n",
    "r = redis.Redis(db=db_flag)\n",
    "r.flushdb()\n",
    "\n",
    "fit = ['inc', ['tensorflow', 'theano']]"
   ]
  },
  {
   "cell_type": "code",
   "execution_count": 5,
   "id": "1cec9034",
   "metadata": {},
   "outputs": [
    {
     "data": {
      "text/plain": [
       "array([[ 0.61960784,  0.43921569,  0.19215686, ...,  0.11728761,\n",
       "        -0.04488204,  0.11856291],\n",
       "       [ 0.61948091,  0.43813328,  0.19788048, ...,  0.11426687,\n",
       "        -0.04704201,  0.41968688],\n",
       "       [ 0.63515096,  0.42495053,  3.23244238, ...,  0.11292991,\n",
       "        -0.03342647,  0.11577896],\n",
       "       [ 0.61493745,  0.43976847,  0.1889879 , ...,  0.09947017,\n",
       "        -0.05650943,  0.12297793],\n",
       "       [ 0.61400359,  0.43461732,  0.18814908, ...,  0.12086354,\n",
       "        -0.05023218,  0.11440835],\n",
       "       [ 0.61560089,  0.01937915,  0.17555773, ...,  0.11622621,\n",
       "        -0.03572509,  0.11530686]])"
      ]
     },
     "execution_count": 5,
     "metadata": {},
     "output_type": "execute_result"
    }
   ],
   "source": [
    "ga = GA(fit, mut_level, model, x, input_scale, db_flag)\n",
    "ga.initPopulation(init_noise, n)"
   ]
  },
  {
   "cell_type": "code",
   "execution_count": 6,
   "id": "437d752b",
   "metadata": {
    "scrolled": true
   },
   "outputs": [
    {
     "name": "stdout",
     "output_type": "stream",
     "text": [
      "Continuing from the previous populations...\n",
      "\n",
      "Running at iteration 1:\n",
      "Average fitness value: 2.2831054714818795e-07\n",
      "Time taken: 234.04635524749756\n",
      "\n",
      "Running at iteration 2:\n",
      "Average fitness value: nan\n",
      "Time taken: 250.55269765853882\n",
      "\n",
      "Running at iteration 3:\n",
      "Average fitness value: nan\n",
      "Time taken: 251.9981336593628\n",
      "\n",
      "Running at iteration 4:\n",
      "Average fitness value: nan\n",
      "Time taken: 263.0788972377777\n",
      "\n",
      "Running at iteration 5:\n",
      "Average fitness value: nan\n",
      "Time taken: 278.85234332084656\n",
      "\n",
      "Running at iteration 6:\n"
     ]
    },
    {
     "ename": "KeyboardInterrupt",
     "evalue": "",
     "output_type": "error",
     "traceback": [
      "\u001b[0;31m---------------------------------------------------------------------------\u001b[0m",
      "\u001b[0;31mKeyboardInterrupt\u001b[0m                         Traceback (most recent call last)",
      "\u001b[0;32m<ipython-input-6-1b800ae2d80b>\u001b[0m in \u001b[0;36m<module>\u001b[0;34m\u001b[0m\n\u001b[0;32m----> 1\u001b[0;31m \u001b[0mga\u001b[0m \u001b[0;34m=\u001b[0m \u001b[0mga_main\u001b[0m\u001b[0;34m(\u001b[0m\u001b[0mfit\u001b[0m\u001b[0;34m,\u001b[0m \u001b[0mmut_level\u001b[0m\u001b[0;34m,\u001b[0m \u001b[0mmodel\u001b[0m\u001b[0;34m,\u001b[0m \u001b[0mx\u001b[0m\u001b[0;34m,\u001b[0m \u001b[0minput_scale\u001b[0m\u001b[0;34m,\u001b[0m \u001b[0minit_noise\u001b[0m\u001b[0;34m,\u001b[0m \u001b[0mr1\u001b[0m\u001b[0;34m,\u001b[0m \u001b[0mr2\u001b[0m\u001b[0;34m,\u001b[0m \u001b[0mr3\u001b[0m\u001b[0;34m,\u001b[0m \u001b[0mm\u001b[0m\u001b[0;34m,\u001b[0m \u001b[0mn\u001b[0m\u001b[0;34m,\u001b[0m \u001b[0mlayer_idx\u001b[0m\u001b[0;34m,\u001b[0m \u001b[0mdb_flag\u001b[0m\u001b[0;34m,\u001b[0m \u001b[0mmaxIter\u001b[0m\u001b[0;34m,\u001b[0m \u001b[0mdynamicWeightMutDecay\u001b[0m\u001b[0;34m,\u001b[0m \u001b[0mga\u001b[0m\u001b[0;34m)\u001b[0m\u001b[0;34m\u001b[0m\u001b[0;34m\u001b[0m\u001b[0m\n\u001b[0m",
      "\u001b[0;32m~/fyp21-22/GA/stable/GA_keras.py\u001b[0m in \u001b[0;36mga_main\u001b[0;34m(fit, mut_level, model, x, input_scale, init_noise, r1, r2, r3, m, n, layer_idx, db_flag, maxIter, dynamicWeightMutDecay, ga)\u001b[0m\n\u001b[1;32m    280\u001b[0m         \u001b[0mprint\u001b[0m\u001b[0;34m(\u001b[0m\u001b[0;34mf'Running at iteration {i+1}:'\u001b[0m\u001b[0;34m)\u001b[0m\u001b[0;34m\u001b[0m\u001b[0;34m\u001b[0m\u001b[0m\n\u001b[1;32m    281\u001b[0m         \u001b[0mstart_time\u001b[0m \u001b[0;34m=\u001b[0m \u001b[0mtime\u001b[0m\u001b[0;34m.\u001b[0m\u001b[0mtime\u001b[0m\u001b[0;34m(\u001b[0m\u001b[0;34m)\u001b[0m\u001b[0;34m\u001b[0m\u001b[0;34m\u001b[0m\u001b[0m\n\u001b[0;32m--> 282\u001b[0;31m         \u001b[0mga\u001b[0m\u001b[0;34m.\u001b[0m\u001b[0mprepareFitness\u001b[0m\u001b[0;34m(\u001b[0m\u001b[0mga\u001b[0m\u001b[0;34m.\u001b[0m\u001b[0mP\u001b[0m\u001b[0;34m)\u001b[0m\u001b[0;34m\u001b[0m\u001b[0;34m\u001b[0m\u001b[0m\n\u001b[0m\u001b[1;32m    283\u001b[0m         \u001b[0mFit\u001b[0m \u001b[0;34m=\u001b[0m \u001b[0mga\u001b[0m\u001b[0;34m.\u001b[0m\u001b[0mcomputeFitness\u001b[0m\u001b[0;34m(\u001b[0m\u001b[0mlayer_idx\u001b[0m\u001b[0;34m)\u001b[0m\u001b[0;34m\u001b[0m\u001b[0;34m\u001b[0m\u001b[0m\n\u001b[1;32m    284\u001b[0m         \u001b[0mga\u001b[0m\u001b[0;34m.\u001b[0m\u001b[0mfit_hist\u001b[0m\u001b[0;34m.\u001b[0m\u001b[0mappend\u001b[0m\u001b[0;34m(\u001b[0m\u001b[0mFit\u001b[0m\u001b[0;34m)\u001b[0m\u001b[0;34m\u001b[0m\u001b[0;34m\u001b[0m\u001b[0m\n",
      "\u001b[0;32m~/fyp21-22/GA/stable/GA_keras.py\u001b[0m in \u001b[0;36mprepareFitness\u001b[0;34m(self, P)\u001b[0m\n\u001b[1;32m    153\u001b[0m             \u001b[0mself\u001b[0m\u001b[0;34m.\u001b[0m\u001b[0mFFunc\u001b[0m \u001b[0;34m=\u001b[0m \u001b[0mFFunc\u001b[0m\u001b[0;34m(\u001b[0m\u001b[0mself\u001b[0m\u001b[0;34m.\u001b[0m\u001b[0mredis_server\u001b[0m\u001b[0;34m,\u001b[0m \u001b[0mself\u001b[0m\u001b[0;34m.\u001b[0m\u001b[0mdb_flag\u001b[0m\u001b[0;34m,\u001b[0m \u001b[0mself\u001b[0m\u001b[0;34m.\u001b[0m\u001b[0mmut_level\u001b[0m\u001b[0;34m,\u001b[0m \u001b[0mself\u001b[0m\u001b[0;34m.\u001b[0m\u001b[0mbackends\u001b[0m\u001b[0;34m,\u001b[0m \u001b[0mself\u001b[0m\u001b[0;34m.\u001b[0m\u001b[0mmodel\u001b[0m\u001b[0;34m,\u001b[0m \u001b[0mw_P\u001b[0m\u001b[0;34m,\u001b[0m \u001b[0mi_P\u001b[0m\u001b[0;34m)\u001b[0m\u001b[0;34m\u001b[0m\u001b[0;34m\u001b[0m\u001b[0m\n\u001b[1;32m    154\u001b[0m \u001b[0;34m\u001b[0m\u001b[0m\n\u001b[0;32m--> 155\u001b[0;31m         \u001b[0mself\u001b[0m\u001b[0;34m.\u001b[0m\u001b[0mFFunc\u001b[0m\u001b[0;34m.\u001b[0m\u001b[0mprepare\u001b[0m\u001b[0;34m(\u001b[0m\u001b[0;34m)\u001b[0m\u001b[0;34m\u001b[0m\u001b[0;34m\u001b[0m\u001b[0m\n\u001b[0m\u001b[1;32m    156\u001b[0m \u001b[0;34m\u001b[0m\u001b[0m\n\u001b[1;32m    157\u001b[0m     \u001b[0;31m# compute fitness scores for each input\u001b[0m\u001b[0;34m\u001b[0m\u001b[0;34m\u001b[0m\u001b[0;34m\u001b[0m\u001b[0m\n",
      "\u001b[0;32m~/fyp21-22/GA/stable/FFunc_keras.py\u001b[0m in \u001b[0;36mprepare\u001b[0;34m(self)\u001b[0m\n\u001b[1;32m     41\u001b[0m                 \u001b[0;32mfor\u001b[0m \u001b[0mi\u001b[0m \u001b[0;32min\u001b[0m \u001b[0mrange\u001b[0m\u001b[0;34m(\u001b[0m\u001b[0mlen\u001b[0m\u001b[0;34m(\u001b[0m\u001b[0mself\u001b[0m\u001b[0;34m.\u001b[0m\u001b[0mmodel_weights\u001b[0m\u001b[0;34m)\u001b[0m\u001b[0;34m)\u001b[0m\u001b[0;34m:\u001b[0m\u001b[0;34m\u001b[0m\u001b[0;34m\u001b[0m\u001b[0m\n\u001b[1;32m     42\u001b[0m                     \u001b[0mself\u001b[0m\u001b[0;34m.\u001b[0m\u001b[0mmodel\u001b[0m\u001b[0;34m.\u001b[0m\u001b[0mset_weights\u001b[0m\u001b[0;34m(\u001b[0m\u001b[0mself\u001b[0m\u001b[0;34m.\u001b[0m\u001b[0mmodel_weights\u001b[0m\u001b[0;34m[\u001b[0m\u001b[0mi\u001b[0m\u001b[0;34m]\u001b[0m\u001b[0;34m)\u001b[0m\u001b[0;34m\u001b[0m\u001b[0;34m\u001b[0m\u001b[0m\n\u001b[0;32m---> 43\u001b[0;31m                     \u001b[0mpipe\u001b[0m\u001b[0;34m.\u001b[0m\u001b[0mhset\u001b[0m\u001b[0;34m(\u001b[0m\u001b[0;34m'model'\u001b[0m\u001b[0;34m,\u001b[0m \u001b[0mi\u001b[0m\u001b[0;34m,\u001b[0m \u001b[0mpickle\u001b[0m\u001b[0;34m.\u001b[0m\u001b[0mdumps\u001b[0m\u001b[0;34m(\u001b[0m\u001b[0mself\u001b[0m\u001b[0;34m.\u001b[0m\u001b[0mmodel\u001b[0m\u001b[0;34m)\u001b[0m\u001b[0;34m)\u001b[0m\u001b[0;34m\u001b[0m\u001b[0;34m\u001b[0m\u001b[0m\n\u001b[0m\u001b[1;32m     44\u001b[0m                 \u001b[0;32mfor\u001b[0m \u001b[0mi\u001b[0m \u001b[0;32min\u001b[0m \u001b[0mrange\u001b[0m\u001b[0;34m(\u001b[0m\u001b[0mlen\u001b[0m\u001b[0;34m(\u001b[0m\u001b[0mself\u001b[0m\u001b[0;34m.\u001b[0m\u001b[0minputs\u001b[0m\u001b[0;34m)\u001b[0m\u001b[0;34m)\u001b[0m\u001b[0;34m:\u001b[0m\u001b[0;34m\u001b[0m\u001b[0;34m\u001b[0m\u001b[0m\n\u001b[1;32m     45\u001b[0m                     \u001b[0mpipe\u001b[0m\u001b[0;34m.\u001b[0m\u001b[0mhset\u001b[0m\u001b[0;34m(\u001b[0m\u001b[0;34m'input'\u001b[0m\u001b[0;34m,\u001b[0m \u001b[0mi\u001b[0m\u001b[0;34m,\u001b[0m \u001b[0mpickle\u001b[0m\u001b[0;34m.\u001b[0m\u001b[0mdumps\u001b[0m\u001b[0;34m(\u001b[0m\u001b[0mself\u001b[0m\u001b[0;34m.\u001b[0m\u001b[0minputs\u001b[0m\u001b[0;34m[\u001b[0m\u001b[0mi\u001b[0m\u001b[0;34m]\u001b[0m\u001b[0;34m)\u001b[0m\u001b[0;34m)\u001b[0m\u001b[0;34m\u001b[0m\u001b[0;34m\u001b[0m\u001b[0m\n",
      "\u001b[0;32m~/anaconda3/envs/audee_test/lib/python3.6/site-packages/keras/engine/network.py\u001b[0m in \u001b[0;36m__getstate__\u001b[0;34m(self)\u001b[0m\n\u001b[1;32m   1329\u001b[0m \u001b[0;34m\u001b[0m\u001b[0m\n\u001b[1;32m   1330\u001b[0m     \u001b[0;32mdef\u001b[0m \u001b[0m__getstate__\u001b[0m\u001b[0;34m(\u001b[0m\u001b[0mself\u001b[0m\u001b[0;34m)\u001b[0m\u001b[0;34m:\u001b[0m\u001b[0;34m\u001b[0m\u001b[0;34m\u001b[0m\u001b[0m\n\u001b[0;32m-> 1331\u001b[0;31m         \u001b[0;32mreturn\u001b[0m \u001b[0msaving\u001b[0m\u001b[0;34m.\u001b[0m\u001b[0mpickle_model\u001b[0m\u001b[0;34m(\u001b[0m\u001b[0mself\u001b[0m\u001b[0;34m)\u001b[0m\u001b[0;34m\u001b[0m\u001b[0;34m\u001b[0m\u001b[0m\n\u001b[0m\u001b[1;32m   1332\u001b[0m \u001b[0;34m\u001b[0m\u001b[0m\n\u001b[1;32m   1333\u001b[0m     \u001b[0;32mdef\u001b[0m \u001b[0m__setstate__\u001b[0m\u001b[0;34m(\u001b[0m\u001b[0mself\u001b[0m\u001b[0;34m,\u001b[0m \u001b[0mstate\u001b[0m\u001b[0;34m)\u001b[0m\u001b[0;34m:\u001b[0m\u001b[0;34m\u001b[0m\u001b[0;34m\u001b[0m\u001b[0m\n",
      "\u001b[0;32m~/anaconda3/envs/audee_test/lib/python3.6/site-packages/keras/engine/saving.py\u001b[0m in \u001b[0;36mpickle_model\u001b[0;34m(model)\u001b[0m\n\u001b[1;32m    596\u001b[0m     \u001b[0md\u001b[0m \u001b[0;34m=\u001b[0m \u001b[0;34m{\u001b[0m\u001b[0;34m}\u001b[0m\u001b[0;34m\u001b[0m\u001b[0;34m\u001b[0m\u001b[0m\n\u001b[1;32m    597\u001b[0m     \u001b[0mh5dict\u001b[0m \u001b[0;34m=\u001b[0m \u001b[0mH5Dict\u001b[0m\u001b[0;34m(\u001b[0m\u001b[0md\u001b[0m\u001b[0;34m)\u001b[0m\u001b[0;34m\u001b[0m\u001b[0;34m\u001b[0m\u001b[0m\n\u001b[0;32m--> 598\u001b[0;31m     \u001b[0m_serialize_model\u001b[0m\u001b[0;34m(\u001b[0m\u001b[0mmodel\u001b[0m\u001b[0;34m,\u001b[0m \u001b[0mh5dict\u001b[0m\u001b[0;34m)\u001b[0m\u001b[0;34m\u001b[0m\u001b[0;34m\u001b[0m\u001b[0m\n\u001b[0m\u001b[1;32m    599\u001b[0m     \u001b[0;32mreturn\u001b[0m \u001b[0md\u001b[0m\u001b[0;34m\u001b[0m\u001b[0;34m\u001b[0m\u001b[0m\n\u001b[1;32m    600\u001b[0m \u001b[0;34m\u001b[0m\u001b[0m\n",
      "\u001b[0;32m~/anaconda3/envs/audee_test/lib/python3.6/site-packages/keras/engine/saving.py\u001b[0m in \u001b[0;36m_serialize_model\u001b[0;34m(model, h5dict, include_optimizer)\u001b[0m\n\u001b[1;32m    159\u001b[0m         \u001b[0mlayer_group\u001b[0m\u001b[0;34m[\u001b[0m\u001b[0;34m'weight_names'\u001b[0m\u001b[0;34m]\u001b[0m \u001b[0;34m=\u001b[0m \u001b[0mweight_names\u001b[0m\u001b[0;34m\u001b[0m\u001b[0;34m\u001b[0m\u001b[0m\n\u001b[1;32m    160\u001b[0m         \u001b[0;32mfor\u001b[0m \u001b[0mname\u001b[0m\u001b[0;34m,\u001b[0m \u001b[0mval\u001b[0m \u001b[0;32min\u001b[0m \u001b[0mzip\u001b[0m\u001b[0;34m(\u001b[0m\u001b[0mweight_names\u001b[0m\u001b[0;34m,\u001b[0m \u001b[0mweight_values\u001b[0m\u001b[0;34m)\u001b[0m\u001b[0;34m:\u001b[0m\u001b[0;34m\u001b[0m\u001b[0;34m\u001b[0m\u001b[0m\n\u001b[0;32m--> 161\u001b[0;31m             \u001b[0mlayer_group\u001b[0m\u001b[0;34m[\u001b[0m\u001b[0mname\u001b[0m\u001b[0;34m]\u001b[0m \u001b[0;34m=\u001b[0m \u001b[0mval\u001b[0m\u001b[0;34m\u001b[0m\u001b[0;34m\u001b[0m\u001b[0m\n\u001b[0m\u001b[1;32m    162\u001b[0m     \u001b[0;32mif\u001b[0m \u001b[0minclude_optimizer\u001b[0m \u001b[0;32mand\u001b[0m \u001b[0mmodel\u001b[0m\u001b[0;34m.\u001b[0m\u001b[0moptimizer\u001b[0m\u001b[0;34m:\u001b[0m\u001b[0;34m\u001b[0m\u001b[0;34m\u001b[0m\u001b[0m\n\u001b[1;32m    163\u001b[0m         \u001b[0;32mif\u001b[0m \u001b[0misinstance\u001b[0m\u001b[0;34m(\u001b[0m\u001b[0mmodel\u001b[0m\u001b[0;34m.\u001b[0m\u001b[0moptimizer\u001b[0m\u001b[0;34m,\u001b[0m \u001b[0moptimizers\u001b[0m\u001b[0;34m.\u001b[0m\u001b[0mTFOptimizer\u001b[0m\u001b[0;34m)\u001b[0m\u001b[0;34m:\u001b[0m\u001b[0;34m\u001b[0m\u001b[0;34m\u001b[0m\u001b[0m\n",
      "\u001b[0;32m~/anaconda3/envs/audee_test/lib/python3.6/site-packages/keras/utils/io_utils.py\u001b[0m in \u001b[0;36m__setitem__\u001b[0;34m(self, attr, val)\u001b[0m\n\u001b[1;32m    221\u001b[0m                 \u001b[0mattr\u001b[0m \u001b[0;34m=\u001b[0m \u001b[0mattr\u001b[0m\u001b[0;34m.\u001b[0m\u001b[0mdecode\u001b[0m\u001b[0;34m(\u001b[0m\u001b[0;34m'utf-8'\u001b[0m\u001b[0;34m)\u001b[0m\u001b[0;34m\u001b[0m\u001b[0;34m\u001b[0m\u001b[0m\n\u001b[1;32m    222\u001b[0m             \u001b[0;32mif\u001b[0m \u001b[0mis_np\u001b[0m\u001b[0;34m:\u001b[0m\u001b[0;34m\u001b[0m\u001b[0;34m\u001b[0m\u001b[0m\n\u001b[0;32m--> 223\u001b[0;31m                 \u001b[0mself\u001b[0m\u001b[0;34m.\u001b[0m\u001b[0mdata\u001b[0m\u001b[0;34m[\u001b[0m\u001b[0mattr\u001b[0m\u001b[0;34m]\u001b[0m \u001b[0;34m=\u001b[0m \u001b[0mpickle\u001b[0m\u001b[0;34m.\u001b[0m\u001b[0mdumps\u001b[0m\u001b[0;34m(\u001b[0m\u001b[0mval\u001b[0m\u001b[0;34m)\u001b[0m\u001b[0;34m\u001b[0m\u001b[0;34m\u001b[0m\u001b[0m\n\u001b[0m\u001b[1;32m    224\u001b[0m                 \u001b[0;31m# We have to remember to unpickle in __getitem__\u001b[0m\u001b[0;34m\u001b[0m\u001b[0;34m\u001b[0m\u001b[0;34m\u001b[0m\u001b[0m\n\u001b[1;32m    225\u001b[0m                 \u001b[0mself\u001b[0m\u001b[0;34m.\u001b[0m\u001b[0mdata\u001b[0m\u001b[0;34m[\u001b[0m\u001b[0;34m'_{}_pickled'\u001b[0m\u001b[0;34m.\u001b[0m\u001b[0mformat\u001b[0m\u001b[0;34m(\u001b[0m\u001b[0mattr\u001b[0m\u001b[0;34m)\u001b[0m\u001b[0;34m]\u001b[0m \u001b[0;34m=\u001b[0m \u001b[0;32mTrue\u001b[0m\u001b[0;34m\u001b[0m\u001b[0;34m\u001b[0m\u001b[0m\n",
      "\u001b[0;31mKeyboardInterrupt\u001b[0m: "
     ]
    }
   ],
   "source": [
    "ga = ga_main(fit, mut_level, model, x, input_scale, init_noise, r1, r2, r3, m, n, layer_idx, db_flag, maxIter, dynamicWeightMutDecay, ga)"
   ]
  },
  {
   "cell_type": "code",
   "execution_count": 7,
   "id": "cc1dd619",
   "metadata": {
    "scrolled": true
   },
   "outputs": [
    {
     "data": {
      "text/plain": [
       "[<matplotlib.lines.Line2D at 0x7ff1aaec7ac8>]"
      ]
     },
     "execution_count": 7,
     "metadata": {},
     "output_type": "execute_result"
    },
    {
     "data": {
      "image/png": "[encoded data removed]",
      "text/plain": [
       "<Figure size 432x288 with 1 Axes>"
      ]
     },
     "metadata": {
      "needs_background": "light"
     },
     "output_type": "display_data"
    }
   ],
   "source": [
    "plt.plot(np.max(np.nan_to_num(ga.fit_hist, -1), axis=1))"
   ]
  },
  {
   "cell_type": "code",
   "execution_count": 8,
   "id": "f925b936",
   "metadata": {},
   "outputs": [
    {
     "data": {
      "text/plain": [
       "[array([5.82002103e-08, 1.70469284e-08, 9.60635953e-08, 1.56804919e-07,\n",
       "        1.03363395e-06, 8.11368227e-09]),\n",
       " array([9.60635953e-08, 1.56804919e-07, 1.03363395e-06,            nan,\n",
       "                   nan,            nan]),\n",
       " array([9.60635953e-08, 1.56804919e-07, 1.03363395e-06,            nan,\n",
       "                   nan,            nan]),\n",
       " array([9.60635953e-08, 1.56804919e-07, 1.03363395e-06,            nan,\n",
       "                   nan,            nan]),\n",
       " array([9.60635953e-08, 1.56804919e-07, 1.03363395e-06,            nan,\n",
       "                   nan,            nan])]"
      ]
     },
     "execution_count": 8,
     "metadata": {},
     "output_type": "execute_result"
    }
   ],
   "source": [
    "ga.fit_hist"
   ]
  },
  {
   "cell_type": "code",
   "execution_count": 9,
   "id": "e399cfa3",
   "metadata": {
    "scrolled": true
   },
   "outputs": [
    {
     "data": {
      "text/plain": [
       "[[150528, 150528, 10],\n",
       " [150528, 152320, 10],\n",
       " [152320, 189248, 10],\n",
       " [189248, 189248, 10],\n",
       " [189248, 263104, 10],\n",
       " [263104, 410688, 10],\n",
       " [410688, 410688, 10],\n",
       " [410688, 705856, 10],\n",
       " [705856, 1295936, 10],\n",
       " [1295936, 1886016, 10],\n",
       " [1886016, 1886016, 10],\n",
       " [1886016, 3066176, 10],\n",
       " [3066176, 5425984, 0.3125],\n",
       " [5425984, 7785792, 0.078125],\n",
       " [7785792, 7785792, 10],\n",
       " [7785792, 10145600, 10],\n",
       " [10145600, 12505408, 10],\n",
       " [12505408, 14865216, 10],\n",
       " [14865216, 14865216, 10],\n",
       " [14865216, 14865216, 10],\n",
       " [14865216, 117629760, 10],\n",
       " [117629760, 134411072, 10],\n",
       " [134411072, 138508072, 10],\n",
       " [138508072, 138508072, 10]]"
      ]
     },
     "execution_count": 9,
     "metadata": {},
     "output_type": "execute_result"
    }
   ],
   "source": [
    "ga.layers_r3"
   ]
  },
  {
   "cell_type": "markdown",
   "id": "7d6a4ba3",
   "metadata": {},
   "source": [
    "## Inconsistency Localisation"
   ]
  },
  {
   "cell_type": "code",
   "execution_count": 10,
   "id": "c7becf43",
   "metadata": {},
   "outputs": [],
   "source": [
    "SL = SourceLocaliser_F(ga, 'vgg-16', 1)"
   ]
  },
  {
   "cell_type": "code",
   "execution_count": 11,
   "id": "ef8c7842",
   "metadata": {},
   "outputs": [],
   "source": [
    "L, UF = SL.localiseNan()"
   ]
  },
  {
   "cell_type": "code",
   "execution_count": 12,
   "id": "ad1d335f",
   "metadata": {},
   "outputs": [
    {
     "name": "stdout",
     "output_type": "stream",
     "text": [
      "[['theano', 18], ['theano', 14], ['theano', 18], ['theano', 14], ['theano', 18], ['theano', 14], ['theano', 18], ['theano', 14], ['theano', 18], ['theano', 14], ['theano', 18], ['theano', 14], ['theano', 18], ['theano', 14], ['theano', 18], ['theano', 14], ['theano', 18], ['theano', 14], ['theano', 18], ['theano', 14], ['theano', 18], ['theano', 14], ['theano', 18], ['theano', 14]]\n",
      "[[0, 'theano', 19], [0, 'theano', 12], [1, 'theano', 19], [1, 'theano', 12], [2, 'theano', 19], [2, 'theano', 12], [3, 'theano', 19], [3, 'theano', 12], [4, 'theano', 19], [5, 'theano', 19], [5, 'theano', 12], [6, 'theano', 19], [7, 'theano', 19], [8, 'theano', 19], [9, 'theano', 19], [10, 'theano', 19], [11, 'theano', 19]]\n"
     ]
    }
   ],
   "source": [
    "print(L)\n",
    "print(UF)"
   ]
  },
  {
   "cell_type": "code",
   "execution_count": 23,
   "id": "47bbdc27",
   "metadata": {},
   "outputs": [],
   "source": [
    "def formatP(ga, idx):\n",
    "    formatted_c = ga.formatPopulations(ga.P)[idx]\n",
    "    if ga.mut_level == 'i':\n",
    "        x = formatted_c\n",
    "    elif ga.mut_level == 'w':\n",
    "        x = ga.input\n",
    "        ga.model.set_weights(formatted_c)\n",
    "    elif ga.mut_level == 'i+w':\n",
    "        x = formatted_c[0]\n",
    "        ga.model.set_weights(formatted_c[1])\n",
    "\n",
    "    return x, ga.model"
   ]
  },
  {
   "cell_type": "code",
   "execution_count": 24,
   "id": "ba4f7537",
   "metadata": {},
   "outputs": [],
   "source": [
    "x, m = formatP(ga, 2)"
   ]
  },
  {
   "cell_type": "code",
   "execution_count": 31,
   "id": "4a62a99f",
   "metadata": {},
   "outputs": [],
   "source": [
    "SL = SourceLocaliser(m, ['tensorflow', 'theano'], x, [], 1)\n",
    "SL.prepare()"
   ]
  },
  {
   "cell_type": "code",
   "execution_count": 32,
   "id": "fb0b73a8",
   "metadata": {},
   "outputs": [
    {
     "data": {
      "text/plain": [
       "[0.0,\n",
       " 1.357734317378122e-05,\n",
       " 0.00047295738239677584,\n",
       " 0.0010168206478868211,\n",
       " 0.01482031539994843,\n",
       " 1.0063281156578843,\n",
       " 2.6744092045998085,\n",
       " 66.31686961894133,\n",
       " 3225.6023596938776,\n",
       " 154571.41836734695,\n",
       " 371779.2653061224,\n",
       " 21067577.469387755,\n",
       " 4258819845.2244897,\n",
       " 312320779744.6531,\n",
       " 678678703877.2245,\n",
       " 111564799521185.95,\n",
       " 1.1553839983362048e+16,\n",
       " 1.215817788250043e+18,\n",
       " 2.975246870631817e+18,\n",
       " 2.975246870631817e+18,\n",
       " 3.32116603440549e+21,\n",
       " 3.441088065427097e+23,\n",
       " 9.423518206551647e+25,\n",
       " 0.0]"
      ]
     },
     "execution_count": 32,
     "metadata": {},
     "output_type": "execute_result"
    }
   ],
   "source": [
    "SL.compute_all_layers_dist()"
   ]
  },
  {
   "cell_type": "code",
   "execution_count": 47,
   "id": "e18be400",
   "metadata": {},
   "outputs": [
    {
     "name": "stdout",
     "output_type": "stream",
     "text": [
      "Change rate between layers:\n",
      "\n",
      "2     Conv2D                         33.58693522464239\n",
      "3     MaxPooling2D                   1.1496771548824094\n",
      "4     Conv2D                         13.573816974555008\n",
      "5     Conv2D                         66.90148511366192\n",
      "6     MaxPooling2D                   1.6575914925046802\n",
      "7     Conv2D                         23.79682881931373\n",
      "8     Conv2D                         47.63924327949071\n",
      "9     Conv2D                         46.920171529550956\n",
      "10    MaxPooling2D                   1.4052264592825907\n",
      "11    Conv2D                         55.6668973645832\n",
      "12    Conv2D                         201.150430034623\n",
      "13    Conv2D                         72.33505315911998\n",
      "14    MaxPooling2D                   1.1730180887486832\n",
      "15    Conv2D                         163.38529584592425\n",
      "16    Conv2D                         102.56169717463611\n",
      "17    Conv2D                         104.23062375806354\n",
      "18    MaxPooling2D                   1.4471157597670659\n",
      "19    Flatten                        0.0\n",
      "20    Dense                          1115.2657012391762\n",
      "21    Dense                          102.61084118587505\n",
      "22    Dense                          272.85286361109246\n",
      "23    Softmax                        -1.0\n"
     ]
    }
   ],
   "source": [
    "print('Change rate between layers:\\n')\n",
    "for i in range(2,len(model.layers)):\n",
    "    print('{:<5} {:<30} {}'.format(i, model.layers[i].__class__.__name__, SL.compute_dists_change(i)))"
   ]
  },
  {
   "cell_type": "code",
   "execution_count": null,
   "id": "0d164a77",
   "metadata": {},
   "outputs": [],
   "source": []
  }
 ],
 "metadata": {
  "kernelspec": {
   "display_name": "audee_test",
   "language": "python",
   "name": "audee_test"
  },
  "language_info": {
   "codemirror_mode": {
    "name": "ipython",
    "version": 3
   },
   "file_extension": ".py",
   "mimetype": "text/x-python",
   "name": "python",
   "nbconvert_exporter": "python",
   "pygments_lexer": "ipython3",
   "version": "3.6.13"
  }
 },
 "nbformat": 4,
 "nbformat_minor": 5
}
