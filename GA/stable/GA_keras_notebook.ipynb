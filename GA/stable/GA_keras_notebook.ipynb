{
 "cells": [
  {
   "cell_type": "code",
   "execution_count": 1,
   "id": "778b2961",
   "metadata": {},
   "outputs": [
    {
     "name": "stderr",
     "output_type": "stream",
     "text": [
      "Using TensorFlow backend.\n"
     ]
    },
    {
     "name": "stdout",
     "output_type": "stream",
     "text": [
      "Configured\n"
     ]
    }
   ],
   "source": [
    "import cv2\n",
    "import keras\n",
    "import tensorflow as tf\n",
    "import matplotlib.pyplot as plt\n",
    "\n",
    "import os\n",
    "import redis\n",
    "import numpy as np\n",
    "import redisConfig\n",
    "\n",
    "from GA_keras import GA, ga_main\n",
    "from SourceLocalisation import SourceLocaliser\n",
    "from SourceLocalisation_F import SourceLocaliser_F\n",
    "\n",
    "# start redis server and config the maximum memory available\n",
    "redisConfig.run()"
   ]
  },
  {
   "cell_type": "code",
   "execution_count": 40,
   "id": "f42b86c8",
   "metadata": {
    "scrolled": true
   },
   "outputs": [
    {
     "name": "stderr",
     "output_type": "stream",
     "text": [
      "/data/yylaiai/anaconda3/envs/audee_test/lib/python3.6/site-packages/ipykernel_launcher.py:9: UserWarning: Update your `Model` call to the Keras 2 API: `Model(inputs=Tensor(\"in..., outputs=Tensor(\"so...)`\n",
      "  if __name__ == '__main__':\n"
     ]
    }
   ],
   "source": [
    "# model = keras.models.load_model('alexnet-cifar10_origin.h5')\n",
    "# new_output = keras.layers.Softmax()(keras.layers.Dense(10)(model.layers[-2].output)) # without specifying activation \n",
    "# new_model = keras.models.Model(input=model.input, output=new_output)\n",
    "# new_model.layers[-2].set_weights(model.layers[-1].get_weights())\n",
    "# model = new_model\n",
    "\n",
    "model = keras.applications.ResNet50()\n",
    "new_output = keras.layers.Softmax()(keras.layers.Dense(1000)(model.layers[-2].output)) # without specifying activation \n",
    "new_model = keras.models.Model(input=model.input, output=new_output)\n",
    "new_model.layers[-2].set_weights(model.layers[-1].get_weights())\n",
    "model = new_model\n",
    "\n",
    "# model = keras.applications.MobileNetV2()\n",
    "# new_output = keras.layers.Softmax()(keras.layers.Dense(1000)(model.layers[-2].output)) # without specifying activation \n",
    "# new_model = keras.models.Model(input=model.input, output=new_output)\n",
    "# new_model.layers[-2].set_weights(model.layers[-1].get_weights())\n",
    "# model = new_model\n",
    "\n",
    "# model = keras.applications.VGG16()\n",
    "# new_output = keras.layers.Softmax()(keras.layers.Dense(1000)(model.layers[-2].output)) # without specifying activation \n",
    "# new_model = keras.models.Model(input=model.input, output=new_output)\n",
    "# new_model.layers[-2].set_weights(model.layers[-1].get_weights())\n",
    "# model = new_model"
   ]
  },
  {
   "cell_type": "code",
   "execution_count": 6,
   "id": "6baec83a",
   "metadata": {},
   "outputs": [
    {
     "name": "stdout",
     "output_type": "stream",
     "text": [
      "(10000, 224, 224, 3)\n"
     ]
    }
   ],
   "source": [
    "# load inputs\n",
    "(x_train, y_train), (x_test, y_test) = tf.keras.datasets.cifar10.load_data()\n",
    "\n",
    "# expand cifar10 images from 32x32 to 224x224\n",
    "x_test_224 = np.array([cv2.resize(i, (224, 224)) for i in x_test])\n",
    "print(x_test_224.shape)"
   ]
  },
  {
   "cell_type": "code",
   "execution_count": 43,
   "id": "46326159",
   "metadata": {
    "scrolled": true
   },
   "outputs": [],
   "source": [
    "mut_level = 'i+w'\n",
    "model = model\n",
    "x = x_test_224[0]/255\n",
    "input_scale = 255 # image scale\n",
    "init_noise = 0 # scale of Cauchy noise added in initialization\n",
    "r1 = 0.5 # crossover rate\n",
    "r2 = 0.3 # mutation rate\n",
    "r3 = 10 # mutation scale (larger scale can trigger NaN inconsistency easier, smaller scale can increase layer distance easier)\n",
    "m = 3 # top m chromosomes selected\n",
    "n = 6 # population size\n",
    "layer_idx = -2 # index of layer used in calculation of fitness values\n",
    "db_flag = 2\n",
    "maxIter = 10\n",
    "dynamicWeightMutDecay = np.inf\n",
    "\n",
    "r = redis.Redis(db=db_flag)\n",
    "r.flushdb()\n",
    "\n",
    "fit = ['inc', ['tensorflow', 'theano']]"
   ]
  },
  {
   "cell_type": "code",
   "execution_count": 41,
   "id": "1cec9034",
   "metadata": {
    "scrolled": true
   },
   "outputs": [
    {
     "data": {
      "text/plain": [
       "[[3072, 3072, 10],\n",
       " [3072, 3072, 10],\n",
       " [3072, 12544, 10],\n",
       " [12544, 12800, 10],\n",
       " [12800, 12800, 10],\n",
       " [12800, 12800, 10],\n",
       " [12800, 12800, 10],\n",
       " [12800, 16960, 10],\n",
       " [16960, 17216, 10],\n",
       " [17216, 17216, 10],\n",
       " [17216, 54144, 10],\n",
       " [54144, 54400, 10],\n",
       " [54400, 54400, 10],\n",
       " [54400, 71040, 10],\n",
       " [71040, 87680, 10],\n",
       " [87680, 88704, 10],\n",
       " [88704, 89728, 10],\n",
       " [89728, 89728, 10],\n",
       " [89728, 89728, 10],\n",
       " [89728, 106176, 10],\n",
       " [106176, 106432, 10],\n",
       " [106432, 106432, 10],\n",
       " [106432, 143360, 10],\n",
       " [143360, 143616, 10],\n",
       " [143616, 143616, 10],\n",
       " [143616, 160256, 10],\n",
       " [160256, 161280, 10],\n",
       " [161280, 161280, 10],\n",
       " [161280, 161280, 10],\n",
       " [161280, 177728, 10],\n",
       " [177728, 177984, 10],\n",
       " [177984, 177984, 10],\n",
       " [177984, 214912, 10],\n",
       " [214912, 215168, 10],\n",
       " [215168, 215168, 10],\n",
       " [215168, 231808, 10],\n",
       " [231808, 232832, 10],\n",
       " [232832, 232832, 10],\n",
       " [232832, 232832, 10],\n",
       " [232832, 265728, 10],\n",
       " [265728, 266240, 10],\n",
       " [266240, 266240, 10],\n",
       " [266240, 413824, 10],\n",
       " [413824, 414336, 10],\n",
       " [414336, 414336, 10],\n",
       " [414336, 480384, 10],\n",
       " [480384, 611968, 10],\n",
       " [611968, 614016, 10],\n",
       " [614016, 616064, 10],\n",
       " [616064, 616064, 10],\n",
       " [616064, 616064, 10],\n",
       " [616064, 681728, 10],\n",
       " [681728, 682240, 10],\n",
       " [682240, 682240, 10],\n",
       " [682240, 829824, 10],\n",
       " [829824, 830336, 10],\n",
       " [830336, 830336, 10],\n",
       " [830336, 896384, 10],\n",
       " [896384, 898432, 10],\n",
       " [898432, 898432, 10],\n",
       " [898432, 898432, 10],\n",
       " [898432, 964096, 10],\n",
       " [964096, 964608, 10],\n",
       " [964608, 964608, 10],\n",
       " [964608, 1112192, 10],\n",
       " [1112192, 1112704, 10],\n",
       " [1112704, 1112704, 10],\n",
       " [1112704, 1178752, 10],\n",
       " [1178752, 1180800, 10],\n",
       " [1180800, 1180800, 10],\n",
       " [1180800, 1180800, 10],\n",
       " [1180800, 1246464, 10],\n",
       " [1246464, 1246976, 10],\n",
       " [1246976, 1246976, 10],\n",
       " [1246976, 1394560, 10],\n",
       " [1394560, 1395072, 10],\n",
       " [1395072, 1395072, 10],\n",
       " [1395072, 1461120, 10],\n",
       " [1461120, 1463168, 10],\n",
       " [1463168, 1463168, 10],\n",
       " [1463168, 1463168, 10],\n",
       " [1463168, 1594496, 10],\n",
       " [1594496, 1595520, 10],\n",
       " [1595520, 1595520, 10],\n",
       " [1595520, 2185600, 10],\n",
       " [2185600, 2186624, 10],\n",
       " [2186624, 2186624, 10],\n",
       " [2186624, 2449792, 10],\n",
       " [2449792, 2975104, 10],\n",
       " [2975104, 2979200, 10],\n",
       " [2979200, 2983296, 10],\n",
       " [2983296, 2983296, 10],\n",
       " [2983296, 2983296, 10],\n",
       " [2983296, 3245696, 10],\n",
       " [3245696, 3246720, 10],\n",
       " [3246720, 3246720, 10],\n",
       " [3246720, 3836800, 10],\n",
       " [3836800, 3837824, 10],\n",
       " [3837824, 3837824, 10],\n",
       " [3837824, 4100992, 10],\n",
       " [4100992, 4105088, 10],\n",
       " [4105088, 4105088, 10],\n",
       " [4105088, 4105088, 10],\n",
       " [4105088, 4367488, 10],\n",
       " [4367488, 4368512, 10],\n",
       " [4368512, 4368512, 10],\n",
       " [4368512, 4958592, 10],\n",
       " [4958592, 4959616, 10],\n",
       " [4959616, 4959616, 10],\n",
       " [4959616, 5222784, 10],\n",
       " [5222784, 5226880, 10],\n",
       " [5226880, 5226880, 10],\n",
       " [5226880, 5226880, 10],\n",
       " [5226880, 5489280, 10],\n",
       " [5489280, 5490304, 10],\n",
       " [5490304, 5490304, 10],\n",
       " [5490304, 6080384, 10],\n",
       " [6080384, 6081408, 10],\n",
       " [6081408, 6081408, 10],\n",
       " [6081408, 6344576, 10],\n",
       " [6344576, 6348672, 10],\n",
       " [6348672, 6348672, 10],\n",
       " [6348672, 6348672, 10],\n",
       " [6348672, 6611072, 10],\n",
       " [6611072, 6612096, 10],\n",
       " [6612096, 6612096, 10],\n",
       " [6612096, 7202176, 10],\n",
       " [7202176, 7203200, 10],\n",
       " [7203200, 7203200, 10],\n",
       " [7203200, 7466368, 10],\n",
       " [7466368, 7470464, 10],\n",
       " [7470464, 7470464, 10],\n",
       " [7470464, 7470464, 10],\n",
       " [7470464, 7732864, 10],\n",
       " [7732864, 7733888, 10],\n",
       " [7733888, 7733888, 10],\n",
       " [7733888, 8323968, 10],\n",
       " [8323968, 8324992, 10],\n",
       " [8324992, 8324992, 10],\n",
       " [8324992, 8588160, 10],\n",
       " [8588160, 8592256, 10],\n",
       " [8592256, 8592256, 10],\n",
       " [8592256, 8592256, 10],\n",
       " [8592256, 9117056, 10],\n",
       " [9117056, 9119104, 10],\n",
       " [9119104, 9119104, 10],\n",
       " [9119104, 11478912, 10],\n",
       " [11478912, 11480960, 10],\n",
       " [11480960, 11480960, 10],\n",
       " [11480960, 12531584, 10],\n",
       " [12531584, 14630784, 10],\n",
       " [14630784, 14638976, 10],\n",
       " [14638976, 14647168, 10],\n",
       " [14647168, 14647168, 10],\n",
       " [14647168, 14647168, 10],\n",
       " [14647168, 15696256, 10],\n",
       " [15696256, 15698304, 10],\n",
       " [15698304, 15698304, 10],\n",
       " [15698304, 18058112, 10],\n",
       " [18058112, 18060160, 10],\n",
       " [18060160, 18060160, 10],\n",
       " [18060160, 19110784, 10],\n",
       " [19110784, 19118976, 10],\n",
       " [19118976, 19118976, 10],\n",
       " [19118976, 19118976, 10],\n",
       " [19118976, 20168064, 10],\n",
       " [20168064, 20170112, 10],\n",
       " [20170112, 20170112, 10],\n",
       " [20170112, 22529920, 10],\n",
       " [22529920, 22531968, 10],\n",
       " [22531968, 22531968, 10],\n",
       " [22531968, 23582592, 10],\n",
       " [23582592, 23590784, 10],\n",
       " [23590784, 23590784, 10],\n",
       " [23590784, 23590784, 10],\n",
       " [23590784, 23590784, 10],\n",
       " [23590784, 25639784, 10],\n",
       " [25639784, 25639784, 10]]"
      ]
     },
     "execution_count": 41,
     "metadata": {},
     "output_type": "execute_result"
    }
   ],
   "source": [
    "ga = GA(fit, mut_level, model, x, input_scale, db_flag)\n",
    "ga.initPopulation(init_noise, n)\n",
    "ga.initDynamicWeightMutation(r3)"
   ]
  },
  {
   "cell_type": "code",
   "execution_count": 42,
   "id": "437d752b",
   "metadata": {
    "scrolled": true
   },
   "outputs": [
    {
     "name": "stdout",
     "output_type": "stream",
     "text": [
      "Continuing from the previous populations...\n",
      "\n",
      "Running at iteration 1:\n",
      "Average fitness value: 0.06594633435209593\n",
      "Time taken: 150.34705233573914\n",
      "\n",
      "Running at iteration 2:\n",
      "Average fitness value: 0.06594633435209593\n",
      "Time taken: 126.11771774291992\n",
      "\n",
      "Running at iteration 3:\n"
     ]
    },
    {
     "ename": "KeyboardInterrupt",
     "evalue": "",
     "output_type": "error",
     "traceback": [
      "\u001b[0;31m---------------------------------------------------------------------------\u001b[0m",
      "\u001b[0;31mKeyboardInterrupt\u001b[0m                         Traceback (most recent call last)",
      "\u001b[0;32m<ipython-input-42-b1bb820af287>\u001b[0m in \u001b[0;36m<module>\u001b[0;34m\u001b[0m\n\u001b[0;32m----> 1\u001b[0;31m \u001b[0mga\u001b[0m \u001b[0;34m=\u001b[0m \u001b[0mga_main\u001b[0m\u001b[0;34m(\u001b[0m\u001b[0mfit\u001b[0m\u001b[0;34m,\u001b[0m \u001b[0mmut_level\u001b[0m\u001b[0;34m,\u001b[0m \u001b[0mmodel\u001b[0m\u001b[0;34m,\u001b[0m \u001b[0mx\u001b[0m\u001b[0;34m,\u001b[0m \u001b[0minput_scale\u001b[0m\u001b[0;34m,\u001b[0m \u001b[0minit_noise\u001b[0m\u001b[0;34m,\u001b[0m \u001b[0mr1\u001b[0m\u001b[0;34m,\u001b[0m \u001b[0mr2\u001b[0m\u001b[0;34m,\u001b[0m \u001b[0mr3\u001b[0m\u001b[0;34m,\u001b[0m \u001b[0mm\u001b[0m\u001b[0;34m,\u001b[0m \u001b[0mn\u001b[0m\u001b[0;34m,\u001b[0m \u001b[0mlayer_idx\u001b[0m\u001b[0;34m,\u001b[0m \u001b[0mdb_flag\u001b[0m\u001b[0;34m,\u001b[0m \u001b[0;36m10\u001b[0m\u001b[0;34m,\u001b[0m \u001b[0mdynamicWeightMutDecay\u001b[0m\u001b[0;34m,\u001b[0m \u001b[0mga\u001b[0m\u001b[0;34m)\u001b[0m\u001b[0;34m\u001b[0m\u001b[0;34m\u001b[0m\u001b[0m\n\u001b[0m",
      "\u001b[0;32m~/fyp21-22/GA/stable/GA_keras.py\u001b[0m in \u001b[0;36mga_main\u001b[0;34m(fit, mut_level, model, x, input_scale, init_noise, r1, r2, r3, m, n, layer_idx, db_flag, maxIter, dynamicWeightMutDecay, ga)\u001b[0m\n\u001b[1;32m    280\u001b[0m         \u001b[0mstart_time\u001b[0m \u001b[0;34m=\u001b[0m \u001b[0mtime\u001b[0m\u001b[0;34m.\u001b[0m\u001b[0mtime\u001b[0m\u001b[0;34m(\u001b[0m\u001b[0;34m)\u001b[0m\u001b[0;34m\u001b[0m\u001b[0;34m\u001b[0m\u001b[0m\n\u001b[1;32m    281\u001b[0m         \u001b[0mga\u001b[0m\u001b[0;34m.\u001b[0m\u001b[0mprepareFitness\u001b[0m\u001b[0;34m(\u001b[0m\u001b[0mga\u001b[0m\u001b[0;34m.\u001b[0m\u001b[0mP\u001b[0m\u001b[0;34m)\u001b[0m\u001b[0;34m\u001b[0m\u001b[0;34m\u001b[0m\u001b[0m\n\u001b[0;32m--> 282\u001b[0;31m         \u001b[0mFit\u001b[0m \u001b[0;34m=\u001b[0m \u001b[0mga\u001b[0m\u001b[0;34m.\u001b[0m\u001b[0mcomputeFitness\u001b[0m\u001b[0;34m(\u001b[0m\u001b[0mlayer_idx\u001b[0m\u001b[0;34m)\u001b[0m\u001b[0;34m\u001b[0m\u001b[0;34m\u001b[0m\u001b[0m\n\u001b[0m\u001b[1;32m    283\u001b[0m         \u001b[0mga\u001b[0m\u001b[0;34m.\u001b[0m\u001b[0mfit_hist\u001b[0m\u001b[0;34m.\u001b[0m\u001b[0mappend\u001b[0m\u001b[0;34m(\u001b[0m\u001b[0mFit\u001b[0m\u001b[0;34m)\u001b[0m\u001b[0;34m\u001b[0m\u001b[0;34m\u001b[0m\u001b[0m\n\u001b[1;32m    284\u001b[0m \u001b[0;34m\u001b[0m\u001b[0m\n",
      "\u001b[0;32m~/fyp21-22/GA/stable/GA_keras.py\u001b[0m in \u001b[0;36mcomputeFitness\u001b[0;34m(self, layer_idx)\u001b[0m\n\u001b[1;32m    156\u001b[0m     \u001b[0;31m# compute fitness scores for each input\u001b[0m\u001b[0;34m\u001b[0m\u001b[0;34m\u001b[0m\u001b[0;34m\u001b[0m\u001b[0m\n\u001b[1;32m    157\u001b[0m     \u001b[0;32mdef\u001b[0m \u001b[0mcomputeFitness\u001b[0m\u001b[0;34m(\u001b[0m\u001b[0mself\u001b[0m\u001b[0;34m,\u001b[0m \u001b[0mlayer_idx\u001b[0m\u001b[0;34m)\u001b[0m\u001b[0;34m:\u001b[0m\u001b[0;34m\u001b[0m\u001b[0;34m\u001b[0m\u001b[0m\n\u001b[0;32m--> 158\u001b[0;31m         \u001b[0mFit\u001b[0m \u001b[0;34m=\u001b[0m \u001b[0mnp\u001b[0m\u001b[0;34m.\u001b[0m\u001b[0msqueeze\u001b[0m\u001b[0;34m(\u001b[0m\u001b[0mself\u001b[0m\u001b[0;34m.\u001b[0m\u001b[0mFFunc\u001b[0m\u001b[0;34m.\u001b[0m\u001b[0mcompute\u001b[0m\u001b[0;34m(\u001b[0m\u001b[0mlayer_idx\u001b[0m\u001b[0;34m)\u001b[0m\u001b[0;34m)\u001b[0m\u001b[0;34m\u001b[0m\u001b[0;34m\u001b[0m\u001b[0m\n\u001b[0m\u001b[1;32m    159\u001b[0m         \u001b[0;32mreturn\u001b[0m \u001b[0mFit\u001b[0m\u001b[0;34m\u001b[0m\u001b[0;34m\u001b[0m\u001b[0m\n\u001b[1;32m    160\u001b[0m \u001b[0;34m\u001b[0m\u001b[0m\n",
      "\u001b[0;32m~/fyp21-22/GA/stable/FFunc_keras.py\u001b[0m in \u001b[0;36mcompute\u001b[0;34m(self, layer_idx, epsilon)\u001b[0m\n\u001b[1;32m     95\u001b[0m \u001b[0;34m\u001b[0m\u001b[0m\n\u001b[1;32m     96\u001b[0m         \u001b[0;32mfor\u001b[0m \u001b[0mp\u001b[0m \u001b[0;32min\u001b[0m \u001b[0mP\u001b[0m\u001b[0;34m:\u001b[0m \u001b[0;31m# wait for the processes to be executed\u001b[0m\u001b[0;34m\u001b[0m\u001b[0;34m\u001b[0m\u001b[0m\n\u001b[0;32m---> 97\u001b[0;31m             \u001b[0mp\u001b[0m\u001b[0;34m.\u001b[0m\u001b[0mjoin\u001b[0m\u001b[0;34m(\u001b[0m\u001b[0;34m)\u001b[0m\u001b[0;34m\u001b[0m\u001b[0;34m\u001b[0m\u001b[0m\n\u001b[0m\u001b[1;32m     98\u001b[0m \u001b[0;34m\u001b[0m\u001b[0m\n\u001b[1;32m     99\u001b[0m         \u001b[0;31m# load predictions\u001b[0m\u001b[0;34m\u001b[0m\u001b[0;34m\u001b[0m\u001b[0;34m\u001b[0m\u001b[0m\n",
      "\u001b[0;32m~/anaconda3/envs/audee_test/lib/python3.6/multiprocessing/process.py\u001b[0m in \u001b[0;36mjoin\u001b[0;34m(self, timeout)\u001b[0m\n\u001b[1;32m    122\u001b[0m         \u001b[0;32massert\u001b[0m \u001b[0mself\u001b[0m\u001b[0;34m.\u001b[0m\u001b[0m_parent_pid\u001b[0m \u001b[0;34m==\u001b[0m \u001b[0mos\u001b[0m\u001b[0;34m.\u001b[0m\u001b[0mgetpid\u001b[0m\u001b[0;34m(\u001b[0m\u001b[0;34m)\u001b[0m\u001b[0;34m,\u001b[0m \u001b[0;34m'can only join a child process'\u001b[0m\u001b[0;34m\u001b[0m\u001b[0;34m\u001b[0m\u001b[0m\n\u001b[1;32m    123\u001b[0m         \u001b[0;32massert\u001b[0m \u001b[0mself\u001b[0m\u001b[0;34m.\u001b[0m\u001b[0m_popen\u001b[0m \u001b[0;32mis\u001b[0m \u001b[0;32mnot\u001b[0m \u001b[0;32mNone\u001b[0m\u001b[0;34m,\u001b[0m \u001b[0;34m'can only join a started process'\u001b[0m\u001b[0;34m\u001b[0m\u001b[0;34m\u001b[0m\u001b[0m\n\u001b[0;32m--> 124\u001b[0;31m         \u001b[0mres\u001b[0m \u001b[0;34m=\u001b[0m \u001b[0mself\u001b[0m\u001b[0;34m.\u001b[0m\u001b[0m_popen\u001b[0m\u001b[0;34m.\u001b[0m\u001b[0mwait\u001b[0m\u001b[0;34m(\u001b[0m\u001b[0mtimeout\u001b[0m\u001b[0;34m)\u001b[0m\u001b[0;34m\u001b[0m\u001b[0;34m\u001b[0m\u001b[0m\n\u001b[0m\u001b[1;32m    125\u001b[0m         \u001b[0;32mif\u001b[0m \u001b[0mres\u001b[0m \u001b[0;32mis\u001b[0m \u001b[0;32mnot\u001b[0m \u001b[0;32mNone\u001b[0m\u001b[0;34m:\u001b[0m\u001b[0;34m\u001b[0m\u001b[0;34m\u001b[0m\u001b[0m\n\u001b[1;32m    126\u001b[0m             \u001b[0m_children\u001b[0m\u001b[0;34m.\u001b[0m\u001b[0mdiscard\u001b[0m\u001b[0;34m(\u001b[0m\u001b[0mself\u001b[0m\u001b[0;34m)\u001b[0m\u001b[0;34m\u001b[0m\u001b[0;34m\u001b[0m\u001b[0m\n",
      "\u001b[0;32m~/anaconda3/envs/audee_test/lib/python3.6/multiprocessing/popen_fork.py\u001b[0m in \u001b[0;36mwait\u001b[0;34m(self, timeout)\u001b[0m\n\u001b[1;32m     48\u001b[0m                     \u001b[0;32mreturn\u001b[0m \u001b[0;32mNone\u001b[0m\u001b[0;34m\u001b[0m\u001b[0;34m\u001b[0m\u001b[0m\n\u001b[1;32m     49\u001b[0m             \u001b[0;31m# This shouldn't block if wait() returned successfully.\u001b[0m\u001b[0;34m\u001b[0m\u001b[0;34m\u001b[0m\u001b[0;34m\u001b[0m\u001b[0m\n\u001b[0;32m---> 50\u001b[0;31m             \u001b[0;32mreturn\u001b[0m \u001b[0mself\u001b[0m\u001b[0;34m.\u001b[0m\u001b[0mpoll\u001b[0m\u001b[0;34m(\u001b[0m\u001b[0mos\u001b[0m\u001b[0;34m.\u001b[0m\u001b[0mWNOHANG\u001b[0m \u001b[0;32mif\u001b[0m \u001b[0mtimeout\u001b[0m \u001b[0;34m==\u001b[0m \u001b[0;36m0.0\u001b[0m \u001b[0;32melse\u001b[0m \u001b[0;36m0\u001b[0m\u001b[0;34m)\u001b[0m\u001b[0;34m\u001b[0m\u001b[0;34m\u001b[0m\u001b[0m\n\u001b[0m\u001b[1;32m     51\u001b[0m         \u001b[0;32mreturn\u001b[0m \u001b[0mself\u001b[0m\u001b[0;34m.\u001b[0m\u001b[0mreturncode\u001b[0m\u001b[0;34m\u001b[0m\u001b[0;34m\u001b[0m\u001b[0m\n\u001b[1;32m     52\u001b[0m \u001b[0;34m\u001b[0m\u001b[0m\n",
      "\u001b[0;32m~/anaconda3/envs/audee_test/lib/python3.6/multiprocessing/popen_fork.py\u001b[0m in \u001b[0;36mpoll\u001b[0;34m(self, flag)\u001b[0m\n\u001b[1;32m     26\u001b[0m             \u001b[0;32mwhile\u001b[0m \u001b[0;32mTrue\u001b[0m\u001b[0;34m:\u001b[0m\u001b[0;34m\u001b[0m\u001b[0;34m\u001b[0m\u001b[0m\n\u001b[1;32m     27\u001b[0m                 \u001b[0;32mtry\u001b[0m\u001b[0;34m:\u001b[0m\u001b[0;34m\u001b[0m\u001b[0;34m\u001b[0m\u001b[0m\n\u001b[0;32m---> 28\u001b[0;31m                     \u001b[0mpid\u001b[0m\u001b[0;34m,\u001b[0m \u001b[0msts\u001b[0m \u001b[0;34m=\u001b[0m \u001b[0mos\u001b[0m\u001b[0;34m.\u001b[0m\u001b[0mwaitpid\u001b[0m\u001b[0;34m(\u001b[0m\u001b[0mself\u001b[0m\u001b[0;34m.\u001b[0m\u001b[0mpid\u001b[0m\u001b[0;34m,\u001b[0m \u001b[0mflag\u001b[0m\u001b[0;34m)\u001b[0m\u001b[0;34m\u001b[0m\u001b[0;34m\u001b[0m\u001b[0m\n\u001b[0m\u001b[1;32m     29\u001b[0m                 \u001b[0;32mexcept\u001b[0m \u001b[0mOSError\u001b[0m \u001b[0;32mas\u001b[0m \u001b[0me\u001b[0m\u001b[0;34m:\u001b[0m\u001b[0;34m\u001b[0m\u001b[0;34m\u001b[0m\u001b[0m\n\u001b[1;32m     30\u001b[0m                     \u001b[0;31m# Child process not yet created. See #1731717\u001b[0m\u001b[0;34m\u001b[0m\u001b[0;34m\u001b[0m\u001b[0;34m\u001b[0m\u001b[0m\n",
      "\u001b[0;31mKeyboardInterrupt\u001b[0m: "
     ]
    }
   ],
   "source": [
    "ga = ga_main(fit, mut_level, model, x, input_scale, init_noise, r1, r2, r3, m, n, layer_idx, db_flag, 10, dynamicWeightMutDecay, ga)"
   ]
  },
  {
   "cell_type": "code",
   "execution_count": 35,
   "id": "cc1dd619",
   "metadata": {
    "scrolled": true
   },
   "outputs": [
    {
     "data": {
      "text/plain": [
       "[<matplotlib.lines.Line2D at 0x7f5948674b70>]"
      ]
     },
     "execution_count": 35,
     "metadata": {},
     "output_type": "execute_result"
    },
    {
     "data": {
      "image/png": "[encoded data removed]",
      "text/plain": [
       "<Figure size 432x288 with 1 Axes>"
      ]
     },
     "metadata": {
      "needs_background": "light"
     },
     "output_type": "display_data"
    }
   ],
   "source": [
    "plt.plot(np.max(np.nan_to_num(ga.fit_hist, -1), axis=1))"
   ]
  },
  {
   "cell_type": "code",
   "execution_count": 28,
   "id": "b4f87f91",
   "metadata": {},
   "outputs": [
    {
     "data": {
      "text/plain": [
       "[[['nan', 'tensorflow', [11, 12, 13, 14, 15, 16, 17, 18]],\n",
       "  ['nan', 'theano', [11, 12, 13, 14, 15, 16, 17, 18]]],\n",
       " array([ 1.00000000e+00,  1.00000000e+00,  1.00000000e+00, ...,\n",
       "        -3.41296792e-02, -2.87883347e+01, -1.82542689e-02])]"
      ]
     },
     "execution_count": 28,
     "metadata": {},
     "output_type": "execute_result"
    }
   ],
   "source": [
    "ga.F[-1]"
   ]
  },
  {
   "cell_type": "code",
   "execution_count": 37,
   "id": "8830b5d1",
   "metadata": {},
   "outputs": [],
   "source": [
    "def export_model(model, model_name, x, db_flag):\n",
    "    w = model.get_weights()\n",
    "    r = redis.Redis(db=db_flag)\n",
    "    r.hset(model_name, 'weights', pickle.dumps(w))\n",
    "    r.hset(model_name, 'input', pickle.dumps(x))"
   ]
  },
  {
   "cell_type": "code",
   "execution_count": 38,
   "id": "399809ec",
   "metadata": {},
   "outputs": [],
   "source": [
    "export_model(model, 'alexnet', x, 4)"
   ]
  },
  {
   "cell_type": "markdown",
   "id": "7d6a4ba3",
   "metadata": {},
   "source": [
    "## Inconsistency Localisation"
   ]
  },
  {
   "cell_type": "code",
   "execution_count": 29,
   "id": "c7becf43",
   "metadata": {},
   "outputs": [],
   "source": [
    "SL = SourceLocaliser_F(ga, 'alexnet', 1)"
   ]
  },
  {
   "cell_type": "code",
   "execution_count": 30,
   "id": "ef8c7842",
   "metadata": {},
   "outputs": [],
   "source": [
    "L, UF = SL.localiseNan()"
   ]
  },
  {
   "cell_type": "code",
   "execution_count": 24,
   "id": "47bbdc27",
   "metadata": {},
   "outputs": [],
   "source": [
    "def formatP(ga, idx):\n",
    "    formatted_c = ga.formatPopulations(ga.P)[idx]\n",
    "    if ga.mut_level == 'i':\n",
    "        x = formatted_c\n",
    "    elif ga.mut_level == 'w':\n",
    "        x = ga.input\n",
    "        ga.model.set_weights(formatted_c)\n",
    "    elif ga.mut_level == 'i+w':\n",
    "        x = formatted_c[0]\n",
    "        ga.model.set_weights(formatted_c[1])\n",
    "\n",
    "    return x, ga.model"
   ]
  },
  {
   "cell_type": "code",
   "execution_count": 25,
   "id": "ba4f7537",
   "metadata": {},
   "outputs": [],
   "source": [
    "x, m = formatP(ga, 2)"
   ]
  },
  {
   "cell_type": "code",
   "execution_count": 10,
   "id": "feb6e575",
   "metadata": {},
   "outputs": [],
   "source": [
    "import importlib\n",
    "import SourceLocalisation\n",
    "\n",
    "importlib.reload(SourceLocalisation)\n",
    "from SourceLocalisation import SourceLocaliser"
   ]
  },
  {
   "cell_type": "code",
   "execution_count": 11,
   "id": "4a62a99f",
   "metadata": {},
   "outputs": [],
   "source": [
    "SL = SourceLocaliser(m, ['tensorflow', 'theano'], x, [], 1)\n",
    "SL.prepare()"
   ]
  },
  {
   "cell_type": "code",
   "execution_count": 12,
   "id": "fb0b73a8",
   "metadata": {},
   "outputs": [],
   "source": [
    "layers_dist = SL.compute_all_layers_dist()"
   ]
  },
  {
   "cell_type": "code",
   "execution_count": 13,
   "id": "af523f90",
   "metadata": {},
   "outputs": [
    {
     "name": "stdout",
     "output_type": "stream",
     "text": [
      "Distance of layer between TF and TH:\n",
      "\n",
      "0     InputLayer                     0.0\n",
      "1     ZeroPadding2D                  0.0\n",
      "2     Conv2D                         9.250993803199927e-10\n",
      "3     BatchNormalization             1.164115661010458e-09\n",
      "4     ReLU                           1.2523957816390938e-08\n",
      "5     DepthwiseConv2D                3.4123507466389054e-09\n",
      "6     BatchNormalization             5.4550591998196646e-08\n",
      "7     ReLU                           1.6805962118547654e-08\n",
      "8     Conv2D                         4.55952779387245e-09\n",
      "9     BatchNormalization             2.7016953101003902e-08\n",
      "10    Conv2D                         2.3405880952219487e-09\n",
      "11    BatchNormalization             4.1265296630979493e-08\n",
      "12    ReLU                           3.7347351225230805e-08\n",
      "13    ZeroPadding2D                  3.6689261004722e-08\n",
      "14    DepthwiseConv2D                9.04596113812869e-10\n",
      "15    BatchNormalization             3.1190484692377228e-09\n",
      "16    ReLU                           5.4169040409686536e-08\n",
      "17    Conv2D                         2.0897218468123858e-08\n",
      "18    BatchNormalization             2.6078826330481795e-08\n",
      "19    Conv2D                         3.6524366793305086e-08\n",
      "20    BatchNormalization             2.2852013373056896e-09\n",
      "21    ReLU                           8.532739052487762e-08\n",
      "22    DepthwiseConv2D                3.0098618644058954e-09\n",
      "23    BatchNormalization             4.319516189429115e-09\n",
      "24    ReLU                           7.063492392390426e-07\n",
      "25    Conv2D                         2.419194036328113e-07\n",
      "26    BatchNormalization             3.8061477184504725e-07\n",
      "27    Add                            3.5211581104834166e-07\n",
      "28    Conv2D                         8.641374379273951e-08\n",
      "29    BatchNormalization             7.200140815942026e-08\n",
      "30    ReLU                           2.2377176294757937e-06\n",
      "31    ZeroPadding2D                  2.159889961845518e-06\n",
      "32    DepthwiseConv2D                5.3349334077145105e-08\n",
      "33    BatchNormalization             1.6800037642218627e-08\n",
      "34    ReLU                           5.8450343302723505e-06\n",
      "35    Conv2D                         1.8143237328479942e-06\n",
      "36    BatchNormalization             1.481337602278788e-06\n",
      "37    Conv2D                         3.0204613548925236e-07\n",
      "38    BatchNormalization             2.446569950592254e-07\n",
      "39    ReLU                           3.985969387755102e-05\n",
      "40    DepthwiseConv2D                9.712191745258715e-07\n",
      "41    BatchNormalization             8.20462966138231e-07\n",
      "42    ReLU                           3.8019945325494624e-05\n",
      "43    Conv2D                         9.342747721440938e-06\n",
      "44    BatchNormalization             9.711331697370932e-06\n",
      "45    Add                            9.902948347319449e-06\n",
      "46    Conv2D                         1.2956496698743834e-06\n",
      "47    BatchNormalization             1.3344839799731057e-06\n",
      "48    ReLU                           0.00015284431477387747\n",
      "49    DepthwiseConv2D                4.826782771772673e-06\n",
      "50    BatchNormalization             5.027235701021288e-06\n",
      "51    ReLU                           0.00021079508270941625\n",
      "52    Conv2D                         1.049850002995559e-05\n",
      "53    BatchNormalization             1.0953572274622869e-05\n",
      "54    Add                            1.4072925574621375e-05\n",
      "55    Conv2D                         2.955408453257108e-06\n",
      "56    BatchNormalization             2.472713901693014e-06\n",
      "57    ReLU                           0.0003255208333333333\n",
      "58    ZeroPadding2D                  0.00030345818470075306\n",
      "59    DepthwiseConv2D                2.4196286337310765e-05\n",
      "60    BatchNormalization             1.577497935112642e-05\n",
      "61    ReLU                           0.00024191475137561356\n",
      "62    Conv2D                         2.1295172960630486e-05\n",
      "63    BatchNormalization             2.6465338958921483e-05\n",
      "64    Conv2D                         1.3773408552099551e-06\n",
      "65    BatchNormalization             9.686611062169176e-07\n",
      "66    ReLU                           0.00030559098639455784\n",
      "67    DepthwiseConv2D                1.5530063292379078e-06\n",
      "68    BatchNormalization             3.993971317651726e-06\n",
      "69    ReLU                           0.000327033681326172\n",
      "70    Conv2D                         6.233893182812905e-06\n",
      "71    BatchNormalization             4.773360216153823e-06\n",
      "72    Add                            6.318101849482984e-06\n",
      "73    Conv2D                         1.6264149010004031e-06\n",
      "74    BatchNormalization             1.3054341994872202e-06\n",
      "75    ReLU                           0.00034545068027210885\n",
      "76    DepthwiseConv2D                6.308908206822516e-06\n",
      "77    BatchNormalization             4.765943491033145e-06\n",
      "78    ReLU                           0.00040680286632914124\n",
      "79    Conv2D                         3.4423468976604694e-05\n",
      "80    BatchNormalization             3.186664401496551e-05\n",
      "81    Add                            2.0492593852841125e-05\n",
      "82    Conv2D                         1.0421068794062348e-05\n",
      "83    BatchNormalization             9.838751434874373e-06\n",
      "84    ReLU                           0.0009034863945578232\n",
      "85    DepthwiseConv2D                9.467077701270175e-06\n",
      "86    BatchNormalization             9.76708236144108e-06\n",
      "87    ReLU                           0.001144457836540378\n",
      "88    Conv2D                         0.00010580691147823723\n",
      "89    BatchNormalization             7.640298608006263e-05\n",
      "90    Add                            4.261378578993739e-05\n",
      "91    Conv2D                         3.083613400227156e-06\n",
      "92    BatchNormalization             6.257056664092605e-06\n",
      "93    ReLU                           0.0013950892857142857\n",
      "94    DepthwiseConv2D                0.0014814610789422274\n",
      "95    BatchNormalization             0.001925897233340205\n",
      "96    ReLU                           0.0016253753786995297\n",
      "97    Conv2D                         4.5180485463466774e-05\n",
      "98    BatchNormalization             4.5938952667575306e-05\n",
      "99    Conv2D                         2.844699462052105e-05\n",
      "100   BatchNormalization             2.2232857724976917e-05\n",
      "101   ReLU                           0.003861965505984905\n",
      "102   DepthwiseConv2D                0.0002100345870805165\n",
      "103   BatchNormalization             0.0002015455374642024\n",
      "104   ReLU                           0.004450975361865124\n",
      "105   Conv2D                         0.000414609148794291\n",
      "106   BatchNormalization             0.0003272971125687061\n",
      "107   Add                            0.00017812009267255562\n",
      "108   Conv2D                         0.0001120743702869026\n",
      "109   BatchNormalization             4.142046802573734e-05\n",
      "110   ReLU                           0.007360756802721089\n",
      "111   DepthwiseConv2D                4.237053953871435e-05\n",
      "112   BatchNormalization             3.882837978079746e-05\n",
      "113   ReLU                           0.008281541249108694\n",
      "114   Conv2D                         0.0006862155535594136\n",
      "115   BatchNormalization             0.0010099976646656893\n",
      "116   Add                            0.0004659484134239404\n",
      "117   Conv2D                         6.463460607323246e-05\n",
      "118   BatchNormalization             5.9253411566048796e-05\n",
      "119   ReLU                           0.011727607709750567\n",
      "120   ZeroPadding2D                  0.01021604938271605\n",
      "121   DepthwiseConv2D                3.082054939602508e-05\n",
      "122   BatchNormalization             3.2099878284531114e-05\n",
      "123   ReLU                           0.013950032171478617\n",
      "124   Conv2D                         0.0008059590446705721\n",
      "125   BatchNormalization             0.0008897851924506985\n",
      "126   Conv2D                         7.643893766565388e-05\n",
      "127   BatchNormalization             6.2935733470787e-05\n",
      "128   ReLU                           0.0194515306122449\n",
      "129   DepthwiseConv2D                0.00014438496357729646\n",
      "130   BatchNormalization             0.00016267411157387454\n",
      "131   ReLU                           0.022603352864583332\n",
      "132   Conv2D                         0.001115140014765214\n",
      "133   BatchNormalization             0.0010610329861543617\n",
      "134   Add                            0.0012782408266651386\n",
      "135   Conv2D                         0.022450370529071003\n",
      "136   BatchNormalization             0.022449226119891315\n",
      "137   ReLU                           0.03282312925170068\n",
      "138   DepthwiseConv2D                0.00021700299516016122\n",
      "139   BatchNormalization             0.0018899956528021366\n",
      "140   ReLU                           0.03448295852764934\n",
      "141   Conv2D                         0.1769140438157685\n",
      "142   BatchNormalization             0.16896690835758132\n",
      "143   Add                            0.1673023457429847\n",
      "144   Conv2D                         0.24176386619100765\n",
      "145   BatchNormalization             0.21758113523729805\n",
      "146   ReLU                           0.05582482993197279\n",
      "147   DepthwiseConv2D                0.0001138938426160488\n",
      "148   BatchNormalization             0.00011451609280644631\n",
      "149   ReLU                           0.06162652255726509\n",
      "150   Conv2D                         0.0010848539216177803\n",
      "151   BatchNormalization             0.0010044828969605114\n",
      "152   Conv2D                         0.0005419799867941409\n",
      "153   BatchNormalization             0.0005500581799721231\n",
      "154   ReLU                           0.08968431122448979\n",
      "155   GlobalAveragePooling2D         0.03174426257610321\n",
      "156   Dense                          0.0017946404218673706\n",
      "157   Softmax                        0.002\n"
     ]
    }
   ],
   "source": [
    "print('Distance of layer between TF and TH:\\n')\n",
    "for i in range(len(model.layers)):\n",
    "    print('{:<5} {:<30} {}'.format(i, model.layers[i].__class__.__name__, layers_dist[i]))"
   ]
  },
  {
   "cell_type": "code",
   "execution_count": 14,
   "id": "e18be400",
   "metadata": {},
   "outputs": [
    {
     "name": "stdout",
     "output_type": "stream",
     "text": [
      "Change rate between layers:\n",
      "\n",
      "1     ZeroPadding2D                  0.0\n",
      "2     Conv2D                         0.009250993803199927\n",
      "3     BatchNormalization             0.0023682541028745576\n",
      "4     ReLU                           0.11229122185425937\n",
      "5     DepthwiseConv2D                -0.08097481857703356\n",
      "6     BatchNormalization             0.37349054367943546\n",
      "7     ReLU                           -0.24422183953905147\n",
      "8     Conv2D                         -0.3234608393147243\n",
      "9     BatchNormalization             -0.17815291770292294\n",
      "10    Conv2D                         -0.3378182071511179\n",
      "11    BatchNormalization             -0.08596081836666256\n",
      "12    ReLU                           -0.11131138710336727\n",
      "13    ZeroPadding2D                  -0.1155694763930963\n",
      "14    DepthwiseConv2D                -0.3471096111039791\n",
      "15    BatchNormalization             -0.33278127805268487\n",
      "16    ReLU                           -0.002468781151705726\n",
      "17    Conv2D                         -0.21774988432568068\n",
      "18    BatchNormalization             -0.1842229479654602\n",
      "19    Conv2D                         -0.11663640347040469\n",
      "20    BatchNormalization             -0.33817658014212465\n",
      "21    ReLU                           0.1991373706743232\n",
      "22    DepthwiseConv2D                -0.44417356995819646\n",
      "23    BatchNormalization             -0.4371068631896283\n",
      "24    ReLU                           3.350944762969624\n",
      "25    Conv2D                         -0.5759661112156774\n",
      "26    BatchNormalization             -0.4039620198580372\n",
      "27    Add                            -0.43930521782967574\n",
      "28    Conv2D                         -0.7688176106315181\n",
      "29    BatchNormalization             -0.7866911757469516\n",
      "30    ReLU                           1.899137886806856\n",
      "31    ZeroPadding2D                  -0.033292159262077986\n",
      "32    DepthwiseConv2D                -0.9344021142059266\n",
      "33    BatchNormalization             -0.9500367212149529\n",
      "34    ReLU                           1.5430934238218736\n",
      "35    Conv2D                         -0.6779961853037278\n",
      "36    BatchNormalization             -0.734006985590217\n",
      "37    Conv2D                         -0.932372781525917\n",
      "38    BatchNormalization             -0.9420260715225447\n",
      "39    ReLU                           5.72152449550622\n",
      "40    DepthwiseConv2D                -0.9731925079854609\n",
      "41    BatchNormalization             -0.9769652147746972\n",
      "42    ReLU                           -0.046040106255417206\n",
      "43    Conv2D                         -0.7636931916851899\n",
      "44    BatchNormalization             -0.7544692978020322\n",
      "45    Add                            -0.7496740496067961\n",
      "46    Conv2D                         -0.9650735645235149\n",
      "47    BatchNormalization             -0.9641017274964915\n",
      "48    ReLU                           2.8274646257938465\n",
      "49    DepthwiseConv2D                -0.9677870813370425\n",
      "50    BatchNormalization             -0.9664764544625165\n",
      "51    ReLU                           0.37890109234342484\n",
      "52    Conv2D                         -0.9497451534014245\n",
      "53    BatchNormalization             -0.9475873399577878\n",
      "54    Add                            -0.9327963203667974\n",
      "55    Conv2D                         -0.9855121873208063\n",
      "56    BatchNormalization             -0.9878009772980916\n",
      "57    ReLU                           0.543994431496504\n",
      "58    ZeroPadding2D                  -0.06775564206604387\n",
      "59    DepthwiseConv2D                -0.9253847301826692\n",
      "60    BatchNormalization             -0.9512470403425464\n",
      "61    ReLU                           -0.25675900740703966\n",
      "62    Conv2D                         -0.9342942134825614\n",
      "63    BatchNormalization             -0.9184163412181711\n",
      "64    Conv2D                         -0.9954630026583784\n",
      "65    BatchNormalization             -0.9967180812871302\n",
      "66    ReLU                           -0.0612056874087463\n",
      "67    DepthwiseConv2D                -0.994923524049993\n",
      "68    BatchNormalization             -0.9874271824817155\n",
      "69    ReLU                           0.004646041769968639\n",
      "70    Conv2D                         -0.9806382113968338\n",
      "71    BatchNormalization             -0.9851028478743075\n",
      "72    Add                            -0.9803807977721384\n",
      "73    Conv2D                         -0.9947226011885977\n",
      "74    BatchNormalization             -0.9957037924258066\n",
      "75    ReLU                           0.05629808239639505\n",
      "76    DepthwiseConv2D                -0.9814530586315856\n",
      "77    BatchNormalization             -0.9859182928327579\n",
      "78    ReLU                           0.17754902409313658\n",
      "79    Conv2D                         -0.9151555031104674\n",
      "80    BatchNormalization             -0.9214391279585927\n",
      "81    Add                            -0.9493918682888217\n",
      "82    Conv2D                         -0.9741435372796025\n",
      "83    BatchNormalization             -0.9755746340040894\n",
      "84    ReLU                           1.2206439652526744\n",
      "85    DepthwiseConv2D                -0.9894121051856343\n",
      "86    BatchNormalization             -0.9890800897170773\n",
      "87    ReLU                           0.26668334476248506\n",
      "88    Conv2D                         -0.9074691482622154\n",
      "89    BatchNormalization             -0.9331593532124982\n",
      "90    Add                            -0.9626809721393834\n",
      "91    Conv2D                         -0.9972184774778614\n",
      "92    BatchNormalization             -0.9944458406022469\n",
      "93    ReLU                           0.21897665733649968\n",
      "94    DepthwiseConv2D                0.06190686390178411\n",
      "95    BatchNormalization             0.29997828689944145\n",
      "96    ReLU                           -0.1560344165809046\n",
      "97    Conv2D                         -0.97648984916508\n",
      "98    BatchNormalization             -0.9760960442358833\n",
      "99    Conv2D                         -0.9851780708059414\n",
      "100   BatchNormalization             -0.9884045224269374\n",
      "101   ReLU                           1.005228999881287\n",
      "102   DepthwiseConv2D                -0.9455901028206595\n",
      "103   BatchNormalization             -0.9477881622795575\n",
      "104   ReLU                           0.15251161715601438\n",
      "105   Conv2D                         -0.906829447924576\n",
      "106   BatchNormalization             -0.9264453899447082\n",
      "107   Add                            -0.9599602167603208\n",
      "108   Conv2D                         -0.9747983664244456\n",
      "109   BatchNormalization             -0.9906718119442625\n",
      "110   ReLU                           0.6537254942447628\n",
      "111   DepthwiseConv2D                -0.9942302179383501\n",
      "112   BatchNormalization             -0.9947114336246282\n",
      "113   ReLU                           0.12509202000060893\n",
      "114   Conv2D                         -0.9171280748688218\n",
      "115   BatchNormalization             -0.8780317047934914\n",
      "116   Add                            -0.9437251144543242\n",
      "117   Conv2D                         -0.9921833602632572\n",
      "118   BatchNormalization             -0.9928331341843096\n",
      "119   ReLU                           0.4161091210045779\n",
      "120   ZeroPadding2D                  -0.128887789877112\n",
      "121   DepthwiseConv2D                -0.9973634617982237\n",
      "122   BatchNormalization             -0.9972543757841306\n",
      "123   ReLU                           0.1895020337077721\n",
      "124   Conv2D                         -0.9422185370889475\n",
      "125   BatchNormalization             -0.9362095511704118\n",
      "126   Conv2D                         -0.9945133897855005\n",
      "127   BatchNormalization             -0.9954813522412594\n",
      "128   ReLU                           0.3943689115730551\n",
      "129   DepthwiseConv2D                -0.992572089895315\n",
      "130   BatchNormalization             -0.9916318526287763\n",
      "131   ReLU                           0.16203383228727086\n",
      "132   Conv2D                         -0.9506606348398811\n",
      "133   BatchNormalization             -0.9530543854290059\n",
      "134   Add                            -0.94344488718942\n",
      "135   Conv2D                         -0.006768095849286485\n",
      "136   BatchNormalization             -0.0068187256883002105\n",
      "137   ReLU                           0.45213341732981016\n",
      "138   DepthwiseConv2D                -0.993385690557887\n",
      "139   BatchNormalization             -0.9424159140982691\n",
      "140   ReLU                           0.05056873786611535\n",
      "141   Conv2D                         4.13046554944987\n",
      "142   BatchNormalization             -0.04492085984070903\n",
      "143   Add                            -0.05432973229541815\n",
      "144   Conv2D                         0.36656098249991376\n",
      "145   BatchNormalization             -0.10002620049095251\n",
      "146   ReLU                           -0.7690932573141697\n",
      "147   DepthwiseConv2D                -0.9995284911791777\n",
      "148   BatchNormalization             -0.9995259173870605\n",
      "149   ReLU                           -0.7450959151266717\n",
      "150   Conv2D                         -0.9955123423117546\n",
      "151   BatchNormalization             -0.9958447782240352\n",
      "152   Conv2D                         -0.9977578131458769\n",
      "153   BatchNormalization             -0.9977243995925453\n",
      "154   ReLU                           -0.6290414463434395\n",
      "155   GlobalAveragePooling2D         -0.8686968820199479\n",
      "156   Dense                          -0.99257647675895\n",
      "157   Softmax                        -0.9917270549804771\n"
     ]
    }
   ],
   "source": [
    "print('Change rate between layers:\\n')\n",
    "for i in range(1,len(model.layers)):\n",
    "    print('{:<5} {:<30} {}'.format(i, model.layers[i].__class__.__name__, SL.compute_dists_change(i)))"
   ]
  },
  {
   "cell_type": "code",
   "execution_count": 18,
   "id": "0d164a77",
   "metadata": {
    "scrolled": true
   },
   "outputs": [
    {
     "name": "stdout",
     "output_type": "stream",
     "text": [
      "<keras.layers.normalization.BatchNormalization object at 0x7fbae4a72be0>\n",
      "<keras.layers.normalization.BatchNormalization object at 0x7fbc387cc160>\n",
      "<keras.layers.normalization.BatchNormalization object at 0x7fbc377b7d30>\n",
      "<keras.layers.normalization.BatchNormalization object at 0x7fbc3777bfd0>\n",
      "<keras.layers.normalization.BatchNormalization object at 0x7fbc37737780>\n",
      "<keras.layers.normalization.BatchNormalization object at 0x7fbc376d4ac8>\n",
      "<keras.layers.normalization.BatchNormalization object at 0x7fbc37699f60>\n",
      "<keras.layers.normalization.BatchNormalization object at 0x7fbc3764be48>\n",
      "<keras.layers.normalization.BatchNormalization object at 0x7fbc37680e10>\n",
      "<keras.layers.normalization.BatchNormalization object at 0x7fbc37638cc0>\n",
      "<keras.layers.normalization.BatchNormalization object at 0x7fbc375f1ac8>\n",
      "<keras.layers.normalization.BatchNormalization object at 0x7fbc3759ffd0>\n",
      "<keras.layers.normalization.BatchNormalization object at 0x7fbc375c04e0>\n",
      "<keras.layers.normalization.BatchNormalization object at 0x7fbc3756ef98>\n",
      "<keras.layers.normalization.BatchNormalization object at 0x7fbc3753abe0>\n",
      "<keras.layers.normalization.BatchNormalization object at 0x7fbc374efa90>\n",
      "<keras.layers.normalization.BatchNormalization object at 0x7fbc374ff5f8>\n",
      "<keras.layers.normalization.BatchNormalization object at 0x7fbc37457a58>\n",
      "<keras.layers.normalization.BatchNormalization object at 0x7fbc3740b908>\n",
      "<keras.layers.normalization.BatchNormalization object at 0x7fbc373c9c50>\n",
      "<keras.layers.normalization.BatchNormalization object at 0x7fbc373f4b00>\n",
      "<keras.layers.normalization.BatchNormalization object at 0x7fbc37399160>\n",
      "<keras.layers.normalization.BatchNormalization object at 0x7fbc373b8898>\n",
      "<keras.layers.normalization.BatchNormalization object at 0x7fbc3730e828>\n",
      "<keras.layers.normalization.BatchNormalization object at 0x7fbc372c76d8>\n",
      "<keras.layers.normalization.BatchNormalization object at 0x7fbc372d9240>\n",
      "<keras.layers.normalization.BatchNormalization object at 0x7fbc372ab6a0>\n",
      "<keras.layers.normalization.BatchNormalization object at 0x7fbc37264550>\n",
      "<keras.layers.normalization.BatchNormalization object at 0x7fbc37215f28>\n",
      "<keras.layers.normalization.BatchNormalization object at 0x7fbc371ca518>\n",
      "<keras.layers.normalization.BatchNormalization object at 0x7fbc371e7b00>\n",
      "<keras.layers.normalization.BatchNormalization object at 0x7fbc371b4d30>\n",
      "<keras.layers.normalization.BatchNormalization object at 0x7fbc3714ed30>\n",
      "<keras.layers.normalization.BatchNormalization object at 0x7fbc37103978>\n",
      "<keras.layers.normalization.BatchNormalization object at 0x7fbc370c6cc0>\n",
      "<keras.layers.normalization.BatchNormalization object at 0x7fbc370e9a58>\n",
      "<keras.layers.normalization.BatchNormalization object at 0x7fbc370b0fd0>\n",
      "<keras.layers.normalization.BatchNormalization object at 0x7fbc37063f28>\n",
      "<keras.layers.normalization.BatchNormalization object at 0x7fbc37018f28>\n",
      "<keras.layers.normalization.BatchNormalization object at 0x7fbae4215da0>\n",
      "<keras.layers.normalization.BatchNormalization object at 0x7fbae41d1ba8>\n",
      "<keras.layers.normalization.BatchNormalization object at 0x7fbae41fcf60>\n",
      "<keras.layers.normalization.BatchNormalization object at 0x7fbae41a15f8>\n",
      "<keras.layers.normalization.BatchNormalization object at 0x7fbae414e6a0>\n",
      "<keras.layers.normalization.BatchNormalization object at 0x7fbae411bcc0>\n",
      "<keras.layers.normalization.BatchNormalization object at 0x7fbae40d0b70>\n",
      "<keras.layers.normalization.BatchNormalization object at 0x7fbae40e06d8>\n",
      "<keras.layers.normalization.BatchNormalization object at 0x7fbae40b6b38>\n",
      "<keras.layers.normalization.BatchNormalization object at 0x7fbae406b9e8>\n",
      "<keras.layers.normalization.BatchNormalization object at 0x7fbae407c550>\n",
      "<keras.layers.normalization.BatchNormalization object at 0x7fba7c7c29b0>\n",
      "<keras.layers.normalization.BatchNormalization object at 0x7fba7c7e7080>\n"
     ]
    }
   ],
   "source": [
    "for i in range(len(layers_r3)):\n",
    "    if layers_r3[i][2] == 0:\n",
    "        print(model.layers[i])"
   ]
  },
  {
   "cell_type": "code",
   "execution_count": 19,
   "id": "0a39217d",
   "metadata": {
    "scrolled": true
   },
   "outputs": [],
   "source": [
    "p1 = SL.predictions_1"
   ]
  },
  {
   "cell_type": "code",
   "execution_count": 20,
   "id": "3645de9d",
   "metadata": {},
   "outputs": [],
   "source": [
    "p2 = SL.predictions_2"
   ]
  },
  {
   "cell_type": "code",
   "execution_count": 59,
   "id": "98cdc94f",
   "metadata": {},
   "outputs": [],
   "source": [
    "saveInconsistencyCases(m, x)"
   ]
  },
  {
   "cell_type": "code",
   "execution_count": 58,
   "id": "92c710ea",
   "metadata": {},
   "outputs": [],
   "source": [
    "def saveInconsistencyCases(model, x, saved_inc_dir = \"saved_inc\"):\n",
    "    if not os.path.exists(saved_inc_dir):\n",
    "        os.mkdir(saved_inc_dir)\n",
    "        \n",
    "    model_save_path = os.path.join(saved_inc_dir, \"weight\")\n",
    "    input_save_path = os.path.join(saved_inc_dir, \"input.npy\")\n",
    "    model.save_weights(model_save_path)\n",
    "    np.save(input_save_path, x)"
   ]
  },
  {
   "cell_type": "code",
   "execution_count": 7,
   "id": "61c1e613",
   "metadata": {},
   "outputs": [],
   "source": [
    "def loadInconsistencyCases(model, saved_inc_dir = \"saved_inc\"):\n",
    "    model_path = os.path.join(saved_inc_dir, \"weight\")\n",
    "    input_path = os.path.join(saved_inc_dir, \"input.npy\")\n",
    "    model.load_weights(model_path)\n",
    "    x = np.load(input_path)\n",
    "    \n",
    "    return model, x"
   ]
  },
  {
   "cell_type": "code",
   "execution_count": 9,
   "id": "5e18b5e9",
   "metadata": {},
   "outputs": [],
   "source": [
    "m, x = loadInconsistencyCases(model)"
   ]
  },
  {
   "cell_type": "code",
   "execution_count": 94,
   "id": "88555c11",
   "metadata": {
    "scrolled": true
   },
   "outputs": [
    {
     "data": {
      "text/plain": [
       "(array([0, 0, 0, ..., 0, 0, 0]),\n",
       " array([0, 0, 0, ..., 6, 6, 6]),\n",
       " array([0, 0, 0, ..., 6, 6, 6]),\n",
       " array([  0,   1,   2, ..., 157, 158, 159]))"
      ]
     },
     "execution_count": 94,
     "metadata": {},
     "output_type": "execute_result"
    }
   ],
   "source": [
    "np.where(p1[141]!=p2[141])"
   ]
  },
  {
   "cell_type": "code",
   "execution_count": 95,
   "id": "592cbdf9",
   "metadata": {
    "scrolled": true
   },
   "outputs": [
    {
     "data": {
      "text/plain": [
       "array([[[[ -11371.323  ,    9833.836  ,   -5115.335  , ...,\n",
       "             2414.1025 ,  -11182.602  ,   -1433.7375 ],\n",
       "         [  -5370.568  , -120225.35   ,   -1490.2131 , ...,\n",
       "          -149239.45   ,  -12002.011  ,    2297.613  ],\n",
       "         [  -4054.2673 , -127895.82   ,   -1665.9005 , ...,\n",
       "             4220.38   ,  -13927.469  ,   -1054.0033 ],\n",
       "         ...,\n",
       "         [  -7417.424  ,    -742.14185,   -2631.4143 , ...,\n",
       "             5738.8877 ,  -12798.846  ,     501.57092],\n",
       "         [  -6897.5605 ,    3991.1748 ,   -3266.96   , ...,\n",
       "           -23191.027  ,  -13324.172  ,   -1186.6132 ],\n",
       "         [  -6904.646  , -118888.24   ,   -1719.7078 , ...,\n",
       "             3161.0645 ,  -12469.955  ,    4648.1494 ]],\n",
       "\n",
       "        [[   4346.5156 ,    8846.314  ,   -3683.1262 , ...,\n",
       "             5349.3486 ,  -12792.327  ,   -3516.9033 ],\n",
       "         [  -4987.2104 , -117524.36   ,   -8329.361  , ...,\n",
       "          -155596.67   ,  -11046.47   ,    1198.6836 ],\n",
       "         [   -603.26013, -116915.53   ,   -6415.3354 , ...,\n",
       "          -152928.16   ,  -12549.005  ,   -1257.781  ],\n",
       "         ...,\n",
       "         [  -4290.6074 ,  -96596.65   ,   -6960.302  , ...,\n",
       "             1661.094  ,  -14450.1455 ,    2207.8794 ],\n",
       "         [  -8063.6074 , -117407.086  ,   -6808.4917 , ...,\n",
       "           -87091.08   ,  -15456.     ,    1143.6124 ],\n",
       "         [  -5329.9424 , -118936.95   ,   -2997.9468 , ...,\n",
       "             3775.1436 ,  -14198.071  ,    5988.0664 ]],\n",
       "\n",
       "        [[  -4859.103  ,    9824.096  ,   -3681.458  , ...,\n",
       "             3381.3452 ,  -13893.176  ,   -2451.5046 ],\n",
       "         [  -3737.8586 , -118132.9    ,   -5203.7153 , ...,\n",
       "              736.892  ,  -11529.343  ,    1746.1388 ],\n",
       "         [   2643.4265 , -117570.7    ,   -7417.0825 , ...,\n",
       "             2456.7034 ,  -14124.674  ,    -364.04114],\n",
       "         ...,\n",
       "         [  -4604.58   , -117403.75   ,   -6529.0195 , ...,\n",
       "          -154588.81   ,  -14453.61   ,   -2131.7725 ],\n",
       "         [  -8049.767  , -117581.87   ,   -7728.981  , ...,\n",
       "          -150369.03   ,  -15169.74   ,   -3277.4797 ],\n",
       "         [  -9362.635  ,   12597.948  ,    -615.82263, ...,\n",
       "          -154417.89   ,  -16626.447  ,    3816.5884 ]],\n",
       "\n",
       "        ...,\n",
       "\n",
       "        [[  -4626.373  ,   10581.316  ,   -1650.2961 , ...,\n",
       "          -150117.84   ,  -10908.536  ,    -689.0007 ],\n",
       "         [  -8387.001  , -117075.875  ,   -5952.5938 , ...,\n",
       "              520.6465 ,  -12765.626  ,   -5259.688  ],\n",
       "         [  -5669.0767 , -117350.52   ,   -5491.269  , ...,\n",
       "             1050.551  ,  -13723.268  ,    -353.5177 ],\n",
       "         ...,\n",
       "         [  -3489.3916 , -117324.56   ,   -7178.379  , ...,\n",
       "          -125080.02   ,  -14694.455  ,   -2408.9722 ],\n",
       "         [  -3707.2363 , -117780.42   ,   -6705.664  , ...,\n",
       "             2502.6853 ,  -15189.752  ,   -3104.292  ],\n",
       "         [  -8768.027  , -118325.3    ,    -906.90674, ...,\n",
       "          -149297.48   ,  -15035.63   ,    1605.6079 ]],\n",
       "\n",
       "        [[   -918.7808 ,   11157.918  ,   -6812.5947 , ...,\n",
       "          -152821.28   ,  -16329.142  ,   -6847.529  ],\n",
       "         [  -6408.6836 , -120836.37   ,   -6434.3276 , ...,\n",
       "          -153755.39   ,  -14013.984  ,   -1821.7283 ],\n",
       "         [  -3238.8662 ,   10889.971  ,   -8954.2705 , ...,\n",
       "          -155634.44   ,  -15947.253  ,   -2227.7864 ],\n",
       "         ...,\n",
       "         [  -6595.3574 ,   11637.771  ,   -9102.091  , ...,\n",
       "          -154732.9    ,  -14888.906  ,   -2704.4934 ],\n",
       "         [  -4434.0747 , -118415.875  ,   -7629.9507 , ...,\n",
       "          -155361.02   ,  -13922.257  ,   -2735.7288 ],\n",
       "         [  -7350.276  , -117276.32   ,   -1992.5238 , ...,\n",
       "            -1001.3576 ,  -14570.184  ,    2190.1006 ]],\n",
       "\n",
       "        [[    915.2916 ,    9632.615  ,   -2689.0022 , ...,\n",
       "             4433.219  ,  -13311.326  ,    -546.55994],\n",
       "         [  -1481.5906 ,   12610.877  ,   -4358.7427 , ...,\n",
       "           -34795.24   ,   -8550.23   ,    -579.97644],\n",
       "         [  -2434.184  ,   11753.706  ,   -4769.861  , ...,\n",
       "             5290.175  ,   -7769.407  ,     973.32446],\n",
       "         ...,\n",
       "         [   -165.96399,    9387.491  ,   -6393.711  , ...,\n",
       "             6272.9863 ,  -13984.566  ,     741.0801 ],\n",
       "         [   2135.4675 ,   10427.113  ,   -5284.8516 , ...,\n",
       "             3950.1768 ,   -5455.634  ,    1782.7789 ],\n",
       "         [  -6607.5786 , -118602.695  ,   -5359.026  , ...,\n",
       "             8794.156  ,  -13853.3    ,     774.1117 ]]]], dtype=float32)"
      ]
     },
     "execution_count": 95,
     "metadata": {},
     "output_type": "execute_result"
    }
   ],
   "source": [
    "p1[141]"
   ]
  },
  {
   "cell_type": "code",
   "execution_count": 96,
   "id": "222fbd35",
   "metadata": {
    "scrolled": true
   },
   "outputs": [
    {
     "data": {
      "text/plain": [
       "array([[[[-1.13713193e+04,  9.83383496e+03, -5.11533301e+03, ...,\n",
       "           2.41410254e+03, -1.11826016e+04, -1.43373779e+03],\n",
       "         [-5.37058154e+03, -1.20228125e+05, -1.49020435e+03, ...,\n",
       "          -1.49239484e+05, -1.20035791e+04,  2.29988037e+03],\n",
       "         [-4.06205688e+03, -1.27882125e+05, -1.60917993e+03, ...,\n",
       "           5.03096436e+03, -1.39189570e+04, -9.30318848e+02],\n",
       "         ...,\n",
       "         [-7.11859619e+03, -2.64686157e+02, -2.74989282e+03, ...,\n",
       "           5.76804199e+03, -1.48445205e+04,  3.88336914e+02],\n",
       "         [-7.07224268e+03,  4.02273901e+03, -3.36344556e+03, ...,\n",
       "          -2.31691992e+04, -1.32283545e+04, -1.12508789e+03],\n",
       "         [-5.32213428e+03, -1.18929438e+05, -1.74879211e+03, ...,\n",
       "           3.15390381e+03, -1.25736602e+04,  4.52434375e+03]],\n",
       "\n",
       "        [[ 4.34651562e+03,  8.84631641e+03, -3.68312573e+03, ...,\n",
       "           5.34934814e+03, -1.27923301e+04, -3.51690356e+03],\n",
       "         [-5.02579932e+03, -1.17562195e+05, -8.30824609e+03, ...,\n",
       "          -1.55517438e+05, -1.10838135e+04,  2.09158032e+03],\n",
       "         [-9.76791406e+03, -1.16504859e+05, -6.00321289e+03, ...,\n",
       "          -1.53214125e+05, -1.28781387e+04,  9.75612915e+02],\n",
       "         ...,\n",
       "         [-4.56614746e+03, -9.70674375e+04, -7.29805420e+03, ...,\n",
       "          -1.49583516e+05, -1.42158262e+04, -7.45284424e+01],\n",
       "         [-7.81880469e+03, -1.17335797e+05, -5.52100391e+03, ...,\n",
       "          -8.58785625e+04, -1.60204561e+04,  2.19711975e+02],\n",
       "         [-5.36150684e+03, -1.18892867e+05, -2.83099048e+03, ...,\n",
       "           3.21676880e+03, -1.40824307e+04,  3.22811426e+03]],\n",
       "\n",
       "        [[-4.87437891e+03,  9.82725000e+03, -3.66091284e+03, ...,\n",
       "           3.41857617e+03, -1.39067529e+04, -1.97384985e+03],\n",
       "         [-3.65065186e+03, -1.18280758e+05, -5.32339648e+03, ...,\n",
       "           2.30825195e+02, -1.11410908e+04,  2.36989746e+02],\n",
       "         [ 2.36510986e+03, -1.17745492e+05, -5.16565186e+03, ...,\n",
       "           1.01354492e+03, -1.45679912e+04,  2.18253760e+03],\n",
       "         ...,\n",
       "         [-4.34837305e+03,  1.31664834e+04, -6.46678223e+03, ...,\n",
       "          -1.54542688e+05, -1.42098535e+04,  3.80972656e+02],\n",
       "         [-8.93273047e+03, -1.17352195e+05, -6.76008203e+03, ...,\n",
       "          -1.50640234e+05, -1.48702070e+04, -1.52018176e+03],\n",
       "         [-8.89337012e+03,  1.20754395e+04, -7.67057373e+02, ...,\n",
       "          -1.55576797e+05, -1.66662793e+04,  3.64118433e+03]],\n",
       "\n",
       "        ...,\n",
       "\n",
       "        [[-4.62717334e+03,  1.05482070e+04, -1.77055615e+03, ...,\n",
       "          -1.50011875e+05, -1.09119648e+04, -6.86547729e+02],\n",
       "         [-8.37822363e+03, -1.17068320e+05, -6.23680762e+03, ...,\n",
       "           9.83257141e+02, -1.26039062e+04, -6.14111621e+03],\n",
       "         [-5.45239697e+03, -1.16946055e+05, -6.76755322e+03, ...,\n",
       "           1.84785278e+02, -1.44147979e+04, -6.70283447e+02],\n",
       "         ...,\n",
       "         [-4.41889258e+03, -1.18028438e+05, -6.87501562e+03, ...,\n",
       "           4.65917432e+03, -1.43756455e+04,  1.09983423e+03],\n",
       "         [-4.72889648e+03, -1.18637945e+05, -6.75085059e+03, ...,\n",
       "           5.50810352e+03, -1.45458945e+04, -1.44788501e+03],\n",
       "         [-9.26385156e+03, -1.17544383e+05, -2.12919702e+03, ...,\n",
       "          -1.22909188e+05, -1.47324102e+04,  1.94526025e+03]],\n",
       "\n",
       "        [[-9.24327209e+02,  1.10864727e+04, -6.80671680e+03, ...,\n",
       "          -1.53502844e+05, -1.63050264e+04, -7.27752100e+03],\n",
       "         [-6.41137012e+03, -1.20840148e+05, -6.49613525e+03, ...,\n",
       "          -1.54839562e+05, -1.39309697e+04, -1.87082080e+03],\n",
       "         [-3.02230884e+03,  1.96602100e+03, -9.38897461e+03, ...,\n",
       "          -1.53859891e+05, -1.60167109e+04, -2.89255371e+03],\n",
       "         ...,\n",
       "         [-6.70264111e+03,  1.01100273e+04, -5.55904932e+03, ...,\n",
       "          -1.14510498e+02, -1.56875889e+04, -1.61130042e+03],\n",
       "         [-5.13203760e+03, -1.19526625e+05, -6.83176465e+03, ...,\n",
       "          -3.55649902e+02, -1.37287529e+04, -2.84631641e+03],\n",
       "         [-8.35105371e+03, -1.17454734e+05, -2.24284668e+03, ...,\n",
       "          -8.73826599e+02, -1.53161611e+04,  2.66994287e+03]],\n",
       "\n",
       "        [[ 7.86552612e+02,  9.47872656e+03, -2.66188647e+03, ...,\n",
       "           4.50348633e+03, -1.33869072e+04, -4.78311768e+02],\n",
       "         [-1.49372559e+03,  1.25615186e+04, -4.51870752e+03, ...,\n",
       "          -3.47681406e+04, -7.53304834e+03, -2.40740967e+02],\n",
       "         [-2.67077124e+03,  1.19036670e+04, -5.05761084e+03, ...,\n",
       "           3.57498584e+03, -7.77214404e+03,  7.90374512e+02],\n",
       "         ...,\n",
       "         [-1.25371033e+03,  9.15810254e+03, -5.89848535e+03, ...,\n",
       "           5.82628027e+03, -1.36879658e+04,  5.45036621e+02],\n",
       "         [ 2.59093579e+03,  1.00153799e+04, -6.20183301e+03, ...,\n",
       "           5.06772363e+03, -6.40394531e+03,  1.18515393e+03],\n",
       "         [-6.47866748e+03, -1.18444258e+05, -6.09232227e+03, ...,\n",
       "           7.45924805e+03, -1.26144941e+04,  8.13471191e+02]]]],\n",
       "      dtype=float32)"
      ]
     },
     "execution_count": 96,
     "metadata": {},
     "output_type": "execute_result"
    }
   ],
   "source": [
    "p2[141]"
   ]
  },
  {
   "cell_type": "code",
   "execution_count": 93,
   "id": "04ae48a1",
   "metadata": {
    "scrolled": true
   },
   "outputs": [
    {
     "data": {
      "text/plain": [
       "-1203.6234"
      ]
     },
     "execution_count": 93,
     "metadata": {},
     "output_type": "execute_result"
    }
   ],
   "source": [
    "p1[38][0][19][20][97]"
   ]
  },
  {
   "cell_type": "code",
   "execution_count": 21,
   "id": "88ee0f7f",
   "metadata": {
    "scrolled": true
   },
   "outputs": [
    {
     "data": {
      "text/plain": [
       "array([[0., 0., 0., 0., 0., 0., 0., 0., 0., 0., 0., 0., 0., 0., 0., 0.,\n",
       "        0., 0., 0., 0., 0., 0., 0., 0., 0., 0., 0., 0., 0., 0., 0., 0.,\n",
       "        0., 0., 0., 0., 0., 0., 0., 0., 0., 0., 0., 0., 0., 0., 0., 0.,\n",
       "        0., 0., 0., 0., 0., 0., 0., 0., 0., 0., 0., 0., 0., 0., 0., 0.,\n",
       "        0., 0., 0., 0., 0., 0., 0., 0., 0., 0., 0., 0., 0., 0., 0., 0.,\n",
       "        0., 0., 0., 0., 0., 0., 0., 0., 0., 0., 0., 0., 0., 0., 0., 0.,\n",
       "        0., 0., 0., 0., 0., 0., 0., 0., 0., 0., 0., 0., 0., 0., 0., 0.,\n",
       "        0., 0., 0., 0., 0., 0., 0., 0., 0., 0., 0., 0., 0., 0., 0., 0.,\n",
       "        0., 0., 0., 0., 0., 0., 0., 0., 0., 0., 0., 0., 0., 0., 0., 0.,\n",
       "        0., 0., 0., 0., 0., 0., 0., 0., 0., 0., 0., 0., 0., 0., 0., 0.,\n",
       "        0., 0., 0., 0., 0., 0., 0., 0., 0., 0., 0., 0., 0., 0., 0., 0.,\n",
       "        0., 0., 0., 0., 0., 0., 0., 0., 0., 0., 0., 0., 0., 0., 0., 0.,\n",
       "        0., 0., 0., 0., 0., 0., 0., 0., 1., 0., 0., 0., 0., 0., 0., 0.,\n",
       "        0., 0., 0., 0., 0., 0., 0., 0., 0., 0., 0., 0., 0., 0., 0., 0.,\n",
       "        0., 0., 0., 0., 0., 0., 0., 0., 0., 0., 0., 0., 0., 0., 0., 0.,\n",
       "        0., 0., 0., 0., 0., 0., 0., 0., 0., 0., 0., 0., 0., 0., 0., 0.,\n",
       "        0., 0., 0., 0., 0., 0., 0., 0., 0., 0., 0., 0., 0., 0., 0., 0.,\n",
       "        0., 0., 0., 0., 0., 0., 0., 0., 0., 0., 0., 0., 0., 0., 0., 0.,\n",
       "        0., 0., 0., 0., 0., 0., 0., 0., 0., 0., 0., 0., 0., 0., 0., 0.,\n",
       "        0., 0., 0., 0., 0., 0., 0., 0., 0., 0., 0., 0., 0., 0., 0., 0.,\n",
       "        0., 0., 0., 0., 0., 0., 0., 0., 0., 0., 0., 0., 0., 0., 0., 0.,\n",
       "        0., 0., 0., 0., 0., 0., 0., 0., 0., 0., 0., 0., 0., 0., 0., 0.,\n",
       "        0., 0., 0., 0., 0., 0., 0., 0., 0., 0., 0., 0., 0., 0., 0., 0.,\n",
       "        0., 0., 0., 0., 0., 0., 0., 0., 0., 0., 0., 0., 0., 0., 0., 0.,\n",
       "        0., 0., 0., 0., 0., 0., 0., 0., 0., 0., 0., 0., 0., 0., 0., 0.,\n",
       "        0., 0., 0., 0., 0., 0., 0., 0., 0., 0., 0., 0., 0., 0., 0., 0.,\n",
       "        0., 0., 0., 0., 0., 0., 0., 0., 0., 0., 0., 0., 0., 0., 0., 0.,\n",
       "        0., 0., 0., 0., 0., 0., 0., 0., 0., 0., 0., 0., 0., 0., 0., 0.,\n",
       "        0., 0., 0., 0., 0., 0., 0., 0., 0., 0., 0., 0., 0., 0., 0., 0.,\n",
       "        0., 0., 0., 0., 0., 0., 0., 0., 0., 0., 0., 0., 0., 0., 0., 0.,\n",
       "        0., 0., 0., 0., 0., 0., 0., 0., 0., 0., 0., 0., 0., 0., 0., 0.,\n",
       "        0., 0., 0., 0., 0., 0., 0., 0., 0., 0., 0., 0., 0., 0., 0., 0.,\n",
       "        0., 0., 0., 0., 0., 0., 0., 0., 0., 0., 0., 0., 0., 0., 0., 0.,\n",
       "        0., 0., 0., 0., 0., 0., 0., 0., 0., 0., 0., 0., 0., 0., 0., 0.,\n",
       "        0., 0., 0., 0., 0., 0., 0., 0., 0., 0., 0., 0., 0., 0., 0., 0.,\n",
       "        0., 0., 0., 0., 0., 0., 0., 0., 0., 0., 0., 0., 0., 0., 0., 0.,\n",
       "        0., 0., 0., 0., 0., 0., 0., 0., 0., 0., 0., 0., 0., 0., 0., 0.,\n",
       "        0., 0., 0., 0., 0., 0., 0., 0., 0., 0., 0., 0., 0., 0., 0., 0.,\n",
       "        0., 0., 0., 0., 0., 0., 0., 0., 0., 0., 0., 0., 0., 0., 0., 0.,\n",
       "        0., 0., 0., 0., 0., 0., 0., 0., 0., 0., 0., 0., 0., 0., 0., 0.,\n",
       "        0., 0., 0., 0., 0., 0., 0., 0., 0., 0., 0., 0., 0., 0., 0., 0.,\n",
       "        0., 0., 0., 0., 0., 0., 0., 0., 0., 0., 0., 0., 0., 0., 0., 0.,\n",
       "        0., 0., 0., 0., 0., 0., 0., 0., 0., 0., 0., 0., 0., 0., 0., 0.,\n",
       "        0., 0., 0., 0., 0., 0., 0., 0., 0., 0., 0., 0., 0., 0., 0., 0.,\n",
       "        0., 0., 0., 0., 0., 0., 0., 0., 0., 0., 0., 0., 0., 0., 0., 0.,\n",
       "        0., 0., 0., 0., 0., 0., 0., 0., 0., 0., 0., 0., 0., 0., 0., 0.,\n",
       "        0., 0., 0., 0., 0., 0., 0., 0., 0., 0., 0., 0., 0., 0., 0., 0.,\n",
       "        0., 0., 0., 0., 0., 0., 0., 0., 0., 0., 0., 0., 0., 0., 0., 0.,\n",
       "        0., 0., 0., 0., 0., 0., 0., 0., 0., 0., 0., 0., 0., 0., 0., 0.,\n",
       "        0., 0., 0., 0., 0., 0., 0., 0., 0., 0., 0., 0., 0., 0., 0., 0.,\n",
       "        0., 0., 0., 0., 0., 0., 0., 0., 0., 0., 0., 0., 0., 0., 0., 0.,\n",
       "        0., 0., 0., 0., 0., 0., 0., 0., 0., 0., 0., 0., 0., 0., 0., 0.,\n",
       "        0., 0., 0., 0., 0., 0., 0., 0., 0., 0., 0., 0., 0., 0., 0., 0.,\n",
       "        0., 0., 0., 0., 0., 0., 0., 0., 0., 0., 0., 0., 0., 0., 0., 0.,\n",
       "        0., 0., 0., 0., 0., 0., 0., 0., 0., 0., 0., 0., 0., 0., 0., 0.,\n",
       "        0., 0., 0., 0., 0., 0., 0., 0., 0., 0., 0., 0., 0., 0., 0., 0.,\n",
       "        0., 0., 0., 0., 0., 0., 0., 0., 0., 0., 0., 0., 0., 0., 0., 0.,\n",
       "        0., 0., 0., 0., 0., 0., 0., 0., 0., 0., 0., 0., 0., 0., 0., 0.,\n",
       "        0., 0., 0., 0., 0., 0., 0., 0., 0., 0., 0., 0., 0., 0., 0., 0.,\n",
       "        0., 0., 0., 0., 0., 0., 0., 0., 0., 0., 0., 0., 0., 0., 0., 0.,\n",
       "        0., 0., 0., 0., 0., 0., 0., 0., 0., 0., 0., 0., 0., 0., 0., 0.,\n",
       "        0., 0., 0., 0., 0., 0., 0., 0., 0., 0., 0., 0., 0., 0., 0., 0.,\n",
       "        0., 0., 0., 0., 0., 0., 0., 0.]], dtype=float32)"
      ]
     },
     "execution_count": 21,
     "metadata": {},
     "output_type": "execute_result"
    }
   ],
   "source": [
    "p1[-1]"
   ]
  },
  {
   "cell_type": "code",
   "execution_count": 25,
   "id": "847d30a4",
   "metadata": {
    "scrolled": true
   },
   "outputs": [
    {
     "data": {
      "text/plain": [
       "array([[0., 0., 0., 0., 0., 0., 0., 0., 0., 0., 0., 0., 0., 0., 0., 0.,\n",
       "        0., 0., 0., 0., 0., 0., 0., 0., 0., 0., 0., 0., 0., 0., 0., 0.,\n",
       "        0., 0., 0., 0., 0., 0., 0., 0., 0., 0., 0., 0., 0., 0., 0., 0.,\n",
       "        0., 0., 0., 0., 0., 0., 0., 0., 0., 0., 0., 0., 0., 0., 0., 0.,\n",
       "        0., 0., 0., 0., 0., 0., 0., 0., 0., 0., 0., 0., 0., 0., 0., 0.,\n",
       "        0., 0., 0., 0., 0., 0., 0., 0., 0., 0., 0., 0., 0., 0., 0., 0.,\n",
       "        0., 0., 0., 0., 0., 0., 0., 0., 0., 0., 0., 0., 0., 0., 0., 0.,\n",
       "        0., 0., 0., 0., 0., 0., 0., 0., 0., 0., 0., 0., 0., 0., 0., 0.,\n",
       "        0., 0., 0., 0., 0., 0., 0., 0., 0., 0., 0., 0., 0., 0., 0., 0.,\n",
       "        0., 0., 0., 0., 0., 0., 0., 0., 0., 0., 0., 0., 0., 0., 0., 0.,\n",
       "        0., 0., 0., 0., 0., 0., 0., 0., 0., 0., 0., 0., 0., 0., 0., 0.,\n",
       "        0., 0., 0., 0., 0., 0., 0., 0., 0., 0., 0., 0., 0., 0., 0., 0.,\n",
       "        0., 0., 0., 0., 0., 0., 0., 0., 0., 0., 0., 0., 0., 0., 0., 0.,\n",
       "        0., 0., 0., 0., 0., 0., 0., 0., 0., 0., 0., 0., 0., 0., 0., 0.,\n",
       "        0., 0., 0., 0., 0., 0., 0., 0., 0., 0., 0., 0., 0., 0., 0., 0.,\n",
       "        0., 0., 0., 0., 0., 0., 0., 0., 0., 0., 0., 0., 0., 0., 0., 0.,\n",
       "        0., 0., 0., 0., 0., 0., 0., 0., 0., 0., 0., 0., 0., 0., 0., 0.,\n",
       "        0., 0., 0., 0., 0., 0., 0., 0., 0., 0., 0., 0., 0., 0., 0., 0.,\n",
       "        0., 0., 0., 0., 0., 0., 0., 0., 0., 0., 0., 0., 0., 0., 0., 0.,\n",
       "        0., 0., 0., 0., 0., 0., 0., 0., 0., 0., 0., 0., 0., 0., 0., 0.,\n",
       "        0., 0., 0., 0., 0., 0., 0., 0., 0., 0., 0., 0., 0., 0., 0., 0.,\n",
       "        0., 0., 0., 0., 0., 0., 0., 0., 0., 0., 0., 0., 0., 0., 0., 0.,\n",
       "        0., 0., 0., 0., 0., 0., 0., 0., 0., 0., 0., 0., 0., 0., 0., 0.,\n",
       "        0., 0., 0., 0., 0., 0., 0., 0., 0., 0., 0., 0., 0., 0., 0., 0.,\n",
       "        0., 0., 0., 0., 0., 0., 0., 0., 0., 0., 0., 0., 0., 0., 0., 0.,\n",
       "        0., 0., 0., 0., 0., 0., 0., 0., 0., 0., 0., 0., 0., 0., 0., 0.,\n",
       "        0., 0., 0., 0., 0., 0., 0., 0., 0., 0., 0., 0., 0., 0., 0., 0.,\n",
       "        0., 0., 0., 0., 0., 0., 0., 0., 0., 0., 0., 0., 0., 0., 0., 0.,\n",
       "        0., 0., 0., 0., 0., 0., 0., 0., 0., 0., 0., 0., 0., 0., 0., 0.,\n",
       "        0., 0., 0., 0., 0., 0., 0., 0., 0., 0., 0., 0., 0., 0., 0., 0.,\n",
       "        0., 0., 0., 0., 0., 0., 0., 0., 0., 0., 0., 0., 0., 0., 0., 0.,\n",
       "        0., 0., 0., 0., 0., 0., 0., 0., 0., 0., 0., 0., 0., 0., 0., 0.,\n",
       "        0., 0., 0., 0., 0., 0., 0., 0., 0., 0., 0., 0., 0., 0., 0., 0.,\n",
       "        0., 0., 0., 0., 0., 0., 0., 0., 0., 0., 0., 0., 0., 0., 0., 0.,\n",
       "        0., 0., 0., 0., 0., 0., 0., 0., 0., 0., 0., 0., 0., 0., 0., 0.,\n",
       "        0., 0., 0., 0., 0., 0., 0., 0., 0., 0., 0., 0., 0., 0., 0., 0.,\n",
       "        0., 0., 0., 0., 0., 0., 0., 0., 0., 0., 0., 0., 0., 0., 0., 0.,\n",
       "        0., 0., 0., 0., 0., 0., 0., 0., 0., 0., 0., 0., 0., 0., 0., 0.,\n",
       "        0., 0., 0., 0., 0., 0., 0., 0., 0., 0., 0., 0., 0., 0., 0., 0.,\n",
       "        0., 0., 0., 0., 0., 0., 0., 0., 0., 0., 0., 0., 0., 0., 0., 0.,\n",
       "        0., 0., 0., 0., 0., 0., 0., 0., 0., 0., 0., 0., 0., 0., 0., 0.,\n",
       "        0., 0., 0., 0., 0., 0., 0., 0., 0., 0., 0., 0., 0., 0., 0., 0.,\n",
       "        0., 0., 0., 0., 0., 0., 0., 0., 0., 1., 0., 0., 0., 0., 0., 0.,\n",
       "        0., 0., 0., 0., 0., 0., 0., 0., 0., 0., 0., 0., 0., 0., 0., 0.,\n",
       "        0., 0., 0., 0., 0., 0., 0., 0., 0., 0., 0., 0., 0., 0., 0., 0.,\n",
       "        0., 0., 0., 0., 0., 0., 0., 0., 0., 0., 0., 0., 0., 0., 0., 0.,\n",
       "        0., 0., 0., 0., 0., 0., 0., 0., 0., 0., 0., 0., 0., 0., 0., 0.,\n",
       "        0., 0., 0., 0., 0., 0., 0., 0., 0., 0., 0., 0., 0., 0., 0., 0.,\n",
       "        0., 0., 0., 0., 0., 0., 0., 0., 0., 0., 0., 0., 0., 0., 0., 0.,\n",
       "        0., 0., 0., 0., 0., 0., 0., 0., 0., 0., 0., 0., 0., 0., 0., 0.,\n",
       "        0., 0., 0., 0., 0., 0., 0., 0., 0., 0., 0., 0., 0., 0., 0., 0.,\n",
       "        0., 0., 0., 0., 0., 0., 0., 0., 0., 0., 0., 0., 0., 0., 0., 0.,\n",
       "        0., 0., 0., 0., 0., 0., 0., 0., 0., 0., 0., 0., 0., 0., 0., 0.,\n",
       "        0., 0., 0., 0., 0., 0., 0., 0., 0., 0., 0., 0., 0., 0., 0., 0.,\n",
       "        0., 0., 0., 0., 0., 0., 0., 0., 0., 0., 0., 0., 0., 0., 0., 0.,\n",
       "        0., 0., 0., 0., 0., 0., 0., 0., 0., 0., 0., 0., 0., 0., 0., 0.,\n",
       "        0., 0., 0., 0., 0., 0., 0., 0., 0., 0., 0., 0., 0., 0., 0., 0.,\n",
       "        0., 0., 0., 0., 0., 0., 0., 0., 0., 0., 0., 0., 0., 0., 0., 0.,\n",
       "        0., 0., 0., 0., 0., 0., 0., 0., 0., 0., 0., 0., 0., 0., 0., 0.,\n",
       "        0., 0., 0., 0., 0., 0., 0., 0., 0., 0., 0., 0., 0., 0., 0., 0.,\n",
       "        0., 0., 0., 0., 0., 0., 0., 0., 0., 0., 0., 0., 0., 0., 0., 0.,\n",
       "        0., 0., 0., 0., 0., 0., 0., 0., 0., 0., 0., 0., 0., 0., 0., 0.,\n",
       "        0., 0., 0., 0., 0., 0., 0., 0.]], dtype=float32)"
      ]
     },
     "execution_count": 25,
     "metadata": {},
     "output_type": "execute_result"
    }
   ],
   "source": [
    "p2[-1]"
   ]
  },
  {
   "cell_type": "code",
   "execution_count": 27,
   "id": "150a9f73",
   "metadata": {},
   "outputs": [
    {
     "data": {
      "text/plain": [
       "(array([0, 0]), array([200, 681]))"
      ]
     },
     "execution_count": 27,
     "metadata": {},
     "output_type": "execute_result"
    }
   ],
   "source": [
    "np.where(p2[-1]!=p1[-1])"
   ]
  },
  {
   "cell_type": "code",
   "execution_count": 28,
   "id": "10815ce3",
   "metadata": {
    "scrolled": true
   },
   "outputs": [
    {
     "data": {
      "text/plain": [
       "<keras.layers.advanced_activations.Softmax at 0x7fbae4a72400>"
      ]
     },
     "execution_count": 28,
     "metadata": {},
     "output_type": "execute_result"
    }
   ],
   "source": [
    "model.layers[-1]"
   ]
  },
  {
   "cell_type": "code",
   "execution_count": null,
   "id": "1ecfeda3",
   "metadata": {},
   "outputs": [],
   "source": []
  }
 ],
 "metadata": {
  "kernelspec": {
   "display_name": "audee_test",
   "language": "python",
   "name": "audee_test"
  },
  "language_info": {
   "codemirror_mode": {
    "name": "ipython",
    "version": 3
   },
   "file_extension": ".py",
   "mimetype": "text/x-python",
   "name": "python",
   "nbconvert_exporter": "python",
   "pygments_lexer": "ipython3",
   "version": "3.6.13"
  }
 },
 "nbformat": 4,
 "nbformat_minor": 5
}
