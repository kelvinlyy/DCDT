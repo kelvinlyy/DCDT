{
 "cells": [
  {
   "cell_type": "code",
   "execution_count": 1,
   "id": "0f91c312",
   "metadata": {},
   "outputs": [
    {
     "name": "stderr",
     "output_type": "stream",
     "text": [
      "Using TensorFlow backend.\n"
     ]
    },
    {
     "name": "stdout",
     "output_type": "stream",
     "text": [
      "Configured\n"
     ]
    }
   ],
   "source": [
    "import cv2\n",
    "import keras\n",
    "import tensorflow as tf\n",
    "import matplotlib.pyplot as plt\n",
    "\n",
    "import os\n",
    "import redis\n",
    "import numpy as np\n",
    "import redisConfig\n",
    "\n",
    "from GA_audee import GA, ga_main\n",
    "from SourceLocalisation import SourceLocaliser\n",
    "\n",
    "# start redis server and config the maximum memory available\n",
    "redisConfig.run()\n",
    "\n",
    "os.environ['CUDA_VISIBLE_DEVICES'] = ''"
   ]
  },
  {
   "cell_type": "code",
   "execution_count": 2,
   "id": "708e7e09",
   "metadata": {
    "scrolled": true
   },
   "outputs": [
    {
     "name": "stderr",
     "output_type": "stream",
     "text": [
      "/data/yylaiai/anaconda3/envs/audee_test/lib/python3.6/site-packages/keras/engine/saving.py:341: UserWarning: No training configuration found in save file: the model was *not* compiled. Compile it manually.\n",
      "  warnings.warn('No training configuration found in save file: '\n",
      "/data/yylaiai/anaconda3/envs/audee_test/lib/python3.6/site-packages/ipykernel_launcher.py:3: UserWarning: Update your `Model` call to the Keras 2 API: `Model(inputs=Tensor(\"co..., outputs=Tensor(\"so...)`\n",
      "  This is separate from the ipykernel package so we can avoid doing imports until\n"
     ]
    }
   ],
   "source": [
    "model = keras.models.load_model('../external_model/alexnet-cifar10_origin.h5')\n",
    "new_output = keras.layers.Softmax()(keras.layers.Dense(10, name=\"dense_3\")(model.layers[-2].output)) # without specifying activation \n",
    "new_model = keras.models.Model(input=model.input, output=new_output)\n",
    "new_model.layers[-2].set_weights(model.layers[-1].get_weights())\n",
    "model = new_model\n",
    "\n",
    "# model = keras.applications.ResNet50()\n",
    "# new_output = keras.layers.Softmax()(keras.layers.Dense(1000)(model.layers[-2].output)) # without specifying activation \n",
    "# new_model = keras.models.Model(input=model.input, output=new_output)\n",
    "# new_model.layers[-2].set_weights(model.layers[-1].get_weights())\n",
    "# model = new_model\n",
    "\n",
    "# model = keras.applications.MobileNetV2()\n",
    "# new_output = keras.layers.Softmax()(keras.layers.Dense(1000)(model.layers[-2].output)) # without specifying activation \n",
    "# new_model = keras.models.Model(input=model.input, output=new_output)\n",
    "# new_model.layers[-2].set_weights(model.layers[-1].get_weights())\n",
    "# model = new_model\n",
    "\n",
    "# model = keras.applications.VGG16()\n",
    "# new_output = keras.layers.Softmax()(keras.layers.Dense(1000)(model.layers[-2].output)) # without specifying activation \n",
    "# new_model = keras.models.Model(input=model.input, output=new_output)\n",
    "# new_model.layers[-2].set_weights(model.layers[-1].get_weights())\n",
    "# model = new_model"
   ]
  },
  {
   "cell_type": "code",
   "execution_count": 3,
   "id": "37b30695",
   "metadata": {},
   "outputs": [
    {
     "name": "stdout",
     "output_type": "stream",
     "text": [
      "(10000, 224, 224, 3)\n"
     ]
    }
   ],
   "source": [
    "# load inputs\n",
    "(x_train, y_train), (x_test, y_test) = tf.keras.datasets.cifar10.load_data()\n",
    "\n",
    "# expand cifar10 images from 32x32 to 224x224\n",
    "x_test_224 = np.array([cv2.resize(i, (224, 224)) for i in x_test])\n",
    "print(x_test_224.shape)"
   ]
  },
  {
   "cell_type": "code",
   "execution_count": 4,
   "id": "6955881f",
   "metadata": {},
   "outputs": [],
   "source": [
    "mut_level = 'i+w'\n",
    "model = model\n",
    "x = x_test[0]/255\n",
    "input_scale = 255 # image scale\n",
    "init_noise = 0 # scale of Cauchy noise added in initialization\n",
    "r1 = 0.5 # crossover rate\n",
    "r2 = 0.3 # mutation rate\n",
    "r3 = 0.01 # mutation scale (larger scale can trigger NaN inconsistency easier, smaller scale can increase layer distance easier)\n",
    "m = 3 # top m chromosomes selected\n",
    "n = 6 # population size\n",
    "layer_idx = -2 # index of layer used in calculation of fitness values\n",
    "db_flag = 3\n",
    "maxIter = 1\n",
    "\n",
    "r = redis.Redis(db=db_flag)\n",
    "r.flushdb()\n",
    "\n",
    "fit = ['inc', ['tensorflow', 'theano']]"
   ]
  },
  {
   "cell_type": "code",
   "execution_count": 7,
   "id": "881e629c",
   "metadata": {
    "scrolled": true
   },
   "outputs": [
    {
     "name": "stdout",
     "output_type": "stream",
     "text": [
      "Running at iteration 1:\n",
      "Average fitness value: 170.12336425781248\n",
      "Time taken: 201.9683916568756\n",
      "\n",
      "\n",
      "Total time taken: 230.19718098640442\n"
     ]
    }
   ],
   "source": [
    "ga = ga_main(fit, mut_level, model, x, input_scale, init_noise, r1, r2, r3, m, n, layer_idx, db_flag, maxIter)"
   ]
  },
  {
   "cell_type": "code",
   "execution_count": 6,
   "id": "1704fd18",
   "metadata": {},
   "outputs": [
    {
     "data": {
      "text/plain": [
       "[<matplotlib.lines.Line2D at 0x7f289c131c50>]"
      ]
     },
     "execution_count": 6,
     "metadata": {},
     "output_type": "execute_result"
    },
    {
     "data": {
      "image/png": "[encoded data removed]",
      "text/plain": [
       "<Figure size 432x288 with 1 Axes>"
      ]
     },
     "metadata": {
      "needs_background": "light"
     },
     "output_type": "display_data"
    }
   ],
   "source": [
    "plt.plot(np.max(np.nan_to_num(ga.fit_hist, -1), axis=1))"
   ]
  },
  {
   "cell_type": "code",
   "execution_count": 8,
   "id": "9e2a1a44",
   "metadata": {},
   "outputs": [],
   "source": [
    "def formatP(ga, idx):\n",
    "    formatted_c = ga.formatPopulations(ga.P)[idx]\n",
    "    if ga.mut_level == 'i':\n",
    "        x = formatted_c\n",
    "    elif ga.mut_level == 'w':\n",
    "        x = ga.input\n",
    "        ga.model.set_weights(formatted_c)\n",
    "    elif ga.mut_level == 'i+w':\n",
    "        x = formatted_c[0]\n",
    "        ga.model.set_weights(formatted_c[1])\n",
    "\n",
    "    return x, ga.model\n",
    "\n",
    "x, m = formatP(ga, 0)"
   ]
  },
  {
   "cell_type": "code",
   "execution_count": 5,
   "id": "15bd987b",
   "metadata": {},
   "outputs": [],
   "source": [
    "model_config = [\n",
    "    {}, \n",
    "    {},\n",
    "    {'padding': ['same']},\n",
    "    {'center': [False]},\n",
    "    {},\n",
    "    {'padding': ['same']},\n",
    "    {},\n",
    "    {},\n",
    "    {},\n",
    "    {},\n",
    "    {'padding': ['same']},\n",
    "    \n",
    "    {},\n",
    "    {'padding': ['same']},\n",
    "    {},\n",
    "    {},\n",
    "    {},\n",
    "    {},\n",
    "    {},\n",
    "    {},\n",
    "    {},\n",
    "    {},\n",
    "    \n",
    "    {},\n",
    "    {},\n",
    "    {}\n",
    "]"
   ]
  },
  {
   "cell_type": "code",
   "execution_count": 12,
   "id": "bc678ef2",
   "metadata": {},
   "outputs": [],
   "source": [
    "import importlib\n",
    "import SourceLocalisation\n",
    "\n",
    "importlib.reload(SourceLocalisation)\n",
    "from SourceLocalisation import SourceLocaliser"
   ]
  },
  {
   "cell_type": "code",
   "execution_count": 13,
   "id": "aab82d40",
   "metadata": {},
   "outputs": [],
   "source": [
    "SL = SourceLocaliser(model, ['tensorflow', 'theano'], x_test[0], model_config, 1)\n",
    "SL.prepare()"
   ]
  },
  {
   "cell_type": "code",
   "execution_count": 14,
   "id": "ee076a81",
   "metadata": {
    "scrolled": true
   },
   "outputs": [
    {
     "name": "stdout",
     "output_type": "stream",
     "text": [
      "Localizing layer 2: MaxPooling2D...\n",
      "Parameter \"padding\" is set to be \"same\"\n",
      "Maximizing inconsistency of the input...\n",
      "\n",
      "Time taken: 140.71633944590576\n",
      "\n",
      "\n",
      "Localizing layer 3: BatchNormalization...\n",
      "Parameter \"center\" is set to be \"False\"\n",
      "Maximizing inconsistency of the input...\n",
      "Inconsistency is localized in: \tcenter = True\n",
      "\n",
      "Time taken: 147.94185844995081\n",
      "\n",
      "\n"
     ]
    },
    {
     "name": "stderr",
     "output_type": "stream",
     "text": [
      "/data/yylaiai/fyp21-22/GA/stable/audee_GA/SourceLocalisation.py:193: UserWarning: Update your `Model` call to the Keras 2 API: `Model(inputs=Tensor(\"co..., outputs=Tensor(\"so...)`\n",
      "  \n"
     ]
    },
    {
     "name": "stdout",
     "output_type": "stream",
     "text": [
      "Localizing layer 5: MaxPooling2D...\n",
      "Parameter \"padding\" is set to be \"same\"\n",
      "Maximizing inconsistency of the input...\n",
      "Inconsistency is localized in: \tpadding = valid\n",
      "\n",
      "Time taken: 144.90271880407818\n",
      "\n",
      "\n",
      "Localizing layer 5: MaxPooling2D...\n",
      "\n",
      "Time taken: 19.91798299481161\n",
      "\n",
      "\n"
     ]
    },
    {
     "data": {
      "text/plain": [
       "([[3, ['center']], [5, ['padding']]], [])"
      ]
     },
     "execution_count": 14,
     "metadata": {},
     "output_type": "execute_result"
    }
   ],
   "source": [
    "SL.main(0.3, 0.1)"
   ]
  },
  {
   "cell_type": "code",
   "execution_count": null,
   "id": "e7ac03aa",
   "metadata": {},
   "outputs": [],
   "source": []
  }
 ],
 "metadata": {
  "kernelspec": {
   "display_name": "audee_test",
   "language": "python",
   "name": "audee_test"
  },
  "language_info": {
   "codemirror_mode": {
    "name": "ipython",
    "version": 3
   },
   "file_extension": ".py",
   "mimetype": "text/x-python",
   "name": "python",
   "nbconvert_exporter": "python",
   "pygments_lexer": "ipython3",
   "version": "3.6.13"
  }
 },
 "nbformat": 4,
 "nbformat_minor": 5
}
