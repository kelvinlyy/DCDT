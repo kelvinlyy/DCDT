{
 "cells": [
  {
   "cell_type": "code",
   "execution_count": 1,
   "id": "778b2961",
   "metadata": {},
   "outputs": [
    {
     "name": "stderr",
     "output_type": "stream",
     "text": [
      "Using TensorFlow backend.\n"
     ]
    },
    {
     "name": "stdout",
     "output_type": "stream",
     "text": [
      "Configured\n"
     ]
    }
   ],
   "source": [
    "import os\n",
    "import redis\n",
    "import pickle\n",
    "import numpy as np\n",
    "import keras\n",
    "import redisConfig\n",
    "from kerasPredictCMD import get_outputs_cmd\n",
    "\n",
    "# start redis server and config the maximum memory available\n",
    "redisConfig.run()"
   ]
  },
  {
   "cell_type": "code",
   "execution_count": 2,
   "id": "f42b86c8",
   "metadata": {
    "scrolled": true
   },
   "outputs": [
    {
     "name": "stderr",
     "output_type": "stream",
     "text": [
      "/data/yylaiai/anaconda3/envs/audee_test/lib/python3.6/site-packages/ipykernel_launcher.py:24: UserWarning: Update your `Model` call to the Keras 2 API: `Model(inputs=Tensor(\"in..., outputs=Tensor(\"so...)`\n"
     ]
    }
   ],
   "source": [
    "# model = keras.models.load_model('alexnet-cifar10_origin.h5')\n",
    "# new_output = keras.layers.Softmax()(keras.layers.Dense(10)(model.layers[-2].output)) # without specifying activation \n",
    "# new_model = keras.models.Model(input=model.input, output=new_output)\n",
    "# new_model.layers[-2].set_weights(model.layers[-1].get_weights())\n",
    "# model = new_model\n",
    "# model.summary()\n",
    "\n",
    "# model = keras.applications.ResNet50()\n",
    "# new_output = keras.layers.Softmax()(keras.layers.Dense(1000)(model.layers[-2].output)) # without specifying activation \n",
    "# new_model = keras.models.Model(input=model.input, output=new_output)\n",
    "# new_model.layers[-2].set_weights(model.layers[-1].get_weights())\n",
    "# model = new_model\n",
    "# model.summary()\n",
    "\n",
    "# model = keras.applications.MobileNetV2()\n",
    "# new_output = keras.layers.Softmax()(keras.layers.Dense(1000)(model.layers[-2].output)) # without specifying activation \n",
    "# new_model = keras.models.Model(input=model.input, output=new_output)\n",
    "# new_model.layers[-2].set_weights(model.layers[-1].get_weights())\n",
    "# model = new_model\n",
    "# model.summary()\n",
    "\n",
    "model = keras.applications.VGG16()\n",
    "new_output = keras.layers.Softmax()(keras.layers.Dense(1000)(model.layers[-2].output)) # without specifying activation \n",
    "new_model = keras.models.Model(input=model.input, output=new_output)\n",
    "new_model.layers[-2].set_weights(model.layers[-1].get_weights())\n",
    "model = new_model"
   ]
  },
  {
   "cell_type": "code",
   "execution_count": 3,
   "id": "6baec83a",
   "metadata": {},
   "outputs": [],
   "source": [
    "failed_case_dir = 'saved_failed/vgg-16/8'\n",
    "\n",
    "model.load_weights(os.path.join(failed_case_dir, 'weight'))\n",
    "x = np.load(os.path.join(failed_case_dir, 'input.npy'))"
   ]
  },
  {
   "cell_type": "code",
   "execution_count": 4,
   "id": "46326159",
   "metadata": {
    "scrolled": true
   },
   "outputs": [
    {
     "data": {
      "text/plain": [
       "1"
      ]
     },
     "execution_count": 4,
     "metadata": {},
     "output_type": "execute_result"
    }
   ],
   "source": [
    "r = redis.Redis(db=1)\n",
    "r.flushdb()\n",
    "\n",
    "# upload test inputs to redis db\n",
    "r.hset('model', 0, pickle.dumps(model))\n",
    "r.hset('input', 0, pickle.dumps(x))"
   ]
  },
  {
   "cell_type": "code",
   "execution_count": 5,
   "id": "c0a7af40",
   "metadata": {},
   "outputs": [
    {
     "data": {
      "text/plain": [
       "0"
      ]
     },
     "execution_count": 5,
     "metadata": {},
     "output_type": "execute_result"
    }
   ],
   "source": [
    "cmd1 = get_outputs_cmd('tensorflow', 1, 0, 0, 0, 'all')\n",
    "cmd2 = get_outputs_cmd('theano', 1, 0, 0, 0, 'all')\n",
    "\n",
    "os.system(cmd1)\n",
    "os.system(cmd2)"
   ]
  },
  {
   "cell_type": "code",
   "execution_count": 6,
   "id": "f24c3639",
   "metadata": {},
   "outputs": [],
   "source": [
    "p1 = pickle.loads(r.hget('predictions_0', 'tensorflow'))\n",
    "p2 = pickle.loads(r.hget('predictions_0', 'theano'))"
   ]
  },
  {
   "cell_type": "code",
   "execution_count": 7,
   "id": "bf57cc18",
   "metadata": {},
   "outputs": [
    {
     "name": "stdout",
     "output_type": "stream",
     "text": [
      "Layers with NaN:\n",
      "\n",
      "layer   tensorflow       theano\n",
      "    0        False        False\n",
      "    1        False        False\n",
      "    2        False        False\n",
      "    3        False        False\n",
      "    4        False        False\n",
      "    5        False        False\n",
      "    6        False        False\n",
      "    7        False        False\n",
      "    8        False        False\n",
      "    9        False        False\n",
      "   10        False        False\n",
      "   11        False        False\n",
      "   12        False        False\n",
      "   13         True         True\n",
      "   14        False         True\n",
      "   15         True         True\n",
      "   16         True         True\n",
      "   17         True         True\n",
      "   18        False         True\n",
      "   19        False         True\n",
      "   20         True         True\n",
      "   21         True         True\n",
      "   22         True         True\n",
      "   23         True         True\n"
     ]
    }
   ],
   "source": [
    "print(\"Layers with NaN:\\n\")\n",
    "print('{:>5} {:>12} {:>12}'.format('layer', 'tensorflow', 'theano'))\n",
    "for i in range(len(model.layers)):\n",
    "    print('{:>5} {:>12} {:>12}'.format(i, str(np.isnan(p1[i]).any()), str(np.isnan(p2[i]).any())))"
   ]
  },
  {
   "cell_type": "code",
   "execution_count": null,
   "id": "0d164a77",
   "metadata": {},
   "outputs": [],
   "source": []
  }
 ],
 "metadata": {
  "kernelspec": {
   "display_name": "audee_test",
   "language": "python",
   "name": "audee_test"
  },
  "language_info": {
   "codemirror_mode": {
    "name": "ipython",
    "version": 3
   },
   "file_extension": ".py",
   "mimetype": "text/x-python",
   "name": "python",
   "nbconvert_exporter": "python",
   "pygments_lexer": "ipython3",
   "version": "3.6.13"
  }
 },
 "nbformat": 4,
 "nbformat_minor": 5
}
