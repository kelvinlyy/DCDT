{
 "cells": [
  {
   "cell_type": "code",
   "execution_count": 71,
   "id": "c3c7208a",
   "metadata": {},
   "outputs": [],
   "source": [
    "x1 = (['a','b','c','d'],[1,2,3,4])\n",
    "x2 = (['z','x','c','v','c'],[1,12,23,34,45])"
   ]
  },
  {
   "cell_type": "code",
   "execution_count": 122,
   "id": "5ff8b53e",
   "metadata": {},
   "outputs": [],
   "source": [
    "for i in range(1000):\n",
    "    crossover(x1,x2,0.3)"
   ]
  },
  {
   "cell_type": "code",
   "execution_count": 105,
   "id": "9ca54fe0",
   "metadata": {},
   "outputs": [],
   "source": [
    "    def crossover(x1, x2, r):\n",
    "        a1, sl1 = x1\n",
    "        a2, sl2 = x2\n",
    "        COa = []\n",
    "        COsl = []\n",
    "\n",
    "        for i in range(max(len(a1),len(a2))):\n",
    "            if i + 1 > len(a1):\n",
    "                COa.append(a2[i])\n",
    "                COsl.append(sl2[i])\n",
    "\n",
    "            elif i + 1 > len(a2):\n",
    "                COa.append(a1[i])\n",
    "                COsl.append(sl1[i])\n",
    "\n",
    "            else:\n",
    "                if random.random() > r:\n",
    "                    COa.append(a2[i])\n",
    "                    COsl.append(sl2[i])\n",
    "                else:        \n",
    "                    COa.append(a1[i])\n",
    "                    COsl.append(sl1[i])\n",
    "                \n",
    "        return (COa, COsl)\n"
   ]
  },
  {
   "cell_type": "code",
   "execution_count": 19,
   "id": "ee700fe7",
   "metadata": {},
   "outputs": [
    {
     "ename": "ModuleNotFoundError",
     "evalue": "No module named 'Util.Cov_Util'; 'Util' is not a package",
     "output_type": "error",
     "traceback": [
      "\u001b[0;31m---------------------------------------------------------------------------\u001b[0m",
      "\u001b[0;31mModuleNotFoundError\u001b[0m                       Traceback (most recent call last)",
      "\u001b[0;32m<ipython-input-19-864d01fb2134>\u001b[0m in \u001b[0;36m<module>\u001b[0;34m\u001b[0m\n\u001b[1;32m      8\u001b[0m \u001b[0;32mimport\u001b[0m \u001b[0mtime\u001b[0m\u001b[0;34m\u001b[0m\u001b[0;34m\u001b[0m\u001b[0m\n\u001b[1;32m      9\u001b[0m \u001b[0;32mimport\u001b[0m \u001b[0mwarnings\u001b[0m\u001b[0;34m\u001b[0m\u001b[0;34m\u001b[0m\u001b[0m\n\u001b[0;32m---> 10\u001b[0;31m \u001b[0;32mfrom\u001b[0m \u001b[0mUtil\u001b[0m\u001b[0;34m.\u001b[0m\u001b[0mCov_Util\u001b[0m \u001b[0;32mimport\u001b[0m \u001b[0mextractModelArchitect\u001b[0m\u001b[0;34m,\u001b[0m \u001b[0mbuildModelByArtchitect\u001b[0m\u001b[0;34m,\u001b[0m \u001b[0mmodelReduction\u001b[0m\u001b[0;34m,\u001b[0m \u001b[0mtotal_lines\u001b[0m\u001b[0;34m,\u001b[0m \u001b[0mcalc_coverage\u001b[0m\u001b[0;34m\u001b[0m\u001b[0;34m\u001b[0m\u001b[0m\n\u001b[0m\u001b[1;32m     11\u001b[0m \u001b[0;32mimport\u001b[0m \u001b[0mtensorflow\u001b[0m \u001b[0;32mas\u001b[0m \u001b[0mtf\u001b[0m\u001b[0;34m\u001b[0m\u001b[0;34m\u001b[0m\u001b[0m\n\u001b[1;32m     12\u001b[0m \u001b[0;32mimport\u001b[0m \u001b[0mpandas\u001b[0m \u001b[0;32mas\u001b[0m \u001b[0mpd\u001b[0m\u001b[0;34m\u001b[0m\u001b[0;34m\u001b[0m\u001b[0m\n",
      "\u001b[0;31mModuleNotFoundError\u001b[0m: No module named 'Util.Cov_Util'; 'Util' is not a package"
     ]
    }
   ],
   "source": [
    "import os\n",
    "os.environ['KERAS_BACKEND'] = 'tensorflow'\n",
    "os.environ['CUDA_VISIBLE_DEVICES'] = ''\n",
    "import cv2\n",
    "import keras\n",
    "import numpy as np\n",
    "import random\n",
    "import time\n",
    "import warnings\n",
    "from Util.Cov_Util import extractModelArchitect, buildModelByArtchitect, modelReduction, total_lines, calc_coverage\n",
    "import tensorflow as tf\n",
    "import pandas as pd\n",
    "\n",
    "layer_dict=pd.read_csv('Util/layer_dict.csv', index_col=0)\n",
    "\n",
    "class Cov_GA:\n",
    "    def __init__(self, model_architecture, seedlist, x):\n",
    "        #population: list of (model_architecture, hyperparamters seed list)\n",
    "        assert len(model_architecture) == len(seedlist), 'layer not matching seed length'\n",
    "        self.P = []\n",
    "        \n",
    "        self.source_architect = model_architecture\n",
    "        self.source_seedlist = seedlist\n",
    "        self.source_model_coverage = None\n",
    "        \n",
    "        if len(x.shape) == 3:\n",
    "            self.input = x[None,:]\n",
    "        else: self.input = x\n",
    "        \n",
    "        self.fit_hist = []\n",
    "        self.fail_P = []\n",
    "        \n",
    "    # initialzie model architecture list\n",
    "    def initPopulation(self, n):\n",
    "        self.n = n        \n",
    "        self.P.append((self.source_architect, self.source_seedlist))        \n",
    "        self.source_model_coverage = calc_coverage(self.source_architect, self.source_seedlist, self.input)\n",
    "                \n",
    "        for _ in range(n-1):\n",
    "            print(f'Initializaing population: {_+2}/{n}')\n",
    "            #mutate\n",
    "            mutate_seedlist = []\n",
    "            for seed in self.source_seedlist:\n",
    "                noise = np.array([_ for _ in np.random.standard_cauchy(len(seed))], dtype=int)\n",
    "                mutate_seedlist.append((seed + noise).tolist())\n",
    "            self.P.append((self.source_architect, mutate_seedlist))\n",
    "        print()\n",
    "        \n",
    "        return \n",
    "\n",
    "    # compute fitness scores for populations\n",
    "    def computeFitness(self):\n",
    "        Fit = []\n",
    "        count = 1\n",
    "        for p in (self.P):\n",
    "            print(f'Computing Fitness: {count}/{len(self.P)}')\n",
    "            count+=1\n",
    "            try:\n",
    "                Fit.append(total_lines(calc_coverage(p[0], p[1], self.input)))\n",
    "            except:\n",
    "                Fit.append(0)\n",
    "                self.fail_P.append(p)\n",
    "                print('Fail to compute fitess')\n",
    "            \n",
    "        return Fit\n",
    "\n",
    "    # select m candidates for parents of next-generation inputs\n",
    "    def select(self, m, Fit, file=None):\n",
    "        selected_index = np.argpartition(Fit, -m)[-m:]\n",
    "        P_prime = [self.P[_] for _ in selected_index]\n",
    "        if file!=None:\n",
    "            file.write(f'{P_prime}, ')\n",
    "            file.write(f'{[Fit[_] for _ in selected_index]}\\n')\n",
    "    \n",
    "        return P_prime\n",
    "\n",
    "    # select 2 parents from the candidates\n",
    "    def selectParents(self, P_prime):\n",
    "        x1, x2 = random.sample(list(P_prime), 2)\n",
    "        return x1, x2\n",
    "\n",
    "    # return a flatten list of a crossover product of the selected parents\n",
    "    def crossover(self, x1, x2, r):\n",
    "        a1, sl1 = x1\n",
    "        a2, sl2 = x2\n",
    "        COa = []\n",
    "        COsl = []\n",
    "\n",
    "        for i in range(max(len(a1),len(a2))):\n",
    "            if i > len(a1):\n",
    "                COa.append(a2[i])\n",
    "                COsl.append(sl2[i])\n",
    "\n",
    "            elif i > len(a2):\n",
    "                COa.append(a1[i])\n",
    "                COsl.append(sl1[i])\n",
    "\n",
    "            elif random.random() > r:\n",
    "                COa.append(a2[i])\n",
    "                COsl.append(sl2[i])\n",
    "            else:        \n",
    "                COa.append(a1[i])\n",
    "                COsl.append(sl1[i])\n",
    "                \n",
    "        return (COa, COsl)\n",
    "\n",
    "    # mutate the crossover product\n",
    "    def mutate(self, x_prime):\n",
    "        architecture = x_prime[0][:]\n",
    "        seedlist = x_prime[1][:]\n",
    "        \n",
    "        #add random layer\n",
    "        aval_layer = []\n",
    "        for layer in layer_dict.index.tolist():\n",
    "            if layer not in architecture: aval_layer.append(layer)\n",
    "\n",
    "        if aval_layer:\n",
    "            newlayer = random.choice(aval_layer)\n",
    "            newseed = np.ones(layer_dict.loc[newlayer]['para_num'], dtype=int).tolist()\n",
    "\n",
    "            insert = int(random.random()*len(architecture))\n",
    "\n",
    "            architecture.insert(insert, newlayer)\n",
    "            seedlist.insert(insert, newseed)\n",
    "        \n",
    "        #mutate hyperparameters\n",
    "        mutate_seedlist = []\n",
    "        for seed in seedlist:\n",
    "            noise = np.array([_ for _ in np.random.standard_cauchy(len(seed))], dtype=int)\n",
    "            mutate_seedlist.append((seed + noise).tolist())\n",
    "#         print('print mutated population: ',  architecture, mutate_seedlist)\n",
    "        return (architecture, mutate_seedlist)\n",
    "\n"
   ]
  },
  {
   "cell_type": "code",
   "execution_count": 14,
   "id": "005cd55c",
   "metadata": {},
   "outputs": [],
   "source": [
    "def cov_ga_main(model_architecture, seedlist, x, m, n, r, maxIter, ga=None):\n",
    "    sstart_time = time.time()\n",
    "    \n",
    "    if ga == None:\n",
    "        ga = Cov_GA(model_architecture, seedlist, x)\n",
    "        ga.initPopulation(n)\n",
    "        \n",
    "    else:\n",
    "        print('Continuing from the previous populations...')\n",
    "        \n",
    "    prev_iter = len(ga.fit_hist)\n",
    "    for i in range(prev_iter, prev_iter + maxIter):\n",
    "        start_time = time.time()\n",
    "        Fit = ga.computeFitness()\n",
    "        ga.fit_hist.append(Fit)\n",
    "        \n",
    "        if i < prev_iter + maxIter - 1: # no mutation and crossover in the last iteration\n",
    "            P_prime = ga.select(m, Fit)\n",
    "            P_pp = []\n",
    "            P_pp.extend(P_prime)\n",
    "            while len(P_pp) < n:\n",
    "                x1, x2 = ga.selectParents(P_prime)\n",
    "                x_prime = ga.crossover(x1, x2, r)\n",
    "                #crossover\n",
    "                x_pp = ga.mutate(x_prime)\n",
    "                P_pp.append(x_pp)\n",
    "        ga.P = P_pp\n",
    "            \n",
    "        end_time = time.time()\n",
    "        print('Average fitness value: {}'.format(np.mean(Fit)))\n",
    "        print('Time taken: {}'.format(end_time - start_time))\n",
    "        print()\n",
    "    \n",
    "    f.close\n",
    "    print()\n",
    "    print('Total time taken:', end_time - sstart_time)\n",
    "    \n",
    "    return ga"
   ]
  },
  {
   "cell_type": "code",
   "execution_count": 15,
   "id": "dcc1fd89",
   "metadata": {},
   "outputs": [],
   "source": [
    "(a, sl) = [(['ReLU', 'LocallyConnected2D', 'SeparableConv2D', 'Conv2DTranspose', 'AveragePooling2D', 'SimpleRNN', 'ZeroPadding2D', 'Conv3DTranspose', 'BatchNormalization', 'Conv2D', 'AveragePooling1D', 'Conv1D', 'GlobalMaxPooling2D', 'GlobalAveragePooling3D', 'GaussianDropout', 'LocallyConnected1D', 'SpatialDropout1D', 'SeparableConv1D', 'ThresholdedReLU', 'Flatten', 'AveragePooling3D', 'MaxPooling2D', 'Conv3D', 'DepthwiseConv2D', 'Dense'], [[-3], [65, 9, 19], [-863, -17, 37, 3], [-1, 17, 0, 6], [7, -7], [7, -38, 9, 63, -7, -15], [915], [-25, -68, 1, -20], [-5, 14], [-44, 43, 33, 30], [-3, 2], [80, -20, -8, 76], [7], [6], [-86], [-3, 1, -54], [9], [-43, 51, 13, 8], [12], [], [-5, -3], [2, -3], [12, 14, 3, -4], [-154, 1, 7], [10]]), (['ReLU', 'LocallyConnected2D', 'SeparableConv2D', 'Conv2DTranspose', 'AveragePooling2D', 'SimpleRNN', 'ZeroPadding2D', 'Conv3DTranspose', 'BatchNormalization', 'Conv2D', 'AveragePooling1D', 'Conv1D', 'GlobalMaxPooling2D', 'GlobalAveragePooling3D', 'GaussianDropout', 'LocallyConnected1D', 'SpatialDropout1D', 'GlobalAveragePooling1D', 'SeparableConv1D', 'ThresholdedReLU', 'Flatten', 'AveragePooling3D', 'MaxPooling2D', 'Conv3D', 'DepthwiseConv2D', 'Dense'], [[-3], [66, 8, 16], [-864, -4, 32, 1], [-2, 17, 0, 5], [6, -7], [7, -40, 12, 63, -6, -14], [915], [-26, -70, 1, -19], [-6, 28], [-40, 43, 33, 30], [-5, 2], [79, -21, -8, 76], [3], [6], [-86], [-3, 0, -55], [9], [1], [-43, 51, 9, -4], [12], [], [-4, -1], [2, -2], [12, 13, 0, 0], [-154, 1, 7], [22]])][1]\n",
    "(x_train, y_train), (x_test, y_test) = keras.datasets.cifar10.load_data()\n",
    "x = x_test[0]"
   ]
  },
  {
   "cell_type": "code",
   "execution_count": 16,
   "id": "03472f96",
   "metadata": {},
   "outputs": [],
   "source": [
    "a = ['Conv2D', 'Flatten', 'Dense']\n",
    "sl = [[0,0,0,0], [], [0]]\n",
    "\n",
    "(x_train, y_train), (x_test, y_test) = keras.datasets.cifar10.load_data()\n",
    "x = x_test[0]"
   ]
  },
  {
   "cell_type": "code",
   "execution_count": 17,
   "id": "c2da37fd",
   "metadata": {
    "scrolled": false
   },
   "outputs": [
    {
     "name": "stdout",
     "output_type": "stream",
     "text": [
      "Initializaing population: 2/5\n",
      "Initializaing population: 3/5\n",
      "Initializaing population: 4/5\n",
      "Initializaing population: 5/5\n",
      "\n"
     ]
    }
   ],
   "source": [
    "ga = Cov_GA(a, sl, x)\n",
    "ga.initPopulation(5)"
   ]
  },
  {
   "cell_type": "code",
   "execution_count": 18,
   "id": "172087a9",
   "metadata": {
    "scrolled": false
   },
   "outputs": [
    {
     "name": "stdout",
     "output_type": "stream",
     "text": [
      "Continuing from the previous populations...\n",
      "Running at iteration 1:\n",
      "Computing Fitness: 1/5\n",
      "Computing Fitness: 2/5\n",
      "Computing Fitness: 3/5\n",
      "Computing Fitness: 4/5\n",
      "Computing Fitness: 5/5\n",
      "Average fitness value: 3927.6\n",
      "Time taken: 112.41229104995728\n",
      "\n",
      "Running at iteration 2:\n",
      "Computing Fitness: 1/5\n",
      "Computing Fitness: 2/5\n",
      "Computing Fitness: 3/5\n",
      "Computing Fitness: 4/5\n",
      "Computing Fitness: 5/5\n",
      "Average fitness value: 4075.0\n",
      "Time taken: 112.44976305961609\n",
      "\n",
      "Running at iteration 3:\n",
      "Computing Fitness: 1/5\n",
      "Computing Fitness: 2/5\n",
      "Computing Fitness: 3/5\n",
      "Computing Fitness: 4/5\n",
      "Fail to compute fitess\n",
      "Computing Fitness: 5/5\n",
      "Average fitness value: 3548.4\n",
      "Time taken: 98.96714401245117\n",
      "\n",
      "Running at iteration 4:\n",
      "Computing Fitness: 1/5\n",
      "Computing Fitness: 2/5\n",
      "Computing Fitness: 3/5\n",
      "Computing Fitness: 4/5\n",
      "Computing Fitness: 5/5\n"
     ]
    },
    {
     "ename": "IndexError",
     "evalue": "list index out of range",
     "output_type": "error",
     "traceback": [
      "\u001b[0;31m---------------------------------------------------------------------------\u001b[0m",
      "\u001b[0;31mIndexError\u001b[0m                                Traceback (most recent call last)",
      "\u001b[0;32m<ipython-input-18-cf5065740b3b>\u001b[0m in \u001b[0;36m<module>\u001b[0;34m\u001b[0m\n\u001b[0;32m----> 1\u001b[0;31m \u001b[0mga_main\u001b[0m\u001b[0;34m(\u001b[0m\u001b[0ma\u001b[0m\u001b[0;34m,\u001b[0m \u001b[0msl\u001b[0m\u001b[0;34m,\u001b[0m \u001b[0mx\u001b[0m\u001b[0;34m,\u001b[0m \u001b[0mm\u001b[0m\u001b[0;34m=\u001b[0m\u001b[0;36m2\u001b[0m\u001b[0;34m,\u001b[0m \u001b[0mr\u001b[0m\u001b[0;34m=\u001b[0m\u001b[0;36m0.3\u001b[0m\u001b[0;34m,\u001b[0m \u001b[0mn\u001b[0m\u001b[0;34m=\u001b[0m\u001b[0;36m5\u001b[0m\u001b[0;34m,\u001b[0m \u001b[0mmaxIter\u001b[0m\u001b[0;34m=\u001b[0m\u001b[0;36m20\u001b[0m\u001b[0;34m,\u001b[0m \u001b[0mga\u001b[0m\u001b[0;34m=\u001b[0m\u001b[0mga\u001b[0m\u001b[0;34m)\u001b[0m\u001b[0;34m\u001b[0m\u001b[0;34m\u001b[0m\u001b[0m\n\u001b[0m",
      "\u001b[0;32m<ipython-input-2-7224ba28e8e9>\u001b[0m in \u001b[0;36mga_main\u001b[0;34m(model_architecture, seedlist, x, m, n, r, maxIter, ga)\u001b[0m\n\u001b[1;32m     26\u001b[0m             \u001b[0;32mwhile\u001b[0m \u001b[0mlen\u001b[0m\u001b[0;34m(\u001b[0m\u001b[0mP_pp\u001b[0m\u001b[0;34m)\u001b[0m \u001b[0;34m<\u001b[0m \u001b[0mn\u001b[0m\u001b[0;34m:\u001b[0m\u001b[0;34m\u001b[0m\u001b[0;34m\u001b[0m\u001b[0m\n\u001b[1;32m     27\u001b[0m                 \u001b[0mx1\u001b[0m\u001b[0;34m,\u001b[0m \u001b[0mx2\u001b[0m \u001b[0;34m=\u001b[0m \u001b[0mga\u001b[0m\u001b[0;34m.\u001b[0m\u001b[0mselectParents\u001b[0m\u001b[0;34m(\u001b[0m\u001b[0mP_prime\u001b[0m\u001b[0;34m)\u001b[0m\u001b[0;34m\u001b[0m\u001b[0;34m\u001b[0m\u001b[0m\n\u001b[0;32m---> 28\u001b[0;31m                 \u001b[0mx_prime\u001b[0m \u001b[0;34m=\u001b[0m \u001b[0mga\u001b[0m\u001b[0;34m.\u001b[0m\u001b[0mcrossover\u001b[0m\u001b[0;34m(\u001b[0m\u001b[0mx1\u001b[0m\u001b[0;34m,\u001b[0m \u001b[0mx2\u001b[0m\u001b[0;34m,\u001b[0m \u001b[0mr\u001b[0m\u001b[0;34m)\u001b[0m\u001b[0;34m\u001b[0m\u001b[0;34m\u001b[0m\u001b[0m\n\u001b[0m\u001b[1;32m     29\u001b[0m                 \u001b[0;31m#crossover\u001b[0m\u001b[0;34m\u001b[0m\u001b[0;34m\u001b[0m\u001b[0;34m\u001b[0m\u001b[0m\n\u001b[1;32m     30\u001b[0m                 \u001b[0mx_pp\u001b[0m \u001b[0;34m=\u001b[0m \u001b[0mga\u001b[0m\u001b[0;34m.\u001b[0m\u001b[0mmutate\u001b[0m\u001b[0;34m(\u001b[0m\u001b[0mx_prime\u001b[0m\u001b[0;34m)\u001b[0m\u001b[0;34m\u001b[0m\u001b[0;34m\u001b[0m\u001b[0m\n",
      "\u001b[0;32m<ipython-input-1-4351b8688bf1>\u001b[0m in \u001b[0;36mcrossover\u001b[0;34m(self, x1, x2, r)\u001b[0m\n\u001b[1;32m    100\u001b[0m                 \u001b[0mCOsl\u001b[0m\u001b[0;34m.\u001b[0m\u001b[0mappend\u001b[0m\u001b[0;34m(\u001b[0m\u001b[0msl2\u001b[0m\u001b[0;34m[\u001b[0m\u001b[0mi\u001b[0m\u001b[0;34m]\u001b[0m\u001b[0;34m)\u001b[0m\u001b[0;34m\u001b[0m\u001b[0;34m\u001b[0m\u001b[0m\n\u001b[1;32m    101\u001b[0m             \u001b[0;32melse\u001b[0m\u001b[0;34m:\u001b[0m\u001b[0;34m\u001b[0m\u001b[0;34m\u001b[0m\u001b[0m\n\u001b[0;32m--> 102\u001b[0;31m                 \u001b[0mCOa\u001b[0m\u001b[0;34m.\u001b[0m\u001b[0mappend\u001b[0m\u001b[0;34m(\u001b[0m\u001b[0ma1\u001b[0m\u001b[0;34m[\u001b[0m\u001b[0mi\u001b[0m\u001b[0;34m]\u001b[0m\u001b[0;34m)\u001b[0m\u001b[0;34m\u001b[0m\u001b[0;34m\u001b[0m\u001b[0m\n\u001b[0m\u001b[1;32m    103\u001b[0m                 \u001b[0mCOsl\u001b[0m\u001b[0;34m.\u001b[0m\u001b[0mappend\u001b[0m\u001b[0;34m(\u001b[0m\u001b[0msl1\u001b[0m\u001b[0;34m[\u001b[0m\u001b[0mi\u001b[0m\u001b[0;34m]\u001b[0m\u001b[0;34m)\u001b[0m\u001b[0;34m\u001b[0m\u001b[0;34m\u001b[0m\u001b[0m\n\u001b[1;32m    104\u001b[0m \u001b[0;34m\u001b[0m\u001b[0m\n",
      "\u001b[0;31mIndexError\u001b[0m: list index out of range"
     ]
    }
   ],
   "source": [
    "ga_main(a, sl, x, m=2, r=0.3, n=5, maxIter=20, ga=ga)"
   ]
  },
  {
   "cell_type": "code",
   "execution_count": null,
   "id": "a0537886",
   "metadata": {
    "scrolled": true
   },
   "outputs": [],
   "source": [
    "ga.fit_hist"
   ]
  },
  {
   "cell_type": "markdown",
   "id": "c76d3872",
   "metadata": {},
   "source": [
    "Result"
   ]
  },
  {
   "cell_type": "code",
   "execution_count": 31,
   "id": "b49015ae",
   "metadata": {},
   "outputs": [],
   "source": [
    "import matplotlib.pyplot as plt\n",
    "import numpy as np\n"
   ]
  },
  {
   "cell_type": "code",
   "execution_count": 42,
   "id": "c3d270ea",
   "metadata": {},
   "outputs": [],
   "source": [
    "with open('Plot.txt') as f:\n",
    "    lines = f.readlines()\n",
    "    \n",
    "y = []\n",
    "for i in lines[2:-1]:\n",
    "    y.append(np.average(eval(i[-13:])))\n",
    "x=range(len(y))"
   ]
  },
  {
   "cell_type": "code",
   "execution_count": 44,
   "id": "137f7003",
   "metadata": {},
   "outputs": [
    {
     "data": {
      "text/plain": [
       "[<matplotlib.lines.Line2D at 0x7ff0c9695198>]"
      ]
     },
     "execution_count": 44,
     "metadata": {},
     "output_type": "execute_result"
    },
    {
     "data": {
      "image/png": "[encoded data removed]",
      "text/plain": [
       "<Figure size 432x288 with 1 Axes>"
      ]
     },
     "metadata": {
      "needs_background": "light"
     },
     "output_type": "display_data"
    }
   ],
   "source": [
    "plt.plot(x,y)"
   ]
  }
 ],
 "metadata": {
  "kernelspec": {
   "display_name": "fyp",
   "language": "python",
   "name": "fyp"
  },
  "language_info": {
   "codemirror_mode": {
    "name": "ipython",
    "version": 3
   },
   "file_extension": ".py",
   "mimetype": "text/x-python",
   "name": "python",
   "nbconvert_exporter": "python",
   "pygments_lexer": "ipython3",
   "version": "3.6.13"
  }
 },
 "nbformat": 4,
 "nbformat_minor": 5
}
