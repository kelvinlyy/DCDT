{
 "cells": [
  {
   "cell_type": "code",
   "execution_count": 30,
   "id": "67e6c010",
   "metadata": {},
   "outputs": [],
   "source": [
    "import tensorflow as tf\n",
    "import Util\n",
    "import random"
   ]
  },
  {
   "cell_type": "code",
   "execution_count": 31,
   "id": "52f022ed",
   "metadata": {},
   "outputs": [],
   "source": [
    "def addDense(name, config = tf.keras.layers.Dense(units=1, input_shape=[1]).get_config(), seed = 1):\n",
    "    # Adjustable parameters: unit(0-100)\n",
    "    config[\"name\"] = f'la{name}yer'\n",
    "    config[\"units\"] = int(100/5*(seed % 5))\n",
    "    return tf.keras.layers.Dense.from_config(config)\n",
    "\n",
    "def addConv2D(name, config = tf.keras.layers.Conv2D(filters=1, kernel_size=1).get_config(), seed = 1):    \n",
    "    # Adjustable parameters: filters(0-20), kernel_size([(1-20), (1-20)]), strides([(1-5), (1-5)]), padding('valid', 'same'),\n",
    "    # activation(‘softmax', 'elu', 'selu', 'softplus', 'softsign', 'relu', 'tanh', 'sigmoid', 'hard_sigmoid', 'exponential', 'linear', None)\n",
    "    # kernel_initializer('Zeros', 'Ones', 'Constant', 'RandomNormal', 'RandomUniform', 'TruncatedNormal', 'VarianceScaling',\n",
    "    # 'Orthogonal', 'lecun_uniform', 'glorot_normal', 'glorot_uniform', 'he_normal', 'lecun_normal', 'Identity) \n",
    "    config[\"name\"] = f'la{name}yer'\n",
    "    config[\"filters\"] = int(20/5*(seed % 5))+1\n",
    "#     config[\"kernel_size\"]= [int(20/5*(seed % 5)) for _ in range(2)]\n",
    "    config[\"strides\"] = [int(5/5*(seed % 5))+1 for _ in range(2)]\n",
    "    config[\"padding\"] = ['valid', 'same'][seed % 2]\n",
    "    config[\"activation\"] = ['softmax', 'elu', 'selu', 'softplus', 'softsign', 'relu', 'tanh', 'sigmoid', 'hard_sigmoid',\n",
    "                            'exponential', 'linear'][seed % 11]\n",
    "#     config[\"kernel_initializer\"] = ['Zeros', 'Ones', 'Constant', 'RandomNormal', 'RandomUniform', 'TruncatedNormal', \n",
    "#                                     'VarianceScaling','Orthogonal', 'lecun_uniform', 'glorot_normal', 'glorot_uniform', \n",
    "#                                     'he_normal', 'lecun_normal', 'Identity'][seed % 14]\n",
    "    \n",
    "    return tf.keras.layers.Conv2D.from_config(config)\n",
    "    \n",
    "def addBatchNorm(name, config = tf.keras.layers.BatchNormalization().get_config(), seed = 1):\n",
    "    # Adjustable parameter: momentum(0.0-1.0), epsilon(0.0-1.0)\n",
    "    config[\"name\"] = f'la{name}yer'\n",
    "    config[\"momentum\"] = 1/5*(seed % 5)\n",
    "    config[\"epsilon\"] = 1/5*(seed % 5)\n",
    "    \n",
    "    return tf.keras.layers.BatchNormalization.from_config(config)\n",
    "    \n",
    "    \n",
    "def addMaxPool(name, config = tf.keras.layers.MaxPooling2D(pool_size=(1,1)).get_config(), seed = 1):\n",
    "    # Adjustable parameter: pool_size[(1-5), (1-5)], strides([(1-5), (1-5)]), padding('valid', 'same')\n",
    "    config[\"name\"] = f'la{name}yer'\n",
    "#     config[\"pool_size\"] = [int(5/5*(seed % 5)) for _ in range(2)]\n",
    "    config[\"strides\"] = [int(5/5*(seed % 5))+1 for _ in range(2)]\n",
    "    config[\"padding\"] = ['valid', 'same'][seed % 2]\n",
    "    \n",
    "    return tf.keras.layers.MaxPooling2D.from_config(config)\n",
    "    \n",
    "\n",
    "def addDropout(name, config = tf.keras.layers.Dropout(rate=0.1).get_config(), seed = 1):\n",
    "    # Adjustable parameter: rate(0.0-1.0), seed(1, 2, 3, 4, 5)\n",
    "    config[\"name\"] = f'la{name}yer'\n",
    "    config[\"rate\"] = 1/5*(seed % 5)\n",
    "    config[\"seed\"] = seed % 5\n",
    "    return tf.keras.layers.Dropout.from_config(config)\n",
    "\n",
    "def addActivation(name, config = tf.keras.layers.Activation(activation=\"softmax\").get_config(), seed = 1):\n",
    "    # Adjustable parameter: activation(‘softmax', 'elu', 'selu', 'softplus', 'softsign', 'relu', 'tanh', \n",
    "    # 'sigmoid', 'hard_sigmoid', 'exponential', 'linear')\n",
    "    config[\"name\"] = f'la{name}yer'\n",
    "    config[\"activation\"] = ['softmax', 'elu', 'selu', 'softplus', 'softsign', 'relu', 'tanh', \n",
    "     'sigmoid', 'hard_sigmoid', 'exponential', 'linear'][seed % 11]\n",
    "    \n",
    "    return tf.keras.layers.Activation.from_config(config)\n",
    "\n",
    "def addZeroPadd(name, config = tf.keras.layers.ZeroPadding2D().get_config(), seed = 1):\n",
    "    # Adjustable parameter: activation(‘softmax', 'elu', 'selu', 'softplus', 'softsign', 'relu', 'tanh', \n",
    "    # 'sigmoid', 'hard_sigmoid', 'exponential', 'linear')\n",
    "    config[\"name\"] = f'la{name}yer'\n",
    "    config[\"padding\"] =[int(9/5*(seed % 5))+1 for _ in range(2)]\n",
    "    config[\"data_format\"] = ['channels_first','channels_last'][seed % 2]\n",
    "    \n",
    "    return tf.keras.layers.ZeroPadding2D.from_config(config)\n",
    "\n",
    "    "
   ]
  },
  {
   "cell_type": "code",
   "execution_count": 32,
   "id": "fe2c792c",
   "metadata": {
    "scrolled": true
   },
   "outputs": [
    {
     "name": "stdout",
     "output_type": "stream",
     "text": [
      "WARNING:tensorflow:No training configuration found in the save file, so the model was *not* compiled. Compile it manually.\n"
     ]
    }
   ],
   "source": [
    "# load model\n",
    "origin_model = tf.keras.models.load_model(\"./alexnet-cifar10_origin.h5\")\n",
    "# origin_model = tf.keras.applications.resnet50.ResNet50(include_top=False, input_shape=(32,32,3))\n",
    "\n",
    "# load datasets\n",
    "(x_train, y_train), (x_test, y_test) = tf.keras.datasets.cifar10.load_data()  "
   ]
  },
  {
   "cell_type": "code",
   "execution_count": 33,
   "id": "b0a9dac3",
   "metadata": {},
   "outputs": [],
   "source": [
    "# TOTAL_MODELS = 2*(len(origin_model.layers)-1)\n",
    "\n",
    "TOTAL_MODELS = 10\n",
    "model_list = [tf.keras.Sequential() for i in range(TOTAL_MODELS)]"
   ]
  },
  {
   "cell_type": "code",
   "execution_count": 34,
   "id": "081699a6",
   "metadata": {
    "scrolled": true
   },
   "outputs": [],
   "source": [
    "for mutate_model in model_list:\n",
    "    layer_count = 0\n",
    "    seed = int(random.random()*100)\n",
    "    for origin_layer in origin_model.layers:\n",
    "        if (layer_count == 0): #keep first layer\n",
    "            mutate_model.add(origin_layer)            \n",
    "            \n",
    "        elif (type(origin_layer) == type(tf.keras.layers.Dense(1))): #Dense Layer\n",
    "            mutate_model.add(addDense(layer_count, seed=seed))\n",
    "        elif type(origin_layer) == type(tf.keras.layers.Conv2D(filters=1, kernel_size=1)): #Conv2D\n",
    "            mutate_model.add(addConv2D(layer_count, seed=seed))\n",
    "        elif (type(origin_layer) == type(tf.keras.layers.BatchNormalization())): #BatchNorm\n",
    "            mutate_model.add(addBatchNorm(layer_count, seed=seed))\n",
    "        elif (type(origin_layer) == type(tf.keras.layers.Dropout(rate=0.1))): #Droput\n",
    "            mutate_model.add(addDropout(layer_count, seed=seed))\n",
    "        elif (type(origin_layer) == type(tf.keras.layers.MaxPooling2D())): #MaxPool\n",
    "            mutate_model.add(addMaxPool(layer_count, seed=seed))\n",
    "        elif (type(origin_layer) == type(tf.keras.layers.Activation(activation=\"softmax\"))): #Activation\n",
    "            mutate_model.add(addActivation(layer_count, seed=seed))\n",
    "        elif (type(origin_layer) == type(tf.keras.layers.ZeroPadding2D())): #ZeroPadd\n",
    "            mutate_model.add(addZeroPadd(layer_count, seed=seed))\n",
    "        elif (type(origin_layer) == type(tf.keras.layers.Flatten())): #Flatten\n",
    "            mutate_model.add(tf.keras.layers.Flatten())\n",
    "        else:\n",
    "            print(f'unidentify layer: {type(origin_layer)}')\n",
    "        layer_count += 1"
   ]
  },
  {
   "cell_type": "code",
   "execution_count": 35,
   "id": "33ac0730",
   "metadata": {},
   "outputs": [],
   "source": [
    "#get the coverage\n",
    "cov_table_list = []\n",
    "for _ in model_list:\n",
    "    cov_table_list.append(Util.calc_coverage(_, x_test))"
   ]
  },
  {
   "cell_type": "code",
   "execution_count": 36,
   "id": "5b422adb",
   "metadata": {
    "scrolled": true
   },
   "outputs": [
    {
     "name": "stdout",
     "output_type": "stream",
     "text": [
      "4816\n",
      "4803\n",
      "4820\n",
      "4865\n",
      "4803\n",
      "4876\n",
      "4816\n",
      "4816\n",
      "4865\n",
      "4803\n"
     ]
    }
   ],
   "source": [
    "for _ in cov_table_list:\n",
    "    print(Util.total_lines(_))"
   ]
  },
  {
   "cell_type": "code",
   "execution_count": 37,
   "id": "7f850279",
   "metadata": {},
   "outputs": [
    {
     "name": "stdout",
     "output_type": "stream",
     "text": [
      "3636\n",
      "3636\n",
      "3636\n",
      "3636\n",
      "3636\n",
      "3636\n",
      "3636\n",
      "3636\n",
      "3647\n",
      "3636\n"
     ]
    }
   ],
   "source": [
    "#get the coverage\n",
    "cov_table_list = []\n",
    "for _ in model_list:\n",
    "    cov_table_list.append(Util.calc_coverage(_, x_test))\n",
    "    \n",
    "for _ in cov_table_list:\n",
    "    print(Util.total_lines(_))"
   ]
  },
  {
   "cell_type": "code",
   "execution_count": 38,
   "id": "f7de7c2c",
   "metadata": {
    "scrolled": false
   },
   "outputs": [
    {
     "name": "stdout",
     "output_type": "stream",
     "text": [
      "Model: \"sequential_1\"\n",
      "_________________________________________________________________\n",
      " Layer (type)                Output Shape              Param #   \n",
      "=================================================================\n",
      " conv2d_1 (Conv2D)           (None, 16, 16, 96)        2688      \n",
      "                                                                 \n",
      " max_pooling2d_1 (MaxPooling  (None, 8, 8, 96)         0         \n",
      " 2D)                                                             \n",
      "                                                                 \n",
      " batch_normalization_1 (Batc  (None, 8, 8, 96)         384       \n",
      " hNormalization)                                                 \n",
      "                                                                 \n",
      " conv2d_2 (Conv2D)           (None, 8, 8, 256)         614656    \n",
      "                                                                 \n",
      " max_pooling2d_2 (MaxPooling  (None, 3, 3, 256)        0         \n",
      " 2D)                                                             \n",
      "                                                                 \n",
      " batch_normalization_2 (Batc  (None, 3, 3, 256)        1024      \n",
      " hNormalization)                                                 \n",
      "                                                                 \n",
      " conv2d_3 (Conv2D)           (None, 3, 3, 384)         885120    \n",
      "                                                                 \n",
      " conv2d_4 (Conv2D)           (None, 3, 3, 384)         1327488   \n",
      "                                                                 \n",
      " conv2d_5 (Conv2D)           (None, 3, 3, 256)         884992    \n",
      "                                                                 \n",
      " max_pooling2d_3 (MaxPooling  (None, 1, 1, 256)        0         \n",
      " 2D)                                                             \n",
      "                                                                 \n",
      " batch_normalization_3 (Batc  (None, 1, 1, 256)        1024      \n",
      " hNormalization)                                                 \n",
      "                                                                 \n",
      " flatten_1 (Flatten)         (None, 256)               0         \n",
      "                                                                 \n",
      " dense_1 (Dense)             (None, 4096)              1052672   \n",
      "                                                                 \n",
      " dropout_1 (Dropout)         (None, 4096)              0         \n",
      "                                                                 \n",
      " dense_2 (Dense)             (None, 4096)              16781312  \n",
      "                                                                 \n",
      " dropout_2 (Dropout)         (None, 4096)              0         \n",
      "                                                                 \n",
      " dense_3 (Dense)             (None, 10)                40970     \n",
      "                                                                 \n",
      "=================================================================\n",
      "Total params: 21,592,330\n",
      "Trainable params: 21,591,114\n",
      "Non-trainable params: 1,216\n",
      "_________________________________________________________________\n"
     ]
    }
   ],
   "source": [
    "origin_model.summary()"
   ]
  },
  {
   "cell_type": "code",
   "execution_count": 39,
   "id": "0d3a300f",
   "metadata": {},
   "outputs": [
    {
     "name": "stdout",
     "output_type": "stream",
     "text": [
      "Model: \"sequential_31\"\n",
      "_________________________________________________________________\n",
      " Layer (type)                Output Shape              Param #   \n",
      "=================================================================\n",
      " conv2d_1 (Conv2D)           (None, 16, 16, 96)        2688      \n",
      "                                                                 \n",
      " la1yer (MaxPooling2D)       (None, 16, 16, 96)        0         \n",
      "                                                                 \n",
      " la2yer (BatchNormalization)  (None, 16, 16, 96)       384       \n",
      "                                                                 \n",
      " la3yer (Conv2D)             (None, 16, 16, 1)         97        \n",
      "                                                                 \n",
      " la4yer (MaxPooling2D)       (None, 16, 16, 1)         0         \n",
      "                                                                 \n",
      " la5yer (BatchNormalization)  (None, 16, 16, 1)        4         \n",
      "                                                                 \n",
      " la6yer (Conv2D)             (None, 16, 16, 1)         2         \n",
      "                                                                 \n",
      " la7yer (Conv2D)             (None, 16, 16, 1)         2         \n",
      "                                                                 \n",
      " la8yer (Conv2D)             (None, 16, 16, 1)         2         \n",
      "                                                                 \n",
      " la9yer (MaxPooling2D)       (None, 16, 16, 1)         0         \n",
      "                                                                 \n",
      " la10yer (BatchNormalization  (None, 16, 16, 1)        4         \n",
      " )                                                               \n",
      "                                                                 \n",
      " flatten_483 (Flatten)       (None, 256)               0         \n",
      "                                                                 \n",
      " la12yer (Dense)             (None, 0)                 0         \n",
      "                                                                 \n",
      " la13yer (Dropout)           (None, 0)                 0         \n",
      "                                                                 \n",
      " la14yer (Dense)             (None, 0)                 0         \n",
      "                                                                 \n",
      " la15yer (Dropout)           (None, 0)                 0         \n",
      "                                                                 \n",
      " la16yer (Dense)             (None, 0)                 0         \n",
      "                                                                 \n",
      "=================================================================\n",
      "Total params: 3,183\n",
      "Trainable params: 2,987\n",
      "Non-trainable params: 196\n",
      "_________________________________________________________________\n"
     ]
    }
   ],
   "source": [
    "model_list[1].summary()"
   ]
  }
 ],
 "metadata": {
  "kernelspec": {
   "display_name": "Python 3 (ipykernel)",
   "language": "python",
   "name": "python3"
  },
  "language_info": {
   "codemirror_mode": {
    "name": "ipython",
    "version": 3
   },
   "file_extension": ".py",
   "mimetype": "text/x-python",
   "name": "python",
   "nbconvert_exporter": "python",
   "pygments_lexer": "ipython3",
   "version": "3.9.7"
  }
 },
 "nbformat": 4,
 "nbformat_minor": 5
}
