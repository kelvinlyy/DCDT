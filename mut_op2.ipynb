{
 "cells": [
  {
   "cell_type": "code",
   "execution_count": 3,
   "metadata": {},
   "outputs": [],
   "source": [
    "import numpy as np\n",
    "import tensorflow as tf\n",
    "import matplotlib.pyplot as plt"
   ]
  },
  {
   "cell_type": "code",
   "execution_count": 4,
   "metadata": {},
   "outputs": [],
   "source": [
    "#arr: type numpy.array\n",
    "def add_gauss_noise(arr, noise_scale, mut_type):\n",
    "    gauss_noise =  np.random.normal(loc=0, scale=1, size=arr.shape)\n",
    "    if mut_type == \"input\":\n",
    "        noisy = (np.clip((arr/255 + gauss_noise * noise_scale),0,1) * 255).astype(np.int)  # dtype: int\n",
    "    else:\n",
    "        noisy = np.clip((arr + gauss_noise * noise_scale),0,1)    # dtype: float\n",
    "        \n",
    "    return noisy"
   ]
  },
  {
   "cell_type": "code",
   "execution_count": 5,
   "metadata": {},
   "outputs": [
    {
     "name": "stdout",
     "output_type": "stream",
     "text": [
      "WARNING:tensorflow:No training configuration found in the save file, so the model was *not* compiled. Compile it manually.\n"
     ]
    }
   ],
   "source": [
    "# load model\n",
    "model = tf.keras.models.load_model('./alexnet-cifar10_origin.h5')"
   ]
  },
  {
   "cell_type": "markdown",
   "metadata": {},
   "source": [
    "# Input Mutation\n"
   ]
  },
  {
   "cell_type": "code",
   "execution_count": 6,
   "metadata": {},
   "outputs": [],
   "source": [
    "# load datasets\n",
    "(x_train, y_train), (x_test, y_test) = tf.keras.datasets.cifar10.load_data()\n",
    "orig_x = np.array(x_train)\n",
    "x_shape = tuple(orig_x.shape)"
   ]
  },
  {
   "cell_type": "code",
   "execution_count": 7,
   "metadata": {
    "scrolled": true
   },
   "outputs": [
    {
     "data": {
      "text/plain": [
       "<matplotlib.image.AxesImage at 0x1b1b150ff10>"
      ]
     },
     "execution_count": 7,
     "metadata": {},
     "output_type": "execute_result"
    },
    {
     "data": {
      "image/png": "[encoded data removed]",
      "text/plain": [
       "<Figure size 432x288 with 1 Axes>"
      ]
     },
     "metadata": {
      "needs_background": "light"
     },
     "output_type": "display_data"
    }
   ],
   "source": [
    "NTH_SAMPLE = 1\n",
    "# show n-th instance of test samples\n",
    "plt.imshow(orig_x[NTH_SAMPLE])"
   ]
  },
  {
   "cell_type": "code",
   "execution_count": 9,
   "metadata": {},
   "outputs": [],
   "source": [
    "input_noise_scale = 0.5\n",
    "noisy_x = add_gauss_noise(orig_x, input_noise_scale, \"input\")"
   ]
  },
  {
   "cell_type": "code",
   "execution_count": 10,
   "metadata": {},
   "outputs": [
    {
     "data": {
      "text/plain": [
       "<matplotlib.image.AxesImage at 0x1b1b7a6e640>"
      ]
     },
     "execution_count": 10,
     "metadata": {},
     "output_type": "execute_result"
    },
    {
     "data": {
      "image/png": "[encoded data removed]",
      "text/plain": [
       "<Figure size 432x288 with 1 Axes>"
      ]
     },
     "metadata": {
      "needs_background": "light"
     },
     "output_type": "display_data"
    }
   ],
   "source": [
    "plt.imshow(noisy_x[NTH_SAMPLE])"
   ]
  },
  {
   "cell_type": "markdown",
   "metadata": {},
   "source": [
    "# Weight Mutation"
   ]
  },
  {
   "cell_type": "code",
   "execution_count": 12,
   "metadata": {},
   "outputs": [
    {
     "name": "stdout",
     "output_type": "stream",
     "text": [
      "[1.53361121e-03 2.44194418e-02 1.88408815e-03 0.00000000e+00\n",
      " 4.24715783e-03 3.18760164e-02 0.00000000e+00 3.31698800e-03\n",
      " 1.68759748e-02 0.00000000e+00 1.23761566e-02 4.96379025e-02\n",
      " 0.00000000e+00 1.89252600e-01 6.24066666e-02 3.54676336e-01\n",
      " 0.00000000e+00 2.21974333e-03 4.97515779e-03 0.00000000e+00\n",
      " 1.61900163e-01 1.32065425e-02 1.59920439e-01 1.47204459e-01\n",
      " 7.10328594e-02 0.00000000e+00 1.57825125e-03 2.96884496e-03\n",
      " 2.09935429e-03 0.00000000e+00 0.00000000e+00 1.78670764e-01\n",
      " 0.00000000e+00 3.77711584e-03 9.01211649e-02 6.72361553e-02\n",
      " 5.17639285e-03 3.07369069e-03 9.65039898e-03 1.23346515e-03\n",
      " 3.00458726e-02 4.53537423e-03 0.00000000e+00 5.53097436e-03\n",
      " 3.39801167e-03 0.00000000e+00 1.38125767e-03 0.00000000e+00\n",
      " 4.33264952e-03 1.03569161e-02 1.55876474e-02 9.63130407e-03\n",
      " 0.00000000e+00 1.28926067e-02 0.00000000e+00 0.00000000e+00\n",
      " 3.04569658e-02 0.00000000e+00 5.70777571e-03 9.56050761e-04\n",
      " 6.48634508e-02 7.10057020e-02 1.12103289e-02 2.18399276e-04\n",
      " 3.22839580e-02 0.00000000e+00 6.15699440e-02 2.27803783e-03\n",
      " 1.15175844e-05 9.52068120e-02 0.00000000e+00 2.18098149e-01\n",
      " 1.98120505e-01 7.74403615e-03 0.00000000e+00 8.19382537e-03\n",
      " 0.00000000e+00 0.00000000e+00 3.15320445e-03 4.16640081e-02\n",
      " 2.04406194e-02 3.30267400e-02 6.04212619e-02 1.62970051e-02\n",
      " 3.34786139e-02 3.43142753e-03 0.00000000e+00 0.00000000e+00\n",
      " 6.52101785e-02 1.08566202e-01 5.24045387e-03 1.13519482e-01\n",
      " 0.00000000e+00 1.90884955e-02 4.44803340e-03 1.13190383e-01]\n",
      "[0.08982844 0.10559252 0.01609729 0.         0.         0.20413538\n",
      " 0.1314668  0.16664133 0.         0.00258151 0.08608662 0.06227963\n",
      " 0.         0.06805697 0.18367683 0.32219333 0.         0.\n",
      " 0.         0.         0.0626899  0.         0.0682152  0.29271392\n",
      " 0.         0.         0.02381546 0.         0.14931621 0.00464234\n",
      " 0.29017943 0.0922655  0.06168208 0.         0.06626531 0.\n",
      " 0.0390495  0.056764   0.09670849 0.00192288 0.         0.\n",
      " 0.05864175 0.05642231 0.         0.0050276  0.         0.07246263\n",
      " 0.         0.         0.11715612 0.         0.         0.09017801\n",
      " 0.         0.02514278 0.06807115 0.         0.1327485  0.\n",
      " 0.20791023 0.14413879 0.01858396 0.06834607 0.04567509 0.13744126\n",
      " 0.0473457  0.12091986 0.11139909 0.13321699 0.00444965 0.21235086\n",
      " 0.34057735 0.         0.         0.02498347 0.         0.07012033\n",
      " 0.         0.03591349 0.01659985 0.         0.01808132 0.\n",
      " 0.         0.         0.12706904 0.01230745 0.         0.03939691\n",
      " 0.18055564 0.08071587 0.07435754 0.03017215 0.         0.14202603]\n"
     ]
    }
   ],
   "source": [
    "weight_noise_scale = 0.1\n",
    "bias_noise_scale = 0.005\n",
    "for layer in model.layers:\n",
    "    weights = np.array(layer.get_weights()[0])\n",
    "    biases = np.array(layer.get_weights()[1])\n",
    "    \n",
    "    print(weights[0][0][0])\n",
    "    noisy_weights = add_gauss_noise(weights, weight_noise_scale, \"weight\")\n",
    "    noisy_biases = add_gauss_noise(biases, bias_noise_scale, \"bias\")\n",
    "    \n",
    "    print(noisy_weights[0][0][0])\n",
    "    layer.set_weights([noisy_weights, noisy_biases])\n",
    "    break"
   ]
  },
  {
   "cell_type": "code",
   "execution_count": null,
   "metadata": {},
   "outputs": [],
   "source": []
  }
 ],
 "metadata": {
  "kernelspec": {
   "display_name": "Python 3",
   "language": "python",
   "name": "python3"
  },
  "language_info": {
   "codemirror_mode": {
    "name": "ipython",
    "version": 3
   },
   "file_extension": ".py",
   "mimetype": "text/x-python",
   "name": "python",
   "nbconvert_exporter": "python",
   "pygments_lexer": "ipython3",
   "version": "3.8.3"
  }
 },
 "nbformat": 4,
 "nbformat_minor": 4
}
