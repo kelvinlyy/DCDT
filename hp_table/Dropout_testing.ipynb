{
 "cells": [
  {
   "cell_type": "code",
   "execution_count": 5,
   "id": "4713ca1d",
   "metadata": {},
   "outputs": [
    {
     "name": "stdout",
     "output_type": "stream",
     "text": [
      "WARNING:tensorflow:No training configuration found in the save file, so the model was *not* compiled. Compile it manually.\n"
     ]
    }
   ],
   "source": [
    "from tensorflow.keras.applications.resnet50 import ResNet50\n",
    "import tensorflow as tf\n",
    "\n",
    "model = tf.keras.models.load_model('./alexnet-cifar10_origin.h5')\n",
    "layer_config = model.layers[13].get_config()\n",
    "\n",
    "models = []\n",
    "for a in range(100):\n",
    "    new_model = tf.keras.Sequential()\n",
    "    new_model.add(tf.keras.layers.Dropout.from_config(layer_config))\n",
    "    models.append(new_model)\n",
    "\n",
    "# rate: (float,1) [(0.0-1.0), None]\n",
    "def setall_rate(value):\n",
    "    for x in models:\n",
    "        x.layers[0].rate = value\n",
    "    print(\"All models now have rate = \", value)\n",
    "    \n",
    "# seed: (int, 1) [None, 1, 2, 3, 4, 5]\n",
    "def setall_seed(value):\n",
    "    for x in models:\n",
    "        x.layers[0].seed = value\n",
    "    print(\"All models now have seed = \", value)\n",
    "    \n",
    "def set_rate_from_zero_to_one():\n",
    "    count = 0\n",
    "    for x in models:\n",
    "        x.layers[0].rate = count\n",
    "        count = count + 1\n",
    "    print(\"Finish operation setting rate from zero to one\")"
   ]
  },
  {
   "cell_type": "code",
   "execution_count": null,
   "id": "320395c0",
   "metadata": {},
   "outputs": [],
   "source": [
    "model.summary()"
   ]
  },
  {
   "cell_type": "code",
   "execution_count": 2,
   "id": "0fa14a2a",
   "metadata": {},
   "outputs": [
    {
     "data": {
      "text/plain": [
       "{'name': 'dropout_1',\n",
       " 'trainable': True,\n",
       " 'dtype': 'float32',\n",
       " 'rate': 0.5,\n",
       " 'noise_shape': None,\n",
       " 'seed': None}"
      ]
     },
     "execution_count": 2,
     "metadata": {},
     "output_type": "execute_result"
    }
   ],
   "source": [
    "layer_config"
   ]
  },
  {
   "cell_type": "code",
   "execution_count": 7,
   "id": "27a54657",
   "metadata": {},
   "outputs": [
    {
     "name": "stdout",
     "output_type": "stream",
     "text": [
      "0\n",
      "1\n",
      "2\n",
      "3\n",
      "4\n",
      "5\n",
      "6\n",
      "7\n",
      "8\n",
      "9\n",
      "10\n",
      "11\n",
      "12\n",
      "13\n",
      "14\n",
      "15\n",
      "16\n",
      "17\n",
      "18\n",
      "19\n",
      "20\n",
      "21\n",
      "22\n",
      "23\n",
      "24\n",
      "25\n",
      "26\n",
      "27\n",
      "28\n",
      "29\n",
      "30\n",
      "31\n",
      "32\n",
      "33\n",
      "34\n",
      "35\n",
      "36\n",
      "37\n",
      "38\n",
      "39\n",
      "40\n",
      "41\n",
      "42\n",
      "43\n",
      "44\n",
      "45\n",
      "46\n",
      "47\n",
      "48\n",
      "49\n",
      "50\n",
      "51\n",
      "52\n",
      "53\n",
      "54\n",
      "55\n",
      "56\n",
      "57\n",
      "58\n",
      "59\n",
      "60\n",
      "61\n",
      "62\n",
      "63\n",
      "64\n",
      "65\n",
      "66\n",
      "67\n",
      "68\n",
      "69\n",
      "70\n",
      "71\n",
      "72\n",
      "73\n",
      "74\n",
      "75\n",
      "76\n",
      "77\n",
      "78\n",
      "79\n",
      "80\n",
      "81\n",
      "82\n",
      "83\n",
      "84\n",
      "85\n",
      "86\n",
      "87\n",
      "88\n",
      "89\n",
      "90\n",
      "91\n",
      "92\n",
      "93\n",
      "94\n",
      "95\n",
      "96\n",
      "97\n",
      "98\n",
      "99\n",
      "100\n"
     ]
    }
   ],
   "source": [
    "for x in models:\n",
    "    print(x.layers[0].rate)"
   ]
  },
  {
   "cell_type": "code",
   "execution_count": 6,
   "id": "6884c7e2",
   "metadata": {},
   "outputs": [
    {
     "name": "stdout",
     "output_type": "stream",
     "text": [
      "Finish operation setting rate from zero to one\n"
     ]
    }
   ],
   "source": [
    "set_rate_from_zero_to_one()"
   ]
  },
  {
   "cell_type": "code",
   "execution_count": null,
   "id": "a2e183ae",
   "metadata": {},
   "outputs": [],
   "source": [
    "models[2].layers[0].get_config()"
   ]
  },
  {
   "cell_type": "code",
   "execution_count": null,
   "id": "000ad5b5",
   "metadata": {},
   "outputs": [],
   "source": [
    "models[0].layers[0].pool_size = (0, 0)"
   ]
  },
  {
   "cell_type": "code",
   "execution_count": null,
   "id": "293c4528",
   "metadata": {},
   "outputs": [],
   "source": [
    "layer_config = models[0].layers[0].get_config()\n",
    "layer_config"
   ]
  },
  {
   "cell_type": "code",
   "execution_count": null,
   "id": "e75834e9",
   "metadata": {},
   "outputs": [],
   "source": [
    "import numpy as np\n",
    "models[0].predict(np.random.rand(3,218, 218, 3))"
   ]
  },
  {
   "cell_type": "code",
   "execution_count": null,
   "id": "f3128e94",
   "metadata": {},
   "outputs": [],
   "source": [
    "dir(model.layers[176])"
   ]
  },
  {
   "cell_type": "code",
   "execution_count": null,
   "id": "64012091",
   "metadata": {},
   "outputs": [],
   "source": [
    "model.len"
   ]
  },
  {
   "cell_type": "code",
   "execution_count": null,
   "id": "d178603d",
   "metadata": {},
   "outputs": [],
   "source": []
  }
 ],
 "metadata": {
  "kernelspec": {
   "display_name": "Python 3",
   "language": "python",
   "name": "python3"
  },
  "language_info": {
   "codemirror_mode": {
    "name": "ipython",
    "version": 3
   },
   "file_extension": ".py",
   "mimetype": "text/x-python",
   "name": "python",
   "nbconvert_exporter": "python",
   "pygments_lexer": "ipython3",
   "version": "3.8.8"
  }
 },
 "nbformat": 4,
 "nbformat_minor": 5
}
