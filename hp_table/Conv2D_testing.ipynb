{
 "cells": [
  {
   "cell_type": "code",
   "execution_count": 1,
   "id": "4713ca1d",
   "metadata": {},
   "outputs": [],
   "source": [
    "from tensorflow.keras.applications.resnet50 import ResNet50\n",
    "import tensorflow as tf\n",
    "\n",
    "model = ResNet50(weights='imagenet')\n",
    "layer_config = model.layers[2].get_config()\n",
    "\n",
    "models = []\n",
    "for a in range(441):\n",
    "    new_model = tf.keras.Sequential()\n",
    "    new_model.add(tf.keras.layers.Conv2D.from_config(layer_config))\n",
    "    models.append(new_model)\n",
    "\n",
    "# filters: (int,1) [(0-20), None]\n",
    "def setall_filters(value):\n",
    "    for x in models:\n",
    "        x.layers[0].filters = value\n",
    "    print(\"All models now have filters = \", value)\n",
    "    \n",
    "# kernel_size: (int,2) [(0-20), None]\n",
    "def setall_kernelsize(value):\n",
    "    for x in models:\n",
    "        x.layers[0].kernel_size = value\n",
    "    print(\"All models now have kernel_size = \", value)\n",
    "    \n",
    "# strides: (int,2) [(0-5), None]\n",
    "def setall_strides(value):\n",
    "    for x in models:\n",
    "        x.layers[0].strides = value\n",
    "    print(\"All models now have strides = \", value)\n",
    "    \n",
    "# padding: (str, {'valid', 'same'})\n",
    "def setall_padding(value):\n",
    "    for x in models:\n",
    "        x.layers[0].padding = value\n",
    "    print(\"All models now have padding = \", value)\n",
    "    \n",
    "# activation: (str, {‘softmax', 'elu', 'selu', 'softplus', 'softsign', 'relu', 'tanh', 'sigmoid', 'hard_sigmoid', 'exponential',\n",
    "# 'linear', None})\n",
    "def setall_activation(value):\n",
    "    for x in models:\n",
    "        x.layers[0].activation = value\n",
    "    print(\"All models now have activation = \", value)\n",
    "    \n",
    "# kernel_initializer: (str, {'Zeros', 'Ones', 'Constant', 'RandomNormal', 'RandomUniform', 'TruncatedNormal', 'VarianceScaling',\n",
    "# 'Orthogonal', 'lecun_uniform', 'glorot_normal', 'glorot_uniform', 'he_normal', 'lecun_normal', 'Identity'})    \n",
    "def setall_kernelinitializer(value):\n",
    "    for x in models:\n",
    "        x.layers[0].kernel_initializer = value\n",
    "    print(\"All models now have kernelinitializer = \", value)    \n",
    "    \n",
    "    \n",
    "def set_kernelsize_from_zero_to_twenty():\n",
    "    count = 0\n",
    "    for a in range(21):\n",
    "        for b in range(21):\n",
    "            z = (a, b)\n",
    "            models[count].layers[0].kernel_size = z\n",
    "            count = count + 1\n",
    "    print(\"Finish operation setting kernelsize from zero to twenty\")"
   ]
  },
  {
   "cell_type": "code",
   "execution_count": null,
   "id": "320395c0",
   "metadata": {},
   "outputs": [],
   "source": [
    "model.summary()"
   ]
  },
  {
   "cell_type": "code",
   "execution_count": 2,
   "id": "0fa14a2a",
   "metadata": {},
   "outputs": [
    {
     "data": {
      "text/plain": [
       "{'name': 'conv1_conv',\n",
       " 'trainable': True,\n",
       " 'dtype': 'float32',\n",
       " 'filters': 64,\n",
       " 'kernel_size': (7, 7),\n",
       " 'strides': (2, 2),\n",
       " 'padding': 'valid',\n",
       " 'data_format': 'channels_last',\n",
       " 'dilation_rate': (1, 1),\n",
       " 'groups': 1,\n",
       " 'activation': 'linear',\n",
       " 'use_bias': True,\n",
       " 'kernel_initializer': {'class_name': 'GlorotUniform',\n",
       "  'config': {'seed': None}},\n",
       " 'bias_initializer': {'class_name': 'Zeros', 'config': {}},\n",
       " 'kernel_regularizer': None,\n",
       " 'bias_regularizer': None,\n",
       " 'activity_regularizer': None,\n",
       " 'kernel_constraint': None,\n",
       " 'bias_constraint': None}"
      ]
     },
     "execution_count": 2,
     "metadata": {},
     "output_type": "execute_result"
    }
   ],
   "source": [
    "layer_config"
   ]
  },
  {
   "cell_type": "code",
   "execution_count": 10,
   "id": "27a54657",
   "metadata": {},
   "outputs": [
    {
     "name": "stdout",
     "output_type": "stream",
     "text": [
      "(0, 0)\n",
      "(0, 1)\n",
      "(0, 2)\n",
      "(0, 3)\n",
      "(0, 4)\n",
      "(0, 5)\n",
      "(1, 0)\n",
      "(1, 1)\n",
      "(1, 2)\n",
      "(1, 3)\n",
      "(1, 4)\n",
      "(1, 5)\n",
      "(2, 0)\n",
      "(2, 1)\n",
      "(2, 2)\n",
      "(2, 3)\n",
      "(2, 4)\n",
      "(2, 5)\n",
      "(3, 0)\n",
      "(3, 1)\n",
      "(3, 2)\n",
      "(3, 3)\n",
      "(3, 4)\n",
      "(3, 5)\n",
      "(4, 0)\n",
      "(4, 1)\n",
      "(4, 2)\n",
      "(4, 3)\n",
      "(4, 4)\n",
      "(4, 5)\n",
      "(5, 0)\n",
      "(5, 1)\n",
      "(5, 2)\n",
      "(5, 3)\n",
      "(5, 4)\n",
      "(5, 5)\n"
     ]
    }
   ],
   "source": [
    "for x in models:\n",
    "    print(x.layers[0].kernel_size)"
   ]
  },
  {
   "cell_type": "code",
   "execution_count": 3,
   "id": "59e7869a",
   "metadata": {},
   "outputs": [
    {
     "name": "stdout",
     "output_type": "stream",
     "text": [
      "Finish operation setting kernelsize from zero to twenty\n"
     ]
    }
   ],
   "source": [
    "set_kernelsize_from_zero_to_twenty()"
   ]
  },
  {
   "cell_type": "code",
   "execution_count": 4,
   "id": "6890c74e",
   "metadata": {},
   "outputs": [
    {
     "name": "stdout",
     "output_type": "stream",
     "text": [
      "All models now have padding =  same\n"
     ]
    }
   ],
   "source": [
    "setall_padding('same')"
   ]
  },
  {
   "cell_type": "code",
   "execution_count": null,
   "id": "a2e183ae",
   "metadata": {},
   "outputs": [],
   "source": [
    "models[2].layers[0].get_config()"
   ]
  },
  {
   "cell_type": "code",
   "execution_count": null,
   "id": "000ad5b5",
   "metadata": {},
   "outputs": [],
   "source": [
    "models[0].layers[0].pool_size = (0, 0)"
   ]
  },
  {
   "cell_type": "code",
   "execution_count": null,
   "id": "293c4528",
   "metadata": {},
   "outputs": [],
   "source": [
    "layer_config = models[0].layers[0].get_config()\n",
    "layer_config"
   ]
  },
  {
   "cell_type": "code",
   "execution_count": null,
   "id": "e75834e9",
   "metadata": {},
   "outputs": [],
   "source": [
    "import numpy as np\n",
    "models[0].predict(np.random.rand(3,218, 218, 3))"
   ]
  },
  {
   "cell_type": "code",
   "execution_count": null,
   "id": "f3128e94",
   "metadata": {},
   "outputs": [],
   "source": [
    "dir(model.layers[2])"
   ]
  }
 ],
 "metadata": {
  "kernelspec": {
   "display_name": "Python 3",
   "language": "python",
   "name": "python3"
  },
  "language_info": {
   "codemirror_mode": {
    "name": "ipython",
    "version": 3
   },
   "file_extension": ".py",
   "mimetype": "text/x-python",
   "name": "python",
   "nbconvert_exporter": "python",
   "pygments_lexer": "ipython3",
   "version": "3.8.8"
  }
 },
 "nbformat": 4,
 "nbformat_minor": 5
}
