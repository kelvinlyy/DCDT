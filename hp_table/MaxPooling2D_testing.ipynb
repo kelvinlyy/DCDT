{
 "cells": [
  {
   "cell_type": "code",
   "execution_count": 1,
   "id": "4713ca1d",
   "metadata": {},
   "outputs": [],
   "source": [
    "from tensorflow.keras.applications.resnet50 import ResNet50\n",
    "import tensorflow as tf\n",
    "\n",
    "model = ResNet50(weights='imagenet')\n",
    "layer_config = model.layers[6].get_config()\n",
    "\n",
    "models = []\n",
    "for a in range(36):\n",
    "    new_model = tf.keras.Sequential()\n",
    "    new_model.add(tf.keras.layers.MaxPooling2D.from_config(layer_config))\n",
    "    models.append(new_model)\n",
    "\n",
    "# pool_size: (int,2) [(0-5),None]\n",
    "def setall_poolsize(value):\n",
    "    for x in models:\n",
    "        x.layers[0].pool_size = value\n",
    "    print(\"All models now have poolsize = \", value)\n",
    "    \n",
    "# strides: (int,2) [(0-5), None]\n",
    "def setall_strides(value):\n",
    "    for x in models:\n",
    "        x.layers[0].strides = value\n",
    "    print(\"All models now have strides = \", value)\n",
    "    \n",
    "# padding: (str, {'valid','same'})\n",
    "def setall_padding(value):\n",
    "    for x in models:\n",
    "        x.layers[0].padding = value\n",
    "    print(\"All models now have padding = \", value)\n",
    "    \n",
    "def set_poolsize_from_zero_to_five():\n",
    "    count = 0\n",
    "    for a in range(6):\n",
    "        for b in range(6):\n",
    "            z = (a, b)\n",
    "            models[count].layers[0].pool_size = z\n",
    "            count = count + 1\n",
    "    print(\"Finish operation setting poolsize from zero to five\")\n",
    "    \n",
    "def set_strides_from_zero_to_five():\n",
    "    count = 0\n",
    "    for a in range(6):\n",
    "        for b in range(6):\n",
    "            z = (a, b)\n",
    "            models[count].layers[0].strides = z\n",
    "            count = count + 1\n",
    "    print(\"Finish operation setting strides from zero to five\")"
   ]
  },
  {
   "cell_type": "code",
   "execution_count": null,
   "id": "320395c0",
   "metadata": {},
   "outputs": [],
   "source": [
    "model.summary()"
   ]
  },
  {
   "cell_type": "code",
   "execution_count": 2,
   "id": "0fa14a2a",
   "metadata": {},
   "outputs": [
    {
     "data": {
      "text/plain": [
       "{'name': 'pool1_pool',\n",
       " 'trainable': True,\n",
       " 'dtype': 'float32',\n",
       " 'pool_size': (3, 3),\n",
       " 'padding': 'valid',\n",
       " 'strides': (2, 2),\n",
       " 'data_format': 'channels_last'}"
      ]
     },
     "execution_count": 2,
     "metadata": {},
     "output_type": "execute_result"
    }
   ],
   "source": [
    "layer_config"
   ]
  },
  {
   "cell_type": "code",
   "execution_count": 5,
   "id": "27a54657",
   "metadata": {},
   "outputs": [
    {
     "name": "stdout",
     "output_type": "stream",
     "text": [
      "(0, 0)\n",
      "(0, 1)\n",
      "(0, 2)\n",
      "(0, 3)\n",
      "(0, 4)\n",
      "(0, 5)\n",
      "(1, 0)\n",
      "(1, 1)\n",
      "(1, 2)\n",
      "(1, 3)\n",
      "(1, 4)\n",
      "(1, 5)\n",
      "(2, 0)\n",
      "(2, 1)\n",
      "(2, 2)\n",
      "(2, 3)\n",
      "(2, 4)\n",
      "(2, 5)\n",
      "(3, 0)\n",
      "(3, 1)\n",
      "(3, 2)\n",
      "(3, 3)\n",
      "(3, 4)\n",
      "(3, 5)\n",
      "(4, 0)\n",
      "(4, 1)\n",
      "(4, 2)\n",
      "(4, 3)\n",
      "(4, 4)\n",
      "(4, 5)\n",
      "(5, 0)\n",
      "(5, 1)\n",
      "(5, 2)\n",
      "(5, 3)\n",
      "(5, 4)\n",
      "(5, 5)\n"
     ]
    }
   ],
   "source": [
    "for x in models:\n",
    "    print(x.layers[0].pool_size)"
   ]
  },
  {
   "cell_type": "code",
   "execution_count": 4,
   "id": "59e7869a",
   "metadata": {},
   "outputs": [
    {
     "name": "stdout",
     "output_type": "stream",
     "text": [
      "All models now have strides =  (4, 4)\n"
     ]
    }
   ],
   "source": [
    "setall_strides((4, 4))"
   ]
  },
  {
   "cell_type": "code",
   "execution_count": 5,
   "id": "6e3a68ea",
   "metadata": {},
   "outputs": [
    {
     "name": "stdout",
     "output_type": "stream",
     "text": [
      "All models now have poolsize =  (4, 4)\n"
     ]
    }
   ],
   "source": [
    "setall_poolsize((4, 4))"
   ]
  },
  {
   "cell_type": "code",
   "execution_count": 8,
   "id": "6890c74e",
   "metadata": {},
   "outputs": [
    {
     "name": "stdout",
     "output_type": "stream",
     "text": [
      "All models now have padding =  same\n"
     ]
    }
   ],
   "source": [
    "setall_padding('same')"
   ]
  },
  {
   "cell_type": "code",
   "execution_count": 4,
   "id": "6884c7e2",
   "metadata": {},
   "outputs": [
    {
     "name": "stdout",
     "output_type": "stream",
     "text": [
      "Finish operation setting poolsize from zero to five\n"
     ]
    }
   ],
   "source": [
    "set_poolsize_from_zero_to_five()"
   ]
  },
  {
   "cell_type": "code",
   "execution_count": null,
   "id": "a2e183ae",
   "metadata": {},
   "outputs": [],
   "source": [
    "models[2].layers[0].get_config()"
   ]
  },
  {
   "cell_type": "code",
   "execution_count": null,
   "id": "000ad5b5",
   "metadata": {},
   "outputs": [],
   "source": [
    "models[0].layers[0].pool_size = (0, 0)"
   ]
  },
  {
   "cell_type": "code",
   "execution_count": null,
   "id": "293c4528",
   "metadata": {},
   "outputs": [],
   "source": [
    "layer_config = models[0].layers[0].get_config()\n",
    "layer_config"
   ]
  },
  {
   "cell_type": "code",
   "execution_count": null,
   "id": "e75834e9",
   "metadata": {},
   "outputs": [],
   "source": [
    "import numpy as np\n",
    "model1.predict(np.random.rand(3,218, 218, 3))"
   ]
  },
  {
   "cell_type": "code",
   "execution_count": null,
   "id": "f3128e94",
   "metadata": {},
   "outputs": [],
   "source": [
    "dir(model.layers[6])"
   ]
  }
 ],
 "metadata": {
  "kernelspec": {
   "display_name": "Python 3",
   "language": "python",
   "name": "python3"
  },
  "language_info": {
   "codemirror_mode": {
    "name": "ipython",
    "version": 3
   },
   "file_extension": ".py",
   "mimetype": "text/x-python",
   "name": "python",
   "nbconvert_exporter": "python",
   "pygments_lexer": "ipython3",
   "version": "3.8.8"
  }
 },
 "nbformat": 4,
 "nbformat_minor": 5
}
