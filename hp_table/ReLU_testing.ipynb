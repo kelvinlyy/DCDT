{
 "cells": [
  {
   "cell_type": "code",
   "execution_count": 1,
   "id": "4713ca1d",
   "metadata": {},
   "outputs": [],
   "source": [
    "from tensorflow.keras.applications.mobilenet import MobileNet\n",
    "import tensorflow as tf\n",
    "\n",
    "model = MobileNet(weights='imagenet')\n",
    "layer_config = model.layers[4].get_config()\n",
    "\n",
    "models = []\n",
    "for a in range(100):\n",
    "    new_model = tf.keras.Sequential()\n",
    "    new_model.add(tf.keras.layers.ReLU.from_config(layer_config))\n",
    "    models.append(new_model)\n",
    "\n",
    "# max_value: (float,1) [(0.0-1.0), None]\n",
    "def setall_maxvalue(value):\n",
    "    for x in models:\n",
    "        x.layers[0].max_value = value\n",
    "    print(\"All models now have maxvalue = \", value)\n",
    "    \n",
    "# negative_slope: (float,1) [(0.0-1.0),None]\n",
    "def setall_negativeslope(value):\n",
    "    for x in models:\n",
    "        x.layers[0].negative_slope = value\n",
    "    print(\"All models now have negativeslope = \", value)\n",
    "    \n",
    "# threshold: (float,1) [(0.0-1.0), None]\n",
    "def setall_threshold(value):\n",
    "    for x in models:\n",
    "        x.layers[0].threshold = value\n",
    "    print(\"All models now have threshold = \", value)\n",
    "    \n",
    "def set_maxvalue_from_zero_to_one():\n",
    "    count = 0.0\n",
    "    for x in models:\n",
    "        x.layers[0].max_value = count\n",
    "        count = count + 0.01\n",
    "    print(\"Finish operation setting maxvalue from zero to one\")\n",
    "    \n",
    "def set_negativeslope_from_zero_to_one():\n",
    "    count = 0.0\n",
    "    for x in models:\n",
    "        x.layers[0].negative_slope = count\n",
    "        count = count + 0.01\n",
    "    print(\"Finish operation setting negativeslope from zero to one\")\n",
    "    \n",
    "def set_threshold_from_zero_to_one():\n",
    "    count = 0.0\n",
    "    for x in models:\n",
    "        x.layers[0].threshold = count\n",
    "        count = count + 0.01\n",
    "    print(\"Finish operation setting threshold from zero to one\")"
   ]
  },
  {
   "cell_type": "code",
   "execution_count": null,
   "id": "320395c0",
   "metadata": {},
   "outputs": [],
   "source": [
    "model.summary()"
   ]
  },
  {
   "cell_type": "code",
   "execution_count": 2,
   "id": "0fa14a2a",
   "metadata": {},
   "outputs": [
    {
     "data": {
      "text/plain": [
       "{'name': 'conv1_relu',\n",
       " 'trainable': True,\n",
       " 'dtype': 'float32',\n",
       " 'max_value': array(6., dtype=float32),\n",
       " 'negative_slope': array(0., dtype=float32),\n",
       " 'threshold': array(0., dtype=float32)}"
      ]
     },
     "execution_count": 2,
     "metadata": {},
     "output_type": "execute_result"
    }
   ],
   "source": [
    "layer_config"
   ]
  },
  {
   "cell_type": "code",
   "execution_count": 7,
   "id": "27a54657",
   "metadata": {},
   "outputs": [
    {
     "name": "stdout",
     "output_type": "stream",
     "text": [
      "0.0\n",
      "0.01\n",
      "0.02\n",
      "0.03\n",
      "0.04\n",
      "0.05\n",
      "0.060000000000000005\n",
      "0.07\n",
      "0.08\n",
      "0.09\n",
      "0.09999999999999999\n",
      "0.10999999999999999\n",
      "0.11999999999999998\n",
      "0.12999999999999998\n",
      "0.13999999999999999\n",
      "0.15\n",
      "0.16\n",
      "0.17\n",
      "0.18000000000000002\n",
      "0.19000000000000003\n",
      "0.20000000000000004\n",
      "0.21000000000000005\n",
      "0.22000000000000006\n",
      "0.23000000000000007\n",
      "0.24000000000000007\n",
      "0.25000000000000006\n",
      "0.26000000000000006\n",
      "0.2700000000000001\n",
      "0.2800000000000001\n",
      "0.2900000000000001\n",
      "0.3000000000000001\n",
      "0.3100000000000001\n",
      "0.3200000000000001\n",
      "0.3300000000000001\n",
      "0.34000000000000014\n",
      "0.35000000000000014\n",
      "0.36000000000000015\n",
      "0.37000000000000016\n",
      "0.38000000000000017\n",
      "0.3900000000000002\n",
      "0.4000000000000002\n",
      "0.4100000000000002\n",
      "0.4200000000000002\n",
      "0.4300000000000002\n",
      "0.4400000000000002\n",
      "0.45000000000000023\n",
      "0.46000000000000024\n",
      "0.47000000000000025\n",
      "0.48000000000000026\n",
      "0.49000000000000027\n",
      "0.5000000000000002\n",
      "0.5100000000000002\n",
      "0.5200000000000002\n",
      "0.5300000000000002\n",
      "0.5400000000000003\n",
      "0.5500000000000003\n",
      "0.5600000000000003\n",
      "0.5700000000000003\n",
      "0.5800000000000003\n",
      "0.5900000000000003\n",
      "0.6000000000000003\n",
      "0.6100000000000003\n",
      "0.6200000000000003\n",
      "0.6300000000000003\n",
      "0.6400000000000003\n",
      "0.6500000000000004\n",
      "0.6600000000000004\n",
      "0.6700000000000004\n",
      "0.6800000000000004\n",
      "0.6900000000000004\n",
      "0.7000000000000004\n",
      "0.7100000000000004\n",
      "0.7200000000000004\n",
      "0.7300000000000004\n",
      "0.7400000000000004\n",
      "0.7500000000000004\n",
      "0.7600000000000005\n",
      "0.7700000000000005\n",
      "0.7800000000000005\n",
      "0.7900000000000005\n",
      "0.8000000000000005\n",
      "0.8100000000000005\n",
      "0.8200000000000005\n",
      "0.8300000000000005\n",
      "0.8400000000000005\n",
      "0.8500000000000005\n",
      "0.8600000000000005\n",
      "0.8700000000000006\n",
      "0.8800000000000006\n",
      "0.8900000000000006\n",
      "0.9000000000000006\n",
      "0.9100000000000006\n",
      "0.9200000000000006\n",
      "0.9300000000000006\n",
      "0.9400000000000006\n",
      "0.9500000000000006\n",
      "0.9600000000000006\n",
      "0.9700000000000006\n",
      "0.9800000000000006\n",
      "0.9900000000000007\n"
     ]
    }
   ],
   "source": [
    "for x in models:\n",
    "    print(x.layers[0].threshold)"
   ]
  },
  {
   "cell_type": "code",
   "execution_count": 4,
   "id": "59e7869a",
   "metadata": {},
   "outputs": [
    {
     "name": "stdout",
     "output_type": "stream",
     "text": [
      "All models now have maxvalue =  0.2\n"
     ]
    }
   ],
   "source": [
    "setall_maxvalue(0.2)"
   ]
  },
  {
   "cell_type": "code",
   "execution_count": 6,
   "id": "6884c7e2",
   "metadata": {},
   "outputs": [
    {
     "name": "stdout",
     "output_type": "stream",
     "text": [
      "Finish operation setting threshold from zero to one\n"
     ]
    }
   ],
   "source": [
    "set_threshold_from_zero_to_one()"
   ]
  },
  {
   "cell_type": "code",
   "execution_count": null,
   "id": "a2e183ae",
   "metadata": {},
   "outputs": [],
   "source": [
    "models[2].layers[0].get_config()"
   ]
  },
  {
   "cell_type": "code",
   "execution_count": null,
   "id": "293c4528",
   "metadata": {},
   "outputs": [],
   "source": [
    "layer_config = models[0].layers[0].get_config()\n",
    "layer_config"
   ]
  },
  {
   "cell_type": "code",
   "execution_count": null,
   "id": "e75834e9",
   "metadata": {},
   "outputs": [],
   "source": [
    "import numpy as np\n",
    "models[0].predict(np.random.rand(3,218, 218, 3))"
   ]
  },
  {
   "cell_type": "code",
   "execution_count": null,
   "id": "f3128e94",
   "metadata": {},
   "outputs": [],
   "source": [
    "dir(model.layers[3])"
   ]
  }
 ],
 "metadata": {
  "kernelspec": {
   "display_name": "Python 3",
   "language": "python",
   "name": "python3"
  },
  "language_info": {
   "codemirror_mode": {
    "name": "ipython",
    "version": 3
   },
   "file_extension": ".py",
   "mimetype": "text/x-python",
   "name": "python",
   "nbconvert_exporter": "python",
   "pygments_lexer": "ipython3",
   "version": "3.8.8"
  }
 },
 "nbformat": 4,
 "nbformat_minor": 5
}
