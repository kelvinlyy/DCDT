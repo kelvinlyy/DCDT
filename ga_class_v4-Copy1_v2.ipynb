{
 "cells": [
  {
   "cell_type": "markdown",
   "metadata": {},
   "source": [
    "## Alexnet model"
   ]
  },
  {
   "cell_type": "code",
   "execution_count": 1,
   "metadata": {},
   "outputs": [
    {
     "name": "stderr",
     "output_type": "stream",
     "text": [
      "Using TensorFlow backend.\n"
     ]
    }
   ],
   "source": [
    "import tensorflow as tf\n",
    "import numpy as np\n",
    "import random\n",
    "import os\n",
    "from multiprocessing import Process\n",
    "import redis\n",
    "import pickle\n",
    "import subprocess\n",
    "import keras\n",
    "import time\n",
    "import cv2\n",
    "import matplotlib.pyplot as plt"
   ]
  },
  {
   "cell_type": "code",
   "execution_count": 2,
   "metadata": {},
   "outputs": [],
   "source": [
    "import os\n",
    "os.environ['CUDA_VISIBLE_DEVICES']=\"\"\n",
    "import keras"
   ]
  },
  {
   "cell_type": "code",
   "execution_count": 3,
   "metadata": {},
   "outputs": [
    {
     "data": {
      "text/plain": [
       "''"
      ]
     },
     "execution_count": 3,
     "metadata": {},
     "output_type": "execute_result"
    }
   ],
   "source": [
    "tf.test.gpu_device_name()"
   ]
  },
  {
   "cell_type": "code",
   "execution_count": 4,
   "metadata": {},
   "outputs": [],
   "source": [
    "redis_server_path = '/data/yylaiai/redis/redis-stable/src/redis-server'"
   ]
  },
  {
   "cell_type": "code",
   "execution_count": 5,
   "metadata": {},
   "outputs": [
    {
     "data": {
      "text/plain": [
       "<subprocess.Popen at 0x7fb62d4ca358>"
      ]
     },
     "execution_count": 5,
     "metadata": {},
     "output_type": "execute_result"
    }
   ],
   "source": [
    "# open redis server on current jupyter notebook terminal\n",
    "subprocess.Popen([redis_server_path])"
   ]
  },
  {
   "cell_type": "code",
   "execution_count": 6,
   "metadata": {},
   "outputs": [],
   "source": [
    "model = keras.applications.MobileNetV2()\n",
    "# model = keras.applications.resnet50.ResNet50()"
   ]
  },
  {
   "cell_type": "code",
   "execution_count": 7,
   "metadata": {},
   "outputs": [
    {
     "name": "stdout",
     "output_type": "stream",
     "text": [
      "(10000, 32, 32, 3)\n"
     ]
    }
   ],
   "source": [
    "# load datasets\n",
    "(x_train, y_train), (x_test, y_test) = tf.keras.datasets.cifar10.load_data()\n",
    "print(x_test.shape)"
   ]
  },
  {
   "cell_type": "code",
   "execution_count": 8,
   "metadata": {},
   "outputs": [
    {
     "name": "stdout",
     "output_type": "stream",
     "text": [
      "(10000, 224, 224, 3)\n"
     ]
    }
   ],
   "source": [
    "# expand cifar10 images from 32x32 to 224x224\n",
    "x_test_224 = np.array([cv2.resize(i, (224, 224)) for i in x_test])\n",
    "print(x_test_224.shape)"
   ]
  },
  {
   "cell_type": "code",
   "execution_count": 9,
   "metadata": {},
   "outputs": [],
   "source": [
    "class GA:\n",
    "    '''\n",
    "    arguments e.g.:\n",
    "    fit: [\"inc\", [\"tensorflow\", \"theano\"]]\n",
    "    model: model\n",
    "    dataset: x_test\n",
    "    input_shape: x_test[0].shape\n",
    "    init_input_mut: 0.1\n",
    "    init_weight_mut: 0\n",
    "    r1: 0.5\n",
    "    r2: 0.1\n",
    "    m: 5\n",
    "    n: 1000\n",
    "    db_flag: 0\n",
    "    '''\n",
    "    def __init__(self, fit, model, dataset, input_shape, init_input_mut, init_weight_mut, r1, r2, m, n, db_flag):\n",
    "        self.fitness_func, self.phi = fit # a tuple: (fitness function, list of DL framework(s) to be used)\n",
    "        self.model = model\n",
    "        self.dataset = dataset\n",
    "        self.input_shape = input_shape\n",
    "        self.init_input_mut = init_input_mut\n",
    "        self.init_weight_mut = init_weight_mut\n",
    "        self.r1 = r1\n",
    "        self.r2 = r2\n",
    "        self.m = m\n",
    "        self.n = n\n",
    "        self.db_flag = db_flag\n",
    "        self.redis = redis.Redis(db=db_flag)\n",
    "        if not self.redis.ping():\n",
    "            raise Exception(\"Redis server not set up\")\n",
    "        \n",
    "    def initPopulation(self):\n",
    "        # randomly choose n inputs from the dataset if n < len(dataset)\n",
    "        if len(self.dataset) > self.n:\n",
    "            selected_x = self.dataset[np.random.choice(len(self.dataset), size=self.n, replace=False)]\n",
    "        else:\n",
    "            selected_x = self.dataset\n",
    "            \n",
    "        # get model weights\n",
    "        original_weights = np.array(self.model.get_weights(), dtype=object)\n",
    "            \n",
    "        self.mutated_inputs = selected_x\n",
    "        self.mutated_weights = original_weights\n",
    "\n",
    "        # input level\n",
    "        if self.init_input_mut != 0 and self.init_input_mut != None:\n",
    "            self.mutated_inputs = (np.clip((selected_x/255 + np.random.standard_cauchy(selected_x.shape) * self.init_input_mut),0,1) * 255).astype(int)\n",
    "            \n",
    "        # weight level\n",
    "        # set the model weights of the GA object to the mutated weights\n",
    "        if self.init_weight_mut != 0 and self.init_weight_mut != None:\n",
    "            self.mutated_weights = []\n",
    "            for layer_weight in original_weights:\n",
    "                self.mutated_weights.append(layer_weight + np.random.standard_cauchy(layer_weight.shape) * self.init_weight_mut)\n",
    "            self.model.set_weights(self.mutated_weights)\n",
    "                \n",
    "        return [self.mutated_inputs, self.mutated_weights]\n",
    "\n",
    "\n",
    "    def computeFitness(self):\n",
    "        if self.fitness_func == \"inc\":\n",
    "            FFunc = InconsistencyFunc(\"get_predicts.py\", 0, self.redis, self.phi, self.model, self.mutated_inputs, -1)\n",
    "            self.fitness_values = FFunc.compute()\n",
    "            return self.fitness_values\n",
    "        elif self.fitness_func == \"nan\":\n",
    "            FFunc = NanFunc(\"get_predicts.py\", 0, self.redis, self.phi, self.model, self.mutated_inputs, -1)\n",
    "            self.fitness_values = FFunc.compute()\n",
    "            return self.fitness_values\n",
    "        \n",
    "    def getTopK_Fit(self, k):\n",
    "        topK_idx = np.argpartition(self.fitness_values, -k)[-k:]\n",
    "        return [self.mutated_inputs[topK_idx], self.fitness_values[topK_idx]]\n",
    "        \n",
    "        \n",
    "    # select m candidates for parents of next-generation inputs\n",
    "    def select(self):\n",
    "        selected_index = np.argpartition(self.fitness_values, -self.m)[-self.m:]\n",
    "        self.selected_x = self.mutated_inputs[selected_index]\n",
    "        return self.selected_x\n",
    "    \n",
    "    # select 2 parents from the candidates\n",
    "    def selectParents(self):\n",
    "        self.x1, self.x2 = random.sample(list(self.selected_x), 2)\n",
    "        return self.x1, self.x2\n",
    "    \n",
    "    # return a flatten list of a crossover product of the selected parents\n",
    "    def crossover(self):\n",
    "        x1_flatten = self.x1.flatten()\n",
    "        x2_flatten = self.x2.flatten()\n",
    "\n",
    "        x1_factor = np.random.choice(2, size=x1_flatten.shape, p=[1-self.r1, self.r1])\n",
    "        x2_factor = 1 - x1_factor\n",
    "        \n",
    "        self.x_prime = x1_flatten * x1_factor + x2_flatten * x2_factor\n",
    "\n",
    "        return self.x_prime\n",
    "    \n",
    "    # mutate the crossover product and reshape it as the shape of the input instance\n",
    "    def mutate(self):\n",
    "        self.x_2prime=(np.clip((self.x_prime/255 + np.random.standard_cauchy(self.x_prime.shape) * self.r2),0,1) * 255).astype(int)\n",
    "        self.x_2prime = self.x_2prime.reshape(self.input_shape)\n",
    "        return self.x_2prime\n",
    "    \n",
    "    # check if the new DNN model can predict the mutated inputs without triggering error\n",
    "    def checkFailed(self):\n",
    "        try:\n",
    "            if self.fitness_func == \"inc\":\n",
    "                return []\n",
    "\n",
    "            elif self.fitness_func == \"nan\":\n",
    "                predictions = self.model.predict(self.mutated_inputs)\n",
    "                if np.isnan(predictions).any(): # if there is any nan in the predictions\n",
    "                    return self.mutated_inputs\n",
    "        except Exception as e:\n",
    "            return [e]\n",
    "            "
   ]
  },
  {
   "cell_type": "code",
   "execution_count": 10,
   "metadata": {},
   "outputs": [],
   "source": [
    "class InconsistencyFunc:\n",
    "    def __init__(self, py_script, db_flag, redis_server, backends, model, inputs, layer_idx):\n",
    "        self.redis_server = redis_server\n",
    "        self.db_flag = db_flag\n",
    "        \n",
    "        self.backend_1, self.backend_2 = backends\n",
    "        self.model = model\n",
    "        self.inputs = inputs\n",
    "        self.cmd_1 = f'python {py_script} {self.backend_1} {db_flag} {layer_idx}'\n",
    "        self.cmd_2 = f'python {py_script} {self.backend_2} {db_flag} {layer_idx}'\n",
    "    \n",
    "    def compute(self):\n",
    "        # store model and inputs\n",
    "        with self.redis_server.pipeline() as pipe:\n",
    "            pipe.mset({\"model\": pickle.dumps(self.model)})\n",
    "            pipe.mset({\"inputs\": pickle.dumps(self.inputs)})\n",
    "            pipe.execute()\n",
    "        \n",
    "        # run subprocess to get predictions\n",
    "        p1 = Process(target=lambda: os.system(self.cmd_1))\n",
    "        p2 = Process(target=lambda: os.system(self.cmd_2))\n",
    "        p1.start()\n",
    "        p2.start()\n",
    "        p1.join()\n",
    "        p2.join()\n",
    "        \n",
    "        # load predictions\n",
    "        with self.redis_server.pipeline() as pipe:\n",
    "            pipe.hget(f\"{self.backend_1}\", \"predictions\")\n",
    "            pipe.hget(f\"{self.backend_2}\", \"predictions\")\n",
    "            predictions = pipe.execute()\n",
    "        \n",
    "        self.predictions_1 = pickle.loads(predictions[0])\n",
    "        self.predictions_2 = pickle.loads(predictions[1])\n",
    "        \n",
    "        # compute fitness\n",
    "        predictions_diff = np.abs(self.predictions_2 - self.predictions_1)\n",
    "        \n",
    "        self.fitness_values = np.sum(predictions_diff**2, axis=1) / len(self.predictions_1)\n",
    "        \n",
    "        return self.fitness_values\n"
   ]
  },
  {
   "cell_type": "code",
   "execution_count": 11,
   "metadata": {},
   "outputs": [],
   "source": [
    "class NanFunc:\n",
    "    def __init__(self, py_script, db_flag, redis_server, backend, model, inputs, layer_idx):\n",
    "        self.redis_server = redis_server\n",
    "        self.db_flag = db_flag\n",
    "        \n",
    "        self.model = model\n",
    "        self.inputs = inputs\n",
    "        self.backend = backend[0]\n",
    "        self.cmd = f'python {py_script} {self.backend} {db_flag} {layer_idx}'\n",
    "        \n",
    "    def compute(self):\n",
    "        # store model and inputs\n",
    "#         with self.redis_server.pipeline() as pipe:\n",
    "#             pipe.mset({\"model\": pickle.dumps(self.model)})\n",
    "#             pipe.mset({\"inputs\": pickle.dumps(self.inputs)})\n",
    "#             pipe.execute()\n",
    "\n",
    "        self.redis_server.mset({\"inputs\": pickle.dumps(self.inputs)})\n",
    "        self.redis_server.mset({\"model\": pickle.dumps(self.model)})\n",
    "\n",
    "\n",
    "\n",
    "        # run subprocess to get predictions\n",
    "        os.system(self.cmd)\n",
    "        \n",
    "        # load predictions\n",
    "        self.predictions = pickle.loads(self.redis_server.hget(f\"{self.backend}\", \"predictions\"))\n",
    "        \n",
    "        # normalize neurons\n",
    "        normalized_outputs = self.predictions/(np.amax(self.predictions) - np.amin(self.predictions))\n",
    "        \n",
    "        # compute fitness\n",
    "        self.fitness_values = np.amax(normalized_outputs, axis=1) - np.amin(normalized_outputs, axis=1)\n",
    "        \n",
    "        return self.fitness_values\n"
   ]
  },
  {
   "cell_type": "code",
   "execution_count": 12,
   "metadata": {},
   "outputs": [],
   "source": [
    "# parameters\n",
    "fit = [\"nan\", [\"tensorflow\"]]\n",
    "model = model\n",
    "dataset = x_test[:50]\n",
    "input_shape = x_test[0].shape\n",
    "init_input_mut = 0.1\n",
    "init_weight_mut = 0\n",
    "r1 = 0.5\n",
    "r2 = 0.1\n",
    "m = 5\n",
    "n = 50\n",
    "maxIter = 10\n",
    "db_flag = 0"
   ]
  },
  {
   "cell_type": "code",
   "execution_count": 13,
   "metadata": {},
   "outputs": [],
   "source": [
    "def ga_main(fit, model, dataset, input_shape, init_input_mut, init_weight_mut, r1, r2, m, n, db_flag, maxIter):\n",
    "    F = []\n",
    "    fits = []\n",
    "    ga = GA(fit, model, dataset, input_shape, init_input_mut, init_weight_mut, r1, r2, m, n, db_flag)\n",
    "    x, theta = ga.initPopulation()\n",
    "    start_time = time.time()\n",
    "    for i in range(maxIter):\n",
    "        print(\"Running at iteration {}:\".format(i+1))\n",
    "        iter_start_time = time.time()\n",
    "        Fit = ga.computeFitness()\n",
    "        top_k_fitness = ga.getTopK_Fit(m)\n",
    "        fits.append(top_k_fitness)\n",
    "        P_prime = ga.select()\n",
    "        test_cases = []\n",
    "        test_cases.extend(P_prime)\n",
    "        while len(test_cases) < ga.n:\n",
    "            x1, x2 = ga.selectParents()\n",
    "            x_prime = ga.crossover()\n",
    "            r = random.uniform(0,1)\n",
    "            if r < ga.r2:\n",
    "                x_2prime = ga.mutate()\n",
    "                test_cases.append(x_2prime)\n",
    "\n",
    "        ga.mutated_inputs = np.array(test_cases)\n",
    "        X = ga.checkFailed()\n",
    "        if X != None:\n",
    "            F.extend(X)\n",
    "        iter_end_time = time.time()\n",
    "        \n",
    "        print(\"top {} fitness scores: \".format(m), top_k_fitness[1])\n",
    "        print(\"Taken time: {}\".format(iter_end_time-iter_start_time))\n",
    "        print()\n",
    "    \n",
    "    end_time = time.time()\n",
    "    print(\"Total taken time: {}\".format(end_time-start_time))\n",
    "    \n",
    "    if (i+10)%10 == 0:\n",
    "        plt.plot((lambda L: [np.mean(i[1]) for i in L])(fits))\n",
    "\n",
    "    return F, fits"
   ]
  },
  {
   "cell_type": "code",
   "execution_count": 14,
   "metadata": {},
   "outputs": [],
   "source": [
    "fit_grad = lambda L: [np.mean(i[1]) for i in L]"
   ]
  },
  {
   "cell_type": "markdown",
   "metadata": {},
   "source": [
    "## NaN Fitness Function for tensorflow"
   ]
  },
  {
   "cell_type": "code",
   "execution_count": 15,
   "metadata": {
    "scrolled": true
   },
   "outputs": [
    {
     "name": "stdout",
     "output_type": "stream",
     "text": [
      "Running at iteration 1:\n",
      "top 5 fitness scores:  [0.44926015 0.68246764 0.7459291  1.         0.83799964]\n",
      "Taken time: 4.77100133895874\n",
      "\n",
      "Running at iteration 2:\n",
      "top 5 fitness scores:  [0.44926015 0.68246764 0.7459291  1.         0.83799964]\n",
      "Taken time: 3.38759446144104\n",
      "\n",
      "Running at iteration 3:\n",
      "top 5 fitness scores:  [0.44926015 0.68246764 0.7459291  1.         0.83799964]\n",
      "Taken time: 3.174670457839966\n",
      "\n",
      "Running at iteration 4:\n",
      "top 5 fitness scores:  [0.44926015 0.68246764 0.7459291  1.         0.83799964]\n",
      "Taken time: 3.339367151260376\n",
      "\n",
      "Running at iteration 5:\n",
      "top 5 fitness scores:  [0.44926015 0.68246764 0.7459291  1.         0.83799964]\n",
      "Taken time: 3.1741321086883545\n",
      "\n",
      "Running at iteration 6:\n",
      "top 5 fitness scores:  [0.44926015 0.68246764 0.7459291  1.         0.83799964]\n",
      "Taken time: 3.28613018989563\n",
      "\n",
      "Running at iteration 7:\n",
      "top 5 fitness scores:  [0.44926015 0.68246764 0.7459291  1.         0.83799964]\n",
      "Taken time: 3.6854705810546875\n",
      "\n",
      "Running at iteration 8:\n",
      "top 5 fitness scores:  [0.44926015 0.68246764 0.7459291  1.         0.83799964]\n",
      "Taken time: 3.3384087085723877\n",
      "\n",
      "Running at iteration 9:\n",
      "top 5 fitness scores:  [0.44926015 0.68246764 0.7459291  1.         0.83799964]\n",
      "Taken time: 3.408604621887207\n",
      "\n",
      "Running at iteration 10:\n",
      "top 5 fitness scores:  [0.44926015 0.68246764 0.7459291  1.         0.83799964]\n",
      "Taken time: 3.4213085174560547\n",
      "\n",
      "Total taken time: 34.99651575088501\n"
     ]
    },
    {
     "data": {
      "text/plain": [
       "[<matplotlib.lines.Line2D at 0x7fb50f0e8a90>]"
      ]
     },
     "execution_count": 15,
     "metadata": {},
     "output_type": "execute_result"
    },
    {
     "data": {
      "image/png": "[encoded data removed]",
      "text/plain": [
       "<Figure size 432x288 with 1 Axes>"
      ]
     },
     "metadata": {
      "needs_background": "light"
     },
     "output_type": "display_data"
    }
   ],
   "source": [
    "F, fits = ga_main([\"nan\", [\"tensorflow\"]], model, dataset, input_shape, init_input_mut, init_weight_mut, r1, r2, m, 10, db_flag, maxIter)\n",
    "plt.plot(fit_grad(fits))"
   ]
  },
  {
   "cell_type": "markdown",
   "metadata": {},
   "source": [
    "## NaN Fitness Function for theano"
   ]
  },
  {
   "cell_type": "code",
   "execution_count": 17,
   "metadata": {},
   "outputs": [
    {
     "name": "stdout",
     "output_type": "stream",
     "text": [
      "Running at iteration 1:\n",
      "top 5 fitness scores:  [0.4492614  0.68246555 0.7459298  1.         0.8380022 ]\n",
      "Taken time: 4.770803451538086\n",
      "\n",
      "Running at iteration 2:\n",
      "top 5 fitness scores:  [0.4492614  0.68246555 0.7459298  1.         0.8380022 ]\n",
      "Taken time: 3.6343796253204346\n",
      "\n",
      "Running at iteration 3:\n",
      "top 5 fitness scores:  [0.4492614  0.68246555 0.7459298  1.         0.8380022 ]\n",
      "Taken time: 3.3703384399414062\n",
      "\n",
      "Running at iteration 4:\n",
      "top 5 fitness scores:  [0.4492614  0.68246555 0.7459298  1.         0.8380022 ]\n",
      "Taken time: 3.117377281188965\n",
      "\n",
      "Running at iteration 5:\n",
      "top 5 fitness scores:  [0.4492614  0.68246555 0.7459298  1.         0.8380022 ]\n",
      "Taken time: 3.488297939300537\n",
      "\n",
      "Running at iteration 6:\n",
      "top 5 fitness scores:  [0.4492614  0.68246555 0.7459298  1.         0.8380022 ]\n",
      "Taken time: 3.1036744117736816\n",
      "\n",
      "Running at iteration 7:\n",
      "top 5 fitness scores:  [0.4492614  0.68246555 0.7459298  1.         0.8380022 ]\n",
      "Taken time: 3.2814626693725586\n",
      "\n",
      "Running at iteration 8:\n",
      "top 5 fitness scores:  [0.4492614  0.68246555 0.7459298  1.         0.8380022 ]\n",
      "Taken time: 3.6075189113616943\n",
      "\n",
      "Running at iteration 9:\n",
      "top 5 fitness scores:  [0.4492614  0.68246555 0.7459298  1.         0.8380022 ]\n",
      "Taken time: 3.256831169128418\n",
      "\n",
      "Running at iteration 10:\n",
      "top 5 fitness scores:  [0.4492614  0.68246555 0.7459298  1.         0.8380022 ]\n",
      "Taken time: 3.448887348175049\n",
      "\n",
      "Total taken time: 35.091251611709595\n"
     ]
    },
    {
     "data": {
      "text/plain": [
       "[<matplotlib.lines.Line2D at 0x7fb50563d978>]"
      ]
     },
     "execution_count": 17,
     "metadata": {},
     "output_type": "execute_result"
    },
    {
     "data": {
      "image/png": "[encoded data removed]",
      "text/plain": [
       "<Figure size 432x288 with 1 Axes>"
      ]
     },
     "metadata": {
      "needs_background": "light"
     },
     "output_type": "display_data"
    }
   ],
   "source": [
    "F, fits = ga_main([\"nan\", [\"theano\"]], model, dataset, input_shape, init_input_mut, init_weight_mut, r1, r2, m, 10, db_flag, maxIter)\n",
    "plt.plot(fit_grad(fits))"
   ]
  },
  {
   "cell_type": "markdown",
   "metadata": {},
   "source": [
    "## Inconsistency Fitness Function for tensorflow and theano"
   ]
  },
  {
   "cell_type": "markdown",
   "metadata": {},
   "source": [
    "### Generate 10 crossover/mutated inputs in each iteration"
   ]
  },
  {
   "cell_type": "code",
   "execution_count": 16,
   "metadata": {},
   "outputs": [
    {
     "name": "stdout",
     "output_type": "stream",
     "text": [
      "Running at iteration 1:\n",
      "top 5 fitness scores:  [1.1898959e-13 3.0812326e-13 4.1744443e-13 4.9148565e-13 6.5926561e-13]\n",
      "Taken time: 4.772511005401611\n",
      "\n",
      "Running at iteration 2:\n",
      "top 5 fitness scores:  [1.1898959e-13 3.0812326e-13 4.1744443e-13 4.9148565e-13 6.5926561e-13]\n",
      "Taken time: 3.498953342437744\n",
      "\n",
      "Running at iteration 3:\n",
      "top 5 fitness scores:  [1.1898959e-13 3.0812326e-13 4.1744443e-13 4.9148565e-13 6.5926561e-13]\n",
      "Taken time: 3.5819592475891113\n",
      "\n",
      "Running at iteration 4:\n",
      "top 5 fitness scores:  [1.1898959e-13 3.0812326e-13 4.1744443e-13 4.9148565e-13 6.5926561e-13]\n",
      "Taken time: 3.5057461261749268\n",
      "\n",
      "Running at iteration 5:\n",
      "top 5 fitness scores:  [1.1898959e-13 3.0812326e-13 4.1744443e-13 4.9148565e-13 6.5926561e-13]\n",
      "Taken time: 3.775367021560669\n",
      "\n",
      "Running at iteration 6:\n",
      "top 5 fitness scores:  [1.1898959e-13 3.0812326e-13 4.1744443e-13 4.9148565e-13 6.5926561e-13]\n",
      "Taken time: 4.258542537689209\n",
      "\n",
      "Running at iteration 7:\n",
      "top 5 fitness scores:  [1.1898959e-13 3.0812326e-13 4.1744443e-13 4.9148565e-13 6.5926561e-13]\n",
      "Taken time: 3.9640488624572754\n",
      "\n",
      "Running at iteration 8:\n",
      "top 5 fitness scores:  [1.1898959e-13 3.0812326e-13 4.1744443e-13 4.9148565e-13 6.5926561e-13]\n",
      "Taken time: 3.5582332611083984\n",
      "\n",
      "Running at iteration 9:\n",
      "top 5 fitness scores:  [1.1898959e-13 3.0812326e-13 4.1744443e-13 4.9148565e-13 6.5926561e-13]\n",
      "Taken time: 3.8377127647399902\n",
      "\n",
      "Running at iteration 10:\n",
      "top 5 fitness scores:  [1.1898959e-13 3.0812326e-13 4.1744443e-13 4.9148565e-13 6.5926561e-13]\n",
      "Taken time: 3.794358253479004\n",
      "\n",
      "Total taken time: 38.560375690460205\n"
     ]
    },
    {
     "data": {
      "text/plain": [
       "[<matplotlib.lines.Line2D at 0x7f6410410828>]"
      ]
     },
     "execution_count": 16,
     "metadata": {},
     "output_type": "execute_result"
    },
    {
     "data": {
      "image/png": "[encoded data removed]",
      "text/plain": [
       "<Figure size 432x288 with 1 Axes>"
      ]
     },
     "metadata": {
      "needs_background": "light"
     },
     "output_type": "display_data"
    }
   ],
   "source": [
    "F, fits = ga_main([\"inc\", [\"tensorflow\", \"theano\"]], model, dataset, input_shape, init_input_mut, init_weight_mut, r1, r2, m, 10, db_flag, maxIter)\n",
    "plt.plot(fit_grad(fits))"
   ]
  },
  {
   "cell_type": "code",
   "execution_count": 19,
   "metadata": {},
   "outputs": [
    {
     "name": "stdout",
     "output_type": "stream",
     "text": [
      "Running at iteration 1:\n",
      "top 5 fitness scores:  [0.04 0.04 0.04 0.04 0.04]\n",
      "Taken time: 16.34067726135254\n",
      "\n",
      "Running at iteration 2:\n",
      "top 5 fitness scores:  [0.04 0.04 0.04 0.04 0.04]\n",
      "Taken time: 16.088501453399658\n",
      "\n",
      "Running at iteration 3:\n",
      "top 5 fitness scores:  [0.04 0.04 0.04 0.04 0.04]\n",
      "Taken time: 16.400437116622925\n",
      "\n",
      "Running at iteration 4:\n",
      "top 5 fitness scores:  [0.04 0.04 0.04 0.04 0.04]\n",
      "Taken time: 16.499932527542114\n",
      "\n",
      "Running at iteration 5:\n",
      "top 5 fitness scores:  [0.04 0.04 0.04 0.04 0.04]\n",
      "Taken time: 16.706597328186035\n",
      "\n",
      "Running at iteration 6:\n",
      "top 5 fitness scores:  [0.04 0.04 0.04 0.04 0.04]\n",
      "Taken time: 15.095474243164062\n",
      "\n",
      "Running at iteration 7:\n",
      "top 5 fitness scores:  [0.04 0.04 0.04 0.04 0.04]\n",
      "Taken time: 16.38049840927124\n",
      "\n",
      "Running at iteration 8:\n",
      "top 5 fitness scores:  [0.04 0.04 0.04 0.04 0.04]\n",
      "Taken time: 16.49544095993042\n",
      "\n",
      "Running at iteration 9:\n",
      "top 5 fitness scores:  [0.04 0.04 0.04 0.04 0.04]\n",
      "Taken time: 15.875294923782349\n",
      "\n",
      "Running at iteration 10:\n",
      "top 5 fitness scores:  [0.04 0.04 0.04 0.04 0.04]\n",
      "Taken time: 16.834311723709106\n",
      "\n",
      "Total taken time: 162.73010206222534\n"
     ]
    },
    {
     "data": {
      "text/plain": [
       "[<matplotlib.lines.Line2D at 0x7f93cbab32b0>]"
      ]
     },
     "execution_count": 19,
     "metadata": {},
     "output_type": "execute_result"
    },
    {
     "data": {
      "image/png": "[encoded data removed]",
      "text/plain": [
       "<Figure size 432x288 with 1 Axes>"
      ]
     },
     "metadata": {
      "needs_background": "light"
     },
     "output_type": "display_data"
    }
   ],
   "source": [
    "F, fits = ga_main([\"inc\", [\"tensorflow\", \"theano\"]], model, dataset, input_shape, init_input_mut, init_weight_mut, r1, r2, m, 50, db_flag, maxIter)\n",
    "plt.plot(fit_grad(fits))"
   ]
  },
  {
   "cell_type": "code",
   "execution_count": 129,
   "metadata": {},
   "outputs": [
    {
     "name": "stdout",
     "output_type": "stream",
     "text": [
      "Running at iteration 1:\n",
      "top 5 fitness scores:  [1.6200686e-14 3.9657835e-14 2.6196527e-14 5.8618685e-14 8.1470739e-14]\n",
      "Taken time: 71.98358821868896\n",
      "\n",
      "Running at iteration 2:\n",
      "top 5 fitness scores:  [2.9309342e-14 4.0735370e-14 4.2495175e-14 5.0441608e-14 4.8961625e-14]\n",
      "Taken time: 100.78629517555237\n",
      "\n",
      "Running at iteration 3:\n",
      "top 5 fitness scores:  [4.0735370e-14 4.2495175e-14 4.8961625e-14 5.0441608e-14 6.4379146e-14]\n",
      "Taken time: 99.76256775856018\n",
      "\n",
      "Running at iteration 4:\n",
      "top 5 fitness scores:  [4.0735370e-14 4.2495175e-14 5.0441608e-14 4.8961625e-14 6.4379146e-14]\n",
      "Taken time: 98.85493493080139\n",
      "\n",
      "Running at iteration 5:\n",
      "top 5 fitness scores:  [4.0735370e-14 4.2495175e-14 4.8961625e-14 5.0441608e-14 6.4379146e-14]\n",
      "Taken time: 94.83056020736694\n",
      "\n",
      "Running at iteration 6:\n",
      "top 5 fitness scores:  [4.2495175e-14 4.8961625e-14 5.0441608e-14 5.7824520e-14 6.4379146e-14]\n",
      "Taken time: 101.57380533218384\n",
      "\n",
      "Running at iteration 7:\n",
      "top 5 fitness scores:  [4.3925523e-14 4.8961625e-14 6.4379146e-14 5.0441608e-14 5.7824520e-14]\n",
      "Taken time: 99.08502626419067\n",
      "\n",
      "Running at iteration 8:\n",
      "top 5 fitness scores:  [4.8961625e-14 5.0441608e-14 5.7824520e-14 6.4379146e-14 5.3949795e-14]\n",
      "Taken time: 95.29823017120361\n",
      "\n",
      "Running at iteration 9:\n",
      "top 5 fitness scores:  [5.0441608e-14 5.1440497e-14 5.3949795e-14 6.4379146e-14 5.7824520e-14]\n",
      "Taken time: 97.91556191444397\n",
      "\n",
      "Running at iteration 10:\n",
      "top 5 fitness scores:  [5.1440497e-14 5.3949795e-14 6.4379146e-14 8.3537744e-14 5.7824520e-14]\n",
      "Taken time: 97.8402349948883\n",
      "\n",
      "Total taken time: 957.9437441825867\n"
     ]
    },
    {
     "data": {
      "text/plain": [
       "[<matplotlib.lines.Line2D at 0x7f7c641fe8d0>]"
      ]
     },
     "execution_count": 129,
     "metadata": {},
     "output_type": "execute_result"
    },
    {
     "data": {
      "image/png": "[encoded data removed]",
      "text/plain": [
       "<Figure size 432x288 with 1 Axes>"
      ]
     },
     "metadata": {
      "needs_background": "light"
     },
     "output_type": "display_data"
    }
   ],
   "source": [
    "F, fits = ga_main([\"inc\", [\"tensorflow\", \"theano\"]], model, dataset, input_shape, init_input_mut, init_weight_mut, r1, r2, m, 100, db_flag, maxIter)\n",
    "plt.plot(fit_grad(fits))"
   ]
  },
  {
   "cell_type": "code",
   "execution_count": 130,
   "metadata": {},
   "outputs": [
    {
     "name": "stdout",
     "output_type": "stream",
     "text": [
      "Running at iteration 1:\n",
      "top 5 fitness scores:  [2.5402369e-14 3.1524649e-14 3.5576868e-14 4.7763053e-14 6.8324865e-13]\n",
      "Taken time: 46.45337152481079\n",
      "\n",
      "Running at iteration 2:\n",
      "top 5 fitness scores:  [4.2862581e-14 4.7763053e-14 5.2967376e-14 5.8846611e-14 6.8324865e-13]\n",
      "Taken time: 46.070324659347534\n",
      "\n",
      "Running at iteration 3:\n",
      "top 5 fitness scores:  [4.7763053e-14 5.2967376e-14 5.8846611e-14 1.1624187e-13 6.8324865e-13]\n",
      "Taken time: 46.44286847114563\n",
      "\n",
      "Running at iteration 4:\n",
      "top 5 fitness scores:  [5.2967376e-14 5.6874007e-14 5.8846611e-14 1.1624187e-13 6.8324865e-13]\n",
      "Taken time: 46.232664346694946\n",
      "\n",
      "Running at iteration 5:\n",
      "top 5 fitness scores:  [5.2967376e-14 5.6874007e-14 1.1624187e-13 5.8846611e-14 6.8324865e-13]\n",
      "Taken time: 49.53388714790344\n",
      "\n",
      "Running at iteration 6:\n",
      "top 5 fitness scores:  [5.6874007e-14 5.8846611e-14 6.9829078e-14 1.1624187e-13 6.8324865e-13]\n",
      "Taken time: 46.7274956703186\n",
      "\n",
      "Running at iteration 7:\n",
      "top 5 fitness scores:  [6.0671425e-14 6.9829078e-14 1.1624187e-13 4.5658984e-13 6.8324865e-13]\n",
      "Taken time: 47.4188117980957\n",
      "\n",
      "Running at iteration 8:\n",
      "top 5 fitness scores:  [6.9829078e-14 1.1624187e-13 1.1850793e-13 4.5658984e-13 6.8324865e-13]\n",
      "Taken time: 46.628135681152344\n",
      "\n",
      "Running at iteration 9:\n",
      "top 5 fitness scores:  [7.5853982e-14 1.1624187e-13 4.5658984e-13 1.1850793e-13 6.8324865e-13]\n",
      "Taken time: 47.05642771720886\n",
      "\n",
      "Running at iteration 10:\n",
      "top 5 fitness scores:  [8.5843266e-14 1.1624187e-13 1.1850793e-13 4.5658984e-13 6.8324865e-13]\n",
      "Taken time: 46.02814030647278\n",
      "\n",
      "Running at iteration 11:\n",
      "top 5 fitness scores:  [1.1624187e-13 1.1850793e-13 4.5658984e-13 1.7836935e-13 6.8324865e-13]\n",
      "Taken time: 48.728557109832764\n",
      "\n",
      "Running at iteration 12:\n",
      "top 5 fitness scores:  [1.5832030e-13 1.7836935e-13 1.9332897e-13 4.5658984e-13 6.8324865e-13]\n",
      "Taken time: 48.359548807144165\n",
      "\n",
      "Running at iteration 13:\n",
      "top 5 fitness scores:  [1.5832030e-13 1.7836935e-13 4.5658984e-13 1.9332897e-13 6.8324865e-13]\n",
      "Taken time: 48.07199287414551\n",
      "\n",
      "Running at iteration 14:\n",
      "top 5 fitness scores:  [1.5832030e-13 1.7836935e-13 1.9332897e-13 4.5658984e-13 6.8324865e-13]\n",
      "Taken time: 45.60679769515991\n",
      "\n",
      "Running at iteration 15:\n",
      "top 5 fitness scores:  [1.5832030e-13 1.7836935e-13 4.5658984e-13 1.9332897e-13 6.8324865e-13]\n",
      "Taken time: 48.62791848182678\n",
      "\n",
      "Running at iteration 16:\n",
      "top 5 fitness scores:  [1.7836935e-13 1.9311741e-13 1.9332897e-13 4.5658984e-13 6.8324865e-13]\n",
      "Taken time: 47.04727363586426\n",
      "\n",
      "Running at iteration 17:\n",
      "top 5 fitness scores:  [1.9311741e-13 1.9332897e-13 3.6749531e-13 4.5658984e-13 6.8324865e-13]\n",
      "Taken time: 49.448373317718506\n",
      "\n",
      "Running at iteration 18:\n",
      "top 5 fitness scores:  [1.9311741e-13 1.9332897e-13 4.5658984e-13 3.6749531e-13 6.8324865e-13]\n",
      "Taken time: 47.736034631729126\n",
      "\n",
      "Running at iteration 19:\n",
      "top 5 fitness scores:  [1.9311741e-13 1.9332897e-13 3.6749531e-13 4.5658984e-13 6.8324865e-13]\n",
      "Taken time: 48.48012590408325\n",
      "\n",
      "Running at iteration 20:\n",
      "top 5 fitness scores:  [1.9311741e-13 1.9332897e-13 4.5658984e-13 3.6749531e-13 6.8324865e-13]\n",
      "Taken time: 46.94445872306824\n",
      "\n",
      "Running at iteration 21:\n",
      "top 5 fitness scores:  [1.9332897e-13 2.1951741e-13 3.6749531e-13 4.5658984e-13 6.8324865e-13]\n",
      "Taken time: 45.94420790672302\n",
      "\n",
      "Running at iteration 22:\n",
      "top 5 fitness scores:  [1.9332897e-13 2.1951741e-13 4.5658984e-13 3.6749531e-13 6.8324865e-13]\n",
      "Taken time: 46.341294050216675\n",
      "\n",
      "Running at iteration 23:\n",
      "top 5 fitness scores:  [2.0144907e-13 2.1951741e-13 3.6749531e-13 4.5658984e-13 6.8324865e-13]\n",
      "Taken time: 48.09142518043518\n",
      "\n",
      "Running at iteration 24:\n",
      "top 5 fitness scores:  [2.0144907e-13 2.1951741e-13 4.5658984e-13 3.6749531e-13 6.8324865e-13]\n",
      "Taken time: 47.24152398109436\n",
      "\n",
      "Running at iteration 25:\n",
      "top 5 fitness scores:  [2.0144907e-13 2.1951741e-13 3.6749531e-13 4.5658984e-13 6.8324865e-13]\n",
      "Taken time: 46.87442994117737\n",
      "\n",
      "Running at iteration 26:\n",
      "top 5 fitness scores:  [2.0144907e-13 2.1951741e-13 4.5658984e-13 3.6749531e-13 6.8324865e-13]\n",
      "Taken time: 47.56358885765076\n",
      "\n",
      "Running at iteration 27:\n",
      "top 5 fitness scores:  [2.5991234e-13 3.6749531e-13 4.2497966e-13 4.5658984e-13 6.8324865e-13]\n",
      "Taken time: 48.92520833015442\n",
      "\n",
      "Running at iteration 28:\n",
      "top 5 fitness scores:  [2.5991234e-13 3.6749531e-13 4.5658984e-13 4.2497966e-13 6.8324865e-13]\n",
      "Taken time: 48.856717348098755\n",
      "\n",
      "Running at iteration 29:\n",
      "top 5 fitness scores:  [2.5991234e-13 3.6749531e-13 4.2497966e-13 4.5658984e-13 6.8324865e-13]\n",
      "Taken time: 48.30618906021118\n",
      "\n",
      "Running at iteration 30:\n",
      "top 5 fitness scores:  [2.5991234e-13 3.6749531e-13 4.5658984e-13 4.2497966e-13 6.8324865e-13]\n",
      "Taken time: 48.26868677139282\n",
      "\n",
      "Running at iteration 31:\n",
      "top 5 fitness scores:  [2.5991234e-13 3.6749531e-13 4.2497966e-13 4.5658984e-13 6.8324865e-13]\n",
      "Taken time: 46.3473904132843\n",
      "\n",
      "Running at iteration 32:\n",
      "top 5 fitness scores:  [2.5991234e-13 3.6749531e-13 4.5658984e-13 4.2497966e-13 6.8324865e-13]\n",
      "Taken time: 47.3177649974823\n",
      "\n",
      "Running at iteration 33:\n",
      "top 5 fitness scores:  [2.5991234e-13 3.6749531e-13 4.2497966e-13 4.5658984e-13 6.8324865e-13]\n",
      "Taken time: 48.38193869590759\n",
      "\n",
      "Running at iteration 34:\n",
      "top 5 fitness scores:  [2.5991234e-13 3.6749531e-13 4.5658984e-13 4.2497966e-13 6.8324865e-13]\n",
      "Taken time: 47.04147171974182\n",
      "\n",
      "Running at iteration 35:\n",
      "top 5 fitness scores:  [2.5991234e-13 3.6749531e-13 4.2497966e-13 4.5658984e-13 6.8324865e-13]\n",
      "Taken time: 49.273348569869995\n",
      "\n",
      "Running at iteration 36:\n",
      "top 5 fitness scores:  [2.5991234e-13 3.6749531e-13 4.5658984e-13 4.2497966e-13 6.8324865e-13]\n",
      "Taken time: 47.62408518791199\n",
      "\n",
      "Running at iteration 37:\n",
      "top 5 fitness scores:  [2.5991234e-13 3.6749531e-13 4.2497966e-13 4.5658984e-13 6.8324865e-13]\n",
      "Taken time: 46.93534851074219\n",
      "\n",
      "Running at iteration 38:\n",
      "top 5 fitness scores:  [2.5991234e-13 3.6749531e-13 4.5658984e-13 4.2497966e-13 6.8324865e-13]\n",
      "Taken time: 47.73787593841553\n",
      "\n",
      "Running at iteration 39:\n",
      "top 5 fitness scores:  [2.5991234e-13 3.6749531e-13 4.2497966e-13 4.5658984e-13 6.8324865e-13]\n",
      "Taken time: 51.841111183166504\n",
      "\n",
      "Running at iteration 40:\n",
      "top 5 fitness scores:  [2.5991234e-13 3.6749531e-13 4.5658984e-13 4.2497966e-13 6.8324865e-13]\n",
      "Taken time: 47.71719813346863\n",
      "\n",
      "Running at iteration 41:\n",
      "top 5 fitness scores:  [2.5991234e-13 3.6749531e-13 4.2497966e-13 4.5658984e-13 6.8324865e-13]\n",
      "Taken time: 46.99624824523926\n",
      "\n",
      "Running at iteration 42:\n",
      "top 5 fitness scores:  [3.4576053e-13 3.6749531e-13 4.2497966e-13 4.5658984e-13 6.8324865e-13]\n",
      "Taken time: 46.641562700271606\n",
      "\n",
      "Running at iteration 43:\n",
      "top 5 fitness scores:  [3.4576053e-13 3.6749531e-13 4.5658984e-13 4.2497966e-13 6.8324865e-13]\n",
      "Taken time: 49.017159938812256\n",
      "\n",
      "Running at iteration 44:\n",
      "top 5 fitness scores:  [3.4576053e-13 3.6749531e-13 4.2497966e-13 4.5658984e-13 6.8324865e-13]\n",
      "Taken time: 47.85720682144165\n",
      "\n",
      "Running at iteration 45:\n",
      "top 5 fitness scores:  [3.4576053e-13 3.6749531e-13 4.5658984e-13 4.2497966e-13 6.8324865e-13]\n",
      "Taken time: 46.990320444107056\n",
      "\n",
      "Running at iteration 46:\n",
      "top 5 fitness scores:  [3.4576053e-13 3.6749531e-13 4.2497966e-13 4.5658984e-13 6.8324865e-13]\n",
      "Taken time: 47.52027225494385\n",
      "\n",
      "Running at iteration 47:\n",
      "top 5 fitness scores:  [3.6749531e-13 3.9300133e-13 4.5658984e-13 4.2497966e-13 6.8324865e-13]\n",
      "Taken time: 47.19401240348816\n",
      "\n",
      "Running at iteration 48:\n",
      "top 5 fitness scores:  [3.6749531e-13 3.9300133e-13 4.2497966e-13 4.5658984e-13 6.8324865e-13]\n",
      "Taken time: 47.11418080329895\n",
      "\n",
      "Running at iteration 49:\n",
      "top 5 fitness scores:  [3.9300133e-13 4.0676758e-13 4.2497966e-13 4.5658984e-13 6.8324865e-13]\n",
      "Taken time: 47.251243114471436\n",
      "\n",
      "Running at iteration 50:\n",
      "top 5 fitness scores:  [3.9300133e-13 4.0676758e-13 4.5658984e-13 4.2497966e-13 6.8324865e-13]\n",
      "Taken time: 48.01890516281128\n",
      "\n",
      "Running at iteration 51:\n",
      "top 5 fitness scores:  [3.9300133e-13 4.0676758e-13 4.2497966e-13 4.5658984e-13 6.8324865e-13]\n",
      "Taken time: 49.817448139190674\n",
      "\n",
      "Running at iteration 52:\n",
      "top 5 fitness scores:  [3.9300133e-13 4.0676758e-13 4.5658984e-13 4.2497966e-13 6.8324865e-13]\n",
      "Taken time: 48.121551275253296\n",
      "\n",
      "Running at iteration 53:\n",
      "top 5 fitness scores:  [3.9300133e-13 4.0676758e-13 4.2497966e-13 4.5658984e-13 6.8324865e-13]\n",
      "Taken time: 53.60354018211365\n",
      "\n",
      "Running at iteration 54:\n",
      "top 5 fitness scores:  [3.9300133e-13 4.0676758e-13 4.5658984e-13 4.2497966e-13 6.8324865e-13]\n",
      "Taken time: 48.46495294570923\n",
      "\n",
      "Running at iteration 55:\n",
      "top 5 fitness scores:  [3.9300133e-13 4.0676758e-13 4.2497966e-13 4.5658984e-13 6.8324865e-13]\n",
      "Taken time: 46.731669664382935\n",
      "\n",
      "Running at iteration 56:\n"
     ]
    },
    {
     "name": "stdout",
     "output_type": "stream",
     "text": [
      "top 5 fitness scores:  [3.9300133e-13 4.0676758e-13 4.5658984e-13 4.2497966e-13 6.8324865e-13]\n",
      "Taken time: 47.48494362831116\n",
      "\n",
      "Running at iteration 57:\n",
      "top 5 fitness scores:  [3.9300133e-13 4.0676758e-13 4.2497966e-13 4.5658984e-13 6.8324865e-13]\n",
      "Taken time: 46.990445613861084\n",
      "\n",
      "Running at iteration 58:\n",
      "top 5 fitness scores:  [3.9300133e-13 4.0676758e-13 4.5658984e-13 4.2497966e-13 6.8324865e-13]\n",
      "Taken time: 46.53729224205017\n",
      "\n",
      "Running at iteration 59:\n",
      "top 5 fitness scores:  [3.9300133e-13 4.0676758e-13 4.2497966e-13 4.5658984e-13 6.8324865e-13]\n",
      "Taken time: 47.12037205696106\n",
      "\n",
      "Running at iteration 60:\n",
      "top 5 fitness scores:  [3.9300133e-13 4.0676758e-13 4.5658984e-13 4.2497966e-13 6.8324865e-13]\n",
      "Taken time: 46.52315068244934\n",
      "\n",
      "Running at iteration 61:\n",
      "top 5 fitness scores:  [3.9300133e-13 4.0676758e-13 4.2497966e-13 4.5658984e-13 6.8324865e-13]\n",
      "Taken time: 47.230626583099365\n",
      "\n",
      "Running at iteration 62:\n",
      "top 5 fitness scores:  [3.9300133e-13 4.0676758e-13 4.5658984e-13 4.2497966e-13 6.8324865e-13]\n",
      "Taken time: 48.65407466888428\n",
      "\n",
      "Running at iteration 63:\n",
      "top 5 fitness scores:  [3.9300133e-13 4.0676758e-13 4.2497966e-13 4.5658984e-13 6.8324865e-13]\n",
      "Taken time: 47.704755783081055\n",
      "\n",
      "Running at iteration 64:\n",
      "top 5 fitness scores:  [3.9300133e-13 4.0676758e-13 4.5658984e-13 4.2497966e-13 6.8324865e-13]\n",
      "Taken time: 45.68100595474243\n",
      "\n",
      "Running at iteration 65:\n",
      "top 5 fitness scores:  [3.9300133e-13 4.0676758e-13 4.2497966e-13 4.5658984e-13 6.8324865e-13]\n",
      "Taken time: 47.00901699066162\n",
      "\n",
      "Running at iteration 66:\n",
      "top 5 fitness scores:  [3.9300133e-13 4.0676758e-13 4.5658984e-13 4.2497966e-13 6.8324865e-13]\n",
      "Taken time: 46.337276458740234\n",
      "\n",
      "Running at iteration 67:\n",
      "top 5 fitness scores:  [3.9300133e-13 4.0676758e-13 4.2497966e-13 4.5658984e-13 6.8324865e-13]\n",
      "Taken time: 48.25645971298218\n",
      "\n",
      "Running at iteration 68:\n",
      "top 5 fitness scores:  [3.9300133e-13 4.0676758e-13 4.5658984e-13 4.2497966e-13 6.8324865e-13]\n",
      "Taken time: 46.684887647628784\n",
      "\n",
      "Running at iteration 69:\n",
      "top 5 fitness scores:  [3.9300133e-13 4.0676758e-13 4.2497966e-13 4.5658984e-13 6.8324865e-13]\n",
      "Taken time: 46.731870889663696\n",
      "\n",
      "Running at iteration 70:\n",
      "top 5 fitness scores:  [3.9300133e-13 4.0676758e-13 4.5658984e-13 4.2497966e-13 6.8324865e-13]\n",
      "Taken time: 47.85391449928284\n",
      "\n",
      "Running at iteration 71:\n",
      "top 5 fitness scores:  [3.9300133e-13 4.0676758e-13 4.2497966e-13 4.5658984e-13 6.8324865e-13]\n",
      "Taken time: 46.78920769691467\n",
      "\n",
      "Running at iteration 72:\n",
      "top 5 fitness scores:  [3.9300133e-13 4.0676758e-13 4.5658984e-13 4.2497966e-13 6.8324865e-13]\n",
      "Taken time: 47.638421058654785\n",
      "\n",
      "Running at iteration 73:\n",
      "top 5 fitness scores:  [3.9300133e-13 4.0676758e-13 4.2497966e-13 4.5658984e-13 6.8324865e-13]\n",
      "Taken time: 46.96468448638916\n",
      "\n",
      "Running at iteration 74:\n",
      "top 5 fitness scores:  [4.0676758e-13 4.2497966e-13 4.5658984e-13 7.0440821e-13 6.8324865e-13]\n",
      "Taken time: 47.95451903343201\n",
      "\n",
      "Running at iteration 75:\n",
      "top 5 fitness scores:  [4.0676758e-13 4.2497966e-13 7.0440821e-13 4.5658984e-13 6.8324865e-13]\n",
      "Taken time: 47.920212507247925\n",
      "\n",
      "Running at iteration 76:\n",
      "top 5 fitness scores:  [4.0676758e-13 4.2497966e-13 4.5658984e-13 7.0440821e-13 6.8324865e-13]\n",
      "Taken time: 49.33436417579651\n",
      "\n",
      "Running at iteration 77:\n",
      "top 5 fitness scores:  [4.0676758e-13 4.2497966e-13 7.0440821e-13 4.5658984e-13 6.8324865e-13]\n",
      "Taken time: 47.51665472984314\n",
      "\n",
      "Running at iteration 78:\n",
      "top 5 fitness scores:  [4.0676758e-13 4.2497966e-13 4.5658984e-13 7.0440821e-13 6.8324865e-13]\n",
      "Taken time: 47.28759431838989\n",
      "\n",
      "Running at iteration 79:\n",
      "top 5 fitness scores:  [4.0676758e-13 4.2497966e-13 7.0440821e-13 4.5658984e-13 6.8324865e-13]\n",
      "Taken time: 48.16720247268677\n",
      "\n",
      "Running at iteration 80:\n",
      "top 5 fitness scores:  [4.2199924e-13 4.2497966e-13 4.5658984e-13 7.0440821e-13 6.8324865e-13]\n",
      "Taken time: 48.527528285980225\n",
      "\n",
      "Running at iteration 81:\n",
      "top 5 fitness scores:  [4.2199924e-13 4.2497966e-13 7.0440821e-13 4.5658984e-13 6.8324865e-13]\n",
      "Taken time: 49.62276649475098\n",
      "\n",
      "Running at iteration 82:\n",
      "top 5 fitness scores:  [4.2199924e-13 4.2497966e-13 4.5658984e-13 7.0440821e-13 6.8324865e-13]\n",
      "Taken time: 48.1539421081543\n",
      "\n",
      "Running at iteration 83:\n",
      "top 5 fitness scores:  [4.2199924e-13 4.2497966e-13 7.0440821e-13 4.5658984e-13 6.8324865e-13]\n",
      "Taken time: 47.24035382270813\n",
      "\n",
      "Running at iteration 84:\n",
      "top 5 fitness scores:  [4.2199924e-13 4.2497966e-13 4.5658984e-13 7.0440821e-13 6.8324865e-13]\n",
      "Taken time: 48.05044221878052\n",
      "\n",
      "Running at iteration 85:\n",
      "top 5 fitness scores:  [4.2199924e-13 4.2497966e-13 7.0440821e-13 4.5658984e-13 6.8324865e-13]\n",
      "Taken time: 47.978604793548584\n",
      "\n",
      "Running at iteration 86:\n",
      "top 5 fitness scores:  [4.2199924e-13 4.2497966e-13 4.5658984e-13 7.0440821e-13 6.8324865e-13]\n",
      "Taken time: 45.74703001976013\n",
      "\n",
      "Running at iteration 87:\n",
      "top 5 fitness scores:  [4.2199924e-13 4.2497966e-13 7.0440821e-13 4.5658984e-13 6.8324865e-13]\n",
      "Taken time: 45.31741213798523\n",
      "\n",
      "Running at iteration 88:\n",
      "top 5 fitness scores:  [4.2199924e-13 4.2497966e-13 4.5658984e-13 7.0440821e-13 6.8324865e-13]\n",
      "Taken time: 47.69463753700256\n",
      "\n",
      "Running at iteration 89:\n",
      "top 5 fitness scores:  [4.2199924e-13 4.2497966e-13 7.0440821e-13 4.5658984e-13 6.8324865e-13]\n",
      "Taken time: 47.643940687179565\n",
      "\n",
      "Running at iteration 90:\n",
      "top 5 fitness scores:  [4.2199924e-13 4.2497966e-13 4.5658984e-13 7.0440821e-13 6.8324865e-13]\n",
      "Taken time: 46.62739562988281\n",
      "\n",
      "Running at iteration 91:\n",
      "top 5 fitness scores:  [4.2199924e-13 4.2497966e-13 7.0440821e-13 4.5658984e-13 6.8324865e-13]\n",
      "Taken time: 47.2074830532074\n",
      "\n",
      "Running at iteration 92:\n",
      "top 5 fitness scores:  [4.2199924e-13 4.2497966e-13 4.5658984e-13 7.0440821e-13 6.8324865e-13]\n",
      "Taken time: 45.88852024078369\n",
      "\n",
      "Running at iteration 93:\n",
      "top 5 fitness scores:  [4.2199924e-13 4.2497966e-13 7.0440821e-13 4.5658984e-13 6.8324865e-13]\n",
      "Taken time: 45.642422676086426\n",
      "\n",
      "Running at iteration 94:\n",
      "top 5 fitness scores:  [4.2199924e-13 4.2497966e-13 4.5658984e-13 7.0440821e-13 6.8324865e-13]\n",
      "Taken time: 46.77275347709656\n",
      "\n",
      "Running at iteration 95:\n",
      "top 5 fitness scores:  [4.2199924e-13 4.2497966e-13 7.0440821e-13 4.5658984e-13 6.8324865e-13]\n",
      "Taken time: 46.79163599014282\n",
      "\n",
      "Running at iteration 96:\n",
      "top 5 fitness scores:  [4.2199924e-13 4.2497966e-13 4.5658984e-13 7.0440821e-13 6.8324865e-13]\n",
      "Taken time: 47.39858365058899\n",
      "\n",
      "Running at iteration 97:\n",
      "top 5 fitness scores:  [4.2199924e-13 4.2497966e-13 7.0440821e-13 4.5658984e-13 6.8324865e-13]\n",
      "Taken time: 48.10305094718933\n",
      "\n",
      "Running at iteration 98:\n",
      "top 5 fitness scores:  [4.2199924e-13 4.2497966e-13 4.5658984e-13 7.0440821e-13 6.8324865e-13]\n",
      "Taken time: 47.97210717201233\n",
      "\n",
      "Running at iteration 99:\n",
      "top 5 fitness scores:  [4.2199924e-13 4.2497966e-13 7.0440821e-13 4.5658984e-13 6.8324865e-13]\n",
      "Taken time: 46.385501861572266\n",
      "\n",
      "Running at iteration 100:\n",
      "top 5 fitness scores:  [4.2199924e-13 4.2497966e-13 4.5658984e-13 7.0440821e-13 6.8324865e-13]\n",
      "Taken time: 46.22920036315918\n",
      "\n",
      "Total taken time: 4753.126095533371\n"
     ]
    },
    {
     "data": {
      "text/plain": [
       "[<matplotlib.lines.Line2D at 0x7f7c64172ef0>]"
      ]
     },
     "execution_count": 130,
     "metadata": {},
     "output_type": "execute_result"
    },
    {
     "data": {
      "image/png": "[encoded data removed]",
      "text/plain": [
       "<Figure size 432x288 with 1 Axes>"
      ]
     },
     "metadata": {
      "needs_background": "light"
     },
     "output_type": "display_data"
    }
   ],
   "source": [
    "F, fits = ga_main([\"inc\", [\"tensorflow\", \"theano\"]], model, dataset, input_shape, init_input_mut, init_weight_mut, r1, r2, m, 10, db_flag, 100)\n",
    "plt.plot(fit_grad(fits))"
   ]
  },
  {
   "cell_type": "code",
   "execution_count": 18,
   "metadata": {},
   "outputs": [
    {
     "data": {
      "text/plain": [
       "<matplotlib.image.AxesImage at 0x7fb50550f6d8>"
      ]
     },
     "execution_count": 18,
     "metadata": {},
     "output_type": "execute_result"
    },
    {
     "data": {
      "image/png": "[encoded data removed]",
      "text/plain": [
       "<Figure size 432x288 with 6 Axes>"
      ]
     },
     "metadata": {
      "needs_background": "light"
     },
     "output_type": "display_data"
    }
   ],
   "source": [
    "last_images = fits[-1][0]\n",
    "f, axarr = plt.subplots(3,2)\n",
    "axarr[0,0].imshow(last_images[0])\n",
    "axarr[0,1].imshow(last_images[1])\n",
    "axarr[1,0].imshow(last_images[2])\n",
    "axarr[1,1].imshow(last_images[3])\n",
    "axarr[2,0].imshow(last_images[4])\n"
   ]
  },
  {
   "cell_type": "code",
   "execution_count": 1,
   "metadata": {},
   "outputs": [
    {
     "ename": "NameError",
     "evalue": "name 'fits' is not defined",
     "output_type": "error",
     "traceback": [
      "\u001b[0;31m---------------------------------------------------------------------------\u001b[0m",
      "\u001b[0;31mNameError\u001b[0m                                 Traceback (most recent call last)",
      "\u001b[0;32m<ipython-input-1-4650921341a0>\u001b[0m in \u001b[0;36m<module>\u001b[0;34m\u001b[0m\n\u001b[0;32m----> 1\u001b[0;31m \u001b[0mfits\u001b[0m\u001b[0;34m\u001b[0m\u001b[0;34m\u001b[0m\u001b[0m\n\u001b[0m",
      "\u001b[0;31mNameError\u001b[0m: name 'fits' is not defined"
     ]
    }
   ],
   "source": [
    "fits"
   ]
  },
  {
   "cell_type": "markdown",
   "metadata": {},
   "source": [
    "## ToDo\n",
    "1. Implement Fitness Function as an Abstract Base Class\n",
    "2. Replace keras by the corresponding backend DL frameworks library\n",
    "    \n",
    "    2.1. Convert models of any format to ONNX\n",
    "    \n",
    "    2.2. Write scripts specific to the called DL framework libary\n",
    "\n",
    "\n",
    "3. NaN fitness: Try using layers other than last layer to compute fitness\n",
    "\n",
    "    3.1. Reshape dimensions of the intermediate layer outputs"
   ]
  }
 ],
 "metadata": {
  "interpreter": {
   "hash": "fdb5c6f5eaa2a17ed3afdcccdfa066a85023e220ece0c7237533a765dc216f79"
  },
  "kernelspec": {
   "display_name": "tf_th",
   "language": "python",
   "name": "tf_th"
  },
  "language_info": {
   "codemirror_mode": {
    "name": "ipython",
    "version": 3
   },
   "file_extension": ".py",
   "mimetype": "text/x-python",
   "name": "python",
   "nbconvert_exporter": "python",
   "pygments_lexer": "ipython3",
   "version": "3.6.13"
  }
 },
 "nbformat": 4,
 "nbformat_minor": 2
}
