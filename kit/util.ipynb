{
 "cells": [
  {
   "cell_type": "code",
   "execution_count": 1,
   "id": "8ed393d6",
   "metadata": {},
   "outputs": [],
   "source": [
    "import keras\n",
    "import coverage"
   ]
  },
  {
   "cell_type": "code",
   "execution_count": null,
   "id": "630526a8",
   "metadata": {},
   "outputs": [],
   "source": [
    "def calc_coverage(model, test_data, file_name):\n",
    "    cov = coverage.Coverage()\n",
    "    cov.start()\n",
    "    \n",
    "    predictions = model.predict(x_train)\n",
    "    cov.stop()\n",
    "\n",
    "    f = open(file_name, 'w')\n",
    "    \n",
    "    return cov.report(file=f)"
   ]
  }
 ],
 "metadata": {
  "kernelspec": {
   "display_name": "Python 3 (ipykernel)",
   "language": "python",
   "name": "python3"
  },
  "language_info": {
   "codemirror_mode": {
    "name": "ipython",
    "version": 3
   },
   "file_extension": ".py",
   "mimetype": "text/x-python",
   "name": "python",
   "nbconvert_exporter": "python",
   "pygments_lexer": "ipython3",
   "version": "3.9.5"
  }
 },
 "nbformat": 4,
 "nbformat_minor": 5
}
