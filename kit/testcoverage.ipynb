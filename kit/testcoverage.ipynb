{
 "cells": [
  {
   "cell_type": "code",
   "execution_count": 1,
   "metadata": {},
   "outputs": [
    {
     "name": "stdout",
     "output_type": "stream",
     "text": [
      "WARNING:tensorflow:No training configuration found in the save file, so the model was *not* compiled. Compile it manually.\n"
     ]
    }
   ],
   "source": [
    "import tensorflow as tf\n",
    "import Util\n",
    "\n",
    "# load model\n",
    "model = tf.keras.models.load_model('./alexnet-cifar10_origin.h5')\n",
    "\n",
    "# load datasets\n",
    "(x_train, y_train), (x_test, y_test) = tf.keras.datasets.cifar10.load_data()"
   ]
  },
  {
   "cell_type": "code",
   "execution_count": 2,
   "metadata": {},
   "outputs": [
    {
     "name": "stderr",
     "output_type": "stream",
     "text": [
      "C:\\Users\\MY-PC\\AppData\\Local\\Programs\\Python\\Python39\\Lib\\site-packages\\tensorflow\\python\\keras\\benchmarks\\benchmark_util.py:142: SyntaxWarning: \"is\" with a literal. Did you mean \"==\"?\n",
      "  if 'x' is None:\n",
      "C:\\Users\\MY-PC\\AppData\\Local\\Programs\\Python\\Python39\\Lib\\site-packages\\tensorflow\\python\\keras\\benchmarks\\benchmark_util.py:144: SyntaxWarning: \"is\" with a literal. Did you mean \"==\"?\n",
      "  if 'optimizer' is None:\n",
      "C:\\Users\\MY-PC\\AppData\\Local\\Programs\\Python\\Python39\\Lib\\site-packages\\tensorflow\\python\\keras\\benchmarks\\benchmark_util.py:146: SyntaxWarning: \"is\" with a literal. Did you mean \"==\"?\n",
      "  if 'loss' is None:\n"
     ]
    },
    {
     "name": "stdout",
     "output_type": "stream",
     "text": [
      "2.254729891092149\n"
     ]
    }
   ],
   "source": [
    "print(Util.calc_coverage(model, x_test, 'testinga.txt'))"
   ]
  }
 ],
 "metadata": {
  "interpreter": {
   "hash": "9c812dd9e272201a7cac69949a7b9e86747a3b9f49865db1c2d0f251b987beef"
  },
  "kernelspec": {
   "display_name": "Python 3 (ipykernel)",
   "language": "python",
   "name": "python3"
  },
  "language_info": {
   "codemirror_mode": {
    "name": "ipython",
    "version": 3
   },
   "file_extension": ".py",
   "mimetype": "text/x-python",
   "name": "python",
   "nbconvert_exporter": "python",
   "pygments_lexer": "ipython3",
   "version": "3.9.5"
  }
 },
 "nbformat": 4,
 "nbformat_minor": 2
}
